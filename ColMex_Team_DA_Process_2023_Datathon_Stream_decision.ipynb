{
 "cells": [
  {
   "cell_type": "markdown",
   "metadata": {},
   "source": [
    "*8.4.2023*"
   ]
  },
  {
   "cell_type": "markdown",
   "metadata": {},
   "source": [
    "<h1 style=\"background-color:orange;\"></h1>"
   ]
  },
  {
   "cell_type": "markdown",
   "metadata": {},
   "source": [
    "<h1 style='text-align: center;'> ColMex Team Datathon 2023 </h1>\n",
    "\n",
    "<h3 style='text-align: center;'> <i>Streaming data made us decide to change from Software into Musical Instruments Category </i> </h3>\n",
    "\n",
    "<h5 style='text-align: center;'> <i>Our data journey</i> </h5>\n"
   ]
  },
  {
   "cell_type": "markdown",
   "metadata": {},
   "source": [
    "<h1 style=\"background-color:orange;\"></h1>"
   ]
  },
  {
   "cell_type": "markdown",
   "metadata": {},
   "source": [
    "<div style=\"background-color:LightGray;\"><p style='text-align: center;'><align = center>Participants: <i>Jose Niño, Eduardo Avelar, Andres Ruiz, Rodrigo Quezada </i></p></div>  "
   ]
  },
  {
   "cell_type": "markdown",
   "metadata": {},
   "source": [
    "***"
   ]
  },
  {
   "cell_type": "markdown",
   "metadata": {},
   "source": [
    "# Streaming Data Analysis"
   ]
  },
  {
   "cell_type": "code",
   "execution_count": 1,
   "metadata": {},
   "outputs": [],
   "source": [
    "import numpy as np\n",
    "import pandas as pd\n",
    "import matplotlib.pyplot as plt\n",
    "import seaborn as sns\n",
    "import plotly.graph_objects as go\n",
    "import pyarrow"
   ]
  },
  {
   "cell_type": "code",
   "execution_count": 2,
   "metadata": {},
   "outputs": [
    {
     "data": {
      "text/plain": [
       "90223"
      ]
     },
     "execution_count": 2,
     "metadata": {},
     "output_type": "execute_result"
    }
   ],
   "source": [
    "# Acronym as Musical Instruments Stream Reviews Data Set as misrds\n",
    "\n",
    "file_name = '/Users/dslab/Downloads/stream_90223_raw_samples.parquet'\n",
    "misrds = pd.read_parquet(file_name)\n",
    "len(misrds)"
   ]
  },
  {
   "cell_type": "code",
   "execution_count": 3,
   "metadata": {},
   "outputs": [
    {
     "data": {
      "text/plain": [
       "14741571"
      ]
     },
     "execution_count": 3,
     "metadata": {},
     "output_type": "execute_result"
    }
   ],
   "source": [
    "# Acronym as Main Cats as mc\n",
    "\n",
    "md_file_name = '/Users/dslab/Downloads/metadata_main_cat.parquet'\n",
    "mc = pd.read_parquet(md_file_name)\n",
    "asins_mc = {k: v for k, v in mc.values}\n",
    "len(mc)"
   ]
  },
  {
   "cell_type": "code",
   "execution_count": 4,
   "metadata": {},
   "outputs": [
    {
     "data": {
      "text/html": [
       "<div>\n",
       "<style scoped>\n",
       "    .dataframe tbody tr th:only-of-type {\n",
       "        vertical-align: middle;\n",
       "    }\n",
       "\n",
       "    .dataframe tbody tr th {\n",
       "        vertical-align: top;\n",
       "    }\n",
       "\n",
       "    .dataframe thead th {\n",
       "        text-align: right;\n",
       "    }\n",
       "</style>\n",
       "<table border=\"1\" class=\"dataframe\">\n",
       "  <thead>\n",
       "    <tr style=\"text-align: right;\">\n",
       "      <th></th>\n",
       "      <th>asin</th>\n",
       "      <th>overall</th>\n",
       "      <th>reviewText</th>\n",
       "      <th>reviewerID</th>\n",
       "      <th>reviewerName</th>\n",
       "      <th>summary</th>\n",
       "      <th>verified</th>\n",
       "      <th>internal_partition</th>\n",
       "      <th>partition_number</th>\n",
       "      <th>style</th>\n",
       "      <th>vote</th>\n",
       "      <th>image</th>\n",
       "    </tr>\n",
       "  </thead>\n",
       "  <tbody>\n",
       "    <tr>\n",
       "      <th>0</th>\n",
       "      <td>B00005QDPX</td>\n",
       "      <td>5.0</td>\n",
       "      <td>Crazy Taxi is by far one of the best video gam...</td>\n",
       "      <td>A36TDX8DY2XK5Q</td>\n",
       "      <td>Some Kid</td>\n",
       "      <td>It's Party Time! Let's Have Some Fun!</td>\n",
       "      <td>false</td>\n",
       "      <td>0</td>\n",
       "      <td>1</td>\n",
       "      <td>None</td>\n",
       "      <td>None</td>\n",
       "      <td>None</td>\n",
       "    </tr>\n",
       "  </tbody>\n",
       "</table>\n",
       "</div>"
      ],
      "text/plain": [
       "         asin overall                                         reviewText  \\\n",
       "0  B00005QDPX     5.0  Crazy Taxi is by far one of the best video gam...   \n",
       "\n",
       "       reviewerID reviewerName                                summary  \\\n",
       "0  A36TDX8DY2XK5Q     Some Kid  It's Party Time! Let's Have Some Fun!   \n",
       "\n",
       "  verified internal_partition  partition_number style  vote image  \n",
       "0    false                  0                 1  None  None  None  "
      ]
     },
     "execution_count": 4,
     "metadata": {},
     "output_type": "execute_result"
    }
   ],
   "source": [
    "misrds.head(1)"
   ]
  },
  {
   "cell_type": "code",
   "execution_count": 5,
   "metadata": {},
   "outputs": [
    {
     "data": {
      "text/html": [
       "<div>\n",
       "<style scoped>\n",
       "    .dataframe tbody tr th:only-of-type {\n",
       "        vertical-align: middle;\n",
       "    }\n",
       "\n",
       "    .dataframe tbody tr th {\n",
       "        vertical-align: top;\n",
       "    }\n",
       "\n",
       "    .dataframe thead th {\n",
       "        text-align: right;\n",
       "    }\n",
       "</style>\n",
       "<table border=\"1\" class=\"dataframe\">\n",
       "  <thead>\n",
       "    <tr style=\"text-align: right;\">\n",
       "      <th></th>\n",
       "      <th>asin</th>\n",
       "      <th>overall</th>\n",
       "      <th>reviewText</th>\n",
       "      <th>reviewerID</th>\n",
       "      <th>reviewerName</th>\n",
       "      <th>summary</th>\n",
       "      <th>verified</th>\n",
       "      <th>internal_partition</th>\n",
       "      <th>partition_number</th>\n",
       "      <th>style</th>\n",
       "      <th>vote</th>\n",
       "      <th>image</th>\n",
       "    </tr>\n",
       "  </thead>\n",
       "  <tbody>\n",
       "    <tr>\n",
       "      <th>90222</th>\n",
       "      <td>B0170PELUM</td>\n",
       "      <td>2.0</td>\n",
       "      <td>On the plus side, it looks fabulous.  The disp...</td>\n",
       "      <td>AL1A6OFNOGJ2S</td>\n",
       "      <td>Daniel M. Horowitz</td>\n",
       "      <td>Looks great but accuracy is debatable</td>\n",
       "      <td>true</td>\n",
       "      <td>0</td>\n",
       "      <td>140080212</td>\n",
       "      <td>None</td>\n",
       "      <td>None</td>\n",
       "      <td>None</td>\n",
       "    </tr>\n",
       "  </tbody>\n",
       "</table>\n",
       "</div>"
      ],
      "text/plain": [
       "             asin overall                                         reviewText  \\\n",
       "90222  B0170PELUM     2.0  On the plus side, it looks fabulous.  The disp...   \n",
       "\n",
       "          reviewerID        reviewerName  \\\n",
       "90222  AL1A6OFNOGJ2S  Daniel M. Horowitz   \n",
       "\n",
       "                                     summary verified internal_partition  \\\n",
       "90222  Looks great but accuracy is debatable     true                  0   \n",
       "\n",
       "       partition_number style  vote image  \n",
       "90222         140080212  None  None  None  "
      ]
     },
     "execution_count": 5,
     "metadata": {},
     "output_type": "execute_result"
    }
   ],
   "source": [
    "misrds.tail(1)"
   ]
  },
  {
   "cell_type": "code",
   "execution_count": 6,
   "metadata": {},
   "outputs": [
    {
     "data": {
      "text/html": [
       "<div>\n",
       "<style scoped>\n",
       "    .dataframe tbody tr th:only-of-type {\n",
       "        vertical-align: middle;\n",
       "    }\n",
       "\n",
       "    .dataframe tbody tr th {\n",
       "        vertical-align: top;\n",
       "    }\n",
       "\n",
       "    .dataframe thead th {\n",
       "        text-align: right;\n",
       "    }\n",
       "</style>\n",
       "<table border=\"1\" class=\"dataframe\">\n",
       "  <thead>\n",
       "    <tr style=\"text-align: right;\">\n",
       "      <th></th>\n",
       "      <th>asin</th>\n",
       "      <th>main_cat</th>\n",
       "    </tr>\n",
       "  </thead>\n",
       "  <tbody>\n",
       "    <tr>\n",
       "      <th>0</th>\n",
       "      <td>B01FVYVI00</td>\n",
       "      <td>Tools &amp; Home Improvement</td>\n",
       "    </tr>\n",
       "  </tbody>\n",
       "</table>\n",
       "</div>"
      ],
      "text/plain": [
       "         asin                  main_cat\n",
       "0  B01FVYVI00  Tools & Home Improvement"
      ]
     },
     "execution_count": 6,
     "metadata": {},
     "output_type": "execute_result"
    }
   ],
   "source": [
    "mc.head(1)"
   ]
  },
  {
   "cell_type": "code",
   "execution_count": 7,
   "metadata": {},
   "outputs": [],
   "source": [
    "def get_main_cat_count(df):\n",
    "    mc = [{'asin': asin, 'main_cat': asins_mc.get(asin, '')} for asin in df['asin']]\n",
    "    mcc = pd.DataFrame(mc).groupby('main_cat').count().to_dict()['asin']\n",
    "    return mcc"
   ]
  },
  {
   "cell_type": "code",
   "execution_count": 8,
   "metadata": {},
   "outputs": [
    {
     "data": {
      "text/plain": [
       "['Musical Instruments',\n",
       " 'Amazon Home',\n",
       " 'Tools & Home Improvement',\n",
       " 'Pet Supplies',\n",
       " 'Sports & Outdoors',\n",
       " 'Cell Phones & Accessories',\n",
       " 'Software',\n",
       " 'Home Audio & Theater',\n",
       " 'Industrial & Scientific',\n",
       " 'All Electronics',\n",
       " 'Health & Personal Care',\n",
       " '',\n",
       " 'Automotive',\n",
       " 'Toys & Games',\n",
       " 'Baby',\n",
       " 'Books',\n",
       " 'Grocery',\n",
       " 'Computers',\n",
       " 'Car Electronics',\n",
       " 'Video Games',\n",
       " 'Camera & Photo',\n",
       " 'All Beauty',\n",
       " 'Office Products',\n",
       " 'Arts, Crafts & Sewing',\n",
       " 'Amazon Fashion']"
      ]
     },
     "execution_count": 8,
     "metadata": {},
     "output_type": "execute_result"
    }
   ],
   "source": [
    "misrds_count = get_main_cat_count(misrds)\n",
    "main_cats = list(dict(sorted(misrds_count.items(), key=lambda x:x[1], reverse=True)).keys())\n",
    "main_cats"
   ]
  },
  {
   "cell_type": "markdown",
   "metadata": {},
   "source": [
    "Unique stream reviews"
   ]
  },
  {
   "cell_type": "code",
   "execution_count": 9,
   "metadata": {},
   "outputs": [
    {
     "data": {
      "text/plain": [
       "(90223, 12)"
      ]
     },
     "execution_count": 9,
     "metadata": {},
     "output_type": "execute_result"
    }
   ],
   "source": [
    "misrds.shape"
   ]
  },
  {
   "cell_type": "code",
   "execution_count": 10,
   "metadata": {},
   "outputs": [
    {
     "data": {
      "text/plain": [
       "(10001, 12)"
      ]
     },
     "execution_count": 10,
     "metadata": {},
     "output_type": "execute_result"
    }
   ],
   "source": [
    "duplicates = misrds[misrds.duplicated()]\n",
    "\n",
    "# Number of duplicated rows\n",
    "\n",
    "duplicates.shape"
   ]
  },
  {
   "cell_type": "markdown",
   "metadata": {},
   "source": [
    "#### Unique stream reviews"
   ]
  },
  {
   "cell_type": "code",
   "execution_count": 11,
   "metadata": {},
   "outputs": [
    {
     "data": {
      "text/plain": [
       "(80222, 12)"
      ]
     },
     "execution_count": 11,
     "metadata": {},
     "output_type": "execute_result"
    }
   ],
   "source": [
    "#df_unique_stream_reviews = df_stream_reviews.drop_duplicates()\n",
    "#unique_stream_review_cat_count = get_main_cat_count(df_unique_stream_reviews)\n",
    "#len(df_unique_stream_reviews)\n",
    "\n",
    "misrds.drop_duplicates(keep='first', inplace=True)\n",
    "misrds.shape"
   ]
  },
  {
   "cell_type": "code",
   "execution_count": 12,
   "metadata": {},
   "outputs": [
    {
     "data": {
      "text/plain": [
       "True    80222\n",
       "Name: asin, dtype: int64"
      ]
     },
     "execution_count": 12,
     "metadata": {},
     "output_type": "execute_result"
    }
   ],
   "source": [
    "# Reviews data set comparison\n",
    "\n",
    "misrds['asin'].isin(mc['asin']).value_counts()"
   ]
  },
  {
   "cell_type": "code",
   "execution_count": 13,
   "metadata": {},
   "outputs": [
    {
     "data": {
      "text/plain": [
       "False    14733994\n",
       "True         7577\n",
       "Name: asin, dtype: int64"
      ]
     },
     "execution_count": 13,
     "metadata": {},
     "output_type": "execute_result"
    }
   ],
   "source": [
    "# Reviews data set comparison\n",
    "\n",
    "mc['asin'].isin(misrds['asin']).value_counts()"
   ]
  },
  {
   "cell_type": "code",
   "execution_count": 14,
   "metadata": {},
   "outputs": [
    {
     "data": {
      "text/plain": [
       "(80222, 13)"
      ]
     },
     "execution_count": 14,
     "metadata": {},
     "output_type": "execute_result"
    }
   ],
   "source": [
    "# Using acronym Streaming One Data Set as sods\n",
    "\n",
    "sods = pd.merge(misrds, mc, how='inner', on='asin')\n",
    "\n",
    "# Making sure all rows of Reviews are still at data set\n",
    "\n",
    "sods.shape"
   ]
  },
  {
   "cell_type": "code",
   "execution_count": 15,
   "metadata": {},
   "outputs": [
    {
     "name": "stdout",
     "output_type": "stream",
     "text": [
      "<class 'pandas.core.frame.DataFrame'>\n",
      "Int64Index: 80222 entries, 0 to 80221\n",
      "Data columns (total 13 columns):\n",
      " #   Column              Non-Null Count  Dtype \n",
      "---  ------              --------------  ----- \n",
      " 0   asin                80222 non-null  object\n",
      " 1   overall             80222 non-null  object\n",
      " 2   reviewText          80163 non-null  object\n",
      " 3   reviewerID          80222 non-null  object\n",
      " 4   reviewerName        80220 non-null  object\n",
      " 5   summary             80206 non-null  object\n",
      " 6   verified            80222 non-null  object\n",
      " 7   internal_partition  80222 non-null  object\n",
      " 8   partition_number    80222 non-null  int64 \n",
      " 9   style               29802 non-null  object\n",
      " 10  vote                12594 non-null  object\n",
      " 11  image               2327 non-null   object\n",
      " 12  main_cat            80222 non-null  object\n",
      "dtypes: int64(1), object(12)\n",
      "memory usage: 8.6+ MB\n"
     ]
    }
   ],
   "source": [
    "sods.info()"
   ]
  },
  {
   "cell_type": "code",
   "execution_count": 16,
   "metadata": {},
   "outputs": [
    {
     "data": {
      "text/plain": [
       "Index(['asin', 'overall', 'reviewText', 'reviewerID', 'reviewerName',\n",
       "       'summary', 'verified', 'internal_partition', 'partition_number',\n",
       "       'style', 'vote', 'image', 'main_cat'],\n",
       "      dtype='object')"
      ]
     },
     "execution_count": 16,
     "metadata": {},
     "output_type": "execute_result"
    }
   ],
   "source": [
    "sods.columns"
   ]
  },
  {
   "cell_type": "code",
   "execution_count": 17,
   "metadata": {},
   "outputs": [
    {
     "data": {
      "text/html": [
       "<div>\n",
       "<style scoped>\n",
       "    .dataframe tbody tr th:only-of-type {\n",
       "        vertical-align: middle;\n",
       "    }\n",
       "\n",
       "    .dataframe tbody tr th {\n",
       "        vertical-align: top;\n",
       "    }\n",
       "\n",
       "    .dataframe thead th {\n",
       "        text-align: right;\n",
       "    }\n",
       "</style>\n",
       "<table border=\"1\" class=\"dataframe\">\n",
       "  <thead>\n",
       "    <tr style=\"text-align: right;\">\n",
       "      <th></th>\n",
       "      <th>asin</th>\n",
       "      <th>overall</th>\n",
       "      <th>reviewText</th>\n",
       "      <th>reviewerID</th>\n",
       "      <th>reviewerName</th>\n",
       "      <th>summary</th>\n",
       "      <th>verified</th>\n",
       "      <th>internal_partition</th>\n",
       "      <th>partition_number</th>\n",
       "      <th>main_cat</th>\n",
       "    </tr>\n",
       "  </thead>\n",
       "  <tbody>\n",
       "    <tr>\n",
       "      <th>0</th>\n",
       "      <td>B00005QDPX</td>\n",
       "      <td>5.0</td>\n",
       "      <td>Crazy Taxi is by far one of the best video gam...</td>\n",
       "      <td>A36TDX8DY2XK5Q</td>\n",
       "      <td>Some Kid</td>\n",
       "      <td>It's Party Time! Let's Have Some Fun!</td>\n",
       "      <td>false</td>\n",
       "      <td>0</td>\n",
       "      <td>1</td>\n",
       "      <td>Video Games</td>\n",
       "    </tr>\n",
       "  </tbody>\n",
       "</table>\n",
       "</div>"
      ],
      "text/plain": [
       "         asin overall                                         reviewText  \\\n",
       "0  B00005QDPX     5.0  Crazy Taxi is by far one of the best video gam...   \n",
       "\n",
       "       reviewerID reviewerName                                summary  \\\n",
       "0  A36TDX8DY2XK5Q     Some Kid  It's Party Time! Let's Have Some Fun!   \n",
       "\n",
       "  verified internal_partition  partition_number     main_cat  \n",
       "0    false                  0                 1  Video Games  "
      ]
     },
     "execution_count": 17,
     "metadata": {},
     "output_type": "execute_result"
    }
   ],
   "source": [
    "# Remove columns not needed\n",
    "\n",
    "sods.drop(['style', 'vote', 'image'], axis = 1, inplace = True)\n",
    "sods.head(1)"
   ]
  },
  {
   "cell_type": "code",
   "execution_count": 18,
   "metadata": {},
   "outputs": [
    {
     "data": {
      "text/html": [
       "<div>\n",
       "<style scoped>\n",
       "    .dataframe tbody tr th:only-of-type {\n",
       "        vertical-align: middle;\n",
       "    }\n",
       "\n",
       "    .dataframe tbody tr th {\n",
       "        vertical-align: top;\n",
       "    }\n",
       "\n",
       "    .dataframe thead th {\n",
       "        text-align: right;\n",
       "    }\n",
       "</style>\n",
       "<table border=\"1\" class=\"dataframe\">\n",
       "  <thead>\n",
       "    <tr style=\"text-align: right;\">\n",
       "      <th></th>\n",
       "      <th>asin</th>\n",
       "      <th>overall</th>\n",
       "      <th>reviewText</th>\n",
       "      <th>reviewerID</th>\n",
       "      <th>reviewerName</th>\n",
       "      <th>summary</th>\n",
       "      <th>verified</th>\n",
       "      <th>internal_partition</th>\n",
       "      <th>partition_number</th>\n",
       "      <th>main_cat</th>\n",
       "      <th>cnt</th>\n",
       "    </tr>\n",
       "  </thead>\n",
       "  <tbody>\n",
       "    <tr>\n",
       "      <th>0</th>\n",
       "      <td>B00005QDPX</td>\n",
       "      <td>5.0</td>\n",
       "      <td>Crazy Taxi is by far one of the best video gam...</td>\n",
       "      <td>A36TDX8DY2XK5Q</td>\n",
       "      <td>Some Kid</td>\n",
       "      <td>It's Party Time! Let's Have Some Fun!</td>\n",
       "      <td>false</td>\n",
       "      <td>0</td>\n",
       "      <td>1</td>\n",
       "      <td>Video Games</td>\n",
       "      <td>1</td>\n",
       "    </tr>\n",
       "  </tbody>\n",
       "</table>\n",
       "</div>"
      ],
      "text/plain": [
       "         asin overall                                         reviewText  \\\n",
       "0  B00005QDPX     5.0  Crazy Taxi is by far one of the best video gam...   \n",
       "\n",
       "       reviewerID reviewerName                                summary  \\\n",
       "0  A36TDX8DY2XK5Q     Some Kid  It's Party Time! Let's Have Some Fun!   \n",
       "\n",
       "  verified internal_partition  partition_number     main_cat  cnt  \n",
       "0    false                  0                 1  Video Games    1  "
      ]
     },
     "execution_count": 18,
     "metadata": {},
     "output_type": "execute_result"
    }
   ],
   "source": [
    "# We now add a feature engineering column for reference for counting called \"cnt\" with a constant\n",
    "\n",
    "sods['cnt'] = pd.Series([1 for x in range(len(sods.index))])\n",
    "sods.head(1)"
   ]
  },
  {
   "cell_type": "code",
   "execution_count": 19,
   "metadata": {},
   "outputs": [
    {
     "data": {
      "text/plain": [
       "Musical Instruments          38487\n",
       "Amazon Home                  36863\n",
       "Tools & Home Improvement      1339\n",
       "Pet Supplies                   801\n",
       "Sports & Outdoors              431\n",
       "Software                       372\n",
       "Home Audio & Theater           289\n",
       "Industrial & Scientific        233\n",
       "All Electronics                204\n",
       "Health & Personal Care         204\n",
       "Cell Phones & Accessories      204\n",
       "                               187\n",
       "Toys & Games                   103\n",
       "Automotive                      86\n",
       "Computers                       74\n",
       "Car Electronics                 64\n",
       "Baby                            64\n",
       "Grocery                         47\n",
       "Books                           43\n",
       "Video Games                     41\n",
       "Camera & Photo                  30\n",
       "Office Products                 21\n",
       "All Beauty                      16\n",
       "Arts, Crafts & Sewing           15\n",
       "Amazon Fashion                   4\n",
       "Name: main_cat, dtype: int64"
      ]
     },
     "execution_count": 19,
     "metadata": {},
     "output_type": "execute_result"
    }
   ],
   "source": [
    "sods['main_cat'].value_counts()"
   ]
  },
  {
   "cell_type": "code",
   "execution_count": 20,
   "metadata": {},
   "outputs": [
    {
     "data": {
      "text/html": [
       "<div>\n",
       "<style scoped>\n",
       "    .dataframe tbody tr th:only-of-type {\n",
       "        vertical-align: middle;\n",
       "    }\n",
       "\n",
       "    .dataframe tbody tr th {\n",
       "        vertical-align: top;\n",
       "    }\n",
       "\n",
       "    .dataframe thead th {\n",
       "        text-align: right;\n",
       "    }\n",
       "</style>\n",
       "<table border=\"1\" class=\"dataframe\">\n",
       "  <thead>\n",
       "    <tr style=\"text-align: right;\">\n",
       "      <th></th>\n",
       "      <th>asin</th>\n",
       "      <th>overall</th>\n",
       "      <th>reviewText</th>\n",
       "      <th>reviewerID</th>\n",
       "      <th>reviewerName</th>\n",
       "      <th>summary</th>\n",
       "      <th>verified</th>\n",
       "      <th>internal_partition</th>\n",
       "      <th>partition_number</th>\n",
       "      <th>main_cat</th>\n",
       "      <th>cnt</th>\n",
       "    </tr>\n",
       "  </thead>\n",
       "  <tbody>\n",
       "    <tr>\n",
       "      <th>0</th>\n",
       "      <td>B00005QDPX</td>\n",
       "      <td>5.0</td>\n",
       "      <td>Crazy Taxi is by far one of the best video gam...</td>\n",
       "      <td>A36TDX8DY2XK5Q</td>\n",
       "      <td>Some Kid</td>\n",
       "      <td>It's Party Time! Let's Have Some Fun!</td>\n",
       "      <td>false</td>\n",
       "      <td>0</td>\n",
       "      <td>1</td>\n",
       "      <td>Video Games</td>\n",
       "      <td>1</td>\n",
       "    </tr>\n",
       "  </tbody>\n",
       "</table>\n",
       "</div>"
      ],
      "text/plain": [
       "         asin overall                                         reviewText  \\\n",
       "0  B00005QDPX     5.0  Crazy Taxi is by far one of the best video gam...   \n",
       "\n",
       "       reviewerID reviewerName                                summary  \\\n",
       "0  A36TDX8DY2XK5Q     Some Kid  It's Party Time! Let's Have Some Fun!   \n",
       "\n",
       "  verified internal_partition  partition_number     main_cat  cnt  \n",
       "0    false                  0                 1  Video Games    1  "
      ]
     },
     "execution_count": 20,
     "metadata": {},
     "output_type": "execute_result"
    }
   ],
   "source": [
    "sods.head(1)"
   ]
  },
  {
   "cell_type": "code",
   "execution_count": 21,
   "metadata": {},
   "outputs": [
    {
     "data": {
      "text/plain": [
       "(79019, 11)"
      ]
     },
     "execution_count": 21,
     "metadata": {},
     "output_type": "execute_result"
    }
   ],
   "source": [
    "# Grouping top 10 values as acronym for Ten Categories Stream data set is tcs\n",
    "\n",
    "tcs = sods[sods[\"main_cat\"].isin(['Musical Instruments', 'Amazon Home', 'Tools & Home Improvement', 'Pet Supplies', 'Sports & Outdoors', 'Software', 'Home Audio & Theater', 'Industrial & Scientific',' All Electronics', 'Health & Personal Care'])]\n",
    "tcs.shape"
   ]
  },
  {
   "cell_type": "code",
   "execution_count": 22,
   "metadata": {},
   "outputs": [
    {
     "data": {
      "text/html": [
       "<div>\n",
       "<style scoped>\n",
       "    .dataframe tbody tr th:only-of-type {\n",
       "        vertical-align: middle;\n",
       "    }\n",
       "\n",
       "    .dataframe tbody tr th {\n",
       "        vertical-align: top;\n",
       "    }\n",
       "\n",
       "    .dataframe thead th {\n",
       "        text-align: right;\n",
       "    }\n",
       "</style>\n",
       "<table border=\"1\" class=\"dataframe\">\n",
       "  <thead>\n",
       "    <tr style=\"text-align: right;\">\n",
       "      <th></th>\n",
       "      <th>asin</th>\n",
       "      <th>overall</th>\n",
       "      <th>reviewText</th>\n",
       "      <th>reviewerID</th>\n",
       "      <th>reviewerName</th>\n",
       "      <th>summary</th>\n",
       "      <th>verified</th>\n",
       "      <th>internal_partition</th>\n",
       "      <th>partition_number</th>\n",
       "      <th>main_cat</th>\n",
       "      <th>cnt</th>\n",
       "    </tr>\n",
       "  </thead>\n",
       "  <tbody>\n",
       "    <tr>\n",
       "      <th>9</th>\n",
       "      <td>B015P3XKWG</td>\n",
       "      <td>5.0</td>\n",
       "      <td>received order fast, and product seems to work...</td>\n",
       "      <td>AT7AI63PHH6FN</td>\n",
       "      <td>Danny Peradotto</td>\n",
       "      <td>product seems to work great and exactly what w...</td>\n",
       "      <td>true</td>\n",
       "      <td>0</td>\n",
       "      <td>140000000</td>\n",
       "      <td>Amazon Home</td>\n",
       "      <td>1</td>\n",
       "    </tr>\n",
       "  </tbody>\n",
       "</table>\n",
       "</div>"
      ],
      "text/plain": [
       "         asin overall                                         reviewText  \\\n",
       "9  B015P3XKWG     5.0  received order fast, and product seems to work...   \n",
       "\n",
       "      reviewerID     reviewerName  \\\n",
       "9  AT7AI63PHH6FN  Danny Peradotto   \n",
       "\n",
       "                                             summary verified  \\\n",
       "9  product seems to work great and exactly what w...     true   \n",
       "\n",
       "  internal_partition  partition_number     main_cat  cnt  \n",
       "9                  0         140000000  Amazon Home    1  "
      ]
     },
     "execution_count": 22,
     "metadata": {},
     "output_type": "execute_result"
    }
   ],
   "source": [
    "tcs.head(1)"
   ]
  },
  {
   "cell_type": "code",
   "execution_count": 23,
   "metadata": {},
   "outputs": [
    {
     "data": {
      "text/html": [
       "<div>\n",
       "<style scoped>\n",
       "    .dataframe tbody tr th:only-of-type {\n",
       "        vertical-align: middle;\n",
       "    }\n",
       "\n",
       "    .dataframe tbody tr th {\n",
       "        vertical-align: top;\n",
       "    }\n",
       "\n",
       "    .dataframe thead th {\n",
       "        text-align: right;\n",
       "    }\n",
       "</style>\n",
       "<table border=\"1\" class=\"dataframe\">\n",
       "  <thead>\n",
       "    <tr style=\"text-align: right;\">\n",
       "      <th></th>\n",
       "      <th>main_cat</th>\n",
       "      <th>cnt</th>\n",
       "    </tr>\n",
       "  </thead>\n",
       "  <tbody>\n",
       "    <tr>\n",
       "      <th>0</th>\n",
       "      <td>Musical Instruments</td>\n",
       "      <td>38487</td>\n",
       "    </tr>\n",
       "    <tr>\n",
       "      <th>1</th>\n",
       "      <td>Amazon Home</td>\n",
       "      <td>36863</td>\n",
       "    </tr>\n",
       "    <tr>\n",
       "      <th>2</th>\n",
       "      <td>Tools &amp; Home Improvement</td>\n",
       "      <td>1339</td>\n",
       "    </tr>\n",
       "    <tr>\n",
       "      <th>3</th>\n",
       "      <td>Pet Supplies</td>\n",
       "      <td>801</td>\n",
       "    </tr>\n",
       "    <tr>\n",
       "      <th>4</th>\n",
       "      <td>Sports &amp; Outdoors</td>\n",
       "      <td>431</td>\n",
       "    </tr>\n",
       "    <tr>\n",
       "      <th>5</th>\n",
       "      <td>Software</td>\n",
       "      <td>372</td>\n",
       "    </tr>\n",
       "    <tr>\n",
       "      <th>6</th>\n",
       "      <td>Home Audio &amp; Theater</td>\n",
       "      <td>289</td>\n",
       "    </tr>\n",
       "    <tr>\n",
       "      <th>7</th>\n",
       "      <td>Industrial &amp; Scientific</td>\n",
       "      <td>233</td>\n",
       "    </tr>\n",
       "    <tr>\n",
       "      <th>8</th>\n",
       "      <td>Health &amp; Personal Care</td>\n",
       "      <td>204</td>\n",
       "    </tr>\n",
       "  </tbody>\n",
       "</table>\n",
       "</div>"
      ],
      "text/plain": [
       "                   main_cat    cnt\n",
       "0       Musical Instruments  38487\n",
       "1               Amazon Home  36863\n",
       "2  Tools & Home Improvement   1339\n",
       "3              Pet Supplies    801\n",
       "4         Sports & Outdoors    431\n",
       "5                  Software    372\n",
       "6      Home Audio & Theater    289\n",
       "7   Industrial & Scientific    233\n",
       "8    Health & Personal Care    204"
      ]
     },
     "execution_count": 23,
     "metadata": {},
     "output_type": "execute_result"
    }
   ],
   "source": [
    "# Grouping by category for a subset data set as Main Cat Count\n",
    "\n",
    "mcc = tcs.groupby(['main_cat'], as_index=False)['cnt'].sum()\n",
    "mcc = mcc.sort_values(by=[\"cnt\"], ascending = False)\n",
    "mcc.reset_index(inplace = True, drop = True)\n",
    "mcc.head(10)"
   ]
  },
  {
   "cell_type": "code",
   "execution_count": 24,
   "metadata": {},
   "outputs": [
    {
     "data": {
      "image/png": "[encoded data removed]",
      "text/plain": [
       "<Figure size 1296x432 with 1 Axes>"
      ]
     },
     "metadata": {
      "needs_background": "light"
     },
     "output_type": "display_data"
    }
   ],
   "source": [
    "# Figure Size\n",
    "fig, ax = plt.subplots(figsize =(18, 6))\n",
    " \n",
    "# Horizontal Bar Plot\n",
    "ax.barh(mcc['main_cat'], mcc['cnt'], color ='black')\n",
    " \n",
    "# Remove axes splines\n",
    "for s in ['top', 'right']:\n",
    "    ax.spines[s].set_visible(False)\n",
    " \n",
    "# Show top to bottom order\n",
    "ax.invert_yaxis()\n",
    " \n",
    "# Show values at each column\n",
    "for i in ax.patches:\n",
    "    plt.text(i.get_width()+0.2, i.get_y()+0.5,str(round((i.get_width()), 2)),fontsize = 12, fontweight ='bold',color ='gray')\n",
    " \n",
    "# Title\n",
    "ax.set_title('Top Review Count Categories from Stream Data')\n",
    " \n",
    "# Display Plot\n",
    "plt.show()"
   ]
  },
  {
   "cell_type": "code",
   "execution_count": 25,
   "metadata": {},
   "outputs": [
    {
     "data": {
      "text/plain": [
       "(38487, 11)"
      ]
     },
     "execution_count": 25,
     "metadata": {},
     "output_type": "execute_result"
    }
   ],
   "source": [
    "# Making the data set for streaming data related to Musical Instruments only as Streaming Musical Instruments so smi\n",
    "\n",
    "smi = tcs[tcs[\"main_cat\"].isin(['Musical Instruments'])]\n",
    "smi.shape"
   ]
  },
  {
   "cell_type": "code",
   "execution_count": 26,
   "metadata": {},
   "outputs": [
    {
     "name": "stdout",
     "output_type": "stream",
     "text": [
      "<class 'pandas.core.frame.DataFrame'>\n",
      "Int64Index: 38487 entries, 18 to 80221\n",
      "Data columns (total 11 columns):\n",
      " #   Column              Non-Null Count  Dtype \n",
      "---  ------              --------------  ----- \n",
      " 0   asin                38487 non-null  object\n",
      " 1   overall             38487 non-null  object\n",
      " 2   reviewText          38460 non-null  object\n",
      " 3   reviewerID          38487 non-null  object\n",
      " 4   reviewerName        38487 non-null  object\n",
      " 5   summary             38478 non-null  object\n",
      " 6   verified            38487 non-null  object\n",
      " 7   internal_partition  38487 non-null  object\n",
      " 8   partition_number    38487 non-null  int64 \n",
      " 9   main_cat            38487 non-null  object\n",
      " 10  cnt                 38487 non-null  int64 \n",
      "dtypes: int64(2), object(9)\n",
      "memory usage: 3.5+ MB\n"
     ]
    }
   ],
   "source": [
    "smi.info()"
   ]
  },
  {
   "cell_type": "code",
   "execution_count": 27,
   "metadata": {},
   "outputs": [
    {
     "data": {
      "text/plain": [
       "B0002H05BA    10\n",
       "B000B6DHFI    10\n",
       "B000B6IUBE    10\n",
       "B0002IL4TG    10\n",
       "B0002IHUS0    10\n",
       "              ..\n",
       "B0002VR9HY     1\n",
       "B0009V3HXM     1\n",
       "B0002GWRR6     1\n",
       "B0002VRP5K     1\n",
       "B0002EB5P8     1\n",
       "Name: asin, Length: 6471, dtype: int64"
      ]
     },
     "execution_count": 27,
     "metadata": {},
     "output_type": "execute_result"
    }
   ],
   "source": [
    "smi['asin'].value_counts()"
   ]
  },
  {
   "cell_type": "code",
   "execution_count": 28,
   "metadata": {},
   "outputs": [
    {
     "data": {
      "text/plain": [
       "count          38487\n",
       "unique          6471\n",
       "top       B0002H05BA\n",
       "freq              10\n",
       "Name: asin, dtype: object"
      ]
     },
     "execution_count": 28,
     "metadata": {},
     "output_type": "execute_result"
    }
   ],
   "source": [
    "smi['asin'].describe()"
   ]
  },
  {
   "cell_type": "markdown",
   "metadata": {},
   "source": [
    "## Checkpoint"
   ]
  },
  {
   "cell_type": "code",
   "execution_count": 29,
   "metadata": {},
   "outputs": [],
   "source": [
    "# Loading the merged and clean Musical Category dataset\n",
    "\n",
    "smi.to_parquet('final_music_streaming_data_842023_PM.parquet')"
   ]
  }
 ],
 "metadata": {
  "kernelspec": {
   "display_name": "Python 3 (ipykernel)",
   "language": "python",
   "name": "python3"
  },
  "language_info": {
   "codemirror_mode": {
    "name": "ipython",
    "version": 3
   },
   "file_extension": ".py",
   "mimetype": "text/x-python",
   "name": "python",
   "nbconvert_exporter": "python",
   "pygments_lexer": "ipython3",
   "version": "3.9.7"
  }
 },
 "nbformat": 4,
 "nbformat_minor": 2
}
