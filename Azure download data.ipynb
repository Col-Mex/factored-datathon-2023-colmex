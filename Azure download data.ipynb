{
 "cells": [
  {
   "cell_type": "code",
   "execution_count": null,
   "metadata": {},
   "outputs": [],
   "source": [
    "# Crear ambiente e instalar el siguiente paquete\n",
    "# !pip install azure-storage-file-datalake --pre"
   ]
  },
  {
   "cell_type": "code",
   "execution_count": 5,
   "metadata": {},
   "outputs": [],
   "source": [
    "import gzip\n",
    "import json\n",
    "from azure.storage.filedatalake import DataLakeServiceClient, DataLakeFileClient\n",
    "from azure.core.credentials import AzureSasCredential"
   ]
  },
  {
   "cell_type": "code",
   "execution_count": 6,
   "metadata": {},
   "outputs": [],
   "source": [
    "\n",
    "storage_account_name = \"safactoreddatathon\"\n",
    "container_name = \"source-files\"\n",
    "sas_token = \"sp=rle&st=2023-07-25T18:12:36Z&se=2023-08-13T02:12:36Z&sv=2022-11-02&sr=c&sig=l2TCTwPWN8LSM922lR%2Fw78mZWQK2ErEOQDUaCJosIaw%3D\"\n",
    "file_path = \"amazon_reviews\"\n",
    "service_client = DataLakeServiceClient(account_url=\"{}://{}.dfs.core.windows.net\".format(\n",
    "    \"https\", storage_account_name), credential=sas_token)\n",
    "file_system_client = service_client.get_file_system_client(file_system=container_name)"
   ]
  },
  {
   "cell_type": "code",
   "execution_count": 7,
   "metadata": {},
   "outputs": [],
   "source": [
    "# List all the files in the directory\n",
    "paths = file_system_client.get_paths(file_path)\n",
    "\n",
    "counter = 0\n",
    "all_data = []\n",
    "\n",
    "for path in paths:\n",
    "    if not path.is_directory and path.name.endswith('.json.gz'):\n",
    "        file_client = file_system_client.get_file_client(path.name)\n",
    "        file_content = file_client.download_file().readall()\n",
    "        \n",
    "        # Decompress the gzip file and decode the bytes to string\n",
    "        decompressed_data = gzip.decompress(file_content).decode('utf-8')\n",
    "        \n",
    "        # Each line contains a separate JSON object\n",
    "        json_objects = [json.loads(line) for line in decompressed_data.splitlines() if line]\n",
    "\n",
    "        # Save the json data to a local file\n",
    "        file_name = 'reviews' + str(counter) + '.json'\n",
    "        with open(file_name, 'w') as json_file:\n",
    "            for json_obj in json_objects:\n",
    "                json.dump(json_obj, json_file)\n",
    "                json_file.write('\\n')\n",
    "        counter += 1\n",
    "        if counter >=1:\n",
    "            break"
   ]
  },
  {
   "cell_type": "code",
   "execution_count": 8,
   "metadata": {},
   "outputs": [],
   "source": [
    "file_path = \"amazon_metadata\"\n",
    "# List all the files in the directory\n",
    "paths = file_system_client.get_paths(file_path)\n",
    "\n",
    "counter = 0\n",
    "all_data = []\n",
    "\n",
    "for path in paths:\n",
    "    if not path.is_directory and path.name.endswith('.json.gz'):\n",
    "        file_client = file_system_client.get_file_client(path.name)\n",
    "        file_content = file_client.download_file().readall()\n",
    "        \n",
    "        # Decompress the gzip file and decode the bytes to string\n",
    "        decompressed_data = gzip.decompress(file_content).decode('utf-8')\n",
    "        \n",
    "        # Each line contains a separate JSON object\n",
    "        json_objects = [json.loads(line) for line in decompressed_data.splitlines() if line]\n",
    "\n",
    "        # Save the json data to a local file\n",
    "        file_name = 'metadata' + str(counter) + '.json'\n",
    "        with open(file_name, 'w') as json_file:\n",
    "            for json_obj in json_objects:\n",
    "                json.dump(json_obj, json_file)\n",
    "                json_file.write('\\n')\n",
    "        counter += 1\n",
    "        if counter >=1:\n",
    "            break"
   ]
  }
 ],
 "metadata": {
  "kernelspec": {
   "display_name": "azure_download",
   "language": "python",
   "name": "python3"
  },
  "language_info": {
   "codemirror_mode": {
    "name": "ipython",
    "version": 3
   },
   "file_extension": ".py",
   "mimetype": "text/x-python",
   "name": "python",
   "nbconvert_exporter": "python",
   "pygments_lexer": "ipython3",
   "version": "3.11.4"
  },
  "orig_nbformat": 4
 },
 "nbformat": 4,
 "nbformat_minor": 2
}
