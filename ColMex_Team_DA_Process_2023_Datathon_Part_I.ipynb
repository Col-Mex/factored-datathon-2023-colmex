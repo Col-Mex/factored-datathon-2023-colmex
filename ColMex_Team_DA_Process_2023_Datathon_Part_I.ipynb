{
 "cells": [
  {
   "cell_type": "markdown",
   "id": "7ae59697",
   "metadata": {},
   "source": [
    "<p style='text-align: right;'><i>July 25th - 31th, 2023 </i> </p>"
   ]
  },
  {
   "cell_type": "markdown",
   "id": "9ad4586e",
   "metadata": {},
   "source": [
    "<h1 style=\"background-color:orange;\"></h1>"
   ]
  },
  {
   "cell_type": "markdown",
   "id": "c8ca201e",
   "metadata": {},
   "source": [
    "<h1 style='text-align: center;'> ColMex Team Datathon 2023 </h1>\n",
    "\n",
    "<h3 style='text-align: center;'> <i>PART I: EDA to narrow the scope </i> </h3>\n",
    "\n",
    "<h5 style='text-align: center;'> <i>Our data journey</i> </h5>\n"
   ]
  },
  {
   "cell_type": "markdown",
   "id": "8f9cd407",
   "metadata": {},
   "source": [
    "<h1 style=\"background-color:orange;\"></h1>"
   ]
  },
  {
   "cell_type": "markdown",
   "id": "eaf60a7b",
   "metadata": {},
   "source": [
    "<div style=\"background-color:LightGray;\"><p style='text-align: center;'><align = center>Participants: <i>Jose Niño, Eduardo Avelar, Andres Ruiz, Rodrigo Quezada </i></p></div>  "
   ]
  },
  {
   "cell_type": "markdown",
   "id": "e9ac0037",
   "metadata": {},
   "source": [
    "***"
   ]
  },
  {
   "cell_type": "markdown",
   "id": "e8fff048",
   "metadata": {},
   "source": [
    "<h2 style='text-align: center;'><font color=blue> What is data telling us ? <color></h2>"
   ]
  },
  {
   "cell_type": "markdown",
   "id": "e56bdf3b",
   "metadata": {},
   "source": [
    "***"
   ]
  },
  {
   "cell_type": "markdown",
   "id": "abd0abab",
   "metadata": {},
   "source": [
    "<h2 style=\"background-color:Orange;\"><font color=white>1. Intro<color></h2>"
   ]
  },
  {
   "cell_type": "markdown",
   "id": "851b57f5",
   "metadata": {},
   "source": [
    "While would like to follow the CRISP-DM methodology it was not possible as the challenge for this Datathon does not start with specific objective or problem to solve rather starts at data available.\n",
    "\n",
    "Thus key goal is :\n",
    "\n",
    "<h3 style='text-align: center;'><b> \"Create an innovative data solution <br>\n",
    "    (web apps, chatbots, dashboards, model interfaces...) <br>\n",
    "to empower businesses with insights from product reviews.\" </h3></p>\n",
    "\n",
    "Also stated by Factored as:\n",
    "\n",
    "\"Embody a product a company's data team and develop an end-to-end data solution, to generate actionable insights to inform stakeholders' decisions.\"\n",
    "\n",
    "Example of suggested questions offered:<br>\n",
    "<br>\n",
    "\"<br>\n",
    "● What has the most significant impact on customer satisfaction? <br>\n",
    "● Can we infer customer segment based on their review patterns? <br>\n",
    "● It's possible to build a recommendation system based on recommendations?\n",
    "\"\n"
   ]
  },
  {
   "cell_type": "markdown",
   "id": "ccfc7173",
   "metadata": {},
   "source": [
    "."
   ]
  },
  {
   "cell_type": "markdown",
   "id": "c3bcdb1a",
   "metadata": {},
   "source": [
    "### Per Factored kickoff on data sources information:\n",
    "\n",
    "\" *There are two primary sources of data to work with.* \n",
    "\n",
    "##### The first source  [80% of data volume]\n",
    "\n",
    "*Involves* **two batch-format tables** *containing valuable information and insights related to reviews for products that customers buy on Amazon. These batch tables are distributed in partitions and stored using JSON format files hosted in an Azure Data Lake Storage instance.* \n",
    "\n",
    "*Tables Included:*\n",
    "- *Amazon Product Reviews: This is a large crawl of product reviews from Amazon. This dataset contains 82.83 million unique reviews from around 20 million users.*\n",
    "- *Amazon Metadata: Contains the description and metadata for all products included in the dataset.*\n",
    "\n",
    "\n",
    "##### The second source [20% of data volume]\n",
    "\n",
    "\n",
    "*Involves Amazon Product Reviews, available in **streaming mode**, offering real-time data updates. The streaming topic continuously receives new data as it becomes available, enabling us to stay up-to-date with the latest developments.*\n",
    "\n",
    "*The challenge for the Datathon is to effectively combine the data from both sources and use them as sources for analytics and machine learning purposes. Please take into consideration the objectives that are defined for the Data Engineering section to be sure that the solution that your team is proposing is compliant \"*"
   ]
  },
  {
   "cell_type": "markdown",
   "id": "73a95d21",
   "metadata": {},
   "source": [
    "### Last but not least we are usign the defined Evaluation Criteria for our solution\n",
    "\n",
    "\n",
    "1. Overall project rationale and documentation\n",
    "2. Data Engineering: How are you dealing with the Extraction \n",
    "and Transformation of the data\n",
    "3. Machine Learning: Model selection, optimization, \n",
    "implementation and tracking\n",
    "4. Data Analytics: Data Quality and Providing relevant insights \n",
    "from the solution\n",
    "5. Software Engineering: Backend, Frontend and Deployment."
   ]
  },
  {
   "cell_type": "markdown",
   "id": "d9af902e",
   "metadata": {},
   "source": [
    "#### We will work through an iterative and incremental process "
   ]
  },
  {
   "cell_type": "markdown",
   "id": "232ca04c",
   "metadata": {},
   "source": [
    "<h2 style=\"background-color:Orange;\"><font color=white>2. Problem <color></h2>"
   ]
  },
  {
   "cell_type": "markdown",
   "id": "cc42971c",
   "metadata": {},
   "source": [
    "Our first step is to set the **Data Pipeline** to correctly ingest data with the right quality so it is delivered for initial analysis.\n",
    "\n",
    "This step is also refered to as Data Engineering or Data Collection and by Google as Data Prep.\n",
    "\n",
    "Thus our first step gathers a sample from which to begin the Data Understanding and per inferene also the Business \n",
    "Understanding."
   ]
  },
  {
   "cell_type": "markdown",
   "id": "378fc274",
   "metadata": {},
   "source": [
    " ### Imports and initial data set pull\n",
    "\n",
    "> Getting started"
   ]
  },
  {
   "cell_type": "code",
   "execution_count": 1,
   "id": "58852022",
   "metadata": {},
   "outputs": [],
   "source": [
    "import numpy as np\n",
    "import pandas as pd\n",
    "import matplotlib.pyplot as plt\n",
    "import seaborn as sns\n",
    "import pyarrow"
   ]
  },
  {
   "cell_type": "code",
   "execution_count": 2,
   "id": "fefa6bc9",
   "metadata": {},
   "outputs": [],
   "source": [
    "# Providing the data set the acronym of Reviews Data Set as rds from the extracted data\n",
    "# For the initial data pull using option to skip bad lines and using the pipe separator \"|\"\n",
    "\n",
    "datathon_reviews_sample_file = \"/Users/dslab/Downloads/reviews.csv\"\n",
    "rds = pd.read_csv(datathon_reviews_sample_file, on_bad_lines='skip', sep = \"|\")"
   ]
  },
  {
   "cell_type": "code",
   "execution_count": 3,
   "id": "0c5063f0",
   "metadata": {},
   "outputs": [],
   "source": [
    "# Providing the data set the acronym of Metadata Data Set as mds from the extracted data\n",
    "# For the initial data pull using option to skip bad lines and using the pipe separator \"|\"\n",
    "\n",
    "datathon_metadata_sample_file = \"/Users/dslab/Downloads/metadata.csv\"\n",
    "mds = pd.read_csv(datathon_metadata_sample_file, on_bad_lines='skip', sep = \"|\")"
   ]
  },
  {
   "cell_type": "markdown",
   "id": "0f538c9b",
   "metadata": {},
   "source": [
    "### EDA / Data Profiling\n",
    "\n",
    "<br/>\n",
    "\n",
    "> 1. Dimension shape\n",
    "\n",
    "> 2. Check head and tail \n",
    "\n",
    "> 3. Review data types, column names, and identify missing data\n",
    "\n",
    "> 4. Determine overall data quality\n"
   ]
  },
  {
   "cell_type": "code",
   "execution_count": 4,
   "id": "478fcdd9",
   "metadata": {},
   "outputs": [
    {
     "data": {
      "text/plain": [
       "(13965, 8)"
      ]
     },
     "execution_count": 4,
     "metadata": {},
     "output_type": "execute_result"
    }
   ],
   "source": [
    "# Understand scope of sample data set for reviews\n",
    "\n",
    "rds.shape"
   ]
  },
  {
   "cell_type": "code",
   "execution_count": 5,
   "id": "d78fc283",
   "metadata": {},
   "outputs": [
    {
     "data": {
      "text/plain": [
       "(10000, 18)"
      ]
     },
     "execution_count": 5,
     "metadata": {},
     "output_type": "execute_result"
    }
   ],
   "source": [
    "# Understand scope of sample data set for metadata\n",
    "\n",
    "mds.shape"
   ]
  },
  {
   "cell_type": "code",
   "execution_count": 6,
   "id": "8f36f797",
   "metadata": {},
   "outputs": [
    {
     "data": {
      "text/html": [
       "<div>\n",
       "<style scoped>\n",
       "    .dataframe tbody tr th:only-of-type {\n",
       "        vertical-align: middle;\n",
       "    }\n",
       "\n",
       "    .dataframe tbody tr th {\n",
       "        vertical-align: top;\n",
       "    }\n",
       "\n",
       "    .dataframe thead th {\n",
       "        text-align: right;\n",
       "    }\n",
       "</style>\n",
       "<table border=\"1\" class=\"dataframe\">\n",
       "  <thead>\n",
       "    <tr style=\"text-align: right;\">\n",
       "      <th></th>\n",
       "      <th>asin</th>\n",
       "      <th>overall</th>\n",
       "      <th>reviewText</th>\n",
       "      <th>reviewerID</th>\n",
       "      <th>reviewerName</th>\n",
       "      <th>summary</th>\n",
       "      <th>unixReviewTime</th>\n",
       "      <th>verified</th>\n",
       "    </tr>\n",
       "  </thead>\n",
       "  <tbody>\n",
       "    <tr>\n",
       "      <th>0</th>\n",
       "      <td>B00005QDPX</td>\n",
       "      <td>5.0</td>\n",
       "      <td>Crazy Taxi is by far one of the best video gam...</td>\n",
       "      <td>A36TDX8DY2XK5Q</td>\n",
       "      <td>Some Kid</td>\n",
       "      <td>It's Party Time! Let's Have Some Fun!</td>\n",
       "      <td>1054252800</td>\n",
       "      <td>False</td>\n",
       "    </tr>\n",
       "    <tr>\n",
       "      <th>1</th>\n",
       "      <td>B00005QDPX</td>\n",
       "      <td>2.0</td>\n",
       "      <td>Anyone who hasn't played this game should rent...</td>\n",
       "      <td>A3PASG15BRR40D</td>\n",
       "      <td>SleepyJD</td>\n",
       "      <td>A fun game that gets old too quickly</td>\n",
       "      <td>1049414400</td>\n",
       "      <td>False</td>\n",
       "    </tr>\n",
       "  </tbody>\n",
       "</table>\n",
       "</div>"
      ],
      "text/plain": [
       "         asin  overall                                         reviewText  \\\n",
       "0  B00005QDPX      5.0  Crazy Taxi is by far one of the best video gam...   \n",
       "1  B00005QDPX      2.0  Anyone who hasn't played this game should rent...   \n",
       "\n",
       "       reviewerID reviewerName                                summary  \\\n",
       "0  A36TDX8DY2XK5Q     Some Kid  It's Party Time! Let's Have Some Fun!   \n",
       "1  A3PASG15BRR40D     SleepyJD   A fun game that gets old too quickly   \n",
       "\n",
       "   unixReviewTime  verified  \n",
       "0      1054252800     False  \n",
       "1      1049414400     False  "
      ]
     },
     "execution_count": 6,
     "metadata": {},
     "output_type": "execute_result"
    }
   ],
   "source": [
    "# Check initial display on reviews\n",
    "\n",
    "rds.head(2)"
   ]
  },
  {
   "cell_type": "code",
   "execution_count": 7,
   "id": "5a925e42",
   "metadata": {},
   "outputs": [
    {
     "data": {
      "text/html": [
       "<div>\n",
       "<style scoped>\n",
       "    .dataframe tbody tr th:only-of-type {\n",
       "        vertical-align: middle;\n",
       "    }\n",
       "\n",
       "    .dataframe tbody tr th {\n",
       "        vertical-align: top;\n",
       "    }\n",
       "\n",
       "    .dataframe thead th {\n",
       "        text-align: right;\n",
       "    }\n",
       "</style>\n",
       "<table border=\"1\" class=\"dataframe\">\n",
       "  <thead>\n",
       "    <tr style=\"text-align: right;\">\n",
       "      <th></th>\n",
       "      <th>also_buy</th>\n",
       "      <th>also_view</th>\n",
       "      <th>asin</th>\n",
       "      <th>brand</th>\n",
       "      <th>category</th>\n",
       "      <th>date</th>\n",
       "      <th>description</th>\n",
       "      <th>details</th>\n",
       "      <th>feature</th>\n",
       "      <th>fit</th>\n",
       "      <th>image</th>\n",
       "      <th>main_cat</th>\n",
       "      <th>price</th>\n",
       "      <th>rank</th>\n",
       "      <th>similar_item</th>\n",
       "      <th>tech1</th>\n",
       "      <th>tech2</th>\n",
       "      <th>title</th>\n",
       "    </tr>\n",
       "  </thead>\n",
       "  <tbody>\n",
       "    <tr>\n",
       "      <th>0</th>\n",
       "      <td>[]</td>\n",
       "      <td>[]</td>\n",
       "      <td>6305121869</td>\n",
       "      <td>Ninasill_Blouse</td>\n",
       "      <td>['Clothing, Shoes &amp; Jewelry', 'Women', 'Clothi...</td>\n",
       "      <td>&lt;div class=\"a-fixed-left-grid a-spacing-none\"&gt;...</td>\n",
       "      <td>['(=^ ^=) 1.It is made of high quality materia...</td>\n",
       "      <td>{}</td>\n",
       "      <td>['Import', 'Versatile Occasions - Great for Da...</td>\n",
       "      <td>NaN</td>\n",
       "      <td>['https://images-na.ssl-images-amazon.com/imag...</td>\n",
       "      <td>Movies &amp; TV</td>\n",
       "      <td>$9.99 - $12.50</td>\n",
       "      <td>[]</td>\n",
       "      <td>NaN</td>\n",
       "      <td>NaN</td>\n",
       "      <td>NaN</td>\n",
       "      <td>Women Blouse, Ninasill Hooded Sweatshirt Coat ...</td>\n",
       "    </tr>\n",
       "    <tr>\n",
       "      <th>1</th>\n",
       "      <td>[]</td>\n",
       "      <td>[]</td>\n",
       "      <td>6318708057</td>\n",
       "      <td>Coolred-Women</td>\n",
       "      <td>['Clothing, Shoes &amp; Jewelry', 'Traditional &amp; C...</td>\n",
       "      <td>&lt;div class=\"a-fixed-left-grid a-spacing-none\"&gt;...</td>\n",
       "      <td>['&lt;b&gt;&lt;br&gt;Hi friend, welcome to our store. Befo...</td>\n",
       "      <td>{}</td>\n",
       "      <td>['100% Spandex', 'Order Larger If You are Betw...</td>\n",
       "      <td>NaN</td>\n",
       "      <td>['https://images-na.ssl-images-amazon.com/imag...</td>\n",
       "      <td>&lt;img src=\"https://images-na.ssl-images-amazon....</td>\n",
       "      <td>$16.08 - $18.36</td>\n",
       "      <td>14,082,777 in Clothing, Shoes &amp; Jewelry (</td>\n",
       "      <td>NaN</td>\n",
       "      <td>NaN</td>\n",
       "      <td>NaN</td>\n",
       "      <td>Coolred-Women Retro Split Sexy Skinny Premium ...</td>\n",
       "    </tr>\n",
       "  </tbody>\n",
       "</table>\n",
       "</div>"
      ],
      "text/plain": [
       "  also_buy also_view        asin            brand  \\\n",
       "0       []        []  6305121869  Ninasill_Blouse   \n",
       "1       []        []  6318708057    Coolred-Women   \n",
       "\n",
       "                                            category  \\\n",
       "0  ['Clothing, Shoes & Jewelry', 'Women', 'Clothi...   \n",
       "1  ['Clothing, Shoes & Jewelry', 'Traditional & C...   \n",
       "\n",
       "                                                date  \\\n",
       "0  <div class=\"a-fixed-left-grid a-spacing-none\">...   \n",
       "1  <div class=\"a-fixed-left-grid a-spacing-none\">...   \n",
       "\n",
       "                                         description details  \\\n",
       "0  ['(=^ ^=) 1.It is made of high quality materia...      {}   \n",
       "1  ['<b><br>Hi friend, welcome to our store. Befo...      {}   \n",
       "\n",
       "                                             feature  fit  \\\n",
       "0  ['Import', 'Versatile Occasions - Great for Da...  NaN   \n",
       "1  ['100% Spandex', 'Order Larger If You are Betw...  NaN   \n",
       "\n",
       "                                               image  \\\n",
       "0  ['https://images-na.ssl-images-amazon.com/imag...   \n",
       "1  ['https://images-na.ssl-images-amazon.com/imag...   \n",
       "\n",
       "                                            main_cat            price  \\\n",
       "0                                        Movies & TV   $9.99 - $12.50   \n",
       "1  <img src=\"https://images-na.ssl-images-amazon....  $16.08 - $18.36   \n",
       "\n",
       "                                        rank similar_item tech1  tech2  \\\n",
       "0                                         []          NaN   NaN    NaN   \n",
       "1  14,082,777 in Clothing, Shoes & Jewelry (          NaN   NaN    NaN   \n",
       "\n",
       "                                               title  \n",
       "0  Women Blouse, Ninasill Hooded Sweatshirt Coat ...  \n",
       "1  Coolred-Women Retro Split Sexy Skinny Premium ...  "
      ]
     },
     "execution_count": 7,
     "metadata": {},
     "output_type": "execute_result"
    }
   ],
   "source": [
    "# Check initial display on metadata\n",
    "\n",
    "mds.head(2)"
   ]
  },
  {
   "cell_type": "code",
   "execution_count": 8,
   "id": "cc84227e",
   "metadata": {},
   "outputs": [
    {
     "name": "stdout",
     "output_type": "stream",
     "text": [
      "<class 'pandas.core.frame.DataFrame'>\n",
      "RangeIndex: 13965 entries, 0 to 13964\n",
      "Data columns (total 8 columns):\n",
      " #   Column          Non-Null Count  Dtype  \n",
      "---  ------          --------------  -----  \n",
      " 0   asin            13965 non-null  object \n",
      " 1   overall         13965 non-null  float64\n",
      " 2   reviewText      13965 non-null  object \n",
      " 3   reviewerID      13965 non-null  object \n",
      " 4   reviewerName    13963 non-null  object \n",
      " 5   summary         13965 non-null  object \n",
      " 6   unixReviewTime  13965 non-null  int64  \n",
      " 7   verified        13965 non-null  bool   \n",
      "dtypes: bool(1), float64(1), int64(1), object(5)\n",
      "memory usage: 777.5+ KB\n"
     ]
    }
   ],
   "source": [
    "# Check overall data set information on column names, missing data and data types for reviews\n",
    "\n",
    "rds.info()"
   ]
  },
  {
   "cell_type": "code",
   "execution_count": 9,
   "id": "a55e3f7b",
   "metadata": {},
   "outputs": [
    {
     "name": "stdout",
     "output_type": "stream",
     "text": [
      "<class 'pandas.core.frame.DataFrame'>\n",
      "RangeIndex: 10000 entries, 0 to 9999\n",
      "Data columns (total 18 columns):\n",
      " #   Column        Non-Null Count  Dtype  \n",
      "---  ------        --------------  -----  \n",
      " 0   also_buy      10000 non-null  object \n",
      " 1   also_view     10000 non-null  object \n",
      " 2   asin          10000 non-null  object \n",
      " 3   brand         7315 non-null   object \n",
      " 4   category      10000 non-null  object \n",
      " 5   date          8940 non-null   object \n",
      " 6   description   10000 non-null  object \n",
      " 7   details       10000 non-null  object \n",
      " 8   feature       10000 non-null  object \n",
      " 9   fit           1864 non-null   object \n",
      " 10  image         10000 non-null  object \n",
      " 11  main_cat      10000 non-null  object \n",
      " 12  price         4064 non-null   object \n",
      " 13  rank          10000 non-null  object \n",
      " 14  similar_item  155 non-null    object \n",
      " 15  tech1         68 non-null     object \n",
      " 16  tech2         0 non-null      float64\n",
      " 17  title         10000 non-null  object \n",
      "dtypes: float64(1), object(17)\n",
      "memory usage: 1.4+ MB\n"
     ]
    }
   ],
   "source": [
    "# Check overall data set information on column names, missing data and data types for metadata\n",
    "\n",
    "mds.info()"
   ]
  },
  {
   "cell_type": "markdown",
   "id": "3b1a3157",
   "metadata": {},
   "source": [
    "### Initial observations\n",
    "\n",
    "***\n",
    "\n",
    "- We are going to need several transformations as most of the items are data type Object(strings) at both data sets.\n",
    "- We shall drop the columns [similar_item,tech1,tech2] and likely also [fit] at Metadata per low information gain (too many NaN values)\n",
    "- Brand is filled 73% of the time. Wished it was higher for better brand Vs brand comparisons we have discussed.\n",
    "- Next step before data cleaning is confirm if there are enough overlaps among the current data sets\n"
   ]
  },
  {
   "cell_type": "markdown",
   "id": "973d7fa3",
   "metadata": {},
   "source": [
    "#### Checking relationship of asin among the 2 data frames"
   ]
  },
  {
   "cell_type": "code",
   "execution_count": 10,
   "id": "99520f01",
   "metadata": {},
   "outputs": [
    {
     "data": {
      "text/plain": [
       "False    13964\n",
       "True         1\n",
       "Name: asin, dtype: int64"
      ]
     },
     "execution_count": 10,
     "metadata": {},
     "output_type": "execute_result"
    }
   ],
   "source": [
    "# Reviews data set against Metadata data set\n",
    "\n",
    "rds['asin'].isin(mds['asin']).value_counts()"
   ]
  },
  {
   "cell_type": "code",
   "execution_count": 11,
   "id": "424f6c9e",
   "metadata": {},
   "outputs": [
    {
     "data": {
      "text/plain": [
       "False    9999\n",
       "True        1\n",
       "Name: asin, dtype: int64"
      ]
     },
     "execution_count": 11,
     "metadata": {},
     "output_type": "execute_result"
    }
   ],
   "source": [
    "# Metadata data set against Reviews data set\n",
    "\n",
    "mds['asin'].isin(rds['asin']).value_counts()"
   ]
  },
  {
   "cell_type": "markdown",
   "id": "e08dcc94",
   "metadata": {},
   "source": [
    "<div class=\"alert alert-block alert-warning\">\n",
    "<h2> Process Insights by EOD 7/26/2023</h2>\n",
    "-------------------------------------------------------------------------------------------------------------------------------\n",
    "\n",
    "     First data iteration does not provide enough overlap thus we need to improve the Data Pipeline process.\n",
    "        \n",
    "     Thus, moving into a larger data sample which is now 1 % from the overall provided data in the 80% batch.\n",
    "\n",
    "</div>"
   ]
  },
  {
   "cell_type": "markdown",
   "id": "57d30cd3",
   "metadata": {},
   "source": [
    "### Imports and initial data set pull\n",
    "\n",
    "> Getting started"
   ]
  },
  {
   "cell_type": "code",
   "execution_count": 12,
   "id": "35ea9753",
   "metadata": {},
   "outputs": [],
   "source": [
    "# Providing the new data set again the acronym of Reviews Data Set as rds from the extracted data\n",
    "\n",
    "datathon_reviews_pkt_file = \"/Users/dslab/Downloads/reviews_sample_1p.parquet\"\n",
    "rds = pd.read_parquet(datathon_reviews_pkt_file, engine='pyarrow')"
   ]
  },
  {
   "cell_type": "code",
   "execution_count": 13,
   "id": "673dfb68",
   "metadata": {},
   "outputs": [],
   "source": [
    "# Providing the new data set again the acronym of Reviews Data Set as rds from the extracted data\n",
    "\n",
    "datathon_metadata_pkt_file = \"/Users/dslab/Downloads/metadata_sample_1p.parquet\"\n",
    "mds = pd.read_parquet(datathon_metadata_pkt_file, engine='pyarrow')"
   ]
  },
  {
   "cell_type": "markdown",
   "id": "9c554bcf",
   "metadata": {},
   "source": [
    "### EDA / Data Profiling\n",
    "\n",
    "<br/>\n",
    "\n",
    "> 1. Dimension shape\n",
    "\n",
    "> 2. Check overlap among both data sets (per the former iteration lesson learned)"
   ]
  },
  {
   "cell_type": "code",
   "execution_count": 14,
   "id": "eaaf8580",
   "metadata": {},
   "outputs": [
    {
     "data": {
      "text/plain": [
       "(1499752, 11)"
      ]
     },
     "execution_count": 14,
     "metadata": {},
     "output_type": "execute_result"
    }
   ],
   "source": [
    "# Understand scope of new 1% sample data set for reviews\n",
    "\n",
    "rds.shape"
   ]
  },
  {
   "cell_type": "code",
   "execution_count": 15,
   "id": "a497c165",
   "metadata": {},
   "outputs": [
    {
     "data": {
      "text/plain": [
       "(150000, 18)"
      ]
     },
     "execution_count": 15,
     "metadata": {},
     "output_type": "execute_result"
    }
   ],
   "source": [
    "# Understand scope of new 1% sample data set for metadata\n",
    "\n",
    "mds.shape"
   ]
  },
  {
   "cell_type": "markdown",
   "id": "e796cfb0",
   "metadata": {},
   "source": [
    "#### Checking relationship of asin among the 2 data frames"
   ]
  },
  {
   "cell_type": "code",
   "execution_count": 16,
   "id": "f5a2f15d",
   "metadata": {},
   "outputs": [
    {
     "data": {
      "text/plain": [
       "False    1475566\n",
       "True       24186\n",
       "Name: asin, dtype: int64"
      ]
     },
     "execution_count": 16,
     "metadata": {},
     "output_type": "execute_result"
    }
   ],
   "source": [
    "# Reviews data set against Metadata data set\n",
    "\n",
    "rds['asin'].isin(mds['asin']).value_counts()"
   ]
  },
  {
   "cell_type": "code",
   "execution_count": 17,
   "id": "d5ab8234",
   "metadata": {},
   "outputs": [
    {
     "data": {
      "text/plain": [
       "False    144387\n",
       "True       5613\n",
       "Name: asin, dtype: int64"
      ]
     },
     "execution_count": 17,
     "metadata": {},
     "output_type": "execute_result"
    }
   ],
   "source": [
    "# Metadata data set against Reviews data set\n",
    "\n",
    "mds['asin'].isin(rds['asin']).value_counts()"
   ]
  },
  {
   "cell_type": "markdown",
   "id": "02369a02",
   "metadata": {},
   "source": [
    "<div class=\"alert alert-block alert-warning\">\n",
    "<h2> Process Insights 7/27/2023</h2>\n",
    "-------------------------------------------------------------------------------------------------------------------------------\n",
    "\n",
    "     Second data iteration shows Data Pipeline process improvement by increasing the overlaps.\n",
    "    \n",
    "     We increased reviews from 13,965 to 1'499,752 records and metadata from 10,000 to 150,000 records.\n",
    "        \n",
    "     Before reducing the data sets by combining it is worth to begin understanding the data set behavior as it is a mix\n",
    "     of products among different categories/industries so worth a deeper dive to better refine the next steps.\n",
    "\n",
    "</div>"
   ]
  },
  {
   "cell_type": "markdown",
   "id": "b2f85edb",
   "metadata": {},
   "source": [
    "### EDA / Data Profiling to the already extrated data set of Reviews to better understand scoring\n",
    "\n",
    "<br/>\n",
    "\n",
    "> 1. Check head and tail \n",
    "\n",
    "> 2. Review data types, column names, and identify missing data\n",
    "\n",
    "> 3. Determine overall data quality\n"
   ]
  },
  {
   "cell_type": "code",
   "execution_count": 18,
   "id": "a2792560",
   "metadata": {},
   "outputs": [
    {
     "data": {
      "text/html": [
       "<div>\n",
       "<style scoped>\n",
       "    .dataframe tbody tr th:only-of-type {\n",
       "        vertical-align: middle;\n",
       "    }\n",
       "\n",
       "    .dataframe tbody tr th {\n",
       "        vertical-align: top;\n",
       "    }\n",
       "\n",
       "    .dataframe thead th {\n",
       "        text-align: right;\n",
       "    }\n",
       "</style>\n",
       "<table border=\"1\" class=\"dataframe\">\n",
       "  <thead>\n",
       "    <tr style=\"text-align: right;\">\n",
       "      <th></th>\n",
       "      <th>asin</th>\n",
       "      <th>overall</th>\n",
       "      <th>reviewText</th>\n",
       "      <th>reviewerID</th>\n",
       "      <th>reviewerName</th>\n",
       "      <th>style</th>\n",
       "      <th>summary</th>\n",
       "      <th>unixReviewTime</th>\n",
       "      <th>verified</th>\n",
       "      <th>vote</th>\n",
       "      <th>image</th>\n",
       "    </tr>\n",
       "  </thead>\n",
       "  <tbody>\n",
       "    <tr>\n",
       "      <th>0</th>\n",
       "      <td>B00CGYCNZI</td>\n",
       "      <td>4.0</td>\n",
       "      <td>I have used Panasonic and GE earlier as my cor...</td>\n",
       "      <td>AOZOE2033AQK</td>\n",
       "      <td>Ramesh</td>\n",
       "      <td>{\"Style:\":\" 2 Handset\"}</td>\n",
       "      <td>Worth the Value and Love it..</td>\n",
       "      <td>1472342400</td>\n",
       "      <td>true</td>\n",
       "      <td>None</td>\n",
       "      <td>None</td>\n",
       "    </tr>\n",
       "    <tr>\n",
       "      <th>1</th>\n",
       "      <td>B000V8CZYA</td>\n",
       "      <td>2.0</td>\n",
       "      <td>The sound quality is great, but a bit of cosme...</td>\n",
       "      <td>A1AJFYLPI8M1LI</td>\n",
       "      <td>Buyer in Texas</td>\n",
       "      <td>None</td>\n",
       "      <td>Expensive, hard to navigate menus</td>\n",
       "      <td>1196553600</td>\n",
       "      <td>true</td>\n",
       "      <td>None</td>\n",
       "      <td>None</td>\n",
       "    </tr>\n",
       "    <tr>\n",
       "      <th>2</th>\n",
       "      <td>B00CGYCNZI</td>\n",
       "      <td>2.0</td>\n",
       "      <td>did not last very long no longer working</td>\n",
       "      <td>A2X5NQN9TH9UUX</td>\n",
       "      <td>rufino maduena</td>\n",
       "      <td>{\"Style:\":\" 2 Handset\"}</td>\n",
       "      <td>Two Stars</td>\n",
       "      <td>1471996800</td>\n",
       "      <td>true</td>\n",
       "      <td>None</td>\n",
       "      <td>None</td>\n",
       "    </tr>\n",
       "    <tr>\n",
       "      <th>3</th>\n",
       "      <td>B000V8CZYA</td>\n",
       "      <td>3.0</td>\n",
       "      <td>I purchased the original iFP-100 series (iFP-1...</td>\n",
       "      <td>A2J8DK06LK1ULY</td>\n",
       "      <td>R. H. Lee</td>\n",
       "      <td>None</td>\n",
       "      <td>As they say, they don't make 'em like they use...</td>\n",
       "      <td>1196208000</td>\n",
       "      <td>true</td>\n",
       "      <td>None</td>\n",
       "      <td>None</td>\n",
       "    </tr>\n",
       "    <tr>\n",
       "      <th>4</th>\n",
       "      <td>B00CGYCNZI</td>\n",
       "      <td>5.0</td>\n",
       "      <td>Work very well.</td>\n",
       "      <td>A1YH5WS62ADB7M</td>\n",
       "      <td>Amazon Customer</td>\n",
       "      <td>{\"Style:\":\" 2 Handset\"}</td>\n",
       "      <td>Five Stars</td>\n",
       "      <td>1471651200</td>\n",
       "      <td>true</td>\n",
       "      <td>None</td>\n",
       "      <td>None</td>\n",
       "    </tr>\n",
       "  </tbody>\n",
       "</table>\n",
       "</div>"
      ],
      "text/plain": [
       "         asin overall                                         reviewText  \\\n",
       "0  B00CGYCNZI     4.0  I have used Panasonic and GE earlier as my cor...   \n",
       "1  B000V8CZYA     2.0  The sound quality is great, but a bit of cosme...   \n",
       "2  B00CGYCNZI     2.0           did not last very long no longer working   \n",
       "3  B000V8CZYA     3.0  I purchased the original iFP-100 series (iFP-1...   \n",
       "4  B00CGYCNZI     5.0                                    Work very well.   \n",
       "\n",
       "       reviewerID     reviewerName                    style  \\\n",
       "0    AOZOE2033AQK           Ramesh  {\"Style:\":\" 2 Handset\"}   \n",
       "1  A1AJFYLPI8M1LI   Buyer in Texas                     None   \n",
       "2  A2X5NQN9TH9UUX   rufino maduena  {\"Style:\":\" 2 Handset\"}   \n",
       "3  A2J8DK06LK1ULY        R. H. Lee                     None   \n",
       "4  A1YH5WS62ADB7M  Amazon Customer  {\"Style:\":\" 2 Handset\"}   \n",
       "\n",
       "                                             summary unixReviewTime verified  \\\n",
       "0                      Worth the Value and Love it..     1472342400     true   \n",
       "1                  Expensive, hard to navigate menus     1196553600     true   \n",
       "2                                          Two Stars     1471996800     true   \n",
       "3  As they say, they don't make 'em like they use...     1196208000     true   \n",
       "4                                         Five Stars     1471651200     true   \n",
       "\n",
       "   vote image  \n",
       "0  None  None  \n",
       "1  None  None  \n",
       "2  None  None  \n",
       "3  None  None  \n",
       "4  None  None  "
      ]
     },
     "execution_count": 18,
     "metadata": {},
     "output_type": "execute_result"
    }
   ],
   "source": [
    "# Zooming into the 1% data sample across industries/categories for the Review data set starting with top of data set\n",
    "\n",
    "rds.head()"
   ]
  },
  {
   "cell_type": "code",
   "execution_count": 19,
   "id": "9896137a",
   "metadata": {},
   "outputs": [
    {
     "data": {
      "text/html": [
       "<div>\n",
       "<style scoped>\n",
       "    .dataframe tbody tr th:only-of-type {\n",
       "        vertical-align: middle;\n",
       "    }\n",
       "\n",
       "    .dataframe tbody tr th {\n",
       "        vertical-align: top;\n",
       "    }\n",
       "\n",
       "    .dataframe thead th {\n",
       "        text-align: right;\n",
       "    }\n",
       "</style>\n",
       "<table border=\"1\" class=\"dataframe\">\n",
       "  <thead>\n",
       "    <tr style=\"text-align: right;\">\n",
       "      <th></th>\n",
       "      <th>asin</th>\n",
       "      <th>overall</th>\n",
       "      <th>reviewText</th>\n",
       "      <th>reviewerID</th>\n",
       "      <th>reviewerName</th>\n",
       "      <th>style</th>\n",
       "      <th>summary</th>\n",
       "      <th>unixReviewTime</th>\n",
       "      <th>verified</th>\n",
       "      <th>vote</th>\n",
       "      <th>image</th>\n",
       "    </tr>\n",
       "  </thead>\n",
       "  <tbody>\n",
       "    <tr>\n",
       "      <th>55928</th>\n",
       "      <td>B00GTU2WJ2</td>\n",
       "      <td>5.0</td>\n",
       "      <td>Have you ever noticed that a smell can transpo...</td>\n",
       "      <td>A30X9M0J5WOVAS</td>\n",
       "      <td>Amazon Customer</td>\n",
       "      <td>None</td>\n",
       "      <td>No Cook Should be Without One!</td>\n",
       "      <td>1392508800</td>\n",
       "      <td>false</td>\n",
       "      <td>19</td>\n",
       "      <td>None</td>\n",
       "    </tr>\n",
       "    <tr>\n",
       "      <th>55929</th>\n",
       "      <td>0356500624</td>\n",
       "      <td>5.0</td>\n",
       "      <td>I have read all of the Mercy Thompson books mu...</td>\n",
       "      <td>AGPGV5MAAB9GE</td>\n",
       "      <td>S Luedtke</td>\n",
       "      <td>{\"Format:\":\" Kindle Edition\"}</td>\n",
       "      <td>I wish I could meet these characters!</td>\n",
       "      <td>1394668800</td>\n",
       "      <td>true</td>\n",
       "      <td>None</td>\n",
       "      <td>None</td>\n",
       "    </tr>\n",
       "    <tr>\n",
       "      <th>55930</th>\n",
       "      <td>B00GTU2WJ2</td>\n",
       "      <td>5.0</td>\n",
       "      <td>Love the weight and length of this product, it...</td>\n",
       "      <td>A3HH4SFN5P4W6H</td>\n",
       "      <td>StephyG</td>\n",
       "      <td>None</td>\n",
       "      <td>practical and pretty</td>\n",
       "      <td>1392422400</td>\n",
       "      <td>false</td>\n",
       "      <td>None</td>\n",
       "      <td>None</td>\n",
       "    </tr>\n",
       "    <tr>\n",
       "      <th>55931</th>\n",
       "      <td>0356500624</td>\n",
       "      <td>5.0</td>\n",
       "      <td>Patricia has us following Mercy through numero...</td>\n",
       "      <td>A36LAGWPKOKH1R</td>\n",
       "      <td>Elaine Hopkins</td>\n",
       "      <td>{\"Format:\":\" Kindle Edition\"}</td>\n",
       "      <td>Mercy in a familiar situation</td>\n",
       "      <td>1394496000</td>\n",
       "      <td>false</td>\n",
       "      <td>None</td>\n",
       "      <td>None</td>\n",
       "    </tr>\n",
       "    <tr>\n",
       "      <th>55932</th>\n",
       "      <td>B00GTU2WJ2</td>\n",
       "      <td>5.0</td>\n",
       "      <td>I was a little worried at first that the grate...</td>\n",
       "      <td>A2PNIJMDXGD9WI</td>\n",
       "      <td>Chrystal Mahan</td>\n",
       "      <td>None</td>\n",
       "      <td>Another Utensil to Add to My Collection</td>\n",
       "      <td>1391990400</td>\n",
       "      <td>false</td>\n",
       "      <td>None</td>\n",
       "      <td>None</td>\n",
       "    </tr>\n",
       "  </tbody>\n",
       "</table>\n",
       "</div>"
      ],
      "text/plain": [
       "             asin overall                                         reviewText  \\\n",
       "55928  B00GTU2WJ2     5.0  Have you ever noticed that a smell can transpo...   \n",
       "55929  0356500624     5.0  I have read all of the Mercy Thompson books mu...   \n",
       "55930  B00GTU2WJ2     5.0  Love the weight and length of this product, it...   \n",
       "55931  0356500624     5.0  Patricia has us following Mercy through numero...   \n",
       "55932  B00GTU2WJ2     5.0  I was a little worried at first that the grate...   \n",
       "\n",
       "           reviewerID     reviewerName                          style  \\\n",
       "55928  A30X9M0J5WOVAS  Amazon Customer                           None   \n",
       "55929   AGPGV5MAAB9GE        S Luedtke  {\"Format:\":\" Kindle Edition\"}   \n",
       "55930  A3HH4SFN5P4W6H          StephyG                           None   \n",
       "55931  A36LAGWPKOKH1R   Elaine Hopkins  {\"Format:\":\" Kindle Edition\"}   \n",
       "55932  A2PNIJMDXGD9WI   Chrystal Mahan                           None   \n",
       "\n",
       "                                       summary unixReviewTime verified  vote  \\\n",
       "55928           No Cook Should be Without One!     1392508800    false    19   \n",
       "55929    I wish I could meet these characters!     1394668800     true  None   \n",
       "55930                     practical and pretty     1392422400    false  None   \n",
       "55931            Mercy in a familiar situation     1394496000    false  None   \n",
       "55932  Another Utensil to Add to My Collection     1391990400    false  None   \n",
       "\n",
       "      image  \n",
       "55928  None  \n",
       "55929  None  \n",
       "55930  None  \n",
       "55931  None  \n",
       "55932  None  "
      ]
     },
     "execution_count": 19,
     "metadata": {},
     "output_type": "execute_result"
    }
   ],
   "source": [
    "# Zooming into the 1% data sample across industries/categories for the Review data set starting with bottom of data set\n",
    "\n",
    "rds.tail()"
   ]
  },
  {
   "cell_type": "code",
   "execution_count": 20,
   "id": "3076c378",
   "metadata": {},
   "outputs": [
    {
     "name": "stdout",
     "output_type": "stream",
     "text": [
      "<class 'pandas.core.frame.DataFrame'>\n",
      "Int64Index: 1499752 entries, 0 to 55932\n",
      "Data columns (total 11 columns):\n",
      " #   Column          Non-Null Count    Dtype \n",
      "---  ------          --------------    ----- \n",
      " 0   asin            1499752 non-null  object\n",
      " 1   overall         1499752 non-null  object\n",
      " 2   reviewText      1498878 non-null  object\n",
      " 3   reviewerID      1499752 non-null  object\n",
      " 4   reviewerName    1499677 non-null  object\n",
      " 5   style           1010222 non-null  object\n",
      " 6   summary         1499318 non-null  object\n",
      " 7   unixReviewTime  1499752 non-null  object\n",
      " 8   verified        1499752 non-null  object\n",
      " 9   vote            232669 non-null   object\n",
      " 10  image           22240 non-null    object\n",
      "dtypes: object(11)\n",
      "memory usage: 137.3+ MB\n"
     ]
    }
   ],
   "source": [
    "# Zooming into the 1% data sample across industries/categories for the Review data set on missing values, column names and data types\n",
    "\n",
    "rds.info()"
   ]
  },
  {
   "cell_type": "code",
   "execution_count": 21,
   "id": "ed1c3d35",
   "metadata": {},
   "outputs": [
    {
     "data": {
      "text/html": [
       "<div>\n",
       "<style scoped>\n",
       "    .dataframe tbody tr th:only-of-type {\n",
       "        vertical-align: middle;\n",
       "    }\n",
       "\n",
       "    .dataframe tbody tr th {\n",
       "        vertical-align: top;\n",
       "    }\n",
       "\n",
       "    .dataframe thead th {\n",
       "        text-align: right;\n",
       "    }\n",
       "</style>\n",
       "<table border=\"1\" class=\"dataframe\">\n",
       "  <thead>\n",
       "    <tr style=\"text-align: right;\">\n",
       "      <th></th>\n",
       "      <th>asin</th>\n",
       "      <th>overall</th>\n",
       "      <th>reviewText</th>\n",
       "      <th>reviewerID</th>\n",
       "      <th>reviewerName</th>\n",
       "      <th>style</th>\n",
       "      <th>summary</th>\n",
       "      <th>unixReviewTime</th>\n",
       "      <th>verified</th>\n",
       "      <th>vote</th>\n",
       "      <th>image</th>\n",
       "    </tr>\n",
       "  </thead>\n",
       "  <tbody>\n",
       "    <tr>\n",
       "      <th>count</th>\n",
       "      <td>1499752</td>\n",
       "      <td>1499752</td>\n",
       "      <td>1498878</td>\n",
       "      <td>1499752</td>\n",
       "      <td>1499677</td>\n",
       "      <td>1010222</td>\n",
       "      <td>1499318</td>\n",
       "      <td>1499752</td>\n",
       "      <td>1499752</td>\n",
       "      <td>232669</td>\n",
       "      <td>22240</td>\n",
       "    </tr>\n",
       "    <tr>\n",
       "      <th>unique</th>\n",
       "      <td>129876</td>\n",
       "      <td>5</td>\n",
       "      <td>1386614</td>\n",
       "      <td>1300682</td>\n",
       "      <td>848318</td>\n",
       "      <td>36302</td>\n",
       "      <td>835518</td>\n",
       "      <td>7476</td>\n",
       "      <td>2</td>\n",
       "      <td>443</td>\n",
       "      <td>22181</td>\n",
       "    </tr>\n",
       "    <tr>\n",
       "      <th>top</th>\n",
       "      <td>B00571F26Y</td>\n",
       "      <td>5.0</td>\n",
       "      <td>Great</td>\n",
       "      <td>A2F6N60Z96CAJI</td>\n",
       "      <td>Amazon Customer</td>\n",
       "      <td>{\"Format:\":\" Kindle Edition\"}</td>\n",
       "      <td>Five Stars</td>\n",
       "      <td>1461024000</td>\n",
       "      <td>true</td>\n",
       "      <td>2</td>\n",
       "      <td>[\"88\"]</td>\n",
       "    </tr>\n",
       "    <tr>\n",
       "      <th>freq</th>\n",
       "      <td>6114</td>\n",
       "      <td>942098</td>\n",
       "      <td>2719</td>\n",
       "      <td>136</td>\n",
       "      <td>110843</td>\n",
       "      <td>277609</td>\n",
       "      <td>248136</td>\n",
       "      <td>1902</td>\n",
       "      <td>1196297</td>\n",
       "      <td>79233</td>\n",
       "      <td>9</td>\n",
       "    </tr>\n",
       "  </tbody>\n",
       "</table>\n",
       "</div>"
      ],
      "text/plain": [
       "              asin  overall reviewText      reviewerID     reviewerName  \\\n",
       "count      1499752  1499752    1498878         1499752          1499677   \n",
       "unique      129876        5    1386614         1300682           848318   \n",
       "top     B00571F26Y      5.0      Great  A2F6N60Z96CAJI  Amazon Customer   \n",
       "freq          6114   942098       2719             136           110843   \n",
       "\n",
       "                                style     summary unixReviewTime verified  \\\n",
       "count                         1010222     1499318        1499752  1499752   \n",
       "unique                          36302      835518           7476        2   \n",
       "top     {\"Format:\":\" Kindle Edition\"}  Five Stars     1461024000     true   \n",
       "freq                           277609      248136           1902  1196297   \n",
       "\n",
       "          vote   image  \n",
       "count   232669   22240  \n",
       "unique     443   22181  \n",
       "top          2  [\"88\"]  \n",
       "freq     79233       9  "
      ]
     },
     "execution_count": 21,
     "metadata": {},
     "output_type": "execute_result"
    }
   ],
   "source": [
    "# Zooming into the 1% data sample across industries/categories for the Review data set starting with summary statistics\n",
    "\n",
    "rds.describe()"
   ]
  },
  {
   "cell_type": "markdown",
   "id": "94868668",
   "metadata": {},
   "source": [
    "<div class=\"alert alert-block alert-warning\">\n",
    "<h2> Process Insights 7/28/2023</h2>\n",
    "-------------------------------------------------------------------------------------------------------------------------------\n",
    "\n",
    "     This second data iteration has potential so worth moving into data cleaning/munching/prep/wrangling.\n",
    "    \n",
    "     Here the data observed needs:\n",
    "     \n",
    "    \n",
    "* We are going to need transformations as all items are data type Object(strings). <br>\n",
    "    \n",
    "     - We shall drop the columns:  *image, vote, and style* per low information gain (and many NaN values).\n",
    "     - Columns *reviewerID and reviewerName* are related yet reviewerID is free of missing values, thus removing the *reviewerName* column as well\n",
    "     - Suggest changing name to *overall* into **score** and data type to int64 as is likely the target variable.\n",
    "     - Potentialy reduce into smaller dataframes for visualizations and begin corelations\n",
    "     - Likely feature engineering will be beneficial\n",
    "     - Heavy string at column reviewText is target for further analysis and summary will be quite useful as well    \n",
    "</div>"
   ]
  },
  {
   "cell_type": "markdown",
   "id": "41f62fe5",
   "metadata": {},
   "source": [
    "## Initial prep work prior to EDA\n",
    "\n",
    "> Rename overall column to score as if we decide on predictive ML this will be the Target Variable\n",
    "\n",
    "> Drop the columns that are not providing enough information gain\n",
    "\n",
    "> Change score column data type to int64\n",
    "\n",
    "> Change unixReviewTime column data type to datetime64[ns] to make it more human readable friendly\n",
    "\n",
    "> Change the unixReviewTime column name timestamp now that it has the friendly display\n",
    "\n",
    "> Sort by timestamp and reset index to match the new order\n",
    "\n",
    "> Add feature engineering for dates as will be helpful for the data analysis phase\n",
    "\n",
    "> Convert date column from object to date data type M8[ns]\n",
    "\n",
    "> Final check to confirm the null values left are unavoidable and thus keeping those"
   ]
  },
  {
   "cell_type": "code",
   "execution_count": 22,
   "id": "0cc680bf",
   "metadata": {},
   "outputs": [
    {
     "data": {
      "text/html": [
       "<div>\n",
       "<style scoped>\n",
       "    .dataframe tbody tr th:only-of-type {\n",
       "        vertical-align: middle;\n",
       "    }\n",
       "\n",
       "    .dataframe tbody tr th {\n",
       "        vertical-align: top;\n",
       "    }\n",
       "\n",
       "    .dataframe thead th {\n",
       "        text-align: right;\n",
       "    }\n",
       "</style>\n",
       "<table border=\"1\" class=\"dataframe\">\n",
       "  <thead>\n",
       "    <tr style=\"text-align: right;\">\n",
       "      <th></th>\n",
       "      <th>asin</th>\n",
       "      <th>score</th>\n",
       "      <th>reviewText</th>\n",
       "      <th>reviewerID</th>\n",
       "      <th>reviewerName</th>\n",
       "      <th>style</th>\n",
       "      <th>summary</th>\n",
       "      <th>unixReviewTime</th>\n",
       "      <th>verified</th>\n",
       "      <th>vote</th>\n",
       "      <th>image</th>\n",
       "    </tr>\n",
       "  </thead>\n",
       "  <tbody>\n",
       "    <tr>\n",
       "      <th>0</th>\n",
       "      <td>B00CGYCNZI</td>\n",
       "      <td>4.0</td>\n",
       "      <td>I have used Panasonic and GE earlier as my cor...</td>\n",
       "      <td>AOZOE2033AQK</td>\n",
       "      <td>Ramesh</td>\n",
       "      <td>{\"Style:\":\" 2 Handset\"}</td>\n",
       "      <td>Worth the Value and Love it..</td>\n",
       "      <td>1472342400</td>\n",
       "      <td>true</td>\n",
       "      <td>None</td>\n",
       "      <td>None</td>\n",
       "    </tr>\n",
       "  </tbody>\n",
       "</table>\n",
       "</div>"
      ],
      "text/plain": [
       "         asin score                                         reviewText  \\\n",
       "0  B00CGYCNZI   4.0  I have used Panasonic and GE earlier as my cor...   \n",
       "\n",
       "     reviewerID reviewerName                    style  \\\n",
       "0  AOZOE2033AQK       Ramesh  {\"Style:\":\" 2 Handset\"}   \n",
       "\n",
       "                         summary unixReviewTime verified  vote image  \n",
       "0  Worth the Value and Love it..     1472342400     true  None  None  "
      ]
     },
     "execution_count": 22,
     "metadata": {},
     "output_type": "execute_result"
    }
   ],
   "source": [
    "# Changing the column name at current 1% scope Review Data Set\n",
    "\n",
    "rds.rename(columns = {'overall':'score'}, inplace = True)\n",
    "rds.head(1)"
   ]
  },
  {
   "cell_type": "code",
   "execution_count": 23,
   "id": "b1903815",
   "metadata": {},
   "outputs": [
    {
     "data": {
      "text/html": [
       "<div>\n",
       "<style scoped>\n",
       "    .dataframe tbody tr th:only-of-type {\n",
       "        vertical-align: middle;\n",
       "    }\n",
       "\n",
       "    .dataframe tbody tr th {\n",
       "        vertical-align: top;\n",
       "    }\n",
       "\n",
       "    .dataframe thead th {\n",
       "        text-align: right;\n",
       "    }\n",
       "</style>\n",
       "<table border=\"1\" class=\"dataframe\">\n",
       "  <thead>\n",
       "    <tr style=\"text-align: right;\">\n",
       "      <th></th>\n",
       "      <th>asin</th>\n",
       "      <th>score</th>\n",
       "      <th>reviewText</th>\n",
       "      <th>reviewerID</th>\n",
       "      <th>summary</th>\n",
       "      <th>unixReviewTime</th>\n",
       "      <th>verified</th>\n",
       "    </tr>\n",
       "  </thead>\n",
       "  <tbody>\n",
       "    <tr>\n",
       "      <th>0</th>\n",
       "      <td>B00CGYCNZI</td>\n",
       "      <td>4.0</td>\n",
       "      <td>I have used Panasonic and GE earlier as my cor...</td>\n",
       "      <td>AOZOE2033AQK</td>\n",
       "      <td>Worth the Value and Love it..</td>\n",
       "      <td>1472342400</td>\n",
       "      <td>true</td>\n",
       "    </tr>\n",
       "  </tbody>\n",
       "</table>\n",
       "</div>"
      ],
      "text/plain": [
       "         asin score                                         reviewText  \\\n",
       "0  B00CGYCNZI   4.0  I have used Panasonic and GE earlier as my cor...   \n",
       "\n",
       "     reviewerID                        summary unixReviewTime verified  \n",
       "0  AOZOE2033AQK  Worth the Value and Love it..     1472342400     true  "
      ]
     },
     "execution_count": 23,
     "metadata": {},
     "output_type": "execute_result"
    }
   ],
   "source": [
    "# Remove columns that are not needed\n",
    "\n",
    "rds.drop(['style','vote','image', 'reviewerName'], axis = 1, inplace = True)\n",
    "rds.head(1)"
   ]
  },
  {
   "cell_type": "code",
   "execution_count": 24,
   "id": "a626c3fd",
   "metadata": {},
   "outputs": [
    {
     "data": {
      "text/plain": [
       "asin              object\n",
       "score              int64\n",
       "reviewText        object\n",
       "reviewerID        object\n",
       "summary           object\n",
       "unixReviewTime    object\n",
       "verified          object\n",
       "dtype: object"
      ]
     },
     "execution_count": 24,
     "metadata": {},
     "output_type": "execute_result"
    }
   ],
   "source": [
    "# Change score to int64 data type\n",
    "\n",
    "rds['score'].replace(['1.0', '2.0', '3.0', '4.0', '5.0'], [1, 2, 3, 4, 5], inplace = True)\n",
    "rds.dtypes"
   ]
  },
  {
   "cell_type": "code",
   "execution_count": 25,
   "id": "04ef1a32",
   "metadata": {},
   "outputs": [
    {
     "data": {
      "text/plain": [
       "asin                      object\n",
       "score                      int64\n",
       "reviewText                object\n",
       "reviewerID                object\n",
       "summary                   object\n",
       "unixReviewTime    datetime64[ns]\n",
       "verified                  object\n",
       "dtype: object"
      ]
     },
     "execution_count": 25,
     "metadata": {},
     "output_type": "execute_result"
    }
   ],
   "source": [
    "rds['unixReviewTime'] = pd.to_datetime(rds['unixReviewTime'], unit='s')\n",
    "rds.dtypes"
   ]
  },
  {
   "cell_type": "code",
   "execution_count": 26,
   "id": "caf82e02",
   "metadata": {},
   "outputs": [
    {
     "data": {
      "text/html": [
       "<div>\n",
       "<style scoped>\n",
       "    .dataframe tbody tr th:only-of-type {\n",
       "        vertical-align: middle;\n",
       "    }\n",
       "\n",
       "    .dataframe tbody tr th {\n",
       "        vertical-align: top;\n",
       "    }\n",
       "\n",
       "    .dataframe thead th {\n",
       "        text-align: right;\n",
       "    }\n",
       "</style>\n",
       "<table border=\"1\" class=\"dataframe\">\n",
       "  <thead>\n",
       "    <tr style=\"text-align: right;\">\n",
       "      <th></th>\n",
       "      <th>asin</th>\n",
       "      <th>score</th>\n",
       "      <th>reviewText</th>\n",
       "      <th>reviewerID</th>\n",
       "      <th>summary</th>\n",
       "      <th>timestamp</th>\n",
       "      <th>verified</th>\n",
       "    </tr>\n",
       "  </thead>\n",
       "  <tbody>\n",
       "    <tr>\n",
       "      <th>0</th>\n",
       "      <td>B00CGYCNZI</td>\n",
       "      <td>4</td>\n",
       "      <td>I have used Panasonic and GE earlier as my cor...</td>\n",
       "      <td>AOZOE2033AQK</td>\n",
       "      <td>Worth the Value and Love it..</td>\n",
       "      <td>2016-08-28</td>\n",
       "      <td>true</td>\n",
       "    </tr>\n",
       "  </tbody>\n",
       "</table>\n",
       "</div>"
      ],
      "text/plain": [
       "         asin  score                                         reviewText  \\\n",
       "0  B00CGYCNZI      4  I have used Panasonic and GE earlier as my cor...   \n",
       "\n",
       "     reviewerID                        summary  timestamp verified  \n",
       "0  AOZOE2033AQK  Worth the Value and Love it.. 2016-08-28     true  "
      ]
     },
     "execution_count": 26,
     "metadata": {},
     "output_type": "execute_result"
    }
   ],
   "source": [
    "# Now change the name to timestamp\n",
    "\n",
    "rds.rename(columns = {'unixReviewTime':'timestamp'}, inplace = True)\n",
    "rds.head(1)"
   ]
  },
  {
   "cell_type": "code",
   "execution_count": 27,
   "id": "3605eb94",
   "metadata": {},
   "outputs": [
    {
     "data": {
      "text/html": [
       "<div>\n",
       "<style scoped>\n",
       "    .dataframe tbody tr th:only-of-type {\n",
       "        vertical-align: middle;\n",
       "    }\n",
       "\n",
       "    .dataframe tbody tr th {\n",
       "        vertical-align: top;\n",
       "    }\n",
       "\n",
       "    .dataframe thead th {\n",
       "        text-align: right;\n",
       "    }\n",
       "</style>\n",
       "<table border=\"1\" class=\"dataframe\">\n",
       "  <thead>\n",
       "    <tr style=\"text-align: right;\">\n",
       "      <th></th>\n",
       "      <th>asin</th>\n",
       "      <th>score</th>\n",
       "      <th>reviewText</th>\n",
       "      <th>reviewerID</th>\n",
       "      <th>summary</th>\n",
       "      <th>timestamp</th>\n",
       "      <th>verified</th>\n",
       "    </tr>\n",
       "  </thead>\n",
       "  <tbody>\n",
       "    <tr>\n",
       "      <th>0</th>\n",
       "      <td>0871202433</td>\n",
       "      <td>5</td>\n",
       "      <td>Robert Sylwester's much overlooked book, A Cel...</td>\n",
       "      <td>A2API7H1WS1C56</td>\n",
       "      <td>A  Celebration of Neurons, by Robert Sylwester,</td>\n",
       "      <td>1997-08-09</td>\n",
       "      <td>false</td>\n",
       "    </tr>\n",
       "    <tr>\n",
       "      <th>1</th>\n",
       "      <td>0061535680</td>\n",
       "      <td>1</td>\n",
       "      <td>Trivia.  Dialogue waste of time, paper and add...</td>\n",
       "      <td>AAW5NRUVURHU2</td>\n",
       "      <td>poor entry in derby of books written by lawyers</td>\n",
       "      <td>1997-08-13</td>\n",
       "      <td>false</td>\n",
       "    </tr>\n",
       "    <tr>\n",
       "      <th>2</th>\n",
       "      <td>0316332259</td>\n",
       "      <td>5</td>\n",
       "      <td>Twenty years after his sudden death and a resu...</td>\n",
       "      <td>A1IBMUD9XXD68X</td>\n",
       "      <td>An Icon of His Era And Of All Time</td>\n",
       "      <td>1997-08-17</td>\n",
       "      <td>false</td>\n",
       "    </tr>\n",
       "    <tr>\n",
       "      <th>3</th>\n",
       "      <td>0933149581</td>\n",
       "      <td>3</td>\n",
       "      <td>The author writes about the education of speci...</td>\n",
       "      <td>A1LOZWO9JTN5L8</td>\n",
       "      <td>Wings to Fly: Bringing Theatre Arts to Student...</td>\n",
       "      <td>1997-08-21</td>\n",
       "      <td>false</td>\n",
       "    </tr>\n",
       "    <tr>\n",
       "      <th>4</th>\n",
       "      <td>0356108163</td>\n",
       "      <td>4</td>\n",
       "      <td>A really nice collection of stories by Stephen...</td>\n",
       "      <td>A2ILUXA828DESI</td>\n",
       "      <td>No bones to pick about this book</td>\n",
       "      <td>1997-08-23</td>\n",
       "      <td>false</td>\n",
       "    </tr>\n",
       "  </tbody>\n",
       "</table>\n",
       "</div>"
      ],
      "text/plain": [
       "         asin  score                                         reviewText  \\\n",
       "0  0871202433      5  Robert Sylwester's much overlooked book, A Cel...   \n",
       "1  0061535680      1  Trivia.  Dialogue waste of time, paper and add...   \n",
       "2  0316332259      5  Twenty years after his sudden death and a resu...   \n",
       "3  0933149581      3  The author writes about the education of speci...   \n",
       "4  0356108163      4  A really nice collection of stories by Stephen...   \n",
       "\n",
       "       reviewerID                                            summary  \\\n",
       "0  A2API7H1WS1C56    A  Celebration of Neurons, by Robert Sylwester,   \n",
       "1   AAW5NRUVURHU2    poor entry in derby of books written by lawyers   \n",
       "2  A1IBMUD9XXD68X                 An Icon of His Era And Of All Time   \n",
       "3  A1LOZWO9JTN5L8  Wings to Fly: Bringing Theatre Arts to Student...   \n",
       "4  A2ILUXA828DESI                   No bones to pick about this book   \n",
       "\n",
       "   timestamp verified  \n",
       "0 1997-08-09    false  \n",
       "1 1997-08-13    false  \n",
       "2 1997-08-17    false  \n",
       "3 1997-08-21    false  \n",
       "4 1997-08-23    false  "
      ]
     },
     "execution_count": 27,
     "metadata": {},
     "output_type": "execute_result"
    }
   ],
   "source": [
    "# Sorting data set per time line and reseting index\n",
    "\n",
    "rds.sort_values(by = ['timestamp'], inplace = True)\n",
    "rds.reset_index(inplace = True, drop = True)\n",
    "rds.head()"
   ]
  },
  {
   "cell_type": "code",
   "execution_count": 28,
   "id": "ffe69984",
   "metadata": {},
   "outputs": [
    {
     "data": {
      "text/html": [
       "<div>\n",
       "<style scoped>\n",
       "    .dataframe tbody tr th:only-of-type {\n",
       "        vertical-align: middle;\n",
       "    }\n",
       "\n",
       "    .dataframe tbody tr th {\n",
       "        vertical-align: top;\n",
       "    }\n",
       "\n",
       "    .dataframe thead th {\n",
       "        text-align: right;\n",
       "    }\n",
       "</style>\n",
       "<table border=\"1\" class=\"dataframe\">\n",
       "  <thead>\n",
       "    <tr style=\"text-align: right;\">\n",
       "      <th></th>\n",
       "      <th>asin</th>\n",
       "      <th>score</th>\n",
       "      <th>reviewText</th>\n",
       "      <th>reviewerID</th>\n",
       "      <th>summary</th>\n",
       "      <th>timestamp</th>\n",
       "      <th>verified</th>\n",
       "    </tr>\n",
       "  </thead>\n",
       "  <tbody>\n",
       "    <tr>\n",
       "      <th>1499747</th>\n",
       "      <td>B01EJF0FKQ</td>\n",
       "      <td>5</td>\n",
       "      <td>Fine quality and very reasonable price.  I loo...</td>\n",
       "      <td>A22SCCVUPRAL27</td>\n",
       "      <td>So easy and great quality</td>\n",
       "      <td>2018-09-28</td>\n",
       "      <td>true</td>\n",
       "    </tr>\n",
       "    <tr>\n",
       "      <th>1499748</th>\n",
       "      <td>B01EJFIR92</td>\n",
       "      <td>5</td>\n",
       "      <td>It is great for my son's middle school gym class!</td>\n",
       "      <td>A7130LKDYGBGN</td>\n",
       "      <td>Bigger than it looks!</td>\n",
       "      <td>2018-09-28</td>\n",
       "      <td>true</td>\n",
       "    </tr>\n",
       "    <tr>\n",
       "      <th>1499749</th>\n",
       "      <td>B01ELKP504</td>\n",
       "      <td>5</td>\n",
       "      <td>Thank you for the speedy delivery and great pa...</td>\n",
       "      <td>A4JRPFF2ZQZ41</td>\n",
       "      <td>What you see is what you get!</td>\n",
       "      <td>2018-09-28</td>\n",
       "      <td>true</td>\n",
       "    </tr>\n",
       "    <tr>\n",
       "      <th>1499750</th>\n",
       "      <td>B01ELB7IY4</td>\n",
       "      <td>3</td>\n",
       "      <td>There was no support as if you would get buyin...</td>\n",
       "      <td>A3G0E41060K5T4</td>\n",
       "      <td>not really bathing suit material....</td>\n",
       "      <td>2018-09-28</td>\n",
       "      <td>true</td>\n",
       "    </tr>\n",
       "    <tr>\n",
       "      <th>1499751</th>\n",
       "      <td>B01ELFB7J2</td>\n",
       "      <td>5</td>\n",
       "      <td>Was hesitant but definitely feeling good about...</td>\n",
       "      <td>A17GM6PCT98HBD</td>\n",
       "      <td>Nice socks</td>\n",
       "      <td>2018-09-28</td>\n",
       "      <td>true</td>\n",
       "    </tr>\n",
       "  </tbody>\n",
       "</table>\n",
       "</div>"
      ],
      "text/plain": [
       "               asin  score                                         reviewText  \\\n",
       "1499747  B01EJF0FKQ      5  Fine quality and very reasonable price.  I loo...   \n",
       "1499748  B01EJFIR92      5  It is great for my son's middle school gym class!   \n",
       "1499749  B01ELKP504      5  Thank you for the speedy delivery and great pa...   \n",
       "1499750  B01ELB7IY4      3  There was no support as if you would get buyin...   \n",
       "1499751  B01ELFB7J2      5  Was hesitant but definitely feeling good about...   \n",
       "\n",
       "             reviewerID                               summary  timestamp  \\\n",
       "1499747  A22SCCVUPRAL27             So easy and great quality 2018-09-28   \n",
       "1499748   A7130LKDYGBGN                 Bigger than it looks! 2018-09-28   \n",
       "1499749   A4JRPFF2ZQZ41         What you see is what you get! 2018-09-28   \n",
       "1499750  A3G0E41060K5T4  not really bathing suit material.... 2018-09-28   \n",
       "1499751  A17GM6PCT98HBD                            Nice socks 2018-09-28   \n",
       "\n",
       "        verified  \n",
       "1499747     true  \n",
       "1499748     true  \n",
       "1499749     true  \n",
       "1499750     true  \n",
       "1499751     true  "
      ]
     },
     "execution_count": 28,
     "metadata": {},
     "output_type": "execute_result"
    }
   ],
   "source": [
    "# Checking sorting at the end of the data set as well\n",
    "\n",
    "rds.tail()"
   ]
  },
  {
   "cell_type": "code",
   "execution_count": 29,
   "id": "91deb5e5",
   "metadata": {},
   "outputs": [
    {
     "data": {
      "text/html": [
       "<div>\n",
       "<style scoped>\n",
       "    .dataframe tbody tr th:only-of-type {\n",
       "        vertical-align: middle;\n",
       "    }\n",
       "\n",
       "    .dataframe tbody tr th {\n",
       "        vertical-align: top;\n",
       "    }\n",
       "\n",
       "    .dataframe thead th {\n",
       "        text-align: right;\n",
       "    }\n",
       "</style>\n",
       "<table border=\"1\" class=\"dataframe\">\n",
       "  <thead>\n",
       "    <tr style=\"text-align: right;\">\n",
       "      <th></th>\n",
       "      <th>asin</th>\n",
       "      <th>score</th>\n",
       "      <th>reviewText</th>\n",
       "      <th>reviewerID</th>\n",
       "      <th>summary</th>\n",
       "      <th>timestamp</th>\n",
       "      <th>verified</th>\n",
       "      <th>date</th>\n",
       "      <th>year</th>\n",
       "      <th>month</th>\n",
       "      <th>day</th>\n",
       "      <th>day_of_week</th>\n",
       "    </tr>\n",
       "  </thead>\n",
       "  <tbody>\n",
       "    <tr>\n",
       "      <th>0</th>\n",
       "      <td>0871202433</td>\n",
       "      <td>5</td>\n",
       "      <td>Robert Sylwester's much overlooked book, A Cel...</td>\n",
       "      <td>A2API7H1WS1C56</td>\n",
       "      <td>A  Celebration of Neurons, by Robert Sylwester,</td>\n",
       "      <td>1997-08-09</td>\n",
       "      <td>false</td>\n",
       "      <td>1997-08-09</td>\n",
       "      <td>1997</td>\n",
       "      <td>8</td>\n",
       "      <td>9</td>\n",
       "      <td>5</td>\n",
       "    </tr>\n",
       "  </tbody>\n",
       "</table>\n",
       "</div>"
      ],
      "text/plain": [
       "         asin  score                                         reviewText  \\\n",
       "0  0871202433      5  Robert Sylwester's much overlooked book, A Cel...   \n",
       "\n",
       "       reviewerID                                          summary  timestamp  \\\n",
       "0  A2API7H1WS1C56  A  Celebration of Neurons, by Robert Sylwester, 1997-08-09   \n",
       "\n",
       "  verified        date  year  month  day  day_of_week  \n",
       "0    false  1997-08-09  1997      8    9            5  "
      ]
     },
     "execution_count": 29,
     "metadata": {},
     "output_type": "execute_result"
    }
   ],
   "source": [
    "# Some feature engineering for time and date\n",
    "\n",
    "rds['date'] = pd.to_datetime(rds['timestamp']).dt.date\n",
    "rds['year'] = pd.to_datetime(rds['timestamp']).dt.year\n",
    "rds['month'] = pd.to_datetime(rds['timestamp']).dt.month\n",
    "rds['day'] = pd.to_datetime(rds['timestamp']).dt.day\n",
    "rds['day_of_week'] = pd.to_datetime(rds['timestamp']).dt.dayofweek\n",
    "rds.head(1)"
   ]
  },
  {
   "cell_type": "code",
   "execution_count": 30,
   "id": "b92ba646",
   "metadata": {},
   "outputs": [
    {
     "data": {
      "text/plain": [
       "asin                   object\n",
       "score                   int64\n",
       "reviewText             object\n",
       "reviewerID             object\n",
       "summary                object\n",
       "timestamp      datetime64[ns]\n",
       "verified               object\n",
       "date                   object\n",
       "year                    int64\n",
       "month                   int64\n",
       "day                     int64\n",
       "day_of_week             int64\n",
       "dtype: object"
      ]
     },
     "execution_count": 30,
     "metadata": {},
     "output_type": "execute_result"
    }
   ],
   "source": [
    "# Confirm data types\n",
    "\n",
    "rds.dtypes"
   ]
  },
  {
   "cell_type": "code",
   "execution_count": 31,
   "id": "eb75fc72",
   "metadata": {},
   "outputs": [
    {
     "data": {
      "text/plain": [
       "dtype('<M8[ns]')"
      ]
     },
     "execution_count": 31,
     "metadata": {},
     "output_type": "execute_result"
    }
   ],
   "source": [
    "# Convert date column from object to date\n",
    "\n",
    "rds['date'] = pd.to_datetime(rds['date'])\n",
    "rds['date'].dtypes\n"
   ]
  },
  {
   "cell_type": "code",
   "execution_count": 32,
   "id": "64c91fd5",
   "metadata": {},
   "outputs": [
    {
     "name": "stdout",
     "output_type": "stream",
     "text": [
      "<class 'pandas.core.frame.DataFrame'>\n",
      "RangeIndex: 1499752 entries, 0 to 1499751\n",
      "Data columns (total 12 columns):\n",
      " #   Column       Non-Null Count    Dtype         \n",
      "---  ------       --------------    -----         \n",
      " 0   asin         1499752 non-null  object        \n",
      " 1   score        1499752 non-null  int64         \n",
      " 2   reviewText   1498878 non-null  object        \n",
      " 3   reviewerID   1499752 non-null  object        \n",
      " 4   summary      1499318 non-null  object        \n",
      " 5   timestamp    1499752 non-null  datetime64[ns]\n",
      " 6   verified     1499752 non-null  object        \n",
      " 7   date         1499752 non-null  datetime64[ns]\n",
      " 8   year         1499752 non-null  int64         \n",
      " 9   month        1499752 non-null  int64         \n",
      " 10  day          1499752 non-null  int64         \n",
      " 11  day_of_week  1499752 non-null  int64         \n",
      "dtypes: datetime64[ns](2), int64(5), object(5)\n",
      "memory usage: 137.3+ MB\n"
     ]
    }
   ],
   "source": [
    "rds.info()"
   ]
  },
  {
   "cell_type": "markdown",
   "id": "2550e7b4",
   "metadata": {},
   "source": [
    "\n"
   ]
  },
  {
   "cell_type": "code",
   "execution_count": 33,
   "id": "73ce36e6",
   "metadata": {},
   "outputs": [
    {
     "data": {
      "text/plain": [
       "asin             0\n",
       "score            0\n",
       "reviewText     874\n",
       "reviewerID       0\n",
       "summary        434\n",
       "timestamp        0\n",
       "verified         0\n",
       "date             0\n",
       "year             0\n",
       "month            0\n",
       "day              0\n",
       "day_of_week      0\n",
       "dtype: int64"
      ]
     },
     "execution_count": 33,
     "metadata": {},
     "output_type": "execute_result"
    }
   ],
   "source": [
    "# Final confirmation on null values and that they do not interfere with the analyisis\n",
    "\n",
    "rds.isnull().sum()"
   ]
  },
  {
   "cell_type": "code",
   "execution_count": 34,
   "id": "99859e24",
   "metadata": {},
   "outputs": [
    {
     "data": {
      "text/html": [
       "<div>\n",
       "<style scoped>\n",
       "    .dataframe tbody tr th:only-of-type {\n",
       "        vertical-align: middle;\n",
       "    }\n",
       "\n",
       "    .dataframe tbody tr th {\n",
       "        vertical-align: top;\n",
       "    }\n",
       "\n",
       "    .dataframe thead th {\n",
       "        text-align: right;\n",
       "    }\n",
       "</style>\n",
       "<table border=\"1\" class=\"dataframe\">\n",
       "  <thead>\n",
       "    <tr style=\"text-align: right;\">\n",
       "      <th></th>\n",
       "      <th>asin</th>\n",
       "      <th>score</th>\n",
       "      <th>reviewText</th>\n",
       "      <th>reviewerID</th>\n",
       "      <th>summary</th>\n",
       "      <th>timestamp</th>\n",
       "      <th>verified</th>\n",
       "      <th>date</th>\n",
       "      <th>year</th>\n",
       "      <th>month</th>\n",
       "      <th>day</th>\n",
       "      <th>day_of_week</th>\n",
       "    </tr>\n",
       "  </thead>\n",
       "  <tbody>\n",
       "    <tr>\n",
       "      <th>count</th>\n",
       "      <td>1499752</td>\n",
       "      <td>1.499752e+06</td>\n",
       "      <td>1498878</td>\n",
       "      <td>1499752</td>\n",
       "      <td>1499318</td>\n",
       "      <td>1499752</td>\n",
       "      <td>1499752</td>\n",
       "      <td>1499752</td>\n",
       "      <td>1.499752e+06</td>\n",
       "      <td>1.499752e+06</td>\n",
       "      <td>1.499752e+06</td>\n",
       "      <td>1.499752e+06</td>\n",
       "    </tr>\n",
       "    <tr>\n",
       "      <th>unique</th>\n",
       "      <td>129876</td>\n",
       "      <td>NaN</td>\n",
       "      <td>1386614</td>\n",
       "      <td>1300682</td>\n",
       "      <td>835518</td>\n",
       "      <td>NaN</td>\n",
       "      <td>2</td>\n",
       "      <td>NaN</td>\n",
       "      <td>NaN</td>\n",
       "      <td>NaN</td>\n",
       "      <td>NaN</td>\n",
       "      <td>NaN</td>\n",
       "    </tr>\n",
       "    <tr>\n",
       "      <th>top</th>\n",
       "      <td>B00571F26Y</td>\n",
       "      <td>NaN</td>\n",
       "      <td>Great</td>\n",
       "      <td>A2F6N60Z96CAJI</td>\n",
       "      <td>Five Stars</td>\n",
       "      <td>NaN</td>\n",
       "      <td>true</td>\n",
       "      <td>NaN</td>\n",
       "      <td>NaN</td>\n",
       "      <td>NaN</td>\n",
       "      <td>NaN</td>\n",
       "      <td>NaN</td>\n",
       "    </tr>\n",
       "    <tr>\n",
       "      <th>freq</th>\n",
       "      <td>6114</td>\n",
       "      <td>NaN</td>\n",
       "      <td>2719</td>\n",
       "      <td>136</td>\n",
       "      <td>248136</td>\n",
       "      <td>NaN</td>\n",
       "      <td>1196297</td>\n",
       "      <td>NaN</td>\n",
       "      <td>NaN</td>\n",
       "      <td>NaN</td>\n",
       "      <td>NaN</td>\n",
       "      <td>NaN</td>\n",
       "    </tr>\n",
       "    <tr>\n",
       "      <th>mean</th>\n",
       "      <td>NaN</td>\n",
       "      <td>4.217880e+00</td>\n",
       "      <td>NaN</td>\n",
       "      <td>NaN</td>\n",
       "      <td>NaN</td>\n",
       "      <td>2014-12-22 09:53:56.733540352</td>\n",
       "      <td>NaN</td>\n",
       "      <td>2014-12-22 09:53:56.733540352</td>\n",
       "      <td>2.014488e+03</td>\n",
       "      <td>6.365350e+00</td>\n",
       "      <td>1.569132e+01</td>\n",
       "      <td>2.849010e+00</td>\n",
       "    </tr>\n",
       "    <tr>\n",
       "      <th>min</th>\n",
       "      <td>NaN</td>\n",
       "      <td>1.000000e+00</td>\n",
       "      <td>NaN</td>\n",
       "      <td>NaN</td>\n",
       "      <td>NaN</td>\n",
       "      <td>1997-08-09 00:00:00</td>\n",
       "      <td>NaN</td>\n",
       "      <td>1997-08-09 00:00:00</td>\n",
       "      <td>1.997000e+03</td>\n",
       "      <td>1.000000e+00</td>\n",
       "      <td>1.000000e+00</td>\n",
       "      <td>0.000000e+00</td>\n",
       "    </tr>\n",
       "    <tr>\n",
       "      <th>25%</th>\n",
       "      <td>NaN</td>\n",
       "      <td>4.000000e+00</td>\n",
       "      <td>NaN</td>\n",
       "      <td>NaN</td>\n",
       "      <td>NaN</td>\n",
       "      <td>2014-03-26 00:00:00</td>\n",
       "      <td>NaN</td>\n",
       "      <td>2014-03-26 00:00:00</td>\n",
       "      <td>2.014000e+03</td>\n",
       "      <td>3.000000e+00</td>\n",
       "      <td>8.000000e+00</td>\n",
       "      <td>1.000000e+00</td>\n",
       "    </tr>\n",
       "    <tr>\n",
       "      <th>50%</th>\n",
       "      <td>NaN</td>\n",
       "      <td>5.000000e+00</td>\n",
       "      <td>NaN</td>\n",
       "      <td>NaN</td>\n",
       "      <td>NaN</td>\n",
       "      <td>2015-10-02 00:00:00</td>\n",
       "      <td>NaN</td>\n",
       "      <td>2015-10-02 00:00:00</td>\n",
       "      <td>2.015000e+03</td>\n",
       "      <td>6.000000e+00</td>\n",
       "      <td>1.600000e+01</td>\n",
       "      <td>3.000000e+00</td>\n",
       "    </tr>\n",
       "    <tr>\n",
       "      <th>75%</th>\n",
       "      <td>NaN</td>\n",
       "      <td>5.000000e+00</td>\n",
       "      <td>NaN</td>\n",
       "      <td>NaN</td>\n",
       "      <td>NaN</td>\n",
       "      <td>2016-12-25 00:00:00</td>\n",
       "      <td>NaN</td>\n",
       "      <td>2016-12-25 00:00:00</td>\n",
       "      <td>2.016000e+03</td>\n",
       "      <td>9.000000e+00</td>\n",
       "      <td>2.300000e+01</td>\n",
       "      <td>5.000000e+00</td>\n",
       "    </tr>\n",
       "    <tr>\n",
       "      <th>max</th>\n",
       "      <td>NaN</td>\n",
       "      <td>5.000000e+00</td>\n",
       "      <td>NaN</td>\n",
       "      <td>NaN</td>\n",
       "      <td>NaN</td>\n",
       "      <td>2018-09-28 00:00:00</td>\n",
       "      <td>NaN</td>\n",
       "      <td>2018-09-28 00:00:00</td>\n",
       "      <td>2.018000e+03</td>\n",
       "      <td>1.200000e+01</td>\n",
       "      <td>3.100000e+01</td>\n",
       "      <td>6.000000e+00</td>\n",
       "    </tr>\n",
       "    <tr>\n",
       "      <th>std</th>\n",
       "      <td>NaN</td>\n",
       "      <td>1.248376e+00</td>\n",
       "      <td>NaN</td>\n",
       "      <td>NaN</td>\n",
       "      <td>NaN</td>\n",
       "      <td>NaN</td>\n",
       "      <td>NaN</td>\n",
       "      <td>NaN</td>\n",
       "      <td>3.179991e+00</td>\n",
       "      <td>3.478390e+00</td>\n",
       "      <td>8.820286e+00</td>\n",
       "      <td>1.992188e+00</td>\n",
       "    </tr>\n",
       "  </tbody>\n",
       "</table>\n",
       "</div>"
      ],
      "text/plain": [
       "              asin         score reviewText      reviewerID     summary  \\\n",
       "count      1499752  1.499752e+06    1498878         1499752     1499318   \n",
       "unique      129876           NaN    1386614         1300682      835518   \n",
       "top     B00571F26Y           NaN      Great  A2F6N60Z96CAJI  Five Stars   \n",
       "freq          6114           NaN       2719             136      248136   \n",
       "mean           NaN  4.217880e+00        NaN             NaN         NaN   \n",
       "min            NaN  1.000000e+00        NaN             NaN         NaN   \n",
       "25%            NaN  4.000000e+00        NaN             NaN         NaN   \n",
       "50%            NaN  5.000000e+00        NaN             NaN         NaN   \n",
       "75%            NaN  5.000000e+00        NaN             NaN         NaN   \n",
       "max            NaN  5.000000e+00        NaN             NaN         NaN   \n",
       "std            NaN  1.248376e+00        NaN             NaN         NaN   \n",
       "\n",
       "                            timestamp verified                           date  \\\n",
       "count                         1499752  1499752                        1499752   \n",
       "unique                            NaN        2                            NaN   \n",
       "top                               NaN     true                            NaN   \n",
       "freq                              NaN  1196297                            NaN   \n",
       "mean    2014-12-22 09:53:56.733540352      NaN  2014-12-22 09:53:56.733540352   \n",
       "min               1997-08-09 00:00:00      NaN            1997-08-09 00:00:00   \n",
       "25%               2014-03-26 00:00:00      NaN            2014-03-26 00:00:00   \n",
       "50%               2015-10-02 00:00:00      NaN            2015-10-02 00:00:00   \n",
       "75%               2016-12-25 00:00:00      NaN            2016-12-25 00:00:00   \n",
       "max               2018-09-28 00:00:00      NaN            2018-09-28 00:00:00   \n",
       "std                               NaN      NaN                            NaN   \n",
       "\n",
       "                year         month           day   day_of_week  \n",
       "count   1.499752e+06  1.499752e+06  1.499752e+06  1.499752e+06  \n",
       "unique           NaN           NaN           NaN           NaN  \n",
       "top              NaN           NaN           NaN           NaN  \n",
       "freq             NaN           NaN           NaN           NaN  \n",
       "mean    2.014488e+03  6.365350e+00  1.569132e+01  2.849010e+00  \n",
       "min     1.997000e+03  1.000000e+00  1.000000e+00  0.000000e+00  \n",
       "25%     2.014000e+03  3.000000e+00  8.000000e+00  1.000000e+00  \n",
       "50%     2.015000e+03  6.000000e+00  1.600000e+01  3.000000e+00  \n",
       "75%     2.016000e+03  9.000000e+00  2.300000e+01  5.000000e+00  \n",
       "max     2.018000e+03  1.200000e+01  3.100000e+01  6.000000e+00  \n",
       "std     3.179991e+00  3.478390e+00  8.820286e+00  1.992188e+00  "
      ]
     },
     "execution_count": 34,
     "metadata": {},
     "output_type": "execute_result"
    }
   ],
   "source": [
    "# Final summary statistics of the current 1% scope Review Data Set\n",
    "\n",
    "rds.describe(include='all', datetime_is_numeric=True)"
   ]
  },
  {
   "cell_type": "code",
   "execution_count": 35,
   "id": "115b8a32",
   "metadata": {},
   "outputs": [
    {
     "name": "stdout",
     "output_type": "stream",
     "text": [
      "Amount of years in this data set is :\n",
      "22\n"
     ]
    }
   ],
   "source": [
    "print(f'Amount of years in this data set is :')\n",
    "print(len(rds['year'].unique()))"
   ]
  },
  {
   "cell_type": "code",
   "execution_count": 36,
   "id": "d882da51",
   "metadata": {},
   "outputs": [
    {
     "name": "stdout",
     "output_type": "stream",
     "text": [
      "List/array of years in this data set in order:\n",
      "[1997 1998 1999 2000 2001 2002 2003 2004 2005 2006 2007 2008 2009 2010\n",
      " 2011 2012 2013 2014 2015 2016 2017 2018]\n"
     ]
    }
   ],
   "source": [
    "print(f'List/array of years in this data set in order:')\n",
    "print(rds['year'].unique())"
   ]
  },
  {
   "cell_type": "code",
   "execution_count": 37,
   "id": "53a3d9ab",
   "metadata": {},
   "outputs": [
    {
     "data": {
      "text/html": [
       "<div>\n",
       "<style scoped>\n",
       "    .dataframe tbody tr th:only-of-type {\n",
       "        vertical-align: middle;\n",
       "    }\n",
       "\n",
       "    .dataframe tbody tr th {\n",
       "        vertical-align: top;\n",
       "    }\n",
       "\n",
       "    .dataframe thead th {\n",
       "        text-align: right;\n",
       "    }\n",
       "</style>\n",
       "<table border=\"1\" class=\"dataframe\">\n",
       "  <thead>\n",
       "    <tr style=\"text-align: right;\">\n",
       "      <th></th>\n",
       "      <th>asin</th>\n",
       "      <th>score</th>\n",
       "      <th>reviewText</th>\n",
       "      <th>reviewerID</th>\n",
       "      <th>summary</th>\n",
       "      <th>verified</th>\n",
       "      <th>date</th>\n",
       "      <th>year</th>\n",
       "      <th>month</th>\n",
       "      <th>day</th>\n",
       "      <th>day_of_week</th>\n",
       "    </tr>\n",
       "  </thead>\n",
       "  <tbody>\n",
       "    <tr>\n",
       "      <th>0</th>\n",
       "      <td>0871202433</td>\n",
       "      <td>5</td>\n",
       "      <td>Robert Sylwester's much overlooked book, A Cel...</td>\n",
       "      <td>A2API7H1WS1C56</td>\n",
       "      <td>A  Celebration of Neurons, by Robert Sylwester,</td>\n",
       "      <td>false</td>\n",
       "      <td>1997-08-09</td>\n",
       "      <td>1997</td>\n",
       "      <td>8</td>\n",
       "      <td>9</td>\n",
       "      <td>5</td>\n",
       "    </tr>\n",
       "  </tbody>\n",
       "</table>\n",
       "</div>"
      ],
      "text/plain": [
       "         asin  score                                         reviewText  \\\n",
       "0  0871202433      5  Robert Sylwester's much overlooked book, A Cel...   \n",
       "\n",
       "       reviewerID                                          summary verified  \\\n",
       "0  A2API7H1WS1C56  A  Celebration of Neurons, by Robert Sylwester,    false   \n",
       "\n",
       "        date  year  month  day  day_of_week  \n",
       "0 1997-08-09  1997      8    9            5  "
      ]
     },
     "execution_count": 37,
     "metadata": {},
     "output_type": "execute_result"
    }
   ],
   "source": [
    "# we can by now drop the timestamp column as date with time is not needed\n",
    "\n",
    "rds.drop(['timestamp'], axis = 1, inplace = True)\n",
    "rds.head(1)"
   ]
  },
  {
   "cell_type": "code",
   "execution_count": 38,
   "id": "eee315c1",
   "metadata": {},
   "outputs": [
    {
     "data": {
      "text/html": [
       "<div>\n",
       "<style scoped>\n",
       "    .dataframe tbody tr th:only-of-type {\n",
       "        vertical-align: middle;\n",
       "    }\n",
       "\n",
       "    .dataframe tbody tr th {\n",
       "        vertical-align: top;\n",
       "    }\n",
       "\n",
       "    .dataframe thead th {\n",
       "        text-align: right;\n",
       "    }\n",
       "</style>\n",
       "<table border=\"1\" class=\"dataframe\">\n",
       "  <thead>\n",
       "    <tr style=\"text-align: right;\">\n",
       "      <th></th>\n",
       "      <th>asin</th>\n",
       "      <th>score</th>\n",
       "      <th>reviewText</th>\n",
       "      <th>reviewerID</th>\n",
       "      <th>summary</th>\n",
       "      <th>verified</th>\n",
       "      <th>date</th>\n",
       "      <th>year</th>\n",
       "      <th>month</th>\n",
       "      <th>day</th>\n",
       "      <th>day_of_week</th>\n",
       "      <th>cnt</th>\n",
       "    </tr>\n",
       "  </thead>\n",
       "  <tbody>\n",
       "    <tr>\n",
       "      <th>0</th>\n",
       "      <td>0871202433</td>\n",
       "      <td>5</td>\n",
       "      <td>Robert Sylwester's much overlooked book, A Cel...</td>\n",
       "      <td>A2API7H1WS1C56</td>\n",
       "      <td>A  Celebration of Neurons, by Robert Sylwester,</td>\n",
       "      <td>false</td>\n",
       "      <td>1997-08-09</td>\n",
       "      <td>1997</td>\n",
       "      <td>8</td>\n",
       "      <td>9</td>\n",
       "      <td>5</td>\n",
       "      <td>1</td>\n",
       "    </tr>\n",
       "    <tr>\n",
       "      <th>1</th>\n",
       "      <td>0061535680</td>\n",
       "      <td>1</td>\n",
       "      <td>Trivia.  Dialogue waste of time, paper and add...</td>\n",
       "      <td>AAW5NRUVURHU2</td>\n",
       "      <td>poor entry in derby of books written by lawyers</td>\n",
       "      <td>false</td>\n",
       "      <td>1997-08-13</td>\n",
       "      <td>1997</td>\n",
       "      <td>8</td>\n",
       "      <td>13</td>\n",
       "      <td>2</td>\n",
       "      <td>1</td>\n",
       "    </tr>\n",
       "    <tr>\n",
       "      <th>2</th>\n",
       "      <td>0316332259</td>\n",
       "      <td>5</td>\n",
       "      <td>Twenty years after his sudden death and a resu...</td>\n",
       "      <td>A1IBMUD9XXD68X</td>\n",
       "      <td>An Icon of His Era And Of All Time</td>\n",
       "      <td>false</td>\n",
       "      <td>1997-08-17</td>\n",
       "      <td>1997</td>\n",
       "      <td>8</td>\n",
       "      <td>17</td>\n",
       "      <td>6</td>\n",
       "      <td>1</td>\n",
       "    </tr>\n",
       "    <tr>\n",
       "      <th>3</th>\n",
       "      <td>0933149581</td>\n",
       "      <td>3</td>\n",
       "      <td>The author writes about the education of speci...</td>\n",
       "      <td>A1LOZWO9JTN5L8</td>\n",
       "      <td>Wings to Fly: Bringing Theatre Arts to Student...</td>\n",
       "      <td>false</td>\n",
       "      <td>1997-08-21</td>\n",
       "      <td>1997</td>\n",
       "      <td>8</td>\n",
       "      <td>21</td>\n",
       "      <td>3</td>\n",
       "      <td>1</td>\n",
       "    </tr>\n",
       "    <tr>\n",
       "      <th>4</th>\n",
       "      <td>0356108163</td>\n",
       "      <td>4</td>\n",
       "      <td>A really nice collection of stories by Stephen...</td>\n",
       "      <td>A2ILUXA828DESI</td>\n",
       "      <td>No bones to pick about this book</td>\n",
       "      <td>false</td>\n",
       "      <td>1997-08-23</td>\n",
       "      <td>1997</td>\n",
       "      <td>8</td>\n",
       "      <td>23</td>\n",
       "      <td>5</td>\n",
       "      <td>1</td>\n",
       "    </tr>\n",
       "  </tbody>\n",
       "</table>\n",
       "</div>"
      ],
      "text/plain": [
       "         asin  score                                         reviewText  \\\n",
       "0  0871202433      5  Robert Sylwester's much overlooked book, A Cel...   \n",
       "1  0061535680      1  Trivia.  Dialogue waste of time, paper and add...   \n",
       "2  0316332259      5  Twenty years after his sudden death and a resu...   \n",
       "3  0933149581      3  The author writes about the education of speci...   \n",
       "4  0356108163      4  A really nice collection of stories by Stephen...   \n",
       "\n",
       "       reviewerID                                            summary verified  \\\n",
       "0  A2API7H1WS1C56    A  Celebration of Neurons, by Robert Sylwester,    false   \n",
       "1   AAW5NRUVURHU2    poor entry in derby of books written by lawyers    false   \n",
       "2  A1IBMUD9XXD68X                 An Icon of His Era And Of All Time    false   \n",
       "3  A1LOZWO9JTN5L8  Wings to Fly: Bringing Theatre Arts to Student...    false   \n",
       "4  A2ILUXA828DESI                   No bones to pick about this book    false   \n",
       "\n",
       "        date  year  month  day  day_of_week  cnt  \n",
       "0 1997-08-09  1997      8    9            5    1  \n",
       "1 1997-08-13  1997      8   13            2    1  \n",
       "2 1997-08-17  1997      8   17            6    1  \n",
       "3 1997-08-21  1997      8   21            3    1  \n",
       "4 1997-08-23  1997      8   23            5    1  "
      ]
     },
     "execution_count": 38,
     "metadata": {},
     "output_type": "execute_result"
    }
   ],
   "source": [
    "# we can finally add another feature engineering column for reference for counting called \"cnt\" with a constant\n",
    "\n",
    "rds['cnt'] = pd.Series([1 for x in range(len(rds.index))])\n",
    "rds.head()"
   ]
  },
  {
   "cell_type": "markdown",
   "id": "a74abd21",
   "metadata": {},
   "source": [
    "<div class=\"alert alert-block alert-warning\">\n",
    "<h2> Process Insights 7/29/2023</h2>\n",
    "-------------------------------------------------------------------------------------------------------------------------------\n",
    "\n",
    "     Reviews data set with 1'499,752 records is clean and thus ready for some visualizations and further understanding.\n",
    "    \n",
    "     We have 129,876 unique asin (referred to as sku in many industries) with an average score of 4.21 stars which right off the bat is telling us the data set is skewed towards the positive reviews.\n",
    "    \n",
    "     We have 22 years of data spread among different products and categories/industries so it is a good mix to EDA.    \n",
    "    \n",
    "     Our only numeric variable is the target variable of score (former name overall) which is the stars rating.\n",
    "       \n",
    "</div>\n"
   ]
  },
  {
   "cell_type": "markdown",
   "id": "77c5c592",
   "metadata": {},
   "source": [
    "## EDA \n",
    "\n",
    "> Form smaller data sets/subsets for target processing\n",
    "\n",
    "> Work with timelines to display reviews and score behaviors over time\n"
   ]
  },
  {
   "cell_type": "code",
   "execution_count": 39,
   "id": "e8a1ae0a",
   "metadata": {},
   "outputs": [
    {
     "data": {
      "text/html": [
       "<div>\n",
       "<style scoped>\n",
       "    .dataframe tbody tr th:only-of-type {\n",
       "        vertical-align: middle;\n",
       "    }\n",
       "\n",
       "    .dataframe tbody tr th {\n",
       "        vertical-align: top;\n",
       "    }\n",
       "\n",
       "    .dataframe thead th {\n",
       "        text-align: right;\n",
       "    }\n",
       "</style>\n",
       "<table border=\"1\" class=\"dataframe\">\n",
       "  <thead>\n",
       "    <tr style=\"text-align: right;\">\n",
       "      <th></th>\n",
       "      <th>date</th>\n",
       "      <th>score</th>\n",
       "      <th>cnt</th>\n",
       "      <th>year</th>\n",
       "    </tr>\n",
       "  </thead>\n",
       "  <tbody>\n",
       "    <tr>\n",
       "      <th>0</th>\n",
       "      <td>1997-08-09</td>\n",
       "      <td>5</td>\n",
       "      <td>1</td>\n",
       "      <td>1997</td>\n",
       "    </tr>\n",
       "    <tr>\n",
       "      <th>1</th>\n",
       "      <td>1997-08-13</td>\n",
       "      <td>1</td>\n",
       "      <td>1</td>\n",
       "      <td>1997</td>\n",
       "    </tr>\n",
       "    <tr>\n",
       "      <th>2</th>\n",
       "      <td>1997-08-17</td>\n",
       "      <td>5</td>\n",
       "      <td>1</td>\n",
       "      <td>1997</td>\n",
       "    </tr>\n",
       "    <tr>\n",
       "      <th>3</th>\n",
       "      <td>1997-08-21</td>\n",
       "      <td>3</td>\n",
       "      <td>1</td>\n",
       "      <td>1997</td>\n",
       "    </tr>\n",
       "    <tr>\n",
       "      <th>4</th>\n",
       "      <td>1997-08-23</td>\n",
       "      <td>4</td>\n",
       "      <td>1</td>\n",
       "      <td>1997</td>\n",
       "    </tr>\n",
       "    <tr>\n",
       "      <th>5</th>\n",
       "      <td>1997-08-25</td>\n",
       "      <td>4</td>\n",
       "      <td>1</td>\n",
       "      <td>1997</td>\n",
       "    </tr>\n",
       "    <tr>\n",
       "      <th>6</th>\n",
       "      <td>1997-08-25</td>\n",
       "      <td>4</td>\n",
       "      <td>1</td>\n",
       "      <td>1997</td>\n",
       "    </tr>\n",
       "    <tr>\n",
       "      <th>7</th>\n",
       "      <td>1997-08-25</td>\n",
       "      <td>1</td>\n",
       "      <td>1</td>\n",
       "      <td>1997</td>\n",
       "    </tr>\n",
       "    <tr>\n",
       "      <th>8</th>\n",
       "      <td>1997-08-28</td>\n",
       "      <td>5</td>\n",
       "      <td>1</td>\n",
       "      <td>1997</td>\n",
       "    </tr>\n",
       "  </tbody>\n",
       "</table>\n",
       "</div>"
      ],
      "text/plain": [
       "        date  score  cnt  year\n",
       "0 1997-08-09      5    1  1997\n",
       "1 1997-08-13      1    1  1997\n",
       "2 1997-08-17      5    1  1997\n",
       "3 1997-08-21      3    1  1997\n",
       "4 1997-08-23      4    1  1997\n",
       "5 1997-08-25      4    1  1997\n",
       "6 1997-08-25      4    1  1997\n",
       "7 1997-08-25      1    1  1997\n",
       "8 1997-08-28      5    1  1997"
      ]
     },
     "execution_count": 39,
     "metadata": {},
     "output_type": "execute_result"
    }
   ],
   "source": [
    "# Subset to understand scoring and reviews over a timeline\n",
    "\n",
    "score_timeline = rds[['date', 'score','cnt', 'year']]\n",
    "score_timeline.head(9)"
   ]
  },
  {
   "cell_type": "code",
   "execution_count": 40,
   "id": "2cf6b273",
   "metadata": {},
   "outputs": [
    {
     "name": "stdout",
     "output_type": "stream",
     "text": [
      "<class 'pandas.core.frame.DataFrame'>\n",
      "RangeIndex: 1499752 entries, 0 to 1499751\n",
      "Data columns (total 4 columns):\n",
      " #   Column  Non-Null Count    Dtype         \n",
      "---  ------  --------------    -----         \n",
      " 0   date    1499752 non-null  datetime64[ns]\n",
      " 1   score   1499752 non-null  int64         \n",
      " 2   cnt     1499752 non-null  int64         \n",
      " 3   year    1499752 non-null  int64         \n",
      "dtypes: datetime64[ns](1), int64(3)\n",
      "memory usage: 45.8 MB\n"
     ]
    }
   ],
   "source": [
    "# Confirm completeness\n",
    "\n",
    "score_timeline.info()"
   ]
  },
  {
   "cell_type": "code",
   "execution_count": 41,
   "id": "2fca7891",
   "metadata": {},
   "outputs": [
    {
     "data": {
      "image/png": "[encoded data removed]",
      "text/plain": [
       "<Figure size 720x360 with 1 Axes>"
      ]
     },
     "metadata": {
      "needs_background": "light"
     },
     "output_type": "display_data"
    }
   ],
   "source": [
    "# Create Univariate Histrogram \n",
    "\n",
    "plt.figure(figsize=[10,5])\n",
    "\n",
    "plt.hist(score_timeline['score'], bins=5, edgecolor='white', align='mid', color = 'green'); \n",
    "\n",
    "plt.xlabel(\"Stars\");\n",
    "plt.ylabel(\"Count\");\n",
    "plt.title(\"Star Reviews Distribution over 22 years across multiple products and industries\");\n",
    "plt.show();"
   ]
  },
  {
   "cell_type": "code",
   "execution_count": 42,
   "id": "47cc47ba",
   "metadata": {},
   "outputs": [
    {
     "data": {
      "text/html": [
       "<div>\n",
       "<style scoped>\n",
       "    .dataframe tbody tr th:only-of-type {\n",
       "        vertical-align: middle;\n",
       "    }\n",
       "\n",
       "    .dataframe tbody tr th {\n",
       "        vertical-align: top;\n",
       "    }\n",
       "\n",
       "    .dataframe thead th {\n",
       "        text-align: right;\n",
       "    }\n",
       "</style>\n",
       "<table border=\"1\" class=\"dataframe\">\n",
       "  <thead>\n",
       "    <tr style=\"text-align: right;\">\n",
       "      <th></th>\n",
       "      <th>date</th>\n",
       "      <th>score</th>\n",
       "      <th>cnt</th>\n",
       "      <th>year</th>\n",
       "    </tr>\n",
       "  </thead>\n",
       "  <tbody>\n",
       "    <tr>\n",
       "      <th>0</th>\n",
       "      <td>1997-08-09</td>\n",
       "      <td>5.0</td>\n",
       "      <td>1.0</td>\n",
       "      <td>1997.0</td>\n",
       "    </tr>\n",
       "    <tr>\n",
       "      <th>1</th>\n",
       "      <td>1997-08-13</td>\n",
       "      <td>1.0</td>\n",
       "      <td>1.0</td>\n",
       "      <td>1997.0</td>\n",
       "    </tr>\n",
       "    <tr>\n",
       "      <th>2</th>\n",
       "      <td>1997-08-17</td>\n",
       "      <td>5.0</td>\n",
       "      <td>1.0</td>\n",
       "      <td>1997.0</td>\n",
       "    </tr>\n",
       "    <tr>\n",
       "      <th>3</th>\n",
       "      <td>1997-08-21</td>\n",
       "      <td>3.0</td>\n",
       "      <td>1.0</td>\n",
       "      <td>1997.0</td>\n",
       "    </tr>\n",
       "    <tr>\n",
       "      <th>4</th>\n",
       "      <td>1997-08-23</td>\n",
       "      <td>4.0</td>\n",
       "      <td>1.0</td>\n",
       "      <td>1997.0</td>\n",
       "    </tr>\n",
       "    <tr>\n",
       "      <th>5</th>\n",
       "      <td>1997-08-25</td>\n",
       "      <td>3.0</td>\n",
       "      <td>1.0</td>\n",
       "      <td>1997.0</td>\n",
       "    </tr>\n",
       "  </tbody>\n",
       "</table>\n",
       "</div>"
      ],
      "text/plain": [
       "        date  score  cnt    year\n",
       "0 1997-08-09    5.0  1.0  1997.0\n",
       "1 1997-08-13    1.0  1.0  1997.0\n",
       "2 1997-08-17    5.0  1.0  1997.0\n",
       "3 1997-08-21    3.0  1.0  1997.0\n",
       "4 1997-08-23    4.0  1.0  1997.0\n",
       "5 1997-08-25    3.0  1.0  1997.0"
      ]
     },
     "execution_count": 42,
     "metadata": {},
     "output_type": "execute_result"
    }
   ],
   "source": [
    "# Group timeline subset using the mean on both columns\n",
    "\n",
    "mean_timeline_ds = score_timeline.groupby(['date'], as_index = False).mean()\n",
    "mean_timeline_ds.head(6)"
   ]
  },
  {
   "cell_type": "code",
   "execution_count": 43,
   "id": "02ddf274",
   "metadata": {},
   "outputs": [
    {
     "data": {
      "image/png": "[encoded data removed]",
      "text/plain": [
       "<Figure size 1296x576 with 1 Axes>"
      ]
     },
     "metadata": {
      "needs_background": "light"
     },
     "output_type": "display_data"
    }
   ],
   "source": [
    "plt.figure(figsize=(18,8))\n",
    "y = mean_timeline_ds['score']\n",
    "x = mean_timeline_ds['date']\n",
    "plt.scatter(x,y).set_color(\"orange\");\n",
    "\n",
    "plt.yticks(range(1, 5))\n",
    "\n",
    "plt.title('Star Review Outcomes by Days')\n",
    "plt.xlabel('Timeline in Days')\n",
    "plt.ylabel('Stars');"
   ]
  },
  {
   "cell_type": "code",
   "execution_count": 44,
   "id": "689d2578",
   "metadata": {},
   "outputs": [
    {
     "data": {
      "text/html": [
       "<div>\n",
       "<style scoped>\n",
       "    .dataframe tbody tr th:only-of-type {\n",
       "        vertical-align: middle;\n",
       "    }\n",
       "\n",
       "    .dataframe tbody tr th {\n",
       "        vertical-align: top;\n",
       "    }\n",
       "\n",
       "    .dataframe thead th {\n",
       "        text-align: right;\n",
       "    }\n",
       "</style>\n",
       "<table border=\"1\" class=\"dataframe\">\n",
       "  <thead>\n",
       "    <tr style=\"text-align: right;\">\n",
       "      <th></th>\n",
       "      <th>year</th>\n",
       "      <th>score</th>\n",
       "      <th>cnt</th>\n",
       "    </tr>\n",
       "  </thead>\n",
       "  <tbody>\n",
       "    <tr>\n",
       "      <th>0</th>\n",
       "      <td>1997</td>\n",
       "      <td>4.178571</td>\n",
       "      <td>1.0</td>\n",
       "    </tr>\n",
       "    <tr>\n",
       "      <th>1</th>\n",
       "      <td>1998</td>\n",
       "      <td>4.445946</td>\n",
       "      <td>1.0</td>\n",
       "    </tr>\n",
       "    <tr>\n",
       "      <th>2</th>\n",
       "      <td>1999</td>\n",
       "      <td>4.306061</td>\n",
       "      <td>1.0</td>\n",
       "    </tr>\n",
       "    <tr>\n",
       "      <th>3</th>\n",
       "      <td>2000</td>\n",
       "      <td>4.248955</td>\n",
       "      <td>1.0</td>\n",
       "    </tr>\n",
       "    <tr>\n",
       "      <th>4</th>\n",
       "      <td>2001</td>\n",
       "      <td>4.252950</td>\n",
       "      <td>1.0</td>\n",
       "    </tr>\n",
       "    <tr>\n",
       "      <th>5</th>\n",
       "      <td>2002</td>\n",
       "      <td>4.220507</td>\n",
       "      <td>1.0</td>\n",
       "    </tr>\n",
       "  </tbody>\n",
       "</table>\n",
       "</div>"
      ],
      "text/plain": [
       "   year     score  cnt\n",
       "0  1997  4.178571  1.0\n",
       "1  1998  4.445946  1.0\n",
       "2  1999  4.306061  1.0\n",
       "3  2000  4.248955  1.0\n",
       "4  2001  4.252950  1.0\n",
       "5  2002  4.220507  1.0"
      ]
     },
     "execution_count": 44,
     "metadata": {},
     "output_type": "execute_result"
    }
   ],
   "source": [
    "# Group timeline subset using the year and mean on both columns\n",
    "\n",
    "year_mean_timeline_ds = score_timeline.groupby(['year'], as_index = False).mean()\n",
    "year_mean_timeline_ds.head(6)"
   ]
  },
  {
   "cell_type": "code",
   "execution_count": 45,
   "id": "80376ae9",
   "metadata": {},
   "outputs": [
    {
     "data": {
      "image/png": "[encoded data removed]",
      "text/plain": [
       "<Figure size 1296x360 with 1 Axes>"
      ]
     },
     "metadata": {
      "needs_background": "light"
     },
     "output_type": "display_data"
    }
   ],
   "source": [
    "# Now plot by year\n",
    "\n",
    "plt.figure(figsize=(18,5))\n",
    "y = year_mean_timeline_ds['score']\n",
    "x = year_mean_timeline_ds['year']\n",
    "plt.scatter(x,y).set_color(\"orange\");\n",
    "\n",
    "plt.yticks(range(1, 5))\n",
    "plt.xticks([1998, 2002, 2006, 2010, 2014, 2018])\n",
    "\n",
    "plt.title('Star Review Average Outcome by Year')\n",
    "plt.xlabel('Years')\n",
    "plt.ylabel('Stars');"
   ]
  },
  {
   "cell_type": "code",
   "execution_count": 46,
   "id": "54d29894",
   "metadata": {},
   "outputs": [
    {
     "data": {
      "text/html": [
       "<div>\n",
       "<style scoped>\n",
       "    .dataframe tbody tr th:only-of-type {\n",
       "        vertical-align: middle;\n",
       "    }\n",
       "\n",
       "    .dataframe tbody tr th {\n",
       "        vertical-align: top;\n",
       "    }\n",
       "\n",
       "    .dataframe thead th {\n",
       "        text-align: right;\n",
       "    }\n",
       "</style>\n",
       "<table border=\"1\" class=\"dataframe\">\n",
       "  <thead>\n",
       "    <tr style=\"text-align: right;\">\n",
       "      <th></th>\n",
       "      <th>date</th>\n",
       "      <th>score</th>\n",
       "      <th>cnt</th>\n",
       "      <th>year</th>\n",
       "    </tr>\n",
       "  </thead>\n",
       "  <tbody>\n",
       "    <tr>\n",
       "      <th>0</th>\n",
       "      <td>1997-08-09</td>\n",
       "      <td>5</td>\n",
       "      <td>1</td>\n",
       "      <td>1997</td>\n",
       "    </tr>\n",
       "    <tr>\n",
       "      <th>1</th>\n",
       "      <td>1997-08-13</td>\n",
       "      <td>1</td>\n",
       "      <td>1</td>\n",
       "      <td>1997</td>\n",
       "    </tr>\n",
       "    <tr>\n",
       "      <th>2</th>\n",
       "      <td>1997-08-17</td>\n",
       "      <td>5</td>\n",
       "      <td>1</td>\n",
       "      <td>1997</td>\n",
       "    </tr>\n",
       "    <tr>\n",
       "      <th>3</th>\n",
       "      <td>1997-08-21</td>\n",
       "      <td>3</td>\n",
       "      <td>1</td>\n",
       "      <td>1997</td>\n",
       "    </tr>\n",
       "    <tr>\n",
       "      <th>4</th>\n",
       "      <td>1997-08-23</td>\n",
       "      <td>4</td>\n",
       "      <td>1</td>\n",
       "      <td>1997</td>\n",
       "    </tr>\n",
       "    <tr>\n",
       "      <th>5</th>\n",
       "      <td>1997-08-25</td>\n",
       "      <td>9</td>\n",
       "      <td>3</td>\n",
       "      <td>5991</td>\n",
       "    </tr>\n",
       "  </tbody>\n",
       "</table>\n",
       "</div>"
      ],
      "text/plain": [
       "        date  score  cnt  year\n",
       "0 1997-08-09      5    1  1997\n",
       "1 1997-08-13      1    1  1997\n",
       "2 1997-08-17      5    1  1997\n",
       "3 1997-08-21      3    1  1997\n",
       "4 1997-08-23      4    1  1997\n",
       "5 1997-08-25      9    3  5991"
      ]
     },
     "execution_count": 46,
     "metadata": {},
     "output_type": "execute_result"
    }
   ],
   "source": [
    "# Group timeline subset using sum on both columns\n",
    "\n",
    "sum_timeline_ds = score_timeline.groupby(['date'], as_index = False).sum()\n",
    "sum_timeline_ds.head(6)"
   ]
  },
  {
   "cell_type": "code",
   "execution_count": 47,
   "id": "28023f79",
   "metadata": {},
   "outputs": [
    {
     "data": {
      "image/png": "[encoded data removed]",
      "text/plain": [
       "<Figure size 1296x576 with 1 Axes>"
      ]
     },
     "metadata": {
      "needs_background": "light"
     },
     "output_type": "display_data"
    }
   ],
   "source": [
    "plt.figure(figsize=(18,8))\n",
    "y = sum_timeline_ds['cnt']\n",
    "x = sum_timeline_ds['date']\n",
    "plt.scatter(x,y).set_color(\"purple\");\n",
    "\n",
    "plt.title('Reviews Count by Days')\n",
    "plt.xlabel('Timeline in Days')\n",
    "plt.ylabel('Reviews');"
   ]
  },
  {
   "cell_type": "code",
   "execution_count": 48,
   "id": "2268ab97",
   "metadata": {},
   "outputs": [
    {
     "data": {
      "image/png": "[encoded data removed]",
      "text/plain": [
       "<Figure size 1296x576 with 1 Axes>"
      ]
     },
     "metadata": {
      "needs_background": "light"
     },
     "output_type": "display_data"
    }
   ],
   "source": [
    "# Likely will look better with a line plot\n",
    "\n",
    "plt.figure(figsize=(18,8))\n",
    "new_y_limit = sns.lineplot(x = 'date', y = 'cnt', data = sum_timeline_ds, color = 'purple');\n",
    "\n",
    "#new_y_limit.set_ylim(0, 5)\n",
    "#new_y_limit.set_xlim(1998, 2018)\n",
    "\n",
    "#new_y_limit.set(xticks=[1998, 2002, 2006, 2010, 2014, 2018], yticks=[1, 2, 3, 4, 5])\n",
    "\n",
    "#Axes.set_xlim(self, left=None, right=None, emit=True, auto=False, *, xmin=None, xmax=None)\n",
    "#Axes.set_ylim(self, bottom=None, top=None, emit=True, auto=False, *, ymin=None, ymax=None)\n",
    "\n",
    "\n",
    "plt.title('Reviews Count by Days')\n",
    "plt.xlabel('Timeline in Days')\n",
    "plt.ylabel('Reviews');"
   ]
  },
  {
   "cell_type": "code",
   "execution_count": 49,
   "id": "c9a5989b",
   "metadata": {},
   "outputs": [
    {
     "data": {
      "text/html": [
       "<div>\n",
       "<style scoped>\n",
       "    .dataframe tbody tr th:only-of-type {\n",
       "        vertical-align: middle;\n",
       "    }\n",
       "\n",
       "    .dataframe tbody tr th {\n",
       "        vertical-align: top;\n",
       "    }\n",
       "\n",
       "    .dataframe thead th {\n",
       "        text-align: right;\n",
       "    }\n",
       "</style>\n",
       "<table border=\"1\" class=\"dataframe\">\n",
       "  <thead>\n",
       "    <tr style=\"text-align: right;\">\n",
       "      <th></th>\n",
       "      <th>year</th>\n",
       "      <th>score</th>\n",
       "      <th>cnt</th>\n",
       "    </tr>\n",
       "  </thead>\n",
       "  <tbody>\n",
       "    <tr>\n",
       "      <th>0</th>\n",
       "      <td>1997</td>\n",
       "      <td>351</td>\n",
       "      <td>84</td>\n",
       "    </tr>\n",
       "    <tr>\n",
       "      <th>1</th>\n",
       "      <td>1998</td>\n",
       "      <td>1974</td>\n",
       "      <td>444</td>\n",
       "    </tr>\n",
       "    <tr>\n",
       "      <th>2</th>\n",
       "      <td>1999</td>\n",
       "      <td>5684</td>\n",
       "      <td>1320</td>\n",
       "    </tr>\n",
       "    <tr>\n",
       "      <th>3</th>\n",
       "      <td>2000</td>\n",
       "      <td>15241</td>\n",
       "      <td>3587</td>\n",
       "    </tr>\n",
       "    <tr>\n",
       "      <th>4</th>\n",
       "      <td>2001</td>\n",
       "      <td>11534</td>\n",
       "      <td>2712</td>\n",
       "    </tr>\n",
       "    <tr>\n",
       "      <th>5</th>\n",
       "      <td>2002</td>\n",
       "      <td>14489</td>\n",
       "      <td>3433</td>\n",
       "    </tr>\n",
       "  </tbody>\n",
       "</table>\n",
       "</div>"
      ],
      "text/plain": [
       "   year  score   cnt\n",
       "0  1997    351    84\n",
       "1  1998   1974   444\n",
       "2  1999   5684  1320\n",
       "3  2000  15241  3587\n",
       "4  2001  11534  2712\n",
       "5  2002  14489  3433"
      ]
     },
     "execution_count": 49,
     "metadata": {},
     "output_type": "execute_result"
    }
   ],
   "source": [
    "# Seems we can benefit of a grouped year version of data\n",
    "\n",
    "# Group timeline subset using the year and sum on both columns\n",
    "\n",
    "year_sum_timeline_ds = score_timeline.groupby(['year'], as_index = False).sum()\n",
    "year_sum_timeline_ds.head(6)"
   ]
  },
  {
   "cell_type": "code",
   "execution_count": 50,
   "id": "dfadb9cd",
   "metadata": {},
   "outputs": [
    {
     "data": {
      "image/png": "[encoded data removed]",
      "text/plain": [
       "<Figure size 1440x432 with 1 Axes>"
      ]
     },
     "metadata": {
      "needs_background": "light"
     },
     "output_type": "display_data"
    }
   ],
   "source": [
    "# Likely will look better with a line plot\n",
    "\n",
    "plt.figure(figsize=(20,6))\n",
    "new_yrs_limit = sns.lineplot(x = 'year', y = 'cnt', data = year_sum_timeline_ds, color = 'purple');\n",
    "\n",
    "new_yrs_limit.set(xticks=[1998, 2002, 2006, 2010, 2014, 2018])\n",
    "\n",
    "plt.title('Reviews Count by Years')\n",
    "plt.xlabel('Timeline in Years')\n",
    "plt.ylabel('Reviews');"
   ]
  },
  {
   "cell_type": "code",
   "execution_count": 51,
   "id": "352093e5",
   "metadata": {},
   "outputs": [
    {
     "data": {
      "text/plain": [
       "count    1.499752e+06\n",
       "mean     4.217880e+00\n",
       "std      1.248376e+00\n",
       "min      1.000000e+00\n",
       "25%      4.000000e+00\n",
       "50%      5.000000e+00\n",
       "75%      5.000000e+00\n",
       "max      5.000000e+00\n",
       "Name: score, dtype: float64"
      ]
     },
     "execution_count": 51,
     "metadata": {},
     "output_type": "execute_result"
    }
   ],
   "source": [
    "# A final summary statistics overview of the scores\n",
    "\n",
    "score_timeline['score'].describe()"
   ]
  },
  {
   "cell_type": "code",
   "execution_count": 52,
   "id": "84c3b1e5",
   "metadata": {},
   "outputs": [
    {
     "data": {
      "text/plain": [
       "(942098, 12)"
      ]
     },
     "execution_count": 52,
     "metadata": {},
     "output_type": "execute_result"
    }
   ],
   "source": [
    "# Counting total of 5 stars records\n",
    "\n",
    "fivestar_ds = rds[rds['score'] == 5]\n",
    "fivestar_ds.shape"
   ]
  },
  {
   "cell_type": "code",
   "execution_count": 53,
   "id": "4244e7b2",
   "metadata": {},
   "outputs": [
    {
     "data": {
      "text/plain": [
       "(249879, 12)"
      ]
     },
     "execution_count": 53,
     "metadata": {},
     "output_type": "execute_result"
    }
   ],
   "source": [
    "# Counting total of 4 stars records\n",
    "\n",
    "fourstar_ds = rds[rds['score'] == 4]\n",
    "fourstar_ds.shape"
   ]
  },
  {
   "cell_type": "code",
   "execution_count": 54,
   "id": "a06d8cd1",
   "metadata": {},
   "outputs": [
    {
     "data": {
      "text/plain": [
       "(118182, 12)"
      ]
     },
     "execution_count": 54,
     "metadata": {},
     "output_type": "execute_result"
    }
   ],
   "source": [
    "# Counting total of 3 stars records\n",
    "\n",
    "threestar_ds = rds[rds['score'] == 3]\n",
    "threestar_ds.shape"
   ]
  },
  {
   "cell_type": "code",
   "execution_count": 55,
   "id": "87a90cd1",
   "metadata": {},
   "outputs": [
    {
     "data": {
      "text/plain": [
       "(71629, 12)"
      ]
     },
     "execution_count": 55,
     "metadata": {},
     "output_type": "execute_result"
    }
   ],
   "source": [
    "# Counting total of 2 stars records\n",
    "\n",
    "twostar_ds = rds[rds['score'] == 2]\n",
    "twostar_ds.shape"
   ]
  },
  {
   "cell_type": "code",
   "execution_count": 56,
   "id": "1fcfb5fb",
   "metadata": {},
   "outputs": [
    {
     "data": {
      "text/plain": [
       "(117964, 12)"
      ]
     },
     "execution_count": 56,
     "metadata": {},
     "output_type": "execute_result"
    }
   ],
   "source": [
    "# Counting total of 1 star records\n",
    "\n",
    "onestar_ds = rds[rds['score'] == 1]\n",
    "onestar_ds.shape"
   ]
  },
  {
   "cell_type": "code",
   "execution_count": 57,
   "id": "1bf41d62",
   "metadata": {},
   "outputs": [
    {
     "data": {
      "text/html": [
       "<div>\n",
       "<style scoped>\n",
       "    .dataframe tbody tr th:only-of-type {\n",
       "        vertical-align: middle;\n",
       "    }\n",
       "\n",
       "    .dataframe tbody tr th {\n",
       "        vertical-align: top;\n",
       "    }\n",
       "\n",
       "    .dataframe thead th {\n",
       "        text-align: right;\n",
       "    }\n",
       "</style>\n",
       "<table border=\"1\" class=\"dataframe\">\n",
       "  <thead>\n",
       "    <tr style=\"text-align: right;\">\n",
       "      <th></th>\n",
       "      <th>year</th>\n",
       "      <th>score</th>\n",
       "      <th>cnt</th>\n",
       "    </tr>\n",
       "  </thead>\n",
       "  <tbody>\n",
       "    <tr>\n",
       "      <th>0</th>\n",
       "      <td>1997</td>\n",
       "      <td>1</td>\n",
       "      <td>6</td>\n",
       "    </tr>\n",
       "    <tr>\n",
       "      <th>1</th>\n",
       "      <td>1997</td>\n",
       "      <td>2</td>\n",
       "      <td>6</td>\n",
       "    </tr>\n",
       "    <tr>\n",
       "      <th>2</th>\n",
       "      <td>1997</td>\n",
       "      <td>3</td>\n",
       "      <td>4</td>\n",
       "    </tr>\n",
       "    <tr>\n",
       "      <th>3</th>\n",
       "      <td>1997</td>\n",
       "      <td>4</td>\n",
       "      <td>19</td>\n",
       "    </tr>\n",
       "    <tr>\n",
       "      <th>4</th>\n",
       "      <td>1997</td>\n",
       "      <td>5</td>\n",
       "      <td>49</td>\n",
       "    </tr>\n",
       "    <tr>\n",
       "      <th>...</th>\n",
       "      <td>...</td>\n",
       "      <td>...</td>\n",
       "      <td>...</td>\n",
       "    </tr>\n",
       "    <tr>\n",
       "      <th>105</th>\n",
       "      <td>2018</td>\n",
       "      <td>1</td>\n",
       "      <td>9433</td>\n",
       "    </tr>\n",
       "    <tr>\n",
       "      <th>106</th>\n",
       "      <td>2018</td>\n",
       "      <td>2</td>\n",
       "      <td>4908</td>\n",
       "    </tr>\n",
       "    <tr>\n",
       "      <th>107</th>\n",
       "      <td>2018</td>\n",
       "      <td>3</td>\n",
       "      <td>7471</td>\n",
       "    </tr>\n",
       "    <tr>\n",
       "      <th>108</th>\n",
       "      <td>2018</td>\n",
       "      <td>4</td>\n",
       "      <td>14084</td>\n",
       "    </tr>\n",
       "    <tr>\n",
       "      <th>109</th>\n",
       "      <td>2018</td>\n",
       "      <td>5</td>\n",
       "      <td>73435</td>\n",
       "    </tr>\n",
       "  </tbody>\n",
       "</table>\n",
       "<p>110 rows × 3 columns</p>\n",
       "</div>"
      ],
      "text/plain": [
       "     year  score    cnt\n",
       "0    1997      1      6\n",
       "1    1997      2      6\n",
       "2    1997      3      4\n",
       "3    1997      4     19\n",
       "4    1997      5     49\n",
       "..    ...    ...    ...\n",
       "105  2018      1   9433\n",
       "106  2018      2   4908\n",
       "107  2018      3   7471\n",
       "108  2018      4  14084\n",
       "109  2018      5  73435\n",
       "\n",
       "[110 rows x 3 columns]"
      ]
     },
     "metadata": {},
     "output_type": "display_data"
    }
   ],
   "source": [
    "grp_by_year_and_score = score_timeline.groupby(['year','score']).count().reset_index()\n",
    "grp_by_year_and_score.drop(['date'], axis = 1, inplace = True)\n",
    "display(grp_by_year_and_score)"
   ]
  },
  {
   "cell_type": "code",
   "execution_count": 58,
   "id": "5c52e30a",
   "metadata": {},
   "outputs": [
    {
     "data": {
      "text/plain": [
       "Index(['year', 'score', 'cnt'], dtype='object')"
      ]
     },
     "execution_count": 58,
     "metadata": {},
     "output_type": "execute_result"
    }
   ],
   "source": [
    "grp_by_year_and_score.columns"
   ]
  },
  {
   "cell_type": "code",
   "execution_count": 59,
   "id": "40e680c4",
   "metadata": {},
   "outputs": [
    {
     "data": {
      "image/png": "[encoded data removed]",
      "text/plain": [
       "<Figure size 1440x432 with 1 Axes>"
      ]
     },
     "metadata": {
      "needs_background": "light"
     },
     "output_type": "display_data"
    }
   ],
   "source": [
    "# Combining all of the score per group of star rating over the years with lines\n",
    "\n",
    "plt.figure(figsize=(20,6))\n",
    "score_combo_limits = sns.lineplot(x='year', y='cnt', hue='score', data=grp_by_year_and_score, palette=['r', 'g', 'b', 'y', 'c'], linewidth=2.5);\n",
    "\n",
    "#score_combo_limits = sns.lineplot(x='year', y='cnt', hue='score', data=grp_by_year_and_score, linewidth=2.5);\n",
    "\n",
    "score_combo_limits.set(xticks=[1998, 2002, 2006, 2010, 2014, 2018])\n",
    "\n",
    "plt.title('Reviews Count by Years')\n",
    "plt.xlabel('Timeline in Years')\n",
    "plt.ylabel('Reviews');"
   ]
  },
  {
   "cell_type": "code",
   "execution_count": 60,
   "id": "d3d8ad1c",
   "metadata": {},
   "outputs": [
    {
     "data": {
      "image/png": "[encoded data removed]",
      "text/plain": [
       "<Figure size 1440x432 with 1 Axes>"
      ]
     },
     "metadata": {
      "needs_background": "light"
     },
     "output_type": "display_data"
    }
   ],
   "source": [
    "# Combining all of the score per group of star rating over the years with a scatter plot\n",
    "\n",
    "plt.figure(figsize=(20,6))\n",
    "score_combo_s_limits = sns.scatterplot(x='year', y='cnt', hue='score', data=grp_by_year_and_score, palette=['r', 'g', 'b', 'y', 'c']);\n",
    "\n",
    "score_combo_s_limits.set(xticks=[1998, 2002, 2006, 2010, 2014, 2018])\n",
    "\n",
    "plt.title('Reviews Count by Years')\n",
    "plt.xlabel('Timeline in Years')\n",
    "plt.ylabel('Reviews');"
   ]
  },
  {
   "cell_type": "markdown",
   "id": "8a63c249",
   "metadata": {},
   "source": [
    "<div class=\"alert alert-block alert-warning\">\n",
    "<h2> Process Insights 7/30/2023</h2>\n",
    "-------------------------------------------------------------------------------------------------------------------------------\n",
    "\n",
    "- There is an overall trend towards more reviews over time accentuated since 2013 which is a good thing as more data can be leveraged on, however, the trend reaches it's peak at year 2016 and then goes back in 2017 to a similar data point as the year prior to the peak (back to 2015 numbers). Then 2018 while incomplete, still seems to now might be less than 2015 yet data might be incomplete so needs to be confirmed once the 2018 data is complete. \n",
    "- Score/Review of 1 star only accounts for 117,964 of the 1'499,752 reviews which is 7.87%.\n",
    "- Score/Review of 4 stars accounts for 249,879 of the 1'499,752 reviews which is 16.66%.\n",
    "- Score/Review of 5 stars accounts for 942,098 of the 1'499,752 reviews which is 62.82%.\n",
    "    \n",
    "    <h3> It is an overwhelming mayority of positive reviews (79.48% with either 5 or 4 stars and mean of 4.21 stars) which allows to better extract what is that consumers like and/or enjoy the most which allows to suggest new products and/or predict customer satisfaction per market needs. Now we need to move into an specific industry/category for which we are selecting the Software category. </h3> \n",
    "       \n",
    "</div>\n"
   ]
  },
  {
   "cell_type": "markdown",
   "id": "1b4f84be",
   "metadata": {},
   "source": [
    "## Software industry prep work prior to EDA\n",
    "\n",
    "> Pull and review the new data set for software category\n",
    "\n",
    "> Compare datasets and merge if they are aligned\n",
    "\n",
    "> Confirm merge process was done properly\n"
   ]
  },
  {
   "cell_type": "code",
   "execution_count": 61,
   "id": "a4a30eb0",
   "metadata": {},
   "outputs": [],
   "source": [
    "# Using data set acronym as SoftWare Reviews Data Set as swrds\n",
    "\n",
    "datathon_eda_sw_industry_reviews_file = \"/Users/dslab/datathon_73023_AM.parquet\"\n",
    "swrds = pd.read_parquet(datathon_eda_sw_industry_reviews_file, engine='pyarrow')"
   ]
  },
  {
   "cell_type": "code",
   "execution_count": 62,
   "id": "cc1b65cf",
   "metadata": {},
   "outputs": [],
   "source": [
    "# Using data set acronym as SoftWare Metadata Data Set as swmds\n",
    "\n",
    "datathon_metadata_pkt_731_file = \"/Users/dslab/mds_73123_PM.parquet\"\n",
    "swmds = pd.read_parquet(datathon_metadata_pkt_731_file, engine='pyarrow')"
   ]
  },
  {
   "cell_type": "code",
   "execution_count": 63,
   "id": "540b882f",
   "metadata": {},
   "outputs": [
    {
     "data": {
      "text/plain": [
       "(292055, 12)"
      ]
     },
     "execution_count": 63,
     "metadata": {},
     "output_type": "execute_result"
    }
   ],
   "source": [
    "# Checking size of the software reviews data set\n",
    "\n",
    "swrds.shape"
   ]
  },
  {
   "cell_type": "code",
   "execution_count": 64,
   "id": "1b313d73",
   "metadata": {},
   "outputs": [
    {
     "data": {
      "text/plain": [
       "(22529, 3)"
      ]
     },
     "execution_count": 64,
     "metadata": {},
     "output_type": "execute_result"
    }
   ],
   "source": [
    "# Checking size of the software metadata data set\n",
    "\n",
    "swmds.shape"
   ]
  },
  {
   "cell_type": "code",
   "execution_count": 65,
   "id": "9229874d",
   "metadata": {},
   "outputs": [
    {
     "data": {
      "text/plain": [
       "count         292055\n",
       "unique         13209\n",
       "top       B00CTTEKJW\n",
       "freq            7929\n",
       "Name: asin, dtype: object"
      ]
     },
     "execution_count": 65,
     "metadata": {},
     "output_type": "execute_result"
    }
   ],
   "source": [
    "# Checking the amount of products at the review data set\n",
    "\n",
    "swrds['asin'].describe()"
   ]
  },
  {
   "cell_type": "code",
   "execution_count": 66,
   "id": "5f5adb21",
   "metadata": {},
   "outputs": [
    {
     "data": {
      "text/plain": [
       "count          22529\n",
       "unique         22529\n",
       "top       0030672120\n",
       "freq               1\n",
       "Name: asin, dtype: object"
      ]
     },
     "execution_count": 66,
     "metadata": {},
     "output_type": "execute_result"
    }
   ],
   "source": [
    "# Checking the amount of products at the metadata data set\n",
    "\n",
    "swmds['asin'].describe()"
   ]
  },
  {
   "cell_type": "markdown",
   "id": "7ba345f0",
   "metadata": {},
   "source": [
    "### Checking relationship of asin among the 2 data frames"
   ]
  },
  {
   "cell_type": "code",
   "execution_count": 67,
   "id": "4b7e7a19",
   "metadata": {},
   "outputs": [
    {
     "data": {
      "text/plain": [
       "True    292055\n",
       "Name: asin, dtype: int64"
      ]
     },
     "execution_count": 67,
     "metadata": {},
     "output_type": "execute_result"
    }
   ],
   "source": [
    "# Reviews data set against Metadata data set\n",
    "\n",
    "swrds['asin'].isin(swmds['asin']).value_counts()"
   ]
  },
  {
   "cell_type": "code",
   "execution_count": 68,
   "id": "f8c4ff1b",
   "metadata": {},
   "outputs": [
    {
     "data": {
      "text/plain": [
       "True     13209\n",
       "False     9320\n",
       "Name: asin, dtype: int64"
      ]
     },
     "execution_count": 68,
     "metadata": {},
     "output_type": "execute_result"
    }
   ],
   "source": [
    "# Reviews data set against Review data set\n",
    "\n",
    "swmds['asin'].isin(swrds['asin']).value_counts()"
   ]
  },
  {
   "cell_type": "markdown",
   "id": "9ce22ef9",
   "metadata": {},
   "source": [
    "### Merging and checking"
   ]
  },
  {
   "cell_type": "code",
   "execution_count": 69,
   "id": "f313b1a4",
   "metadata": {},
   "outputs": [
    {
     "data": {
      "text/plain": [
       "(292055, 14)"
      ]
     },
     "execution_count": 69,
     "metadata": {},
     "output_type": "execute_result"
    }
   ],
   "source": [
    "# Using acronym One Data Set as ods\n",
    "\n",
    "ods = pd.merge(swrds, swmds, how='inner', on='asin')\n",
    "\n",
    "# Making sure all rows of Reviews are still at data set\n",
    "\n",
    "ods.shape"
   ]
  },
  {
   "cell_type": "code",
   "execution_count": 70,
   "id": "0ad7819c",
   "metadata": {},
   "outputs": [
    {
     "name": "stdout",
     "output_type": "stream",
     "text": [
      "<class 'pandas.core.frame.DataFrame'>\n",
      "Int64Index: 292055 entries, 0 to 292054\n",
      "Data columns (total 14 columns):\n",
      " #   Column       Non-Null Count   Dtype         \n",
      "---  ------       --------------   -----         \n",
      " 0   asin         292055 non-null  object        \n",
      " 1   score        292055 non-null  int64         \n",
      " 2   reviewText   292030 non-null  object        \n",
      " 3   reviewerID   292055 non-null  object        \n",
      " 4   summary      292031 non-null  object        \n",
      " 5   timestamp    292055 non-null  datetime64[ns]\n",
      " 6   verified     292055 non-null  object        \n",
      " 7   date         292055 non-null  datetime64[ns]\n",
      " 8   year         292055 non-null  int64         \n",
      " 9   month        292055 non-null  int64         \n",
      " 10  day          292055 non-null  int64         \n",
      " 11  day_of_week  292055 non-null  int64         \n",
      " 12  brand        292055 non-null  object        \n",
      " 13  title        292055 non-null  object        \n",
      "dtypes: datetime64[ns](2), int64(5), object(7)\n",
      "memory usage: 33.4+ MB\n"
     ]
    }
   ],
   "source": [
    "# Making sure all columns are togheter and complete except summary and reviewText\n",
    "\n",
    "ods.info()"
   ]
  },
  {
   "cell_type": "code",
   "execution_count": 71,
   "id": "0b201ccb",
   "metadata": {},
   "outputs": [
    {
     "data": {
      "text/plain": [
       "count     292055\n",
       "unique      2681\n",
       "top       Intuit\n",
       "freq       57889\n",
       "Name: brand, dtype: object"
      ]
     },
     "execution_count": 71,
     "metadata": {},
     "output_type": "execute_result"
    }
   ],
   "source": [
    "# Taking a peak at the brand column as will be key to start filtering into a subgroup\n",
    "\n",
    "ods['brand'].describe()"
   ]
  },
  {
   "cell_type": "markdown",
   "id": "8f2a89a0",
   "metadata": {},
   "source": [
    "## Software industry to add stream data work prior to EDA\n",
    "\n",
    "> Pull and review the streaming data to review what we can add to the software category data set\n",
    "\n",
    "> Compare datasets and merge if aligned\n",
    "\n",
    "> Check merge success\n"
   ]
  },
  {
   "cell_type": "code",
   "execution_count": 72,
   "id": "81f0d965",
   "metadata": {},
   "outputs": [],
   "source": [
    "# Acronym for the Streaming Data Set is sds\n",
    "\n",
    "datathon_first_streaming_pkt_731_file = \"/Users/dslab/Downloads/stream_40223_samples.parquet\"\n",
    "sds = pd.read_parquet(datathon_first_streaming_pkt_731_file, engine='pyarrow')"
   ]
  },
  {
   "cell_type": "code",
   "execution_count": 73,
   "id": "a7f212d2",
   "metadata": {},
   "outputs": [
    {
     "data": {
      "text/plain": [
       "count         292055\n",
       "unique         13209\n",
       "top       B00CTTEKJW\n",
       "freq            7929\n",
       "Name: asin, dtype: object"
      ]
     },
     "execution_count": 73,
     "metadata": {},
     "output_type": "execute_result"
    }
   ],
   "source": [
    "# Count the stream data products\n",
    "\n",
    "ods['asin'].describe()"
   ]
  },
  {
   "cell_type": "code",
   "execution_count": 74,
   "id": "a32604d8",
   "metadata": {},
   "outputs": [
    {
     "data": {
      "text/plain": [
       "count          40223\n",
       "unique          2806\n",
       "top       B015R4DH2G\n",
       "freq            2126\n",
       "Name: asin, dtype: object"
      ]
     },
     "execution_count": 74,
     "metadata": {},
     "output_type": "execute_result"
    }
   ],
   "source": [
    "# Count the stream data products\n",
    "\n",
    "sds['asin'].describe()"
   ]
  },
  {
   "cell_type": "markdown",
   "id": "b08f1d0a",
   "metadata": {},
   "source": [
    "### Checking relationship of asin among the 2 data frames"
   ]
  },
  {
   "cell_type": "code",
   "execution_count": 75,
   "id": "bc33c937",
   "metadata": {},
   "outputs": [
    {
     "data": {
      "text/plain": [
       "False    292055\n",
       "Name: asin, dtype: int64"
      ]
     },
     "execution_count": 75,
     "metadata": {},
     "output_type": "execute_result"
    }
   ],
   "source": [
    "# Reviews & Metadata data set against Streaming data set\n",
    "\n",
    "ods['asin'].isin(sds['asin']).value_counts()"
   ]
  },
  {
   "cell_type": "code",
   "execution_count": 76,
   "id": "d4d5a6ea",
   "metadata": {},
   "outputs": [
    {
     "data": {
      "text/plain": [
       "False    40223\n",
       "Name: asin, dtype: int64"
      ]
     },
     "execution_count": 76,
     "metadata": {},
     "output_type": "execute_result"
    }
   ],
   "source": [
    "# Streaming data set against Reviews & Metadata data set\n",
    "\n",
    "sds['asin'].isin(ods['asin']).value_counts()"
   ]
  },
  {
   "cell_type": "markdown",
   "id": "e8313845",
   "metadata": {},
   "source": [
    "<div class=\"alert alert-block alert-warning\">\n",
    "<h2> Process Insights 7/31/2023</h2>\n",
    "-------------------------------------------------------------------------------------------------------------------------------\n",
    "\n",
    "- Stream data is not adding values to the software category.\n",
    "- Thus merge can not be completed as there is nothing to merge into.\n",
    "    \n",
    "    <h3> While we decide to pursue or pivot we will go ahead and extract a subset of the category that makes sense. </h3> \n",
    "       \n",
    "</div>\n"
   ]
  },
  {
   "cell_type": "markdown",
   "id": "01ee60ad",
   "metadata": {},
   "source": [
    "## Note:\n",
    "\n",
    "### We then moved into the Software Category yet after noticing that streaming data was about only 2 categories, we decided to finally select the Musical Category.\n",
    "\n",
    "#### Continues at part II ..."
   ]
  }
 ],
 "metadata": {
  "kernelspec": {
   "display_name": "Python 3 (ipykernel)",
   "language": "python",
   "name": "python3"
  },
  "language_info": {
   "codemirror_mode": {
    "name": "ipython",
    "version": 3
   },
   "file_extension": ".py",
   "mimetype": "text/x-python",
   "name": "python",
   "nbconvert_exporter": "python",
   "pygments_lexer": "ipython3",
   "version": "3.9.7"
  }
 },
 "nbformat": 4,
 "nbformat_minor": 5
}
