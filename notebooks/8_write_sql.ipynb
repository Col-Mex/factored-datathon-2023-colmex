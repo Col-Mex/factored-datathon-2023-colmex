{
 "cells": [
  {
   "cell_type": "code",
   "execution_count": 1,
   "metadata": {},
   "outputs": [],
   "source": [
    "import joblib\n",
    "import gzip\n",
    "import json\n",
    "import numpy as np\n",
    "import random\n",
    "import pandas as pd\n",
    "import os\n",
    "from sqlalchemy import create_engine\n",
    "import urllib\n",
    "from azure.identity import DefaultAzureCredential\n",
    "from azure.keyvault.secrets import SecretClient"
   ]
  },
  {
   "cell_type": "code",
   "execution_count": 2,
   "metadata": {},
   "outputs": [],
   "source": [
    "## Login to Azure Key Vault\n",
    "\n",
    "# replace 'my-key-vault-url' with the URL of your Azure Key Vault\n",
    "vault_url = 'https://kv-colmex.vault.azure.net/'\n",
    "\n",
    "# DefaultAzureCredential will use the credentials of your logged-in Azure account\n",
    "credential = DefaultAzureCredential()\n",
    "\n",
    "# create a SecretClient\n",
    "client = SecretClient(vault_url=vault_url, credential=credential)"
   ]
  },
  {
   "cell_type": "code",
   "execution_count": 3,
   "metadata": {},
   "outputs": [],
   "source": [
    "list_reviews = joblib.load(\"../extract/downloaded_reviews.joblib\")"
   ]
  },
  {
   "cell_type": "code",
   "execution_count": 4,
   "metadata": {},
   "outputs": [],
   "source": [
    "ejemplo = list_reviews[0]"
   ]
  },
  {
   "cell_type": "code",
   "execution_count": 5,
   "metadata": {},
   "outputs": [],
   "source": [
    "with gzip.open(os.path.join(\"../extract/\",ejemplo), 'r') as fin:\n",
    "    decompressed_data = fin.read().decode('utf-8')\n",
    "json_objects = [json.loads(line) for line in decompressed_data.splitlines() if line]\n",
    "df = pd.DataFrame(json_objects)"
   ]
  },
  {
   "cell_type": "code",
   "execution_count": 6,
   "metadata": {},
   "outputs": [],
   "source": [
    "df = df.sample(10)"
   ]
  },
  {
   "cell_type": "code",
   "execution_count": 7,
   "metadata": {},
   "outputs": [],
   "source": [
    "df = df.reset_index().rename(columns={\"index\": \"reviewID\"}).drop(columns=[\"image\", \"style\"])"
   ]
  },
  {
   "cell_type": "code",
   "execution_count": 20,
   "metadata": {},
   "outputs": [
    {
     "data": {
      "text/plain": [
       "10"
      ]
     },
     "execution_count": 20,
     "metadata": {},
     "output_type": "execute_result"
    }
   ],
   "source": [
    "# parameters\n",
    "server = client.get_secret('db-server').value\n",
    "database = client.get_secret('database').value\n",
    "username = client.get_secret('db-username').value\n",
    "password = client.get_secret('db-password').value\n",
    "driver = '{ODBC Driver 17 for SQL Server}'\n",
    "table = 'reviews_test'\n",
    "\n",
    "# create the connection string\n",
    "params = urllib.parse.quote_plus(\n",
    "    f'DRIVER={driver};SERVER={server};DATABASE={database};UID={username};PWD={password}')\n",
    "\n",
    "engine = create_engine(f'mssql+pyodbc:///?odbc_connect={params}')\n",
    "\n",
    "df.to_sql(f'{table}', con=engine, if_exists='append', index=False)"
   ]
  }
 ],
 "metadata": {
  "kernelspec": {
   "display_name": "azure_download",
   "language": "python",
   "name": "python3"
  },
  "language_info": {
   "codemirror_mode": {
    "name": "ipython",
    "version": 3
   },
   "file_extension": ".py",
   "mimetype": "text/x-python",
   "name": "python",
   "nbconvert_exporter": "python",
   "pygments_lexer": "ipython3",
   "version": "3.11.4"
  },
  "orig_nbformat": 4
 },
 "nbformat": 4,
 "nbformat_minor": 2
}
