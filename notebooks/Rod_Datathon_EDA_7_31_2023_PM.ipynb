{
 "cells": [
  {
   "cell_type": "markdown",
   "id": "e64f2bee",
   "metadata": {},
   "source": [
    "*7.31.2023 PM Monday*"
   ]
  },
  {
   "cell_type": "markdown",
   "id": "3f2d01aa",
   "metadata": {},
   "source": [
    "<div class=\"alert alert-block alert-success\">\n",
    "<center><h1><b> Datathon Initial Category Exploratory Data Analysis / Data Understanding </b></h1></center>\n",
    "\n",
    "<br/> \n",
    "\n",
    "\n",
    "Objectives:\n",
    "\n",
    "    *   Understand the data with a) Descriptive/Summary Statistics and b) Data Visualization (graphs/charts/tables)\n",
    "    *   Determine if data makes sense\n",
    "    *   Identify data patterns/trends/gain insights    \n",
    "    *   Identify key Vars\n",
    "    *   Determine if data wrangling/cleaning/scrub is needed (identify imperfections/probls in the data)\n",
    "    \n",
    "\n",
    "</div>"
   ]
  },
  {
   "cell_type": "markdown",
   "id": "e2e1617f",
   "metadata": {},
   "source": [
    "***"
   ]
  },
  {
   "cell_type": "markdown",
   "id": "0ad3e4da",
   "metadata": {},
   "source": [
    "# Data Collection"
   ]
  },
  {
   "cell_type": "markdown",
   "id": "b6e26108",
   "metadata": {},
   "source": [
    "## Imports and dataset extraction\n",
    "\n",
    "> Getting started"
   ]
  },
  {
   "cell_type": "code",
   "execution_count": null,
   "id": "6ca007e6",
   "metadata": {},
   "outputs": [],
   "source": [
    "#pip install pandas pyarrow"
   ]
  },
  {
   "cell_type": "code",
   "execution_count": 1,
   "id": "9a4cad3a",
   "metadata": {},
   "outputs": [],
   "source": [
    "import numpy as np\n",
    "import pandas as pd\n",
    "import matplotlib.pyplot as plt\n",
    "import seaborn as sns\n",
    "import pyarrow\n"
   ]
  },
  {
   "cell_type": "code",
   "execution_count": 2,
   "id": "317b4862",
   "metadata": {},
   "outputs": [],
   "source": [
    "# Rod's standard variable for a DataFrame is ds as acronym for One Data Set (ods)\n",
    "\n",
    "datathon_eda_sw_industry_one_df_file = \"/Users/dslab/one_sw_df_7312023_2104.parquet\"\n",
    "ods = pd.read_parquet(datathon_eda_sw_industry_one_df_file, engine='pyarrow')"
   ]
  },
  {
   "cell_type": "code",
   "execution_count": 3,
   "id": "1f56b5ac",
   "metadata": {},
   "outputs": [],
   "source": [
    "# Rod's standard variable for a DataFrame is ds as acronym for data set and now Streaming Data Set (sds)\n",
    "\n",
    "\n",
    "datathon_first_streaming_pkt_731_file = \"/Users/dslab/Downloads/stream_40223_samples.parquet\"\n",
    "sds = pd.read_parquet(datathon_first_streaming_pkt_731_file, engine='pyarrow')\n"
   ]
  },
  {
   "cell_type": "code",
   "execution_count": 4,
   "id": "d3190590",
   "metadata": {},
   "outputs": [
    {
     "data": {
      "text/plain": [
       "count         292055\n",
       "unique         13209\n",
       "top       B00CTTEKJW\n",
       "freq            7929\n",
       "Name: asin, dtype: object"
      ]
     },
     "execution_count": 4,
     "metadata": {},
     "output_type": "execute_result"
    }
   ],
   "source": [
    "ods['asin'].describe()"
   ]
  },
  {
   "cell_type": "code",
   "execution_count": 5,
   "id": "8826e9d0",
   "metadata": {},
   "outputs": [
    {
     "data": {
      "text/plain": [
       "count          40223\n",
       "unique          2806\n",
       "top       B015R4DH2G\n",
       "freq            2126\n",
       "Name: asin, dtype: object"
      ]
     },
     "execution_count": 5,
     "metadata": {},
     "output_type": "execute_result"
    }
   ],
   "source": [
    "sds['asin'].describe()"
   ]
  },
  {
   "cell_type": "markdown",
   "id": "d5d48f2d",
   "metadata": {},
   "source": [
    "### Checking relationship of asin among the 2 data frames"
   ]
  },
  {
   "cell_type": "code",
   "execution_count": 7,
   "id": "71e05e3f",
   "metadata": {},
   "outputs": [
    {
     "data": {
      "text/plain": [
       "False    292055\n",
       "Name: asin, dtype: int64"
      ]
     },
     "execution_count": 7,
     "metadata": {},
     "output_type": "execute_result"
    }
   ],
   "source": [
    "# Reviews & Metadata data set against Streaming data set\n",
    "\n",
    "ods['asin'].isin(sds['asin']).value_counts()"
   ]
  },
  {
   "cell_type": "code",
   "execution_count": 8,
   "id": "c57bbced",
   "metadata": {},
   "outputs": [
    {
     "data": {
      "text/plain": [
       "False    40223\n",
       "Name: asin, dtype: int64"
      ]
     },
     "execution_count": 8,
     "metadata": {},
     "output_type": "execute_result"
    }
   ],
   "source": [
    "# Streaming data set against Reviews & Metadata data set\n",
    "\n",
    "sds['asin'].isin(ods['asin']).value_counts()"
   ]
  },
  {
   "cell_type": "code",
   "execution_count": 9,
   "id": "b4e7e64d",
   "metadata": {},
   "outputs": [
    {
     "data": {
      "text/html": [
       "<div>\n",
       "<style scoped>\n",
       "    .dataframe tbody tr th:only-of-type {\n",
       "        vertical-align: middle;\n",
       "    }\n",
       "\n",
       "    .dataframe tbody tr th {\n",
       "        vertical-align: top;\n",
       "    }\n",
       "\n",
       "    .dataframe thead th {\n",
       "        text-align: right;\n",
       "    }\n",
       "</style>\n",
       "<table border=\"1\" class=\"dataframe\">\n",
       "  <thead>\n",
       "    <tr style=\"text-align: right;\">\n",
       "      <th></th>\n",
       "      <th>asin</th>\n",
       "      <th>overall</th>\n",
       "      <th>reviewText</th>\n",
       "      <th>reviewerID</th>\n",
       "      <th>reviewerName</th>\n",
       "      <th>summary</th>\n",
       "      <th>verified</th>\n",
       "      <th>internal_partition</th>\n",
       "      <th>partition_number</th>\n",
       "      <th>style</th>\n",
       "      <th>vote</th>\n",
       "      <th>image</th>\n",
       "    </tr>\n",
       "  </thead>\n",
       "  <tbody>\n",
       "    <tr>\n",
       "      <th>0</th>\n",
       "      <td>B00005QDPX</td>\n",
       "      <td>5</td>\n",
       "      <td>Crazy Taxi is by far one of the best video gam...</td>\n",
       "      <td>A36TDX8DY2XK5Q</td>\n",
       "      <td>Some Kid</td>\n",
       "      <td>It's Party Time! Let's Have Some Fun!</td>\n",
       "      <td>false</td>\n",
       "      <td>0</td>\n",
       "      <td>1</td>\n",
       "      <td>None</td>\n",
       "      <td>NaN</td>\n",
       "      <td>None</td>\n",
       "    </tr>\n",
       "    <tr>\n",
       "      <th>1</th>\n",
       "      <td>B000MXIMKK</td>\n",
       "      <td>4</td>\n",
       "      <td>I love these pants!\\n\\nFor those of us who sla...</td>\n",
       "      <td>AZZ1YPRM2FAUH</td>\n",
       "      <td>David Colgrove</td>\n",
       "      <td>Durable, good looking slacks at a reasonable p...</td>\n",
       "      <td>true</td>\n",
       "      <td>0</td>\n",
       "      <td>2</td>\n",
       "      <td>{\"Size:\":\" 33W x 30L\",\"Color:\":\" Graphite\"}</td>\n",
       "      <td>6.0</td>\n",
       "      <td>None</td>\n",
       "    </tr>\n",
       "    <tr>\n",
       "      <th>2</th>\n",
       "      <td>B00005QDPX</td>\n",
       "      <td>2</td>\n",
       "      <td>Anyone who hasn't played this game should rent...</td>\n",
       "      <td>A3PASG15BRR40D</td>\n",
       "      <td>SleepyJD</td>\n",
       "      <td>A fun game that gets old too quickly</td>\n",
       "      <td>false</td>\n",
       "      <td>0</td>\n",
       "      <td>3</td>\n",
       "      <td>None</td>\n",
       "      <td>NaN</td>\n",
       "      <td>None</td>\n",
       "    </tr>\n",
       "    <tr>\n",
       "      <th>3</th>\n",
       "      <td>B000MXIMKK</td>\n",
       "      <td>5</td>\n",
       "      <td>Great pants and nice crease.</td>\n",
       "      <td>A388UHKJN07JJT</td>\n",
       "      <td>TJK</td>\n",
       "      <td>Great Product</td>\n",
       "      <td>true</td>\n",
       "      <td>0</td>\n",
       "      <td>4</td>\n",
       "      <td>{\"Size:\":\" 42W x 30L\",\"Color:\":\" Black\"}</td>\n",
       "      <td>NaN</td>\n",
       "      <td>None</td>\n",
       "    </tr>\n",
       "    <tr>\n",
       "      <th>4</th>\n",
       "      <td>B00005QDPX</td>\n",
       "      <td>4</td>\n",
       "      <td>In this game you choose a driver and car then ...</td>\n",
       "      <td>A29YLR71A42A3N</td>\n",
       "      <td>Amazon Customer</td>\n",
       "      <td>Fun and Entertaining</td>\n",
       "      <td>false</td>\n",
       "      <td>0</td>\n",
       "      <td>5</td>\n",
       "      <td>None</td>\n",
       "      <td>3.0</td>\n",
       "      <td>None</td>\n",
       "    </tr>\n",
       "  </tbody>\n",
       "</table>\n",
       "</div>"
      ],
      "text/plain": [
       "         asin  overall                                         reviewText  \\\n",
       "0  B00005QDPX        5  Crazy Taxi is by far one of the best video gam...   \n",
       "1  B000MXIMKK        4  I love these pants!\\n\\nFor those of us who sla...   \n",
       "2  B00005QDPX        2  Anyone who hasn't played this game should rent...   \n",
       "3  B000MXIMKK        5                       Great pants and nice crease.   \n",
       "4  B00005QDPX        4  In this game you choose a driver and car then ...   \n",
       "\n",
       "       reviewerID     reviewerName  \\\n",
       "0  A36TDX8DY2XK5Q         Some Kid   \n",
       "1   AZZ1YPRM2FAUH   David Colgrove   \n",
       "2  A3PASG15BRR40D         SleepyJD   \n",
       "3  A388UHKJN07JJT              TJK   \n",
       "4  A29YLR71A42A3N  Amazon Customer   \n",
       "\n",
       "                                             summary verified  \\\n",
       "0              It's Party Time! Let's Have Some Fun!    false   \n",
       "1  Durable, good looking slacks at a reasonable p...     true   \n",
       "2               A fun game that gets old too quickly    false   \n",
       "3                                      Great Product     true   \n",
       "4                               Fun and Entertaining    false   \n",
       "\n",
       "   internal_partition  partition_number  \\\n",
       "0                   0                 1   \n",
       "1                   0                 2   \n",
       "2                   0                 3   \n",
       "3                   0                 4   \n",
       "4                   0                 5   \n",
       "\n",
       "                                         style  vote image  \n",
       "0                                         None   NaN  None  \n",
       "1  {\"Size:\":\" 33W x 30L\",\"Color:\":\" Graphite\"}   6.0  None  \n",
       "2                                         None   NaN  None  \n",
       "3     {\"Size:\":\" 42W x 30L\",\"Color:\":\" Black\"}   NaN  None  \n",
       "4                                         None   3.0  None  "
      ]
     },
     "execution_count": 9,
     "metadata": {},
     "output_type": "execute_result"
    }
   ],
   "source": [
    "sds.head()"
   ]
  },
  {
   "cell_type": "code",
   "execution_count": 10,
   "id": "9110e9ec",
   "metadata": {},
   "outputs": [
    {
     "data": {
      "text/html": [
       "<div>\n",
       "<style scoped>\n",
       "    .dataframe tbody tr th:only-of-type {\n",
       "        vertical-align: middle;\n",
       "    }\n",
       "\n",
       "    .dataframe tbody tr th {\n",
       "        vertical-align: top;\n",
       "    }\n",
       "\n",
       "    .dataframe thead th {\n",
       "        text-align: right;\n",
       "    }\n",
       "</style>\n",
       "<table border=\"1\" class=\"dataframe\">\n",
       "  <thead>\n",
       "    <tr style=\"text-align: right;\">\n",
       "      <th></th>\n",
       "      <th>asin</th>\n",
       "      <th>score</th>\n",
       "      <th>reviewText</th>\n",
       "      <th>reviewerID</th>\n",
       "      <th>summary</th>\n",
       "      <th>timestamp</th>\n",
       "      <th>verified</th>\n",
       "      <th>date</th>\n",
       "      <th>year</th>\n",
       "      <th>month</th>\n",
       "      <th>day</th>\n",
       "      <th>day_of_week</th>\n",
       "      <th>brand</th>\n",
       "      <th>title</th>\n",
       "    </tr>\n",
       "  </thead>\n",
       "  <tbody>\n",
       "  </tbody>\n",
       "</table>\n",
       "</div>"
      ],
      "text/plain": [
       "Empty DataFrame\n",
       "Columns: [asin, score, reviewText, reviewerID, summary, timestamp, verified, date, year, month, day, day_of_week, brand, title]\n",
       "Index: []"
      ]
     },
     "execution_count": 10,
     "metadata": {},
     "output_type": "execute_result"
    }
   ],
   "source": [
    "ods[ods['asin'] == 'B00005QDPX']"
   ]
  },
  {
   "cell_type": "code",
   "execution_count": null,
   "id": "18eb6cc4",
   "metadata": {},
   "outputs": [],
   "source": []
  },
  {
   "cell_type": "code",
   "execution_count": null,
   "id": "aa67ba11",
   "metadata": {},
   "outputs": [],
   "source": []
  },
  {
   "cell_type": "code",
   "execution_count": null,
   "id": "ab462e13",
   "metadata": {},
   "outputs": [],
   "source": []
  },
  {
   "cell_type": "code",
   "execution_count": null,
   "id": "eb28f6d4",
   "metadata": {},
   "outputs": [],
   "source": []
  },
  {
   "cell_type": "code",
   "execution_count": null,
   "id": "b60ce241",
   "metadata": {},
   "outputs": [],
   "source": [
    "cmds.isnull().sum()"
   ]
  },
  {
   "cell_type": "code",
   "execution_count": null,
   "id": "2047c7b0",
   "metadata": {},
   "outputs": [],
   "source": [
    "cmds.info()"
   ]
  },
  {
   "cell_type": "code",
   "execution_count": null,
   "id": "97b0d58d",
   "metadata": {},
   "outputs": [],
   "source": [
    "cmds.head()"
   ]
  },
  {
   "cell_type": "markdown",
   "id": "32d9ebe3",
   "metadata": {},
   "source": [
    "### Checking relationship of asin among the 2 data frames"
   ]
  },
  {
   "cell_type": "code",
   "execution_count": null,
   "id": "5e4d8e2b",
   "metadata": {},
   "outputs": [],
   "source": [
    "# Reviews data set against Metadata data set\n",
    "\n",
    "ds['asin'].isin(cmds['asin']).value_counts()"
   ]
  },
  {
   "cell_type": "code",
   "execution_count": null,
   "id": "4430160d",
   "metadata": {},
   "outputs": [],
   "source": [
    "# Metadata data set against Reviews data set\n",
    "\n",
    "cmds['asin'].isin(ds['asin']).value_counts()"
   ]
  },
  {
   "cell_type": "markdown",
   "id": "33e43614",
   "metadata": {},
   "source": [
    "### Merging and checking"
   ]
  },
  {
   "cell_type": "code",
   "execution_count": null,
   "id": "25071988",
   "metadata": {},
   "outputs": [],
   "source": [
    "# Using acronym One Data Set as ods\n",
    "\n",
    "ods = pd.merge(ds, cmds, how='inner', on='asin')\n",
    "ods.shape"
   ]
  },
  {
   "cell_type": "code",
   "execution_count": null,
   "id": "4a44b2ed",
   "metadata": {},
   "outputs": [],
   "source": [
    "ods.info()"
   ]
  },
  {
   "cell_type": "code",
   "execution_count": null,
   "id": "b85f331f",
   "metadata": {},
   "outputs": [],
   "source": [
    "ods.head()"
   ]
  },
  {
   "cell_type": "code",
   "execution_count": null,
   "id": "b98be7b4",
   "metadata": {},
   "outputs": [],
   "source": [
    "ods['brand'].describe()"
   ]
  },
  {
   "cell_type": "code",
   "execution_count": null,
   "id": "169c5a83",
   "metadata": {},
   "outputs": [],
   "source": []
  },
  {
   "cell_type": "code",
   "execution_count": null,
   "id": "5db017d5",
   "metadata": {},
   "outputs": [],
   "source": []
  },
  {
   "cell_type": "code",
   "execution_count": null,
   "id": "72145ccd",
   "metadata": {},
   "outputs": [],
   "source": []
  },
  {
   "cell_type": "code",
   "execution_count": null,
   "id": "f8bdf209",
   "metadata": {},
   "outputs": [],
   "source": []
  },
  {
   "cell_type": "code",
   "execution_count": null,
   "id": "7921cd73",
   "metadata": {},
   "outputs": [],
   "source": []
  },
  {
   "cell_type": "code",
   "execution_count": null,
   "id": "f49dd99b",
   "metadata": {},
   "outputs": [],
   "source": []
  },
  {
   "cell_type": "code",
   "execution_count": null,
   "id": "c310f752",
   "metadata": {},
   "outputs": [],
   "source": []
  },
  {
   "cell_type": "code",
   "execution_count": null,
   "id": "275cf8a5",
   "metadata": {},
   "outputs": [],
   "source": []
  },
  {
   "cell_type": "code",
   "execution_count": null,
   "id": "d6303e39",
   "metadata": {},
   "outputs": [],
   "source": []
  },
  {
   "cell_type": "code",
   "execution_count": null,
   "id": "bbbc5d6c",
   "metadata": {},
   "outputs": [],
   "source": []
  },
  {
   "cell_type": "markdown",
   "id": "3b542bca",
   "metadata": {},
   "source": [
    "## Checkpoint\n",
    "\n",
    "> Loading progress into a new file"
   ]
  },
  {
   "cell_type": "code",
   "execution_count": null,
   "id": "29fb6065",
   "metadata": {},
   "outputs": [],
   "source": [
    "ds.to_parquet('_____.parquet')"
   ]
  },
  {
   "cell_type": "markdown",
   "id": "e7ccbec6",
   "metadata": {},
   "source": [
    "**End of process**"
   ]
  }
 ],
 "metadata": {
  "kernelspec": {
   "display_name": "Python 3 (ipykernel)",
   "language": "python",
   "name": "python3"
  },
  "language_info": {
   "codemirror_mode": {
    "name": "ipython",
    "version": 3
   },
   "file_extension": ".py",
   "mimetype": "text/x-python",
   "name": "python",
   "nbconvert_exporter": "python",
   "pygments_lexer": "ipython3",
   "version": "3.9.7"
  }
 },
 "nbformat": 4,
 "nbformat_minor": 5
}
