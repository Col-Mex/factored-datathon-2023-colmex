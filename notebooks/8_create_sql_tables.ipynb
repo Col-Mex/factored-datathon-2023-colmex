{
 "cells": [
  {
   "cell_type": "markdown",
   "metadata": {},
   "source": [
    "# Create SQL Tables"
   ]
  },
  {
   "cell_type": "code",
   "execution_count": null,
   "metadata": {},
   "outputs": [],
   "source": [
    "from sqlalchemy import create_engine, MetaData, Table, Column\n",
    "from sqlalchemy import Integer, String, Date, Boolean"
   ]
  },
  {
   "cell_type": "code",
   "execution_count": null,
   "metadata": {},
   "outputs": [],
   "source": [
    "SERVER = 'server-db-colmex.database.windows.net'\n",
    "DATABASE = 'db-colmex'\n",
    "USER_NAME = ''\n",
    "PASSWORD = ''\n",
    "DRIVER = '{ODBC Driver 17 for SQL Server}'"
   ]
  },
  {
   "cell_type": "code",
   "execution_count": null,
   "metadata": {},
   "outputs": [],
   "source": [
    "params = f'DRIVER={DRIVER};SERVER={SERVER};DATABASE={DATABASE};UID={USER_NAME};PWD={PASSWORD}'\n",
    "engine = create_engine(f'mssql+pyodbc:///?odbc_connect={params}')\n",
    "meta_sql = MetaData()"
   ]
  },
  {
   "cell_type": "code",
   "execution_count": null,
   "metadata": {},
   "outputs": [],
   "source": [
    "table_name = \"reviews\"\n",
    "\n",
    "st_reviews = Table(\n",
    "    table_name,\n",
    "    meta_sql,\n",
    "    Column(\"reviewID\", String(45), primary_key=True),\n",
    "    Column(\"asin\", String(10), nullable=False),\n",
    "    Column(\"overall\", Integer),\n",
    "    Column(\"reviewText\", String),\n",
    "    Column(\"reviewerID\", String(20), nullable=False),\n",
    "    Column(\"reviewerName\", String(300)),\n",
    "    Column(\"summary\", String(500)),\n",
    "    Column(\"dateReview\", Date, nullable=False),\n",
    "    Column(\"verified\", Boolean),\n",
    "    Column(\"vote\", Integer),\n",
    "    Column(\"sentiment\", String(10)),\n",
    "    Column(\"emotion\", String(10)),\n",
    ")"
   ]
  },
  {
   "cell_type": "code",
   "execution_count": null,
   "metadata": {},
   "outputs": [],
   "source": [
    "table_name = \"metadata\"\n",
    "\n",
    "metadata_table = Table(\n",
    "    table_name,\n",
    "    meta_sql,\n",
    "    Column(\"asin\", String(10), primary_key=True),\n",
    "    Column(\"brand\", String(400)),\n",
    "    Column(\"category\", String),\n",
    "    Column(\"title\", String(1000)),\n",
    ")"
   ]
  },
  {
   "cell_type": "code",
   "execution_count": null,
   "metadata": {},
   "outputs": [],
   "source": [
    "meta_sql.create_all(engine)"
   ]
  }
 ],
 "metadata": {
  "kernelspec": {
   "display_name": "factored",
   "language": "python",
   "name": "python3"
  },
  "language_info": {
   "name": "python",
   "version": "3.9.17"
  },
  "orig_nbformat": 4
 },
 "nbformat": 4,
 "nbformat_minor": 2
}
