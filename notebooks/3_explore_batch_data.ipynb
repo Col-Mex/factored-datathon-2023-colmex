{
 "cells": [
  {
   "cell_type": "code",
   "execution_count": 1,
   "metadata": {},
   "outputs": [],
   "source": [
    "import os\n",
    "from pyspark.sql import SparkSession\n",
    "from pyspark.sql.functions import col, countDistinct\n",
    "from bs4 import BeautifulSoup"
   ]
  },
  {
   "cell_type": "code",
   "execution_count": null,
   "metadata": {},
   "outputs": [],
   "source": [
    "AMAZON_REVIEWS = 'amazon_reviews'\n",
    "AMAZON_METADATA = 'amazon_metadata'\n",
    "\n",
    "spark = SparkSession.builder.getOrCreate()"
   ]
  },
  {
   "cell_type": "markdown",
   "metadata": {},
   "source": [
    "Number `.gz` review files: 2738\n",
    "\n",
    "Number `.gz` metadata files: 1503"
   ]
  },
  {
   "cell_type": "code",
   "execution_count": 3,
   "metadata": {},
   "outputs": [],
   "source": [
    "review_files = [os.path.join(AMAZON_REVIEWS, path) for path in os.listdir(AMAZON_REVIEWS)]\n",
    "metadata_files = [os.path.join(AMAZON_METADATA, path) for path in os.listdir(AMAZON_METADATA)]\n",
    "\n",
    "# print(f'Number review files: {len(review_files)}')\n",
    "# print(f'Number metadata files: {len(metadata_files)}')"
   ]
  },
  {
   "cell_type": "code",
   "execution_count": null,
   "metadata": {},
   "outputs": [],
   "source": [
    "num_review_files = 2738\n",
    "num_metadata_files = 1503\n",
    "\n",
    "df_reviews = spark.read.json(review_files[:num_review_files])\n",
    "df_metadata = spark.read.json(metadata_files[:num_metadata_files])"
   ]
  },
  {
   "cell_type": "markdown",
   "metadata": {},
   "source": [
    "Number of reviews: 139,832,500\n",
    "\n",
    "Number of metadata: 15,023,059"
   ]
  },
  {
   "cell_type": "code",
   "execution_count": 5,
   "metadata": {},
   "outputs": [],
   "source": [
    "num_reviews = 139832500\n",
    "num_metadata = 15023059\n",
    "# num_reviews = df_reviews.count()\n",
    "# num_metadata = df_metadata.count()\n",
    "\n",
    "# print(f'Number of reviews: {num_reviews}')\n",
    "# print(f'Number of metadata: {num_metadata}')"
   ]
  },
  {
   "cell_type": "code",
   "execution_count": 6,
   "metadata": {},
   "outputs": [
    {
     "name": "stdout",
     "output_type": "stream",
     "text": [
      "['asin', 'image', 'overall', 'reviewText', 'reviewerID', 'reviewerName', 'style', 'summary', 'unixReviewTime', 'verified', 'vote']\n"
     ]
    }
   ],
   "source": [
    "# df_reviews.show()\n",
    "print(df_reviews.columns)"
   ]
  },
  {
   "cell_type": "code",
   "execution_count": 7,
   "metadata": {},
   "outputs": [
    {
     "name": "stdout",
     "output_type": "stream",
     "text": [
      "['also_buy', 'also_view', 'asin', 'brand', 'category', 'date', 'description', 'details', 'feature', 'fit', 'image', 'main_cat', 'price', 'rank', 'similar_item', 'tech1', 'tech2', 'title']\n"
     ]
    }
   ],
   "source": [
    "# df_metadata.show()\n",
    "print(df_metadata.columns)"
   ]
  },
  {
   "cell_type": "markdown",
   "metadata": {},
   "source": [
    "## Explore reviews"
   ]
  },
  {
   "cell_type": "markdown",
   "metadata": {},
   "source": [
    "Check for duplications. Removed `reviewerName` from the analysis."
   ]
  },
  {
   "cell_type": "code",
   "execution_count": 35,
   "metadata": {},
   "outputs": [],
   "source": [
    "selected_colums = ['asin', 'image', 'overall', 'reviewText', 'reviewerID', 'style', 'summary', 'unixReviewTime', 'verified', 'vote']\n",
    "df_reviews_new = df_reviews.dropDuplicates(selected_colums)\n",
    "# num_unique_reviews = df_reviews_new.count()\n",
    "num_unique_reviews = 138482432"
   ]
  },
  {
   "cell_type": "markdown",
   "metadata": {},
   "source": [
    "There are 138,482,432 unique products id, 1,350,068 duplications."
   ]
  },
  {
   "cell_type": "code",
   "execution_count": 9,
   "metadata": {},
   "outputs": [
    {
     "name": "stdout",
     "output_type": "stream",
     "text": [
      "There are 138482432 unique products id, 1350068 duplications.\n"
     ]
    }
   ],
   "source": [
    "# num_duplications = num_reviews - num_unique_reviews\n",
    "# print(f\"There are {num_unique_reviews} unique products id, {num_duplications} duplications.\")"
   ]
  },
  {
   "cell_type": "markdown",
   "metadata": {},
   "source": [
    "## Explore metadata"
   ]
  },
  {
   "cell_type": "markdown",
   "metadata": {},
   "source": [
    "There are multiple entries for the same product id.\n",
    "\n",
    "The value of te columns of duplicated ids are the same."
   ]
  },
  {
   "cell_type": "code",
   "execution_count": 10,
   "metadata": {},
   "outputs": [],
   "source": [
    "# df_metadata.select(countDistinct('asin')).show()\n",
    "# df_metadata.distinct().count() # Compare all columns, slower, same result."
   ]
  },
  {
   "cell_type": "markdown",
   "metadata": {},
   "source": [
    "Remove duplicates"
   ]
  },
  {
   "cell_type": "code",
   "execution_count": 31,
   "metadata": {},
   "outputs": [],
   "source": [
    "selected_colums = ['asin']\n",
    "df_metadata_new = df_metadata.dropDuplicates(selected_colums)\n",
    "# num_unique_metadata = df_metadata_new.count()\n",
    "num_unique_metadata = 14741571"
   ]
  },
  {
   "cell_type": "markdown",
   "metadata": {},
   "source": [
    "There are 14,741,571 unique products id, 281,488 duplications."
   ]
  },
  {
   "cell_type": "code",
   "execution_count": 12,
   "metadata": {},
   "outputs": [],
   "source": [
    "# num_duplications = num_metadata - num_unique_metadata\n",
    "# print(f\"There are {num_unique_metadata} unique products id, {num_duplications} duplications.\")"
   ]
  },
  {
   "cell_type": "markdown",
   "metadata": {},
   "source": [
    "## Query to get number of reviews by category"
   ]
  },
  {
   "cell_type": "code",
   "execution_count": 15,
   "metadata": {},
   "outputs": [],
   "source": [
    "df_reviews_cat = df_reviews_new.join(df_metadata_new, df_reviews_new.asin == df_metadata_new.asin).select(\n",
    "    df_reviews_new.asin, df_metadata_new.main_cat)"
   ]
  },
  {
   "cell_type": "code",
   "execution_count": null,
   "metadata": {},
   "outputs": [],
   "source": [
    "cat_count_rows = df_reviews_cat.groupBy('main_cat').count().collect()\n",
    "cat_count = {cat['main_cat']: cat['count'] for cat in cat_count_rows}"
   ]
  },
  {
   "cell_type": "code",
   "execution_count": 83,
   "metadata": {},
   "outputs": [],
   "source": [
    "def get_cat_count_proc(cat_count):\n",
    "    cat_count_proc = {}\n",
    "\n",
    "    for k, v in cat_count.items():\n",
    "        if k.startswith('<'):\n",
    "            new_k = BeautifulSoup(k).img['alt'].title()\n",
    "            cat_count_proc[new_k] = cat_count_proc.get(new_k, 0) + v\n",
    "        elif('&amp;' in k):\n",
    "            new_k = k.replace('&amp;', '&')\n",
    "            cat_count_proc[new_k] = cat_count_proc.get(new_k, 0) + v\n",
    "        else:\n",
    "            cat_count_proc[k] = v\n",
    "\n",
    "    return cat_count_proc\n",
    "\n",
    "cat_count_proc = get_cat_count_proc(cat_count)\n",
    "assert sum(cat_count.values()) == sum(cat_count_proc.values())"
   ]
  },
  {
   "cell_type": "code",
   "execution_count": 89,
   "metadata": {},
   "outputs": [
    {
     "data": {
      "text/plain": [
       "{'Books': 48073131,\n",
       " 'Amazon Fashion': 21367039,\n",
       " 'Amazon Home': 11169687,\n",
       " 'Sports & Outdoors': 6398024,\n",
       " 'Buy a Kindle': 6085927,\n",
       " 'Movies & TV': 5727439,\n",
       " 'Tools & Home Improvement': 4544184,\n",
       " 'Cell Phones & Accessories': 3838068,\n",
       " 'Digital Music': 3641863,\n",
       " 'Automotive': 3551905,\n",
       " 'Toys & Games': 2891662,\n",
       " 'Grocery': 2252131,\n",
       " 'Office Products': 2226526,\n",
       " 'Pet Supplies': 2106744,\n",
       " 'All Electronics': 2083045,\n",
       " 'Computers': 1671578,\n",
       " 'Arts, Crafts & Sewing': 1437428,\n",
       " 'Home Audio & Theater': 1385618,\n",
       " 'Video Games': 1300090,\n",
       " 'Camera & Photo': 1033416,\n",
       " 'Industrial & Scientific': 832065,\n",
       " 'Health & Personal Care': 753424,\n",
       " 'Luxury Beauty': 465270,\n",
       " 'Prime Pantry': 450280,\n",
       " '': 405417,\n",
       " 'All Beauty': 364554,\n",
       " 'Software': 312193,\n",
       " 'Musical Instruments': 287174,\n",
       " 'Baby': 274627,\n",
       " 'Car Electronics': 208936,\n",
       " 'Audible Audiobooks': 146471,\n",
       " 'Amazon Devices': 138597,\n",
       " 'Gift Cards': 100165,\n",
       " 'Vehicles': 60559,\n",
       " 'Appliances': 52204,\n",
       " 'Portable Audio & Accessories': 42937,\n",
       " 'Alexa Skills': 23021,\n",
       " 'GPS & Navigation': 18480,\n",
       " 'Collectible Coins': 9352,\n",
       " 'Home & Business Services': 6625,\n",
       " 'Entertainment': 6187,\n",
       " 'Sports Collectibles': 5984,\n",
       " 'Collectibles & Fine Art': 4326,\n",
       " 'Handmade': 2385,\n",
       " 'Apple Products': 1379,\n",
       " 'Fire Phone': 882,\n",
       " 'Fine Art': 671,\n",
       " 'Amazon Fire TV': 137,\n",
       " 'Amazon Launchpad': 45,\n",
       " 'Shorts': 10,\n",
       " 'MEMBERSHIPS & SUBSCRIPTIONS': 10,\n",
       " '3D Printing': 2,\n",
       " 'Magazine Subscriptions': 2}"
      ]
     },
     "execution_count": 89,
     "metadata": {},
     "output_type": "execute_result"
    }
   ],
   "source": [
    "dict(sorted(cat_count_proc.items(), key=lambda x:x[1], reverse=True))"
   ]
  },
  {
   "cell_type": "code",
   "execution_count": 36,
   "metadata": {},
   "outputs": [
    {
     "name": "stdout",
     "output_type": "stream",
     "text": [
      "Number of reviews with product metadata: 137759876\n",
      "Number of reviews without product metadata: 722556\n"
     ]
    }
   ],
   "source": [
    "num_reviews_with_product_metadata = sum(cat_count.values())\n",
    "num_reviews_without_product_metadata = num_unique_reviews - num_reviews_with_product_metadata\n",
    "\n",
    "print(f'Number of reviews with product metadata: {num_reviews_with_product_metadata}')\n",
    "print(f'Number of reviews without product metadata: {num_reviews_without_product_metadata}')"
   ]
  }
 ],
 "metadata": {
  "kernelspec": {
   "display_name": "factored",
   "language": "python",
   "name": "python3"
  },
  "language_info": {
   "codemirror_mode": {
    "name": "ipython",
    "version": 3
   },
   "file_extension": ".py",
   "mimetype": "text/x-python",
   "name": "python",
   "nbconvert_exporter": "python",
   "pygments_lexer": "ipython3",
   "version": "3.9.17"
  },
  "orig_nbformat": 4
 },
 "nbformat": 4,
 "nbformat_minor": 2
}
