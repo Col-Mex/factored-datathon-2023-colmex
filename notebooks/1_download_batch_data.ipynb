{
 "cells": [
  {
   "cell_type": "markdown",
   "metadata": {},
   "source": [
    "# Download Batch Data"
   ]
  },
  {
   "cell_type": "code",
   "execution_count": null,
   "metadata": {},
   "outputs": [],
   "source": [
    "import os\n",
    "from azure.storage.filedatalake import DataLakeServiceClient"
   ]
  },
  {
   "cell_type": "code",
   "execution_count": null,
   "metadata": {},
   "outputs": [],
   "source": [
    "# Define Access values\n",
    "\n",
    "FILE_PATH = \"amazon_reviews\"\n",
    "# FILE_PATH = \"amazon_metadata\"\n",
    "\n",
    "STORAGE_ACCOUNT = \"safactoreddatathon\"\n",
    "CONTAINER_NAME = \"source-files\"\n",
    "SAS_TOKEN = \"sp=rle&st=2023-07-25T18:12:36Z&se=2023-08-13T02:12:36Z&sv=2022-11-02&sr=c&sig=l2TCTwPWN8LSM922lR%2Fw78mZWQK2ErEOQDUaCJosIaw%3D\"\n",
    "ACCOUNT_URL = f\"https://{STORAGE_ACCOUNT}.dfs.core.windows.net\""
   ]
  },
  {
   "cell_type": "code",
   "execution_count": null,
   "metadata": {},
   "outputs": [],
   "source": [
    "# Create Client\n",
    "\n",
    "service_client = DataLakeServiceClient(\n",
    "    account_url=ACCOUNT_URL, \n",
    "    credential=SAS_TOKEN)\n",
    "\n",
    "file_system_client = service_client.get_file_system_client(\n",
    "    file_system=CONTAINER_NAME)"
   ]
  },
  {
   "cell_type": "markdown",
   "metadata": {},
   "source": [
    "## Data source exploration"
   ]
  },
  {
   "cell_type": "code",
   "execution_count": null,
   "metadata": {},
   "outputs": [],
   "source": [
    "# Utils\n",
    "\n",
    "def get_partitions():\n",
    "    paths = file_system_client.get_paths(FILE_PATH)\n",
    "    partitions = [path.name for path in paths if path.is_directory]\n",
    "    return partitions\n",
    "\n",
    "def ls_dir(path):\n",
    "    paths = file_system_client.get_paths(path)\n",
    "    for element in paths:\n",
    "        print(element.name)"
   ]
  },
  {
   "cell_type": "markdown",
   "metadata": {},
   "source": [
    "amazon_reviews: 2500 partitions\n",
    "\n",
    "amazon_metadata: 1503 partitions"
   ]
  },
  {
   "cell_type": "code",
   "execution_count": null,
   "metadata": {},
   "outputs": [],
   "source": [
    "partitions = get_partitions()\n",
    "num_partitions = len(partitions)\n",
    "print(f\"Number of partitions: {num_partitions}\")"
   ]
  },
  {
   "cell_type": "code",
   "execution_count": null,
   "metadata": {},
   "outputs": [],
   "source": [
    "ls_dir(partitions[0])"
   ]
  },
  {
   "cell_type": "code",
   "execution_count": null,
   "metadata": {},
   "outputs": [],
   "source": [
    "# Verify partitions just contain files\n",
    "\n",
    "paths = file_system_client.get_paths(FILE_PATH)\n",
    "for path in paths:\n",
    "    if len(path.name.split('/')) > 3:\n",
    "        print(path.name)\n",
    "        break"
   ]
  },
  {
   "cell_type": "code",
   "execution_count": null,
   "metadata": {},
   "outputs": [],
   "source": [
    "# Get files extension\n",
    "\n",
    "extensions = set()\n",
    "paths = file_system_client.get_paths(FILE_PATH)\n",
    "for path in paths:\n",
    "    ext = os.path.splitext(path.name)[1]\n",
    "    if ext:\n",
    "        extensions.add(ext)\n",
    "print(extensions)"
   ]
  },
  {
   "cell_type": "markdown",
   "metadata": {},
   "source": [
    "## Data source selection"
   ]
  },
  {
   "cell_type": "markdown",
   "metadata": {},
   "source": [
    "amazon_reviews: 5230 `.gz` files, 2738 no empty\n",
    "\n",
    "amazon_metadata: 1503 `.gz` files, 0 empty"
   ]
  },
  {
   "cell_type": "code",
   "execution_count": null,
   "metadata": {},
   "outputs": [],
   "source": [
    "# Get .gz files path\n",
    "\n",
    "total_gz_files = 0\n",
    "gz_files_path = []\n",
    "\n",
    "paths = file_system_client.get_paths(FILE_PATH)\n",
    "for path in paths:\n",
    "    if path.name.endswith('.gz'):\n",
    "        if path.content_length > 20:\n",
    "            gz_files_path.append(path.name)\n",
    "        total_gz_files += 1\n",
    "        \n",
    "print(f'Total .gz files: {total_gz_files}')\n",
    "print(f'Valid .gz files: {len(gz_files_path)}')"
   ]
  },
  {
   "cell_type": "markdown",
   "metadata": {},
   "source": [
    "## Data source acquisition"
   ]
  },
  {
   "cell_type": "markdown",
   "metadata": {},
   "source": [
    "amazon_reviews: 22.4 GB\n",
    "\n",
    "amazon_metadata: 11.8 GB"
   ]
  },
  {
   "cell_type": "code",
   "execution_count": null,
   "metadata": {},
   "outputs": [],
   "source": [
    "# Download .gz files\n",
    "\n",
    "files_range = (1, 500)\n",
    "\n",
    "for file_path in gz_files_path[files_range[0]-1:files_range[1]]:\n",
    "    if file_path.endswith('.gz'):\n",
    "        file_client = file_system_client.get_file_client(file_path)\n",
    "        file_name = os.path.basename(file_path)\n",
    "        local_file_path = os.path.join(FILE_PATH, file_name)\n",
    "        \n",
    "        with open(local_file_path, 'wb') as stream:\n",
    "            download = file_client.download_file()\n",
    "            download.readinto(stream)"
   ]
  }
 ],
 "metadata": {
  "kernelspec": {
   "display_name": "factored",
   "language": "python",
   "name": "python3"
  },
  "language_info": {
   "codemirror_mode": {
    "name": "ipython",
    "version": 3
   },
   "file_extension": ".py",
   "mimetype": "text/x-python",
   "name": "python",
   "nbconvert_exporter": "python",
   "pygments_lexer": "ipython3",
   "version": "3.9.17"
  },
  "orig_nbformat": 4
 },
 "nbformat": 4,
 "nbformat_minor": 2
}
