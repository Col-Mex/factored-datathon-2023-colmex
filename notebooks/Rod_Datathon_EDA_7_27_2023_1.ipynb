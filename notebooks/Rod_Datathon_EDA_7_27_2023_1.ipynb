{
 "cells": [
  {
   "cell_type": "markdown",
   "id": "e64f2bee",
   "metadata": {},
   "source": [
    "*7.27.2023*"
   ]
  },
  {
   "cell_type": "markdown",
   "id": "3f2d01aa",
   "metadata": {},
   "source": [
    "<div class=\"alert alert-block alert-info\">\n",
    "<center><h1><b> Datathon Initial Category Exploratory Data Analysis / Data Understanding </b></h1></center>\n",
    "\n",
    "<br/> \n",
    "\n",
    "\n",
    "Objectives:\n",
    "\n",
    "    *   Understand the data with a) Descriptive/Summary Statistics and b) Data Visualization (graphs/charts/tables)\n",
    "    *   Determine if data makes sense\n",
    "    *   Identify data patterns/trends/gain insights    \n",
    "    *   Identify key Vars\n",
    "    *   Determine if data wrangling/cleaning/scrub is needed (identify imperfections/probls in the data)\n",
    "    \n",
    "\n",
    "</div>"
   ]
  },
  {
   "cell_type": "markdown",
   "id": "e2e1617f",
   "metadata": {},
   "source": [
    "***"
   ]
  },
  {
   "cell_type": "markdown",
   "id": "b6e26108",
   "metadata": {},
   "source": [
    "### Imports and dataset pull\n",
    "\n",
    "> Getting started"
   ]
  },
  {
   "cell_type": "code",
   "execution_count": null,
   "id": "6ca007e6",
   "metadata": {},
   "outputs": [],
   "source": [
    "pip install pandas pyarrow"
   ]
  },
  {
   "cell_type": "code",
   "execution_count": 1,
   "id": "9a4cad3a",
   "metadata": {},
   "outputs": [],
   "source": [
    "import numpy as np\n",
    "import pandas as pd\n",
    "import matplotlib.pyplot as plt\n",
    "import seaborn as sns"
   ]
  },
  {
   "cell_type": "code",
   "execution_count": 3,
   "id": "1f56b5ac",
   "metadata": {},
   "outputs": [],
   "source": [
    "import pyarrow\n",
    "\n",
    "datathon_metadata_pkt_file = \"/Users/dslab/Downloads/reviews_sample_1p.parquet\"\n",
    "#mds = pd.read_parquet(datathon_metadata_pkt_file, engine='fastparquet')\n",
    "nmds = pd.read_parquet(datathon_metadata_pkt_file, engine='pyarrow')\n",
    "\n",
    "#import pyarrow.parquet as pq\n",
    "#df = pq.read_table(source='c:Users/dslab/Downloads/reviews_sample_1p.parquet').to_pandas()\n"
   ]
  },
  {
   "cell_type": "code",
   "execution_count": 24,
   "id": "d3190590",
   "metadata": {},
   "outputs": [],
   "source": [
    "import pyarrow\n",
    "\n",
    "datathon_metadata_pkt_file = \"/Users/dslab/Downloads/metadata_sample_1p.parquet\"\n",
    "\n",
    "jmds = pd.read_parquet(datathon_metadata_pkt_file, engine='pyarrow')\n",
    "\n",
    "#import pyarrow.parquet as pq\n",
    "#df = pq.read_table(source='c:Users/dslab/Downloads/reviews_sample_1p.parquet').to_pandas()"
   ]
  },
  {
   "cell_type": "code",
   "execution_count": 25,
   "id": "4f96fb3b",
   "metadata": {},
   "outputs": [
    {
     "data": {
      "text/html": [
       "<div>\n",
       "<style scoped>\n",
       "    .dataframe tbody tr th:only-of-type {\n",
       "        vertical-align: middle;\n",
       "    }\n",
       "\n",
       "    .dataframe tbody tr th {\n",
       "        vertical-align: top;\n",
       "    }\n",
       "\n",
       "    .dataframe thead th {\n",
       "        text-align: right;\n",
       "    }\n",
       "</style>\n",
       "<table border=\"1\" class=\"dataframe\">\n",
       "  <thead>\n",
       "    <tr style=\"text-align: right;\">\n",
       "      <th></th>\n",
       "      <th>also_buy</th>\n",
       "      <th>also_view</th>\n",
       "      <th>asin</th>\n",
       "      <th>brand</th>\n",
       "      <th>category</th>\n",
       "      <th>date</th>\n",
       "      <th>description</th>\n",
       "      <th>details</th>\n",
       "      <th>feature</th>\n",
       "      <th>fit</th>\n",
       "      <th>image</th>\n",
       "      <th>main_cat</th>\n",
       "      <th>price</th>\n",
       "      <th>rank</th>\n",
       "      <th>similar_item</th>\n",
       "      <th>tech1</th>\n",
       "      <th>tech2</th>\n",
       "      <th>title</th>\n",
       "    </tr>\n",
       "  </thead>\n",
       "  <tbody>\n",
       "    <tr>\n",
       "      <th>0</th>\n",
       "      <td>[]</td>\n",
       "      <td>[]</td>\n",
       "      <td>B00JZHD3A8</td>\n",
       "      <td>CLELO</td>\n",
       "      <td>[Electronics, Computers &amp; Accessories, Laptop ...</td>\n",
       "      <td>&lt;div class=\"a-fixed-left-grid a-spacing-none\"&gt;...</td>\n",
       "      <td>[&lt;br /&gt;This messenger bag adopts finished prod...</td>\n",
       "      <td>{'\n",
       "    Item Weight: \n",
       "    ': None, '\n",
       "    Packag...</td>\n",
       "      <td>[Made by high quality canvas and Genuine cow l...</td>\n",
       "      <td></td>\n",
       "      <td>[https://images-na.ssl-images-amazon.com/image...</td>\n",
       "      <td>&lt;img src=\"https://images-na.ssl-images-amazon....</td>\n",
       "      <td></td>\n",
       "      <td>3,184,696 in Clothing, Shoes &amp; Jewelry (</td>\n",
       "      <td></td>\n",
       "      <td></td>\n",
       "      <td></td>\n",
       "      <td>CLELO Casual Canvas Messenger Shoulder Tote Ba...</td>\n",
       "    </tr>\n",
       "    <tr>\n",
       "      <th>1</th>\n",
       "      <td>[]</td>\n",
       "      <td>[]</td>\n",
       "      <td>B00JZHITV6</td>\n",
       "      <td>AreTop</td>\n",
       "      <td>[Electronics, Computers &amp; Accessories, Data St...</td>\n",
       "      <td>April 28, 2014</td>\n",
       "      <td>[&lt;br&gt;Capacity: 8GB &lt;br&gt;Shape: Rectangular &lt;br&gt;...</td>\n",
       "      <td>{'\n",
       "    Item Weight: \n",
       "    ': None, '\n",
       "    Packag...</td>\n",
       "      <td>[Fair Price with Genuine Capacity, Interface:U...</td>\n",
       "      <td></td>\n",
       "      <td>[https://images-na.ssl-images-amazon.com/image...</td>\n",
       "      <td>Computers</td>\n",
       "      <td></td>\n",
       "      <td>[\"&gt;#25,024 in Computers &amp; Accessories &gt; Data S...</td>\n",
       "      <td></td>\n",
       "      <td></td>\n",
       "      <td></td>\n",
       "      <td>8GB Mini USB Flash Drive Transparent Pink Glas...</td>\n",
       "    </tr>\n",
       "  </tbody>\n",
       "</table>\n",
       "</div>"
      ],
      "text/plain": [
       "  also_buy also_view        asin   brand  \\\n",
       "0       []        []  B00JZHD3A8   CLELO   \n",
       "1       []        []  B00JZHITV6  AreTop   \n",
       "\n",
       "                                            category  \\\n",
       "0  [Electronics, Computers & Accessories, Laptop ...   \n",
       "1  [Electronics, Computers & Accessories, Data St...   \n",
       "\n",
       "                                                date  \\\n",
       "0  <div class=\"a-fixed-left-grid a-spacing-none\">...   \n",
       "1                                     April 28, 2014   \n",
       "\n",
       "                                         description  \\\n",
       "0  [<br />This messenger bag adopts finished prod...   \n",
       "1  [<br>Capacity: 8GB <br>Shape: Rectangular <br>...   \n",
       "\n",
       "                                             details  \\\n",
       "0  {'\n",
       "    Item Weight: \n",
       "    ': None, '\n",
       "    Packag...   \n",
       "1  {'\n",
       "    Item Weight: \n",
       "    ': None, '\n",
       "    Packag...   \n",
       "\n",
       "                                             feature fit  \\\n",
       "0  [Made by high quality canvas and Genuine cow l...       \n",
       "1  [Fair Price with Genuine Capacity, Interface:U...       \n",
       "\n",
       "                                               image  \\\n",
       "0  [https://images-na.ssl-images-amazon.com/image...   \n",
       "1  [https://images-na.ssl-images-amazon.com/image...   \n",
       "\n",
       "                                            main_cat price  \\\n",
       "0  <img src=\"https://images-na.ssl-images-amazon....         \n",
       "1                                          Computers         \n",
       "\n",
       "                                                rank similar_item tech1 tech2  \\\n",
       "0           3,184,696 in Clothing, Shoes & Jewelry (                            \n",
       "1  [\">#25,024 in Computers & Accessories > Data S...                            \n",
       "\n",
       "                                               title  \n",
       "0  CLELO Casual Canvas Messenger Shoulder Tote Ba...  \n",
       "1  8GB Mini USB Flash Drive Transparent Pink Glas...  "
      ]
     },
     "execution_count": 25,
     "metadata": {},
     "output_type": "execute_result"
    }
   ],
   "source": [
    "jmds.head(2)"
   ]
  },
  {
   "cell_type": "code",
   "execution_count": 28,
   "id": "3d14ce17",
   "metadata": {},
   "outputs": [
    {
     "data": {
      "text/plain": [
       "<img src=\"https://images-na.ssl-images-amazon.com/images/G/01/nav2/images/gui/amazon-fashion-store-new._CB520838675_.png\" class=\"nav-categ-image\" alt=\"AMAZON FASHION\"/>     28740\n",
       "Amazon Home                                                                                                                                                                  20188\n",
       "Books                                                                                                                                                                        20079\n",
       "Buy a Kindle                                                                                                                                                                 20000\n",
       "Tools & Home Improvement                                                                                                                                                     16020\n",
       "Automotive                                                                                                                                                                   10434\n",
       "Sports & Outdoors                                                                                                                                                            10155\n",
       "Movies & TV                                                                                                                                                                   9978\n",
       "Computers                                                                                                                                                                     4151\n",
       "Camera & Photo                                                                                                                                                                1503\n",
       "All Electronics                                                                                                                                                               1220\n",
       "Home Audio & Theater                                                                                                                                                          1210\n",
       "Cell Phones & Accessories                                                                                                                                                     1202\n",
       "Industrial & Scientific                                                                                                                                                       1012\n",
       "Toys & Games                                                                                                                                                                   655\n",
       "                                                                                                                                                                               611\n",
       "Arts, Crafts & Sewing                                                                                                                                                          441\n",
       "Office Products                                                                                                                                                                427\n",
       "Health & Personal Care                                                                                                                                                         361\n",
       "Car Electronics                                                                                                                                                                325\n",
       "<img src=\"https://m.media-amazon.com/images/G/01/nav2/images/gui/amazon-fashion-store-new._CB520838675_.png\" class=\"nav-categ-image\" alt=\"AMAZON FASHION\"/>                    309\n",
       "Baby                                                                                                                                                                           279\n",
       "All Beauty                                                                                                                                                                     218\n",
       "Pet Supplies                                                                                                                                                                    90\n",
       "Musical Instruments                                                                                                                                                             83\n",
       "GPS & Navigation                                                                                                                                                                72\n",
       "Grocery                                                                                                                                                                         51\n",
       "Portable Audio & Accessories                                                                                                                                                    45\n",
       "<img src=\"https://images-na.ssl-images-amazon.com/images/G/01/nav2/images/gui/amazon-fashion-store-new._CB520838675_.png\" class=\"nav-categ-image\" alt=\"AMAZON FASHION\" />       43\n",
       "Appliances                                                                                                                                                                      29\n",
       "Tools &amp; Home Improvement                                                                                                                                                    24\n",
       "Video Games                                                                                                                                                                     15\n",
       "Sports &amp; Outdoors                                                                                                                                                            5\n",
       "Amazon Devices                                                                                                                                                                   5\n",
       "<img src=\"https://images-na.ssl-images-amazon.com/images/G/01/digital/music/logos/amzn_music_logo_subnav._CB471835632_.png\" class=\"nav-categ-image\" alt=\"Digital Music\"/>        5\n",
       "Sports Collectibles                                                                                                                                                              4\n",
       "Fine Art                                                                                                                                                                         3\n",
       "Software                                                                                                                                                                         2\n",
       "Industrial &amp; Scientific                                                                                                                                                      2\n",
       "Fire Phone                                                                                                                                                                       1\n",
       "<img src=\"https://m.media-amazon.com/images/G/01/nav2/images/gui/amazon-fashion-store-new._CB520838675_.png\" class=\"nav-categ-image\" alt=\"AMAZON FASHION\" />                     1\n",
       "Toys &amp; Games                                                                                                                                                                 1\n",
       "Portable Audio &amp; Accessories                                                                                                                                                 1\n",
       "Name: main_cat, dtype: int64"
      ]
     },
     "execution_count": 28,
     "metadata": {},
     "output_type": "execute_result"
    }
   ],
   "source": [
    "jmds['main_cat'].value_counts()"
   ]
  },
  {
   "cell_type": "code",
   "execution_count": 4,
   "id": "78850706",
   "metadata": {},
   "outputs": [
    {
     "data": {
      "text/html": [
       "<div>\n",
       "<style scoped>\n",
       "    .dataframe tbody tr th:only-of-type {\n",
       "        vertical-align: middle;\n",
       "    }\n",
       "\n",
       "    .dataframe tbody tr th {\n",
       "        vertical-align: top;\n",
       "    }\n",
       "\n",
       "    .dataframe thead th {\n",
       "        text-align: right;\n",
       "    }\n",
       "</style>\n",
       "<table border=\"1\" class=\"dataframe\">\n",
       "  <thead>\n",
       "    <tr style=\"text-align: right;\">\n",
       "      <th></th>\n",
       "      <th>asin</th>\n",
       "      <th>overall</th>\n",
       "      <th>reviewText</th>\n",
       "      <th>reviewerID</th>\n",
       "      <th>reviewerName</th>\n",
       "      <th>style</th>\n",
       "      <th>summary</th>\n",
       "      <th>unixReviewTime</th>\n",
       "      <th>verified</th>\n",
       "      <th>vote</th>\n",
       "      <th>image</th>\n",
       "    </tr>\n",
       "  </thead>\n",
       "  <tbody>\n",
       "    <tr>\n",
       "      <th>0</th>\n",
       "      <td>B00CGYCNZI</td>\n",
       "      <td>4.0</td>\n",
       "      <td>I have used Panasonic and GE earlier as my cor...</td>\n",
       "      <td>AOZOE2033AQK</td>\n",
       "      <td>Ramesh</td>\n",
       "      <td>{\"Style:\":\" 2 Handset\"}</td>\n",
       "      <td>Worth the Value and Love it..</td>\n",
       "      <td>1472342400</td>\n",
       "      <td>true</td>\n",
       "      <td>None</td>\n",
       "      <td>None</td>\n",
       "    </tr>\n",
       "    <tr>\n",
       "      <th>1</th>\n",
       "      <td>B000V8CZYA</td>\n",
       "      <td>2.0</td>\n",
       "      <td>The sound quality is great, but a bit of cosme...</td>\n",
       "      <td>A1AJFYLPI8M1LI</td>\n",
       "      <td>Buyer in Texas</td>\n",
       "      <td>None</td>\n",
       "      <td>Expensive, hard to navigate menus</td>\n",
       "      <td>1196553600</td>\n",
       "      <td>true</td>\n",
       "      <td>None</td>\n",
       "      <td>None</td>\n",
       "    </tr>\n",
       "  </tbody>\n",
       "</table>\n",
       "</div>"
      ],
      "text/plain": [
       "         asin overall                                         reviewText  \\\n",
       "0  B00CGYCNZI     4.0  I have used Panasonic and GE earlier as my cor...   \n",
       "1  B000V8CZYA     2.0  The sound quality is great, but a bit of cosme...   \n",
       "\n",
       "       reviewerID    reviewerName                    style  \\\n",
       "0    AOZOE2033AQK          Ramesh  {\"Style:\":\" 2 Handset\"}   \n",
       "1  A1AJFYLPI8M1LI  Buyer in Texas                     None   \n",
       "\n",
       "                             summary unixReviewTime verified  vote image  \n",
       "0      Worth the Value and Love it..     1472342400     true  None  None  \n",
       "1  Expensive, hard to navigate menus     1196553600     true  None  None  "
      ]
     },
     "execution_count": 4,
     "metadata": {},
     "output_type": "execute_result"
    }
   ],
   "source": [
    "nmds.head(2)"
   ]
  },
  {
   "cell_type": "code",
   "execution_count": 5,
   "id": "6ac46f18",
   "metadata": {},
   "outputs": [
    {
     "data": {
      "text/plain": [
       "(1499752, 11)"
      ]
     },
     "execution_count": 5,
     "metadata": {},
     "output_type": "execute_result"
    }
   ],
   "source": [
    "nmds.shape"
   ]
  },
  {
   "cell_type": "markdown",
   "id": "2d0872ab",
   "metadata": {},
   "source": [
    "## Before stats Examine the DataFrame \n",
    "#### (object for fast/efficient d manipulation)\n",
    "\n",
    "<br/>\n",
    "\n",
    "> 1. Check head and tail\n",
    "\n",
    "> 2. Review data types\n",
    "\n",
    "> 3. Dimension shape\n",
    "\n",
    "> 4. Identify missing data\n"
   ]
  },
  {
   "cell_type": "code",
   "execution_count": 6,
   "id": "52e6991f",
   "metadata": {},
   "outputs": [
    {
     "data": {
      "text/html": [
       "<div>\n",
       "<style scoped>\n",
       "    .dataframe tbody tr th:only-of-type {\n",
       "        vertical-align: middle;\n",
       "    }\n",
       "\n",
       "    .dataframe tbody tr th {\n",
       "        vertical-align: top;\n",
       "    }\n",
       "\n",
       "    .dataframe thead th {\n",
       "        text-align: right;\n",
       "    }\n",
       "</style>\n",
       "<table border=\"1\" class=\"dataframe\">\n",
       "  <thead>\n",
       "    <tr style=\"text-align: right;\">\n",
       "      <th></th>\n",
       "      <th>asin</th>\n",
       "      <th>overall</th>\n",
       "      <th>reviewText</th>\n",
       "      <th>reviewerID</th>\n",
       "      <th>reviewerName</th>\n",
       "      <th>style</th>\n",
       "      <th>summary</th>\n",
       "      <th>unixReviewTime</th>\n",
       "      <th>verified</th>\n",
       "      <th>vote</th>\n",
       "      <th>image</th>\n",
       "    </tr>\n",
       "  </thead>\n",
       "  <tbody>\n",
       "    <tr>\n",
       "      <th>0</th>\n",
       "      <td>B00CGYCNZI</td>\n",
       "      <td>4.0</td>\n",
       "      <td>I have used Panasonic and GE earlier as my cor...</td>\n",
       "      <td>AOZOE2033AQK</td>\n",
       "      <td>Ramesh</td>\n",
       "      <td>{\"Style:\":\" 2 Handset\"}</td>\n",
       "      <td>Worth the Value and Love it..</td>\n",
       "      <td>1472342400</td>\n",
       "      <td>true</td>\n",
       "      <td>None</td>\n",
       "      <td>None</td>\n",
       "    </tr>\n",
       "    <tr>\n",
       "      <th>1</th>\n",
       "      <td>B000V8CZYA</td>\n",
       "      <td>2.0</td>\n",
       "      <td>The sound quality is great, but a bit of cosme...</td>\n",
       "      <td>A1AJFYLPI8M1LI</td>\n",
       "      <td>Buyer in Texas</td>\n",
       "      <td>None</td>\n",
       "      <td>Expensive, hard to navigate menus</td>\n",
       "      <td>1196553600</td>\n",
       "      <td>true</td>\n",
       "      <td>None</td>\n",
       "      <td>None</td>\n",
       "    </tr>\n",
       "    <tr>\n",
       "      <th>2</th>\n",
       "      <td>B00CGYCNZI</td>\n",
       "      <td>2.0</td>\n",
       "      <td>did not last very long no longer working</td>\n",
       "      <td>A2X5NQN9TH9UUX</td>\n",
       "      <td>rufino maduena</td>\n",
       "      <td>{\"Style:\":\" 2 Handset\"}</td>\n",
       "      <td>Two Stars</td>\n",
       "      <td>1471996800</td>\n",
       "      <td>true</td>\n",
       "      <td>None</td>\n",
       "      <td>None</td>\n",
       "    </tr>\n",
       "  </tbody>\n",
       "</table>\n",
       "</div>"
      ],
      "text/plain": [
       "         asin overall                                         reviewText  \\\n",
       "0  B00CGYCNZI     4.0  I have used Panasonic and GE earlier as my cor...   \n",
       "1  B000V8CZYA     2.0  The sound quality is great, but a bit of cosme...   \n",
       "2  B00CGYCNZI     2.0           did not last very long no longer working   \n",
       "\n",
       "       reviewerID    reviewerName                    style  \\\n",
       "0    AOZOE2033AQK          Ramesh  {\"Style:\":\" 2 Handset\"}   \n",
       "1  A1AJFYLPI8M1LI  Buyer in Texas                     None   \n",
       "2  A2X5NQN9TH9UUX  rufino maduena  {\"Style:\":\" 2 Handset\"}   \n",
       "\n",
       "                             summary unixReviewTime verified  vote image  \n",
       "0      Worth the Value and Love it..     1472342400     true  None  None  \n",
       "1  Expensive, hard to navigate menus     1196553600     true  None  None  \n",
       "2                          Two Stars     1471996800     true  None  None  "
      ]
     },
     "execution_count": 6,
     "metadata": {},
     "output_type": "execute_result"
    }
   ],
   "source": [
    "nmds.head(3)"
   ]
  },
  {
   "cell_type": "code",
   "execution_count": 7,
   "id": "cc26902a",
   "metadata": {},
   "outputs": [
    {
     "data": {
      "text/html": [
       "<div>\n",
       "<style scoped>\n",
       "    .dataframe tbody tr th:only-of-type {\n",
       "        vertical-align: middle;\n",
       "    }\n",
       "\n",
       "    .dataframe tbody tr th {\n",
       "        vertical-align: top;\n",
       "    }\n",
       "\n",
       "    .dataframe thead th {\n",
       "        text-align: right;\n",
       "    }\n",
       "</style>\n",
       "<table border=\"1\" class=\"dataframe\">\n",
       "  <thead>\n",
       "    <tr style=\"text-align: right;\">\n",
       "      <th></th>\n",
       "      <th>asin</th>\n",
       "      <th>overall</th>\n",
       "      <th>reviewText</th>\n",
       "      <th>reviewerID</th>\n",
       "      <th>reviewerName</th>\n",
       "      <th>style</th>\n",
       "      <th>summary</th>\n",
       "      <th>unixReviewTime</th>\n",
       "      <th>verified</th>\n",
       "      <th>vote</th>\n",
       "      <th>image</th>\n",
       "    </tr>\n",
       "  </thead>\n",
       "  <tbody>\n",
       "    <tr>\n",
       "      <th>55930</th>\n",
       "      <td>B00GTU2WJ2</td>\n",
       "      <td>5.0</td>\n",
       "      <td>Love the weight and length of this product, it...</td>\n",
       "      <td>A3HH4SFN5P4W6H</td>\n",
       "      <td>StephyG</td>\n",
       "      <td>None</td>\n",
       "      <td>practical and pretty</td>\n",
       "      <td>1392422400</td>\n",
       "      <td>false</td>\n",
       "      <td>None</td>\n",
       "      <td>None</td>\n",
       "    </tr>\n",
       "    <tr>\n",
       "      <th>55931</th>\n",
       "      <td>0356500624</td>\n",
       "      <td>5.0</td>\n",
       "      <td>Patricia has us following Mercy through numero...</td>\n",
       "      <td>A36LAGWPKOKH1R</td>\n",
       "      <td>Elaine Hopkins</td>\n",
       "      <td>{\"Format:\":\" Kindle Edition\"}</td>\n",
       "      <td>Mercy in a familiar situation</td>\n",
       "      <td>1394496000</td>\n",
       "      <td>false</td>\n",
       "      <td>None</td>\n",
       "      <td>None</td>\n",
       "    </tr>\n",
       "    <tr>\n",
       "      <th>55932</th>\n",
       "      <td>B00GTU2WJ2</td>\n",
       "      <td>5.0</td>\n",
       "      <td>I was a little worried at first that the grate...</td>\n",
       "      <td>A2PNIJMDXGD9WI</td>\n",
       "      <td>Chrystal Mahan</td>\n",
       "      <td>None</td>\n",
       "      <td>Another Utensil to Add to My Collection</td>\n",
       "      <td>1391990400</td>\n",
       "      <td>false</td>\n",
       "      <td>None</td>\n",
       "      <td>None</td>\n",
       "    </tr>\n",
       "  </tbody>\n",
       "</table>\n",
       "</div>"
      ],
      "text/plain": [
       "             asin overall                                         reviewText  \\\n",
       "55930  B00GTU2WJ2     5.0  Love the weight and length of this product, it...   \n",
       "55931  0356500624     5.0  Patricia has us following Mercy through numero...   \n",
       "55932  B00GTU2WJ2     5.0  I was a little worried at first that the grate...   \n",
       "\n",
       "           reviewerID    reviewerName                          style  \\\n",
       "55930  A3HH4SFN5P4W6H         StephyG                           None   \n",
       "55931  A36LAGWPKOKH1R  Elaine Hopkins  {\"Format:\":\" Kindle Edition\"}   \n",
       "55932  A2PNIJMDXGD9WI  Chrystal Mahan                           None   \n",
       "\n",
       "                                       summary unixReviewTime verified  vote  \\\n",
       "55930                     practical and pretty     1392422400    false  None   \n",
       "55931            Mercy in a familiar situation     1394496000    false  None   \n",
       "55932  Another Utensil to Add to My Collection     1391990400    false  None   \n",
       "\n",
       "      image  \n",
       "55930  None  \n",
       "55931  None  \n",
       "55932  None  "
      ]
     },
     "execution_count": 7,
     "metadata": {},
     "output_type": "execute_result"
    }
   ],
   "source": [
    "nmds.tail(3)"
   ]
  },
  {
   "cell_type": "code",
   "execution_count": 8,
   "id": "d15166ae",
   "metadata": {},
   "outputs": [
    {
     "data": {
      "text/plain": [
       "(1499752, 11)"
      ]
     },
     "execution_count": 8,
     "metadata": {},
     "output_type": "execute_result"
    }
   ],
   "source": [
    "nmds.shape"
   ]
  },
  {
   "cell_type": "code",
   "execution_count": 9,
   "id": "efc20fe1",
   "metadata": {},
   "outputs": [
    {
     "data": {
      "text/plain": [
       "asin              object\n",
       "overall           object\n",
       "reviewText        object\n",
       "reviewerID        object\n",
       "reviewerName      object\n",
       "style             object\n",
       "summary           object\n",
       "unixReviewTime    object\n",
       "verified          object\n",
       "vote              object\n",
       "image             object\n",
       "dtype: object"
      ]
     },
     "execution_count": 9,
     "metadata": {},
     "output_type": "execute_result"
    }
   ],
   "source": [
    "nmds.dtypes"
   ]
  },
  {
   "cell_type": "code",
   "execution_count": 10,
   "id": "bdd25e28",
   "metadata": {},
   "outputs": [
    {
     "data": {
      "text/plain": [
       "asin                    0\n",
       "overall                 0\n",
       "reviewText            874\n",
       "reviewerID              0\n",
       "reviewerName           75\n",
       "style              489530\n",
       "summary               434\n",
       "unixReviewTime          0\n",
       "verified                0\n",
       "vote              1267083\n",
       "image             1477512\n",
       "dtype: int64"
      ]
     },
     "execution_count": 10,
     "metadata": {},
     "output_type": "execute_result"
    }
   ],
   "source": [
    "nmds.isna().sum()"
   ]
  },
  {
   "cell_type": "markdown",
   "id": "78a2759b",
   "metadata": {},
   "source": [
    "### Initial observations\n",
    "\n",
    "***\n",
    "\n",
    "- We are going to need transformations as all items are data type Object(strings).\n",
    "- We shall drop the column [image] at Reviews per low information gain (most are NaN values)\n"
   ]
  },
  {
   "cell_type": "code",
   "execution_count": 11,
   "id": "5a920827",
   "metadata": {},
   "outputs": [
    {
     "data": {
      "text/html": [
       "<div>\n",
       "<style scoped>\n",
       "    .dataframe tbody tr th:only-of-type {\n",
       "        vertical-align: middle;\n",
       "    }\n",
       "\n",
       "    .dataframe tbody tr th {\n",
       "        vertical-align: top;\n",
       "    }\n",
       "\n",
       "    .dataframe thead th {\n",
       "        text-align: right;\n",
       "    }\n",
       "</style>\n",
       "<table border=\"1\" class=\"dataframe\">\n",
       "  <thead>\n",
       "    <tr style=\"text-align: right;\">\n",
       "      <th></th>\n",
       "      <th>asin</th>\n",
       "      <th>overall</th>\n",
       "      <th>reviewText</th>\n",
       "      <th>reviewerID</th>\n",
       "      <th>reviewerName</th>\n",
       "      <th>style</th>\n",
       "      <th>summary</th>\n",
       "      <th>unixReviewTime</th>\n",
       "      <th>verified</th>\n",
       "      <th>vote</th>\n",
       "      <th>image</th>\n",
       "    </tr>\n",
       "  </thead>\n",
       "  <tbody>\n",
       "    <tr>\n",
       "      <th>count</th>\n",
       "      <td>1499752</td>\n",
       "      <td>1499752</td>\n",
       "      <td>1498878</td>\n",
       "      <td>1499752</td>\n",
       "      <td>1499677</td>\n",
       "      <td>1010222</td>\n",
       "      <td>1499318</td>\n",
       "      <td>1499752</td>\n",
       "      <td>1499752</td>\n",
       "      <td>232669</td>\n",
       "      <td>22240</td>\n",
       "    </tr>\n",
       "    <tr>\n",
       "      <th>unique</th>\n",
       "      <td>129876</td>\n",
       "      <td>5</td>\n",
       "      <td>1386614</td>\n",
       "      <td>1300682</td>\n",
       "      <td>848318</td>\n",
       "      <td>36302</td>\n",
       "      <td>835518</td>\n",
       "      <td>7476</td>\n",
       "      <td>2</td>\n",
       "      <td>443</td>\n",
       "      <td>22181</td>\n",
       "    </tr>\n",
       "    <tr>\n",
       "      <th>top</th>\n",
       "      <td>B00571F26Y</td>\n",
       "      <td>5.0</td>\n",
       "      <td>Great</td>\n",
       "      <td>A2F6N60Z96CAJI</td>\n",
       "      <td>Amazon Customer</td>\n",
       "      <td>{\"Format:\":\" Kindle Edition\"}</td>\n",
       "      <td>Five Stars</td>\n",
       "      <td>1461024000</td>\n",
       "      <td>true</td>\n",
       "      <td>2</td>\n",
       "      <td>[\"88\"]</td>\n",
       "    </tr>\n",
       "    <tr>\n",
       "      <th>freq</th>\n",
       "      <td>6114</td>\n",
       "      <td>942098</td>\n",
       "      <td>2719</td>\n",
       "      <td>136</td>\n",
       "      <td>110843</td>\n",
       "      <td>277609</td>\n",
       "      <td>248136</td>\n",
       "      <td>1902</td>\n",
       "      <td>1196297</td>\n",
       "      <td>79233</td>\n",
       "      <td>9</td>\n",
       "    </tr>\n",
       "  </tbody>\n",
       "</table>\n",
       "</div>"
      ],
      "text/plain": [
       "              asin  overall reviewText      reviewerID     reviewerName  \\\n",
       "count      1499752  1499752    1498878         1499752          1499677   \n",
       "unique      129876        5    1386614         1300682           848318   \n",
       "top     B00571F26Y      5.0      Great  A2F6N60Z96CAJI  Amazon Customer   \n",
       "freq          6114   942098       2719             136           110843   \n",
       "\n",
       "                                style     summary unixReviewTime verified  \\\n",
       "count                         1010222     1499318        1499752  1499752   \n",
       "unique                          36302      835518           7476        2   \n",
       "top     {\"Format:\":\" Kindle Edition\"}  Five Stars     1461024000     true   \n",
       "freq                           277609      248136           1902  1196297   \n",
       "\n",
       "          vote   image  \n",
       "count   232669   22240  \n",
       "unique     443   22181  \n",
       "top          2  [\"88\"]  \n",
       "freq     79233       9  "
      ]
     },
     "execution_count": 11,
     "metadata": {},
     "output_type": "execute_result"
    }
   ],
   "source": [
    "# Per low numeric values few data available describing\n",
    "\n",
    "nmds.describe(include=\"all\")"
   ]
  },
  {
   "cell_type": "code",
   "execution_count": 12,
   "id": "77685575",
   "metadata": {},
   "outputs": [
    {
     "data": {
      "text/plain": [
       "B00571F26Y    6114\n",
       "0349403759    5196\n",
       "1463717091    4848\n",
       "B0002UPGOI    4400\n",
       "B00M0DGBRQ    4244\n",
       "              ... \n",
       "B00GO1SFB0       1\n",
       "B000I97FCY       1\n",
       "1974318524       1\n",
       "B00GO3KL9C       1\n",
       "0841608792       1\n",
       "Name: asin, Length: 129876, dtype: int64"
      ]
     },
     "execution_count": 12,
     "metadata": {},
     "output_type": "execute_result"
    }
   ],
   "source": [
    "nmds[\"asin\"].value_counts()"
   ]
  },
  {
   "cell_type": "code",
   "execution_count": 13,
   "id": "e896bebe",
   "metadata": {},
   "outputs": [
    {
     "data": {
      "text/plain": [
       "'B01HJ8KWDU'"
      ]
     },
     "execution_count": 13,
     "metadata": {},
     "output_type": "execute_result"
    }
   ],
   "source": [
    "nmds[\"asin\"].max()"
   ]
  },
  {
   "cell_type": "code",
   "execution_count": 14,
   "id": "4458e142",
   "metadata": {},
   "outputs": [
    {
     "data": {
      "text/plain": [
       "'0000000116'"
      ]
     },
     "execution_count": 14,
     "metadata": {},
     "output_type": "execute_result"
    }
   ],
   "source": [
    "nmds[\"asin\"].min()"
   ]
  },
  {
   "cell_type": "code",
   "execution_count": 15,
   "id": "13eb60aa",
   "metadata": {},
   "outputs": [
    {
     "data": {
      "text/plain": [
       "5.0    942098\n",
       "4.0    249879\n",
       "3.0    118182\n",
       "1.0    117964\n",
       "2.0     71629\n",
       "Name: overall, dtype: int64"
      ]
     },
     "execution_count": 15,
     "metadata": {},
     "output_type": "execute_result"
    }
   ],
   "source": [
    "nmds[\"overall\"].value_counts()"
   ]
  },
  {
   "cell_type": "code",
   "execution_count": 16,
   "id": "1baad199",
   "metadata": {},
   "outputs": [],
   "source": [
    "overallcol = nmds[\"overall\"]"
   ]
  },
  {
   "cell_type": "code",
   "execution_count": 17,
   "id": "b057ca3f",
   "metadata": {},
   "outputs": [
    {
     "data": {
      "text/plain": [
       "0    4.0\n",
       "Name: overall, dtype: object"
      ]
     },
     "execution_count": 17,
     "metadata": {},
     "output_type": "execute_result"
    }
   ],
   "source": [
    "overallcol.head(1)"
   ]
  },
  {
   "cell_type": "code",
   "execution_count": 18,
   "id": "6bc5f152",
   "metadata": {},
   "outputs": [],
   "source": [
    "overallcol = overallcol.sort_values()"
   ]
  },
  {
   "cell_type": "code",
   "execution_count": 19,
   "id": "84978548",
   "metadata": {},
   "outputs": [
    {
     "data": {
      "image/png": "[encoded data removed]",
      "text/plain": [
       "<Figure size 432x288 with 1 Axes>"
      ]
     },
     "metadata": {
      "needs_background": "light"
     },
     "output_type": "display_data"
    }
   ],
   "source": [
    "# Create Univariate Histrogram \n",
    "\n",
    "import matplotlib as plt\n",
    "from matplotlib import pyplot\n",
    "\n",
    "#%matplotlib line\n",
    "plt.pyplot.hist(overallcol, bins=5, color = 'green'); \n",
    "\n",
    "plt.pyplot.xlabel(\"Stars\");\n",
    "plt.pyplot.ylabel(\"Count\");\n",
    "plt.pyplot.title(\"63% of Star Reviews is 5/5\");"
   ]
  },
  {
   "cell_type": "code",
   "execution_count": 20,
   "id": "c42347e7",
   "metadata": {},
   "outputs": [
    {
     "data": {
      "text/plain": [
       "count     1499752\n",
       "unique          5\n",
       "top           5.0\n",
       "freq       942098\n",
       "Name: overall, dtype: object"
      ]
     },
     "execution_count": 20,
     "metadata": {},
     "output_type": "execute_result"
    }
   ],
   "source": [
    "nmds[\"overall\"].describe()"
   ]
  },
  {
   "cell_type": "code",
   "execution_count": 22,
   "id": "d950b61e",
   "metadata": {},
   "outputs": [
    {
     "data": {
      "image/png": "[encoded data removed]",
      "text/plain": [
       "<Figure size 432x288 with 1 Axes>"
      ]
     },
     "metadata": {
      "needs_background": "light"
     },
     "output_type": "display_data"
    }
   ],
   "source": [
    "# Create Univariate Histrogram \n",
    "\n",
    "import matplotlib as plt\n",
    "from matplotlib import pyplot\n",
    "\n",
    "#%matplotlib line\n",
    "plt.pyplot.hist(nmds[\"asin\"], bins=10, color = 'orange'); \n",
    "\n",
    "plt.pyplot.xlabel(\"asin\");\n",
    "plt.pyplot.ylabel(\"Count\");\n",
    "plt.pyplot.title(\"Asin Histogram\");\n"
   ]
  },
  {
   "cell_type": "code",
   "execution_count": 23,
   "id": "43f5e1e3",
   "metadata": {},
   "outputs": [
    {
     "data": {
      "text/plain": [
       "true     1196297\n",
       "false     303455\n",
       "Name: verified, dtype: int64"
      ]
     },
     "execution_count": 23,
     "metadata": {},
     "output_type": "execute_result"
    }
   ],
   "source": [
    "nmds[\"verified\"].value_counts()"
   ]
  },
  {
   "cell_type": "code",
   "execution_count": null,
   "id": "7f3f3410",
   "metadata": {},
   "outputs": [],
   "source": []
  },
  {
   "cell_type": "code",
   "execution_count": null,
   "id": "7173d400",
   "metadata": {},
   "outputs": [],
   "source": []
  },
  {
   "cell_type": "code",
   "execution_count": null,
   "id": "9767b884",
   "metadata": {},
   "outputs": [],
   "source": []
  },
  {
   "cell_type": "code",
   "execution_count": null,
   "id": "918f7725",
   "metadata": {},
   "outputs": [],
   "source": []
  },
  {
   "cell_type": "code",
   "execution_count": null,
   "id": "ca4a7c99",
   "metadata": {},
   "outputs": [],
   "source": []
  },
  {
   "cell_type": "code",
   "execution_count": null,
   "id": "092d63db",
   "metadata": {},
   "outputs": [],
   "source": []
  },
  {
   "cell_type": "code",
   "execution_count": null,
   "id": "886ccdd3",
   "metadata": {},
   "outputs": [],
   "source": []
  },
  {
   "cell_type": "code",
   "execution_count": null,
   "id": "de56b883",
   "metadata": {},
   "outputs": [],
   "source": []
  },
  {
   "cell_type": "code",
   "execution_count": null,
   "id": "59a35b51",
   "metadata": {},
   "outputs": [],
   "source": []
  },
  {
   "cell_type": "code",
   "execution_count": null,
   "id": "672a05c8",
   "metadata": {},
   "outputs": [],
   "source": []
  },
  {
   "cell_type": "code",
   "execution_count": null,
   "id": "29fb6065",
   "metadata": {},
   "outputs": [],
   "source": []
  }
 ],
 "metadata": {
  "kernelspec": {
   "display_name": "Python 3 (ipykernel)",
   "language": "python",
   "name": "python3"
  },
  "language_info": {
   "codemirror_mode": {
    "name": "ipython",
    "version": 3
   },
   "file_extension": ".py",
   "mimetype": "text/x-python",
   "name": "python",
   "nbconvert_exporter": "python",
   "pygments_lexer": "ipython3",
   "version": "3.9.7"
  }
 },
 "nbformat": 4,
 "nbformat_minor": 5
}
