{
 "cells": [
  {
   "cell_type": "markdown",
   "id": "e64f2bee",
   "metadata": {},
   "source": [
    "*7.31.2023 AM_to_PM Monday*"
   ]
  },
  {
   "cell_type": "markdown",
   "id": "3f2d01aa",
   "metadata": {},
   "source": [
    "<div class=\"alert alert-block alert-success\">\n",
    "<center><h1><b> Datathon Initial Category Exploratory Data Analysis / Data Understanding </b></h1></center>\n",
    "<center><h2><b> Part I </b></h2></center>\n",
    "\n",
    "<br/> \n",
    "\n",
    "\n",
    "Objectives:\n",
    "\n",
    "    *   Understand the data with a) Descriptive/Summary Statistics and b) Data Visualization (graphs/charts/tables)\n",
    "    *   Determine if data makes sense\n",
    "    *   Identify data patterns/trends/gain insights    \n",
    "    *   Identify key Vars\n",
    "    *   Determine if data wrangling/cleaning/scrub is needed (identify imperfections/probls in the data)\n",
    "    \n",
    "\n",
    "</div>"
   ]
  },
  {
   "cell_type": "markdown",
   "id": "e2e1617f",
   "metadata": {},
   "source": [
    "***"
   ]
  },
  {
   "cell_type": "markdown",
   "id": "0ad3e4da",
   "metadata": {},
   "source": [
    "# Data Collection"
   ]
  },
  {
   "cell_type": "markdown",
   "id": "b6e26108",
   "metadata": {},
   "source": [
    "## Imports and dataset extraction\n",
    "\n",
    "> Getting started"
   ]
  },
  {
   "cell_type": "code",
   "execution_count": null,
   "id": "6ca007e6",
   "metadata": {},
   "outputs": [],
   "source": [
    "#pip install pandas pyarrow"
   ]
  },
  {
   "cell_type": "code",
   "execution_count": 1,
   "id": "9a4cad3a",
   "metadata": {},
   "outputs": [],
   "source": [
    "import numpy as np\n",
    "import pandas as pd\n",
    "import matplotlib.pyplot as plt\n",
    "import seaborn as sns\n",
    "import pyarrow\n"
   ]
  },
  {
   "cell_type": "code",
   "execution_count": 2,
   "id": "317b4862",
   "metadata": {},
   "outputs": [],
   "source": [
    "# Rod's standard variable for a DataFrame is ds as acronym for data set\n",
    "\n",
    "datathon_eda_sw_industry_reviews_file = \"/Users/dslab/datathon_73023_AM.parquet\"\n",
    "ds = pd.read_parquet(datathon_eda_sw_industry_reviews_file, engine='pyarrow')"
   ]
  },
  {
   "cell_type": "code",
   "execution_count": 3,
   "id": "1f56b5ac",
   "metadata": {},
   "outputs": [],
   "source": [
    "# Rod's standard variable for a DataFrame is ds as acronym for data set and now Clean Metada Data Set as cmds\n",
    "\n",
    "\n",
    "datathon_metadata_pkt_731_file = \"/Users/dslab/mds_73123_PM.parquet\"\n",
    "cmds = pd.read_parquet(datathon_metadata_pkt_731_file, engine='pyarrow')\n"
   ]
  },
  {
   "cell_type": "code",
   "execution_count": 4,
   "id": "d3190590",
   "metadata": {},
   "outputs": [
    {
     "data": {
      "text/plain": [
       "count         292055\n",
       "unique         13209\n",
       "top       B00CTTEKJW\n",
       "freq            7929\n",
       "Name: asin, dtype: object"
      ]
     },
     "execution_count": 4,
     "metadata": {},
     "output_type": "execute_result"
    }
   ],
   "source": [
    "ds['asin'].describe()"
   ]
  },
  {
   "cell_type": "code",
   "execution_count": 5,
   "id": "8826e9d0",
   "metadata": {},
   "outputs": [
    {
     "data": {
      "text/plain": [
       "count          22529\n",
       "unique         22529\n",
       "top       0030672120\n",
       "freq               1\n",
       "Name: asin, dtype: object"
      ]
     },
     "execution_count": 5,
     "metadata": {},
     "output_type": "execute_result"
    }
   ],
   "source": [
    "cmds['asin'].describe()"
   ]
  },
  {
   "cell_type": "code",
   "execution_count": 7,
   "id": "8b4864c4",
   "metadata": {},
   "outputs": [
    {
     "data": {
      "text/plain": [
       "asin            0\n",
       "score           0\n",
       "reviewText     25\n",
       "reviewerID      0\n",
       "summary        24\n",
       "timestamp       0\n",
       "verified        0\n",
       "date            0\n",
       "year            0\n",
       "month           0\n",
       "day             0\n",
       "day_of_week     0\n",
       "dtype: int64"
      ]
     },
     "execution_count": 7,
     "metadata": {},
     "output_type": "execute_result"
    }
   ],
   "source": [
    "ds.isnull().sum()"
   ]
  },
  {
   "cell_type": "code",
   "execution_count": 6,
   "id": "b60ce241",
   "metadata": {},
   "outputs": [
    {
     "data": {
      "text/plain": [
       "asin     0\n",
       "brand    0\n",
       "title    0\n",
       "dtype: int64"
      ]
     },
     "execution_count": 6,
     "metadata": {},
     "output_type": "execute_result"
    }
   ],
   "source": [
    "cmds.isnull().sum()"
   ]
  },
  {
   "cell_type": "code",
   "execution_count": 8,
   "id": "2047c7b0",
   "metadata": {},
   "outputs": [
    {
     "name": "stdout",
     "output_type": "stream",
     "text": [
      "<class 'pandas.core.frame.DataFrame'>\n",
      "RangeIndex: 22529 entries, 0 to 22528\n",
      "Data columns (total 3 columns):\n",
      " #   Column  Non-Null Count  Dtype \n",
      "---  ------  --------------  ----- \n",
      " 0   asin    22529 non-null  object\n",
      " 1   brand   22529 non-null  object\n",
      " 2   title   22529 non-null  object\n",
      "dtypes: object(3)\n",
      "memory usage: 528.1+ KB\n"
     ]
    }
   ],
   "source": [
    "cmds.info()"
   ]
  },
  {
   "cell_type": "code",
   "execution_count": 9,
   "id": "97b0d58d",
   "metadata": {},
   "outputs": [
    {
     "data": {
      "text/html": [
       "<div>\n",
       "<style scoped>\n",
       "    .dataframe tbody tr th:only-of-type {\n",
       "        vertical-align: middle;\n",
       "    }\n",
       "\n",
       "    .dataframe tbody tr th {\n",
       "        vertical-align: top;\n",
       "    }\n",
       "\n",
       "    .dataframe thead th {\n",
       "        text-align: right;\n",
       "    }\n",
       "</style>\n",
       "<table border=\"1\" class=\"dataframe\">\n",
       "  <thead>\n",
       "    <tr style=\"text-align: right;\">\n",
       "      <th></th>\n",
       "      <th>asin</th>\n",
       "      <th>brand</th>\n",
       "      <th>title</th>\n",
       "    </tr>\n",
       "  </thead>\n",
       "  <tbody>\n",
       "    <tr>\n",
       "      <th>0</th>\n",
       "      <td>0030672120</td>\n",
       "      <td>HOLT. RINEHART AND WINSTON</td>\n",
       "      <td>HOLT PHYSICS LESSON PRESENTATION CD-ROM QUICK ...</td>\n",
       "    </tr>\n",
       "    <tr>\n",
       "      <th>1</th>\n",
       "      <td>0071480935</td>\n",
       "      <td>McGraw Hill</td>\n",
       "      <td>Sing, Watch, &amp;amp; Learn Spanish (DVD + Guide)...</td>\n",
       "    </tr>\n",
       "    <tr>\n",
       "      <th>2</th>\n",
       "      <td>007329506X</td>\n",
       "      <td>McGraw-Hill Science/Engineering/Math</td>\n",
       "      <td>Connect with LearnSmart Access Card for Microb...</td>\n",
       "    </tr>\n",
       "    <tr>\n",
       "      <th>3</th>\n",
       "      <td>0073513458</td>\n",
       "      <td>McGraw-Hill Education</td>\n",
       "      <td>LearnSmart Standalone Access Card for Prescott...</td>\n",
       "    </tr>\n",
       "    <tr>\n",
       "      <th>4</th>\n",
       "      <td>0073525758</td>\n",
       "      <td>McGraw-Hill Education</td>\n",
       "      <td>Anatomy &amp;amp; Physiology Revealed Student Acce...</td>\n",
       "    </tr>\n",
       "  </tbody>\n",
       "</table>\n",
       "</div>"
      ],
      "text/plain": [
       "         asin                                 brand  \\\n",
       "0  0030672120            HOLT. RINEHART AND WINSTON   \n",
       "1  0071480935                           McGraw Hill   \n",
       "2  007329506X  McGraw-Hill Science/Engineering/Math   \n",
       "3  0073513458                 McGraw-Hill Education   \n",
       "4  0073525758                 McGraw-Hill Education   \n",
       "\n",
       "                                               title  \n",
       "0  HOLT PHYSICS LESSON PRESENTATION CD-ROM QUICK ...  \n",
       "1  Sing, Watch, &amp; Learn Spanish (DVD + Guide)...  \n",
       "2  Connect with LearnSmart Access Card for Microb...  \n",
       "3  LearnSmart Standalone Access Card for Prescott...  \n",
       "4  Anatomy &amp; Physiology Revealed Student Acce...  "
      ]
     },
     "execution_count": 9,
     "metadata": {},
     "output_type": "execute_result"
    }
   ],
   "source": [
    "cmds.head()"
   ]
  },
  {
   "cell_type": "markdown",
   "id": "b41c7a70",
   "metadata": {},
   "source": [
    "### Checking relationship of asin among the 2 data frames"
   ]
  },
  {
   "cell_type": "code",
   "execution_count": 10,
   "id": "5e4d8e2b",
   "metadata": {},
   "outputs": [
    {
     "data": {
      "text/plain": [
       "True    292055\n",
       "Name: asin, dtype: int64"
      ]
     },
     "execution_count": 10,
     "metadata": {},
     "output_type": "execute_result"
    }
   ],
   "source": [
    "# Reviews data set against Metadata data set\n",
    "\n",
    "ds['asin'].isin(cmds['asin']).value_counts()"
   ]
  },
  {
   "cell_type": "code",
   "execution_count": 11,
   "id": "e7b798fb",
   "metadata": {},
   "outputs": [
    {
     "data": {
      "text/plain": [
       "True     13209\n",
       "False     9320\n",
       "Name: asin, dtype: int64"
      ]
     },
     "execution_count": 11,
     "metadata": {},
     "output_type": "execute_result"
    }
   ],
   "source": [
    "# Metadata data set against Reviews data set\n",
    "\n",
    "cmds['asin'].isin(ds['asin']).value_counts()"
   ]
  },
  {
   "cell_type": "markdown",
   "id": "b98821f1",
   "metadata": {},
   "source": [
    "### Merging and checking"
   ]
  },
  {
   "cell_type": "code",
   "execution_count": 13,
   "id": "2412bb3c",
   "metadata": {},
   "outputs": [
    {
     "data": {
      "text/plain": [
       "(292055, 14)"
      ]
     },
     "execution_count": 13,
     "metadata": {},
     "output_type": "execute_result"
    }
   ],
   "source": [
    "# Using acronym One Data Set as ods\n",
    "\n",
    "ods = pd.merge(ds, cmds, how='inner', on='asin')\n",
    "ods.shape"
   ]
  },
  {
   "cell_type": "code",
   "execution_count": 15,
   "id": "80476c47",
   "metadata": {},
   "outputs": [
    {
     "name": "stdout",
     "output_type": "stream",
     "text": [
      "<class 'pandas.core.frame.DataFrame'>\n",
      "Int64Index: 292055 entries, 0 to 292054\n",
      "Data columns (total 14 columns):\n",
      " #   Column       Non-Null Count   Dtype         \n",
      "---  ------       --------------   -----         \n",
      " 0   asin         292055 non-null  object        \n",
      " 1   score        292055 non-null  int64         \n",
      " 2   reviewText   292030 non-null  object        \n",
      " 3   reviewerID   292055 non-null  object        \n",
      " 4   summary      292031 non-null  object        \n",
      " 5   timestamp    292055 non-null  datetime64[ns]\n",
      " 6   verified     292055 non-null  object        \n",
      " 7   date         292055 non-null  datetime64[ns]\n",
      " 8   year         292055 non-null  int64         \n",
      " 9   month        292055 non-null  int64         \n",
      " 10  day          292055 non-null  int64         \n",
      " 11  day_of_week  292055 non-null  int64         \n",
      " 12  brand        292055 non-null  object        \n",
      " 13  title        292055 non-null  object        \n",
      "dtypes: datetime64[ns](2), int64(5), object(7)\n",
      "memory usage: 33.4+ MB\n"
     ]
    }
   ],
   "source": [
    "ods.info()"
   ]
  },
  {
   "cell_type": "code",
   "execution_count": 16,
   "id": "945d8d81",
   "metadata": {},
   "outputs": [
    {
     "data": {
      "text/html": [
       "<div>\n",
       "<style scoped>\n",
       "    .dataframe tbody tr th:only-of-type {\n",
       "        vertical-align: middle;\n",
       "    }\n",
       "\n",
       "    .dataframe tbody tr th {\n",
       "        vertical-align: top;\n",
       "    }\n",
       "\n",
       "    .dataframe thead th {\n",
       "        text-align: right;\n",
       "    }\n",
       "</style>\n",
       "<table border=\"1\" class=\"dataframe\">\n",
       "  <thead>\n",
       "    <tr style=\"text-align: right;\">\n",
       "      <th></th>\n",
       "      <th>asin</th>\n",
       "      <th>score</th>\n",
       "      <th>reviewText</th>\n",
       "      <th>reviewerID</th>\n",
       "      <th>summary</th>\n",
       "      <th>timestamp</th>\n",
       "      <th>verified</th>\n",
       "      <th>date</th>\n",
       "      <th>year</th>\n",
       "      <th>month</th>\n",
       "      <th>day</th>\n",
       "      <th>day_of_week</th>\n",
       "      <th>brand</th>\n",
       "      <th>title</th>\n",
       "    </tr>\n",
       "  </thead>\n",
       "  <tbody>\n",
       "    <tr>\n",
       "      <th>0</th>\n",
       "      <td>0671573535</td>\n",
       "      <td>1</td>\n",
       "      <td>We have not been able to even run this game be...</td>\n",
       "      <td>A1I7E79WGWUP6Y</td>\n",
       "      <td>don't buy this game</td>\n",
       "      <td>1998-12-04</td>\n",
       "      <td>false</td>\n",
       "      <td>1998-12-04</td>\n",
       "      <td>1998</td>\n",
       "      <td>12</td>\n",
       "      <td>4</td>\n",
       "      <td>4</td>\n",
       "      <td>Simon &amp; Schuster Interactive</td>\n",
       "      <td>Star Trek Borg</td>\n",
       "    </tr>\n",
       "    <tr>\n",
       "      <th>1</th>\n",
       "      <td>1559404779</td>\n",
       "      <td>4</td>\n",
       "      <td>About 140 movies were reviewed. I love the fil...</td>\n",
       "      <td>A3KDTS7917RNBA</td>\n",
       "      <td>Good reference book for Criterion early LD's</td>\n",
       "      <td>1999-10-23</td>\n",
       "      <td>false</td>\n",
       "      <td>1999-10-23</td>\n",
       "      <td>1999</td>\n",
       "      <td>10</td>\n",
       "      <td>23</td>\n",
       "      <td>5</td>\n",
       "      <td>Voyageur Pub</td>\n",
       "      <td>Criterion Goes to the Movies / CD Rom Mac</td>\n",
       "    </tr>\n",
       "    <tr>\n",
       "      <th>2</th>\n",
       "      <td>1559404779</td>\n",
       "      <td>5</td>\n",
       "      <td>A movie lover's dream come true, Criterion Goe...</td>\n",
       "      <td>A2SKLVWTDV34BK</td>\n",
       "      <td>Discover Classic &amp; Contemporary Film</td>\n",
       "      <td>2009-01-29</td>\n",
       "      <td>false</td>\n",
       "      <td>2009-01-29</td>\n",
       "      <td>2009</td>\n",
       "      <td>1</td>\n",
       "      <td>29</td>\n",
       "      <td>3</td>\n",
       "      <td>Voyageur Pub</td>\n",
       "      <td>Criterion Goes to the Movies / CD Rom Mac</td>\n",
       "    </tr>\n",
       "    <tr>\n",
       "      <th>3</th>\n",
       "      <td>B00002S5B2</td>\n",
       "      <td>5</td>\n",
       "      <td>WOW! (and I mean that). This game is fantastic...</td>\n",
       "      <td>A39CQ908D0IA6P</td>\n",
       "      <td>An excellent music activity game for kids AND ...</td>\n",
       "      <td>1999-11-10</td>\n",
       "      <td>false</td>\n",
       "      <td>1999-11-10</td>\n",
       "      <td>1999</td>\n",
       "      <td>11</td>\n",
       "      <td>10</td>\n",
       "      <td>2</td>\n",
       "      <td>Mattel</td>\n",
       "      <td>Sesame Street Music Maker</td>\n",
       "    </tr>\n",
       "    <tr>\n",
       "      <th>4</th>\n",
       "      <td>B00002S5B2</td>\n",
       "      <td>5</td>\n",
       "      <td>I can't say enough about how wonderful this so...</td>\n",
       "      <td>AJ1ZEMJSJYDOC</td>\n",
       "      <td>Outstanding - entertaining, educational, and fun!</td>\n",
       "      <td>2000-09-09</td>\n",
       "      <td>false</td>\n",
       "      <td>2000-09-09</td>\n",
       "      <td>2000</td>\n",
       "      <td>9</td>\n",
       "      <td>9</td>\n",
       "      <td>5</td>\n",
       "      <td>Mattel</td>\n",
       "      <td>Sesame Street Music Maker</td>\n",
       "    </tr>\n",
       "  </tbody>\n",
       "</table>\n",
       "</div>"
      ],
      "text/plain": [
       "         asin  score                                         reviewText  \\\n",
       "0  0671573535      1  We have not been able to even run this game be...   \n",
       "1  1559404779      4  About 140 movies were reviewed. I love the fil...   \n",
       "2  1559404779      5  A movie lover's dream come true, Criterion Goe...   \n",
       "3  B00002S5B2      5  WOW! (and I mean that). This game is fantastic...   \n",
       "4  B00002S5B2      5  I can't say enough about how wonderful this so...   \n",
       "\n",
       "       reviewerID                                            summary  \\\n",
       "0  A1I7E79WGWUP6Y                                don't buy this game   \n",
       "1  A3KDTS7917RNBA       Good reference book for Criterion early LD's   \n",
       "2  A2SKLVWTDV34BK               Discover Classic & Contemporary Film   \n",
       "3  A39CQ908D0IA6P  An excellent music activity game for kids AND ...   \n",
       "4   AJ1ZEMJSJYDOC  Outstanding - entertaining, educational, and fun!   \n",
       "\n",
       "   timestamp verified       date  year  month  day  day_of_week  \\\n",
       "0 1998-12-04    false 1998-12-04  1998     12    4            4   \n",
       "1 1999-10-23    false 1999-10-23  1999     10   23            5   \n",
       "2 2009-01-29    false 2009-01-29  2009      1   29            3   \n",
       "3 1999-11-10    false 1999-11-10  1999     11   10            2   \n",
       "4 2000-09-09    false 2000-09-09  2000      9    9            5   \n",
       "\n",
       "                          brand                                      title  \n",
       "0  Simon & Schuster Interactive                             Star Trek Borg  \n",
       "1                  Voyageur Pub  Criterion Goes to the Movies / CD Rom Mac  \n",
       "2                  Voyageur Pub  Criterion Goes to the Movies / CD Rom Mac  \n",
       "3                        Mattel                  Sesame Street Music Maker  \n",
       "4                        Mattel                  Sesame Street Music Maker  "
      ]
     },
     "execution_count": 16,
     "metadata": {},
     "output_type": "execute_result"
    }
   ],
   "source": [
    "ods.head()"
   ]
  },
  {
   "cell_type": "code",
   "execution_count": 17,
   "id": "81799a9d",
   "metadata": {
    "scrolled": true
   },
   "outputs": [
    {
     "data": {
      "text/plain": [
       "count     292055\n",
       "unique      2681\n",
       "top       Intuit\n",
       "freq       57889\n",
       "Name: brand, dtype: object"
      ]
     },
     "execution_count": 17,
     "metadata": {},
     "output_type": "execute_result"
    }
   ],
   "source": [
    "ods['brand'].describe()"
   ]
  },
  {
   "cell_type": "markdown",
   "id": "3b542bca",
   "metadata": {},
   "source": [
    "## Checkpoint\n",
    "\n",
    "> Loading progress into a new file"
   ]
  },
  {
   "cell_type": "code",
   "execution_count": 18,
   "id": "29fb6065",
   "metadata": {},
   "outputs": [],
   "source": [
    "ods.to_parquet('one_sw_df_7312023_2104.parquet')"
   ]
  },
  {
   "cell_type": "markdown",
   "id": "e7ccbec6",
   "metadata": {},
   "source": [
    "**End of process**"
   ]
  }
 ],
 "metadata": {
  "kernelspec": {
   "display_name": "Python 3 (ipykernel)",
   "language": "python",
   "name": "python3"
  },
  "language_info": {
   "codemirror_mode": {
    "name": "ipython",
    "version": 3
   },
   "file_extension": ".py",
   "mimetype": "text/x-python",
   "name": "python",
   "nbconvert_exporter": "python",
   "pygments_lexer": "ipython3",
   "version": "3.9.7"
  }
 },
 "nbformat": 4,
 "nbformat_minor": 5
}
