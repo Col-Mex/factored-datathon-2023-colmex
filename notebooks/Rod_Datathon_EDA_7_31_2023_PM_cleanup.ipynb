{
 "cells": [
  {
   "cell_type": "markdown",
   "id": "960374bf",
   "metadata": {},
   "source": [
    "7.31.2023 6:15 PM"
   ]
  },
  {
   "cell_type": "code",
   "execution_count": 1,
   "id": "2a7babd9",
   "metadata": {},
   "outputs": [],
   "source": [
    "import numpy as np\n",
    "import pandas as pd\n",
    "import matplotlib.pyplot as plt\n",
    "import seaborn as sns\n",
    "import pyarrow\n"
   ]
  },
  {
   "cell_type": "code",
   "execution_count": 2,
   "id": "88321248",
   "metadata": {},
   "outputs": [],
   "source": [
    "datathon_metadata_pkt_731_file = \"/Users/dslab/Downloads/metadata_industry_31jul.parquet\"\n",
    "mds = pd.read_parquet(datathon_metadata_pkt_731_file, engine='pyarrow')"
   ]
  },
  {
   "cell_type": "code",
   "execution_count": 3,
   "id": "c6971c70",
   "metadata": {},
   "outputs": [
    {
     "data": {
      "text/plain": [
       "(27441, 18)"
      ]
     },
     "execution_count": 3,
     "metadata": {},
     "output_type": "execute_result"
    }
   ],
   "source": [
    "mds.shape"
   ]
  },
  {
   "cell_type": "code",
   "execution_count": 4,
   "id": "54506978",
   "metadata": {},
   "outputs": [
    {
     "name": "stdout",
     "output_type": "stream",
     "text": [
      "<class 'pandas.core.frame.DataFrame'>\n",
      "Int64Index: 27441 entries, 1337 to 1453\n",
      "Data columns (total 18 columns):\n",
      " #   Column        Non-Null Count  Dtype \n",
      "---  ------        --------------  ----- \n",
      " 0   also_buy      27441 non-null  object\n",
      " 1   also_view     27441 non-null  object\n",
      " 2   asin          27441 non-null  object\n",
      " 3   brand         27441 non-null  object\n",
      " 4   category      27441 non-null  object\n",
      " 5   date          27441 non-null  object\n",
      " 6   description   27441 non-null  object\n",
      " 7   details       26706 non-null  object\n",
      " 8   feature       27441 non-null  object\n",
      " 9   fit           27441 non-null  object\n",
      " 10  image         27441 non-null  object\n",
      " 11  main_cat      27441 non-null  object\n",
      " 12  price         27441 non-null  object\n",
      " 13  rank          27441 non-null  object\n",
      " 14  similar_item  27441 non-null  object\n",
      " 15  tech1         27441 non-null  object\n",
      " 16  tech2         27441 non-null  object\n",
      " 17  title         27441 non-null  object\n",
      "dtypes: object(18)\n",
      "memory usage: 4.0+ MB\n"
     ]
    }
   ],
   "source": [
    "mds.info()"
   ]
  },
  {
   "cell_type": "code",
   "execution_count": 5,
   "id": "b09e824e",
   "metadata": {},
   "outputs": [
    {
     "data": {
      "text/html": [
       "<div>\n",
       "<style scoped>\n",
       "    .dataframe tbody tr th:only-of-type {\n",
       "        vertical-align: middle;\n",
       "    }\n",
       "\n",
       "    .dataframe tbody tr th {\n",
       "        vertical-align: top;\n",
       "    }\n",
       "\n",
       "    .dataframe thead th {\n",
       "        text-align: right;\n",
       "    }\n",
       "</style>\n",
       "<table border=\"1\" class=\"dataframe\">\n",
       "  <thead>\n",
       "    <tr style=\"text-align: right;\">\n",
       "      <th></th>\n",
       "      <th>also_buy</th>\n",
       "      <th>also_view</th>\n",
       "      <th>asin</th>\n",
       "      <th>brand</th>\n",
       "      <th>category</th>\n",
       "      <th>date</th>\n",
       "      <th>description</th>\n",
       "      <th>details</th>\n",
       "      <th>feature</th>\n",
       "      <th>fit</th>\n",
       "      <th>image</th>\n",
       "      <th>main_cat</th>\n",
       "      <th>price</th>\n",
       "      <th>rank</th>\n",
       "      <th>similar_item</th>\n",
       "      <th>tech1</th>\n",
       "      <th>tech2</th>\n",
       "      <th>title</th>\n",
       "    </tr>\n",
       "  </thead>\n",
       "  <tbody>\n",
       "    <tr>\n",
       "      <th>1337</th>\n",
       "      <td>[]</td>\n",
       "      <td>[]</td>\n",
       "      <td>B000WNFZZU</td>\n",
       "      <td>Pacific Design</td>\n",
       "      <td>[Electronics, Computers &amp; Accessories, Laptop ...</td>\n",
       "      <td>&lt;/div&gt;</td>\n",
       "      <td>[]</td>\n",
       "      <td>{'\n",
       "    Item Weight: \n",
       "    ': None, '\n",
       "    Packag...</td>\n",
       "      <td>[]</td>\n",
       "      <td></td>\n",
       "      <td>[]</td>\n",
       "      <td>Software</td>\n",
       "      <td></td>\n",
       "      <td>57,014 in Software (</td>\n",
       "      <td></td>\n",
       "      <td></td>\n",
       "      <td></td>\n",
       "      <td>Pacific Design 15 Air Force Notebook Backpack</td>\n",
       "    </tr>\n",
       "    <tr>\n",
       "      <th>1596</th>\n",
       "      <td>[]</td>\n",
       "      <td>[B072C4FC8J, B000VE0A6O, B005N2CS8M]</td>\n",
       "      <td>B000WUQCT6</td>\n",
       "      <td>Family</td>\n",
       "      <td>[Electronics, Home Audio, Home Theater]</td>\n",
       "      <td>&lt;/div&gt;</td>\n",
       "      <td>[, &lt;b&gt;&lt;font color=#000080&gt;Build your family tr...</td>\n",
       "      <td>{'\n",
       "    Item Weight: \n",
       "    ': None, '\n",
       "    Packag...</td>\n",
       "      <td>[]</td>\n",
       "      <td></td>\n",
       "      <td>[]</td>\n",
       "      <td>Software</td>\n",
       "      <td></td>\n",
       "      <td>6,816 in Software (</td>\n",
       "      <td></td>\n",
       "      <td></td>\n",
       "      <td></td>\n",
       "      <td>Family Tree Maker 2008 Deluxe</td>\n",
       "    </tr>\n",
       "    <tr>\n",
       "      <th>4100</th>\n",
       "      <td>[]</td>\n",
       "      <td>[]</td>\n",
       "      <td>B000YQ49IO</td>\n",
       "      <td>ACD</td>\n",
       "      <td>[Electronics, Computers &amp; Accessories, Compute...</td>\n",
       "      <td>&lt;/div&gt;</td>\n",
       "      <td>[ACDSee Photo Manager v.10.0]</td>\n",
       "      <td>{'\n",
       "    Item Weight: \n",
       "    ': None, '\n",
       "    Packag...</td>\n",
       "      <td>[]</td>\n",
       "      <td></td>\n",
       "      <td>[]</td>\n",
       "      <td>Software</td>\n",
       "      <td></td>\n",
       "      <td>70,828 in Software (</td>\n",
       "      <td></td>\n",
       "      <td></td>\n",
       "      <td></td>\n",
       "      <td>ACDSee Photo Manager - ( V. 10 ) - Complete Pa...</td>\n",
       "    </tr>\n",
       "    <tr>\n",
       "      <th>5549</th>\n",
       "      <td>[]</td>\n",
       "      <td>[]</td>\n",
       "      <td>B0010DG5QY</td>\n",
       "      <td>Smith Micro Software Inc.</td>\n",
       "      <td>[Electronics, Computers &amp;amp; Accessories, Dat...</td>\n",
       "      <td>&lt;/div&gt;</td>\n",
       "      <td>[Music, video and playlists can then be synchr...</td>\n",
       "      <td>{'\n",
       "    Item Weight: \n",
       "    ': None, '\n",
       "    Packag...</td>\n",
       "      <td>[Synchronize, copy or merge music and video fr...</td>\n",
       "      <td></td>\n",
       "      <td>[https://images-na.ssl-images-amazon.com/image...</td>\n",
       "      <td>Software</td>\n",
       "      <td></td>\n",
       "      <td>28,039 in Software (</td>\n",
       "      <td></td>\n",
       "      <td></td>\n",
       "      <td></td>\n",
       "      <td>TuneRanger [Old Version]</td>\n",
       "    </tr>\n",
       "    <tr>\n",
       "      <th>5845</th>\n",
       "      <td>[]</td>\n",
       "      <td>[]</td>\n",
       "      <td>B0010OT5E2</td>\n",
       "      <td>Punch Software</td>\n",
       "      <td>[Electronics, Computers &amp; Accessories, Compute...</td>\n",
       "      <td>&lt;/div&gt;</td>\n",
       "      <td>[PUNCH! SHARK PC &amp; MAC -]</td>\n",
       "      <td>{'\n",
       "    Item Weight: \n",
       "    ': None, '\n",
       "    Packag...</td>\n",
       "      <td>[Punch! Shark is professional CAD software tha...</td>\n",
       "      <td></td>\n",
       "      <td>[]</td>\n",
       "      <td>Software</td>\n",
       "      <td></td>\n",
       "      <td>64,763 in Software (</td>\n",
       "      <td></td>\n",
       "      <td></td>\n",
       "      <td></td>\n",
       "      <td>Punch! Shark (Win/Mac)</td>\n",
       "    </tr>\n",
       "  </tbody>\n",
       "</table>\n",
       "</div>"
      ],
      "text/plain": [
       "     also_buy                             also_view        asin  \\\n",
       "1337       []                                    []  B000WNFZZU   \n",
       "1596       []  [B072C4FC8J, B000VE0A6O, B005N2CS8M]  B000WUQCT6   \n",
       "4100       []                                    []  B000YQ49IO   \n",
       "5549       []                                    []  B0010DG5QY   \n",
       "5845       []                                    []  B0010OT5E2   \n",
       "\n",
       "                          brand  \\\n",
       "1337             Pacific Design   \n",
       "1596                     Family   \n",
       "4100                        ACD   \n",
       "5549  Smith Micro Software Inc.   \n",
       "5845             Punch Software   \n",
       "\n",
       "                                               category    date  \\\n",
       "1337  [Electronics, Computers & Accessories, Laptop ...  </div>   \n",
       "1596            [Electronics, Home Audio, Home Theater]  </div>   \n",
       "4100  [Electronics, Computers & Accessories, Compute...  </div>   \n",
       "5549  [Electronics, Computers &amp; Accessories, Dat...  </div>   \n",
       "5845  [Electronics, Computers & Accessories, Compute...  </div>   \n",
       "\n",
       "                                            description  \\\n",
       "1337                                                 []   \n",
       "1596  [, <b><font color=#000080>Build your family tr...   \n",
       "4100                      [ACDSee Photo Manager v.10.0]   \n",
       "5549  [Music, video and playlists can then be synchr...   \n",
       "5845                          [PUNCH! SHARK PC & MAC -]   \n",
       "\n",
       "                                                details  \\\n",
       "1337  {'\n",
       "    Item Weight: \n",
       "    ': None, '\n",
       "    Packag...   \n",
       "1596  {'\n",
       "    Item Weight: \n",
       "    ': None, '\n",
       "    Packag...   \n",
       "4100  {'\n",
       "    Item Weight: \n",
       "    ': None, '\n",
       "    Packag...   \n",
       "5549  {'\n",
       "    Item Weight: \n",
       "    ': None, '\n",
       "    Packag...   \n",
       "5845  {'\n",
       "    Item Weight: \n",
       "    ': None, '\n",
       "    Packag...   \n",
       "\n",
       "                                                feature fit  \\\n",
       "1337                                                 []       \n",
       "1596                                                 []       \n",
       "4100                                                 []       \n",
       "5549  [Synchronize, copy or merge music and video fr...       \n",
       "5845  [Punch! Shark is professional CAD software tha...       \n",
       "\n",
       "                                                  image  main_cat price  \\\n",
       "1337                                                 []  Software         \n",
       "1596                                                 []  Software         \n",
       "4100                                                 []  Software         \n",
       "5549  [https://images-na.ssl-images-amazon.com/image...  Software         \n",
       "5845                                                 []  Software         \n",
       "\n",
       "                      rank similar_item tech1 tech2  \\\n",
       "1337  57,014 in Software (                            \n",
       "1596   6,816 in Software (                            \n",
       "4100  70,828 in Software (                            \n",
       "5549  28,039 in Software (                            \n",
       "5845  64,763 in Software (                            \n",
       "\n",
       "                                                  title  \n",
       "1337      Pacific Design 15 Air Force Notebook Backpack  \n",
       "1596                      Family Tree Maker 2008 Deluxe  \n",
       "4100  ACDSee Photo Manager - ( V. 10 ) - Complete Pa...  \n",
       "5549                           TuneRanger [Old Version]  \n",
       "5845                             Punch! Shark (Win/Mac)  "
      ]
     },
     "execution_count": 5,
     "metadata": {},
     "output_type": "execute_result"
    }
   ],
   "source": [
    "mds.head()"
   ]
  },
  {
   "cell_type": "code",
   "execution_count": 7,
   "id": "31e8d34d",
   "metadata": {},
   "outputs": [
    {
     "data": {
      "text/plain": [
       "Index(['also_buy', 'also_view', 'asin', 'brand', 'category', 'date',\n",
       "       'description', 'details', 'feature', 'fit', 'image', 'main_cat',\n",
       "       'price', 'rank', 'similar_item', 'tech1', 'tech2', 'title'],\n",
       "      dtype='object')"
      ]
     },
     "execution_count": 7,
     "metadata": {},
     "output_type": "execute_result"
    }
   ],
   "source": [
    "mds.columns"
   ]
  },
  {
   "cell_type": "code",
   "execution_count": 13,
   "id": "7424d2aa",
   "metadata": {},
   "outputs": [],
   "source": [
    "del mds['also_buy']"
   ]
  },
  {
   "cell_type": "code",
   "execution_count": 14,
   "id": "9dbbee90",
   "metadata": {},
   "outputs": [],
   "source": [
    "del mds['also_view']"
   ]
  },
  {
   "cell_type": "code",
   "execution_count": 15,
   "id": "fa9b4b29",
   "metadata": {},
   "outputs": [],
   "source": [
    "mds.drop(columns = ['category', 'date','description', 'details', 'feature', 'fit', 'image', 'main_cat','price', 'rank', 'similar_item', 'tech1', 'tech2'], axis = 1, inplace = True)"
   ]
  },
  {
   "cell_type": "code",
   "execution_count": 16,
   "id": "5bff91ac",
   "metadata": {},
   "outputs": [
    {
     "data": {
      "text/html": [
       "<div>\n",
       "<style scoped>\n",
       "    .dataframe tbody tr th:only-of-type {\n",
       "        vertical-align: middle;\n",
       "    }\n",
       "\n",
       "    .dataframe tbody tr th {\n",
       "        vertical-align: top;\n",
       "    }\n",
       "\n",
       "    .dataframe thead th {\n",
       "        text-align: right;\n",
       "    }\n",
       "</style>\n",
       "<table border=\"1\" class=\"dataframe\">\n",
       "  <thead>\n",
       "    <tr style=\"text-align: right;\">\n",
       "      <th></th>\n",
       "      <th>asin</th>\n",
       "      <th>brand</th>\n",
       "      <th>title</th>\n",
       "    </tr>\n",
       "  </thead>\n",
       "  <tbody>\n",
       "    <tr>\n",
       "      <th>1337</th>\n",
       "      <td>B000WNFZZU</td>\n",
       "      <td>Pacific Design</td>\n",
       "      <td>Pacific Design 15 Air Force Notebook Backpack</td>\n",
       "    </tr>\n",
       "    <tr>\n",
       "      <th>1596</th>\n",
       "      <td>B000WUQCT6</td>\n",
       "      <td>Family</td>\n",
       "      <td>Family Tree Maker 2008 Deluxe</td>\n",
       "    </tr>\n",
       "    <tr>\n",
       "      <th>4100</th>\n",
       "      <td>B000YQ49IO</td>\n",
       "      <td>ACD</td>\n",
       "      <td>ACDSee Photo Manager - ( V. 10 ) - Complete Pa...</td>\n",
       "    </tr>\n",
       "    <tr>\n",
       "      <th>5549</th>\n",
       "      <td>B0010DG5QY</td>\n",
       "      <td>Smith Micro Software Inc.</td>\n",
       "      <td>TuneRanger [Old Version]</td>\n",
       "    </tr>\n",
       "    <tr>\n",
       "      <th>5845</th>\n",
       "      <td>B0010OT5E2</td>\n",
       "      <td>Punch Software</td>\n",
       "      <td>Punch! Shark (Win/Mac)</td>\n",
       "    </tr>\n",
       "  </tbody>\n",
       "</table>\n",
       "</div>"
      ],
      "text/plain": [
       "            asin                      brand  \\\n",
       "1337  B000WNFZZU             Pacific Design   \n",
       "1596  B000WUQCT6                     Family   \n",
       "4100  B000YQ49IO                        ACD   \n",
       "5549  B0010DG5QY  Smith Micro Software Inc.   \n",
       "5845  B0010OT5E2             Punch Software   \n",
       "\n",
       "                                                  title  \n",
       "1337      Pacific Design 15 Air Force Notebook Backpack  \n",
       "1596                      Family Tree Maker 2008 Deluxe  \n",
       "4100  ACDSee Photo Manager - ( V. 10 ) - Complete Pa...  \n",
       "5549                           TuneRanger [Old Version]  \n",
       "5845                             Punch! Shark (Win/Mac)  "
      ]
     },
     "execution_count": 16,
     "metadata": {},
     "output_type": "execute_result"
    }
   ],
   "source": [
    "mds.head()"
   ]
  },
  {
   "cell_type": "code",
   "execution_count": 17,
   "id": "a69adde6",
   "metadata": {},
   "outputs": [
    {
     "data": {
      "text/html": [
       "<div>\n",
       "<style scoped>\n",
       "    .dataframe tbody tr th:only-of-type {\n",
       "        vertical-align: middle;\n",
       "    }\n",
       "\n",
       "    .dataframe tbody tr th {\n",
       "        vertical-align: top;\n",
       "    }\n",
       "\n",
       "    .dataframe thead th {\n",
       "        text-align: right;\n",
       "    }\n",
       "</style>\n",
       "<table border=\"1\" class=\"dataframe\">\n",
       "  <thead>\n",
       "    <tr style=\"text-align: right;\">\n",
       "      <th></th>\n",
       "      <th>asin</th>\n",
       "      <th>brand</th>\n",
       "      <th>title</th>\n",
       "    </tr>\n",
       "  </thead>\n",
       "  <tbody>\n",
       "    <tr>\n",
       "      <th>count</th>\n",
       "      <td>27441</td>\n",
       "      <td>27441</td>\n",
       "      <td>27441</td>\n",
       "    </tr>\n",
       "    <tr>\n",
       "      <th>unique</th>\n",
       "      <td>22529</td>\n",
       "      <td>4472</td>\n",
       "      <td>22002</td>\n",
       "    </tr>\n",
       "    <tr>\n",
       "      <th>top</th>\n",
       "      <td>B00005Y0J9</td>\n",
       "      <td>Microsoft</td>\n",
       "      <td>Cyberlink PowerDirector 13 Ultimate Suite</td>\n",
       "    </tr>\n",
       "    <tr>\n",
       "      <th>freq</th>\n",
       "      <td>2</td>\n",
       "      <td>1226</td>\n",
       "      <td>7</td>\n",
       "    </tr>\n",
       "  </tbody>\n",
       "</table>\n",
       "</div>"
      ],
      "text/plain": [
       "              asin      brand                                      title\n",
       "count        27441      27441                                      27441\n",
       "unique       22529       4472                                      22002\n",
       "top     B00005Y0J9  Microsoft  Cyberlink PowerDirector 13 Ultimate Suite\n",
       "freq             2       1226                                          7"
      ]
     },
     "execution_count": 17,
     "metadata": {},
     "output_type": "execute_result"
    }
   ],
   "source": [
    "mds.describe()"
   ]
  },
  {
   "cell_type": "code",
   "execution_count": 18,
   "id": "06c4c391",
   "metadata": {},
   "outputs": [
    {
     "data": {
      "text/plain": [
       "(22529, 3)"
      ]
     },
     "execution_count": 18,
     "metadata": {},
     "output_type": "execute_result"
    }
   ],
   "source": [
    "mds.drop_duplicates(inplace = True)\n",
    "mds.shape"
   ]
  },
  {
   "cell_type": "code",
   "execution_count": 23,
   "id": "03f20fa8",
   "metadata": {},
   "outputs": [
    {
     "data": {
      "text/html": [
       "<div>\n",
       "<style scoped>\n",
       "    .dataframe tbody tr th:only-of-type {\n",
       "        vertical-align: middle;\n",
       "    }\n",
       "\n",
       "    .dataframe tbody tr th {\n",
       "        vertical-align: top;\n",
       "    }\n",
       "\n",
       "    .dataframe thead th {\n",
       "        text-align: right;\n",
       "    }\n",
       "</style>\n",
       "<table border=\"1\" class=\"dataframe\">\n",
       "  <thead>\n",
       "    <tr style=\"text-align: right;\">\n",
       "      <th></th>\n",
       "      <th>asin</th>\n",
       "      <th>brand</th>\n",
       "      <th>title</th>\n",
       "    </tr>\n",
       "  </thead>\n",
       "  <tbody>\n",
       "    <tr>\n",
       "      <th>0</th>\n",
       "      <td>B000WNFZZU</td>\n",
       "      <td>Pacific Design</td>\n",
       "      <td>Pacific Design 15 Air Force Notebook Backpack</td>\n",
       "    </tr>\n",
       "    <tr>\n",
       "      <th>1</th>\n",
       "      <td>B000WUQCT6</td>\n",
       "      <td>Family</td>\n",
       "      <td>Family Tree Maker 2008 Deluxe</td>\n",
       "    </tr>\n",
       "    <tr>\n",
       "      <th>2</th>\n",
       "      <td>B000YQ49IO</td>\n",
       "      <td>ACD</td>\n",
       "      <td>ACDSee Photo Manager - ( V. 10 ) - Complete Pa...</td>\n",
       "    </tr>\n",
       "    <tr>\n",
       "      <th>3</th>\n",
       "      <td>B0010DG5QY</td>\n",
       "      <td>Smith Micro Software Inc.</td>\n",
       "      <td>TuneRanger [Old Version]</td>\n",
       "    </tr>\n",
       "    <tr>\n",
       "      <th>4</th>\n",
       "      <td>B0010OT5E2</td>\n",
       "      <td>Punch Software</td>\n",
       "      <td>Punch! Shark (Win/Mac)</td>\n",
       "    </tr>\n",
       "  </tbody>\n",
       "</table>\n",
       "</div>"
      ],
      "text/plain": [
       "         asin                      brand  \\\n",
       "0  B000WNFZZU             Pacific Design   \n",
       "1  B000WUQCT6                     Family   \n",
       "2  B000YQ49IO                        ACD   \n",
       "3  B0010DG5QY  Smith Micro Software Inc.   \n",
       "4  B0010OT5E2             Punch Software   \n",
       "\n",
       "                                               title  \n",
       "0      Pacific Design 15 Air Force Notebook Backpack  \n",
       "1                      Family Tree Maker 2008 Deluxe  \n",
       "2  ACDSee Photo Manager - ( V. 10 ) - Complete Pa...  \n",
       "3                           TuneRanger [Old Version]  \n",
       "4                             Punch! Shark (Win/Mac)  "
      ]
     },
     "execution_count": 23,
     "metadata": {},
     "output_type": "execute_result"
    }
   ],
   "source": [
    "mds.head()"
   ]
  },
  {
   "cell_type": "code",
   "execution_count": 24,
   "id": "82d366ab",
   "metadata": {},
   "outputs": [
    {
     "data": {
      "text/plain": [
       "count         22529\n",
       "unique         4472\n",
       "top       Microsoft\n",
       "freq            921\n",
       "Name: brand, dtype: object"
      ]
     },
     "execution_count": 24,
     "metadata": {},
     "output_type": "execute_result"
    }
   ],
   "source": [
    "mds['brand'].describe()"
   ]
  },
  {
   "cell_type": "code",
   "execution_count": 25,
   "id": "eacae7ab",
   "metadata": {},
   "outputs": [
    {
     "data": {
      "text/html": [
       "<div>\n",
       "<style scoped>\n",
       "    .dataframe tbody tr th:only-of-type {\n",
       "        vertical-align: middle;\n",
       "    }\n",
       "\n",
       "    .dataframe tbody tr th {\n",
       "        vertical-align: top;\n",
       "    }\n",
       "\n",
       "    .dataframe thead th {\n",
       "        text-align: right;\n",
       "    }\n",
       "</style>\n",
       "<table border=\"1\" class=\"dataframe\">\n",
       "  <thead>\n",
       "    <tr style=\"text-align: right;\">\n",
       "      <th></th>\n",
       "      <th>asin</th>\n",
       "      <th>brand</th>\n",
       "      <th>title</th>\n",
       "    </tr>\n",
       "  </thead>\n",
       "  <tbody>\n",
       "    <tr>\n",
       "      <th>14026</th>\n",
       "      <td>B00005Y0J9</td>\n",
       "      <td>Vivendi Universal</td>\n",
       "      <td>Print Attitudes</td>\n",
       "    </tr>\n",
       "  </tbody>\n",
       "</table>\n",
       "</div>"
      ],
      "text/plain": [
       "             asin              brand            title\n",
       "14026  B00005Y0J9  Vivendi Universal  Print Attitudes"
      ]
     },
     "execution_count": 25,
     "metadata": {},
     "output_type": "execute_result"
    }
   ],
   "source": [
    "# Filter on rows through condition based filtering to confirm no more duplicates\n",
    "\n",
    "mds[mds['asin'] == 'B00005Y0J9']"
   ]
  },
  {
   "cell_type": "code",
   "execution_count": 27,
   "id": "f01f8509",
   "metadata": {},
   "outputs": [
    {
     "data": {
      "text/html": [
       "<div>\n",
       "<style scoped>\n",
       "    .dataframe tbody tr th:only-of-type {\n",
       "        vertical-align: middle;\n",
       "    }\n",
       "\n",
       "    .dataframe tbody tr th {\n",
       "        vertical-align: top;\n",
       "    }\n",
       "\n",
       "    .dataframe thead th {\n",
       "        text-align: right;\n",
       "    }\n",
       "</style>\n",
       "<table border=\"1\" class=\"dataframe\">\n",
       "  <thead>\n",
       "    <tr style=\"text-align: right;\">\n",
       "      <th></th>\n",
       "      <th>asin</th>\n",
       "      <th>brand</th>\n",
       "      <th>title</th>\n",
       "    </tr>\n",
       "  </thead>\n",
       "  <tbody>\n",
       "    <tr>\n",
       "      <th>11337</th>\n",
       "      <td>0030672120</td>\n",
       "      <td>HOLT. RINEHART AND WINSTON</td>\n",
       "      <td>HOLT PHYSICS LESSON PRESENTATION CD-ROM QUICK ...</td>\n",
       "    </tr>\n",
       "    <tr>\n",
       "      <th>11338</th>\n",
       "      <td>0071480935</td>\n",
       "      <td>McGraw Hill</td>\n",
       "      <td>Sing, Watch, &amp;amp; Learn Spanish (DVD + Guide)...</td>\n",
       "    </tr>\n",
       "    <tr>\n",
       "      <th>11339</th>\n",
       "      <td>007329506X</td>\n",
       "      <td>McGraw-Hill Science/Engineering/Math</td>\n",
       "      <td>Connect with LearnSmart Access Card for Microb...</td>\n",
       "    </tr>\n",
       "    <tr>\n",
       "      <th>11340</th>\n",
       "      <td>0073513458</td>\n",
       "      <td>McGraw-Hill Education</td>\n",
       "      <td>LearnSmart Standalone Access Card for Prescott...</td>\n",
       "    </tr>\n",
       "    <tr>\n",
       "      <th>11341</th>\n",
       "      <td>0073525758</td>\n",
       "      <td>McGraw-Hill Education</td>\n",
       "      <td>Anatomy &amp;amp; Physiology Revealed Student Acce...</td>\n",
       "    </tr>\n",
       "  </tbody>\n",
       "</table>\n",
       "</div>"
      ],
      "text/plain": [
       "             asin                                 brand  \\\n",
       "11337  0030672120            HOLT. RINEHART AND WINSTON   \n",
       "11338  0071480935                           McGraw Hill   \n",
       "11339  007329506X  McGraw-Hill Science/Engineering/Math   \n",
       "11340  0073513458                 McGraw-Hill Education   \n",
       "11341  0073525758                 McGraw-Hill Education   \n",
       "\n",
       "                                                   title  \n",
       "11337  HOLT PHYSICS LESSON PRESENTATION CD-ROM QUICK ...  \n",
       "11338  Sing, Watch, &amp; Learn Spanish (DVD + Guide)...  \n",
       "11339  Connect with LearnSmart Access Card for Microb...  \n",
       "11340  LearnSmart Standalone Access Card for Prescott...  \n",
       "11341  Anatomy &amp; Physiology Revealed Student Acce...  "
      ]
     },
     "execution_count": 27,
     "metadata": {},
     "output_type": "execute_result"
    }
   ],
   "source": [
    "mds.sort_values(by = ['asin'], inplace = True)\n",
    "mds.head()"
   ]
  },
  {
   "cell_type": "code",
   "execution_count": 28,
   "id": "022df23f",
   "metadata": {},
   "outputs": [
    {
     "data": {
      "text/html": [
       "<div>\n",
       "<style scoped>\n",
       "    .dataframe tbody tr th:only-of-type {\n",
       "        vertical-align: middle;\n",
       "    }\n",
       "\n",
       "    .dataframe tbody tr th {\n",
       "        vertical-align: top;\n",
       "    }\n",
       "\n",
       "    .dataframe thead th {\n",
       "        text-align: right;\n",
       "    }\n",
       "</style>\n",
       "<table border=\"1\" class=\"dataframe\">\n",
       "  <thead>\n",
       "    <tr style=\"text-align: right;\">\n",
       "      <th></th>\n",
       "      <th>asin</th>\n",
       "      <th>brand</th>\n",
       "      <th>title</th>\n",
       "    </tr>\n",
       "  </thead>\n",
       "  <tbody>\n",
       "    <tr>\n",
       "      <th>0</th>\n",
       "      <td>0030672120</td>\n",
       "      <td>HOLT. RINEHART AND WINSTON</td>\n",
       "      <td>HOLT PHYSICS LESSON PRESENTATION CD-ROM QUICK ...</td>\n",
       "    </tr>\n",
       "    <tr>\n",
       "      <th>1</th>\n",
       "      <td>0071480935</td>\n",
       "      <td>McGraw Hill</td>\n",
       "      <td>Sing, Watch, &amp;amp; Learn Spanish (DVD + Guide)...</td>\n",
       "    </tr>\n",
       "    <tr>\n",
       "      <th>2</th>\n",
       "      <td>007329506X</td>\n",
       "      <td>McGraw-Hill Science/Engineering/Math</td>\n",
       "      <td>Connect with LearnSmart Access Card for Microb...</td>\n",
       "    </tr>\n",
       "    <tr>\n",
       "      <th>3</th>\n",
       "      <td>0073513458</td>\n",
       "      <td>McGraw-Hill Education</td>\n",
       "      <td>LearnSmart Standalone Access Card for Prescott...</td>\n",
       "    </tr>\n",
       "    <tr>\n",
       "      <th>4</th>\n",
       "      <td>0073525758</td>\n",
       "      <td>McGraw-Hill Education</td>\n",
       "      <td>Anatomy &amp;amp; Physiology Revealed Student Acce...</td>\n",
       "    </tr>\n",
       "  </tbody>\n",
       "</table>\n",
       "</div>"
      ],
      "text/plain": [
       "         asin                                 brand  \\\n",
       "0  0030672120            HOLT. RINEHART AND WINSTON   \n",
       "1  0071480935                           McGraw Hill   \n",
       "2  007329506X  McGraw-Hill Science/Engineering/Math   \n",
       "3  0073513458                 McGraw-Hill Education   \n",
       "4  0073525758                 McGraw-Hill Education   \n",
       "\n",
       "                                               title  \n",
       "0  HOLT PHYSICS LESSON PRESENTATION CD-ROM QUICK ...  \n",
       "1  Sing, Watch, &amp; Learn Spanish (DVD + Guide)...  \n",
       "2  Connect with LearnSmart Access Card for Microb...  \n",
       "3  LearnSmart Standalone Access Card for Prescott...  \n",
       "4  Anatomy &amp; Physiology Revealed Student Acce...  "
      ]
     },
     "execution_count": 28,
     "metadata": {},
     "output_type": "execute_result"
    }
   ],
   "source": [
    "mds.reset_index(inplace = True, drop = True)\n",
    "mds.head()"
   ]
  },
  {
   "cell_type": "markdown",
   "id": "ffb62e61",
   "metadata": {},
   "source": [
    "## Checkpoint\n",
    "\n",
    "> Loading progress into a new file"
   ]
  },
  {
   "cell_type": "code",
   "execution_count": 29,
   "id": "d2184309",
   "metadata": {},
   "outputs": [],
   "source": [
    "mds.to_parquet('mds_73123_PM.parquet')"
   ]
  },
  {
   "cell_type": "markdown",
   "id": "b05a85de",
   "metadata": {},
   "source": [
    "**End of process**"
   ]
  }
 ],
 "metadata": {
  "kernelspec": {
   "display_name": "Python 3 (ipykernel)",
   "language": "python",
   "name": "python3"
  },
  "language_info": {
   "codemirror_mode": {
    "name": "ipython",
    "version": 3
   },
   "file_extension": ".py",
   "mimetype": "text/x-python",
   "name": "python",
   "nbconvert_exporter": "python",
   "pygments_lexer": "ipython3",
   "version": "3.9.7"
  }
 },
 "nbformat": 4,
 "nbformat_minor": 5
}
