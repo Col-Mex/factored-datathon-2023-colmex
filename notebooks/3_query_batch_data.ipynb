{
 "cells": [
  {
   "cell_type": "code",
   "execution_count": 1,
   "metadata": {},
   "outputs": [],
   "source": [
    "import os\n",
    "from pyspark.sql import SparkSession"
   ]
  },
  {
   "cell_type": "code",
   "execution_count": null,
   "metadata": {},
   "outputs": [],
   "source": [
    "AMAZON_REVIEWS = 'amazon_reviews'\n",
    "AMAZON_METADATA = 'amazon_metadata'\n",
    "\n",
    "spark = SparkSession.builder.getOrCreate()"
   ]
  },
  {
   "cell_type": "code",
   "execution_count": 5,
   "metadata": {},
   "outputs": [
    {
     "name": "stdout",
     "output_type": "stream",
     "text": [
      "Number review files: 2738\n",
      "Number metadata files: 1503\n"
     ]
    }
   ],
   "source": [
    "review_files = [os.path.join(AMAZON_REVIEWS, path) for path in os.listdir(AMAZON_REVIEWS)]\n",
    "metadata_files = [os.path.join(AMAZON_METADATA, path) for path in os.listdir(AMAZON_METADATA)]\n",
    "\n",
    "print(f'Number review files: {len(review_files)}')\n",
    "print(f'Number metadata files: {len(metadata_files)}')"
   ]
  },
  {
   "cell_type": "code",
   "execution_count": 7,
   "metadata": {},
   "outputs": [
    {
     "name": "stderr",
     "output_type": "stream",
     "text": [
      "23/07/28 05:17:13 WARN package: Truncated the string representation of a plan since it was too large. This behavior can be adjusted by setting 'spark.sql.debug.maxToStringFields'.\n"
     ]
    }
   ],
   "source": [
    "num_review_files = 100\n",
    "num_metadata_files = 100\n",
    "\n",
    "df_reviews = spark.read.json(review_files[:num_review_files])\n",
    "df_metadata = spark.read.json(metadata_files[:num_metadata_files])"
   ]
  },
  {
   "cell_type": "code",
   "execution_count": 16,
   "metadata": {},
   "outputs": [
    {
     "name": "stderr",
     "output_type": "stream",
     "text": [
      "[Stage 24:==================================================>     (10 + 1) / 11]\r"
     ]
    },
    {
     "name": "stdout",
     "output_type": "stream",
     "text": [
      "Number of reviews: 5067350\n",
      "Number of products: 1000000\n"
     ]
    },
    {
     "name": "stderr",
     "output_type": "stream",
     "text": [
      "                                                                                \r"
     ]
    }
   ],
   "source": [
    "num_reviews = df_reviews.count()\n",
    "num_products = df_metadata.count()\n",
    "\n",
    "print(f'Number of reviews: {num_reviews}')\n",
    "print(f'Number of products: {num_products}')"
   ]
  },
  {
   "cell_type": "code",
   "execution_count": 15,
   "metadata": {},
   "outputs": [
    {
     "name": "stdout",
     "output_type": "stream",
     "text": [
      "+----------+-----+-------+--------------------+--------------+------------------+--------------------+--------------------+--------------+--------+----+\n",
      "|      asin|image|overall|          reviewText|    reviewerID|      reviewerName|               style|             summary|unixReviewTime|verified|vote|\n",
      "+----------+-----+-------+--------------------+--------------+------------------+--------------------+--------------------+--------------+--------+----+\n",
      "|B00ADYX4JM| null|    1.0|came in with 2 be...|A3OU0APIQZXRPB|       Mack Attack|{\"Size:\":\" 1 cttw...|         LIKE A BOSS|    1432252800|    true|null|\n",
      "|0975376535| null|    5.0|Very Entertaining...| A34T81LB6861F|     S. A. Schmitt|{\"Format:\":\" Hard...|  Very Entertaining!|    1517011200|    true|null|\n",
      "|B00ADYX4JM| null|    5.0| My wife loves them!|A26FXMPW24GU2L|          Robert V|{\"Size:\":\" 1 cttw...|          Five Stars|    1432080000|   false|null|\n",
      "|0975408089| null|    5.0|great book, reall...|A24YVX52SZXW1T|Isabella L. Wilson|{\"Format:\":\" Kind...|          Five Stars|    1433376000|    true|null|\n",
      "|B00ADYX4JM| null|    4.0|it's really prett...|A2V8C1SS395AUK|             grace|{\"Size:\":\" 1 cttw...|it's really prett...|    1432080000|    true|null|\n",
      "|0975408089| null|    3.0|The story is crap...|A22E258PDDFNZH|   Amazon Customer|{\"Format:\":\" Pape...|How good do you n...|    1303430400|    true|null|\n",
      "|B00ADYX4JM| null|    4.0|big, sparkly,beau...|A25GROVXO5TQ0S|                Ni|{\"Size:\":\" 3 cttw...|          Four Stars|    1431993600|    true|null|\n",
      "|0975408089| null|    1.0|I have to say tha...| A2VN6MKD1NSWH|             Cissy|{\"Format:\":\" Kind...|     TERRIBLE!!!!!!!|    1293408000|    true|null|\n",
      "|B00ADYX4JM| null|    5.0|I saw these for t...|A1FE9O0QOL6Z67|          aersixb9|{\"Size:\":\" 1 cttw...|     Mom loved them?|    1431907200|   false|null|\n",
      "|0975408089| null|    5.0|Nina Harris' only...|A2AY83K9N60V38|         C. Dionne|{\"Format:\":\" Pape...|Justus Roux has c...|    1172448000|    true|   5|\n",
      "|B00ADYX4JM| null|    5.0|These are beautif...| AQ8I2RWOZG32P|               S M|{\"Size:\":\" 1 cttw...|These are beautif...|    1431907200|    true|null|\n",
      "|0975354906| null|    5.0|Book 4 in the ser...|A154EYJP0A69V5|                AR|{\"Format:\":\" Kind...|         Good series|    1501545600|   false|null|\n",
      "|B00ADYX4JM| null|    5.0|This earrings hav...|A2SCKHF2I9MKHC|              YCPR|{\"Size:\":\" 1 cttw...|Great price and q...|    1431907200|    true|null|\n",
      "|0975354906| null|    3.0|Not as good as th...|A3V1HUQISJKGKF|      Bonn Bonn 58|{\"Format:\":\" Kind...|             Just ok|    1492041600|    true|null|\n",
      "|B00ADYX4JM| null|    5.0|They look like th...| AFAJ8CX6V2U4D|              lacy|{\"Size:\":\" 4 cttw...|They look like th...|    1431907200|    true|null|\n",
      "|0975354906| null|    3.0|The cover art was...| AH25G5I3T3I02|            CeeMac|{\"Format:\":\" Kind...|Fire the illustra...|    1484265600|    true|null|\n",
      "|B00ADYX4JM| null|    1.0|I know that they ...|A3L6O3P6KRTLWZ|         margaretw|{\"Size:\":\" 3 cttw...|         Way too big|    1431907200|    true|null|\n",
      "|0975354906| null|    4.0|I really enjoyed ...|A2SKC6HA7XZO56|          Marisara|{\"Format:\":\" Kind...|Another great boo...|    1474329600|    true|null|\n",
      "|B00ADYX4JM| null|    5.0|These are so pret...|A3VN4P1607UR2U|   NewEnglandNails|{\"Size:\":\" 1 cttw...|Gorgeous sparkley...|    1431734400|    true|null|\n",
      "|0975354906| null|    4.0|Really like this ...|A35D0MDC9A7JAM|   LoveLoveStories|{\"Format:\":\" Kind...|Really like this ...|    1472083200|    true|null|\n",
      "+----------+-----+-------+--------------------+--------------+------------------+--------------------+--------------------+--------------+--------+----+\n",
      "only showing top 20 rows\n",
      "\n"
     ]
    }
   ],
   "source": [
    "df_reviews.show()"
   ]
  },
  {
   "cell_type": "code",
   "execution_count": 9,
   "metadata": {},
   "outputs": [
    {
     "name": "stdout",
     "output_type": "stream",
     "text": [
      "+--------------------+--------------------+----------+-------------+--------------------+----------------+--------------------+--------------------+--------------------+---+--------------------+--------------------+-------+--------------------+--------------------+--------------------+-----+--------------------+\n",
      "|            also_buy|           also_view|      asin|        brand|            category|            date|         description|             details|             feature|fit|               image|            main_cat|  price|                rank|        similar_item|               tech1|tech2|               title|\n",
      "+--------------------+--------------------+----------+-------------+--------------------+----------------+--------------------+--------------------+--------------------+---+--------------------+--------------------+-------+--------------------+--------------------+--------------------+-----+--------------------+\n",
      "|                  []|                  []|B01DZKZ18M|     KAMISAFE|[Tools & Home Imp...|   April 8, 2016|[<b>Coil Master</...|{null, null, null...|[1. Coil Master K...|   |[https://images-n...|Tools & Home Impr...|       |[\">#1,069,090 in ...|                    | class=\"a-keyvalu...|     |Kamisafe Coil Mas...|\n",
      "|                  []|                  []|B01DZL3M7I|             |[Tools & Home Imp...|    May 26, 2016|                  []|{null, null, null...|                  []|   |[https://images-n...|Tools & Home Impr...|       |[\">#2,108,175 in ...|                    | class=\"a-keyvalu...|     |Solar Fiber Optic...|\n",
      "|                  []|                  []|B01DZKTOYO|    ALONEFIRE|[Tools & Home Imp...|   April 7, 2016|[<b>Notice:</b><b...|{null, null, null...|[Nightlight flash...|   |[https://images-n...|Tools & Home Impr...|       |[\">#1,162,998 in ...|                    | class=\"a-keyvalu...|     |Alonefire tactica...|\n",
      "|[B011ES5L46, B06X...|                  []|B01DZLNT7Q|  Hard Crafts|[Tools & Home Imp...|   April 8, 2016|[<b> Hard Crafts ...|{null, null, null...|[1. INDUSTRY LEAD...|   |[https://images-n...|Tools & Home Impr...|       |[\">#557,392 in To...| class=\"a-bordere...| class=\"a-keyvalu...|     |Cut Resistant Glo...|\n",
      "|                  []|                  []|B01DZLRX1E|    Stickeeze|[Tools & Home Imp...|   April 8, 2016|[Looking for high...|{null, null, null...|[MADE in USA of 1...|   |[https://images-n...|          Automotive| $13.89|[\">#5,238,155 in ...|                    | class=\"a-keyvalu...|     |Check Liver Light...|\n",
      "|                  []|                  []|B01DZM3W7M|        Juyao|[Tools & Home Imp...|   April 7, 2016|[Do not use this ...|{null, null, null...|[110V, US plug, a...|   |[https://images-n...|Tools & Home Impr...|       |[\">#1,915,323 in ...|                    | class=\"a-keyvalu...|     |110V with button ...|\n",
      "|                  []|                  []|B01DZM2VN8|    GloryBear|[Tools & Home Imp...|                |[, <b>Solar Power...|{null, null, null...|[[Bigger & Bright...|   |[https://images-n...|         Amazon Home|       |[\">#416,316 in Pa...|                    |                    |     |ieGeek SensorCore...|\n",
      "|                  []|                  []|B01DZLN07K|        Hatop|[Tools & Home Imp...|                |[Feature: 100% br...|{null, null, null...|                  []|   |[https://images-n...|                Baby|  $3.99|                  []|                    |                    |     |Wall Sticker, Hat...|\n",
      "|                  []|                  []|B01DZM56DA|Rozinsanitary|                  []|December 8, 2016|                  []|{null, null, null...|                  []|   |[https://images-n...|Tools & Home Impr...|       |[\">#898,795 in To...|                    | class=\"a-keyvalu...|     |Rozin Deck Mounte...|\n",
      "|                  []|                  []|B01DZM1PWQ|    Oulantron|                  []|  April 26, 2017|                  []|{null, null, null...|                  []|   |[https://images-n...|Tools & Home Impr...|       |[\">#2,140,340 in ...|                    | class=\"a-keyvalu...|     |Oulantron Gold Co...|\n",
      "|                  []|[B0751V2H5M, B01M...|B01DZM69O0| SUNNY SHOWER|[Tools & Home Imp...|   April 8, 2016|[<li>This BP05P2 ...|{null, null, null...|[Model size: 60\" ...|   |[https://images-n...|Tools & Home Impr...|       |[\">#718,460 in To...| class=\"a-bordere...| class=\"a-keyvalu...|     |SUNNY SHOWER Full...|\n",
      "|                  []|                  []|B01DZMM8DG|        Cxuan|[Tools & Home Imp...|                |[she tool of fine...|{null, null, null...|[This set is perf...|   |[https://images-n...|Arts, Crafts & Se...|       |[\">#740,532 in Ar...|                    |                    |     |Carving tools SHE...|\n",
      "|[B00I5HRTU4, B00I...|                  []|B01DZM5QPS|       Kaixun|[Tools & Home Imp...|   April 8, 2016|[1.Convenient, ho...|{null, null, null...|[Horsepower: 1.31...|   |                  []|Tools & Home Impr...|$149.99|[\">#332,262 in To...| class=\"a-bordere...| class=\"a-keyvalu...|     |Kaixun 880 lbs. L...|\n",
      "|                  []|[B075V3K1ZJ, B01N...|B01DZMSBEQ|        Bogao|[Tools & Home Imp...|    June 7, 2016|[Size: 4PCS 8W Wa...|{null, null, null...|[TECHNICAL FEATUR...|   |[https://images-n...|Tools & Home Impr...| $15.99|[\">#180,050 in To...| class=\"a-bordere...| class=\"a-keyvalu...|     |Bogao G9 Base 88-...|\n",
      "|[B01461MOGQ, B01K...|[B075F6NTKP, B075...|B01DZM971M|     econoLED|                  []|                |[<b>Description: ...|{null, null, null...|[Easy installatio...|   |[https://images-n...|Tools & Home Impr...| $13.99|[\">#197,674 in To...|                    |                    |     |EconoLed 5M 16.4F...|\n",
      "|                  []|[B00BUIPGK0, B01I...|B01DZN35J6|       Efoxer|[Tools & Home Imp...|                |[<br><br>Features...|{null, null, null...|[Powered by USB s...|   |[https://images-n...|         Amazon Home|       |[\">#254,661 in Pa...| class=\"a-bordere...|                    |     |E-foxer LED Strin...|\n",
      "|[B00EPNK1K2, B002...|                  []|B01DZMX7T0|   VESLA HOME|[Tools & Home Imp...| January 9, 2018|[<strong>Detail I...|{null, null, null...|[Pay attention to...|   |[https://images-n...|Tools & Home Impr...|       |[\">#449,020 in To...| class=\"a-bordere...| class=\"a-keyvalu...|     |VESLA HOME Contem...|\n",
      "|                  []|                  []|B01DZN6GWO|       Cosmos|[Tools & Home Imp...|                |                  []|{null, null, 5.5 ...|[5 1/2\" long para...|   |[https://images-n...|   Sports & Outdoors|       |1,487,220 in Spor...|                    |                    |     |COSMOS 550lb (250...|\n",
      "|                  []|[B005BEL676, B00H...|B01DZN7TES|   Wilde Tool|[Tools & Home Imp...|   April 8, 2016|[7\" Cotter Key Ex...|{null, null, null...|[Pigtail Hook Des...|   |[https://images-n...|Tools & Home Impr...| $12.99|[\">#124,463 in To...|                    | class=\"a-keyvalu...|     |Wilde Tool 544 7 ...|\n",
      "|[B00I5HRTU4, B00K...|                  []|B01DZN2FQA|       Kaixun|[Tools & Home Imp...|   April 8, 2016|[Product Features...|{null, null, null...|[Horsepower: 1.6 ...|   |                  []|Tools & Home Impr...|$169.99|[\">#68,416 in Too...| class=\"a-bordere...| class=\"a-keyvalu...|     |1320 Lb Overhead ...|\n",
      "+--------------------+--------------------+----------+-------------+--------------------+----------------+--------------------+--------------------+--------------------+---+--------------------+--------------------+-------+--------------------+--------------------+--------------------+-----+--------------------+\n",
      "only showing top 20 rows\n",
      "\n"
     ]
    }
   ],
   "source": [
    "df_metadata.show()"
   ]
  },
  {
   "cell_type": "code",
   "execution_count": 24,
   "metadata": {},
   "outputs": [
    {
     "name": "stderr",
     "output_type": "stream",
     "text": [
      "[Stage 36:===================================================>     (9 + 1) / 10]\r"
     ]
    },
    {
     "name": "stdout",
     "output_type": "stream",
     "text": [
      "+----------+-----+\n",
      "|      asin|count|\n",
      "+----------+-----+\n",
      "|0975557874|   10|\n",
      "|0975455176|   10|\n",
      "|014303460X|   77|\n",
      "|B00AEVHJZY|   12|\n",
      "|B00AF49BHO|  134|\n",
      "|B00AF5FHNA|    1|\n",
      "|B000059WIG|    8|\n",
      "|B00005MDZ8|  227|\n",
      "|B00005NIMC|    2|\n",
      "|B00005NZ1M|   81|\n",
      "|B00C57A31W|    7|\n",
      "|B000003FB7|   10|\n",
      "|B000003F50|   10|\n",
      "|B000003FQI|    2|\n",
      "|B000003GDQ|    6|\n",
      "|B000003HKI|    1|\n",
      "|B000003H7A|    6|\n",
      "|B000003G38|   10|\n",
      "|B000003ISS|    2|\n",
      "|B000003JF6|    2|\n",
      "+----------+-----+\n",
      "only showing top 20 rows\n",
      "\n"
     ]
    },
    {
     "name": "stderr",
     "output_type": "stream",
     "text": [
      "                                                                                \r"
     ]
    }
   ],
   "source": [
    "df_reviews.groupBy('asin').count().show()"
   ]
  },
  {
   "cell_type": "code",
   "execution_count": 27,
   "metadata": {},
   "outputs": [],
   "source": [
    "from pyspark.sql.functions import countDistinct"
   ]
  },
  {
   "cell_type": "code",
   "execution_count": 28,
   "metadata": {},
   "outputs": [
    {
     "name": "stderr",
     "output_type": "stream",
     "text": [
      "[Stage 39:===================================================>     (9 + 1) / 10]\r"
     ]
    },
    {
     "name": "stdout",
     "output_type": "stream",
     "text": [
      "+--------------------+\n",
      "|count(DISTINCT asin)|\n",
      "+--------------------+\n",
      "|              444155|\n",
      "+--------------------+\n",
      "\n"
     ]
    },
    {
     "name": "stderr",
     "output_type": "stream",
     "text": [
      "                                                                                \r"
     ]
    }
   ],
   "source": [
    "df_reviews.select(countDistinct('asin')).show()"
   ]
  },
  {
   "cell_type": "markdown",
   "metadata": {},
   "source": [
    "## Query to get number of reviews by category (we have to join the Dataframes)"
   ]
  },
  {
   "cell_type": "markdown",
   "metadata": {},
   "source": []
  }
 ],
 "metadata": {
  "kernelspec": {
   "display_name": "factored",
   "language": "python",
   "name": "python3"
  },
  "language_info": {
   "codemirror_mode": {
    "name": "ipython",
    "version": 3
   },
   "file_extension": ".py",
   "mimetype": "text/x-python",
   "name": "python",
   "nbconvert_exporter": "python",
   "pygments_lexer": "ipython3",
   "version": "3.9.17"
  },
  "orig_nbformat": 4
 },
 "nbformat": 4,
 "nbformat_minor": 2
}
