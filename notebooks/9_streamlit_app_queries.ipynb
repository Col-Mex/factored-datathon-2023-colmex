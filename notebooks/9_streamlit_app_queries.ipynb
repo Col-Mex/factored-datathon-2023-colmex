{
 "cells": [
  {
   "cell_type": "markdown",
   "metadata": {},
   "source": [
    "# Streamlit App queries"
   ]
  },
  {
   "cell_type": "markdown",
   "metadata": {},
   "source": [
    "Return the latest date present in the `dateReview` column of the `dateReview` table.\n",
    "\n",
    "```sql\n",
    "SELECT MAX(dateReview) AS last_date\n",
    "FROM reviews;\n",
    "```"
   ]
  },
  {
   "cell_type": "markdown",
   "metadata": {},
   "source": [
    "Return a list of brands, the review date for each day within the last 30 days, and the number of reviews each brand received on each day."
   ]
  },
  {
   "cell_type": "markdown",
   "metadata": {},
   "source": [
    "How many reviews are there per brand in the last 30 days?"
   ]
  }
 ],
 "metadata": {
  "language_info": {
   "name": "python"
  },
  "orig_nbformat": 4
 },
 "nbformat": 4,
 "nbformat_minor": 2
}
