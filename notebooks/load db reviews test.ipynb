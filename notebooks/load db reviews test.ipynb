{
 "cells": [
  {
   "cell_type": "code",
   "execution_count": 9,
   "metadata": {},
   "outputs": [],
   "source": [
    "import joblib\n",
    "import gzip\n",
    "import json\n",
    "import numpy as np\n",
    "import random\n",
    "import pandas as pd\n",
    "import os\n",
    "from sqlalchemy import create_engine\n",
    "import urllib\n",
    "from azure.identity import DefaultAzureCredential\n",
    "from azure.keyvault.secrets import SecretClient\n",
    "from transformers import pipeline"
   ]
  },
  {
   "cell_type": "code",
   "execution_count": 10,
   "metadata": {},
   "outputs": [],
   "source": [
    "## Login to Azure Key Vault\n",
    "\n",
    "# replace 'my-key-vault-url' with the URL of your Azure Key Vault\n",
    "vault_url = 'https://kv-colmex.vault.azure.net/'\n",
    "\n",
    "# DefaultAzureCredential will use the credentials of your logged-in Azure account\n",
    "credential = DefaultAzureCredential()\n",
    "\n",
    "# create a SecretClient\n",
    "client = SecretClient(vault_url=vault_url, credential=credential)"
   ]
  },
  {
   "cell_type": "code",
   "execution_count": 11,
   "metadata": {},
   "outputs": [],
   "source": [
    "# Read reviews data and extract sample of 100 rows\n",
    "df = pd.read_parquet(\"../data_files/data_industry.parquet\").sample(100, random_state=5)"
   ]
  },
  {
   "cell_type": "code",
   "execution_count": 12,
   "metadata": {},
   "outputs": [
    {
     "name": "stdout",
     "output_type": "stream",
     "text": [
      "['B000UXXUSG', 'B0002Q80TA', 'B0026PI8JC', 'B000RA5BMK', 'B00EZKO8J0', 'B015724OVG', 'B005CSF1JK', 'B00E6LJBUO', 'B00505VMXY', 'B000Q6ZK3K', 'B0091KOI8K', 'B000XHE0Q0', 'B0095CC1PQ', 'B00E6LJAOG', 'B00JTE1Z8E', 'B000W3RSGE', 'B001B5L5SY', 'B00DQG8SR2', 'B000SKZIXG', 'B000IVEM5K', 'B00E6LJ2SA', 'B004QK8FBG', 'B000F7VRIC', 'B00CFRF7UY', 'B015VYC606', 'B0009XB160', 'B000K757W4', 'B0026PEQES', 'B003PDMNCC', 'B002DHLUWK', 'B015724RQI', 'B005AAWLYS', 'B002MFSRIS', 'B013XFGA6G', 'B008S0IV9G', 'B00CTTEKJW', 'B00EZQYBZ0', 'B015IHWAZW', 'B004A7JMSU', 'B01326J80Q', 'B0014X5XEK', '3959828276', 'B012F7PNPM', 'B003DU34P2', 'B0002XHAX0', 'B001C31OZY', 'B000ES4PYU', 'B00ENFVLAQ', 'B009348X7Q', 'B001C3MHTQ', 'B00EZJRS8E', 'B015NN1E0S', 'B01637RMYU', 'B000AP2X0A', 'B001B5J2UW', 'B0144NYGJY', 'B00A6TPHZS', 'B003VNCRNQ', 'B0095C08YM', 'B004Q0PT3I', 'B00005AC56', 'B00111DJQ4', 'B00M9GTHS4', 'B000X86ZAS', 'B004YHXXKO', 'B00002SANG', 'B000BZJ0LY', 'B000HCZ8EO', 'B004A7Y0UK', 'B008MR38ZM', 'B000HLT5HQ', 'B015724V9Q', 'B0026PIBK8', 'B015610ZB6', 'B0017M9ZGA', 'B01617VNBK', 'B000I3C36S', '3772397301', 'B00F8LK4SO', 'B002DHGM50', 'B00B1TGHXS', 'B00B766VZE', 'B00E6OPDUS', 'B00F8K9MZQ', 'B0009OH8IO', 'B00E6ONJJU', 'B000NPEYZ4', 'B000067G1X', 'B001ECGT8A', 'B005AAWZ3K']\n"
     ]
    }
   ],
   "source": [
    "print(df['asin'].drop_duplicates().to_list())"
   ]
  },
  {
   "cell_type": "code",
   "execution_count": 13,
   "metadata": {},
   "outputs": [],
   "source": [
    "# Select only necessary columns\n",
    "df = df[['asin', 'overall', 'reviewText', 'reviewerID', 'reviewerName',\n",
    "       'summary', 'unixReviewTime', 'verified', 'vote']]"
   ]
  },
  {
   "cell_type": "code",
   "execution_count": 14,
   "metadata": {},
   "outputs": [],
   "source": [
    "# Create column of review ID \n",
    "df['reviewID'] = df['reviewerID'] + \"-\" + df['asin'] + \"-\" + df['unixReviewTime']"
   ]
  },
  {
   "cell_type": "code",
   "execution_count": 15,
   "metadata": {},
   "outputs": [],
   "source": [
    "# Create date column based on column unixReviewTime\n",
    "df['dateReview'] = pd.to_datetime(df['unixReviewTime'].astype('int'), unit='s')"
   ]
  },
  {
   "cell_type": "code",
   "execution_count": 16,
   "metadata": {},
   "outputs": [
    {
     "name": "stderr",
     "output_type": "stream",
     "text": [
      "Some weights of the model checkpoint at cardiffnlp/twitter-roberta-base-sentiment-latest were not used when initializing RobertaForSequenceClassification: ['roberta.pooler.dense.bias', 'roberta.pooler.dense.weight']\n",
      "- This IS expected if you are initializing RobertaForSequenceClassification from the checkpoint of a model trained on another task or with another architecture (e.g. initializing a BertForSequenceClassification model from a BertForPreTraining model).\n",
      "- This IS NOT expected if you are initializing RobertaForSequenceClassification from the checkpoint of a model that you expect to be exactly identical (initializing a BertForSequenceClassification model from a BertForSequenceClassification model).\n",
      "Xformers is not installed correctly. If you want to use memory_efficient_attention to accelerate training use the following command to install Xformers\n",
      "pip install xformers.\n",
      "/home/jose/miniconda3/envs/azure_download/lib/python3.11/site-packages/transformers/pipelines/text_classification.py:104: UserWarning: `return_all_scores` is now deprecated,  if want a similar functionality use `top_k=None` instead of `return_all_scores=True` or `top_k=1` instead of `return_all_scores=False`.\n",
      "  warnings.warn(\n"
     ]
    }
   ],
   "source": [
    "# Load ML models for sentiment and emotion recognition on base of text\n",
    "model_sentiment = \"cardiffnlp/twitter-roberta-base-sentiment-latest\"\n",
    "sentiment_task = pipeline(\"sentiment-analysis\", model=model_sentiment, tokenizer=model_sentiment)\n",
    "\n",
    "model_emotion = \"j-hartmann/emotion-english-distilroberta-base\"\n",
    "emotion_task = pipeline(\"text-classification\", model=model_emotion, return_all_scores=False)"
   ]
  },
  {
   "cell_type": "code",
   "execution_count": 17,
   "metadata": {},
   "outputs": [],
   "source": [
    "# In case the review text is too long, use the summary to detect sentiment\n",
    "def safe_sentiment_task(row):\n",
    "    try:\n",
    "        return tuple(sentiment_task(row['reviewText'])[0].values())\n",
    "    except RuntimeError:\n",
    "        try:\n",
    "            return tuple(sentiment_task(row['summary'], **{\"truncation\": True, \"max_length\": 512})[0].values())\n",
    "        except (RuntimeError, IndexError):\n",
    "                return tuple('neutral', 0)\n",
    "\n",
    "# The same for emotion\n",
    "def safe_emotion_task(row):\n",
    "    try:\n",
    "        return tuple(emotion_task(row['reviewText'])[0].values())\n",
    "    except RuntimeError:\n",
    "        try:\n",
    "            return tuple(emotion_task(row['summary'], **{\"truncation\": True, \"max_length\": 512})[0].values())\n",
    "        except (RuntimeError, IndexError):\n",
    "                return tuple('neutral', 0)"
   ]
  },
  {
   "cell_type": "code",
   "execution_count": 18,
   "metadata": {},
   "outputs": [
    {
     "name": "stderr",
     "output_type": "stream",
     "text": [
      "Token indices sequence length is longer than the specified maximum sequence length for this model (1300 > 512). Running this sequence through the model will result in indexing errors\n"
     ]
    }
   ],
   "source": [
    "sentiment = df.apply(safe_sentiment_task, axis=1)\n",
    "emotion = df.apply(safe_emotion_task, axis=1)"
   ]
  },
  {
   "cell_type": "code",
   "execution_count": 19,
   "metadata": {},
   "outputs": [],
   "source": [
    "df[['sentiment', 'sentiment_score']] = pd.DataFrame(sentiment.to_list(), index=df.index)\n",
    "df[['emotion', 'emotion_score']] = pd.DataFrame(emotion.to_list(), index=df.index)"
   ]
  },
  {
   "cell_type": "code",
   "execution_count": 20,
   "metadata": {},
   "outputs": [],
   "source": [
    "# Drop columns of scores\n",
    "df.drop(columns=['sentiment_score', 'emotion_score'], inplace=True)"
   ]
  },
  {
   "cell_type": "code",
   "execution_count": 21,
   "metadata": {},
   "outputs": [
    {
     "data": {
      "text/html": [
       "<div>\n",
       "<style scoped>\n",
       "    .dataframe tbody tr th:only-of-type {\n",
       "        vertical-align: middle;\n",
       "    }\n",
       "\n",
       "    .dataframe tbody tr th {\n",
       "        vertical-align: top;\n",
       "    }\n",
       "\n",
       "    .dataframe thead th {\n",
       "        text-align: right;\n",
       "    }\n",
       "</style>\n",
       "<table border=\"1\" class=\"dataframe\">\n",
       "  <thead>\n",
       "    <tr style=\"text-align: right;\">\n",
       "      <th>sentiment</th>\n",
       "      <th>negative</th>\n",
       "      <th>neutral</th>\n",
       "      <th>positive</th>\n",
       "      <th>All</th>\n",
       "    </tr>\n",
       "    <tr>\n",
       "      <th>emotion</th>\n",
       "      <th></th>\n",
       "      <th></th>\n",
       "      <th></th>\n",
       "      <th></th>\n",
       "    </tr>\n",
       "  </thead>\n",
       "  <tbody>\n",
       "    <tr>\n",
       "      <th>anger</th>\n",
       "      <td>3.0</td>\n",
       "      <td>NaN</td>\n",
       "      <td>3.0</td>\n",
       "      <td>6</td>\n",
       "    </tr>\n",
       "    <tr>\n",
       "      <th>disgust</th>\n",
       "      <td>5.0</td>\n",
       "      <td>1.0</td>\n",
       "      <td>NaN</td>\n",
       "      <td>6</td>\n",
       "    </tr>\n",
       "    <tr>\n",
       "      <th>fear</th>\n",
       "      <td>1.0</td>\n",
       "      <td>1.0</td>\n",
       "      <td>1.0</td>\n",
       "      <td>3</td>\n",
       "    </tr>\n",
       "    <tr>\n",
       "      <th>joy</th>\n",
       "      <td>NaN</td>\n",
       "      <td>1.0</td>\n",
       "      <td>20.0</td>\n",
       "      <td>21</td>\n",
       "    </tr>\n",
       "    <tr>\n",
       "      <th>neutral</th>\n",
       "      <td>13.0</td>\n",
       "      <td>9.0</td>\n",
       "      <td>27.0</td>\n",
       "      <td>49</td>\n",
       "    </tr>\n",
       "    <tr>\n",
       "      <th>sadness</th>\n",
       "      <td>10.0</td>\n",
       "      <td>NaN</td>\n",
       "      <td>NaN</td>\n",
       "      <td>10</td>\n",
       "    </tr>\n",
       "    <tr>\n",
       "      <th>surprise</th>\n",
       "      <td>1.0</td>\n",
       "      <td>NaN</td>\n",
       "      <td>4.0</td>\n",
       "      <td>5</td>\n",
       "    </tr>\n",
       "    <tr>\n",
       "      <th>All</th>\n",
       "      <td>33.0</td>\n",
       "      <td>12.0</td>\n",
       "      <td>55.0</td>\n",
       "      <td>100</td>\n",
       "    </tr>\n",
       "  </tbody>\n",
       "</table>\n",
       "</div>"
      ],
      "text/plain": [
       "sentiment  negative  neutral  positive  All\n",
       "emotion                                    \n",
       "anger           3.0      NaN       3.0    6\n",
       "disgust         5.0      1.0       NaN    6\n",
       "fear            1.0      1.0       1.0    3\n",
       "joy             NaN      1.0      20.0   21\n",
       "neutral        13.0      9.0      27.0   49\n",
       "sadness        10.0      NaN       NaN   10\n",
       "surprise        1.0      NaN       4.0    5\n",
       "All            33.0     12.0      55.0  100"
      ]
     },
     "execution_count": 21,
     "metadata": {},
     "output_type": "execute_result"
    }
   ],
   "source": [
    "df.pivot_table(columns=['sentiment'], index=['emotion'], aggfunc='count', values='reviewID', margins=True)"
   ]
  },
  {
   "cell_type": "code",
   "execution_count": 22,
   "metadata": {},
   "outputs": [
    {
     "data": {
      "text/plain": [
       "Index(['asin', 'overall', 'reviewText', 'reviewerID', 'reviewerName',\n",
       "       'summary', 'unixReviewTime', 'verified', 'vote', 'reviewID',\n",
       "       'dateReview', 'sentiment', 'emotion'],\n",
       "      dtype='object')"
      ]
     },
     "execution_count": 22,
     "metadata": {},
     "output_type": "execute_result"
    }
   ],
   "source": [
    "df.columns"
   ]
  },
  {
   "cell_type": "code",
   "execution_count": 23,
   "metadata": {},
   "outputs": [],
   "source": [
    "# Drop duplicates\n",
    "df.drop_duplicates(subset=['reviewID'], inplace=True)"
   ]
  },
  {
   "cell_type": "code",
   "execution_count": 24,
   "metadata": {},
   "outputs": [
    {
     "data": {
      "text/plain": [
       "100"
      ]
     },
     "execution_count": 24,
     "metadata": {},
     "output_type": "execute_result"
    }
   ],
   "source": [
    "# parameters\n",
    "server = client.get_secret('db-server').value\n",
    "database = client.get_secret('database').value\n",
    "username = client.get_secret('db-username').value\n",
    "password = client.get_secret('db-password').value\n",
    "driver = '{ODBC Driver 17 for SQL Server}'\n",
    "table = 'reviews_test'\n",
    "\n",
    "# create the connection string\n",
    "params = urllib.parse.quote_plus(\n",
    "    f'DRIVER={driver};SERVER={server};DATABASE={database};UID={username};PWD={password}')\n",
    "\n",
    "engine = create_engine(f'mssql+pyodbc:///?odbc_connect={params}')\n",
    "\n",
    "df.to_sql(f'{table}', con=engine, if_exists='append', index=False)"
   ]
  }
 ],
 "metadata": {
  "kernelspec": {
   "display_name": "azure_download",
   "language": "python",
   "name": "python3"
  },
  "language_info": {
   "codemirror_mode": {
    "name": "ipython",
    "version": 3
   },
   "file_extension": ".py",
   "mimetype": "text/x-python",
   "name": "python",
   "nbconvert_exporter": "python",
   "pygments_lexer": "ipython3",
   "version": "3.11.4"
  },
  "orig_nbformat": 4
 },
 "nbformat": 4,
 "nbformat_minor": 2
}
