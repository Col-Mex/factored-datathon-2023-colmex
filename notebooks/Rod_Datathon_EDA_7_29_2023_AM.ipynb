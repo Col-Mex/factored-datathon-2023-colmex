{
 "cells": [
  {
   "cell_type": "markdown",
   "id": "e64f2bee",
   "metadata": {},
   "source": [
    "*7.29.2023 AM*"
   ]
  },
  {
   "cell_type": "markdown",
   "id": "3f2d01aa",
   "metadata": {},
   "source": [
    "<div class=\"alert alert-block alert-success\">\n",
    "<center><h1><b> Datathon Initial Category Exploratory Data Analysis / Data Understanding </b></h1></center>\n",
    "<center><h2><b> Part I </b></h2></center>\n",
    "\n",
    "<br/> \n",
    "\n",
    "\n",
    "Objectives:\n",
    "\n",
    "    *   Understand the data with a) Descriptive/Summary Statistics and b) Data Visualization (graphs/charts/tables)\n",
    "    *   Determine if data makes sense\n",
    "    *   Identify data patterns/trends/gain insights    \n",
    "    *   Identify key Vars\n",
    "    *   Determine if data wrangling/cleaning/scrub is needed (identify imperfections/probls in the data)\n",
    "    \n",
    "\n",
    "</div>"
   ]
  },
  {
   "cell_type": "markdown",
   "id": "e2e1617f",
   "metadata": {},
   "source": [
    "***"
   ]
  },
  {
   "cell_type": "markdown",
   "id": "0ad3e4da",
   "metadata": {},
   "source": [
    "# Data Collection"
   ]
  },
  {
   "cell_type": "markdown",
   "id": "b6e26108",
   "metadata": {},
   "source": [
    "## Imports and dataset extraction\n",
    "\n",
    "> Getting started"
   ]
  },
  {
   "cell_type": "code",
   "execution_count": 1,
   "id": "6ca007e6",
   "metadata": {},
   "outputs": [],
   "source": [
    "#pip install pandas pyarrow"
   ]
  },
  {
   "cell_type": "code",
   "execution_count": 2,
   "id": "9a4cad3a",
   "metadata": {},
   "outputs": [],
   "source": [
    "import numpy as np\n",
    "import pandas as pd\n",
    "import matplotlib.pyplot as plt\n",
    "import seaborn as sns\n",
    "import pyarrow\n"
   ]
  },
  {
   "cell_type": "code",
   "execution_count": 3,
   "id": "1f56b5ac",
   "metadata": {},
   "outputs": [],
   "source": [
    "# Rod's standard variable for a DataFrame is ds as acronym for data set\n",
    "\n",
    "\n",
    "datathon_metadata_pkt_file = \"/Users/dslab/Downloads/reviews_sample_1p.parquet\"\n",
    "ds = pd.read_parquet(datathon_metadata_pkt_file, engine='pyarrow')\n"
   ]
  },
  {
   "cell_type": "code",
   "execution_count": 4,
   "id": "d3190590",
   "metadata": {},
   "outputs": [],
   "source": [
    "# If we also analyze the metadata over here, it is handy\n",
    "\n",
    "#datathon_metadata_pkt_file = \"/Users/dslab/Downloads/metadata_sample_1p.parquet\"\n",
    "#mds = pd.read_parquet(datathon_metadata_pkt_file, engine='pyarrow')\n"
   ]
  },
  {
   "cell_type": "markdown",
   "id": "8898c454",
   "metadata": {},
   "source": [
    "# Business/Data Understanding"
   ]
  },
  {
   "cell_type": "markdown",
   "id": "84f92bb9",
   "metadata": {},
   "source": [
    "## Read dataset\n",
    "\n",
    "> Basic data/business understanding"
   ]
  },
  {
   "cell_type": "code",
   "execution_count": 5,
   "id": "3a0b71aa",
   "metadata": {},
   "outputs": [
    {
     "data": {
      "text/plain": [
       "(1499752, 11)"
      ]
     },
     "execution_count": 5,
     "metadata": {},
     "output_type": "execute_result"
    }
   ],
   "source": [
    "ds.shape"
   ]
  },
  {
   "cell_type": "code",
   "execution_count": 6,
   "id": "4f96fb3b",
   "metadata": {},
   "outputs": [
    {
     "data": {
      "text/html": [
       "<div>\n",
       "<style scoped>\n",
       "    .dataframe tbody tr th:only-of-type {\n",
       "        vertical-align: middle;\n",
       "    }\n",
       "\n",
       "    .dataframe tbody tr th {\n",
       "        vertical-align: top;\n",
       "    }\n",
       "\n",
       "    .dataframe thead th {\n",
       "        text-align: right;\n",
       "    }\n",
       "</style>\n",
       "<table border=\"1\" class=\"dataframe\">\n",
       "  <thead>\n",
       "    <tr style=\"text-align: right;\">\n",
       "      <th></th>\n",
       "      <th>asin</th>\n",
       "      <th>overall</th>\n",
       "      <th>reviewText</th>\n",
       "      <th>reviewerID</th>\n",
       "      <th>reviewerName</th>\n",
       "      <th>style</th>\n",
       "      <th>summary</th>\n",
       "      <th>unixReviewTime</th>\n",
       "      <th>verified</th>\n",
       "      <th>vote</th>\n",
       "      <th>image</th>\n",
       "    </tr>\n",
       "  </thead>\n",
       "  <tbody>\n",
       "    <tr>\n",
       "      <th>0</th>\n",
       "      <td>B00CGYCNZI</td>\n",
       "      <td>4.0</td>\n",
       "      <td>I have used Panasonic and GE earlier as my cor...</td>\n",
       "      <td>AOZOE2033AQK</td>\n",
       "      <td>Ramesh</td>\n",
       "      <td>{\"Style:\":\" 2 Handset\"}</td>\n",
       "      <td>Worth the Value and Love it..</td>\n",
       "      <td>1472342400</td>\n",
       "      <td>true</td>\n",
       "      <td>None</td>\n",
       "      <td>None</td>\n",
       "    </tr>\n",
       "    <tr>\n",
       "      <th>1</th>\n",
       "      <td>B000V8CZYA</td>\n",
       "      <td>2.0</td>\n",
       "      <td>The sound quality is great, but a bit of cosme...</td>\n",
       "      <td>A1AJFYLPI8M1LI</td>\n",
       "      <td>Buyer in Texas</td>\n",
       "      <td>None</td>\n",
       "      <td>Expensive, hard to navigate menus</td>\n",
       "      <td>1196553600</td>\n",
       "      <td>true</td>\n",
       "      <td>None</td>\n",
       "      <td>None</td>\n",
       "    </tr>\n",
       "  </tbody>\n",
       "</table>\n",
       "</div>"
      ],
      "text/plain": [
       "         asin overall                                         reviewText  \\\n",
       "0  B00CGYCNZI     4.0  I have used Panasonic and GE earlier as my cor...   \n",
       "1  B000V8CZYA     2.0  The sound quality is great, but a bit of cosme...   \n",
       "\n",
       "       reviewerID    reviewerName                    style  \\\n",
       "0    AOZOE2033AQK          Ramesh  {\"Style:\":\" 2 Handset\"}   \n",
       "1  A1AJFYLPI8M1LI  Buyer in Texas                     None   \n",
       "\n",
       "                             summary unixReviewTime verified  vote image  \n",
       "0      Worth the Value and Love it..     1472342400     true  None  None  \n",
       "1  Expensive, hard to navigate menus     1196553600     true  None  None  "
      ]
     },
     "execution_count": 6,
     "metadata": {},
     "output_type": "execute_result"
    }
   ],
   "source": [
    "ds.head(2)"
   ]
  },
  {
   "cell_type": "code",
   "execution_count": 7,
   "id": "69b7ccda",
   "metadata": {},
   "outputs": [
    {
     "data": {
      "text/html": [
       "<div>\n",
       "<style scoped>\n",
       "    .dataframe tbody tr th:only-of-type {\n",
       "        vertical-align: middle;\n",
       "    }\n",
       "\n",
       "    .dataframe tbody tr th {\n",
       "        vertical-align: top;\n",
       "    }\n",
       "\n",
       "    .dataframe thead th {\n",
       "        text-align: right;\n",
       "    }\n",
       "</style>\n",
       "<table border=\"1\" class=\"dataframe\">\n",
       "  <thead>\n",
       "    <tr style=\"text-align: right;\">\n",
       "      <th></th>\n",
       "      <th>asin</th>\n",
       "      <th>overall</th>\n",
       "      <th>reviewText</th>\n",
       "      <th>reviewerID</th>\n",
       "      <th>reviewerName</th>\n",
       "      <th>style</th>\n",
       "      <th>summary</th>\n",
       "      <th>unixReviewTime</th>\n",
       "      <th>verified</th>\n",
       "      <th>vote</th>\n",
       "      <th>image</th>\n",
       "    </tr>\n",
       "  </thead>\n",
       "  <tbody>\n",
       "    <tr>\n",
       "      <th>55931</th>\n",
       "      <td>0356500624</td>\n",
       "      <td>5.0</td>\n",
       "      <td>Patricia has us following Mercy through numero...</td>\n",
       "      <td>A36LAGWPKOKH1R</td>\n",
       "      <td>Elaine Hopkins</td>\n",
       "      <td>{\"Format:\":\" Kindle Edition\"}</td>\n",
       "      <td>Mercy in a familiar situation</td>\n",
       "      <td>1394496000</td>\n",
       "      <td>false</td>\n",
       "      <td>None</td>\n",
       "      <td>None</td>\n",
       "    </tr>\n",
       "    <tr>\n",
       "      <th>55932</th>\n",
       "      <td>B00GTU2WJ2</td>\n",
       "      <td>5.0</td>\n",
       "      <td>I was a little worried at first that the grate...</td>\n",
       "      <td>A2PNIJMDXGD9WI</td>\n",
       "      <td>Chrystal Mahan</td>\n",
       "      <td>None</td>\n",
       "      <td>Another Utensil to Add to My Collection</td>\n",
       "      <td>1391990400</td>\n",
       "      <td>false</td>\n",
       "      <td>None</td>\n",
       "      <td>None</td>\n",
       "    </tr>\n",
       "  </tbody>\n",
       "</table>\n",
       "</div>"
      ],
      "text/plain": [
       "             asin overall                                         reviewText  \\\n",
       "55931  0356500624     5.0  Patricia has us following Mercy through numero...   \n",
       "55932  B00GTU2WJ2     5.0  I was a little worried at first that the grate...   \n",
       "\n",
       "           reviewerID    reviewerName                          style  \\\n",
       "55931  A36LAGWPKOKH1R  Elaine Hopkins  {\"Format:\":\" Kindle Edition\"}   \n",
       "55932  A2PNIJMDXGD9WI  Chrystal Mahan                           None   \n",
       "\n",
       "                                       summary unixReviewTime verified  vote  \\\n",
       "55931            Mercy in a familiar situation     1394496000    false  None   \n",
       "55932  Another Utensil to Add to My Collection     1391990400    false  None   \n",
       "\n",
       "      image  \n",
       "55931  None  \n",
       "55932  None  "
      ]
     },
     "execution_count": 7,
     "metadata": {},
     "output_type": "execute_result"
    }
   ],
   "source": [
    "ds.tail(2)"
   ]
  },
  {
   "cell_type": "code",
   "execution_count": 8,
   "id": "30ce915b",
   "metadata": {},
   "outputs": [
    {
     "data": {
      "text/html": [
       "<div>\n",
       "<style scoped>\n",
       "    .dataframe tbody tr th:only-of-type {\n",
       "        vertical-align: middle;\n",
       "    }\n",
       "\n",
       "    .dataframe tbody tr th {\n",
       "        vertical-align: top;\n",
       "    }\n",
       "\n",
       "    .dataframe thead th {\n",
       "        text-align: right;\n",
       "    }\n",
       "</style>\n",
       "<table border=\"1\" class=\"dataframe\">\n",
       "  <thead>\n",
       "    <tr style=\"text-align: right;\">\n",
       "      <th></th>\n",
       "      <th>asin</th>\n",
       "      <th>overall</th>\n",
       "      <th>reviewText</th>\n",
       "      <th>reviewerID</th>\n",
       "      <th>reviewerName</th>\n",
       "      <th>style</th>\n",
       "      <th>summary</th>\n",
       "      <th>unixReviewTime</th>\n",
       "      <th>verified</th>\n",
       "      <th>vote</th>\n",
       "      <th>image</th>\n",
       "    </tr>\n",
       "  </thead>\n",
       "  <tbody>\n",
       "    <tr>\n",
       "      <th>0</th>\n",
       "      <td>B00CGYCNZI</td>\n",
       "      <td>4.0</td>\n",
       "      <td>I have used Panasonic and GE earlier as my cor...</td>\n",
       "      <td>AOZOE2033AQK</td>\n",
       "      <td>Ramesh</td>\n",
       "      <td>{\"Style:\":\" 2 Handset\"}</td>\n",
       "      <td>Worth the Value and Love it..</td>\n",
       "      <td>1472342400</td>\n",
       "      <td>true</td>\n",
       "      <td>None</td>\n",
       "      <td>None</td>\n",
       "    </tr>\n",
       "    <tr>\n",
       "      <th>1</th>\n",
       "      <td>B000V8CZYA</td>\n",
       "      <td>2.0</td>\n",
       "      <td>The sound quality is great, but a bit of cosme...</td>\n",
       "      <td>A1AJFYLPI8M1LI</td>\n",
       "      <td>Buyer in Texas</td>\n",
       "      <td>None</td>\n",
       "      <td>Expensive, hard to navigate menus</td>\n",
       "      <td>1196553600</td>\n",
       "      <td>true</td>\n",
       "      <td>None</td>\n",
       "      <td>None</td>\n",
       "    </tr>\n",
       "    <tr>\n",
       "      <th>2</th>\n",
       "      <td>B00CGYCNZI</td>\n",
       "      <td>2.0</td>\n",
       "      <td>did not last very long no longer working</td>\n",
       "      <td>A2X5NQN9TH9UUX</td>\n",
       "      <td>rufino maduena</td>\n",
       "      <td>{\"Style:\":\" 2 Handset\"}</td>\n",
       "      <td>Two Stars</td>\n",
       "      <td>1471996800</td>\n",
       "      <td>true</td>\n",
       "      <td>None</td>\n",
       "      <td>None</td>\n",
       "    </tr>\n",
       "    <tr>\n",
       "      <th>3</th>\n",
       "      <td>B000V8CZYA</td>\n",
       "      <td>3.0</td>\n",
       "      <td>I purchased the original iFP-100 series (iFP-1...</td>\n",
       "      <td>A2J8DK06LK1ULY</td>\n",
       "      <td>R. H. Lee</td>\n",
       "      <td>None</td>\n",
       "      <td>As they say, they don't make 'em like they use...</td>\n",
       "      <td>1196208000</td>\n",
       "      <td>true</td>\n",
       "      <td>None</td>\n",
       "      <td>None</td>\n",
       "    </tr>\n",
       "    <tr>\n",
       "      <th>4</th>\n",
       "      <td>B00CGYCNZI</td>\n",
       "      <td>5.0</td>\n",
       "      <td>Work very well.</td>\n",
       "      <td>A1YH5WS62ADB7M</td>\n",
       "      <td>Amazon Customer</td>\n",
       "      <td>{\"Style:\":\" 2 Handset\"}</td>\n",
       "      <td>Five Stars</td>\n",
       "      <td>1471651200</td>\n",
       "      <td>true</td>\n",
       "      <td>None</td>\n",
       "      <td>None</td>\n",
       "    </tr>\n",
       "    <tr>\n",
       "      <th>...</th>\n",
       "      <td>...</td>\n",
       "      <td>...</td>\n",
       "      <td>...</td>\n",
       "      <td>...</td>\n",
       "      <td>...</td>\n",
       "      <td>...</td>\n",
       "      <td>...</td>\n",
       "      <td>...</td>\n",
       "      <td>...</td>\n",
       "      <td>...</td>\n",
       "      <td>...</td>\n",
       "    </tr>\n",
       "    <tr>\n",
       "      <th>55928</th>\n",
       "      <td>B00GTU2WJ2</td>\n",
       "      <td>5.0</td>\n",
       "      <td>Have you ever noticed that a smell can transpo...</td>\n",
       "      <td>A30X9M0J5WOVAS</td>\n",
       "      <td>Amazon Customer</td>\n",
       "      <td>None</td>\n",
       "      <td>No Cook Should be Without One!</td>\n",
       "      <td>1392508800</td>\n",
       "      <td>false</td>\n",
       "      <td>19</td>\n",
       "      <td>None</td>\n",
       "    </tr>\n",
       "    <tr>\n",
       "      <th>55929</th>\n",
       "      <td>0356500624</td>\n",
       "      <td>5.0</td>\n",
       "      <td>I have read all of the Mercy Thompson books mu...</td>\n",
       "      <td>AGPGV5MAAB9GE</td>\n",
       "      <td>S Luedtke</td>\n",
       "      <td>{\"Format:\":\" Kindle Edition\"}</td>\n",
       "      <td>I wish I could meet these characters!</td>\n",
       "      <td>1394668800</td>\n",
       "      <td>true</td>\n",
       "      <td>None</td>\n",
       "      <td>None</td>\n",
       "    </tr>\n",
       "    <tr>\n",
       "      <th>55930</th>\n",
       "      <td>B00GTU2WJ2</td>\n",
       "      <td>5.0</td>\n",
       "      <td>Love the weight and length of this product, it...</td>\n",
       "      <td>A3HH4SFN5P4W6H</td>\n",
       "      <td>StephyG</td>\n",
       "      <td>None</td>\n",
       "      <td>practical and pretty</td>\n",
       "      <td>1392422400</td>\n",
       "      <td>false</td>\n",
       "      <td>None</td>\n",
       "      <td>None</td>\n",
       "    </tr>\n",
       "    <tr>\n",
       "      <th>55931</th>\n",
       "      <td>0356500624</td>\n",
       "      <td>5.0</td>\n",
       "      <td>Patricia has us following Mercy through numero...</td>\n",
       "      <td>A36LAGWPKOKH1R</td>\n",
       "      <td>Elaine Hopkins</td>\n",
       "      <td>{\"Format:\":\" Kindle Edition\"}</td>\n",
       "      <td>Mercy in a familiar situation</td>\n",
       "      <td>1394496000</td>\n",
       "      <td>false</td>\n",
       "      <td>None</td>\n",
       "      <td>None</td>\n",
       "    </tr>\n",
       "    <tr>\n",
       "      <th>55932</th>\n",
       "      <td>B00GTU2WJ2</td>\n",
       "      <td>5.0</td>\n",
       "      <td>I was a little worried at first that the grate...</td>\n",
       "      <td>A2PNIJMDXGD9WI</td>\n",
       "      <td>Chrystal Mahan</td>\n",
       "      <td>None</td>\n",
       "      <td>Another Utensil to Add to My Collection</td>\n",
       "      <td>1391990400</td>\n",
       "      <td>false</td>\n",
       "      <td>None</td>\n",
       "      <td>None</td>\n",
       "    </tr>\n",
       "  </tbody>\n",
       "</table>\n",
       "<p>1499752 rows × 11 columns</p>\n",
       "</div>"
      ],
      "text/plain": [
       "             asin overall                                         reviewText  \\\n",
       "0      B00CGYCNZI     4.0  I have used Panasonic and GE earlier as my cor...   \n",
       "1      B000V8CZYA     2.0  The sound quality is great, but a bit of cosme...   \n",
       "2      B00CGYCNZI     2.0           did not last very long no longer working   \n",
       "3      B000V8CZYA     3.0  I purchased the original iFP-100 series (iFP-1...   \n",
       "4      B00CGYCNZI     5.0                                    Work very well.   \n",
       "...           ...     ...                                                ...   \n",
       "55928  B00GTU2WJ2     5.0  Have you ever noticed that a smell can transpo...   \n",
       "55929  0356500624     5.0  I have read all of the Mercy Thompson books mu...   \n",
       "55930  B00GTU2WJ2     5.0  Love the weight and length of this product, it...   \n",
       "55931  0356500624     5.0  Patricia has us following Mercy through numero...   \n",
       "55932  B00GTU2WJ2     5.0  I was a little worried at first that the grate...   \n",
       "\n",
       "           reviewerID     reviewerName                          style  \\\n",
       "0        AOZOE2033AQK           Ramesh        {\"Style:\":\" 2 Handset\"}   \n",
       "1      A1AJFYLPI8M1LI   Buyer in Texas                           None   \n",
       "2      A2X5NQN9TH9UUX   rufino maduena        {\"Style:\":\" 2 Handset\"}   \n",
       "3      A2J8DK06LK1ULY        R. H. Lee                           None   \n",
       "4      A1YH5WS62ADB7M  Amazon Customer        {\"Style:\":\" 2 Handset\"}   \n",
       "...               ...              ...                            ...   \n",
       "55928  A30X9M0J5WOVAS  Amazon Customer                           None   \n",
       "55929   AGPGV5MAAB9GE        S Luedtke  {\"Format:\":\" Kindle Edition\"}   \n",
       "55930  A3HH4SFN5P4W6H          StephyG                           None   \n",
       "55931  A36LAGWPKOKH1R   Elaine Hopkins  {\"Format:\":\" Kindle Edition\"}   \n",
       "55932  A2PNIJMDXGD9WI   Chrystal Mahan                           None   \n",
       "\n",
       "                                                 summary unixReviewTime  \\\n",
       "0                          Worth the Value and Love it..     1472342400   \n",
       "1                      Expensive, hard to navigate menus     1196553600   \n",
       "2                                              Two Stars     1471996800   \n",
       "3      As they say, they don't make 'em like they use...     1196208000   \n",
       "4                                             Five Stars     1471651200   \n",
       "...                                                  ...            ...   \n",
       "55928                     No Cook Should be Without One!     1392508800   \n",
       "55929              I wish I could meet these characters!     1394668800   \n",
       "55930                               practical and pretty     1392422400   \n",
       "55931                      Mercy in a familiar situation     1394496000   \n",
       "55932            Another Utensil to Add to My Collection     1391990400   \n",
       "\n",
       "      verified  vote image  \n",
       "0         true  None  None  \n",
       "1         true  None  None  \n",
       "2         true  None  None  \n",
       "3         true  None  None  \n",
       "4         true  None  None  \n",
       "...        ...   ...   ...  \n",
       "55928    false    19  None  \n",
       "55929     true  None  None  \n",
       "55930    false  None  None  \n",
       "55931    false  None  None  \n",
       "55932    false  None  None  \n",
       "\n",
       "[1499752 rows x 11 columns]"
      ]
     },
     "execution_count": 8,
     "metadata": {},
     "output_type": "execute_result"
    }
   ],
   "source": [
    "ds"
   ]
  },
  {
   "cell_type": "code",
   "execution_count": 9,
   "id": "66363781",
   "metadata": {},
   "outputs": [
    {
     "data": {
      "text/plain": [
       "Index(['asin', 'overall', 'reviewText', 'reviewerID', 'reviewerName', 'style',\n",
       "       'summary', 'unixReviewTime', 'verified', 'vote', 'image'],\n",
       "      dtype='object')"
      ]
     },
     "execution_count": 9,
     "metadata": {},
     "output_type": "execute_result"
    }
   ],
   "source": [
    "ds.columns"
   ]
  },
  {
   "cell_type": "code",
   "execution_count": 10,
   "id": "fc42ee82",
   "metadata": {},
   "outputs": [
    {
     "data": {
      "text/plain": [
       "asin              object\n",
       "overall           object\n",
       "reviewText        object\n",
       "reviewerID        object\n",
       "reviewerName      object\n",
       "style             object\n",
       "summary           object\n",
       "unixReviewTime    object\n",
       "verified          object\n",
       "vote              object\n",
       "image             object\n",
       "dtype: object"
      ]
     },
     "execution_count": 10,
     "metadata": {},
     "output_type": "execute_result"
    }
   ],
   "source": [
    "ds.dtypes"
   ]
  },
  {
   "cell_type": "code",
   "execution_count": 11,
   "id": "460493ef",
   "metadata": {},
   "outputs": [
    {
     "data": {
      "text/html": [
       "<div>\n",
       "<style scoped>\n",
       "    .dataframe tbody tr th:only-of-type {\n",
       "        vertical-align: middle;\n",
       "    }\n",
       "\n",
       "    .dataframe tbody tr th {\n",
       "        vertical-align: top;\n",
       "    }\n",
       "\n",
       "    .dataframe thead th {\n",
       "        text-align: right;\n",
       "    }\n",
       "</style>\n",
       "<table border=\"1\" class=\"dataframe\">\n",
       "  <thead>\n",
       "    <tr style=\"text-align: right;\">\n",
       "      <th></th>\n",
       "      <th>asin</th>\n",
       "      <th>overall</th>\n",
       "      <th>reviewText</th>\n",
       "      <th>reviewerID</th>\n",
       "      <th>reviewerName</th>\n",
       "      <th>style</th>\n",
       "      <th>summary</th>\n",
       "      <th>unixReviewTime</th>\n",
       "      <th>verified</th>\n",
       "      <th>vote</th>\n",
       "      <th>image</th>\n",
       "    </tr>\n",
       "  </thead>\n",
       "  <tbody>\n",
       "    <tr>\n",
       "      <th>count</th>\n",
       "      <td>1499752</td>\n",
       "      <td>1499752</td>\n",
       "      <td>1498878</td>\n",
       "      <td>1499752</td>\n",
       "      <td>1499677</td>\n",
       "      <td>1010222</td>\n",
       "      <td>1499318</td>\n",
       "      <td>1499752</td>\n",
       "      <td>1499752</td>\n",
       "      <td>232669</td>\n",
       "      <td>22240</td>\n",
       "    </tr>\n",
       "    <tr>\n",
       "      <th>unique</th>\n",
       "      <td>129876</td>\n",
       "      <td>5</td>\n",
       "      <td>1386614</td>\n",
       "      <td>1300682</td>\n",
       "      <td>848318</td>\n",
       "      <td>36302</td>\n",
       "      <td>835518</td>\n",
       "      <td>7476</td>\n",
       "      <td>2</td>\n",
       "      <td>443</td>\n",
       "      <td>22181</td>\n",
       "    </tr>\n",
       "    <tr>\n",
       "      <th>top</th>\n",
       "      <td>B00571F26Y</td>\n",
       "      <td>5.0</td>\n",
       "      <td>Great</td>\n",
       "      <td>A2F6N60Z96CAJI</td>\n",
       "      <td>Amazon Customer</td>\n",
       "      <td>{\"Format:\":\" Kindle Edition\"}</td>\n",
       "      <td>Five Stars</td>\n",
       "      <td>1461024000</td>\n",
       "      <td>true</td>\n",
       "      <td>2</td>\n",
       "      <td>[\"88\"]</td>\n",
       "    </tr>\n",
       "    <tr>\n",
       "      <th>freq</th>\n",
       "      <td>6114</td>\n",
       "      <td>942098</td>\n",
       "      <td>2719</td>\n",
       "      <td>136</td>\n",
       "      <td>110843</td>\n",
       "      <td>277609</td>\n",
       "      <td>248136</td>\n",
       "      <td>1902</td>\n",
       "      <td>1196297</td>\n",
       "      <td>79233</td>\n",
       "      <td>9</td>\n",
       "    </tr>\n",
       "  </tbody>\n",
       "</table>\n",
       "</div>"
      ],
      "text/plain": [
       "              asin  overall reviewText      reviewerID     reviewerName  \\\n",
       "count      1499752  1499752    1498878         1499752          1499677   \n",
       "unique      129876        5    1386614         1300682           848318   \n",
       "top     B00571F26Y      5.0      Great  A2F6N60Z96CAJI  Amazon Customer   \n",
       "freq          6114   942098       2719             136           110843   \n",
       "\n",
       "                                style     summary unixReviewTime verified  \\\n",
       "count                         1010222     1499318        1499752  1499752   \n",
       "unique                          36302      835518           7476        2   \n",
       "top     {\"Format:\":\" Kindle Edition\"}  Five Stars     1461024000     true   \n",
       "freq                           277609      248136           1902  1196297   \n",
       "\n",
       "          vote   image  \n",
       "count   232669   22240  \n",
       "unique     443   22181  \n",
       "top          2  [\"88\"]  \n",
       "freq     79233       9  "
      ]
     },
     "execution_count": 11,
     "metadata": {},
     "output_type": "execute_result"
    }
   ],
   "source": [
    "ds.describe()"
   ]
  },
  {
   "cell_type": "code",
   "execution_count": 12,
   "id": "b4a24454",
   "metadata": {},
   "outputs": [
    {
     "data": {
      "text/plain": [
       "asin                    0\n",
       "overall                 0\n",
       "reviewText            874\n",
       "reviewerID              0\n",
       "reviewerName           75\n",
       "style              489530\n",
       "summary               434\n",
       "unixReviewTime          0\n",
       "verified                0\n",
       "vote              1267083\n",
       "image             1477512\n",
       "dtype: int64"
      ]
     },
     "execution_count": 12,
     "metadata": {},
     "output_type": "execute_result"
    }
   ],
   "source": [
    "ds.isna().sum()"
   ]
  },
  {
   "cell_type": "code",
   "execution_count": 13,
   "id": "23975766",
   "metadata": {},
   "outputs": [
    {
     "data": {
      "text/plain": [
       "B00571F26Y    6114\n",
       "0349403759    5196\n",
       "1463717091    4848\n",
       "B0002UPGOI    4400\n",
       "B00M0DGBRQ    4244\n",
       "              ... \n",
       "B00GO1SFB0       1\n",
       "B000I97FCY       1\n",
       "1974318524       1\n",
       "B00GO3KL9C       1\n",
       "0841608792       1\n",
       "Name: asin, Length: 129876, dtype: int64"
      ]
     },
     "execution_count": 13,
     "metadata": {},
     "output_type": "execute_result"
    }
   ],
   "source": [
    "ds[\"asin\"].value_counts()"
   ]
  },
  {
   "cell_type": "code",
   "execution_count": 14,
   "id": "7c0d57a4",
   "metadata": {},
   "outputs": [
    {
     "data": {
      "text/plain": [
       "5.0    942098\n",
       "4.0    249879\n",
       "3.0    118182\n",
       "1.0    117964\n",
       "2.0     71629\n",
       "Name: overall, dtype: int64"
      ]
     },
     "execution_count": 14,
     "metadata": {},
     "output_type": "execute_result"
    }
   ],
   "source": [
    "ds[\"overall\"].value_counts()"
   ]
  },
  {
   "cell_type": "markdown",
   "id": "78a2759b",
   "metadata": {},
   "source": [
    "## Initial observations\n",
    "\n",
    "***\n",
    "\n",
    "- We are going to need transformations as all items are data type Object(strings).\n",
    "- We shall drop the columns:  *image, vote, and style* per low information gain (and many NaN values).\n",
    "- Columns *reviewerID and reviewerName* are related yet reviewerID is free of missing values, thus removing the *reviewerName* column as well\n",
    "- Suggest changing name to *overall* into **score** and data type to int64 as is likely the target variable.\n",
    "- Reduce into smaller dataframes for visualizations and begin corelations\n",
    "- Likely feature engineering will be beneficial\n",
    "- Heavy string at column reviewText is target for further analysis and summary will be quite useful as well\n",
    "\n"
   ]
  },
  {
   "cell_type": "markdown",
   "id": "3b4f262a",
   "metadata": {},
   "source": [
    "***"
   ]
  },
  {
   "cell_type": "markdown",
   "id": "a56ab3c6",
   "metadata": {},
   "source": [
    "## Initial prep work prior to EDA\n",
    "\n",
    "> Act on the initial observations"
   ]
  },
  {
   "cell_type": "code",
   "execution_count": 15,
   "id": "35a9bbb3",
   "metadata": {},
   "outputs": [],
   "source": [
    "# Changing the column named mentioned at Initial Observations\n",
    "\n",
    "ds.rename(columns = {'overall':'score'}, inplace = True)"
   ]
  },
  {
   "cell_type": "code",
   "execution_count": 16,
   "id": "3fcaddb2",
   "metadata": {},
   "outputs": [
    {
     "data": {
      "text/html": [
       "<div>\n",
       "<style scoped>\n",
       "    .dataframe tbody tr th:only-of-type {\n",
       "        vertical-align: middle;\n",
       "    }\n",
       "\n",
       "    .dataframe tbody tr th {\n",
       "        vertical-align: top;\n",
       "    }\n",
       "\n",
       "    .dataframe thead th {\n",
       "        text-align: right;\n",
       "    }\n",
       "</style>\n",
       "<table border=\"1\" class=\"dataframe\">\n",
       "  <thead>\n",
       "    <tr style=\"text-align: right;\">\n",
       "      <th></th>\n",
       "      <th>asin</th>\n",
       "      <th>score</th>\n",
       "      <th>reviewText</th>\n",
       "      <th>reviewerID</th>\n",
       "      <th>reviewerName</th>\n",
       "      <th>style</th>\n",
       "      <th>summary</th>\n",
       "      <th>unixReviewTime</th>\n",
       "      <th>verified</th>\n",
       "      <th>vote</th>\n",
       "      <th>image</th>\n",
       "    </tr>\n",
       "  </thead>\n",
       "  <tbody>\n",
       "    <tr>\n",
       "      <th>0</th>\n",
       "      <td>B00CGYCNZI</td>\n",
       "      <td>4.0</td>\n",
       "      <td>I have used Panasonic and GE earlier as my cor...</td>\n",
       "      <td>AOZOE2033AQK</td>\n",
       "      <td>Ramesh</td>\n",
       "      <td>{\"Style:\":\" 2 Handset\"}</td>\n",
       "      <td>Worth the Value and Love it..</td>\n",
       "      <td>1472342400</td>\n",
       "      <td>true</td>\n",
       "      <td>None</td>\n",
       "      <td>None</td>\n",
       "    </tr>\n",
       "  </tbody>\n",
       "</table>\n",
       "</div>"
      ],
      "text/plain": [
       "         asin score                                         reviewText  \\\n",
       "0  B00CGYCNZI   4.0  I have used Panasonic and GE earlier as my cor...   \n",
       "\n",
       "     reviewerID reviewerName                    style  \\\n",
       "0  AOZOE2033AQK       Ramesh  {\"Style:\":\" 2 Handset\"}   \n",
       "\n",
       "                         summary unixReviewTime verified  vote image  \n",
       "0  Worth the Value and Love it..     1472342400     true  None  None  "
      ]
     },
     "execution_count": 16,
     "metadata": {},
     "output_type": "execute_result"
    }
   ],
   "source": [
    "ds.head(1)"
   ]
  },
  {
   "cell_type": "code",
   "execution_count": 17,
   "id": "4d64ee7e",
   "metadata": {},
   "outputs": [],
   "source": [
    "# Remove columns that are not needed\n",
    "\n",
    "ds.drop(['style','vote','image'], axis = 1, inplace = True)"
   ]
  },
  {
   "cell_type": "code",
   "execution_count": 18,
   "id": "ead53c9f",
   "metadata": {},
   "outputs": [
    {
     "data": {
      "text/html": [
       "<div>\n",
       "<style scoped>\n",
       "    .dataframe tbody tr th:only-of-type {\n",
       "        vertical-align: middle;\n",
       "    }\n",
       "\n",
       "    .dataframe tbody tr th {\n",
       "        vertical-align: top;\n",
       "    }\n",
       "\n",
       "    .dataframe thead th {\n",
       "        text-align: right;\n",
       "    }\n",
       "</style>\n",
       "<table border=\"1\" class=\"dataframe\">\n",
       "  <thead>\n",
       "    <tr style=\"text-align: right;\">\n",
       "      <th></th>\n",
       "      <th>asin</th>\n",
       "      <th>score</th>\n",
       "      <th>reviewText</th>\n",
       "      <th>reviewerID</th>\n",
       "      <th>reviewerName</th>\n",
       "      <th>summary</th>\n",
       "      <th>unixReviewTime</th>\n",
       "      <th>verified</th>\n",
       "    </tr>\n",
       "  </thead>\n",
       "  <tbody>\n",
       "    <tr>\n",
       "      <th>0</th>\n",
       "      <td>B00CGYCNZI</td>\n",
       "      <td>4.0</td>\n",
       "      <td>I have used Panasonic and GE earlier as my cor...</td>\n",
       "      <td>AOZOE2033AQK</td>\n",
       "      <td>Ramesh</td>\n",
       "      <td>Worth the Value and Love it..</td>\n",
       "      <td>1472342400</td>\n",
       "      <td>true</td>\n",
       "    </tr>\n",
       "  </tbody>\n",
       "</table>\n",
       "</div>"
      ],
      "text/plain": [
       "         asin score                                         reviewText  \\\n",
       "0  B00CGYCNZI   4.0  I have used Panasonic and GE earlier as my cor...   \n",
       "\n",
       "     reviewerID reviewerName                        summary unixReviewTime  \\\n",
       "0  AOZOE2033AQK       Ramesh  Worth the Value and Love it..     1472342400   \n",
       "\n",
       "  verified  \n",
       "0     true  "
      ]
     },
     "execution_count": 18,
     "metadata": {},
     "output_type": "execute_result"
    }
   ],
   "source": [
    "ds.head(1)"
   ]
  },
  {
   "cell_type": "code",
   "execution_count": 19,
   "id": "8716692a",
   "metadata": {},
   "outputs": [],
   "source": [
    "# Now remove the related column that is not needed\n",
    "\n",
    "ds.drop(['reviewerName'], axis = 1, inplace = True)"
   ]
  },
  {
   "cell_type": "code",
   "execution_count": 20,
   "id": "5f76cc09",
   "metadata": {},
   "outputs": [
    {
     "data": {
      "text/html": [
       "<div>\n",
       "<style scoped>\n",
       "    .dataframe tbody tr th:only-of-type {\n",
       "        vertical-align: middle;\n",
       "    }\n",
       "\n",
       "    .dataframe tbody tr th {\n",
       "        vertical-align: top;\n",
       "    }\n",
       "\n",
       "    .dataframe thead th {\n",
       "        text-align: right;\n",
       "    }\n",
       "</style>\n",
       "<table border=\"1\" class=\"dataframe\">\n",
       "  <thead>\n",
       "    <tr style=\"text-align: right;\">\n",
       "      <th></th>\n",
       "      <th>asin</th>\n",
       "      <th>score</th>\n",
       "      <th>reviewText</th>\n",
       "      <th>reviewerID</th>\n",
       "      <th>summary</th>\n",
       "      <th>unixReviewTime</th>\n",
       "      <th>verified</th>\n",
       "    </tr>\n",
       "  </thead>\n",
       "  <tbody>\n",
       "    <tr>\n",
       "      <th>0</th>\n",
       "      <td>B00CGYCNZI</td>\n",
       "      <td>4.0</td>\n",
       "      <td>I have used Panasonic and GE earlier as my cor...</td>\n",
       "      <td>AOZOE2033AQK</td>\n",
       "      <td>Worth the Value and Love it..</td>\n",
       "      <td>1472342400</td>\n",
       "      <td>true</td>\n",
       "    </tr>\n",
       "  </tbody>\n",
       "</table>\n",
       "</div>"
      ],
      "text/plain": [
       "         asin score                                         reviewText  \\\n",
       "0  B00CGYCNZI   4.0  I have used Panasonic and GE earlier as my cor...   \n",
       "\n",
       "     reviewerID                        summary unixReviewTime verified  \n",
       "0  AOZOE2033AQK  Worth the Value and Love it..     1472342400     true  "
      ]
     },
     "execution_count": 20,
     "metadata": {},
     "output_type": "execute_result"
    }
   ],
   "source": [
    "ds.head(1)"
   ]
  },
  {
   "cell_type": "code",
   "execution_count": 21,
   "id": "bb608d4e",
   "metadata": {},
   "outputs": [],
   "source": [
    "# Change score to int64 data type\n",
    "\n",
    "ds['score'].replace(['1.0', '2.0', '3.0', '4.0', '5.0'], [1, 2, 3, 4, 5], inplace = True)"
   ]
  },
  {
   "cell_type": "code",
   "execution_count": 22,
   "id": "4087fe8e",
   "metadata": {},
   "outputs": [
    {
     "data": {
      "text/html": [
       "<div>\n",
       "<style scoped>\n",
       "    .dataframe tbody tr th:only-of-type {\n",
       "        vertical-align: middle;\n",
       "    }\n",
       "\n",
       "    .dataframe tbody tr th {\n",
       "        vertical-align: top;\n",
       "    }\n",
       "\n",
       "    .dataframe thead th {\n",
       "        text-align: right;\n",
       "    }\n",
       "</style>\n",
       "<table border=\"1\" class=\"dataframe\">\n",
       "  <thead>\n",
       "    <tr style=\"text-align: right;\">\n",
       "      <th></th>\n",
       "      <th>asin</th>\n",
       "      <th>score</th>\n",
       "      <th>reviewText</th>\n",
       "      <th>reviewerID</th>\n",
       "      <th>summary</th>\n",
       "      <th>unixReviewTime</th>\n",
       "      <th>verified</th>\n",
       "    </tr>\n",
       "  </thead>\n",
       "  <tbody>\n",
       "    <tr>\n",
       "      <th>0</th>\n",
       "      <td>B00CGYCNZI</td>\n",
       "      <td>4</td>\n",
       "      <td>I have used Panasonic and GE earlier as my cor...</td>\n",
       "      <td>AOZOE2033AQK</td>\n",
       "      <td>Worth the Value and Love it..</td>\n",
       "      <td>1472342400</td>\n",
       "      <td>true</td>\n",
       "    </tr>\n",
       "  </tbody>\n",
       "</table>\n",
       "</div>"
      ],
      "text/plain": [
       "         asin  score                                         reviewText  \\\n",
       "0  B00CGYCNZI      4  I have used Panasonic and GE earlier as my cor...   \n",
       "\n",
       "     reviewerID                        summary unixReviewTime verified  \n",
       "0  AOZOE2033AQK  Worth the Value and Love it..     1472342400     true  "
      ]
     },
     "execution_count": 22,
     "metadata": {},
     "output_type": "execute_result"
    }
   ],
   "source": [
    "ds.head(1)"
   ]
  },
  {
   "cell_type": "code",
   "execution_count": 23,
   "id": "b185c4c6",
   "metadata": {},
   "outputs": [
    {
     "data": {
      "text/plain": [
       "asin              object\n",
       "score              int64\n",
       "reviewText        object\n",
       "reviewerID        object\n",
       "summary           object\n",
       "unixReviewTime    object\n",
       "verified          object\n",
       "dtype: object"
      ]
     },
     "execution_count": 23,
     "metadata": {},
     "output_type": "execute_result"
    }
   ],
   "source": [
    "ds.dtypes"
   ]
  },
  {
   "cell_type": "code",
   "execution_count": 24,
   "id": "92174eb7",
   "metadata": {},
   "outputs": [
    {
     "data": {
      "text/plain": [
       "asin                0\n",
       "score               0\n",
       "reviewText        874\n",
       "reviewerID          0\n",
       "summary           434\n",
       "unixReviewTime      0\n",
       "verified            0\n",
       "dtype: int64"
      ]
     },
     "execution_count": 24,
     "metadata": {},
     "output_type": "execute_result"
    }
   ],
   "source": [
    "# Confirmed most of the null values have been addressed\n",
    "\n",
    "ds.isna().sum()"
   ]
  },
  {
   "cell_type": "code",
   "execution_count": 25,
   "id": "1f6c39c3",
   "metadata": {},
   "outputs": [
    {
     "data": {
      "text/html": [
       "<div>\n",
       "<style scoped>\n",
       "    .dataframe tbody tr th:only-of-type {\n",
       "        vertical-align: middle;\n",
       "    }\n",
       "\n",
       "    .dataframe tbody tr th {\n",
       "        vertical-align: top;\n",
       "    }\n",
       "\n",
       "    .dataframe thead th {\n",
       "        text-align: right;\n",
       "    }\n",
       "</style>\n",
       "<table border=\"1\" class=\"dataframe\">\n",
       "  <thead>\n",
       "    <tr style=\"text-align: right;\">\n",
       "      <th></th>\n",
       "      <th>asin</th>\n",
       "      <th>score</th>\n",
       "      <th>reviewText</th>\n",
       "      <th>reviewerID</th>\n",
       "      <th>summary</th>\n",
       "      <th>unixReviewTime</th>\n",
       "      <th>verified</th>\n",
       "    </tr>\n",
       "  </thead>\n",
       "  <tbody>\n",
       "    <tr>\n",
       "      <th>0</th>\n",
       "      <td>B00CGYCNZI</td>\n",
       "      <td>4</td>\n",
       "      <td>I have used Panasonic and GE earlier as my cor...</td>\n",
       "      <td>AOZOE2033AQK</td>\n",
       "      <td>Worth the Value and Love it..</td>\n",
       "      <td>2016-08-28</td>\n",
       "      <td>true</td>\n",
       "    </tr>\n",
       "  </tbody>\n",
       "</table>\n",
       "</div>"
      ],
      "text/plain": [
       "         asin  score                                         reviewText  \\\n",
       "0  B00CGYCNZI      4  I have used Panasonic and GE earlier as my cor...   \n",
       "\n",
       "     reviewerID                        summary unixReviewTime verified  \n",
       "0  AOZOE2033AQK  Worth the Value and Love it..     2016-08-28     true  "
      ]
     },
     "execution_count": 25,
     "metadata": {},
     "output_type": "execute_result"
    }
   ],
   "source": [
    "# Convert unixReviewTime to a more human friendly timestamp\n",
    "\n",
    "ds['unixReviewTime'] = pd.to_datetime(ds['unixReviewTime'], unit='s')\n",
    "ds.head(1)"
   ]
  },
  {
   "cell_type": "code",
   "execution_count": 26,
   "id": "4d484699",
   "metadata": {},
   "outputs": [
    {
     "data": {
      "text/html": [
       "<div>\n",
       "<style scoped>\n",
       "    .dataframe tbody tr th:only-of-type {\n",
       "        vertical-align: middle;\n",
       "    }\n",
       "\n",
       "    .dataframe tbody tr th {\n",
       "        vertical-align: top;\n",
       "    }\n",
       "\n",
       "    .dataframe thead th {\n",
       "        text-align: right;\n",
       "    }\n",
       "</style>\n",
       "<table border=\"1\" class=\"dataframe\">\n",
       "  <thead>\n",
       "    <tr style=\"text-align: right;\">\n",
       "      <th></th>\n",
       "      <th>asin</th>\n",
       "      <th>score</th>\n",
       "      <th>reviewText</th>\n",
       "      <th>reviewerID</th>\n",
       "      <th>summary</th>\n",
       "      <th>timestamp</th>\n",
       "      <th>verified</th>\n",
       "    </tr>\n",
       "  </thead>\n",
       "  <tbody>\n",
       "    <tr>\n",
       "      <th>0</th>\n",
       "      <td>B00CGYCNZI</td>\n",
       "      <td>4</td>\n",
       "      <td>I have used Panasonic and GE earlier as my cor...</td>\n",
       "      <td>AOZOE2033AQK</td>\n",
       "      <td>Worth the Value and Love it..</td>\n",
       "      <td>2016-08-28</td>\n",
       "      <td>true</td>\n",
       "    </tr>\n",
       "  </tbody>\n",
       "</table>\n",
       "</div>"
      ],
      "text/plain": [
       "         asin  score                                         reviewText  \\\n",
       "0  B00CGYCNZI      4  I have used Panasonic and GE earlier as my cor...   \n",
       "\n",
       "     reviewerID                        summary  timestamp verified  \n",
       "0  AOZOE2033AQK  Worth the Value and Love it.. 2016-08-28     true  "
      ]
     },
     "execution_count": 26,
     "metadata": {},
     "output_type": "execute_result"
    }
   ],
   "source": [
    "# Now change the name to timestamp\n",
    "\n",
    "ds.rename(columns = {'unixReviewTime':'timestamp'}, inplace = True)\n",
    "ds.head(1)"
   ]
  },
  {
   "cell_type": "code",
   "execution_count": 27,
   "id": "374a8eb7",
   "metadata": {},
   "outputs": [
    {
     "data": {
      "text/plain": [
       "<bound method NDFrame.describe of 0       2016-08-28\n",
       "1       2007-12-02\n",
       "2       2016-08-24\n",
       "3       2007-11-28\n",
       "4       2016-08-20\n",
       "           ...    \n",
       "55928   2014-02-16\n",
       "55929   2014-03-13\n",
       "55930   2014-02-15\n",
       "55931   2014-03-11\n",
       "55932   2014-02-10\n",
       "Name: timestamp, Length: 1499752, dtype: datetime64[ns]>"
      ]
     },
     "execution_count": 27,
     "metadata": {},
     "output_type": "execute_result"
    }
   ],
   "source": [
    "ds['timestamp'].describe"
   ]
  },
  {
   "cell_type": "code",
   "execution_count": 28,
   "id": "7b55f191",
   "metadata": {},
   "outputs": [
    {
     "data": {
      "text/plain": [
       "array(['2016-08-28T00:00:00.000000000', '2007-12-02T00:00:00.000000000',\n",
       "       '2016-08-24T00:00:00.000000000', ...,\n",
       "       '1998-02-11T00:00:00.000000000', '1998-06-23T00:00:00.000000000',\n",
       "       '1998-06-18T00:00:00.000000000'], dtype='datetime64[ns]')"
      ]
     },
     "execution_count": 28,
     "metadata": {},
     "output_type": "execute_result"
    }
   ],
   "source": [
    "ds['timestamp'].unique()"
   ]
  },
  {
   "cell_type": "code",
   "execution_count": 29,
   "id": "25f9d42d",
   "metadata": {},
   "outputs": [],
   "source": [
    "# Sorting data set per time line\n",
    "\n",
    "ds.sort_values(by = ['timestamp'], inplace = True)"
   ]
  },
  {
   "cell_type": "code",
   "execution_count": 30,
   "id": "685eea37",
   "metadata": {},
   "outputs": [
    {
     "data": {
      "text/html": [
       "<div>\n",
       "<style scoped>\n",
       "    .dataframe tbody tr th:only-of-type {\n",
       "        vertical-align: middle;\n",
       "    }\n",
       "\n",
       "    .dataframe tbody tr th {\n",
       "        vertical-align: top;\n",
       "    }\n",
       "\n",
       "    .dataframe thead th {\n",
       "        text-align: right;\n",
       "    }\n",
       "</style>\n",
       "<table border=\"1\" class=\"dataframe\">\n",
       "  <thead>\n",
       "    <tr style=\"text-align: right;\">\n",
       "      <th></th>\n",
       "      <th>asin</th>\n",
       "      <th>score</th>\n",
       "      <th>reviewText</th>\n",
       "      <th>reviewerID</th>\n",
       "      <th>summary</th>\n",
       "      <th>timestamp</th>\n",
       "      <th>verified</th>\n",
       "    </tr>\n",
       "  </thead>\n",
       "  <tbody>\n",
       "    <tr>\n",
       "      <th>3210</th>\n",
       "      <td>0871202433</td>\n",
       "      <td>5</td>\n",
       "      <td>Robert Sylwester's much overlooked book, A Cel...</td>\n",
       "      <td>A2API7H1WS1C56</td>\n",
       "      <td>A  Celebration of Neurons, by Robert Sylwester,</td>\n",
       "      <td>1997-08-09</td>\n",
       "      <td>false</td>\n",
       "    </tr>\n",
       "  </tbody>\n",
       "</table>\n",
       "</div>"
      ],
      "text/plain": [
       "            asin  score                                         reviewText  \\\n",
       "3210  0871202433      5  Robert Sylwester's much overlooked book, A Cel...   \n",
       "\n",
       "          reviewerID                                          summary  \\\n",
       "3210  A2API7H1WS1C56  A  Celebration of Neurons, by Robert Sylwester,   \n",
       "\n",
       "      timestamp verified  \n",
       "3210 1997-08-09    false  "
      ]
     },
     "execution_count": 30,
     "metadata": {},
     "output_type": "execute_result"
    }
   ],
   "source": [
    "ds.head(1)"
   ]
  },
  {
   "cell_type": "code",
   "execution_count": 31,
   "id": "1c684ca2",
   "metadata": {},
   "outputs": [
    {
     "data": {
      "text/html": [
       "<div>\n",
       "<style scoped>\n",
       "    .dataframe tbody tr th:only-of-type {\n",
       "        vertical-align: middle;\n",
       "    }\n",
       "\n",
       "    .dataframe tbody tr th {\n",
       "        vertical-align: top;\n",
       "    }\n",
       "\n",
       "    .dataframe thead th {\n",
       "        text-align: right;\n",
       "    }\n",
       "</style>\n",
       "<table border=\"1\" class=\"dataframe\">\n",
       "  <thead>\n",
       "    <tr style=\"text-align: right;\">\n",
       "      <th></th>\n",
       "      <th>asin</th>\n",
       "      <th>score</th>\n",
       "      <th>reviewText</th>\n",
       "      <th>reviewerID</th>\n",
       "      <th>summary</th>\n",
       "      <th>timestamp</th>\n",
       "      <th>verified</th>\n",
       "    </tr>\n",
       "  </thead>\n",
       "  <tbody>\n",
       "    <tr>\n",
       "      <th>48248</th>\n",
       "      <td>B01ELFB7J2</td>\n",
       "      <td>5</td>\n",
       "      <td>Was hesitant but definitely feeling good about...</td>\n",
       "      <td>A17GM6PCT98HBD</td>\n",
       "      <td>Nice socks</td>\n",
       "      <td>2018-09-28</td>\n",
       "      <td>true</td>\n",
       "    </tr>\n",
       "  </tbody>\n",
       "</table>\n",
       "</div>"
      ],
      "text/plain": [
       "             asin  score                                         reviewText  \\\n",
       "48248  B01ELFB7J2      5  Was hesitant but definitely feeling good about...   \n",
       "\n",
       "           reviewerID     summary  timestamp verified  \n",
       "48248  A17GM6PCT98HBD  Nice socks 2018-09-28     true  "
      ]
     },
     "execution_count": 31,
     "metadata": {},
     "output_type": "execute_result"
    }
   ],
   "source": [
    "ds.tail(1)"
   ]
  },
  {
   "cell_type": "code",
   "execution_count": 32,
   "id": "916b26f8",
   "metadata": {},
   "outputs": [
    {
     "data": {
      "text/html": [
       "<div>\n",
       "<style scoped>\n",
       "    .dataframe tbody tr th:only-of-type {\n",
       "        vertical-align: middle;\n",
       "    }\n",
       "\n",
       "    .dataframe tbody tr th {\n",
       "        vertical-align: top;\n",
       "    }\n",
       "\n",
       "    .dataframe thead th {\n",
       "        text-align: right;\n",
       "    }\n",
       "</style>\n",
       "<table border=\"1\" class=\"dataframe\">\n",
       "  <thead>\n",
       "    <tr style=\"text-align: right;\">\n",
       "      <th></th>\n",
       "      <th>asin</th>\n",
       "      <th>score</th>\n",
       "      <th>reviewText</th>\n",
       "      <th>reviewerID</th>\n",
       "      <th>summary</th>\n",
       "      <th>timestamp</th>\n",
       "      <th>verified</th>\n",
       "      <th>date</th>\n",
       "      <th>year</th>\n",
       "      <th>month</th>\n",
       "      <th>day</th>\n",
       "      <th>day_of_week</th>\n",
       "    </tr>\n",
       "  </thead>\n",
       "  <tbody>\n",
       "    <tr>\n",
       "      <th>3210</th>\n",
       "      <td>0871202433</td>\n",
       "      <td>5</td>\n",
       "      <td>Robert Sylwester's much overlooked book, A Cel...</td>\n",
       "      <td>A2API7H1WS1C56</td>\n",
       "      <td>A  Celebration of Neurons, by Robert Sylwester,</td>\n",
       "      <td>1997-08-09</td>\n",
       "      <td>false</td>\n",
       "      <td>1997-08-09</td>\n",
       "      <td>1997</td>\n",
       "      <td>8</td>\n",
       "      <td>9</td>\n",
       "      <td>5</td>\n",
       "    </tr>\n",
       "  </tbody>\n",
       "</table>\n",
       "</div>"
      ],
      "text/plain": [
       "            asin  score                                         reviewText  \\\n",
       "3210  0871202433      5  Robert Sylwester's much overlooked book, A Cel...   \n",
       "\n",
       "          reviewerID                                          summary  \\\n",
       "3210  A2API7H1WS1C56  A  Celebration of Neurons, by Robert Sylwester,   \n",
       "\n",
       "      timestamp verified        date  year  month  day  day_of_week  \n",
       "3210 1997-08-09    false  1997-08-09  1997      8    9            5  "
      ]
     },
     "execution_count": 32,
     "metadata": {},
     "output_type": "execute_result"
    }
   ],
   "source": [
    "# Some feature engineering for time and date\n",
    "\n",
    "ds['date'] = pd.to_datetime(ds['timestamp']).dt.date\n",
    "ds['year'] = pd.to_datetime(ds['timestamp']).dt.year\n",
    "ds['month'] = pd.to_datetime(ds['timestamp']).dt.month\n",
    "ds['day'] = pd.to_datetime(ds['timestamp']).dt.day\n",
    "ds['day_of_week'] = pd.to_datetime(ds['timestamp']).dt.dayofweek\n",
    "ds.head(1)\n"
   ]
  },
  {
   "cell_type": "code",
   "execution_count": 33,
   "id": "9335eed9",
   "metadata": {},
   "outputs": [],
   "source": [
    "# Convert data column from object to numeric\n",
    "\n",
    "ds['date'] = pd.to_datetime(ds['date'])\n"
   ]
  },
  {
   "cell_type": "code",
   "execution_count": 34,
   "id": "99eabdb0",
   "metadata": {},
   "outputs": [
    {
     "name": "stdout",
     "output_type": "stream",
     "text": [
      "<class 'pandas.core.frame.DataFrame'>\n",
      "Int64Index: 1499752 entries, 3210 to 48248\n",
      "Data columns (total 12 columns):\n",
      " #   Column       Non-Null Count    Dtype         \n",
      "---  ------       --------------    -----         \n",
      " 0   asin         1499752 non-null  object        \n",
      " 1   score        1499752 non-null  int64         \n",
      " 2   reviewText   1498878 non-null  object        \n",
      " 3   reviewerID   1499752 non-null  object        \n",
      " 4   summary      1499318 non-null  object        \n",
      " 5   timestamp    1499752 non-null  datetime64[ns]\n",
      " 6   verified     1499752 non-null  object        \n",
      " 7   date         1499752 non-null  datetime64[ns]\n",
      " 8   year         1499752 non-null  int64         \n",
      " 9   month        1499752 non-null  int64         \n",
      " 10  day          1499752 non-null  int64         \n",
      " 11  day_of_week  1499752 non-null  int64         \n",
      "dtypes: datetime64[ns](2), int64(5), object(5)\n",
      "memory usage: 148.7+ MB\n"
     ]
    }
   ],
   "source": [
    "ds.info()"
   ]
  },
  {
   "cell_type": "code",
   "execution_count": 35,
   "id": "3d3bab3e",
   "metadata": {},
   "outputs": [
    {
     "data": {
      "text/html": [
       "<div>\n",
       "<style scoped>\n",
       "    .dataframe tbody tr th:only-of-type {\n",
       "        vertical-align: middle;\n",
       "    }\n",
       "\n",
       "    .dataframe tbody tr th {\n",
       "        vertical-align: top;\n",
       "    }\n",
       "\n",
       "    .dataframe thead th {\n",
       "        text-align: right;\n",
       "    }\n",
       "</style>\n",
       "<table border=\"1\" class=\"dataframe\">\n",
       "  <thead>\n",
       "    <tr style=\"text-align: right;\">\n",
       "      <th></th>\n",
       "      <th>asin</th>\n",
       "      <th>score</th>\n",
       "      <th>reviewText</th>\n",
       "      <th>reviewerID</th>\n",
       "      <th>summary</th>\n",
       "      <th>timestamp</th>\n",
       "      <th>verified</th>\n",
       "      <th>date</th>\n",
       "      <th>year</th>\n",
       "      <th>month</th>\n",
       "      <th>day</th>\n",
       "      <th>day_of_week</th>\n",
       "    </tr>\n",
       "  </thead>\n",
       "  <tbody>\n",
       "    <tr>\n",
       "      <th>3210</th>\n",
       "      <td>0871202433</td>\n",
       "      <td>5</td>\n",
       "      <td>Robert Sylwester's much overlooked book, A Cel...</td>\n",
       "      <td>A2API7H1WS1C56</td>\n",
       "      <td>A  Celebration of Neurons, by Robert Sylwester,</td>\n",
       "      <td>1997-08-09</td>\n",
       "      <td>false</td>\n",
       "      <td>1997-08-09</td>\n",
       "      <td>1997</td>\n",
       "      <td>8</td>\n",
       "      <td>9</td>\n",
       "      <td>5</td>\n",
       "    </tr>\n",
       "    <tr>\n",
       "      <th>7922</th>\n",
       "      <td>0061535680</td>\n",
       "      <td>1</td>\n",
       "      <td>Trivia.  Dialogue waste of time, paper and add...</td>\n",
       "      <td>AAW5NRUVURHU2</td>\n",
       "      <td>poor entry in derby of books written by lawyers</td>\n",
       "      <td>1997-08-13</td>\n",
       "      <td>false</td>\n",
       "      <td>1997-08-13</td>\n",
       "      <td>1997</td>\n",
       "      <td>8</td>\n",
       "      <td>13</td>\n",
       "      <td>2</td>\n",
       "    </tr>\n",
       "    <tr>\n",
       "      <th>45865</th>\n",
       "      <td>0316332259</td>\n",
       "      <td>5</td>\n",
       "      <td>Twenty years after his sudden death and a resu...</td>\n",
       "      <td>A1IBMUD9XXD68X</td>\n",
       "      <td>An Icon of His Era And Of All Time</td>\n",
       "      <td>1997-08-17</td>\n",
       "      <td>false</td>\n",
       "      <td>1997-08-17</td>\n",
       "      <td>1997</td>\n",
       "      <td>8</td>\n",
       "      <td>17</td>\n",
       "      <td>6</td>\n",
       "    </tr>\n",
       "    <tr>\n",
       "      <th>19437</th>\n",
       "      <td>0933149581</td>\n",
       "      <td>3</td>\n",
       "      <td>The author writes about the education of speci...</td>\n",
       "      <td>A1LOZWO9JTN5L8</td>\n",
       "      <td>Wings to Fly: Bringing Theatre Arts to Student...</td>\n",
       "      <td>1997-08-21</td>\n",
       "      <td>false</td>\n",
       "      <td>1997-08-21</td>\n",
       "      <td>1997</td>\n",
       "      <td>8</td>\n",
       "      <td>21</td>\n",
       "      <td>3</td>\n",
       "    </tr>\n",
       "    <tr>\n",
       "      <th>21181</th>\n",
       "      <td>0356108163</td>\n",
       "      <td>4</td>\n",
       "      <td>A really nice collection of stories by Stephen...</td>\n",
       "      <td>A2ILUXA828DESI</td>\n",
       "      <td>No bones to pick about this book</td>\n",
       "      <td>1997-08-23</td>\n",
       "      <td>false</td>\n",
       "      <td>1997-08-23</td>\n",
       "      <td>1997</td>\n",
       "      <td>8</td>\n",
       "      <td>23</td>\n",
       "      <td>5</td>\n",
       "    </tr>\n",
       "  </tbody>\n",
       "</table>\n",
       "</div>"
      ],
      "text/plain": [
       "             asin  score                                         reviewText  \\\n",
       "3210   0871202433      5  Robert Sylwester's much overlooked book, A Cel...   \n",
       "7922   0061535680      1  Trivia.  Dialogue waste of time, paper and add...   \n",
       "45865  0316332259      5  Twenty years after his sudden death and a resu...   \n",
       "19437  0933149581      3  The author writes about the education of speci...   \n",
       "21181  0356108163      4  A really nice collection of stories by Stephen...   \n",
       "\n",
       "           reviewerID                                            summary  \\\n",
       "3210   A2API7H1WS1C56    A  Celebration of Neurons, by Robert Sylwester,   \n",
       "7922    AAW5NRUVURHU2    poor entry in derby of books written by lawyers   \n",
       "45865  A1IBMUD9XXD68X                 An Icon of His Era And Of All Time   \n",
       "19437  A1LOZWO9JTN5L8  Wings to Fly: Bringing Theatre Arts to Student...   \n",
       "21181  A2ILUXA828DESI                   No bones to pick about this book   \n",
       "\n",
       "       timestamp verified       date  year  month  day  day_of_week  \n",
       "3210  1997-08-09    false 1997-08-09  1997      8    9            5  \n",
       "7922  1997-08-13    false 1997-08-13  1997      8   13            2  \n",
       "45865 1997-08-17    false 1997-08-17  1997      8   17            6  \n",
       "19437 1997-08-21    false 1997-08-21  1997      8   21            3  \n",
       "21181 1997-08-23    false 1997-08-23  1997      8   23            5  "
      ]
     },
     "execution_count": 35,
     "metadata": {},
     "output_type": "execute_result"
    }
   ],
   "source": [
    "ds.head()"
   ]
  },
  {
   "cell_type": "code",
   "execution_count": 36,
   "id": "342538f6",
   "metadata": {},
   "outputs": [
    {
     "data": {
      "text/html": [
       "<div>\n",
       "<style scoped>\n",
       "    .dataframe tbody tr th:only-of-type {\n",
       "        vertical-align: middle;\n",
       "    }\n",
       "\n",
       "    .dataframe tbody tr th {\n",
       "        vertical-align: top;\n",
       "    }\n",
       "\n",
       "    .dataframe thead th {\n",
       "        text-align: right;\n",
       "    }\n",
       "</style>\n",
       "<table border=\"1\" class=\"dataframe\">\n",
       "  <thead>\n",
       "    <tr style=\"text-align: right;\">\n",
       "      <th></th>\n",
       "      <th>asin</th>\n",
       "      <th>score</th>\n",
       "      <th>reviewText</th>\n",
       "      <th>reviewerID</th>\n",
       "      <th>summary</th>\n",
       "      <th>timestamp</th>\n",
       "      <th>verified</th>\n",
       "      <th>date</th>\n",
       "      <th>year</th>\n",
       "      <th>month</th>\n",
       "      <th>day</th>\n",
       "      <th>day_of_week</th>\n",
       "    </tr>\n",
       "  </thead>\n",
       "  <tbody>\n",
       "    <tr>\n",
       "      <th>count</th>\n",
       "      <td>1499752</td>\n",
       "      <td>1.499752e+06</td>\n",
       "      <td>1498878</td>\n",
       "      <td>1499752</td>\n",
       "      <td>1499318</td>\n",
       "      <td>1499752</td>\n",
       "      <td>1499752</td>\n",
       "      <td>1499752</td>\n",
       "      <td>1.499752e+06</td>\n",
       "      <td>1.499752e+06</td>\n",
       "      <td>1.499752e+06</td>\n",
       "      <td>1.499752e+06</td>\n",
       "    </tr>\n",
       "    <tr>\n",
       "      <th>unique</th>\n",
       "      <td>129876</td>\n",
       "      <td>NaN</td>\n",
       "      <td>1386614</td>\n",
       "      <td>1300682</td>\n",
       "      <td>835518</td>\n",
       "      <td>NaN</td>\n",
       "      <td>2</td>\n",
       "      <td>NaN</td>\n",
       "      <td>NaN</td>\n",
       "      <td>NaN</td>\n",
       "      <td>NaN</td>\n",
       "      <td>NaN</td>\n",
       "    </tr>\n",
       "    <tr>\n",
       "      <th>top</th>\n",
       "      <td>B00571F26Y</td>\n",
       "      <td>NaN</td>\n",
       "      <td>Great</td>\n",
       "      <td>A2F6N60Z96CAJI</td>\n",
       "      <td>Five Stars</td>\n",
       "      <td>NaN</td>\n",
       "      <td>true</td>\n",
       "      <td>NaN</td>\n",
       "      <td>NaN</td>\n",
       "      <td>NaN</td>\n",
       "      <td>NaN</td>\n",
       "      <td>NaN</td>\n",
       "    </tr>\n",
       "    <tr>\n",
       "      <th>freq</th>\n",
       "      <td>6114</td>\n",
       "      <td>NaN</td>\n",
       "      <td>2719</td>\n",
       "      <td>136</td>\n",
       "      <td>248136</td>\n",
       "      <td>NaN</td>\n",
       "      <td>1196297</td>\n",
       "      <td>NaN</td>\n",
       "      <td>NaN</td>\n",
       "      <td>NaN</td>\n",
       "      <td>NaN</td>\n",
       "      <td>NaN</td>\n",
       "    </tr>\n",
       "    <tr>\n",
       "      <th>mean</th>\n",
       "      <td>NaN</td>\n",
       "      <td>4.217880e+00</td>\n",
       "      <td>NaN</td>\n",
       "      <td>NaN</td>\n",
       "      <td>NaN</td>\n",
       "      <td>2014-12-22 09:53:56.733540352</td>\n",
       "      <td>NaN</td>\n",
       "      <td>2014-12-22 09:53:56.733540352</td>\n",
       "      <td>2.014488e+03</td>\n",
       "      <td>6.365350e+00</td>\n",
       "      <td>1.569132e+01</td>\n",
       "      <td>2.849010e+00</td>\n",
       "    </tr>\n",
       "    <tr>\n",
       "      <th>min</th>\n",
       "      <td>NaN</td>\n",
       "      <td>1.000000e+00</td>\n",
       "      <td>NaN</td>\n",
       "      <td>NaN</td>\n",
       "      <td>NaN</td>\n",
       "      <td>1997-08-09 00:00:00</td>\n",
       "      <td>NaN</td>\n",
       "      <td>1997-08-09 00:00:00</td>\n",
       "      <td>1.997000e+03</td>\n",
       "      <td>1.000000e+00</td>\n",
       "      <td>1.000000e+00</td>\n",
       "      <td>0.000000e+00</td>\n",
       "    </tr>\n",
       "    <tr>\n",
       "      <th>25%</th>\n",
       "      <td>NaN</td>\n",
       "      <td>4.000000e+00</td>\n",
       "      <td>NaN</td>\n",
       "      <td>NaN</td>\n",
       "      <td>NaN</td>\n",
       "      <td>2014-03-26 00:00:00</td>\n",
       "      <td>NaN</td>\n",
       "      <td>2014-03-26 00:00:00</td>\n",
       "      <td>2.014000e+03</td>\n",
       "      <td>3.000000e+00</td>\n",
       "      <td>8.000000e+00</td>\n",
       "      <td>1.000000e+00</td>\n",
       "    </tr>\n",
       "    <tr>\n",
       "      <th>50%</th>\n",
       "      <td>NaN</td>\n",
       "      <td>5.000000e+00</td>\n",
       "      <td>NaN</td>\n",
       "      <td>NaN</td>\n",
       "      <td>NaN</td>\n",
       "      <td>2015-10-02 00:00:00</td>\n",
       "      <td>NaN</td>\n",
       "      <td>2015-10-02 00:00:00</td>\n",
       "      <td>2.015000e+03</td>\n",
       "      <td>6.000000e+00</td>\n",
       "      <td>1.600000e+01</td>\n",
       "      <td>3.000000e+00</td>\n",
       "    </tr>\n",
       "    <tr>\n",
       "      <th>75%</th>\n",
       "      <td>NaN</td>\n",
       "      <td>5.000000e+00</td>\n",
       "      <td>NaN</td>\n",
       "      <td>NaN</td>\n",
       "      <td>NaN</td>\n",
       "      <td>2016-12-25 00:00:00</td>\n",
       "      <td>NaN</td>\n",
       "      <td>2016-12-25 00:00:00</td>\n",
       "      <td>2.016000e+03</td>\n",
       "      <td>9.000000e+00</td>\n",
       "      <td>2.300000e+01</td>\n",
       "      <td>5.000000e+00</td>\n",
       "    </tr>\n",
       "    <tr>\n",
       "      <th>max</th>\n",
       "      <td>NaN</td>\n",
       "      <td>5.000000e+00</td>\n",
       "      <td>NaN</td>\n",
       "      <td>NaN</td>\n",
       "      <td>NaN</td>\n",
       "      <td>2018-09-28 00:00:00</td>\n",
       "      <td>NaN</td>\n",
       "      <td>2018-09-28 00:00:00</td>\n",
       "      <td>2.018000e+03</td>\n",
       "      <td>1.200000e+01</td>\n",
       "      <td>3.100000e+01</td>\n",
       "      <td>6.000000e+00</td>\n",
       "    </tr>\n",
       "    <tr>\n",
       "      <th>std</th>\n",
       "      <td>NaN</td>\n",
       "      <td>1.248376e+00</td>\n",
       "      <td>NaN</td>\n",
       "      <td>NaN</td>\n",
       "      <td>NaN</td>\n",
       "      <td>NaN</td>\n",
       "      <td>NaN</td>\n",
       "      <td>NaN</td>\n",
       "      <td>3.179991e+00</td>\n",
       "      <td>3.478390e+00</td>\n",
       "      <td>8.820286e+00</td>\n",
       "      <td>1.992188e+00</td>\n",
       "    </tr>\n",
       "  </tbody>\n",
       "</table>\n",
       "</div>"
      ],
      "text/plain": [
       "              asin         score reviewText      reviewerID     summary  \\\n",
       "count      1499752  1.499752e+06    1498878         1499752     1499318   \n",
       "unique      129876           NaN    1386614         1300682      835518   \n",
       "top     B00571F26Y           NaN      Great  A2F6N60Z96CAJI  Five Stars   \n",
       "freq          6114           NaN       2719             136      248136   \n",
       "mean           NaN  4.217880e+00        NaN             NaN         NaN   \n",
       "min            NaN  1.000000e+00        NaN             NaN         NaN   \n",
       "25%            NaN  4.000000e+00        NaN             NaN         NaN   \n",
       "50%            NaN  5.000000e+00        NaN             NaN         NaN   \n",
       "75%            NaN  5.000000e+00        NaN             NaN         NaN   \n",
       "max            NaN  5.000000e+00        NaN             NaN         NaN   \n",
       "std            NaN  1.248376e+00        NaN             NaN         NaN   \n",
       "\n",
       "                            timestamp verified                           date  \\\n",
       "count                         1499752  1499752                        1499752   \n",
       "unique                            NaN        2                            NaN   \n",
       "top                               NaN     true                            NaN   \n",
       "freq                              NaN  1196297                            NaN   \n",
       "mean    2014-12-22 09:53:56.733540352      NaN  2014-12-22 09:53:56.733540352   \n",
       "min               1997-08-09 00:00:00      NaN            1997-08-09 00:00:00   \n",
       "25%               2014-03-26 00:00:00      NaN            2014-03-26 00:00:00   \n",
       "50%               2015-10-02 00:00:00      NaN            2015-10-02 00:00:00   \n",
       "75%               2016-12-25 00:00:00      NaN            2016-12-25 00:00:00   \n",
       "max               2018-09-28 00:00:00      NaN            2018-09-28 00:00:00   \n",
       "std                               NaN      NaN                            NaN   \n",
       "\n",
       "                year         month           day   day_of_week  \n",
       "count   1.499752e+06  1.499752e+06  1.499752e+06  1.499752e+06  \n",
       "unique           NaN           NaN           NaN           NaN  \n",
       "top              NaN           NaN           NaN           NaN  \n",
       "freq             NaN           NaN           NaN           NaN  \n",
       "mean    2.014488e+03  6.365350e+00  1.569132e+01  2.849010e+00  \n",
       "min     1.997000e+03  1.000000e+00  1.000000e+00  0.000000e+00  \n",
       "25%     2.014000e+03  3.000000e+00  8.000000e+00  1.000000e+00  \n",
       "50%     2.015000e+03  6.000000e+00  1.600000e+01  3.000000e+00  \n",
       "75%     2.016000e+03  9.000000e+00  2.300000e+01  5.000000e+00  \n",
       "max     2.018000e+03  1.200000e+01  3.100000e+01  6.000000e+00  \n",
       "std     3.179991e+00  3.478390e+00  8.820286e+00  1.992188e+00  "
      ]
     },
     "execution_count": 36,
     "metadata": {},
     "output_type": "execute_result"
    }
   ],
   "source": [
    "ds.describe(include='all', datetime_is_numeric=True)"
   ]
  },
  {
   "cell_type": "code",
   "execution_count": 37,
   "id": "76c76a5f",
   "metadata": {},
   "outputs": [
    {
     "name": "stdout",
     "output_type": "stream",
     "text": [
      "<class 'pandas.core.frame.DataFrame'>\n",
      "Int64Index: 1499752 entries, 3210 to 48248\n",
      "Data columns (total 12 columns):\n",
      " #   Column       Non-Null Count    Dtype         \n",
      "---  ------       --------------    -----         \n",
      " 0   asin         1499752 non-null  object        \n",
      " 1   score        1499752 non-null  int64         \n",
      " 2   reviewText   1498878 non-null  object        \n",
      " 3   reviewerID   1499752 non-null  object        \n",
      " 4   summary      1499318 non-null  object        \n",
      " 5   timestamp    1499752 non-null  datetime64[ns]\n",
      " 6   verified     1499752 non-null  object        \n",
      " 7   date         1499752 non-null  datetime64[ns]\n",
      " 8   year         1499752 non-null  int64         \n",
      " 9   month        1499752 non-null  int64         \n",
      " 10  day          1499752 non-null  int64         \n",
      " 11  day_of_week  1499752 non-null  int64         \n",
      "dtypes: datetime64[ns](2), int64(5), object(5)\n",
      "memory usage: 148.7+ MB\n"
     ]
    }
   ],
   "source": [
    "ds.info()"
   ]
  },
  {
   "cell_type": "markdown",
   "id": "d79c0466",
   "metadata": {},
   "source": [
    "***"
   ]
  },
  {
   "cell_type": "code",
   "execution_count": 38,
   "id": "8a8405d3",
   "metadata": {},
   "outputs": [
    {
     "name": "stdout",
     "output_type": "stream",
     "text": [
      "Amount of asin in this data set is :\n",
      "129876\n"
     ]
    }
   ],
   "source": [
    "print(f'Amount of asin in this data set is :')\n",
    "print(len(ds['asin'].unique()))"
   ]
  },
  {
   "cell_type": "code",
   "execution_count": 39,
   "id": "8e72a1cf",
   "metadata": {},
   "outputs": [
    {
     "data": {
      "text/plain": [
       "array([1997, 1998, 1999, 2000, 2001, 2002, 2003, 2004, 2005, 2006, 2007,\n",
       "       2008, 2009, 2010, 2011, 2012, 2013, 2014, 2015, 2016, 2017, 2018],\n",
       "      dtype=int64)"
      ]
     },
     "execution_count": 39,
     "metadata": {},
     "output_type": "execute_result"
    }
   ],
   "source": [
    "ds['year'].unique()"
   ]
  },
  {
   "cell_type": "code",
   "execution_count": 40,
   "id": "b6b7893e",
   "metadata": {},
   "outputs": [
    {
     "name": "stdout",
     "output_type": "stream",
     "text": [
      "Amount of years in this data set is :\n",
      "22\n"
     ]
    }
   ],
   "source": [
    "print(f'Amount of years in this data set is :')\n",
    "print(len(ds['year'].unique()))"
   ]
  },
  {
   "cell_type": "markdown",
   "id": "3b542bca",
   "metadata": {},
   "source": [
    "## Checkpoint\n",
    "\n",
    "> Loading progress into a new file"
   ]
  },
  {
   "cell_type": "code",
   "execution_count": 42,
   "id": "29fb6065",
   "metadata": {},
   "outputs": [],
   "source": [
    "ds.to_parquet('datathon_72923_EDA_round_1.parquet')"
   ]
  },
  {
   "cell_type": "markdown",
   "id": "e7ccbec6",
   "metadata": {},
   "source": [
    "**End of process**"
   ]
  }
 ],
 "metadata": {
  "kernelspec": {
   "display_name": "Python 3 (ipykernel)",
   "language": "python",
   "name": "python3"
  },
  "language_info": {
   "codemirror_mode": {
    "name": "ipython",
    "version": 3
   },
   "file_extension": ".py",
   "mimetype": "text/x-python",
   "name": "python",
   "nbconvert_exporter": "python",
   "pygments_lexer": "ipython3",
   "version": "3.9.7"
  }
 },
 "nbformat": 4,
 "nbformat_minor": 5
}
