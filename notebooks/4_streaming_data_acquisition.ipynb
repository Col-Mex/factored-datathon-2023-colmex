{
 "cells": [
  {
   "cell_type": "markdown",
   "metadata": {},
   "source": [
    "# Read Stream Data"
   ]
  },
  {
   "cell_type": "markdown",
   "metadata": {},
   "source": [
    "Stream Data is received constantly. Sample:"
   ]
  },
  {
   "cell_type": "markdown",
   "metadata": {},
   "source": [
    "```json\n",
    "{\n",
    "    \"asin\": \"B015R4DH2G\",\n",
    "    \"overall\": \"5.0\",\n",
    "    \"reviewText\": \"Flag is great.  It is as described and came on the delivery date.\",\n",
    "    \"reviewerID\": \"A3RHJ3HXMNAG2X\",\n",
    "    \"reviewerName\": \"Kindle Customer\",\n",
    "    \"style\": \"{\\\"Color:\\\":\\\" Fly Breeze\\\"}\",\n",
    "    \"summary\": \"Quick service.\",\n",
    "    \"verified\": \"true\",\n",
    "    \"internal_partition\": \"0\",\n",
    "    \"partition_number\": 140003482\n",
    "}\n",
    "\n",
    "{\n",
    "    \"asin\": \"B015QKRTZM\",\n",
    "    \"image\": \"[\\\"https://images-na.ssl-images-amazon.com/images/I/51Xp4LN2McL._SY88.jpg\\\"]\",\n",
    "    \"overall\": \"4.0\",\n",
    "    \"reviewText\": \"A little smaller than I had pictured in my head\",\n",
    "    \"reviewerID\": \"AGSWZ0P2J801K\",\n",
    "    \"reviewerName\": \"ArmiWyf\",\n",
    "    \"summary\": \"Cute but small.\",\n",
    "    \"verified\": \"true\",\n",
    "    \"vote\": \"3\",\n",
    "    \"internal_partition\": \"0\",\n",
    "    \"partition_number\": 140001782\n",
    "}\n",
    "```"
   ]
  },
  {
   "cell_type": "markdown",
   "metadata": {},
   "source": [
    "Script: [recv_stream_data_async.py](../scripts/recv_stream_data_async.py)"
   ]
  },
  {
   "cell_type": "markdown",
   "metadata": {},
   "source": []
  }
 ],
 "metadata": {
  "kernelspec": {
   "display_name": "factored",
   "language": "python",
   "name": "python3"
  },
  "language_info": {
   "codemirror_mode": {
    "name": "ipython",
    "version": 3
   },
   "file_extension": ".py",
   "mimetype": "text/x-python",
   "name": "python",
   "nbconvert_exporter": "python",
   "pygments_lexer": "ipython3",
   "version": "3.9.17"
  },
  "orig_nbformat": 4
 },
 "nbformat": 4,
 "nbformat_minor": 2
}
