{
 "cells": [
  {
   "cell_type": "markdown",
   "metadata": {},
   "source": [
    "# Transform Batch/Streaming Data"
   ]
  },
  {
   "cell_type": "code",
   "execution_count": 1,
   "metadata": {},
   "outputs": [],
   "source": [
    "import pandas as pd\n",
    "import datetime\n",
    "import time"
   ]
  },
  {
   "cell_type": "markdown",
   "metadata": {},
   "source": [
    "Streaming starting date"
   ]
  },
  {
   "cell_type": "code",
   "execution_count": 2,
   "metadata": {},
   "outputs": [
    {
     "data": {
      "text/html": [
       "<div>\n",
       "<style scoped>\n",
       "    .dataframe tbody tr th:only-of-type {\n",
       "        vertical-align: middle;\n",
       "    }\n",
       "\n",
       "    .dataframe tbody tr th {\n",
       "        vertical-align: top;\n",
       "    }\n",
       "\n",
       "    .dataframe thead th {\n",
       "        text-align: right;\n",
       "    }\n",
       "</style>\n",
       "<table border=\"1\" class=\"dataframe\">\n",
       "  <thead>\n",
       "    <tr style=\"text-align: right;\">\n",
       "      <th></th>\n",
       "      <th>date</th>\n",
       "      <th>reviews</th>\n",
       "    </tr>\n",
       "  </thead>\n",
       "  <tbody>\n",
       "    <tr>\n",
       "      <th>0</th>\n",
       "      <td>Thursday, July 27</td>\n",
       "      <td>10223</td>\n",
       "    </tr>\n",
       "    <tr>\n",
       "      <th>1</th>\n",
       "      <td>Friday, July 28</td>\n",
       "      <td>10000</td>\n",
       "    </tr>\n",
       "    <tr>\n",
       "      <th>2</th>\n",
       "      <td>Saturday, July 29</td>\n",
       "      <td>10000</td>\n",
       "    </tr>\n",
       "  </tbody>\n",
       "</table>\n",
       "</div>"
      ],
      "text/plain": [
       "                date  reviews\n",
       "0  Thursday, July 27    10223\n",
       "1    Friday, July 28    10000\n",
       "2  Saturday, July 29    10000"
      ]
     },
     "execution_count": 2,
     "metadata": {},
     "output_type": "execute_result"
    }
   ],
   "source": [
    "pd.DataFrame({'date': ['Thursday, July 27', 'Friday, July 28', 'Saturday, July 29'], \n",
    "              'reviews': [10223, 10000, 10000]})"
   ]
  },
  {
   "cell_type": "code",
   "execution_count": 3,
   "metadata": {},
   "outputs": [
    {
     "data": {
      "text/plain": [
       "Index(['asin', 'overall', 'reviewText', 'reviewerID', 'reviewerName',\n",
       "       'summary', 'verified', 'internal_partition', 'partition_number',\n",
       "       'style', 'vote', 'image'],\n",
       "      dtype='object')"
      ]
     },
     "execution_count": 3,
     "metadata": {},
     "output_type": "execute_result"
    }
   ],
   "source": [
    "df_stream_raw_samples = pd.read_parquet('../../stream_90223_raw_samples.parquet')\n",
    "df_stream_raw_samples.columns"
   ]
  },
  {
   "cell_type": "code",
   "execution_count": 4,
   "metadata": {},
   "outputs": [
    {
     "data": {
      "text/plain": [
       "Index(['asin', 'image', 'overall', 'reviewText', 'reviewerID', 'reviewerName',\n",
       "       'style', 'summary', 'unixReviewTime', 'verified', 'vote'],\n",
       "      dtype='object')"
      ]
     },
     "execution_count": 4,
     "metadata": {},
     "output_type": "execute_result"
    }
   ],
   "source": [
    "batch_data_music_all = pd.read_parquet('../../batch_data_music_all_291631_noID.parquet')\n",
    "batch_data_music_all.columns"
   ]
  },
  {
   "cell_type": "code",
   "execution_count": 5,
   "metadata": {},
   "outputs": [],
   "source": [
    "def get_review_id(id_pre, num_samples, ts):\n",
    "    # specify padding for int string\n",
    "    max_unit = 1e9\n",
    "    n0s = len(str(int(max_unit)))\n",
    "\n",
    "    if not ts.empty:\n",
    "        timestamps = ts\n",
    "    else:\n",
    "        timestamp = f'{int(time.time()):0{n0s}}'\n",
    "        timestamps = pd.Series([timestamp for _ in range(num_samples)])\n",
    "\n",
    "    sub_ids = pd.Series(range(num_samples)).map(f'{{:0{n0s}}}'.format)\n",
    "    reviews_id = id_pre + timestamps + 'T' + sub_ids\n",
    "\n",
    "    return reviews_id\n",
    "\n",
    "def transform(df):\n",
    "    if 'unixReviewTime' in df.columns: \n",
    "        id_prefix = 'B' # Batch Data\n",
    "        df['dateReview'] = pd.to_datetime(df['unixReviewTime'].astype(int), unit='s').dt.date\n",
    "        \n",
    "        last_batch_date = df['dateReview'].max()\n",
    "        first_streaming_date = datetime.datetime.strptime('2023-07-27', \"%Y-%m-%d\").date()\n",
    "        # old batch data, slice to present for app demo\n",
    "        if last_batch_date < first_streaming_date:\n",
    "            diff_days = first_streaming_date - last_batch_date - datetime.timedelta(days=1)\n",
    "            df['dateReview'] = df['dateReview'] + diff_days\n",
    "        timestamp = df.pop('unixReviewTime')\n",
    "    else:\n",
    "        id_prefix = 'S' # Stream Data\n",
    "        timestamp = pd.Series()\n",
    "        # Remove unnecessary columns\n",
    "        df.drop(['internal_partition', 'partition_number'], axis=1, inplace=True)\n",
    "        df['dateReview'] = datetime.date.today()\n",
    "        \n",
    "    df['overall'] = pd.to_numeric(df['overall']).astype(int)\n",
    "    # Create column of review ID \n",
    "    df['reviewID'] = get_review_id(id_prefix, len(df), timestamp)\n",
    "    # Replace nulls by 0s\n",
    "    df.loc[df['vote'].isnull(), 'vote'] = '0'\n",
    "    df['vote'] = df['vote'].str.replace(',', '').astype(int)\n",
    "    # string verified to boolean\n",
    "    df.loc[df['verified'] == 'true', 'verified'] = True\n",
    "    df.loc[df['verified'] == 'false', 'verified'] = False\n",
    "    # Remove unnecessary columns\n",
    "    df.drop(['image', 'style'], axis=1, inplace=True)"
   ]
  },
  {
   "cell_type": "code",
   "execution_count": 6,
   "metadata": {},
   "outputs": [
    {
     "name": "stdout",
     "output_type": "stream",
     "text": [
      "['asin', 'dateReview', 'overall', 'reviewID', 'reviewText', 'reviewerID', 'reviewerName', 'summary', 'verified', 'vote']\n"
     ]
    }
   ],
   "source": [
    "transform(df_stream_raw_samples)\n",
    "print(sorted(df_stream_raw_samples.columns))"
   ]
  },
  {
   "cell_type": "code",
   "execution_count": 7,
   "metadata": {},
   "outputs": [
    {
     "name": "stdout",
     "output_type": "stream",
     "text": [
      "['asin', 'dateReview', 'overall', 'reviewID', 'reviewText', 'reviewerID', 'reviewerName', 'summary', 'verified', 'vote']\n"
     ]
    }
   ],
   "source": [
    "transform(batch_data_music_all)\n",
    "print(sorted(batch_data_music_all.columns))"
   ]
  },
  {
   "cell_type": "code",
   "execution_count": 8,
   "metadata": {},
   "outputs": [
    {
     "data": {
      "text/plain": [
       "122219    2023-07-26\n",
       "122220    2023-07-26\n",
       "56173     2023-07-25\n",
       "267113    2023-07-23\n",
       "100861    2023-07-22\n",
       "             ...    \n",
       "94337     2007-03-28\n",
       "244468    2006-12-26\n",
       "244469    2006-06-12\n",
       "2246      2005-08-07\n",
       "195180    2005-01-30\n",
       "Name: dateReview, Length: 291631, dtype: object"
      ]
     },
     "execution_count": 8,
     "metadata": {},
     "output_type": "execute_result"
    }
   ],
   "source": [
    "batch_data_music_all['dateReview'].sort_values(ascending=False)"
   ]
  },
  {
   "cell_type": "markdown",
   "metadata": {},
   "source": [
    "Prepare streaming data for batch ingestion"
   ]
  },
  {
   "cell_type": "code",
   "execution_count": 9,
   "metadata": {},
   "outputs": [],
   "source": [
    "import numpy as np\n",
    "\n",
    "first_sampling = 10223\n",
    "first_streaming_date = pd.to_datetime('2023-07-27').date()\n",
    "normal_sampling = 10000\n",
    "num_samples = len(df_stream_raw_samples)\n",
    "\n",
    "samples = np.arange(first_sampling, num_samples+1, normal_sampling)\n",
    "dates = pd.date_range('2023-07-28', periods=(num_samples//normal_sampling)-1)\n",
    "\n",
    "df_stream_raw_samples.loc[:first_sampling, 'dateReview'] = first_streaming_date\n",
    "\n",
    "for i in range(len(dates)):\n",
    "    df_stream_raw_samples.loc[samples[i]:samples[i+1], 'dateReview'] = dates[i].date()"
   ]
  },
  {
   "cell_type": "code",
   "execution_count": 10,
   "metadata": {},
   "outputs": [],
   "source": [
    "df_stream_raw_samples.to_parquet(f'stream_data_{len(df_stream_raw_samples)}.parquet')"
   ]
  },
  {
   "cell_type": "markdown",
   "metadata": {},
   "source": [
    "Filter by `Musical Instruments` category"
   ]
  },
  {
   "cell_type": "code",
   "execution_count": 11,
   "metadata": {},
   "outputs": [],
   "source": [
    "df_musical_instruments_asins = pd.read_parquet('../../musical_instruments_asins.parquet')"
   ]
  },
  {
   "cell_type": "code",
   "execution_count": 12,
   "metadata": {},
   "outputs": [],
   "source": [
    "df_stream_data_music = df_stream_raw_samples[df_stream_raw_samples['asin'].isin(\n",
    "    df_musical_instruments_asins['asin'])]\n",
    "df_stream_data_music.to_parquet(f'stream_data_music_{len(df_stream_data_music)}.parquet')"
   ]
  },
  {
   "cell_type": "markdown",
   "metadata": {},
   "source": [
    "Concat Batch an Streaming Data for batch ingestion to db"
   ]
  },
  {
   "cell_type": "code",
   "execution_count": 13,
   "metadata": {},
   "outputs": [
    {
     "data": {
      "text/html": [
       "<div>\n",
       "<style scoped>\n",
       "    .dataframe tbody tr th:only-of-type {\n",
       "        vertical-align: middle;\n",
       "    }\n",
       "\n",
       "    .dataframe tbody tr th {\n",
       "        vertical-align: top;\n",
       "    }\n",
       "\n",
       "    .dataframe thead th {\n",
       "        text-align: right;\n",
       "    }\n",
       "</style>\n",
       "<table border=\"1\" class=\"dataframe\">\n",
       "  <thead>\n",
       "    <tr style=\"text-align: right;\">\n",
       "      <th></th>\n",
       "      <th>asin</th>\n",
       "      <th>overall</th>\n",
       "      <th>reviewText</th>\n",
       "      <th>reviewerID</th>\n",
       "      <th>reviewerName</th>\n",
       "      <th>summary</th>\n",
       "      <th>verified</th>\n",
       "      <th>vote</th>\n",
       "      <th>dateReview</th>\n",
       "      <th>reviewID</th>\n",
       "    </tr>\n",
       "  </thead>\n",
       "  <tbody>\n",
       "    <tr>\n",
       "      <th>0</th>\n",
       "      <td>B00N9330MU</td>\n",
       "      <td>4</td>\n",
       "      <td>When my &amp; and 5 yr old daughters opened it at ...</td>\n",
       "      <td>A3V0480PVRUZGP</td>\n",
       "      <td>Cluckadoodledoo</td>\n",
       "      <td>... yr old daughters opened it at Christmas I ...</td>\n",
       "      <td>False</td>\n",
       "      <td>9</td>\n",
       "      <td>2019-11-13</td>\n",
       "      <td>B1421452800T0000000000</td>\n",
       "    </tr>\n",
       "    <tr>\n",
       "      <th>1</th>\n",
       "      <td>B00N9330MU</td>\n",
       "      <td>4</td>\n",
       "      <td>My daughter loves this machine. The volume is ...</td>\n",
       "      <td>ANM0OAW6DMOSD</td>\n",
       "      <td>Misty Christian</td>\n",
       "      <td>Four Stars</td>\n",
       "      <td>True</td>\n",
       "      <td>9</td>\n",
       "      <td>2019-08-02</td>\n",
       "      <td>B1412553600T0000000001</td>\n",
       "    </tr>\n",
       "    <tr>\n",
       "      <th>2</th>\n",
       "      <td>B00QN040IO</td>\n",
       "      <td>5</td>\n",
       "      <td>Wonderful, great price.</td>\n",
       "      <td>A2ECJYRPAU0TDU</td>\n",
       "      <td>Skullified</td>\n",
       "      <td>Five Stars</td>\n",
       "      <td>True</td>\n",
       "      <td>0</td>\n",
       "      <td>2021-06-13</td>\n",
       "      <td>B1471392000T0000000002</td>\n",
       "    </tr>\n",
       "    <tr>\n",
       "      <th>3</th>\n",
       "      <td>B00WTV515M</td>\n",
       "      <td>4</td>\n",
       "      <td>I bought this as a gift for an SRV fan and he ...</td>\n",
       "      <td>A3KP2K3QQTBE6</td>\n",
       "      <td>tina kraybill</td>\n",
       "      <td>... as a gift for an SRV fan and he loved it. ...</td>\n",
       "      <td>True</td>\n",
       "      <td>0</td>\n",
       "      <td>2023-02-01</td>\n",
       "      <td>B1523059200T0000000003</td>\n",
       "    </tr>\n",
       "    <tr>\n",
       "      <th>4</th>\n",
       "      <td>B00WTV515M</td>\n",
       "      <td>5</td>\n",
       "      <td>This is a great display piece. If you are a SR...</td>\n",
       "      <td>AT1GTMI5LASMZ</td>\n",
       "      <td>Waxpoet</td>\n",
       "      <td>Great addition or start to mini collection</td>\n",
       "      <td>True</td>\n",
       "      <td>0</td>\n",
       "      <td>2022-03-20</td>\n",
       "      <td>B1495584000T0000000004</td>\n",
       "    </tr>\n",
       "    <tr>\n",
       "      <th>...</th>\n",
       "      <td>...</td>\n",
       "      <td>...</td>\n",
       "      <td>...</td>\n",
       "      <td>...</td>\n",
       "      <td>...</td>\n",
       "      <td>...</td>\n",
       "      <td>...</td>\n",
       "      <td>...</td>\n",
       "      <td>...</td>\n",
       "      <td>...</td>\n",
       "    </tr>\n",
       "    <tr>\n",
       "      <th>335050</th>\n",
       "      <td>B000EELB2S</td>\n",
       "      <td>5</td>\n",
       "      <td>I have this attached to my music stand.  It el...</td>\n",
       "      <td>A2QYJC77CW9BAS</td>\n",
       "      <td>David J. Milne Jr.</td>\n",
       "      <td>Great Light For Full Music Stands</td>\n",
       "      <td>True</td>\n",
       "      <td>0</td>\n",
       "      <td>2023-08-04</td>\n",
       "      <td>S1691267347T0000090213</td>\n",
       "    </tr>\n",
       "    <tr>\n",
       "      <th>335051</th>\n",
       "      <td>B000EELB2S</td>\n",
       "      <td>2</td>\n",
       "      <td>Caveat emptor...there are several \"Universal\" ...</td>\n",
       "      <td>A1QOZ2N5RLIY32</td>\n",
       "      <td>phidler</td>\n",
       "      <td>Not all lights are created equal</td>\n",
       "      <td>False</td>\n",
       "      <td>0</td>\n",
       "      <td>2023-08-04</td>\n",
       "      <td>S1691267347T0000090215</td>\n",
       "    </tr>\n",
       "    <tr>\n",
       "      <th>335052</th>\n",
       "      <td>B000EEN9SC</td>\n",
       "      <td>5</td>\n",
       "      <td>Wonderful. It is very easy to adjust and is mu...</td>\n",
       "      <td>A3FHN66HWGRGZQ</td>\n",
       "      <td>The Bear</td>\n",
       "      <td>Wonderful. It is very easy to adjust and is ...</td>\n",
       "      <td>True</td>\n",
       "      <td>0</td>\n",
       "      <td>2023-08-04</td>\n",
       "      <td>S1691267347T0000090217</td>\n",
       "    </tr>\n",
       "    <tr>\n",
       "      <th>335053</th>\n",
       "      <td>B000EEN9SC</td>\n",
       "      <td>5</td>\n",
       "      <td>good for school</td>\n",
       "      <td>AUX2CQ0NAXOE3</td>\n",
       "      <td>Lori Hagemann</td>\n",
       "      <td>Five Stars</td>\n",
       "      <td>True</td>\n",
       "      <td>0</td>\n",
       "      <td>2023-08-04</td>\n",
       "      <td>S1691267347T0000090219</td>\n",
       "    </tr>\n",
       "    <tr>\n",
       "      <th>335054</th>\n",
       "      <td>B000EEN9SC</td>\n",
       "      <td>4</td>\n",
       "      <td>It's okay if you plan on performing standing r...</td>\n",
       "      <td>A1G1GDXGS41PCZ</td>\n",
       "      <td>Tragic_comic</td>\n",
       "      <td>Too short...</td>\n",
       "      <td>True</td>\n",
       "      <td>0</td>\n",
       "      <td>2023-08-04</td>\n",
       "      <td>S1691267347T0000090221</td>\n",
       "    </tr>\n",
       "  </tbody>\n",
       "</table>\n",
       "<p>335055 rows × 10 columns</p>\n",
       "</div>"
      ],
      "text/plain": [
       "              asin  overall  \\\n",
       "0       B00N9330MU        4   \n",
       "1       B00N9330MU        4   \n",
       "2       B00QN040IO        5   \n",
       "3       B00WTV515M        4   \n",
       "4       B00WTV515M        5   \n",
       "...            ...      ...   \n",
       "335050  B000EELB2S        5   \n",
       "335051  B000EELB2S        2   \n",
       "335052  B000EEN9SC        5   \n",
       "335053  B000EEN9SC        5   \n",
       "335054  B000EEN9SC        4   \n",
       "\n",
       "                                               reviewText      reviewerID  \\\n",
       "0       When my & and 5 yr old daughters opened it at ...  A3V0480PVRUZGP   \n",
       "1       My daughter loves this machine. The volume is ...   ANM0OAW6DMOSD   \n",
       "2                                 Wonderful, great price.  A2ECJYRPAU0TDU   \n",
       "3       I bought this as a gift for an SRV fan and he ...   A3KP2K3QQTBE6   \n",
       "4       This is a great display piece. If you are a SR...   AT1GTMI5LASMZ   \n",
       "...                                                   ...             ...   \n",
       "335050  I have this attached to my music stand.  It el...  A2QYJC77CW9BAS   \n",
       "335051  Caveat emptor...there are several \"Universal\" ...  A1QOZ2N5RLIY32   \n",
       "335052  Wonderful. It is very easy to adjust and is mu...  A3FHN66HWGRGZQ   \n",
       "335053                                    good for school   AUX2CQ0NAXOE3   \n",
       "335054  It's okay if you plan on performing standing r...  A1G1GDXGS41PCZ   \n",
       "\n",
       "              reviewerName                                            summary  \\\n",
       "0          Cluckadoodledoo  ... yr old daughters opened it at Christmas I ...   \n",
       "1          Misty Christian                                         Four Stars   \n",
       "2               Skullified                                         Five Stars   \n",
       "3            tina kraybill  ... as a gift for an SRV fan and he loved it. ...   \n",
       "4                  Waxpoet         Great addition or start to mini collection   \n",
       "...                    ...                                                ...   \n",
       "335050  David J. Milne Jr.                  Great Light For Full Music Stands   \n",
       "335051             phidler                   Not all lights are created equal   \n",
       "335052            The Bear    Wonderful. It is very easy to adjust and is ...   \n",
       "335053       Lori Hagemann                                         Five Stars   \n",
       "335054        Tragic_comic                                       Too short...   \n",
       "\n",
       "       verified  vote  dateReview                reviewID  \n",
       "0         False     9  2019-11-13  B1421452800T0000000000  \n",
       "1          True     9  2019-08-02  B1412553600T0000000001  \n",
       "2          True     0  2021-06-13  B1471392000T0000000002  \n",
       "3          True     0  2023-02-01  B1523059200T0000000003  \n",
       "4          True     0  2022-03-20  B1495584000T0000000004  \n",
       "...         ...   ...         ...                     ...  \n",
       "335050     True     0  2023-08-04  S1691267347T0000090213  \n",
       "335051    False     0  2023-08-04  S1691267347T0000090215  \n",
       "335052     True     0  2023-08-04  S1691267347T0000090217  \n",
       "335053     True     0  2023-08-04  S1691267347T0000090219  \n",
       "335054     True     0  2023-08-04  S1691267347T0000090221  \n",
       "\n",
       "[335055 rows x 10 columns]"
      ]
     },
     "execution_count": 13,
     "metadata": {},
     "output_type": "execute_result"
    }
   ],
   "source": [
    "full_dataset = pd.concat([batch_data_music_all, df_stream_data_music]).reset_index(drop=True)\n",
    "full_dataset.to_parquet(f'batch_stream_music_data_{len(full_dataset)}.parquet')\n",
    "full_dataset"
   ]
  }
 ],
 "metadata": {
  "kernelspec": {
   "display_name": "factored",
   "language": "python",
   "name": "python3"
  },
  "language_info": {
   "codemirror_mode": {
    "name": "ipython",
    "version": 3
   },
   "file_extension": ".py",
   "mimetype": "text/x-python",
   "name": "python",
   "nbconvert_exporter": "python",
   "pygments_lexer": "ipython3",
   "version": "3.9.17"
  },
  "orig_nbformat": 4
 },
 "nbformat": 4,
 "nbformat_minor": 2
}
