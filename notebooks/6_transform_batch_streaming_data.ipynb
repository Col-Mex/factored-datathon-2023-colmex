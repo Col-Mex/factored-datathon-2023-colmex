{
 "cells": [
  {
   "cell_type": "markdown",
   "metadata": {},
   "source": [
    "# Transform Batch/Streaming Data"
   ]
  },
  {
   "cell_type": "code",
   "execution_count": 1,
   "metadata": {},
   "outputs": [],
   "source": [
    "import pandas as pd\n",
    "import datetime\n",
    "import time"
   ]
  },
  {
   "cell_type": "markdown",
   "metadata": {},
   "source": [
    "Streaming starting date"
   ]
  },
  {
   "cell_type": "code",
   "execution_count": 2,
   "metadata": {},
   "outputs": [
    {
     "data": {
      "text/html": [
       "<div>\n",
       "<style scoped>\n",
       "    .dataframe tbody tr th:only-of-type {\n",
       "        vertical-align: middle;\n",
       "    }\n",
       "\n",
       "    .dataframe tbody tr th {\n",
       "        vertical-align: top;\n",
       "    }\n",
       "\n",
       "    .dataframe thead th {\n",
       "        text-align: right;\n",
       "    }\n",
       "</style>\n",
       "<table border=\"1\" class=\"dataframe\">\n",
       "  <thead>\n",
       "    <tr style=\"text-align: right;\">\n",
       "      <th></th>\n",
       "      <th>date</th>\n",
       "      <th>reviews</th>\n",
       "    </tr>\n",
       "  </thead>\n",
       "  <tbody>\n",
       "    <tr>\n",
       "      <th>0</th>\n",
       "      <td>Thursday, July 27</td>\n",
       "      <td>10223</td>\n",
       "    </tr>\n",
       "    <tr>\n",
       "      <th>1</th>\n",
       "      <td>Friday, July 28</td>\n",
       "      <td>10000</td>\n",
       "    </tr>\n",
       "    <tr>\n",
       "      <th>2</th>\n",
       "      <td>Saturday, July 29</td>\n",
       "      <td>10000</td>\n",
       "    </tr>\n",
       "  </tbody>\n",
       "</table>\n",
       "</div>"
      ],
      "text/plain": [
       "                date  reviews\n",
       "0  Thursday, July 27    10223\n",
       "1    Friday, July 28    10000\n",
       "2  Saturday, July 29    10000"
      ]
     },
     "execution_count": 2,
     "metadata": {},
     "output_type": "execute_result"
    }
   ],
   "source": [
    "pd.DataFrame({'date': ['Thursday, July 27', 'Friday, July 28', 'Saturday, July 29'], \n",
    "              'reviews': [10223, 10000, 10000]})"
   ]
  },
  {
   "cell_type": "code",
   "execution_count": 3,
   "metadata": {},
   "outputs": [
    {
     "data": {
      "text/plain": [
       "Index(['asin', 'overall', 'reviewText', 'reviewerID', 'reviewerName',\n",
       "       'summary', 'verified', 'internal_partition', 'partition_number',\n",
       "       'style', 'vote', 'image'],\n",
       "      dtype='object')"
      ]
     },
     "execution_count": 3,
     "metadata": {},
     "output_type": "execute_result"
    }
   ],
   "source": [
    "df_stream_raw_samples = pd.read_parquet('../../stream_90223_raw_samples.parquet')\n",
    "df_stream_raw_samples.columns"
   ]
  },
  {
   "cell_type": "code",
   "execution_count": 4,
   "metadata": {},
   "outputs": [
    {
     "data": {
      "text/plain": [
       "Index(['asin', 'image', 'overall', 'reviewText', 'reviewerID', 'reviewerName',\n",
       "       'style', 'summary', 'unixReviewTime', 'verified', 'vote'],\n",
       "      dtype='object')"
      ]
     },
     "execution_count": 4,
     "metadata": {},
     "output_type": "execute_result"
    }
   ],
   "source": [
    "batch_data_music_all = pd.read_parquet('../../batch_data_music_all_291631_noID.parquet')\n",
    "batch_data_music_all.columns"
   ]
  },
  {
   "cell_type": "code",
   "execution_count": 5,
   "metadata": {},
   "outputs": [],
   "source": [
    "batch_data_music_all['dateReview'] = pd.to_datetime(\n",
    "            batch_data_music_all['unixReviewTime'].astype(int), unit='s').dt.date"
   ]
  },
  {
   "cell_type": "code",
   "execution_count": 6,
   "metadata": {},
   "outputs": [],
   "source": [
    "def get_review_id(id_pre, num_samples, ts):\n",
    "    # specify padding for int string\n",
    "    max_unit = 1e9\n",
    "    n0s = len(str(int(max_unit)))\n",
    "\n",
    "    if not ts.empty:\n",
    "        timestamps = ts\n",
    "    else:\n",
    "        timestamp = f'{int(time.time()):0{n0s}}'\n",
    "        timestamps = pd.Series([timestamp for _ in range(num_samples)])\n",
    "\n",
    "    sub_ids = pd.Series(range(num_samples)).map(f'{{:0{n0s}}}'.format)\n",
    "    reviews_id = id_pre + timestamps + 'T' + sub_ids\n",
    "\n",
    "    return reviews_id\n",
    "\n",
    "def transform(df):\n",
    "    if 'unixReviewTime' in df.columns: \n",
    "        id_prefix = 'B' # Batch Data\n",
    "        df['dateReview'] = pd.to_datetime(\n",
    "            df['unixReviewTime'].astype(int), unit='s').dt.date# + diff_days\n",
    "        \n",
    "        last_batch_date = df['dateReview'].max()\n",
    "        first_streaming_date = datetime.datetime.strptime('2023-07-27', \"%Y-%m-%d\").date()\n",
    "        # old batch data, slice to present for app demo\n",
    "        if last_batch_date < first_streaming_date:\n",
    "            diff_days = first_streaming_date - last_batch_date - datetime.timedelta(days=1)\n",
    "            df['dateReview'] = df['dateReview'] + diff_days\n",
    "        timestamp = df.pop('unixReviewTime')\n",
    "    else:\n",
    "        id_prefix = 'S' # Stream Data\n",
    "        timestamp = pd.Series()\n",
    "        # Remove unnecessary columns\n",
    "        df.drop(['internal_partition', 'partition_number'], axis=1, inplace=True)\n",
    "        df['dateReview'] = datetime.date.today()\n",
    "        \n",
    "    df['overall'] = pd.to_numeric(df['overall']).astype(int)\n",
    "    # Create column of review ID \n",
    "    df['reviewID'] = get_review_id(id_prefix, len(df), timestamp)\n",
    "    # Replace nulls by 0s\n",
    "    df.loc[df['vote'].isnull(), 'vote'] = '0'\n",
    "    df['vote'] = df['vote'].str.replace(',', '').astype(int)\n",
    "    # Remove unnecessary columns\n",
    "    df.drop(['image', 'style'], axis=1, inplace=True)"
   ]
  },
  {
   "cell_type": "code",
   "execution_count": 7,
   "metadata": {},
   "outputs": [
    {
     "name": "stdout",
     "output_type": "stream",
     "text": [
      "['asin', 'dateReview', 'overall', 'reviewID', 'reviewText', 'reviewerID', 'reviewerName', 'summary', 'verified', 'vote']\n"
     ]
    }
   ],
   "source": [
    "transform(df_stream_raw_samples)\n",
    "print(sorted(df_stream_raw_samples.columns))"
   ]
  },
  {
   "cell_type": "code",
   "execution_count": 8,
   "metadata": {},
   "outputs": [
    {
     "ename": "TypeError",
     "evalue": "can't compare datetime.datetime to datetime.date",
     "output_type": "error",
     "traceback": [
      "\u001b[0;31m---------------------------------------------------------------------------\u001b[0m",
      "\u001b[0;31mTypeError\u001b[0m                                 Traceback (most recent call last)",
      "Cell \u001b[0;32mIn[8], line 1\u001b[0m\n\u001b[0;32m----> 1\u001b[0m transform(batch_data_music_all)\n\u001b[1;32m      2\u001b[0m \u001b[39mprint\u001b[39m(\u001b[39msorted\u001b[39m(batch_data_music_all\u001b[39m.\u001b[39mcolumns))\n",
      "Cell \u001b[0;32mIn[6], line 26\u001b[0m, in \u001b[0;36mtransform\u001b[0;34m(df)\u001b[0m\n\u001b[1;32m     24\u001b[0m first_streaming_date \u001b[39m=\u001b[39m datetime\u001b[39m.\u001b[39mdatetime\u001b[39m.\u001b[39mstrptime(\u001b[39m'\u001b[39m\u001b[39m2023-07-27\u001b[39m\u001b[39m'\u001b[39m, \u001b[39m\"\u001b[39m\u001b[39m%\u001b[39m\u001b[39mY-\u001b[39m\u001b[39m%\u001b[39m\u001b[39mm-\u001b[39m\u001b[39m%d\u001b[39;00m\u001b[39m\"\u001b[39m)\n\u001b[1;32m     25\u001b[0m \u001b[39m# old batch data, slice to present for app demo\u001b[39;00m\n\u001b[0;32m---> 26\u001b[0m \u001b[39mif\u001b[39;00m last_batch_date \u001b[39m<\u001b[39;49m first_streaming_date:\n\u001b[1;32m     27\u001b[0m     diff_days \u001b[39m=\u001b[39m first_streaming_date \u001b[39m-\u001b[39m last_batch_date \u001b[39m-\u001b[39m datetime\u001b[39m.\u001b[39mtimedelta(days\u001b[39m=\u001b[39m\u001b[39m1\u001b[39m)\n\u001b[1;32m     28\u001b[0m     df[\u001b[39m'\u001b[39m\u001b[39mdateReview\u001b[39m\u001b[39m'\u001b[39m] \u001b[39m=\u001b[39m df[\u001b[39m'\u001b[39m\u001b[39mdateReview\u001b[39m\u001b[39m'\u001b[39m] \u001b[39m+\u001b[39m diff_days\n",
      "\u001b[0;31mTypeError\u001b[0m: can't compare datetime.datetime to datetime.date"
     ]
    }
   ],
   "source": [
    "transform(batch_data_music_all)\n",
    "print(sorted(batch_data_music_all.columns))"
   ]
  },
  {
   "cell_type": "code",
   "execution_count": null,
   "metadata": {},
   "outputs": [],
   "source": [
    "batch_data_music_all['dateReview'].sort_values(ascending=False)"
   ]
  },
  {
   "cell_type": "markdown",
   "metadata": {},
   "source": [
    "Prepare streaming data for batch ingestion"
   ]
  },
  {
   "cell_type": "code",
   "execution_count": null,
   "metadata": {},
   "outputs": [],
   "source": [
    "import numpy as np\n",
    "\n",
    "first_sampling = 10223\n",
    "first_streaming_date = pd.to_datetime('2023-07-27').date()\n",
    "normal_sampling = 10000\n",
    "num_samples = len(df_stream_raw_samples)\n",
    "\n",
    "samples = np.arange(first_sampling, num_samples+1, normal_sampling)\n",
    "dates = pd.date_range('2023-07-28', periods=(num_samples//normal_sampling)-1)\n",
    "\n",
    "df_stream_raw_samples.loc[:first_sampling, 'dateReview'] = first_streaming_date\n",
    "\n",
    "for i in range(len(dates)):\n",
    "    df_stream_raw_samples.loc[samples[i]:samples[i+1], 'dateReview'] = dates[i].date()"
   ]
  },
  {
   "cell_type": "code",
   "execution_count": null,
   "metadata": {},
   "outputs": [],
   "source": [
    "df_stream_raw_samples.to_parquet('stream_data_92223.parquet')"
   ]
  },
  {
   "cell_type": "markdown",
   "metadata": {},
   "source": [
    "Filter by `Musical Instruments` category"
   ]
  },
  {
   "cell_type": "code",
   "execution_count": null,
   "metadata": {},
   "outputs": [],
   "source": [
    "df_musical_instruments_asins = pd.read_parquet('../../musical_instruments_asins.parquet')"
   ]
  },
  {
   "cell_type": "code",
   "execution_count": null,
   "metadata": {},
   "outputs": [],
   "source": [
    "df_stream_data_music = df_stream_raw_samples[df_stream_raw_samples['asin'].isin(\n",
    "    df_musical_instruments_asins['asin'])]\n",
    "df_stream_data_music.to_parquet(f'stream_data_music_{len(df_stream_data_music)}.parquet')"
   ]
  },
  {
   "cell_type": "markdown",
   "metadata": {},
   "source": [
    "Concat Batch an Streaming Data for batch ingestion to db"
   ]
  },
  {
   "cell_type": "code",
   "execution_count": null,
   "metadata": {},
   "outputs": [],
   "source": [
    "full_dataset = pd.concat([batch_data_music_all, df_stream_data_music]).reset_index(drop=True)\n",
    "full_dataset.to_parquet(f'batch_stream_music_data_{len(full_dataset)}.parquet')\n",
    "full_dataset"
   ]
  }
 ],
 "metadata": {
  "kernelspec": {
   "display_name": "factored",
   "language": "python",
   "name": "python3"
  },
  "language_info": {
   "codemirror_mode": {
    "name": "ipython",
    "version": 3
   },
   "file_extension": ".py",
   "mimetype": "text/x-python",
   "name": "python",
   "nbconvert_exporter": "python",
   "pygments_lexer": "ipython3",
   "version": "3.9.17"
  },
  "orig_nbformat": 4
 },
 "nbformat": 4,
 "nbformat_minor": 2
}
