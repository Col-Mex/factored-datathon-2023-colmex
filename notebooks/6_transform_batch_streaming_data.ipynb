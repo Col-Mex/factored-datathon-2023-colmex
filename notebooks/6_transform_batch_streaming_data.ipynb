{
 "cells": [
  {
   "cell_type": "markdown",
   "metadata": {},
   "source": [
    "# Transform Batch/Streaming Data"
   ]
  },
  {
   "cell_type": "code",
   "execution_count": 1,
   "metadata": {},
   "outputs": [],
   "source": [
    "import pandas as pd\n",
    "import datetime\n",
    "import time"
   ]
  },
  {
   "cell_type": "markdown",
   "metadata": {},
   "source": [
    "Streaming starting date"
   ]
  },
  {
   "cell_type": "code",
   "execution_count": 2,
   "metadata": {},
   "outputs": [
    {
     "data": {
      "text/html": [
       "<div>\n",
       "<style scoped>\n",
       "    .dataframe tbody tr th:only-of-type {\n",
       "        vertical-align: middle;\n",
       "    }\n",
       "\n",
       "    .dataframe tbody tr th {\n",
       "        vertical-align: top;\n",
       "    }\n",
       "\n",
       "    .dataframe thead th {\n",
       "        text-align: right;\n",
       "    }\n",
       "</style>\n",
       "<table border=\"1\" class=\"dataframe\">\n",
       "  <thead>\n",
       "    <tr style=\"text-align: right;\">\n",
       "      <th></th>\n",
       "      <th>date</th>\n",
       "      <th>reviews</th>\n",
       "    </tr>\n",
       "  </thead>\n",
       "  <tbody>\n",
       "    <tr>\n",
       "      <th>0</th>\n",
       "      <td>Thursday, July 27</td>\n",
       "      <td>10223</td>\n",
       "    </tr>\n",
       "    <tr>\n",
       "      <th>1</th>\n",
       "      <td>Friday, July 28</td>\n",
       "      <td>10000</td>\n",
       "    </tr>\n",
       "    <tr>\n",
       "      <th>2</th>\n",
       "      <td>Saturday, July 29</td>\n",
       "      <td>10000</td>\n",
       "    </tr>\n",
       "  </tbody>\n",
       "</table>\n",
       "</div>"
      ],
      "text/plain": [
       "                date  reviews\n",
       "0  Thursday, July 27    10223\n",
       "1    Friday, July 28    10000\n",
       "2  Saturday, July 29    10000"
      ]
     },
     "execution_count": 2,
     "metadata": {},
     "output_type": "execute_result"
    }
   ],
   "source": [
    "pd.DataFrame({'date': ['Thursday, July 27', 'Friday, July 28', 'Saturday, July 29'], \n",
    "              'reviews': [10223, 10000, 10000]})"
   ]
  },
  {
   "cell_type": "code",
   "execution_count": 3,
   "metadata": {},
   "outputs": [
    {
     "data": {
      "text/plain": [
       "Index(['asin', 'overall', 'reviewText', 'reviewerID', 'reviewerName',\n",
       "       'summary', 'verified', 'internal_partition', 'partition_number',\n",
       "       'reviewID', 'style', 'vote', 'image'],\n",
       "      dtype='object')"
      ]
     },
     "execution_count": 3,
     "metadata": {},
     "output_type": "execute_result"
    }
   ],
   "source": [
    "df_stream_80223_raw_samples = pd.read_parquet('../../stream_80223_raw_samples.parquet')\n",
    "df_stream_80223_raw_samples.columns"
   ]
  },
  {
   "cell_type": "code",
   "execution_count": 4,
   "metadata": {},
   "outputs": [
    {
     "data": {
      "text/plain": [
       "Index(['asin', 'image', 'overall', 'reviewText', 'reviewerID', 'reviewerName',\n",
       "       'style', 'summary', 'unixReviewTime', 'verified', 'vote'],\n",
       "      dtype='object')"
      ]
     },
     "execution_count": 4,
     "metadata": {},
     "output_type": "execute_result"
    }
   ],
   "source": [
    "batch_data_music_all = pd.read_parquet('../../batch_data_music_all_291631_noID.parquet')\n",
    "batch_data_music_all.columns"
   ]
  },
  {
   "cell_type": "code",
   "execution_count": 5,
   "metadata": {},
   "outputs": [],
   "source": [
    "def get_review_id(id_pre, num_samples, ts):\n",
    "    # specify padding for int string\n",
    "    max_unit = 1e9\n",
    "    n0s = len(str(int(max_unit)))\n",
    "\n",
    "    if not ts.empty:\n",
    "        timestamps = ts\n",
    "    else:\n",
    "        timestamp = f'{int(time.time()):0{n0s}}'\n",
    "        timestamps = pd.Series([timestamp for _ in range(num_samples)])\n",
    "\n",
    "    sub_ids = pd.Series(range(num_samples)).map(f'{{:0{n0s}}}'.format)\n",
    "    reviews_id = id_pre + timestamps + 'T' + sub_ids\n",
    "\n",
    "    return reviews_id\n",
    "\n",
    "def transform(df):\n",
    "    if 'unixReviewTime' in df.columns: \n",
    "        last_batch_date = datetime.datetime.strptime('2018-09-29', \"%Y-%m-%d\")\n",
    "        first_streaming_date = datetime.datetime.strptime('2023-07-27', \"%Y-%m-%d\")\n",
    "        diff_days = first_streaming_date - last_batch_date - datetime.timedelta(days=1)\n",
    "        \n",
    "        id_prefix = 'B' # Batch Data\n",
    "        df['dateReview'] = pd.to_datetime(\n",
    "            df['unixReviewTime'].astype(int), unit='s').dt.date + diff_days\n",
    "        timestamp = df.pop('unixReviewTime')\n",
    "    else:\n",
    "        id_prefix = 'S' # Stream Data\n",
    "        timestamp = pd.Series()\n",
    "        # Remove unnecessary columns\n",
    "        df.drop(['internal_partition', 'partition_number'], axis=1, inplace=True)\n",
    "        df['dateReview'] = datetime.date.today()\n",
    "        \n",
    "    df['overall'] = pd.to_numeric(df['overall']).astype(int)\n",
    "    # Create column of review ID \n",
    "    df['reviewID'] = get_review_id(id_prefix, len(df), timestamp)\n",
    "    # Replace nulls by 0s\n",
    "    df.loc[df['vote'].isnull(), 'vote'] = '0'\n",
    "    df['vote'] = df['vote'].str.replace(',', '').astype(int)\n",
    "    # Remove unnecessary columns\n",
    "    df.drop(['image', 'style'], axis=1, inplace=True)"
   ]
  },
  {
   "cell_type": "code",
   "execution_count": 6,
   "metadata": {},
   "outputs": [
    {
     "name": "stdout",
     "output_type": "stream",
     "text": [
      "['asin', 'dateReview', 'overall', 'reviewID', 'reviewText', 'reviewerID', 'reviewerName', 'summary', 'verified', 'vote']\n"
     ]
    }
   ],
   "source": [
    "transform(df_stream_80223_raw_samples)\n",
    "print(sorted(df_stream_80223_raw_samples.columns))"
   ]
  },
  {
   "cell_type": "code",
   "execution_count": 7,
   "metadata": {},
   "outputs": [
    {
     "name": "stdout",
     "output_type": "stream",
     "text": [
      "['asin', 'dateReview', 'overall', 'reviewID', 'reviewText', 'reviewerID', 'reviewerName', 'summary', 'verified', 'vote']\n"
     ]
    }
   ],
   "source": [
    "transform(batch_data_music_all)\n",
    "print(sorted(batch_data_music_all.columns))"
   ]
  },
  {
   "cell_type": "code",
   "execution_count": 8,
   "metadata": {},
   "outputs": [
    {
     "data": {
      "text/plain": [
       "122219    2023-07-26\n",
       "122220    2023-07-26\n",
       "56173     2023-07-25\n",
       "267113    2023-07-23\n",
       "100861    2023-07-22\n",
       "             ...    \n",
       "94337     2007-03-28\n",
       "244468    2006-12-26\n",
       "244469    2006-06-12\n",
       "2246      2005-08-07\n",
       "195180    2005-01-30\n",
       "Name: dateReview, Length: 291631, dtype: object"
      ]
     },
     "execution_count": 8,
     "metadata": {},
     "output_type": "execute_result"
    }
   ],
   "source": [
    "batch_data_music_all['dateReview'].sort_values(ascending=False)"
   ]
  }
 ],
 "metadata": {
  "kernelspec": {
   "display_name": "factored",
   "language": "python",
   "name": "python3"
  },
  "language_info": {
   "codemirror_mode": {
    "name": "ipython",
    "version": 3
   },
   "file_extension": ".py",
   "mimetype": "text/x-python",
   "name": "python",
   "nbconvert_exporter": "python",
   "pygments_lexer": "ipython3",
   "version": "3.9.17"
  },
  "orig_nbformat": 4
 },
 "nbformat": 4,
 "nbformat_minor": 2
}
