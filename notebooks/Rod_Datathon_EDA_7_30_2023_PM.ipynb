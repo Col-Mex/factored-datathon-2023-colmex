{
 "cells": [
  {
   "cell_type": "markdown",
   "id": "68d53bb8",
   "metadata": {},
   "source": [
    "*7.30.2023 PM Sunday*"
   ]
  },
  {
   "cell_type": "markdown",
   "id": "52de340c",
   "metadata": {},
   "source": [
    "<div class=\"alert alert-block alert-success\">\n",
    "<center><h1><b> Datathon Software Category Exploratory Data Analysis / Data Understanding </b></h1></center>\n",
    "<center><h2><b> Part II </b></h2></center>\n",
    "\n",
    "<br/> \n",
    "\n",
    "\n",
    "Objectives:\n",
    "\n",
    "    *   Understand the data with a) Descriptive/Summary Statistics and b) Data Visualization (graphs/charts/tables)\n",
    "    *   Determine if data makes sense\n",
    "    *   Identify data patterns/trends/gain insights    \n",
    "    *   Identify key Vars\n",
    "    *   Determine if data wrangling/cleaning/scrub is needed (identify imperfections/probls in the data)\n",
    "    \n",
    "\n",
    "</div>"
   ]
  },
  {
   "cell_type": "markdown",
   "id": "f3b7ecd1",
   "metadata": {},
   "source": [
    "***"
   ]
  },
  {
   "cell_type": "markdown",
   "id": "6bec413c",
   "metadata": {},
   "source": [
    "# Data Collection"
   ]
  },
  {
   "cell_type": "markdown",
   "id": "e255a84e",
   "metadata": {},
   "source": [
    "## Imports and dataset extraction\n",
    "\n",
    "> Getting started"
   ]
  },
  {
   "cell_type": "code",
   "execution_count": 2,
   "id": "9d6e2f25",
   "metadata": {},
   "outputs": [],
   "source": [
    "import numpy as np\n",
    "import pandas as pd\n",
    "import matplotlib.pyplot as plt\n",
    "import seaborn as sns\n",
    "import pyarrow\n"
   ]
  },
  {
   "cell_type": "code",
   "execution_count": 3,
   "id": "36616272",
   "metadata": {},
   "outputs": [],
   "source": [
    "# Rod's standard variable for a DataFrame is ds as acronym for data set\n",
    "\n",
    "datathon_eda_sw_industry_reviews_file = \"/Users/dslab/datathon_73023_AM.parquet\"\n",
    "ds = pd.read_parquet(datathon_eda_sw_industry_reviews_file, engine='pyarrow')\n",
    "\n",
    "\n",
    "# Adding m for Metadata Data Set\n",
    "\n",
    "datathon_eda__sw_industry_metadata_file = \"/Users/dslab/Downloads/metadata_industry.parquet\"\n",
    "mds = pd.read_parquet(datathon_eda__sw_industry_metadata_file, engine='pyarrow')\n"
   ]
  },
  {
   "cell_type": "code",
   "execution_count": 4,
   "id": "d2a45f1d",
   "metadata": {},
   "outputs": [
    {
     "data": {
      "text/plain": [
       "count            303\n",
       "unique           300\n",
       "top       B00005ASHD\n",
       "freq               2\n",
       "Name: asin, dtype: object"
      ]
     },
     "execution_count": 4,
     "metadata": {},
     "output_type": "execute_result"
    }
   ],
   "source": [
    "mds['asin'].describe()"
   ]
  },
  {
   "cell_type": "code",
   "execution_count": 5,
   "id": "14e51204",
   "metadata": {},
   "outputs": [
    {
     "data": {
      "text/plain": [
       "count         292055\n",
       "unique         13209\n",
       "top       B00CTTEKJW\n",
       "freq            7929\n",
       "Name: asin, dtype: object"
      ]
     },
     "execution_count": 5,
     "metadata": {},
     "output_type": "execute_result"
    }
   ],
   "source": [
    "ds['asin'].describe()"
   ]
  },
  {
   "cell_type": "code",
   "execution_count": null,
   "id": "f6b3f14f",
   "metadata": {},
   "outputs": [],
   "source": []
  },
  {
   "cell_type": "markdown",
   "id": "7cadc67b",
   "metadata": {},
   "source": [
    "## EDA \n",
    "\n",
    "> Beging working with smaller data sets"
   ]
  },
  {
   "cell_type": "code",
   "execution_count": 5,
   "id": "0eebbe24",
   "metadata": {},
   "outputs": [
    {
     "data": {
      "text/html": [
       "<div>\n",
       "<style scoped>\n",
       "    .dataframe tbody tr th:only-of-type {\n",
       "        vertical-align: middle;\n",
       "    }\n",
       "\n",
       "    .dataframe tbody tr th {\n",
       "        vertical-align: top;\n",
       "    }\n",
       "\n",
       "    .dataframe thead th {\n",
       "        text-align: right;\n",
       "    }\n",
       "</style>\n",
       "<table border=\"1\" class=\"dataframe\">\n",
       "  <thead>\n",
       "    <tr style=\"text-align: right;\">\n",
       "      <th></th>\n",
       "      <th>also_buy</th>\n",
       "      <th>also_view</th>\n",
       "      <th>asin</th>\n",
       "      <th>brand</th>\n",
       "      <th>category</th>\n",
       "      <th>date</th>\n",
       "      <th>description</th>\n",
       "      <th>details</th>\n",
       "      <th>feature</th>\n",
       "      <th>fit</th>\n",
       "      <th>image</th>\n",
       "      <th>main_cat</th>\n",
       "      <th>price</th>\n",
       "      <th>rank</th>\n",
       "      <th>similar_item</th>\n",
       "      <th>tech1</th>\n",
       "      <th>tech2</th>\n",
       "      <th>title</th>\n",
       "    </tr>\n",
       "  </thead>\n",
       "  <tbody>\n",
       "    <tr>\n",
       "      <th>4371</th>\n",
       "      <td>[]</td>\n",
       "      <td>[]</td>\n",
       "      <td>B00005ASHD</td>\n",
       "      <td>Smiles Productions</td>\n",
       "      <td>[CDs &amp; Vinyl, Special Interest, Instructional]</td>\n",
       "      <td>&lt;/div&gt;</td>\n",
       "      <td>[Arrive in Israel at the airport, catch a taxi...</td>\n",
       "      <td>{'\n",
       "    Item Weight: \n",
       "    ': None, '\n",
       "    Packag...</td>\n",
       "      <td>[]</td>\n",
       "      <td></td>\n",
       "      <td>[]</td>\n",
       "      <td>Software</td>\n",
       "      <td></td>\n",
       "      <td>40,216 in Software (</td>\n",
       "      <td></td>\n",
       "      <td></td>\n",
       "      <td></td>\n",
       "      <td>Speak Hebrew! (Jewel Case) [Old Version]</td>\n",
       "    </tr>\n",
       "    <tr>\n",
       "      <th>4388</th>\n",
       "      <td>[]</td>\n",
       "      <td>[]</td>\n",
       "      <td>B00005ASHC</td>\n",
       "      <td>Smiles Productions</td>\n",
       "      <td>[CDs &amp; Vinyl, Special Interest, Instructional]</td>\n",
       "      <td>&lt;/div&gt;</td>\n",
       "      <td>[Designed by University of Washington Persian ...</td>\n",
       "      <td>{'\n",
       "    Item Weight: \n",
       "    ': None, '\n",
       "    Packag...</td>\n",
       "      <td>[]</td>\n",
       "      <td></td>\n",
       "      <td>[]</td>\n",
       "      <td>Software</td>\n",
       "      <td></td>\n",
       "      <td>45,706 in Software (</td>\n",
       "      <td></td>\n",
       "      <td></td>\n",
       "      <td></td>\n",
       "      <td>Persian Tutor (Jewel Case)</td>\n",
       "    </tr>\n",
       "    <tr>\n",
       "      <th>4404</th>\n",
       "      <td>[]</td>\n",
       "      <td>[]</td>\n",
       "      <td>B00005ASUO</td>\n",
       "      <td>Chandos Multimedia</td>\n",
       "      <td>[CDs &amp; Vinyl, Classical, Chamber Music]</td>\n",
       "      <td>&lt;/div&gt;</td>\n",
       "      <td>[]</td>\n",
       "      <td>{'\n",
       "    Item Weight: \n",
       "    ': None, '\n",
       "    Packag...</td>\n",
       "      <td>[]</td>\n",
       "      <td></td>\n",
       "      <td>[]</td>\n",
       "      <td>Software</td>\n",
       "      <td></td>\n",
       "      <td>56,299 in Software (</td>\n",
       "      <td></td>\n",
       "      <td></td>\n",
       "      <td></td>\n",
       "      <td>Cultural Heritage Series, Vol. 1: Shostakovich...</td>\n",
       "    </tr>\n",
       "    <tr>\n",
       "      <th>3097</th>\n",
       "      <td>[]</td>\n",
       "      <td>[]</td>\n",
       "      <td>B00BKD2KY0</td>\n",
       "      <td>Individual Software</td>\n",
       "      <td>[Office Products, Office &amp; School Supplies, Ed...</td>\n",
       "      <td>&lt;/div&gt;</td>\n",
       "      <td>[Professor Teaches Office 2013 &amp; Windows 8 is ...</td>\n",
       "      <td>{'\n",
       "    Item Weight: \n",
       "    ': None, '\n",
       "    Packag...</td>\n",
       "      <td>[Fast &amp; Easy Learning for Windows 8 &amp; Office 2...</td>\n",
       "      <td></td>\n",
       "      <td>[]</td>\n",
       "      <td>Software</td>\n",
       "      <td></td>\n",
       "      <td>7,417 in Software (</td>\n",
       "      <td></td>\n",
       "      <td></td>\n",
       "      <td></td>\n",
       "      <td>Professor Teaches Office 2013 and Win 8</td>\n",
       "    </tr>\n",
       "    <tr>\n",
       "      <th>7254</th>\n",
       "      <td>[]</td>\n",
       "      <td>[]</td>\n",
       "      <td>B00C1MZ3TI</td>\n",
       "      <td>Kurzweil</td>\n",
       "      <td>[Office Products, Office &amp; School Supplies, Ed...</td>\n",
       "      <td>&lt;/div&gt;</td>\n",
       "      <td>[Special Inventory Clearance Sale! Kurzweil 30...</td>\n",
       "      <td>{'\n",
       "    Item Weight: \n",
       "    ': None, '\n",
       "    Packag...</td>\n",
       "      <td>[The premier reading,writing and learning soft...</td>\n",
       "      <td></td>\n",
       "      <td>[]</td>\n",
       "      <td>Software</td>\n",
       "      <td></td>\n",
       "      <td>23,814 in Software (</td>\n",
       "      <td></td>\n",
       "      <td></td>\n",
       "      <td></td>\n",
       "      <td>Kurzweil 3000 Version 11 Professional B/w Full...</td>\n",
       "    </tr>\n",
       "  </tbody>\n",
       "</table>\n",
       "</div>"
      ],
      "text/plain": [
       "     also_buy also_view        asin                brand  \\\n",
       "4371       []        []  B00005ASHD   Smiles Productions   \n",
       "4388       []        []  B00005ASHC   Smiles Productions   \n",
       "4404       []        []  B00005ASUO   Chandos Multimedia   \n",
       "3097       []        []  B00BKD2KY0  Individual Software   \n",
       "7254       []        []  B00C1MZ3TI             Kurzweil   \n",
       "\n",
       "                                               category    date  \\\n",
       "4371     [CDs & Vinyl, Special Interest, Instructional]  </div>   \n",
       "4388     [CDs & Vinyl, Special Interest, Instructional]  </div>   \n",
       "4404            [CDs & Vinyl, Classical, Chamber Music]  </div>   \n",
       "3097  [Office Products, Office & School Supplies, Ed...  </div>   \n",
       "7254  [Office Products, Office & School Supplies, Ed...  </div>   \n",
       "\n",
       "                                            description  \\\n",
       "4371  [Arrive in Israel at the airport, catch a taxi...   \n",
       "4388  [Designed by University of Washington Persian ...   \n",
       "4404                                                 []   \n",
       "3097  [Professor Teaches Office 2013 & Windows 8 is ...   \n",
       "7254  [Special Inventory Clearance Sale! Kurzweil 30...   \n",
       "\n",
       "                                                details  \\\n",
       "4371  {'\n",
       "    Item Weight: \n",
       "    ': None, '\n",
       "    Packag...   \n",
       "4388  {'\n",
       "    Item Weight: \n",
       "    ': None, '\n",
       "    Packag...   \n",
       "4404  {'\n",
       "    Item Weight: \n",
       "    ': None, '\n",
       "    Packag...   \n",
       "3097  {'\n",
       "    Item Weight: \n",
       "    ': None, '\n",
       "    Packag...   \n",
       "7254  {'\n",
       "    Item Weight: \n",
       "    ': None, '\n",
       "    Packag...   \n",
       "\n",
       "                                                feature fit image  main_cat  \\\n",
       "4371                                                 []        []  Software   \n",
       "4388                                                 []        []  Software   \n",
       "4404                                                 []        []  Software   \n",
       "3097  [Fast & Easy Learning for Windows 8 & Office 2...        []  Software   \n",
       "7254  [The premier reading,writing and learning soft...        []  Software   \n",
       "\n",
       "     price                  rank similar_item tech1 tech2  \\\n",
       "4371        40,216 in Software (                            \n",
       "4388        45,706 in Software (                            \n",
       "4404        56,299 in Software (                            \n",
       "3097         7,417 in Software (                            \n",
       "7254        23,814 in Software (                            \n",
       "\n",
       "                                                  title  \n",
       "4371           Speak Hebrew! (Jewel Case) [Old Version]  \n",
       "4388                         Persian Tutor (Jewel Case)  \n",
       "4404  Cultural Heritage Series, Vol. 1: Shostakovich...  \n",
       "3097            Professor Teaches Office 2013 and Win 8  \n",
       "7254  Kurzweil 3000 Version 11 Professional B/w Full...  "
      ]
     },
     "execution_count": 5,
     "metadata": {},
     "output_type": "execute_result"
    }
   ],
   "source": [
    "mds.head()"
   ]
  },
  {
   "cell_type": "code",
   "execution_count": 7,
   "id": "c1df2461",
   "metadata": {},
   "outputs": [
    {
     "data": {
      "text/plain": [
       "(303, 18)"
      ]
     },
     "execution_count": 7,
     "metadata": {},
     "output_type": "execute_result"
    }
   ],
   "source": [
    "mds.shape"
   ]
  },
  {
   "cell_type": "code",
   "execution_count": 9,
   "id": "af7c7e28",
   "metadata": {},
   "outputs": [
    {
     "data": {
      "text/plain": [
       "count            303\n",
       "unique           300\n",
       "top       B00005ASHD\n",
       "freq               2\n",
       "Name: asin, dtype: object"
      ]
     },
     "execution_count": 9,
     "metadata": {},
     "output_type": "execute_result"
    }
   ],
   "source": [
    "mds['asin'].describe()"
   ]
  },
  {
   "cell_type": "code",
   "execution_count": 3,
   "id": "9616c7a6",
   "metadata": {},
   "outputs": [
    {
     "data": {
      "text/html": [
       "<div>\n",
       "<style scoped>\n",
       "    .dataframe tbody tr th:only-of-type {\n",
       "        vertical-align: middle;\n",
       "    }\n",
       "\n",
       "    .dataframe tbody tr th {\n",
       "        vertical-align: top;\n",
       "    }\n",
       "\n",
       "    .dataframe thead th {\n",
       "        text-align: right;\n",
       "    }\n",
       "</style>\n",
       "<table border=\"1\" class=\"dataframe\">\n",
       "  <thead>\n",
       "    <tr style=\"text-align: right;\">\n",
       "      <th></th>\n",
       "      <th>asin</th>\n",
       "      <th>score</th>\n",
       "      <th>reviewText</th>\n",
       "      <th>reviewerID</th>\n",
       "      <th>summary</th>\n",
       "      <th>timestamp</th>\n",
       "      <th>verified</th>\n",
       "      <th>date</th>\n",
       "      <th>year</th>\n",
       "      <th>month</th>\n",
       "      <th>day</th>\n",
       "      <th>day_of_week</th>\n",
       "    </tr>\n",
       "  </thead>\n",
       "  <tbody>\n",
       "    <tr>\n",
       "      <th>0</th>\n",
       "      <td>0671573535</td>\n",
       "      <td>1</td>\n",
       "      <td>We have not been able to even run this game be...</td>\n",
       "      <td>A1I7E79WGWUP6Y</td>\n",
       "      <td>don't buy this game</td>\n",
       "      <td>1998-12-04</td>\n",
       "      <td>false</td>\n",
       "      <td>1998-12-04</td>\n",
       "      <td>1998</td>\n",
       "      <td>12</td>\n",
       "      <td>4</td>\n",
       "      <td>4</td>\n",
       "    </tr>\n",
       "    <tr>\n",
       "      <th>1</th>\n",
       "      <td>1559404779</td>\n",
       "      <td>4</td>\n",
       "      <td>About 140 movies were reviewed. I love the fil...</td>\n",
       "      <td>A3KDTS7917RNBA</td>\n",
       "      <td>Good reference book for Criterion early LD's</td>\n",
       "      <td>1999-10-23</td>\n",
       "      <td>false</td>\n",
       "      <td>1999-10-23</td>\n",
       "      <td>1999</td>\n",
       "      <td>10</td>\n",
       "      <td>23</td>\n",
       "      <td>5</td>\n",
       "    </tr>\n",
       "    <tr>\n",
       "      <th>2</th>\n",
       "      <td>B00002S5B2</td>\n",
       "      <td>5</td>\n",
       "      <td>WOW! (and I mean that). This game is fantastic...</td>\n",
       "      <td>A39CQ908D0IA6P</td>\n",
       "      <td>An excellent music activity game for kids AND ...</td>\n",
       "      <td>1999-11-10</td>\n",
       "      <td>false</td>\n",
       "      <td>1999-11-10</td>\n",
       "      <td>1999</td>\n",
       "      <td>11</td>\n",
       "      <td>10</td>\n",
       "      <td>2</td>\n",
       "    </tr>\n",
       "    <tr>\n",
       "      <th>3</th>\n",
       "      <td>B00002S8D6</td>\n",
       "      <td>5</td>\n",
       "      <td>Sick of Microsoft's Blue Screen Of Death?  Get...</td>\n",
       "      <td>A1F0L19M8TK50Q</td>\n",
       "      <td>No more BSOD!</td>\n",
       "      <td>1999-11-10</td>\n",
       "      <td>false</td>\n",
       "      <td>1999-11-10</td>\n",
       "      <td>1999</td>\n",
       "      <td>11</td>\n",
       "      <td>10</td>\n",
       "      <td>2</td>\n",
       "    </tr>\n",
       "    <tr>\n",
       "      <th>4</th>\n",
       "      <td>B00002S946</td>\n",
       "      <td>2</td>\n",
       "      <td>I bought it mainly to assist in translation of...</td>\n",
       "      <td>A28CW8ZT3N3O2D</td>\n",
       "      <td>Unimpressive</td>\n",
       "      <td>1999-11-12</td>\n",
       "      <td>false</td>\n",
       "      <td>1999-11-12</td>\n",
       "      <td>1999</td>\n",
       "      <td>11</td>\n",
       "      <td>12</td>\n",
       "      <td>4</td>\n",
       "    </tr>\n",
       "  </tbody>\n",
       "</table>\n",
       "</div>"
      ],
      "text/plain": [
       "         asin  score                                         reviewText  \\\n",
       "0  0671573535      1  We have not been able to even run this game be...   \n",
       "1  1559404779      4  About 140 movies were reviewed. I love the fil...   \n",
       "2  B00002S5B2      5  WOW! (and I mean that). This game is fantastic...   \n",
       "3  B00002S8D6      5  Sick of Microsoft's Blue Screen Of Death?  Get...   \n",
       "4  B00002S946      2  I bought it mainly to assist in translation of...   \n",
       "\n",
       "       reviewerID                                            summary  \\\n",
       "0  A1I7E79WGWUP6Y                                don't buy this game   \n",
       "1  A3KDTS7917RNBA       Good reference book for Criterion early LD's   \n",
       "2  A39CQ908D0IA6P  An excellent music activity game for kids AND ...   \n",
       "3  A1F0L19M8TK50Q                                      No more BSOD!   \n",
       "4  A28CW8ZT3N3O2D                                       Unimpressive   \n",
       "\n",
       "   timestamp verified       date  year  month  day  day_of_week  \n",
       "0 1998-12-04    false 1998-12-04  1998     12    4            4  \n",
       "1 1999-10-23    false 1999-10-23  1999     10   23            5  \n",
       "2 1999-11-10    false 1999-11-10  1999     11   10            2  \n",
       "3 1999-11-10    false 1999-11-10  1999     11   10            2  \n",
       "4 1999-11-12    false 1999-11-12  1999     11   12            4  "
      ]
     },
     "execution_count": 3,
     "metadata": {},
     "output_type": "execute_result"
    }
   ],
   "source": [
    "ds.head()"
   ]
  },
  {
   "cell_type": "code",
   "execution_count": 4,
   "id": "5d12cd5f",
   "metadata": {},
   "outputs": [
    {
     "data": {
      "text/plain": [
       "(292055, 12)"
      ]
     },
     "execution_count": 4,
     "metadata": {},
     "output_type": "execute_result"
    }
   ],
   "source": [
    "ds.shape"
   ]
  },
  {
   "cell_type": "code",
   "execution_count": 5,
   "id": "1731374a",
   "metadata": {},
   "outputs": [
    {
     "data": {
      "text/html": [
       "<div>\n",
       "<style scoped>\n",
       "    .dataframe tbody tr th:only-of-type {\n",
       "        vertical-align: middle;\n",
       "    }\n",
       "\n",
       "    .dataframe tbody tr th {\n",
       "        vertical-align: top;\n",
       "    }\n",
       "\n",
       "    .dataframe thead th {\n",
       "        text-align: right;\n",
       "    }\n",
       "</style>\n",
       "<table border=\"1\" class=\"dataframe\">\n",
       "  <thead>\n",
       "    <tr style=\"text-align: right;\">\n",
       "      <th></th>\n",
       "      <th>asin</th>\n",
       "      <th>score</th>\n",
       "      <th>reviewText</th>\n",
       "      <th>reviewerID</th>\n",
       "      <th>summary</th>\n",
       "      <th>timestamp</th>\n",
       "      <th>verified</th>\n",
       "      <th>date</th>\n",
       "      <th>year</th>\n",
       "      <th>month</th>\n",
       "      <th>day</th>\n",
       "      <th>day_of_week</th>\n",
       "      <th>cnt</th>\n",
       "    </tr>\n",
       "  </thead>\n",
       "  <tbody>\n",
       "    <tr>\n",
       "      <th>0</th>\n",
       "      <td>0671573535</td>\n",
       "      <td>1</td>\n",
       "      <td>We have not been able to even run this game be...</td>\n",
       "      <td>A1I7E79WGWUP6Y</td>\n",
       "      <td>don't buy this game</td>\n",
       "      <td>1998-12-04</td>\n",
       "      <td>false</td>\n",
       "      <td>1998-12-04</td>\n",
       "      <td>1998</td>\n",
       "      <td>12</td>\n",
       "      <td>4</td>\n",
       "      <td>4</td>\n",
       "      <td>1</td>\n",
       "    </tr>\n",
       "  </tbody>\n",
       "</table>\n",
       "</div>"
      ],
      "text/plain": [
       "         asin  score                                         reviewText  \\\n",
       "0  0671573535      1  We have not been able to even run this game be...   \n",
       "\n",
       "       reviewerID              summary  timestamp verified       date  year  \\\n",
       "0  A1I7E79WGWUP6Y  don't buy this game 1998-12-04    false 1998-12-04  1998   \n",
       "\n",
       "   month  day  day_of_week  cnt  \n",
       "0     12    4            4    1  "
      ]
     },
     "execution_count": 5,
     "metadata": {},
     "output_type": "execute_result"
    }
   ],
   "source": [
    "# Feature engineering by addign a constant that can be useful later\n",
    "\n",
    "ds['cnt'] = pd.Series([1 for x in range(len(ds.index))])\n",
    "ds.head(1)"
   ]
  },
  {
   "cell_type": "code",
   "execution_count": 6,
   "id": "8e5d6c35",
   "metadata": {},
   "outputs": [
    {
     "data": {
      "text/html": [
       "<div>\n",
       "<style scoped>\n",
       "    .dataframe tbody tr th:only-of-type {\n",
       "        vertical-align: middle;\n",
       "    }\n",
       "\n",
       "    .dataframe tbody tr th {\n",
       "        vertical-align: top;\n",
       "    }\n",
       "\n",
       "    .dataframe thead th {\n",
       "        text-align: right;\n",
       "    }\n",
       "</style>\n",
       "<table border=\"1\" class=\"dataframe\">\n",
       "  <thead>\n",
       "    <tr style=\"text-align: right;\">\n",
       "      <th></th>\n",
       "      <th>date</th>\n",
       "      <th>year</th>\n",
       "      <th>cnt</th>\n",
       "      <th>score</th>\n",
       "    </tr>\n",
       "  </thead>\n",
       "  <tbody>\n",
       "    <tr>\n",
       "      <th>0</th>\n",
       "      <td>1998-12-04</td>\n",
       "      <td>1998</td>\n",
       "      <td>1</td>\n",
       "      <td>1</td>\n",
       "    </tr>\n",
       "    <tr>\n",
       "      <th>1</th>\n",
       "      <td>1999-10-23</td>\n",
       "      <td>1999</td>\n",
       "      <td>1</td>\n",
       "      <td>4</td>\n",
       "    </tr>\n",
       "    <tr>\n",
       "      <th>2</th>\n",
       "      <td>1999-11-10</td>\n",
       "      <td>1999</td>\n",
       "      <td>1</td>\n",
       "      <td>5</td>\n",
       "    </tr>\n",
       "    <tr>\n",
       "      <th>3</th>\n",
       "      <td>1999-11-10</td>\n",
       "      <td>1999</td>\n",
       "      <td>1</td>\n",
       "      <td>5</td>\n",
       "    </tr>\n",
       "    <tr>\n",
       "      <th>4</th>\n",
       "      <td>1999-11-12</td>\n",
       "      <td>1999</td>\n",
       "      <td>1</td>\n",
       "      <td>2</td>\n",
       "    </tr>\n",
       "  </tbody>\n",
       "</table>\n",
       "</div>"
      ],
      "text/plain": [
       "        date  year  cnt  score\n",
       "0 1998-12-04  1998    1      1\n",
       "1 1999-10-23  1999    1      4\n",
       "2 1999-11-10  1999    1      5\n",
       "3 1999-11-10  1999    1      5\n",
       "4 1999-11-12  1999    1      2"
      ]
     },
     "execution_count": 6,
     "metadata": {},
     "output_type": "execute_result"
    }
   ],
   "source": [
    "# Data set to understand scoring over a timeline\n",
    "\n",
    "score_timeline = ds[['date', 'year', 'cnt', 'score']]\n",
    "score_timeline.head()"
   ]
  },
  {
   "cell_type": "code",
   "execution_count": 7,
   "id": "30b00c24",
   "metadata": {},
   "outputs": [
    {
     "name": "stdout",
     "output_type": "stream",
     "text": [
      "<class 'pandas.core.frame.DataFrame'>\n",
      "RangeIndex: 292055 entries, 0 to 292054\n",
      "Data columns (total 4 columns):\n",
      " #   Column  Non-Null Count   Dtype         \n",
      "---  ------  --------------   -----         \n",
      " 0   date    292055 non-null  datetime64[ns]\n",
      " 1   year    292055 non-null  int64         \n",
      " 2   cnt     292055 non-null  int64         \n",
      " 3   score   292055 non-null  int64         \n",
      "dtypes: datetime64[ns](1), int64(3)\n",
      "memory usage: 8.9 MB\n"
     ]
    }
   ],
   "source": [
    "score_timeline.info()"
   ]
  },
  {
   "cell_type": "code",
   "execution_count": 8,
   "id": "006b0a8e",
   "metadata": {},
   "outputs": [
    {
     "data": {
      "text/html": [
       "<div>\n",
       "<style scoped>\n",
       "    .dataframe tbody tr th:only-of-type {\n",
       "        vertical-align: middle;\n",
       "    }\n",
       "\n",
       "    .dataframe tbody tr th {\n",
       "        vertical-align: top;\n",
       "    }\n",
       "\n",
       "    .dataframe thead th {\n",
       "        text-align: right;\n",
       "    }\n",
       "</style>\n",
       "<table border=\"1\" class=\"dataframe\">\n",
       "  <thead>\n",
       "    <tr style=\"text-align: right;\">\n",
       "      <th></th>\n",
       "      <th>1</th>\n",
       "      <th>2</th>\n",
       "      <th>3</th>\n",
       "      <th>4</th>\n",
       "      <th>5</th>\n",
       "    </tr>\n",
       "  </thead>\n",
       "  <tbody>\n",
       "    <tr>\n",
       "      <th>0</th>\n",
       "      <td>1</td>\n",
       "      <td>0</td>\n",
       "      <td>0</td>\n",
       "      <td>0</td>\n",
       "      <td>0</td>\n",
       "    </tr>\n",
       "    <tr>\n",
       "      <th>1</th>\n",
       "      <td>0</td>\n",
       "      <td>0</td>\n",
       "      <td>0</td>\n",
       "      <td>1</td>\n",
       "      <td>0</td>\n",
       "    </tr>\n",
       "    <tr>\n",
       "      <th>2</th>\n",
       "      <td>0</td>\n",
       "      <td>0</td>\n",
       "      <td>0</td>\n",
       "      <td>0</td>\n",
       "      <td>1</td>\n",
       "    </tr>\n",
       "    <tr>\n",
       "      <th>3</th>\n",
       "      <td>0</td>\n",
       "      <td>0</td>\n",
       "      <td>0</td>\n",
       "      <td>0</td>\n",
       "      <td>1</td>\n",
       "    </tr>\n",
       "    <tr>\n",
       "      <th>4</th>\n",
       "      <td>0</td>\n",
       "      <td>1</td>\n",
       "      <td>0</td>\n",
       "      <td>0</td>\n",
       "      <td>0</td>\n",
       "    </tr>\n",
       "  </tbody>\n",
       "</table>\n",
       "</div>"
      ],
      "text/plain": [
       "   1  2  3  4  5\n",
       "0  1  0  0  0  0\n",
       "1  0  0  0  1  0\n",
       "2  0  0  0  0  1\n",
       "3  0  0  0  0  1\n",
       "4  0  1  0  0  0"
      ]
     },
     "execution_count": 8,
     "metadata": {},
     "output_type": "execute_result"
    }
   ],
   "source": [
    "one_hot_for_score = pd.get_dummies(score_timeline['score'])\n",
    "one_hot_for_score.head()"
   ]
  },
  {
   "cell_type": "code",
   "execution_count": 9,
   "id": "d33e2841",
   "metadata": {},
   "outputs": [
    {
     "data": {
      "text/html": [
       "<div>\n",
       "<style scoped>\n",
       "    .dataframe tbody tr th:only-of-type {\n",
       "        vertical-align: middle;\n",
       "    }\n",
       "\n",
       "    .dataframe tbody tr th {\n",
       "        vertical-align: top;\n",
       "    }\n",
       "\n",
       "    .dataframe thead th {\n",
       "        text-align: right;\n",
       "    }\n",
       "</style>\n",
       "<table border=\"1\" class=\"dataframe\">\n",
       "  <thead>\n",
       "    <tr style=\"text-align: right;\">\n",
       "      <th></th>\n",
       "      <th>date</th>\n",
       "      <th>year</th>\n",
       "      <th>cnt</th>\n",
       "      <th>score</th>\n",
       "      <th>1</th>\n",
       "      <th>2</th>\n",
       "      <th>3</th>\n",
       "      <th>4</th>\n",
       "      <th>5</th>\n",
       "    </tr>\n",
       "  </thead>\n",
       "  <tbody>\n",
       "    <tr>\n",
       "      <th>0</th>\n",
       "      <td>1998-12-04</td>\n",
       "      <td>1998</td>\n",
       "      <td>1</td>\n",
       "      <td>1</td>\n",
       "      <td>1</td>\n",
       "      <td>0</td>\n",
       "      <td>0</td>\n",
       "      <td>0</td>\n",
       "      <td>0</td>\n",
       "    </tr>\n",
       "    <tr>\n",
       "      <th>1</th>\n",
       "      <td>1999-10-23</td>\n",
       "      <td>1999</td>\n",
       "      <td>1</td>\n",
       "      <td>4</td>\n",
       "      <td>0</td>\n",
       "      <td>0</td>\n",
       "      <td>0</td>\n",
       "      <td>1</td>\n",
       "      <td>0</td>\n",
       "    </tr>\n",
       "    <tr>\n",
       "      <th>2</th>\n",
       "      <td>1999-11-10</td>\n",
       "      <td>1999</td>\n",
       "      <td>1</td>\n",
       "      <td>5</td>\n",
       "      <td>0</td>\n",
       "      <td>0</td>\n",
       "      <td>0</td>\n",
       "      <td>0</td>\n",
       "      <td>1</td>\n",
       "    </tr>\n",
       "    <tr>\n",
       "      <th>3</th>\n",
       "      <td>1999-11-10</td>\n",
       "      <td>1999</td>\n",
       "      <td>1</td>\n",
       "      <td>5</td>\n",
       "      <td>0</td>\n",
       "      <td>0</td>\n",
       "      <td>0</td>\n",
       "      <td>0</td>\n",
       "      <td>1</td>\n",
       "    </tr>\n",
       "    <tr>\n",
       "      <th>4</th>\n",
       "      <td>1999-11-12</td>\n",
       "      <td>1999</td>\n",
       "      <td>1</td>\n",
       "      <td>2</td>\n",
       "      <td>0</td>\n",
       "      <td>1</td>\n",
       "      <td>0</td>\n",
       "      <td>0</td>\n",
       "      <td>0</td>\n",
       "    </tr>\n",
       "  </tbody>\n",
       "</table>\n",
       "</div>"
      ],
      "text/plain": [
       "        date  year  cnt  score  1  2  3  4  5\n",
       "0 1998-12-04  1998    1      1  1  0  0  0  0\n",
       "1 1999-10-23  1999    1      4  0  0  0  1  0\n",
       "2 1999-11-10  1999    1      5  0  0  0  0  1\n",
       "3 1999-11-10  1999    1      5  0  0  0  0  1\n",
       "4 1999-11-12  1999    1      2  0  1  0  0  0"
      ]
     },
     "execution_count": 9,
     "metadata": {},
     "output_type": "execute_result"
    }
   ],
   "source": [
    "# A single data frame but with the scores spread through one hot encoding\n",
    "\n",
    "nds = pd.concat([score_timeline, one_hot_for_score], axis=1, join='outer')\n",
    "nds.head()"
   ]
  },
  {
   "cell_type": "code",
   "execution_count": 37,
   "id": "adc936cd",
   "metadata": {},
   "outputs": [
    {
     "data": {
      "text/html": [
       "<div>\n",
       "<style scoped>\n",
       "    .dataframe tbody tr th:only-of-type {\n",
       "        vertical-align: middle;\n",
       "    }\n",
       "\n",
       "    .dataframe tbody tr th {\n",
       "        vertical-align: top;\n",
       "    }\n",
       "\n",
       "    .dataframe thead th {\n",
       "        text-align: right;\n",
       "    }\n",
       "</style>\n",
       "<table border=\"1\" class=\"dataframe\">\n",
       "  <thead>\n",
       "    <tr style=\"text-align: right;\">\n",
       "      <th></th>\n",
       "      <th>date</th>\n",
       "      <th>year</th>\n",
       "      <th>cnt</th>\n",
       "      <th>score</th>\n",
       "      <th>one</th>\n",
       "      <th>two</th>\n",
       "      <th>three</th>\n",
       "      <th>four</th>\n",
       "      <th>five</th>\n",
       "    </tr>\n",
       "  </thead>\n",
       "  <tbody>\n",
       "    <tr>\n",
       "      <th>0</th>\n",
       "      <td>1998-12-04</td>\n",
       "      <td>1998</td>\n",
       "      <td>1</td>\n",
       "      <td>1</td>\n",
       "      <td>1</td>\n",
       "      <td>0</td>\n",
       "      <td>0</td>\n",
       "      <td>0</td>\n",
       "      <td>0</td>\n",
       "    </tr>\n",
       "  </tbody>\n",
       "</table>\n",
       "</div>"
      ],
      "text/plain": [
       "        date  year  cnt  score  one  two  three  four  five\n",
       "0 1998-12-04  1998    1      1    1    0      0     0     0"
      ]
     },
     "execution_count": 37,
     "metadata": {},
     "output_type": "execute_result"
    }
   ],
   "source": [
    "nds.rename(columns={1:'one',2:'two',3:'three',4:'four',5:'five'}, inplace = True)\n",
    "nds.head(1)"
   ]
  },
  {
   "cell_type": "code",
   "execution_count": 38,
   "id": "07d22e8a",
   "metadata": {},
   "outputs": [
    {
     "data": {
      "text/plain": [
       "(292055, 9)"
      ]
     },
     "execution_count": 38,
     "metadata": {},
     "output_type": "execute_result"
    }
   ],
   "source": [
    "x = nds.copy()\n",
    "x.shape"
   ]
  },
  {
   "cell_type": "code",
   "execution_count": 46,
   "id": "1714898d",
   "metadata": {},
   "outputs": [
    {
     "data": {
      "text/plain": [
       "(11, 9)"
      ]
     },
     "execution_count": 46,
     "metadata": {},
     "output_type": "execute_result"
    }
   ],
   "source": [
    "xtwo = nds[0:11]\n",
    "xtwo.shape"
   ]
  },
  {
   "cell_type": "code",
   "execution_count": 47,
   "id": "b5a497fc",
   "metadata": {},
   "outputs": [
    {
     "data": {
      "text/html": [
       "<div>\n",
       "<style scoped>\n",
       "    .dataframe tbody tr th:only-of-type {\n",
       "        vertical-align: middle;\n",
       "    }\n",
       "\n",
       "    .dataframe tbody tr th {\n",
       "        vertical-align: top;\n",
       "    }\n",
       "\n",
       "    .dataframe thead th {\n",
       "        text-align: right;\n",
       "    }\n",
       "</style>\n",
       "<table border=\"1\" class=\"dataframe\">\n",
       "  <thead>\n",
       "    <tr style=\"text-align: right;\">\n",
       "      <th></th>\n",
       "      <th>date</th>\n",
       "      <th>year</th>\n",
       "      <th>cnt</th>\n",
       "      <th>score</th>\n",
       "      <th>one</th>\n",
       "      <th>two</th>\n",
       "      <th>three</th>\n",
       "      <th>four</th>\n",
       "      <th>five</th>\n",
       "    </tr>\n",
       "  </thead>\n",
       "  <tbody>\n",
       "    <tr>\n",
       "      <th>0</th>\n",
       "      <td>1998-12-04</td>\n",
       "      <td>1998</td>\n",
       "      <td>1</td>\n",
       "      <td>1</td>\n",
       "      <td>1</td>\n",
       "      <td>0</td>\n",
       "      <td>0</td>\n",
       "      <td>0</td>\n",
       "      <td>0</td>\n",
       "    </tr>\n",
       "    <tr>\n",
       "      <th>1</th>\n",
       "      <td>1999-10-23</td>\n",
       "      <td>1999</td>\n",
       "      <td>1</td>\n",
       "      <td>4</td>\n",
       "      <td>0</td>\n",
       "      <td>0</td>\n",
       "      <td>0</td>\n",
       "      <td>1</td>\n",
       "      <td>0</td>\n",
       "    </tr>\n",
       "    <tr>\n",
       "      <th>2</th>\n",
       "      <td>1999-11-10</td>\n",
       "      <td>1999</td>\n",
       "      <td>1</td>\n",
       "      <td>5</td>\n",
       "      <td>0</td>\n",
       "      <td>0</td>\n",
       "      <td>0</td>\n",
       "      <td>0</td>\n",
       "      <td>1</td>\n",
       "    </tr>\n",
       "    <tr>\n",
       "      <th>3</th>\n",
       "      <td>1999-11-10</td>\n",
       "      <td>1999</td>\n",
       "      <td>1</td>\n",
       "      <td>5</td>\n",
       "      <td>0</td>\n",
       "      <td>0</td>\n",
       "      <td>0</td>\n",
       "      <td>0</td>\n",
       "      <td>1</td>\n",
       "    </tr>\n",
       "    <tr>\n",
       "      <th>4</th>\n",
       "      <td>1999-11-12</td>\n",
       "      <td>1999</td>\n",
       "      <td>1</td>\n",
       "      <td>2</td>\n",
       "      <td>0</td>\n",
       "      <td>1</td>\n",
       "      <td>0</td>\n",
       "      <td>0</td>\n",
       "      <td>0</td>\n",
       "    </tr>\n",
       "    <tr>\n",
       "      <th>5</th>\n",
       "      <td>1999-11-14</td>\n",
       "      <td>1999</td>\n",
       "      <td>1</td>\n",
       "      <td>1</td>\n",
       "      <td>1</td>\n",
       "      <td>0</td>\n",
       "      <td>0</td>\n",
       "      <td>0</td>\n",
       "      <td>0</td>\n",
       "    </tr>\n",
       "    <tr>\n",
       "      <th>6</th>\n",
       "      <td>1999-11-15</td>\n",
       "      <td>1999</td>\n",
       "      <td>1</td>\n",
       "      <td>5</td>\n",
       "      <td>0</td>\n",
       "      <td>0</td>\n",
       "      <td>0</td>\n",
       "      <td>0</td>\n",
       "      <td>1</td>\n",
       "    </tr>\n",
       "    <tr>\n",
       "      <th>7</th>\n",
       "      <td>1999-11-16</td>\n",
       "      <td>1999</td>\n",
       "      <td>1</td>\n",
       "      <td>4</td>\n",
       "      <td>0</td>\n",
       "      <td>0</td>\n",
       "      <td>0</td>\n",
       "      <td>1</td>\n",
       "      <td>0</td>\n",
       "    </tr>\n",
       "    <tr>\n",
       "      <th>8</th>\n",
       "      <td>1999-11-16</td>\n",
       "      <td>1999</td>\n",
       "      <td>1</td>\n",
       "      <td>4</td>\n",
       "      <td>0</td>\n",
       "      <td>0</td>\n",
       "      <td>0</td>\n",
       "      <td>1</td>\n",
       "      <td>0</td>\n",
       "    </tr>\n",
       "    <tr>\n",
       "      <th>9</th>\n",
       "      <td>1999-11-17</td>\n",
       "      <td>1999</td>\n",
       "      <td>1</td>\n",
       "      <td>4</td>\n",
       "      <td>0</td>\n",
       "      <td>0</td>\n",
       "      <td>0</td>\n",
       "      <td>1</td>\n",
       "      <td>0</td>\n",
       "    </tr>\n",
       "    <tr>\n",
       "      <th>10</th>\n",
       "      <td>1999-11-18</td>\n",
       "      <td>1999</td>\n",
       "      <td>1</td>\n",
       "      <td>4</td>\n",
       "      <td>0</td>\n",
       "      <td>0</td>\n",
       "      <td>0</td>\n",
       "      <td>1</td>\n",
       "      <td>0</td>\n",
       "    </tr>\n",
       "  </tbody>\n",
       "</table>\n",
       "</div>"
      ],
      "text/plain": [
       "         date  year  cnt  score  one  two  three  four  five\n",
       "0  1998-12-04  1998    1      1    1    0      0     0     0\n",
       "1  1999-10-23  1999    1      4    0    0      0     1     0\n",
       "2  1999-11-10  1999    1      5    0    0      0     0     1\n",
       "3  1999-11-10  1999    1      5    0    0      0     0     1\n",
       "4  1999-11-12  1999    1      2    0    1      0     0     0\n",
       "5  1999-11-14  1999    1      1    1    0      0     0     0\n",
       "6  1999-11-15  1999    1      5    0    0      0     0     1\n",
       "7  1999-11-16  1999    1      4    0    0      0     1     0\n",
       "8  1999-11-16  1999    1      4    0    0      0     1     0\n",
       "9  1999-11-17  1999    1      4    0    0      0     1     0\n",
       "10 1999-11-18  1999    1      4    0    0      0     1     0"
      ]
     },
     "execution_count": 47,
     "metadata": {},
     "output_type": "execute_result"
    }
   ],
   "source": [
    "xtwo"
   ]
  },
  {
   "cell_type": "code",
   "execution_count": 48,
   "id": "bebaeed5",
   "metadata": {},
   "outputs": [
    {
     "data": {
      "text/plain": [
       "<AxesSubplot:xlabel='date', ylabel='one'>"
      ]
     },
     "execution_count": 48,
     "metadata": {},
     "output_type": "execute_result"
    },
    {
     "data": {
      "image/png": "[encoded data removed]",
      "text/plain": [
       "<Figure size 432x288 with 1 Axes>"
      ]
     },
     "metadata": {
      "needs_background": "light"
     },
     "output_type": "display_data"
    }
   ],
   "source": [
    "sns.lineplot(x = 'date', y = 'one', data = xtwo)"
   ]
  },
  {
   "cell_type": "code",
   "execution_count": 49,
   "id": "55856c1d",
   "metadata": {},
   "outputs": [
    {
     "data": {
      "image/png": "[encoded data removed]",
      "text/plain": [
       "<Figure size 432x288 with 1 Axes>"
      ]
     },
     "metadata": {
      "needs_background": "light"
     },
     "output_type": "display_data"
    }
   ],
   "source": [
    "y = xtwo['one']\n",
    "x = xtwo['date']\n",
    "plt.scatter(x,y);"
   ]
  },
  {
   "cell_type": "code",
   "execution_count": null,
   "id": "7f116bff",
   "metadata": {},
   "outputs": [],
   "source": []
  },
  {
   "cell_type": "code",
   "execution_count": null,
   "id": "3981555d",
   "metadata": {},
   "outputs": [],
   "source": []
  },
  {
   "cell_type": "code",
   "execution_count": null,
   "id": "b3ece443",
   "metadata": {},
   "outputs": [],
   "source": []
  },
  {
   "cell_type": "code",
   "execution_count": null,
   "id": "d442c576",
   "metadata": {},
   "outputs": [],
   "source": []
  },
  {
   "cell_type": "code",
   "execution_count": 17,
   "id": "1d825009",
   "metadata": {},
   "outputs": [
    {
     "data": {
      "text/plain": [
       "<AxesSubplot:>"
      ]
     },
     "execution_count": 17,
     "metadata": {},
     "output_type": "execute_result"
    },
    {
     "data": {
      "image/png": "[encoded data removed]",
      "text/plain": [
       "<Figure size 432x288 with 1 Axes>"
      ]
     },
     "metadata": {
      "needs_background": "light"
     },
     "output_type": "display_data"
    }
   ],
   "source": [
    "#sns.lineplot(x='date', y='value', hue='variable', data=pd.melt(nds, [1,2]))\n",
    "\n",
    "sns.lineplot(data=nds[[1, 2, 3, 4, 5]])"
   ]
  },
  {
   "cell_type": "code",
   "execution_count": 31,
   "id": "12253255",
   "metadata": {},
   "outputs": [
    {
     "data": {
      "image/png": "[encoded data removed]",
      "text/plain": [
       "<Figure size 432x288 with 1 Axes>"
      ]
     },
     "metadata": {
      "needs_background": "light"
     },
     "output_type": "display_data"
    }
   ],
   "source": [
    "sns.lineplot(x='year', y='score', hue='variable', data=nds.melt(nds, ['year']));"
   ]
  },
  {
   "cell_type": "code",
   "execution_count": 26,
   "id": "f1c05b08",
   "metadata": {},
   "outputs": [],
   "source": [
    "# sns.lineplot(x='date', y = nds[nds['1', '2', '3', '4', '5']], data=nds)"
   ]
  },
  {
   "cell_type": "code",
   "execution_count": 26,
   "id": "d7a864ec",
   "metadata": {},
   "outputs": [],
   "source": [
    "# group trial\n",
    "\n",
    "#grp_nds = nds.groupby(pd.Grouper(key='date', axis=0, freq='M')).sum()\n",
    "#grp_nds.info()\n"
   ]
  },
  {
   "cell_type": "code",
   "execution_count": null,
   "id": "cafd7ba7",
   "metadata": {},
   "outputs": [],
   "source": [
    "sns.lineplot(data=df[['col1', 'col2', 'col3']]"
   ]
  },
  {
   "cell_type": "code",
   "execution_count": 27,
   "id": "7f6e12b8",
   "metadata": {},
   "outputs": [],
   "source": [
    "#grp_nds"
   ]
  },
  {
   "cell_type": "code",
   "execution_count": 30,
   "id": "00960333",
   "metadata": {},
   "outputs": [
    {
     "name": "stdout",
     "output_type": "stream",
     "text": [
      "<class 'pandas.core.frame.DataFrame'>\n",
      "RangeIndex: 292055 entries, 0 to 292054\n",
      "Data columns (total 9 columns):\n",
      " #   Column  Non-Null Count   Dtype         \n",
      "---  ------  --------------   -----         \n",
      " 0   date    292055 non-null  datetime64[ns]\n",
      " 1   year    292055 non-null  int64         \n",
      " 2   cnt     292055 non-null  int64         \n",
      " 3   score   292055 non-null  int64         \n",
      " 4   1       292055 non-null  uint8         \n",
      " 5   2       292055 non-null  uint8         \n",
      " 6   3       292055 non-null  uint8         \n",
      " 7   4       292055 non-null  uint8         \n",
      " 8   5       292055 non-null  uint8         \n",
      "dtypes: datetime64[ns](1), int64(3), uint8(5)\n",
      "memory usage: 10.3 MB\n"
     ]
    }
   ],
   "source": [
    "nds.info()"
   ]
  },
  {
   "cell_type": "code",
   "execution_count": 31,
   "id": "7c36cc49",
   "metadata": {},
   "outputs": [],
   "source": [
    "#plt.figure(figsize=(20,6))\n",
    "#sns.lineplot(x= 'date' , y= 1, data=nds).set_title('Score for TBD Timeline')\n",
    "#plt.show;"
   ]
  },
  {
   "cell_type": "code",
   "execution_count": 37,
   "id": "52112330",
   "metadata": {},
   "outputs": [
    {
     "data": {
      "text/html": [
       "<div>\n",
       "<style scoped>\n",
       "    .dataframe tbody tr th:only-of-type {\n",
       "        vertical-align: middle;\n",
       "    }\n",
       "\n",
       "    .dataframe tbody tr th {\n",
       "        vertical-align: top;\n",
       "    }\n",
       "\n",
       "    .dataframe thead th {\n",
       "        text-align: right;\n",
       "    }\n",
       "</style>\n",
       "<table border=\"1\" class=\"dataframe\">\n",
       "  <thead>\n",
       "    <tr style=\"text-align: right;\">\n",
       "      <th></th>\n",
       "      <th>date</th>\n",
       "      <th>year</th>\n",
       "      <th>cnt</th>\n",
       "      <th>score</th>\n",
       "      <th>1</th>\n",
       "      <th>2</th>\n",
       "      <th>3</th>\n",
       "      <th>4</th>\n",
       "      <th>5</th>\n",
       "    </tr>\n",
       "  </thead>\n",
       "  <tbody>\n",
       "    <tr>\n",
       "      <th>292049</th>\n",
       "      <td>2018-08-25</td>\n",
       "      <td>2018</td>\n",
       "      <td>1</td>\n",
       "      <td>1</td>\n",
       "      <td>1</td>\n",
       "      <td>0</td>\n",
       "      <td>0</td>\n",
       "      <td>0</td>\n",
       "      <td>0</td>\n",
       "    </tr>\n",
       "    <tr>\n",
       "      <th>292051</th>\n",
       "      <td>2018-08-26</td>\n",
       "      <td>2018</td>\n",
       "      <td>1</td>\n",
       "      <td>1</td>\n",
       "      <td>1</td>\n",
       "      <td>0</td>\n",
       "      <td>0</td>\n",
       "      <td>0</td>\n",
       "      <td>0</td>\n",
       "    </tr>\n",
       "    <tr>\n",
       "      <th>292052</th>\n",
       "      <td>2018-08-27</td>\n",
       "      <td>2018</td>\n",
       "      <td>1</td>\n",
       "      <td>1</td>\n",
       "      <td>1</td>\n",
       "      <td>0</td>\n",
       "      <td>0</td>\n",
       "      <td>0</td>\n",
       "      <td>0</td>\n",
       "    </tr>\n",
       "    <tr>\n",
       "      <th>292053</th>\n",
       "      <td>2018-08-27</td>\n",
       "      <td>2018</td>\n",
       "      <td>1</td>\n",
       "      <td>1</td>\n",
       "      <td>1</td>\n",
       "      <td>0</td>\n",
       "      <td>0</td>\n",
       "      <td>0</td>\n",
       "      <td>0</td>\n",
       "    </tr>\n",
       "    <tr>\n",
       "      <th>292054</th>\n",
       "      <td>2018-08-27</td>\n",
       "      <td>2018</td>\n",
       "      <td>1</td>\n",
       "      <td>1</td>\n",
       "      <td>1</td>\n",
       "      <td>0</td>\n",
       "      <td>0</td>\n",
       "      <td>0</td>\n",
       "      <td>0</td>\n",
       "    </tr>\n",
       "  </tbody>\n",
       "</table>\n",
       "</div>"
      ],
      "text/plain": [
       "             date  year  cnt  score  1  2  3  4  5\n",
       "292049 2018-08-25  2018    1      1  1  0  0  0  0\n",
       "292051 2018-08-26  2018    1      1  1  0  0  0  0\n",
       "292052 2018-08-27  2018    1      1  1  0  0  0  0\n",
       "292053 2018-08-27  2018    1      1  1  0  0  0  0\n",
       "292054 2018-08-27  2018    1      1  1  0  0  0  0"
      ]
     },
     "execution_count": 37,
     "metadata": {},
     "output_type": "execute_result"
    }
   ],
   "source": [
    "one_star = nds[nds[1] == 1]\n",
    "one_star.tail()"
   ]
  },
  {
   "cell_type": "code",
   "execution_count": 38,
   "id": "5653e11d",
   "metadata": {},
   "outputs": [
    {
     "data": {
      "text/plain": [
       "(65763, 9)"
      ]
     },
     "execution_count": 38,
     "metadata": {},
     "output_type": "execute_result"
    }
   ],
   "source": [
    "one_star.shape"
   ]
  },
  {
   "cell_type": "code",
   "execution_count": null,
   "id": "573f3ce4",
   "metadata": {},
   "outputs": [],
   "source": []
  },
  {
   "cell_type": "code",
   "execution_count": 10,
   "id": "8bd1aea9",
   "metadata": {},
   "outputs": [
    {
     "data": {
      "text/html": [
       "<div>\n",
       "<style scoped>\n",
       "    .dataframe tbody tr th:only-of-type {\n",
       "        vertical-align: middle;\n",
       "    }\n",
       "\n",
       "    .dataframe tbody tr th {\n",
       "        vertical-align: top;\n",
       "    }\n",
       "\n",
       "    .dataframe thead th {\n",
       "        text-align: right;\n",
       "    }\n",
       "</style>\n",
       "<table border=\"1\" class=\"dataframe\">\n",
       "  <thead>\n",
       "    <tr style=\"text-align: right;\">\n",
       "      <th></th>\n",
       "      <th>score</th>\n",
       "      <th>date</th>\n",
       "      <th>cnt</th>\n",
       "    </tr>\n",
       "  </thead>\n",
       "  <tbody>\n",
       "    <tr>\n",
       "      <th>292049</th>\n",
       "      <td>1</td>\n",
       "      <td>2018-08-25</td>\n",
       "      <td>1</td>\n",
       "    </tr>\n",
       "    <tr>\n",
       "      <th>292051</th>\n",
       "      <td>1</td>\n",
       "      <td>2018-08-26</td>\n",
       "      <td>1</td>\n",
       "    </tr>\n",
       "    <tr>\n",
       "      <th>292052</th>\n",
       "      <td>1</td>\n",
       "      <td>2018-08-27</td>\n",
       "      <td>1</td>\n",
       "    </tr>\n",
       "    <tr>\n",
       "      <th>292053</th>\n",
       "      <td>1</td>\n",
       "      <td>2018-08-27</td>\n",
       "      <td>1</td>\n",
       "    </tr>\n",
       "    <tr>\n",
       "      <th>292054</th>\n",
       "      <td>1</td>\n",
       "      <td>2018-08-27</td>\n",
       "      <td>1</td>\n",
       "    </tr>\n",
       "  </tbody>\n",
       "</table>\n",
       "</div>"
      ],
      "text/plain": [
       "        score       date  cnt\n",
       "292049      1 2018-08-25    1\n",
       "292051      1 2018-08-26    1\n",
       "292052      1 2018-08-27    1\n",
       "292053      1 2018-08-27    1\n",
       "292054      1 2018-08-27    1"
      ]
     },
     "execution_count": 10,
     "metadata": {},
     "output_type": "execute_result"
    }
   ],
   "source": [
    "one_star = score_timeline[score_timeline['score'] == 1]\n",
    "one_star.tail()\n"
   ]
  },
  {
   "cell_type": "code",
   "execution_count": 11,
   "id": "c176696d",
   "metadata": {},
   "outputs": [
    {
     "name": "stdout",
     "output_type": "stream",
     "text": [
      "<class 'pandas.core.frame.DataFrame'>\n",
      "Int64Index: 65763 entries, 0 to 292054\n",
      "Data columns (total 3 columns):\n",
      " #   Column  Non-Null Count  Dtype         \n",
      "---  ------  --------------  -----         \n",
      " 0   score   65763 non-null  int64         \n",
      " 1   date    65763 non-null  datetime64[ns]\n",
      " 2   cnt     65763 non-null  int64         \n",
      "dtypes: datetime64[ns](1), int64(2)\n",
      "memory usage: 2.0 MB\n"
     ]
    }
   ],
   "source": [
    "one_star.info()"
   ]
  },
  {
   "cell_type": "code",
   "execution_count": 12,
   "id": "9bcbfdca",
   "metadata": {},
   "outputs": [
    {
     "name": "stdout",
     "output_type": "stream",
     "text": [
      "<class 'pandas.core.frame.DataFrame'>\n",
      "DatetimeIndex: 237 entries, 1998-12-31 to 2018-08-31\n",
      "Freq: M\n",
      "Data columns (total 2 columns):\n",
      " #   Column  Non-Null Count  Dtype\n",
      "---  ------  --------------  -----\n",
      " 0   score   237 non-null    int64\n",
      " 1   cnt     237 non-null    int64\n",
      "dtypes: int64(2)\n",
      "memory usage: 5.6 KB\n"
     ]
    }
   ],
   "source": [
    "grp_one_stardf = one_star.groupby(pd.Grouper(key='date', axis=0, freq='M')).sum()\n",
    "grp_one_stardf.info()"
   ]
  },
  {
   "cell_type": "code",
   "execution_count": 13,
   "id": "687293a3",
   "metadata": {},
   "outputs": [
    {
     "data": {
      "text/html": [
       "<div>\n",
       "<style scoped>\n",
       "    .dataframe tbody tr th:only-of-type {\n",
       "        vertical-align: middle;\n",
       "    }\n",
       "\n",
       "    .dataframe tbody tr th {\n",
       "        vertical-align: top;\n",
       "    }\n",
       "\n",
       "    .dataframe thead th {\n",
       "        text-align: right;\n",
       "    }\n",
       "</style>\n",
       "<table border=\"1\" class=\"dataframe\">\n",
       "  <thead>\n",
       "    <tr style=\"text-align: right;\">\n",
       "      <th></th>\n",
       "      <th>score</th>\n",
       "      <th>cnt</th>\n",
       "    </tr>\n",
       "    <tr>\n",
       "      <th>date</th>\n",
       "      <th></th>\n",
       "      <th></th>\n",
       "    </tr>\n",
       "  </thead>\n",
       "  <tbody>\n",
       "    <tr>\n",
       "      <th>2018-04-30</th>\n",
       "      <td>172</td>\n",
       "      <td>172</td>\n",
       "    </tr>\n",
       "    <tr>\n",
       "      <th>2018-05-31</th>\n",
       "      <td>97</td>\n",
       "      <td>97</td>\n",
       "    </tr>\n",
       "    <tr>\n",
       "      <th>2018-06-30</th>\n",
       "      <td>65</td>\n",
       "      <td>65</td>\n",
       "    </tr>\n",
       "    <tr>\n",
       "      <th>2018-07-31</th>\n",
       "      <td>56</td>\n",
       "      <td>56</td>\n",
       "    </tr>\n",
       "    <tr>\n",
       "      <th>2018-08-31</th>\n",
       "      <td>60</td>\n",
       "      <td>60</td>\n",
       "    </tr>\n",
       "  </tbody>\n",
       "</table>\n",
       "</div>"
      ],
      "text/plain": [
       "            score  cnt\n",
       "date                  \n",
       "2018-04-30    172  172\n",
       "2018-05-31     97   97\n",
       "2018-06-30     65   65\n",
       "2018-07-31     56   56\n",
       "2018-08-31     60   60"
      ]
     },
     "execution_count": 13,
     "metadata": {},
     "output_type": "execute_result"
    }
   ],
   "source": [
    "grp_one_stardf.tail()"
   ]
  },
  {
   "cell_type": "code",
   "execution_count": 14,
   "id": "46f10f9d",
   "metadata": {},
   "outputs": [
    {
     "data": {
      "text/plain": [
       "score    0\n",
       "cnt      0\n",
       "dtype: int64"
      ]
     },
     "execution_count": 14,
     "metadata": {},
     "output_type": "execute_result"
    }
   ],
   "source": [
    "grp_one_stardf.isnull().sum()"
   ]
  },
  {
   "cell_type": "code",
   "execution_count": 15,
   "id": "db4bcf50",
   "metadata": {},
   "outputs": [
    {
     "data": {
      "text/plain": [
       "score    1076\n",
       "cnt      1076\n",
       "dtype: int64"
      ]
     },
     "execution_count": 15,
     "metadata": {},
     "output_type": "execute_result"
    }
   ],
   "source": [
    "grp_one_stardf.max()"
   ]
  },
  {
   "cell_type": "code",
   "execution_count": 16,
   "id": "6e8a7d7c",
   "metadata": {},
   "outputs": [
    {
     "data": {
      "text/html": [
       "<div>\n",
       "<style scoped>\n",
       "    .dataframe tbody tr th:only-of-type {\n",
       "        vertical-align: middle;\n",
       "    }\n",
       "\n",
       "    .dataframe tbody tr th {\n",
       "        vertical-align: top;\n",
       "    }\n",
       "\n",
       "    .dataframe thead th {\n",
       "        text-align: right;\n",
       "    }\n",
       "</style>\n",
       "<table border=\"1\" class=\"dataframe\">\n",
       "  <thead>\n",
       "    <tr style=\"text-align: right;\">\n",
       "      <th></th>\n",
       "      <th>score</th>\n",
       "      <th>cnt</th>\n",
       "    </tr>\n",
       "    <tr>\n",
       "      <th>date</th>\n",
       "      <th></th>\n",
       "      <th></th>\n",
       "    </tr>\n",
       "  </thead>\n",
       "  <tbody>\n",
       "    <tr>\n",
       "      <th>1999-01-31</th>\n",
       "      <td>0</td>\n",
       "      <td>0</td>\n",
       "    </tr>\n",
       "    <tr>\n",
       "      <th>1999-02-28</th>\n",
       "      <td>0</td>\n",
       "      <td>0</td>\n",
       "    </tr>\n",
       "    <tr>\n",
       "      <th>1999-03-31</th>\n",
       "      <td>0</td>\n",
       "      <td>0</td>\n",
       "    </tr>\n",
       "    <tr>\n",
       "      <th>1999-04-30</th>\n",
       "      <td>0</td>\n",
       "      <td>0</td>\n",
       "    </tr>\n",
       "    <tr>\n",
       "      <th>1999-05-31</th>\n",
       "      <td>0</td>\n",
       "      <td>0</td>\n",
       "    </tr>\n",
       "    <tr>\n",
       "      <th>1999-06-30</th>\n",
       "      <td>0</td>\n",
       "      <td>0</td>\n",
       "    </tr>\n",
       "    <tr>\n",
       "      <th>1999-07-31</th>\n",
       "      <td>0</td>\n",
       "      <td>0</td>\n",
       "    </tr>\n",
       "    <tr>\n",
       "      <th>1999-08-31</th>\n",
       "      <td>0</td>\n",
       "      <td>0</td>\n",
       "    </tr>\n",
       "    <tr>\n",
       "      <th>1999-09-30</th>\n",
       "      <td>0</td>\n",
       "      <td>0</td>\n",
       "    </tr>\n",
       "    <tr>\n",
       "      <th>1999-10-31</th>\n",
       "      <td>0</td>\n",
       "      <td>0</td>\n",
       "    </tr>\n",
       "  </tbody>\n",
       "</table>\n",
       "</div>"
      ],
      "text/plain": [
       "            score  cnt\n",
       "date                  \n",
       "1999-01-31      0    0\n",
       "1999-02-28      0    0\n",
       "1999-03-31      0    0\n",
       "1999-04-30      0    0\n",
       "1999-05-31      0    0\n",
       "1999-06-30      0    0\n",
       "1999-07-31      0    0\n",
       "1999-08-31      0    0\n",
       "1999-09-30      0    0\n",
       "1999-10-31      0    0"
      ]
     },
     "execution_count": 16,
     "metadata": {},
     "output_type": "execute_result"
    }
   ],
   "source": [
    "check_zeros = grp_one_stardf[grp_one_stardf['score'] < 1]\n",
    "check_zeros"
   ]
  },
  {
   "cell_type": "code",
   "execution_count": 17,
   "id": "0aed8d75",
   "metadata": {},
   "outputs": [],
   "source": [
    "indexzero = grp_one_stardf[ (grp_one_stardf['score'] == 0)].index\n",
    "grp_one_stardf.drop(indexzero , inplace=True)"
   ]
  },
  {
   "cell_type": "code",
   "execution_count": 18,
   "id": "d905e48f",
   "metadata": {},
   "outputs": [
    {
     "data": {
      "text/html": [
       "<div>\n",
       "<style scoped>\n",
       "    .dataframe tbody tr th:only-of-type {\n",
       "        vertical-align: middle;\n",
       "    }\n",
       "\n",
       "    .dataframe tbody tr th {\n",
       "        vertical-align: top;\n",
       "    }\n",
       "\n",
       "    .dataframe thead th {\n",
       "        text-align: right;\n",
       "    }\n",
       "</style>\n",
       "<table border=\"1\" class=\"dataframe\">\n",
       "  <thead>\n",
       "    <tr style=\"text-align: right;\">\n",
       "      <th></th>\n",
       "      <th>score</th>\n",
       "      <th>cnt</th>\n",
       "    </tr>\n",
       "    <tr>\n",
       "      <th>date</th>\n",
       "      <th></th>\n",
       "      <th></th>\n",
       "    </tr>\n",
       "  </thead>\n",
       "  <tbody>\n",
       "    <tr>\n",
       "      <th>1998-12-31</th>\n",
       "      <td>1</td>\n",
       "      <td>1</td>\n",
       "    </tr>\n",
       "    <tr>\n",
       "      <th>1999-11-30</th>\n",
       "      <td>3</td>\n",
       "      <td>3</td>\n",
       "    </tr>\n",
       "    <tr>\n",
       "      <th>1999-12-31</th>\n",
       "      <td>10</td>\n",
       "      <td>10</td>\n",
       "    </tr>\n",
       "    <tr>\n",
       "      <th>2000-01-31</th>\n",
       "      <td>7</td>\n",
       "      <td>7</td>\n",
       "    </tr>\n",
       "    <tr>\n",
       "      <th>2000-02-29</th>\n",
       "      <td>11</td>\n",
       "      <td>11</td>\n",
       "    </tr>\n",
       "    <tr>\n",
       "      <th>...</th>\n",
       "      <td>...</td>\n",
       "      <td>...</td>\n",
       "    </tr>\n",
       "    <tr>\n",
       "      <th>2018-04-30</th>\n",
       "      <td>172</td>\n",
       "      <td>172</td>\n",
       "    </tr>\n",
       "    <tr>\n",
       "      <th>2018-05-31</th>\n",
       "      <td>97</td>\n",
       "      <td>97</td>\n",
       "    </tr>\n",
       "    <tr>\n",
       "      <th>2018-06-30</th>\n",
       "      <td>65</td>\n",
       "      <td>65</td>\n",
       "    </tr>\n",
       "    <tr>\n",
       "      <th>2018-07-31</th>\n",
       "      <td>56</td>\n",
       "      <td>56</td>\n",
       "    </tr>\n",
       "    <tr>\n",
       "      <th>2018-08-31</th>\n",
       "      <td>60</td>\n",
       "      <td>60</td>\n",
       "    </tr>\n",
       "  </tbody>\n",
       "</table>\n",
       "<p>227 rows × 2 columns</p>\n",
       "</div>"
      ],
      "text/plain": [
       "            score  cnt\n",
       "date                  \n",
       "1998-12-31      1    1\n",
       "1999-11-30      3    3\n",
       "1999-12-31     10   10\n",
       "2000-01-31      7    7\n",
       "2000-02-29     11   11\n",
       "...           ...  ...\n",
       "2018-04-30    172  172\n",
       "2018-05-31     97   97\n",
       "2018-06-30     65   65\n",
       "2018-07-31     56   56\n",
       "2018-08-31     60   60\n",
       "\n",
       "[227 rows x 2 columns]"
      ]
     },
     "execution_count": 18,
     "metadata": {},
     "output_type": "execute_result"
    }
   ],
   "source": [
    "grp_one_stardf"
   ]
  },
  {
   "cell_type": "code",
   "execution_count": 19,
   "id": "35acd4cb",
   "metadata": {},
   "outputs": [
    {
     "data": {
      "text/html": [
       "<div>\n",
       "<style scoped>\n",
       "    .dataframe tbody tr th:only-of-type {\n",
       "        vertical-align: middle;\n",
       "    }\n",
       "\n",
       "    .dataframe tbody tr th {\n",
       "        vertical-align: top;\n",
       "    }\n",
       "\n",
       "    .dataframe thead th {\n",
       "        text-align: right;\n",
       "    }\n",
       "</style>\n",
       "<table border=\"1\" class=\"dataframe\">\n",
       "  <thead>\n",
       "    <tr style=\"text-align: right;\">\n",
       "      <th></th>\n",
       "      <th>score</th>\n",
       "      <th>cnt</th>\n",
       "    </tr>\n",
       "    <tr>\n",
       "      <th>date</th>\n",
       "      <th></th>\n",
       "      <th></th>\n",
       "    </tr>\n",
       "  </thead>\n",
       "  <tbody>\n",
       "  </tbody>\n",
       "</table>\n",
       "</div>"
      ],
      "text/plain": [
       "Empty DataFrame\n",
       "Columns: [score, cnt]\n",
       "Index: []"
      ]
     },
     "execution_count": 19,
     "metadata": {},
     "output_type": "execute_result"
    }
   ],
   "source": [
    "check_zeros = grp_one_stardf[grp_one_stardf['score'] < 1]\n",
    "check_zeros"
   ]
  },
  {
   "cell_type": "code",
   "execution_count": 20,
   "id": "53d83e45",
   "metadata": {},
   "outputs": [
    {
     "data": {
      "image/png": "[encoded data removed]",
      "text/plain": [
       "<Figure size 1440x432 with 1 Axes>"
      ]
     },
     "metadata": {
      "needs_background": "light"
     },
     "output_type": "display_data"
    }
   ],
   "source": [
    "plt.figure(figsize=(20,6))\n",
    "sns.lineplot(x= 'date' , y= 'score', data=grp_one_stardf).set_title('Score for 1 Star Timeline')\n",
    "plt.show;"
   ]
  },
  {
   "cell_type": "code",
   "execution_count": 22,
   "id": "0dd0b335",
   "metadata": {},
   "outputs": [
    {
     "name": "stdout",
     "output_type": "stream",
     "text": [
      "<class 'pandas.core.frame.DataFrame'>\n",
      "DatetimeIndex: 237 entries, 1998-12-31 to 2018-08-31\n",
      "Freq: M\n",
      "Data columns (total 2 columns):\n",
      " #   Column  Non-Null Count  Dtype\n",
      "---  ------  --------------  -----\n",
      " 0   score   237 non-null    int64\n",
      " 1   cnt     237 non-null    int64\n",
      "dtypes: int64(2)\n",
      "memory usage: 5.6 KB\n"
     ]
    }
   ],
   "source": [
    "# Now to view all scores together\n",
    "\n",
    "grp_scores_stardf = score_timeline.groupby(pd.Grouper(key='date', axis=0, freq='M')).sum()\n",
    "grp_scores_stardf.info()\n"
   ]
  },
  {
   "cell_type": "code",
   "execution_count": 23,
   "id": "994cba83",
   "metadata": {},
   "outputs": [
    {
     "data": {
      "text/html": [
       "<div>\n",
       "<style scoped>\n",
       "    .dataframe tbody tr th:only-of-type {\n",
       "        vertical-align: middle;\n",
       "    }\n",
       "\n",
       "    .dataframe tbody tr th {\n",
       "        vertical-align: top;\n",
       "    }\n",
       "\n",
       "    .dataframe thead th {\n",
       "        text-align: right;\n",
       "    }\n",
       "</style>\n",
       "<table border=\"1\" class=\"dataframe\">\n",
       "  <thead>\n",
       "    <tr style=\"text-align: right;\">\n",
       "      <th></th>\n",
       "      <th>score</th>\n",
       "      <th>cnt</th>\n",
       "    </tr>\n",
       "    <tr>\n",
       "      <th>date</th>\n",
       "      <th></th>\n",
       "      <th></th>\n",
       "    </tr>\n",
       "  </thead>\n",
       "  <tbody>\n",
       "    <tr>\n",
       "      <th>1998-12-31</th>\n",
       "      <td>1</td>\n",
       "      <td>1</td>\n",
       "    </tr>\n",
       "    <tr>\n",
       "      <th>1999-01-31</th>\n",
       "      <td>0</td>\n",
       "      <td>0</td>\n",
       "    </tr>\n",
       "    <tr>\n",
       "      <th>1999-02-28</th>\n",
       "      <td>0</td>\n",
       "      <td>0</td>\n",
       "    </tr>\n",
       "    <tr>\n",
       "      <th>1999-03-31</th>\n",
       "      <td>0</td>\n",
       "      <td>0</td>\n",
       "    </tr>\n",
       "    <tr>\n",
       "      <th>1999-04-30</th>\n",
       "      <td>0</td>\n",
       "      <td>0</td>\n",
       "    </tr>\n",
       "  </tbody>\n",
       "</table>\n",
       "</div>"
      ],
      "text/plain": [
       "            score  cnt\n",
       "date                  \n",
       "1998-12-31      1    1\n",
       "1999-01-31      0    0\n",
       "1999-02-28      0    0\n",
       "1999-03-31      0    0\n",
       "1999-04-30      0    0"
      ]
     },
     "execution_count": 23,
     "metadata": {},
     "output_type": "execute_result"
    }
   ],
   "source": [
    "grp_scores_stardf.head()"
   ]
  },
  {
   "cell_type": "code",
   "execution_count": 24,
   "id": "fd079f0d",
   "metadata": {},
   "outputs": [
    {
     "name": "stdout",
     "output_type": "stream",
     "text": [
      "<class 'pandas.core.frame.DataFrame'>\n",
      "DatetimeIndex: 237 entries, 1998-12-31 to 2018-08-31\n",
      "Freq: M\n",
      "Data columns (total 2 columns):\n",
      " #   Column  Non-Null Count  Dtype\n",
      "---  ------  --------------  -----\n",
      " 0   score   237 non-null    int64\n",
      " 1   cnt     237 non-null    int64\n",
      "dtypes: int64(2)\n",
      "memory usage: 5.6 KB\n"
     ]
    }
   ],
   "source": [
    "grp_scores_stardf.info()"
   ]
  },
  {
   "cell_type": "code",
   "execution_count": 25,
   "id": "6a9303d8",
   "metadata": {},
   "outputs": [
    {
     "data": {
      "text/html": [
       "<div>\n",
       "<style scoped>\n",
       "    .dataframe tbody tr th:only-of-type {\n",
       "        vertical-align: middle;\n",
       "    }\n",
       "\n",
       "    .dataframe tbody tr th {\n",
       "        vertical-align: top;\n",
       "    }\n",
       "\n",
       "    .dataframe thead th {\n",
       "        text-align: right;\n",
       "    }\n",
       "</style>\n",
       "<table border=\"1\" class=\"dataframe\">\n",
       "  <thead>\n",
       "    <tr style=\"text-align: right;\">\n",
       "      <th></th>\n",
       "      <th>score</th>\n",
       "      <th>cnt</th>\n",
       "    </tr>\n",
       "    <tr>\n",
       "      <th>date</th>\n",
       "      <th></th>\n",
       "      <th></th>\n",
       "    </tr>\n",
       "  </thead>\n",
       "  <tbody>\n",
       "    <tr>\n",
       "      <th>2018-04-30</th>\n",
       "      <td>2720</td>\n",
       "      <td>742</td>\n",
       "    </tr>\n",
       "    <tr>\n",
       "      <th>2018-05-31</th>\n",
       "      <td>1984</td>\n",
       "      <td>519</td>\n",
       "    </tr>\n",
       "    <tr>\n",
       "      <th>2018-06-30</th>\n",
       "      <td>1258</td>\n",
       "      <td>331</td>\n",
       "    </tr>\n",
       "    <tr>\n",
       "      <th>2018-07-31</th>\n",
       "      <td>864</td>\n",
       "      <td>231</td>\n",
       "    </tr>\n",
       "    <tr>\n",
       "      <th>2018-08-31</th>\n",
       "      <td>465</td>\n",
       "      <td>149</td>\n",
       "    </tr>\n",
       "  </tbody>\n",
       "</table>\n",
       "</div>"
      ],
      "text/plain": [
       "            score  cnt\n",
       "date                  \n",
       "2018-04-30   2720  742\n",
       "2018-05-31   1984  519\n",
       "2018-06-30   1258  331\n",
       "2018-07-31    864  231\n",
       "2018-08-31    465  149"
      ]
     },
     "execution_count": 25,
     "metadata": {},
     "output_type": "execute_result"
    }
   ],
   "source": [
    "grp_scores_stardf.tail()"
   ]
  },
  {
   "cell_type": "code",
   "execution_count": 26,
   "id": "6c24beec",
   "metadata": {},
   "outputs": [
    {
     "data": {
      "image/png": "[encoded data removed]",
      "text/plain": [
       "<Figure size 1440x432 with 1 Axes>"
      ]
     },
     "metadata": {
      "needs_background": "light"
     },
     "output_type": "display_data"
    }
   ],
   "source": [
    "plt.figure(figsize=(20,6))\n",
    "sns.lineplot(x= 'date' , y= 'score', data=grp_scores_stardf).set_title('Sum of Stars Timeline')\n",
    "plt.show;"
   ]
  },
  {
   "cell_type": "code",
   "execution_count": 27,
   "id": "affded48",
   "metadata": {
    "scrolled": true
   },
   "outputs": [
    {
     "data": {
      "image/png": "[encoded data removed]",
      "text/plain": [
       "<Figure size 1440x432 with 1 Axes>"
      ]
     },
     "metadata": {
      "needs_background": "light"
     },
     "output_type": "display_data"
    }
   ],
   "source": [
    "plt.figure(figsize=(20,6))\n",
    "sns.lineplot(x= 'date' , y= 'cnt', data=grp_scores_stardf).set_title('Score for Reviews Number Timeline')\n",
    "plt.show;"
   ]
  },
  {
   "cell_type": "code",
   "execution_count": 24,
   "id": "47c4d337",
   "metadata": {},
   "outputs": [],
   "source": [
    "# Tried one hot encoding for the sku (asin) but was Unable to allocate 181. GiB for an array\n",
    "\n",
    "#xtst = pd.get_dummies(ds['asin'])\n",
    "#xtst.head()"
   ]
  },
  {
   "cell_type": "code",
   "execution_count": 28,
   "id": "8dbf0414",
   "metadata": {},
   "outputs": [
    {
     "name": "stdout",
     "output_type": "stream",
     "text": [
      "['0671573535' '1559404779' 'B00002S5B2' ... 'B000098XNA' 'B000A40V9Q'\n",
      " 'B0002BNWSO']\n"
     ]
    }
   ],
   "source": [
    "unique_asin = ds['asin'].unique()\n",
    "print(unique_asin)"
   ]
  },
  {
   "cell_type": "code",
   "execution_count": 29,
   "id": "d4aa9d38",
   "metadata": {},
   "outputs": [
    {
     "data": {
      "text/plain": [
       "count         292055\n",
       "unique         13209\n",
       "top       B00CTTEKJW\n",
       "freq            7929\n",
       "Name: asin, dtype: object"
      ]
     },
     "execution_count": 29,
     "metadata": {},
     "output_type": "execute_result"
    }
   ],
   "source": [
    "ds['asin'].describe()"
   ]
  },
  {
   "cell_type": "code",
   "execution_count": 28,
   "id": "cfaedc06",
   "metadata": {},
   "outputs": [],
   "source": [
    "# This would be greate but there are too many accounts to execute it\n",
    "\n",
    "#for asin in ds['asin'].unique():\n",
    "#    sns.lineplot(x = 'date', y = 'asin', data = ds[ds['asin'] == 'asin'])\n",
    "#    plt.show;"
   ]
  },
  {
   "cell_type": "code",
   "execution_count": 30,
   "id": "186c9b28",
   "metadata": {},
   "outputs": [
    {
     "data": {
      "text/plain": [
       "Index(['asin', 'score', 'reviewText', 'reviewerID', 'summary', 'timestamp',\n",
       "       'verified', 'date', 'year', 'month', 'day', 'day_of_week', 'cnt'],\n",
       "      dtype='object')"
      ]
     },
     "execution_count": 30,
     "metadata": {},
     "output_type": "execute_result"
    }
   ],
   "source": [
    "ds.columns"
   ]
  },
  {
   "cell_type": "code",
   "execution_count": 31,
   "id": "7feee2ff",
   "metadata": {},
   "outputs": [
    {
     "data": {
      "text/plain": [
       "5    129709\n",
       "1     65763\n",
       "4     49150\n",
       "3     26289\n",
       "2     21144\n",
       "Name: score, dtype: int64"
      ]
     },
     "execution_count": 31,
     "metadata": {},
     "output_type": "execute_result"
    }
   ],
   "source": [
    "ds['score'].value_counts()"
   ]
  },
  {
   "cell_type": "code",
   "execution_count": 32,
   "id": "3aa25d08",
   "metadata": {},
   "outputs": [
    {
     "data": {
      "text/plain": [
       "A5JLAU2ARJ0BO     65\n",
       "A15S4XW3CRISZ5    61\n",
       "A20DZX38KRBIT8    60\n",
       "A680RUE1FDO8B     58\n",
       "A225G2TFM76GYX    49\n",
       "                  ..\n",
       "A2T9D3ZI0IC8N5     1\n",
       "AEF7KF0BPBKWY      1\n",
       "A1MVKHUB8ETCTT     1\n",
       "A2IK2B3WEWTQGP     1\n",
       "A1H5W5TTW5DS7Y     1\n",
       "Name: reviewerID, Length: 244370, dtype: int64"
      ]
     },
     "execution_count": 32,
     "metadata": {},
     "output_type": "execute_result"
    }
   ],
   "source": [
    "ds['reviewerID'].value_counts()"
   ]
  },
  {
   "cell_type": "code",
   "execution_count": 33,
   "id": "e5e0221b",
   "metadata": {},
   "outputs": [
    {
     "data": {
      "text/plain": [
       "true     182205\n",
       "false    109850\n",
       "Name: verified, dtype: int64"
      ]
     },
     "execution_count": 33,
     "metadata": {},
     "output_type": "execute_result"
    }
   ],
   "source": [
    "ds['verified'].value_counts()"
   ]
  },
  {
   "cell_type": "code",
   "execution_count": 34,
   "id": "3bf2157f",
   "metadata": {},
   "outputs": [
    {
     "data": {
      "text/plain": [
       "B00CTTEKJW    7929\n",
       "B00E6LJ2SA    4038\n",
       "B00M9GTHS4    3401\n",
       "B00EZPXYP4    3294\n",
       "B015724OVG    2735\n",
       "              ... \n",
       "B001L4RLGK       1\n",
       "B000OZI9UY       1\n",
       "B00004T2UZ       1\n",
       "B000J4GC6S       1\n",
       "B0002BNWSO       1\n",
       "Name: asin, Length: 13209, dtype: int64"
      ]
     },
     "execution_count": 34,
     "metadata": {},
     "output_type": "execute_result"
    }
   ],
   "source": [
    "ds['asin'].value_counts()"
   ]
  },
  {
   "cell_type": "code",
   "execution_count": 35,
   "id": "81f1a841",
   "metadata": {},
   "outputs": [
    {
     "data": {
      "text/html": [
       "<div>\n",
       "<style scoped>\n",
       "    .dataframe tbody tr th:only-of-type {\n",
       "        vertical-align: middle;\n",
       "    }\n",
       "\n",
       "    .dataframe tbody tr th {\n",
       "        vertical-align: top;\n",
       "    }\n",
       "\n",
       "    .dataframe thead th {\n",
       "        text-align: right;\n",
       "    }\n",
       "</style>\n",
       "<table border=\"1\" class=\"dataframe\">\n",
       "  <thead>\n",
       "    <tr style=\"text-align: right;\">\n",
       "      <th></th>\n",
       "      <th>asin</th>\n",
       "      <th>cnt</th>\n",
       "    </tr>\n",
       "  </thead>\n",
       "  <tbody>\n",
       "    <tr>\n",
       "      <th>0</th>\n",
       "      <td>0671573535</td>\n",
       "      <td>1</td>\n",
       "    </tr>\n",
       "  </tbody>\n",
       "</table>\n",
       "</div>"
      ],
      "text/plain": [
       "         asin  cnt\n",
       "0  0671573535    1"
      ]
     },
     "execution_count": 35,
     "metadata": {},
     "output_type": "execute_result"
    }
   ],
   "source": [
    "short_ds_asins = ds[['asin','cnt']]\n",
    "short_ds_asins.head(1)"
   ]
  },
  {
   "cell_type": "code",
   "execution_count": 36,
   "id": "9aefb1c2",
   "metadata": {},
   "outputs": [
    {
     "data": {
      "text/html": [
       "<div>\n",
       "<style scoped>\n",
       "    .dataframe tbody tr th:only-of-type {\n",
       "        vertical-align: middle;\n",
       "    }\n",
       "\n",
       "    .dataframe tbody tr th {\n",
       "        vertical-align: top;\n",
       "    }\n",
       "\n",
       "    .dataframe thead th {\n",
       "        text-align: right;\n",
       "    }\n",
       "</style>\n",
       "<table border=\"1\" class=\"dataframe\">\n",
       "  <thead>\n",
       "    <tr style=\"text-align: right;\">\n",
       "      <th></th>\n",
       "      <th>asin</th>\n",
       "      <th>cnt</th>\n",
       "    </tr>\n",
       "  </thead>\n",
       "  <tbody>\n",
       "    <tr>\n",
       "      <th>0</th>\n",
       "      <td>0077340701</td>\n",
       "      <td>1</td>\n",
       "    </tr>\n",
       "    <tr>\n",
       "      <th>1</th>\n",
       "      <td>0077369823</td>\n",
       "      <td>3</td>\n",
       "    </tr>\n",
       "    <tr>\n",
       "      <th>2</th>\n",
       "      <td>0077411927</td>\n",
       "      <td>1</td>\n",
       "    </tr>\n",
       "    <tr>\n",
       "      <th>3</th>\n",
       "      <td>0077421027</td>\n",
       "      <td>1</td>\n",
       "    </tr>\n",
       "    <tr>\n",
       "      <th>4</th>\n",
       "      <td>0077508483</td>\n",
       "      <td>1</td>\n",
       "    </tr>\n",
       "  </tbody>\n",
       "</table>\n",
       "</div>"
      ],
      "text/plain": [
       "         asin  cnt\n",
       "0  0077340701    1\n",
       "1  0077369823    3\n",
       "2  0077411927    1\n",
       "3  0077421027    1\n",
       "4  0077508483    1"
      ]
     },
     "execution_count": 36,
     "metadata": {},
     "output_type": "execute_result"
    }
   ],
   "source": [
    "grp_short_ds_asins = short_ds_asins.groupby(['asin'])['cnt'].agg('count').reset_index()\n",
    "grp_short_ds_asins.head()"
   ]
  },
  {
   "cell_type": "code",
   "execution_count": 37,
   "id": "a91976ce",
   "metadata": {},
   "outputs": [
    {
     "data": {
      "text/plain": [
       "(13209, 2)"
      ]
     },
     "execution_count": 37,
     "metadata": {},
     "output_type": "execute_result"
    }
   ],
   "source": [
    "grp_short_ds_asins.shape"
   ]
  },
  {
   "cell_type": "code",
   "execution_count": 38,
   "id": "db91dda5",
   "metadata": {},
   "outputs": [
    {
     "data": {
      "text/html": [
       "<div>\n",
       "<style scoped>\n",
       "    .dataframe tbody tr th:only-of-type {\n",
       "        vertical-align: middle;\n",
       "    }\n",
       "\n",
       "    .dataframe tbody tr th {\n",
       "        vertical-align: top;\n",
       "    }\n",
       "\n",
       "    .dataframe thead th {\n",
       "        text-align: right;\n",
       "    }\n",
       "</style>\n",
       "<table border=\"1\" class=\"dataframe\">\n",
       "  <thead>\n",
       "    <tr style=\"text-align: right;\">\n",
       "      <th></th>\n",
       "      <th>asin</th>\n",
       "      <th>cnt</th>\n",
       "    </tr>\n",
       "  </thead>\n",
       "  <tbody>\n",
       "    <tr>\n",
       "      <th>0</th>\n",
       "      <td>0077340701</td>\n",
       "      <td>1</td>\n",
       "    </tr>\n",
       "    <tr>\n",
       "      <th>1</th>\n",
       "      <td>0077369823</td>\n",
       "      <td>3</td>\n",
       "    </tr>\n",
       "    <tr>\n",
       "      <th>2</th>\n",
       "      <td>0077411927</td>\n",
       "      <td>1</td>\n",
       "    </tr>\n",
       "    <tr>\n",
       "      <th>3</th>\n",
       "      <td>0077421027</td>\n",
       "      <td>1</td>\n",
       "    </tr>\n",
       "    <tr>\n",
       "      <th>4</th>\n",
       "      <td>0077508483</td>\n",
       "      <td>1</td>\n",
       "    </tr>\n",
       "  </tbody>\n",
       "</table>\n",
       "</div>"
      ],
      "text/plain": [
       "         asin  cnt\n",
       "0  0077340701    1\n",
       "1  0077369823    3\n",
       "2  0077411927    1\n",
       "3  0077421027    1\n",
       "4  0077508483    1"
      ]
     },
     "execution_count": 38,
     "metadata": {},
     "output_type": "execute_result"
    }
   ],
   "source": [
    "gsda = grp_short_ds_asins\n",
    "gsda.reset_index(inplace = True, drop = True)\n",
    "gsda.head()"
   ]
  },
  {
   "cell_type": "code",
   "execution_count": 39,
   "id": "227e681c",
   "metadata": {},
   "outputs": [
    {
     "data": {
      "text/html": [
       "<div>\n",
       "<style scoped>\n",
       "    .dataframe tbody tr th:only-of-type {\n",
       "        vertical-align: middle;\n",
       "    }\n",
       "\n",
       "    .dataframe tbody tr th {\n",
       "        vertical-align: top;\n",
       "    }\n",
       "\n",
       "    .dataframe thead th {\n",
       "        text-align: right;\n",
       "    }\n",
       "</style>\n",
       "<table border=\"1\" class=\"dataframe\">\n",
       "  <thead>\n",
       "    <tr style=\"text-align: right;\">\n",
       "      <th></th>\n",
       "      <th>asin</th>\n",
       "      <th>cnt</th>\n",
       "    </tr>\n",
       "  </thead>\n",
       "  <tbody>\n",
       "    <tr>\n",
       "      <th>0</th>\n",
       "      <td>B00CTTEKJW</td>\n",
       "      <td>7929</td>\n",
       "    </tr>\n",
       "    <tr>\n",
       "      <th>1</th>\n",
       "      <td>B00E6LJ2SA</td>\n",
       "      <td>4038</td>\n",
       "    </tr>\n",
       "    <tr>\n",
       "      <th>2</th>\n",
       "      <td>B00M9GTHS4</td>\n",
       "      <td>3401</td>\n",
       "    </tr>\n",
       "    <tr>\n",
       "      <th>3</th>\n",
       "      <td>B00EZPXYP4</td>\n",
       "      <td>3294</td>\n",
       "    </tr>\n",
       "    <tr>\n",
       "      <th>4</th>\n",
       "      <td>B015724OVG</td>\n",
       "      <td>2735</td>\n",
       "    </tr>\n",
       "    <tr>\n",
       "      <th>5</th>\n",
       "      <td>B008RA5A00</td>\n",
       "      <td>2516</td>\n",
       "    </tr>\n",
       "    <tr>\n",
       "      <th>6</th>\n",
       "      <td>B008H3SW4I</td>\n",
       "      <td>2211</td>\n",
       "    </tr>\n",
       "    <tr>\n",
       "      <th>7</th>\n",
       "      <td>B01637RFR4</td>\n",
       "      <td>2082</td>\n",
       "    </tr>\n",
       "    <tr>\n",
       "      <th>8</th>\n",
       "      <td>B01617VPUY</td>\n",
       "      <td>2032</td>\n",
       "    </tr>\n",
       "  </tbody>\n",
       "</table>\n",
       "</div>"
      ],
      "text/plain": [
       "         asin   cnt\n",
       "0  B00CTTEKJW  7929\n",
       "1  B00E6LJ2SA  4038\n",
       "2  B00M9GTHS4  3401\n",
       "3  B00EZPXYP4  3294\n",
       "4  B015724OVG  2735\n",
       "5  B008RA5A00  2516\n",
       "6  B008H3SW4I  2211\n",
       "7  B01637RFR4  2082\n",
       "8  B01617VPUY  2032"
      ]
     },
     "execution_count": 39,
     "metadata": {},
     "output_type": "execute_result"
    }
   ],
   "source": [
    "# Filter on rows\n",
    "# Product reviews above 2,000 reviews:\n",
    "\n",
    "above_two_thou = gsda[gsda['cnt'] >= 2000]\n",
    "sorted_above_two_thou = above_two_thou.sort_values(by = ['cnt'], ascending = False)\n",
    "sorted_above_two_thou.reset_index(inplace = True, drop = True)\n",
    "sorted_above_two_thou\n"
   ]
  },
  {
   "cell_type": "code",
   "execution_count": 40,
   "id": "f91a457b",
   "metadata": {},
   "outputs": [
    {
     "data": {
      "text/html": [
       "<div>\n",
       "<style scoped>\n",
       "    .dataframe tbody tr th:only-of-type {\n",
       "        vertical-align: middle;\n",
       "    }\n",
       "\n",
       "    .dataframe tbody tr th {\n",
       "        vertical-align: top;\n",
       "    }\n",
       "\n",
       "    .dataframe thead th {\n",
       "        text-align: right;\n",
       "    }\n",
       "</style>\n",
       "<table border=\"1\" class=\"dataframe\">\n",
       "  <thead>\n",
       "    <tr style=\"text-align: right;\">\n",
       "      <th></th>\n",
       "      <th>asin</th>\n",
       "      <th>cnt</th>\n",
       "    </tr>\n",
       "  </thead>\n",
       "  <tbody>\n",
       "    <tr>\n",
       "      <th>27</th>\n",
       "      <td>B00ENFVLAQ</td>\n",
       "      <td>1076</td>\n",
       "    </tr>\n",
       "    <tr>\n",
       "      <th>28</th>\n",
       "      <td>B00E6ONJJU</td>\n",
       "      <td>1070</td>\n",
       "    </tr>\n",
       "    <tr>\n",
       "      <th>29</th>\n",
       "      <td>B002DHLUWK</td>\n",
       "      <td>1031</td>\n",
       "    </tr>\n",
       "    <tr>\n",
       "      <th>30</th>\n",
       "      <td>B01326J80Q</td>\n",
       "      <td>1009</td>\n",
       "    </tr>\n",
       "    <tr>\n",
       "      <th>31</th>\n",
       "      <td>0763855553</td>\n",
       "      <td>1002</td>\n",
       "    </tr>\n",
       "  </tbody>\n",
       "</table>\n",
       "</div>"
      ],
      "text/plain": [
       "          asin   cnt\n",
       "27  B00ENFVLAQ  1076\n",
       "28  B00E6ONJJU  1070\n",
       "29  B002DHLUWK  1031\n",
       "30  B01326J80Q  1009\n",
       "31  0763855553  1002"
      ]
     },
     "execution_count": 40,
     "metadata": {},
     "output_type": "execute_result"
    }
   ],
   "source": [
    "# Filter on rows\n",
    "# Product reviews above 1,000 reviews:\n",
    "\n",
    "above_one_thou = gsda[gsda['cnt'] >= 1000 ]\n",
    "sorted_above_one_thou = above_one_thou.sort_values(by = ['cnt'], ascending = False)\n",
    "sorted_above_one_thou.reset_index(inplace = True, drop = True)\n",
    "sorted_above_one_thou.tail()\n"
   ]
  },
  {
   "cell_type": "code",
   "execution_count": 41,
   "id": "bbc2b4a6",
   "metadata": {},
   "outputs": [
    {
     "data": {
      "text/html": [
       "<div>\n",
       "<style scoped>\n",
       "    .dataframe tbody tr th:only-of-type {\n",
       "        vertical-align: middle;\n",
       "    }\n",
       "\n",
       "    .dataframe tbody tr th {\n",
       "        vertical-align: top;\n",
       "    }\n",
       "\n",
       "    .dataframe thead th {\n",
       "        text-align: right;\n",
       "    }\n",
       "</style>\n",
       "<table border=\"1\" class=\"dataframe\">\n",
       "  <thead>\n",
       "    <tr style=\"text-align: right;\">\n",
       "      <th></th>\n",
       "      <th>asin</th>\n",
       "      <th>cnt</th>\n",
       "    </tr>\n",
       "  </thead>\n",
       "  <tbody>\n",
       "    <tr>\n",
       "      <th>73</th>\n",
       "      <td>B0056CZC2S</td>\n",
       "      <td>520</td>\n",
       "    </tr>\n",
       "    <tr>\n",
       "      <th>74</th>\n",
       "      <td>B013EXEVP4</td>\n",
       "      <td>517</td>\n",
       "    </tr>\n",
       "    <tr>\n",
       "      <th>75</th>\n",
       "      <td>B00E6LIECA</td>\n",
       "      <td>514</td>\n",
       "    </tr>\n",
       "    <tr>\n",
       "      <th>76</th>\n",
       "      <td>B00B1TGMIS</td>\n",
       "      <td>513</td>\n",
       "    </tr>\n",
       "    <tr>\n",
       "      <th>77</th>\n",
       "      <td>B000FK88JK</td>\n",
       "      <td>511</td>\n",
       "    </tr>\n",
       "  </tbody>\n",
       "</table>\n",
       "</div>"
      ],
      "text/plain": [
       "          asin  cnt\n",
       "73  B0056CZC2S  520\n",
       "74  B013EXEVP4  517\n",
       "75  B00E6LIECA  514\n",
       "76  B00B1TGMIS  513\n",
       "77  B000FK88JK  511"
      ]
     },
     "execution_count": 41,
     "metadata": {},
     "output_type": "execute_result"
    }
   ],
   "source": [
    "# Filter on rows\n",
    "# Product reviews above 500 reviews:\n",
    "\n",
    "above_five_hundered = gsda[gsda['cnt'] >= 500 ]\n",
    "sorted_above_five_hundered = above_five_hundered.sort_values(by = ['cnt'], ascending = False)\n",
    "sorted_above_five_hundered.reset_index(inplace = True, drop = True)\n",
    "sorted_above_five_hundered.tail()"
   ]
  },
  {
   "cell_type": "code",
   "execution_count": 42,
   "id": "6e9c900b",
   "metadata": {},
   "outputs": [
    {
     "data": {
      "text/html": [
       "<div>\n",
       "<style scoped>\n",
       "    .dataframe tbody tr th:only-of-type {\n",
       "        vertical-align: middle;\n",
       "    }\n",
       "\n",
       "    .dataframe tbody tr th {\n",
       "        vertical-align: top;\n",
       "    }\n",
       "\n",
       "    .dataframe thead th {\n",
       "        text-align: right;\n",
       "    }\n",
       "</style>\n",
       "<table border=\"1\" class=\"dataframe\">\n",
       "  <thead>\n",
       "    <tr style=\"text-align: right;\">\n",
       "      <th></th>\n",
       "      <th>1</th>\n",
       "      <th>2</th>\n",
       "      <th>3</th>\n",
       "      <th>4</th>\n",
       "      <th>5</th>\n",
       "    </tr>\n",
       "  </thead>\n",
       "  <tbody>\n",
       "    <tr>\n",
       "      <th>0</th>\n",
       "      <td>1</td>\n",
       "      <td>0</td>\n",
       "      <td>0</td>\n",
       "      <td>0</td>\n",
       "      <td>0</td>\n",
       "    </tr>\n",
       "    <tr>\n",
       "      <th>1</th>\n",
       "      <td>0</td>\n",
       "      <td>0</td>\n",
       "      <td>0</td>\n",
       "      <td>1</td>\n",
       "      <td>0</td>\n",
       "    </tr>\n",
       "    <tr>\n",
       "      <th>2</th>\n",
       "      <td>0</td>\n",
       "      <td>0</td>\n",
       "      <td>0</td>\n",
       "      <td>0</td>\n",
       "      <td>1</td>\n",
       "    </tr>\n",
       "    <tr>\n",
       "      <th>3</th>\n",
       "      <td>0</td>\n",
       "      <td>0</td>\n",
       "      <td>0</td>\n",
       "      <td>0</td>\n",
       "      <td>1</td>\n",
       "    </tr>\n",
       "    <tr>\n",
       "      <th>4</th>\n",
       "      <td>0</td>\n",
       "      <td>1</td>\n",
       "      <td>0</td>\n",
       "      <td>0</td>\n",
       "      <td>0</td>\n",
       "    </tr>\n",
       "    <tr>\n",
       "      <th>5</th>\n",
       "      <td>1</td>\n",
       "      <td>0</td>\n",
       "      <td>0</td>\n",
       "      <td>0</td>\n",
       "      <td>0</td>\n",
       "    </tr>\n",
       "    <tr>\n",
       "      <th>6</th>\n",
       "      <td>0</td>\n",
       "      <td>0</td>\n",
       "      <td>0</td>\n",
       "      <td>0</td>\n",
       "      <td>1</td>\n",
       "    </tr>\n",
       "    <tr>\n",
       "      <th>7</th>\n",
       "      <td>0</td>\n",
       "      <td>0</td>\n",
       "      <td>0</td>\n",
       "      <td>1</td>\n",
       "      <td>0</td>\n",
       "    </tr>\n",
       "    <tr>\n",
       "      <th>8</th>\n",
       "      <td>0</td>\n",
       "      <td>0</td>\n",
       "      <td>0</td>\n",
       "      <td>1</td>\n",
       "      <td>0</td>\n",
       "    </tr>\n",
       "    <tr>\n",
       "      <th>9</th>\n",
       "      <td>0</td>\n",
       "      <td>0</td>\n",
       "      <td>0</td>\n",
       "      <td>1</td>\n",
       "      <td>0</td>\n",
       "    </tr>\n",
       "  </tbody>\n",
       "</table>\n",
       "</div>"
      ],
      "text/plain": [
       "   1  2  3  4  5\n",
       "0  1  0  0  0  0\n",
       "1  0  0  0  1  0\n",
       "2  0  0  0  0  1\n",
       "3  0  0  0  0  1\n",
       "4  0  1  0  0  0\n",
       "5  1  0  0  0  0\n",
       "6  0  0  0  0  1\n",
       "7  0  0  0  1  0\n",
       "8  0  0  0  1  0\n",
       "9  0  0  0  1  0"
      ]
     },
     "execution_count": 42,
     "metadata": {},
     "output_type": "execute_result"
    }
   ],
   "source": [
    "# Score column one hot encoding\n",
    "\n",
    "score_encoding = pd.get_dummies(ds['score'])\n",
    "score_encoding.head(10)"
   ]
  },
  {
   "cell_type": "code",
   "execution_count": 43,
   "id": "e942197c",
   "metadata": {},
   "outputs": [
    {
     "data": {
      "text/html": [
       "<div>\n",
       "<style scoped>\n",
       "    .dataframe tbody tr th:only-of-type {\n",
       "        vertical-align: middle;\n",
       "    }\n",
       "\n",
       "    .dataframe tbody tr th {\n",
       "        vertical-align: top;\n",
       "    }\n",
       "\n",
       "    .dataframe thead th {\n",
       "        text-align: right;\n",
       "    }\n",
       "</style>\n",
       "<table border=\"1\" class=\"dataframe\">\n",
       "  <thead>\n",
       "    <tr style=\"text-align: right;\">\n",
       "      <th></th>\n",
       "      <th>asin</th>\n",
       "      <th>score</th>\n",
       "      <th>year</th>\n",
       "    </tr>\n",
       "  </thead>\n",
       "  <tbody>\n",
       "    <tr>\n",
       "      <th>0</th>\n",
       "      <td>0671573535</td>\n",
       "      <td>1</td>\n",
       "      <td>1998</td>\n",
       "    </tr>\n",
       "    <tr>\n",
       "      <th>1</th>\n",
       "      <td>B00002JV62</td>\n",
       "      <td>1</td>\n",
       "      <td>1999</td>\n",
       "    </tr>\n",
       "    <tr>\n",
       "      <th>2</th>\n",
       "      <td>B00002S8R2</td>\n",
       "      <td>1</td>\n",
       "      <td>1999</td>\n",
       "    </tr>\n",
       "    <tr>\n",
       "      <th>3</th>\n",
       "      <td>B00002SANR</td>\n",
       "      <td>1</td>\n",
       "      <td>1999</td>\n",
       "    </tr>\n",
       "    <tr>\n",
       "      <th>4</th>\n",
       "      <td>B00002SANR</td>\n",
       "      <td>1</td>\n",
       "      <td>1999</td>\n",
       "    </tr>\n",
       "  </tbody>\n",
       "</table>\n",
       "</div>"
      ],
      "text/plain": [
       "         asin  score  year\n",
       "0  0671573535      1  1998\n",
       "1  B00002JV62      1  1999\n",
       "2  B00002S8R2      1  1999\n",
       "3  B00002SANR      1  1999\n",
       "4  B00002SANR      1  1999"
      ]
     },
     "execution_count": 43,
     "metadata": {},
     "output_type": "execute_result"
    }
   ],
   "source": [
    "# Dataset of the worst scores\n",
    "\n",
    "just_score = ds[['asin','score','year']]\n",
    "just_score\n",
    "\n",
    "onestar_ds = just_score[just_score['score'] == 1]\n",
    "onestar_ds.reset_index(inplace = True, drop = True)\n",
    "onestar_ds.head()"
   ]
  },
  {
   "cell_type": "code",
   "execution_count": 44,
   "id": "98fb8829",
   "metadata": {},
   "outputs": [
    {
     "data": {
      "text/plain": [
       "(65763, 3)"
      ]
     },
     "execution_count": 44,
     "metadata": {},
     "output_type": "execute_result"
    }
   ],
   "source": [
    "onestar_ds.shape"
   ]
  },
  {
   "cell_type": "code",
   "execution_count": 45,
   "id": "26289619",
   "metadata": {},
   "outputs": [
    {
     "name": "stdout",
     "output_type": "stream",
     "text": [
      "<class 'pandas.core.frame.DataFrame'>\n",
      "RangeIndex: 21 entries, 0 to 20\n",
      "Data columns (total 2 columns):\n",
      " #   Column  Non-Null Count  Dtype\n",
      "---  ------  --------------  -----\n",
      " 0   year    21 non-null     int64\n",
      " 1   score   21 non-null     int64\n",
      "dtypes: int64(2)\n",
      "memory usage: 464.0 bytes\n"
     ]
    }
   ],
   "source": [
    "grp_onestar_ds = onestar_ds.groupby(['year'])['score'].agg('sum').reset_index()\n",
    "grp_onestar_ds.info()\n"
   ]
  },
  {
   "cell_type": "code",
   "execution_count": 46,
   "id": "70da1e41",
   "metadata": {},
   "outputs": [
    {
     "data": {
      "text/html": [
       "<div>\n",
       "<style scoped>\n",
       "    .dataframe tbody tr th:only-of-type {\n",
       "        vertical-align: middle;\n",
       "    }\n",
       "\n",
       "    .dataframe tbody tr th {\n",
       "        vertical-align: top;\n",
       "    }\n",
       "\n",
       "    .dataframe thead th {\n",
       "        text-align: right;\n",
       "    }\n",
       "</style>\n",
       "<table border=\"1\" class=\"dataframe\">\n",
       "  <thead>\n",
       "    <tr style=\"text-align: right;\">\n",
       "      <th></th>\n",
       "      <th>year</th>\n",
       "      <th>score</th>\n",
       "    </tr>\n",
       "  </thead>\n",
       "  <tbody>\n",
       "    <tr>\n",
       "      <th>0</th>\n",
       "      <td>1998</td>\n",
       "      <td>1</td>\n",
       "    </tr>\n",
       "    <tr>\n",
       "      <th>1</th>\n",
       "      <td>1999</td>\n",
       "      <td>13</td>\n",
       "    </tr>\n",
       "    <tr>\n",
       "      <th>2</th>\n",
       "      <td>2000</td>\n",
       "      <td>159</td>\n",
       "    </tr>\n",
       "    <tr>\n",
       "      <th>3</th>\n",
       "      <td>2001</td>\n",
       "      <td>565</td>\n",
       "    </tr>\n",
       "    <tr>\n",
       "      <th>4</th>\n",
       "      <td>2002</td>\n",
       "      <td>931</td>\n",
       "    </tr>\n",
       "    <tr>\n",
       "      <th>5</th>\n",
       "      <td>2003</td>\n",
       "      <td>1483</td>\n",
       "    </tr>\n",
       "    <tr>\n",
       "      <th>6</th>\n",
       "      <td>2004</td>\n",
       "      <td>1368</td>\n",
       "    </tr>\n",
       "    <tr>\n",
       "      <th>7</th>\n",
       "      <td>2005</td>\n",
       "      <td>1380</td>\n",
       "    </tr>\n",
       "    <tr>\n",
       "      <th>8</th>\n",
       "      <td>2006</td>\n",
       "      <td>2423</td>\n",
       "    </tr>\n",
       "    <tr>\n",
       "      <th>9</th>\n",
       "      <td>2007</td>\n",
       "      <td>3377</td>\n",
       "    </tr>\n",
       "    <tr>\n",
       "      <th>10</th>\n",
       "      <td>2008</td>\n",
       "      <td>4543</td>\n",
       "    </tr>\n",
       "    <tr>\n",
       "      <th>11</th>\n",
       "      <td>2009</td>\n",
       "      <td>4457</td>\n",
       "    </tr>\n",
       "    <tr>\n",
       "      <th>12</th>\n",
       "      <td>2010</td>\n",
       "      <td>3889</td>\n",
       "    </tr>\n",
       "    <tr>\n",
       "      <th>13</th>\n",
       "      <td>2011</td>\n",
       "      <td>3801</td>\n",
       "    </tr>\n",
       "    <tr>\n",
       "      <th>14</th>\n",
       "      <td>2012</td>\n",
       "      <td>3782</td>\n",
       "    </tr>\n",
       "    <tr>\n",
       "      <th>15</th>\n",
       "      <td>2013</td>\n",
       "      <td>7975</td>\n",
       "    </tr>\n",
       "    <tr>\n",
       "      <th>16</th>\n",
       "      <td>2014</td>\n",
       "      <td>8683</td>\n",
       "    </tr>\n",
       "    <tr>\n",
       "      <th>17</th>\n",
       "      <td>2015</td>\n",
       "      <td>5593</td>\n",
       "    </tr>\n",
       "    <tr>\n",
       "      <th>18</th>\n",
       "      <td>2016</td>\n",
       "      <td>7553</td>\n",
       "    </tr>\n",
       "    <tr>\n",
       "      <th>19</th>\n",
       "      <td>2017</td>\n",
       "      <td>2703</td>\n",
       "    </tr>\n",
       "    <tr>\n",
       "      <th>20</th>\n",
       "      <td>2018</td>\n",
       "      <td>1084</td>\n",
       "    </tr>\n",
       "  </tbody>\n",
       "</table>\n",
       "</div>"
      ],
      "text/plain": [
       "    year  score\n",
       "0   1998      1\n",
       "1   1999     13\n",
       "2   2000    159\n",
       "3   2001    565\n",
       "4   2002    931\n",
       "5   2003   1483\n",
       "6   2004   1368\n",
       "7   2005   1380\n",
       "8   2006   2423\n",
       "9   2007   3377\n",
       "10  2008   4543\n",
       "11  2009   4457\n",
       "12  2010   3889\n",
       "13  2011   3801\n",
       "14  2012   3782\n",
       "15  2013   7975\n",
       "16  2014   8683\n",
       "17  2015   5593\n",
       "18  2016   7553\n",
       "19  2017   2703\n",
       "20  2018   1084"
      ]
     },
     "execution_count": 46,
     "metadata": {},
     "output_type": "execute_result"
    }
   ],
   "source": [
    "grp_onestar_ds"
   ]
  },
  {
   "cell_type": "code",
   "execution_count": 47,
   "id": "aeb9f23c",
   "metadata": {},
   "outputs": [
    {
     "data": {
      "image/png": "[encoded data removed]",
      "text/plain": [
       "<Figure size 1440x432 with 1 Axes>"
      ]
     },
     "metadata": {
      "needs_background": "light"
     },
     "output_type": "display_data"
    }
   ],
   "source": [
    "plt.figure(figsize=(20,6))\n",
    "sns.lineplot(x= 'year' , y= 'score', data=grp_onestar_ds, color = 'red').set_title('Score for One Star Reviews Timeline')\n",
    "plt.show;"
   ]
  },
  {
   "cell_type": "code",
   "execution_count": 48,
   "id": "09ef57a3",
   "metadata": {},
   "outputs": [
    {
     "data": {
      "text/html": [
       "<div>\n",
       "<style scoped>\n",
       "    .dataframe tbody tr th:only-of-type {\n",
       "        vertical-align: middle;\n",
       "    }\n",
       "\n",
       "    .dataframe tbody tr th {\n",
       "        vertical-align: top;\n",
       "    }\n",
       "\n",
       "    .dataframe thead th {\n",
       "        text-align: right;\n",
       "    }\n",
       "</style>\n",
       "<table border=\"1\" class=\"dataframe\">\n",
       "  <thead>\n",
       "    <tr style=\"text-align: right;\">\n",
       "      <th></th>\n",
       "      <th>asin</th>\n",
       "      <th>score</th>\n",
       "      <th>year</th>\n",
       "    </tr>\n",
       "  </thead>\n",
       "  <tbody>\n",
       "    <tr>\n",
       "      <th>0</th>\n",
       "      <td>B00002S5B2</td>\n",
       "      <td>5</td>\n",
       "      <td>1999</td>\n",
       "    </tr>\n",
       "    <tr>\n",
       "      <th>1</th>\n",
       "      <td>B00002S8D6</td>\n",
       "      <td>5</td>\n",
       "      <td>1999</td>\n",
       "    </tr>\n",
       "    <tr>\n",
       "      <th>2</th>\n",
       "      <td>B00002S8D7</td>\n",
       "      <td>5</td>\n",
       "      <td>1999</td>\n",
       "    </tr>\n",
       "    <tr>\n",
       "      <th>3</th>\n",
       "      <td>B00002S5H2</td>\n",
       "      <td>5</td>\n",
       "      <td>1999</td>\n",
       "    </tr>\n",
       "    <tr>\n",
       "      <th>4</th>\n",
       "      <td>B00002S5H2</td>\n",
       "      <td>5</td>\n",
       "      <td>1999</td>\n",
       "    </tr>\n",
       "  </tbody>\n",
       "</table>\n",
       "</div>"
      ],
      "text/plain": [
       "         asin  score  year\n",
       "0  B00002S5B2      5  1999\n",
       "1  B00002S8D6      5  1999\n",
       "2  B00002S8D7      5  1999\n",
       "3  B00002S5H2      5  1999\n",
       "4  B00002S5H2      5  1999"
      ]
     },
     "execution_count": 48,
     "metadata": {},
     "output_type": "execute_result"
    }
   ],
   "source": [
    "# Dataset of the best scores\n",
    "\n",
    "just_score = ds[['asin','score','year']]\n",
    "just_score\n",
    "\n",
    "fivestar_ds = just_score[just_score['score'] == 5]\n",
    "fivestar_ds.reset_index(inplace = True, drop = True)\n",
    "fivestar_ds.head()"
   ]
  },
  {
   "cell_type": "code",
   "execution_count": 49,
   "id": "2262f11c",
   "metadata": {},
   "outputs": [
    {
     "data": {
      "text/plain": [
       "(129709, 3)"
      ]
     },
     "execution_count": 49,
     "metadata": {},
     "output_type": "execute_result"
    }
   ],
   "source": [
    "fivestar_ds.shape"
   ]
  },
  {
   "cell_type": "code",
   "execution_count": 50,
   "id": "4a75c1e6",
   "metadata": {},
   "outputs": [
    {
     "name": "stdout",
     "output_type": "stream",
     "text": [
      "<class 'pandas.core.frame.DataFrame'>\n",
      "RangeIndex: 20 entries, 0 to 19\n",
      "Data columns (total 2 columns):\n",
      " #   Column  Non-Null Count  Dtype\n",
      "---  ------  --------------  -----\n",
      " 0   year    20 non-null     int64\n",
      " 1   score   20 non-null     int64\n",
      "dtypes: int64(2)\n",
      "memory usage: 448.0 bytes\n"
     ]
    }
   ],
   "source": [
    "grp_fivestar_ds = fivestar_ds.groupby(['year'])['score'].agg('sum').reset_index()\n",
    "grp_fivestar_ds.info()\n"
   ]
  },
  {
   "cell_type": "code",
   "execution_count": 51,
   "id": "3d25278d",
   "metadata": {},
   "outputs": [
    {
     "data": {
      "text/html": [
       "<div>\n",
       "<style scoped>\n",
       "    .dataframe tbody tr th:only-of-type {\n",
       "        vertical-align: middle;\n",
       "    }\n",
       "\n",
       "    .dataframe tbody tr th {\n",
       "        vertical-align: top;\n",
       "    }\n",
       "\n",
       "    .dataframe thead th {\n",
       "        text-align: right;\n",
       "    }\n",
       "</style>\n",
       "<table border=\"1\" class=\"dataframe\">\n",
       "  <thead>\n",
       "    <tr style=\"text-align: right;\">\n",
       "      <th></th>\n",
       "      <th>year</th>\n",
       "      <th>score</th>\n",
       "    </tr>\n",
       "  </thead>\n",
       "  <tbody>\n",
       "    <tr>\n",
       "      <th>0</th>\n",
       "      <td>1999</td>\n",
       "      <td>220</td>\n",
       "    </tr>\n",
       "    <tr>\n",
       "      <th>1</th>\n",
       "      <td>2000</td>\n",
       "      <td>2340</td>\n",
       "    </tr>\n",
       "    <tr>\n",
       "      <th>2</th>\n",
       "      <td>2001</td>\n",
       "      <td>4850</td>\n",
       "    </tr>\n",
       "    <tr>\n",
       "      <th>3</th>\n",
       "      <td>2002</td>\n",
       "      <td>6950</td>\n",
       "    </tr>\n",
       "    <tr>\n",
       "      <th>4</th>\n",
       "      <td>2003</td>\n",
       "      <td>6680</td>\n",
       "    </tr>\n",
       "    <tr>\n",
       "      <th>5</th>\n",
       "      <td>2004</td>\n",
       "      <td>5285</td>\n",
       "    </tr>\n",
       "    <tr>\n",
       "      <th>6</th>\n",
       "      <td>2005</td>\n",
       "      <td>7700</td>\n",
       "    </tr>\n",
       "    <tr>\n",
       "      <th>7</th>\n",
       "      <td>2006</td>\n",
       "      <td>12770</td>\n",
       "    </tr>\n",
       "    <tr>\n",
       "      <th>8</th>\n",
       "      <td>2007</td>\n",
       "      <td>23210</td>\n",
       "    </tr>\n",
       "    <tr>\n",
       "      <th>9</th>\n",
       "      <td>2008</td>\n",
       "      <td>30165</td>\n",
       "    </tr>\n",
       "    <tr>\n",
       "      <th>10</th>\n",
       "      <td>2009</td>\n",
       "      <td>37185</td>\n",
       "    </tr>\n",
       "    <tr>\n",
       "      <th>11</th>\n",
       "      <td>2010</td>\n",
       "      <td>26030</td>\n",
       "    </tr>\n",
       "    <tr>\n",
       "      <th>12</th>\n",
       "      <td>2011</td>\n",
       "      <td>30820</td>\n",
       "    </tr>\n",
       "    <tr>\n",
       "      <th>13</th>\n",
       "      <td>2012</td>\n",
       "      <td>33565</td>\n",
       "    </tr>\n",
       "    <tr>\n",
       "      <th>14</th>\n",
       "      <td>2013</td>\n",
       "      <td>82110</td>\n",
       "    </tr>\n",
       "    <tr>\n",
       "      <th>15</th>\n",
       "      <td>2014</td>\n",
       "      <td>125540</td>\n",
       "    </tr>\n",
       "    <tr>\n",
       "      <th>16</th>\n",
       "      <td>2015</td>\n",
       "      <td>71115</td>\n",
       "    </tr>\n",
       "    <tr>\n",
       "      <th>17</th>\n",
       "      <td>2016</td>\n",
       "      <td>96750</td>\n",
       "    </tr>\n",
       "    <tr>\n",
       "      <th>18</th>\n",
       "      <td>2017</td>\n",
       "      <td>32920</td>\n",
       "    </tr>\n",
       "    <tr>\n",
       "      <th>19</th>\n",
       "      <td>2018</td>\n",
       "      <td>12340</td>\n",
       "    </tr>\n",
       "  </tbody>\n",
       "</table>\n",
       "</div>"
      ],
      "text/plain": [
       "    year   score\n",
       "0   1999     220\n",
       "1   2000    2340\n",
       "2   2001    4850\n",
       "3   2002    6950\n",
       "4   2003    6680\n",
       "5   2004    5285\n",
       "6   2005    7700\n",
       "7   2006   12770\n",
       "8   2007   23210\n",
       "9   2008   30165\n",
       "10  2009   37185\n",
       "11  2010   26030\n",
       "12  2011   30820\n",
       "13  2012   33565\n",
       "14  2013   82110\n",
       "15  2014  125540\n",
       "16  2015   71115\n",
       "17  2016   96750\n",
       "18  2017   32920\n",
       "19  2018   12340"
      ]
     },
     "execution_count": 51,
     "metadata": {},
     "output_type": "execute_result"
    }
   ],
   "source": [
    "grp_fivestar_ds"
   ]
  },
  {
   "cell_type": "code",
   "execution_count": 52,
   "id": "f2642eff",
   "metadata": {},
   "outputs": [
    {
     "data": {
      "image/png": "[encoded data removed]",
      "text/plain": [
       "<Figure size 1440x432 with 1 Axes>"
      ]
     },
     "metadata": {
      "needs_background": "light"
     },
     "output_type": "display_data"
    }
   ],
   "source": [
    "plt.figure(figsize=(20,6))\n",
    "sns.lineplot(x= 'year' , y= 'score', data=grp_fivestar_ds, color = 'green').set_title('Score for Five Star Reviews Timeline')\n",
    "plt.show;"
   ]
  },
  {
   "cell_type": "code",
   "execution_count": 53,
   "id": "ec972478",
   "metadata": {},
   "outputs": [
    {
     "data": {
      "text/html": [
       "<div>\n",
       "<style scoped>\n",
       "    .dataframe tbody tr th:only-of-type {\n",
       "        vertical-align: middle;\n",
       "    }\n",
       "\n",
       "    .dataframe tbody tr th {\n",
       "        vertical-align: top;\n",
       "    }\n",
       "\n",
       "    .dataframe thead th {\n",
       "        text-align: right;\n",
       "    }\n",
       "</style>\n",
       "<table border=\"1\" class=\"dataframe\">\n",
       "  <thead>\n",
       "    <tr style=\"text-align: right;\">\n",
       "      <th></th>\n",
       "      <th>year</th>\n",
       "      <th>cnt</th>\n",
       "    </tr>\n",
       "  </thead>\n",
       "  <tbody>\n",
       "    <tr>\n",
       "      <th>0</th>\n",
       "      <td>1998</td>\n",
       "      <td>1</td>\n",
       "    </tr>\n",
       "    <tr>\n",
       "      <th>1</th>\n",
       "      <td>1999</td>\n",
       "      <td>97</td>\n",
       "    </tr>\n",
       "    <tr>\n",
       "      <th>2</th>\n",
       "      <td>2000</td>\n",
       "      <td>1064</td>\n",
       "    </tr>\n",
       "    <tr>\n",
       "      <th>3</th>\n",
       "      <td>2001</td>\n",
       "      <td>2407</td>\n",
       "    </tr>\n",
       "    <tr>\n",
       "      <th>4</th>\n",
       "      <td>2002</td>\n",
       "      <td>3663</td>\n",
       "    </tr>\n",
       "    <tr>\n",
       "      <th>5</th>\n",
       "      <td>2003</td>\n",
       "      <td>4212</td>\n",
       "    </tr>\n",
       "    <tr>\n",
       "      <th>6</th>\n",
       "      <td>2004</td>\n",
       "      <td>3574</td>\n",
       "    </tr>\n",
       "    <tr>\n",
       "      <th>7</th>\n",
       "      <td>2005</td>\n",
       "      <td>4365</td>\n",
       "    </tr>\n",
       "    <tr>\n",
       "      <th>8</th>\n",
       "      <td>2006</td>\n",
       "      <td>7563</td>\n",
       "    </tr>\n",
       "    <tr>\n",
       "      <th>9</th>\n",
       "      <td>2007</td>\n",
       "      <td>12817</td>\n",
       "    </tr>\n",
       "    <tr>\n",
       "      <th>10</th>\n",
       "      <td>2008</td>\n",
       "      <td>16658</td>\n",
       "    </tr>\n",
       "    <tr>\n",
       "      <th>11</th>\n",
       "      <td>2009</td>\n",
       "      <td>18960</td>\n",
       "    </tr>\n",
       "    <tr>\n",
       "      <th>12</th>\n",
       "      <td>2010</td>\n",
       "      <td>14494</td>\n",
       "    </tr>\n",
       "    <tr>\n",
       "      <th>13</th>\n",
       "      <td>2011</td>\n",
       "      <td>15475</td>\n",
       "    </tr>\n",
       "    <tr>\n",
       "      <th>14</th>\n",
       "      <td>2012</td>\n",
       "      <td>15453</td>\n",
       "    </tr>\n",
       "    <tr>\n",
       "      <th>15</th>\n",
       "      <td>2013</td>\n",
       "      <td>38734</td>\n",
       "    </tr>\n",
       "    <tr>\n",
       "      <th>16</th>\n",
       "      <td>2014</td>\n",
       "      <td>49422</td>\n",
       "    </tr>\n",
       "    <tr>\n",
       "      <th>17</th>\n",
       "      <td>2015</td>\n",
       "      <td>28492</td>\n",
       "    </tr>\n",
       "    <tr>\n",
       "      <th>18</th>\n",
       "      <td>2016</td>\n",
       "      <td>37699</td>\n",
       "    </tr>\n",
       "    <tr>\n",
       "      <th>19</th>\n",
       "      <td>2017</td>\n",
       "      <td>12303</td>\n",
       "    </tr>\n",
       "    <tr>\n",
       "      <th>20</th>\n",
       "      <td>2018</td>\n",
       "      <td>4602</td>\n",
       "    </tr>\n",
       "  </tbody>\n",
       "</table>\n",
       "</div>"
      ],
      "text/plain": [
       "    year    cnt\n",
       "0   1998      1\n",
       "1   1999     97\n",
       "2   2000   1064\n",
       "3   2001   2407\n",
       "4   2002   3663\n",
       "5   2003   4212\n",
       "6   2004   3574\n",
       "7   2005   4365\n",
       "8   2006   7563\n",
       "9   2007  12817\n",
       "10  2008  16658\n",
       "11  2009  18960\n",
       "12  2010  14494\n",
       "13  2011  15475\n",
       "14  2012  15453\n",
       "15  2013  38734\n",
       "16  2014  49422\n",
       "17  2015  28492\n",
       "18  2016  37699\n",
       "19  2017  12303\n",
       "20  2018   4602"
      ]
     },
     "execution_count": 53,
     "metadata": {},
     "output_type": "execute_result"
    }
   ],
   "source": [
    "# Dataset of review counts\n",
    "\n",
    "ds_review_counts = ds[['asin','cnt','year']]\n",
    "grp_ds_review_counts = ds_review_counts.groupby(['year'])['cnt'].agg('sum').reset_index()\n",
    "grp_ds_review_counts\n"
   ]
  },
  {
   "cell_type": "code",
   "execution_count": 53,
   "id": "9d7e455b",
   "metadata": {},
   "outputs": [
    {
     "data": {
      "image/png": "[encoded data removed]",
      "text/plain": [
       "<Figure size 1440x432 with 1 Axes>"
      ]
     },
     "metadata": {
      "needs_background": "light"
     },
     "output_type": "display_data"
    }
   ],
   "source": [
    "plt.figure(figsize=(20,6))\n",
    "sns.lineplot(x= 'year' , y= 'cnt', data=grp_ds_review_counts, color = 'orange').set_title('Reviews per Year Timeline')\n",
    "plt.show;"
   ]
  },
  {
   "cell_type": "code",
   "execution_count": 54,
   "id": "c4b71721",
   "metadata": {},
   "outputs": [
    {
     "data": {
      "text/html": [
       "<div>\n",
       "<style scoped>\n",
       "    .dataframe tbody tr th:only-of-type {\n",
       "        vertical-align: middle;\n",
       "    }\n",
       "\n",
       "    .dataframe tbody tr th {\n",
       "        vertical-align: top;\n",
       "    }\n",
       "\n",
       "    .dataframe thead th {\n",
       "        text-align: right;\n",
       "    }\n",
       "</style>\n",
       "<table border=\"1\" class=\"dataframe\">\n",
       "  <thead>\n",
       "    <tr style=\"text-align: right;\">\n",
       "      <th></th>\n",
       "      <th>asin</th>\n",
       "      <th>cnt</th>\n",
       "      <th>year</th>\n",
       "      <th>month</th>\n",
       "    </tr>\n",
       "  </thead>\n",
       "  <tbody>\n",
       "    <tr>\n",
       "      <th>1499747</th>\n",
       "      <td>B01EJF0FKQ</td>\n",
       "      <td>1</td>\n",
       "      <td>2018</td>\n",
       "      <td>9</td>\n",
       "    </tr>\n",
       "    <tr>\n",
       "      <th>1499748</th>\n",
       "      <td>B01EJFIR92</td>\n",
       "      <td>1</td>\n",
       "      <td>2018</td>\n",
       "      <td>9</td>\n",
       "    </tr>\n",
       "    <tr>\n",
       "      <th>1499749</th>\n",
       "      <td>B01ELKP504</td>\n",
       "      <td>1</td>\n",
       "      <td>2018</td>\n",
       "      <td>9</td>\n",
       "    </tr>\n",
       "    <tr>\n",
       "      <th>1499750</th>\n",
       "      <td>B01ELB7IY4</td>\n",
       "      <td>1</td>\n",
       "      <td>2018</td>\n",
       "      <td>9</td>\n",
       "    </tr>\n",
       "    <tr>\n",
       "      <th>1499751</th>\n",
       "      <td>B01ELFB7J2</td>\n",
       "      <td>1</td>\n",
       "      <td>2018</td>\n",
       "      <td>9</td>\n",
       "    </tr>\n",
       "  </tbody>\n",
       "</table>\n",
       "</div>"
      ],
      "text/plain": [
       "               asin  cnt  year  month\n",
       "1499747  B01EJF0FKQ    1  2018      9\n",
       "1499748  B01EJFIR92    1  2018      9\n",
       "1499749  B01ELKP504    1  2018      9\n",
       "1499750  B01ELB7IY4    1  2018      9\n",
       "1499751  B01ELFB7J2    1  2018      9"
      ]
     },
     "execution_count": 54,
     "metadata": {},
     "output_type": "execute_result"
    }
   ],
   "source": [
    "# Assuming 2018 is incomplete, so checking\n",
    "\n",
    "ds_yrs = ds[['asin','cnt','year','month']]\n",
    "ds_yr_2018 = ds_yrs[ds_yrs['year'] == 2018 ]\n",
    "ds_yr_2018.tail()"
   ]
  },
  {
   "cell_type": "code",
   "execution_count": 55,
   "id": "7ba67d65",
   "metadata": {},
   "outputs": [
    {
     "data": {
      "text/plain": [
       "(1499752, 13)"
      ]
     },
     "execution_count": 55,
     "metadata": {},
     "output_type": "execute_result"
    }
   ],
   "source": [
    "# Indexing with loc\n",
    "\n",
    "nds = ds.copy()\n",
    "nds.shape"
   ]
  },
  {
   "cell_type": "code",
   "execution_count": 56,
   "id": "e8f36453",
   "metadata": {},
   "outputs": [
    {
     "data": {
      "text/html": [
       "<div>\n",
       "<style scoped>\n",
       "    .dataframe tbody tr th:only-of-type {\n",
       "        vertical-align: middle;\n",
       "    }\n",
       "\n",
       "    .dataframe tbody tr th {\n",
       "        vertical-align: top;\n",
       "    }\n",
       "\n",
       "    .dataframe thead th {\n",
       "        text-align: right;\n",
       "    }\n",
       "</style>\n",
       "<table border=\"1\" class=\"dataframe\">\n",
       "  <thead>\n",
       "    <tr style=\"text-align: right;\">\n",
       "      <th></th>\n",
       "      <th>score</th>\n",
       "      <th>reviewText</th>\n",
       "      <th>reviewerID</th>\n",
       "      <th>summary</th>\n",
       "      <th>timestamp</th>\n",
       "      <th>verified</th>\n",
       "      <th>date</th>\n",
       "      <th>year</th>\n",
       "      <th>month</th>\n",
       "      <th>day</th>\n",
       "      <th>day_of_week</th>\n",
       "      <th>cnt</th>\n",
       "    </tr>\n",
       "    <tr>\n",
       "      <th>asin</th>\n",
       "      <th></th>\n",
       "      <th></th>\n",
       "      <th></th>\n",
       "      <th></th>\n",
       "      <th></th>\n",
       "      <th></th>\n",
       "      <th></th>\n",
       "      <th></th>\n",
       "      <th></th>\n",
       "      <th></th>\n",
       "      <th></th>\n",
       "      <th></th>\n",
       "    </tr>\n",
       "  </thead>\n",
       "  <tbody>\n",
       "    <tr>\n",
       "      <th>0871202433</th>\n",
       "      <td>5</td>\n",
       "      <td>Robert Sylwester's much overlooked book, A Cel...</td>\n",
       "      <td>A2API7H1WS1C56</td>\n",
       "      <td>A  Celebration of Neurons, by Robert Sylwester,</td>\n",
       "      <td>1997-08-09</td>\n",
       "      <td>false</td>\n",
       "      <td>1997-08-09</td>\n",
       "      <td>1997</td>\n",
       "      <td>8</td>\n",
       "      <td>9</td>\n",
       "      <td>5</td>\n",
       "      <td>1</td>\n",
       "    </tr>\n",
       "    <tr>\n",
       "      <th>0061535680</th>\n",
       "      <td>1</td>\n",
       "      <td>Trivia.  Dialogue waste of time, paper and add...</td>\n",
       "      <td>AAW5NRUVURHU2</td>\n",
       "      <td>poor entry in derby of books written by lawyers</td>\n",
       "      <td>1997-08-13</td>\n",
       "      <td>false</td>\n",
       "      <td>1997-08-13</td>\n",
       "      <td>1997</td>\n",
       "      <td>8</td>\n",
       "      <td>13</td>\n",
       "      <td>2</td>\n",
       "      <td>1</td>\n",
       "    </tr>\n",
       "    <tr>\n",
       "      <th>0316332259</th>\n",
       "      <td>5</td>\n",
       "      <td>Twenty years after his sudden death and a resu...</td>\n",
       "      <td>A1IBMUD9XXD68X</td>\n",
       "      <td>An Icon of His Era And Of All Time</td>\n",
       "      <td>1997-08-17</td>\n",
       "      <td>false</td>\n",
       "      <td>1997-08-17</td>\n",
       "      <td>1997</td>\n",
       "      <td>8</td>\n",
       "      <td>17</td>\n",
       "      <td>6</td>\n",
       "      <td>1</td>\n",
       "    </tr>\n",
       "    <tr>\n",
       "      <th>0933149581</th>\n",
       "      <td>3</td>\n",
       "      <td>The author writes about the education of speci...</td>\n",
       "      <td>A1LOZWO9JTN5L8</td>\n",
       "      <td>Wings to Fly: Bringing Theatre Arts to Student...</td>\n",
       "      <td>1997-08-21</td>\n",
       "      <td>false</td>\n",
       "      <td>1997-08-21</td>\n",
       "      <td>1997</td>\n",
       "      <td>8</td>\n",
       "      <td>21</td>\n",
       "      <td>3</td>\n",
       "      <td>1</td>\n",
       "    </tr>\n",
       "    <tr>\n",
       "      <th>0356108163</th>\n",
       "      <td>4</td>\n",
       "      <td>A really nice collection of stories by Stephen...</td>\n",
       "      <td>A2ILUXA828DESI</td>\n",
       "      <td>No bones to pick about this book</td>\n",
       "      <td>1997-08-23</td>\n",
       "      <td>false</td>\n",
       "      <td>1997-08-23</td>\n",
       "      <td>1997</td>\n",
       "      <td>8</td>\n",
       "      <td>23</td>\n",
       "      <td>5</td>\n",
       "      <td>1</td>\n",
       "    </tr>\n",
       "  </tbody>\n",
       "</table>\n",
       "</div>"
      ],
      "text/plain": [
       "            score                                         reviewText  \\\n",
       "asin                                                                   \n",
       "0871202433      5  Robert Sylwester's much overlooked book, A Cel...   \n",
       "0061535680      1  Trivia.  Dialogue waste of time, paper and add...   \n",
       "0316332259      5  Twenty years after his sudden death and a resu...   \n",
       "0933149581      3  The author writes about the education of speci...   \n",
       "0356108163      4  A really nice collection of stories by Stephen...   \n",
       "\n",
       "                reviewerID                                            summary  \\\n",
       "asin                                                                            \n",
       "0871202433  A2API7H1WS1C56    A  Celebration of Neurons, by Robert Sylwester,   \n",
       "0061535680   AAW5NRUVURHU2    poor entry in derby of books written by lawyers   \n",
       "0316332259  A1IBMUD9XXD68X                 An Icon of His Era And Of All Time   \n",
       "0933149581  A1LOZWO9JTN5L8  Wings to Fly: Bringing Theatre Arts to Student...   \n",
       "0356108163  A2ILUXA828DESI                   No bones to pick about this book   \n",
       "\n",
       "            timestamp verified       date  year  month  day  day_of_week  cnt  \n",
       "asin                                                                           \n",
       "0871202433 1997-08-09    false 1997-08-09  1997      8    9            5    1  \n",
       "0061535680 1997-08-13    false 1997-08-13  1997      8   13            2    1  \n",
       "0316332259 1997-08-17    false 1997-08-17  1997      8   17            6    1  \n",
       "0933149581 1997-08-21    false 1997-08-21  1997      8   21            3    1  \n",
       "0356108163 1997-08-23    false 1997-08-23  1997      8   23            5    1  "
      ]
     },
     "execution_count": 56,
     "metadata": {},
     "output_type": "execute_result"
    }
   ],
   "source": [
    "nds.set_index('asin', inplace = True)\n",
    "nds.head()"
   ]
  },
  {
   "cell_type": "code",
   "execution_count": 57,
   "id": "7ab240d9",
   "metadata": {},
   "outputs": [
    {
     "data": {
      "text/plain": [
       "(1499752, 12)"
      ]
     },
     "execution_count": 57,
     "metadata": {},
     "output_type": "execute_result"
    }
   ],
   "source": [
    "nds.shape"
   ]
  },
  {
   "cell_type": "code",
   "execution_count": 58,
   "id": "870ad4dd",
   "metadata": {},
   "outputs": [],
   "source": [
    "scoring = ds[['score']]"
   ]
  },
  {
   "cell_type": "code",
   "execution_count": 59,
   "id": "1d906238",
   "metadata": {},
   "outputs": [
    {
     "data": {
      "text/plain": [
       "(1499752, 1)"
      ]
     },
     "execution_count": 59,
     "metadata": {},
     "output_type": "execute_result"
    }
   ],
   "source": [
    "scoring.shape"
   ]
  },
  {
   "cell_type": "code",
   "execution_count": 60,
   "id": "73c654fd",
   "metadata": {},
   "outputs": [
    {
     "data": {
      "text/plain": [
       "count    1.499752e+06\n",
       "mean     4.217880e+00\n",
       "std      1.248376e+00\n",
       "min      1.000000e+00\n",
       "25%      4.000000e+00\n",
       "50%      5.000000e+00\n",
       "75%      5.000000e+00\n",
       "max      5.000000e+00\n",
       "Name: score, dtype: float64"
      ]
     },
     "execution_count": 60,
     "metadata": {},
     "output_type": "execute_result"
    }
   ],
   "source": [
    "scoring['score'].describe()"
   ]
  },
  {
   "cell_type": "code",
   "execution_count": 61,
   "id": "cb7176a7",
   "metadata": {},
   "outputs": [
    {
     "data": {
      "image/png": "[encoded data removed]",
      "text/plain": [
       "<Figure size 432x288 with 1 Axes>"
      ]
     },
     "metadata": {
      "needs_background": "light"
     },
     "output_type": "display_data"
    }
   ],
   "source": [
    "# Create Univariate Histrogram \n",
    "\n",
    "import matplotlib as plt\n",
    "from matplotlib import pyplot\n",
    "\n",
    "#%matplotlib line\n",
    "plt.pyplot.hist(scoring, bins=5, color = 'green'); \n",
    "\n",
    "plt.pyplot.xlabel(\"Stars\");\n",
    "plt.pyplot.ylabel(\"Count\");\n",
    "plt.pyplot.title(\"63% of Star Reviews is 5/5\");"
   ]
  },
  {
   "cell_type": "code",
   "execution_count": 62,
   "id": "6555b1ac",
   "metadata": {},
   "outputs": [
    {
     "data": {
      "text/html": [
       "<div>\n",
       "<style scoped>\n",
       "    .dataframe tbody tr th:only-of-type {\n",
       "        vertical-align: middle;\n",
       "    }\n",
       "\n",
       "    .dataframe tbody tr th {\n",
       "        vertical-align: top;\n",
       "    }\n",
       "\n",
       "    .dataframe thead th {\n",
       "        text-align: right;\n",
       "    }\n",
       "</style>\n",
       "<table border=\"1\" class=\"dataframe\">\n",
       "  <thead>\n",
       "    <tr style=\"text-align: right;\">\n",
       "      <th></th>\n",
       "      <th>asin</th>\n",
       "      <th>cnt</th>\n",
       "    </tr>\n",
       "  </thead>\n",
       "  <tbody>\n",
       "    <tr>\n",
       "      <th>0</th>\n",
       "      <td>0000000116</td>\n",
       "      <td>2</td>\n",
       "    </tr>\n",
       "    <tr>\n",
       "      <th>1</th>\n",
       "      <td>0000000868</td>\n",
       "      <td>1</td>\n",
       "    </tr>\n",
       "    <tr>\n",
       "      <th>2</th>\n",
       "      <td>0000004545</td>\n",
       "      <td>2</td>\n",
       "    </tr>\n",
       "    <tr>\n",
       "      <th>3</th>\n",
       "      <td>0000013765</td>\n",
       "      <td>10</td>\n",
       "    </tr>\n",
       "    <tr>\n",
       "      <th>4</th>\n",
       "      <td>0000038504</td>\n",
       "      <td>2</td>\n",
       "    </tr>\n",
       "  </tbody>\n",
       "</table>\n",
       "</div>"
      ],
      "text/plain": [
       "         asin  cnt\n",
       "0  0000000116    2\n",
       "1  0000000868    1\n",
       "2  0000004545    2\n",
       "3  0000013765   10\n",
       "4  0000038504    2"
      ]
     },
     "execution_count": 62,
     "metadata": {},
     "output_type": "execute_result"
    }
   ],
   "source": [
    "asin_hist_ds = ds[['asin','cnt']]\n",
    "grp_asin_hist_ds = asin_hist_ds.groupby(['asin'])['cnt'].agg('sum').reset_index()\n",
    "grp_asin_hist_ds.head()"
   ]
  },
  {
   "cell_type": "code",
   "execution_count": 63,
   "id": "0de8a950",
   "metadata": {},
   "outputs": [
    {
     "data": {
      "text/plain": [
       "count    129876.000000\n",
       "mean         11.547568\n",
       "std          71.825654\n",
       "min           1.000000\n",
       "25%           1.000000\n",
       "50%           2.000000\n",
       "75%           9.000000\n",
       "max        6114.000000\n",
       "Name: cnt, dtype: float64"
      ]
     },
     "execution_count": 63,
     "metadata": {},
     "output_type": "execute_result"
    }
   ],
   "source": [
    "grp_asin_hist_ds['cnt'].describe()"
   ]
  },
  {
   "cell_type": "code",
   "execution_count": 65,
   "id": "53f1345f",
   "metadata": {},
   "outputs": [
    {
     "data": {
      "text/plain": [
       "Index(['asin', 'score', 'reviewText', 'reviewerID', 'summary', 'timestamp',\n",
       "       'verified', 'date', 'year', 'month', 'day', 'day_of_week', 'cnt'],\n",
       "      dtype='object')"
      ]
     },
     "execution_count": 65,
     "metadata": {},
     "output_type": "execute_result"
    }
   ],
   "source": [
    "ds.columns"
   ]
  },
  {
   "cell_type": "code",
   "execution_count": 66,
   "id": "aa0a8a43",
   "metadata": {},
   "outputs": [
    {
     "data": {
      "text/html": [
       "<div>\n",
       "<style scoped>\n",
       "    .dataframe tbody tr th:only-of-type {\n",
       "        vertical-align: middle;\n",
       "    }\n",
       "\n",
       "    .dataframe tbody tr th {\n",
       "        vertical-align: top;\n",
       "    }\n",
       "\n",
       "    .dataframe thead th {\n",
       "        text-align: right;\n",
       "    }\n",
       "</style>\n",
       "<table border=\"1\" class=\"dataframe\">\n",
       "  <thead>\n",
       "    <tr style=\"text-align: right;\">\n",
       "      <th></th>\n",
       "      <th>date</th>\n",
       "      <th>asin</th>\n",
       "      <th>summary</th>\n",
       "      <th>reviewText</th>\n",
       "      <th>score</th>\n",
       "    </tr>\n",
       "  </thead>\n",
       "  <tbody>\n",
       "    <tr>\n",
       "      <th>0</th>\n",
       "      <td>1997-08-09</td>\n",
       "      <td>0871202433</td>\n",
       "      <td>A  Celebration of Neurons, by Robert Sylwester,</td>\n",
       "      <td>Robert Sylwester's much overlooked book, A Cel...</td>\n",
       "      <td>5</td>\n",
       "    </tr>\n",
       "    <tr>\n",
       "      <th>1</th>\n",
       "      <td>1997-08-13</td>\n",
       "      <td>0061535680</td>\n",
       "      <td>poor entry in derby of books written by lawyers</td>\n",
       "      <td>Trivia.  Dialogue waste of time, paper and add...</td>\n",
       "      <td>1</td>\n",
       "    </tr>\n",
       "    <tr>\n",
       "      <th>2</th>\n",
       "      <td>1997-08-17</td>\n",
       "      <td>0316332259</td>\n",
       "      <td>An Icon of His Era And Of All Time</td>\n",
       "      <td>Twenty years after his sudden death and a resu...</td>\n",
       "      <td>5</td>\n",
       "    </tr>\n",
       "    <tr>\n",
       "      <th>3</th>\n",
       "      <td>1997-08-21</td>\n",
       "      <td>0933149581</td>\n",
       "      <td>Wings to Fly: Bringing Theatre Arts to Student...</td>\n",
       "      <td>The author writes about the education of speci...</td>\n",
       "      <td>3</td>\n",
       "    </tr>\n",
       "    <tr>\n",
       "      <th>4</th>\n",
       "      <td>1997-08-23</td>\n",
       "      <td>0356108163</td>\n",
       "      <td>No bones to pick about this book</td>\n",
       "      <td>A really nice collection of stories by Stephen...</td>\n",
       "      <td>4</td>\n",
       "    </tr>\n",
       "  </tbody>\n",
       "</table>\n",
       "</div>"
      ],
      "text/plain": [
       "        date        asin                                            summary  \\\n",
       "0 1997-08-09  0871202433    A  Celebration of Neurons, by Robert Sylwester,   \n",
       "1 1997-08-13  0061535680    poor entry in derby of books written by lawyers   \n",
       "2 1997-08-17  0316332259                 An Icon of His Era And Of All Time   \n",
       "3 1997-08-21  0933149581  Wings to Fly: Bringing Theatre Arts to Student...   \n",
       "4 1997-08-23  0356108163                   No bones to pick about this book   \n",
       "\n",
       "                                          reviewText  score  \n",
       "0  Robert Sylwester's much overlooked book, A Cel...      5  \n",
       "1  Trivia.  Dialogue waste of time, paper and add...      1  \n",
       "2  Twenty years after his sudden death and a resu...      5  \n",
       "3  The author writes about the education of speci...      3  \n",
       "4  A really nice collection of stories by Stephen...      4  "
      ]
     },
     "execution_count": 66,
     "metadata": {},
     "output_type": "execute_result"
    }
   ],
   "source": [
    "# Acronym of Machine Learning Data Set for the compact tabular format of key data then:\n",
    "\n",
    "mlds = ds[['date','asin','summary','reviewText','score']]\n",
    "mlds.head()"
   ]
  },
  {
   "cell_type": "code",
   "execution_count": 68,
   "id": "63dd806f",
   "metadata": {},
   "outputs": [],
   "source": [
    "# Loading clean sample data set for machine learning next step with target variable score\n",
    "\n",
    "mlds.to_parquet('sample_ds_for_ml_7292023pm.parquet')"
   ]
  },
  {
   "cell_type": "markdown",
   "id": "9dc4e183",
   "metadata": {},
   "source": [
    "***"
   ]
  },
  {
   "cell_type": "markdown",
   "id": "cf8f6610",
   "metadata": {},
   "source": [
    "## Disclaimer:\n",
    "\n",
    "1. *Insights are for the current data set scope which is not the entire data set. This process needs to be iterative or the data set comprehensive for insights to be final. If the sample is representative of the larger data set, then we can use them \"as is\".*\n",
    "2. *We will be able to include correlations once metadata is joined with the asins of the data set* \n",
    "3. *Data set includes 1'499,752 records which is 1% from the 80% of the entire data set.*"
   ]
  },
  {
   "cell_type": "markdown",
   "id": "0b0ffa14",
   "metadata": {},
   "source": [
    "***"
   ]
  },
  {
   "cell_type": "markdown",
   "id": "ed6fb6df",
   "metadata": {},
   "source": [
    "# Insights"
   ]
  },
  {
   "cell_type": "markdown",
   "id": "5afa8385",
   "metadata": {},
   "source": [
    "***"
   ]
  },
  {
   "cell_type": "markdown",
   "id": "36d8988f",
   "metadata": {},
   "source": [
    "- From the 1'499,752 reviews, only 325 asin have more or equal than 500 reviews.\n",
    "- There is an overall trend towards more reviews over time which is a good thing as more data can be leveraged on, however, the trend reaches it's peak at year 2016 and then goes back in 2017 to a similar data point as the year prior to the peak (back to 2015 numbers). Then 2018 while incomplete, still seems to now might be less than 2015 yet data might be incomplete so needs to be confirmed once the 2018 data is complete. \n",
    "- Score/Review of 1 star only accounts for 117,964 of the 1'499,752 reviews which is 7.87%.\n",
    "- Score/Review of 4 stars accounts for 249,879 of the 1'499,752 reviews which is 16.66%.\n",
    "- Score/Review of 5 stars accounts for 942,098 of the 1'499,752 reviews which is 62.82%.\n"
   ]
  },
  {
   "cell_type": "markdown",
   "id": "17c1dcae",
   "metadata": {},
   "source": [
    "***"
   ]
  },
  {
   "cell_type": "markdown",
   "id": "4b4b82b0",
   "metadata": {},
   "source": [
    "# Key Insights"
   ]
  },
  {
   "cell_type": "markdown",
   "id": "f763221f",
   "metadata": {},
   "source": [
    "***"
   ]
  },
  {
   "cell_type": "markdown",
   "id": "827d6d43",
   "metadata": {},
   "source": [
    "##### Ratio of review scoring remains stagnated over time. So neither improvement nor decline over product's reviews. Thus, leveraging on the positive feedback provided takes us to the next point which is the prescriptive analytics phase ...\n",
    "\n",
    "### It is an overwhelming mayority of positive reviews *(79.48% with either 5 or 4 stars and mean of 4.21 stars)* which allows to better extract what is that consumers like and/or enjoy the most which allows to suggest new products and/or predict customer satisfaction per market needs."
   ]
  },
  {
   "cell_type": "markdown",
   "id": "b0ebadf0",
   "metadata": {},
   "source": [
    "."
   ]
  }
 ],
 "metadata": {
  "kernelspec": {
   "display_name": "Python 3 (ipykernel)",
   "language": "python",
   "name": "python3"
  },
  "language_info": {
   "codemirror_mode": {
    "name": "ipython",
    "version": 3
   },
   "file_extension": ".py",
   "mimetype": "text/x-python",
   "name": "python",
   "nbconvert_exporter": "python",
   "pygments_lexer": "ipython3",
   "version": "3.9.7"
  }
 },
 "nbformat": 4,
 "nbformat_minor": 5
}
