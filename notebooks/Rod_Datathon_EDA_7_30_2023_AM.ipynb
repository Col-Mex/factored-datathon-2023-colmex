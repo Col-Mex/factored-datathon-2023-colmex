{
 "cells": [
  {
   "cell_type": "markdown",
   "id": "e64f2bee",
   "metadata": {},
   "source": [
    "*7.30.2023 AM*"
   ]
  },
  {
   "cell_type": "markdown",
   "id": "3f2d01aa",
   "metadata": {},
   "source": [
    "<div class=\"alert alert-block alert-success\">\n",
    "<center><h1><b> Datathon Software Industry Initial Category Exploratory Data Analysis / Data Understanding </b></h1></center>\n",
    "<center><h2><b> Part I </b></h2></center>\n",
    "\n",
    "<br/> \n",
    "\n",
    "\n",
    "Objectives:\n",
    "\n",
    "    *   Understand the data with a) Descriptive/Summary Statistics and b) Data Visualization (graphs/charts/tables)\n",
    "    *   Determine if data makes sense\n",
    "    *   Identify data patterns/trends/gain insights    \n",
    "    *   Identify key Vars\n",
    "    *   Determine if data wrangling/cleaning/scrub is needed (identify imperfections/probls in the data)\n",
    "    \n",
    "\n",
    "</div>"
   ]
  },
  {
   "cell_type": "markdown",
   "id": "e2e1617f",
   "metadata": {},
   "source": [
    "***"
   ]
  },
  {
   "cell_type": "markdown",
   "id": "0ad3e4da",
   "metadata": {},
   "source": [
    "# Data Collection"
   ]
  },
  {
   "cell_type": "markdown",
   "id": "b6e26108",
   "metadata": {},
   "source": [
    "## Imports and dataset extraction\n",
    "\n",
    "> Getting started"
   ]
  },
  {
   "cell_type": "code",
   "execution_count": 1,
   "id": "6ca007e6",
   "metadata": {},
   "outputs": [],
   "source": [
    "#pip install pandas pyarrow"
   ]
  },
  {
   "cell_type": "code",
   "execution_count": 1,
   "id": "9a4cad3a",
   "metadata": {},
   "outputs": [],
   "source": [
    "import numpy as np\n",
    "import pandas as pd\n",
    "import matplotlib.pyplot as plt\n",
    "import seaborn as sns\n",
    "import pyarrow\n"
   ]
  },
  {
   "cell_type": "code",
   "execution_count": 3,
   "id": "1f56b5ac",
   "metadata": {},
   "outputs": [],
   "source": [
    "# Rod's standard variable for a DataFrame is ds as acronym for data set \n",
    "\n",
    "\n",
    "datathon_sw_industry_reviews_pkt_file = \"/Users/dslab/Downloads/data_industry.parquet\"\n",
    "ds = pd.read_parquet(datathon_sw_industry_reviews_pkt_file, engine='pyarrow')\n"
   ]
  },
  {
   "cell_type": "markdown",
   "id": "8898c454",
   "metadata": {},
   "source": [
    "# Business/Data Understanding"
   ]
  },
  {
   "cell_type": "markdown",
   "id": "84f92bb9",
   "metadata": {},
   "source": [
    "## Read dataset\n",
    "\n",
    "> Basic data/business understanding"
   ]
  },
  {
   "cell_type": "code",
   "execution_count": 4,
   "id": "3a0b71aa",
   "metadata": {},
   "outputs": [
    {
     "data": {
      "text/plain": [
       "(292055, 11)"
      ]
     },
     "execution_count": 4,
     "metadata": {},
     "output_type": "execute_result"
    }
   ],
   "source": [
    "ds.shape"
   ]
  },
  {
   "cell_type": "code",
   "execution_count": 7,
   "id": "4f96fb3b",
   "metadata": {},
   "outputs": [
    {
     "data": {
      "text/html": [
       "<div>\n",
       "<style scoped>\n",
       "    .dataframe tbody tr th:only-of-type {\n",
       "        vertical-align: middle;\n",
       "    }\n",
       "\n",
       "    .dataframe tbody tr th {\n",
       "        vertical-align: top;\n",
       "    }\n",
       "\n",
       "    .dataframe thead th {\n",
       "        text-align: right;\n",
       "    }\n",
       "</style>\n",
       "<table border=\"1\" class=\"dataframe\">\n",
       "  <thead>\n",
       "    <tr style=\"text-align: right;\">\n",
       "      <th></th>\n",
       "      <th>asin</th>\n",
       "      <th>overall</th>\n",
       "      <th>reviewText</th>\n",
       "      <th>reviewerID</th>\n",
       "      <th>reviewerName</th>\n",
       "      <th>style</th>\n",
       "      <th>summary</th>\n",
       "      <th>unixReviewTime</th>\n",
       "      <th>verified</th>\n",
       "      <th>image</th>\n",
       "      <th>vote</th>\n",
       "    </tr>\n",
       "  </thead>\n",
       "  <tbody>\n",
       "    <tr>\n",
       "      <th>0</th>\n",
       "      <td>B002IYJQ9C</td>\n",
       "      <td>1.0</td>\n",
       "      <td>This software is a disgrace.  It was published...</td>\n",
       "      <td>A2BJJGFS2NJ3H3</td>\n",
       "      <td>Jack Merritt</td>\n",
       "      <td>None</td>\n",
       "      <td>Pass this by</td>\n",
       "      <td>1280966400</td>\n",
       "      <td>true</td>\n",
       "      <td>None</td>\n",
       "      <td>4</td>\n",
       "    </tr>\n",
       "    <tr>\n",
       "      <th>1</th>\n",
       "      <td>B004X0DDOI</td>\n",
       "      <td>5.0</td>\n",
       "      <td>I have used the Riddle Me Program for several ...</td>\n",
       "      <td>A3Q4PK0YRKAEZ8</td>\n",
       "      <td>S.C. Nana</td>\n",
       "      <td>{\"Platform:\":\" PC Download\"}</td>\n",
       "      <td>Riddle Me Scavenger and Treasure Hunt Program ...</td>\n",
       "      <td>1303344000</td>\n",
       "      <td>false</td>\n",
       "      <td>None</td>\n",
       "      <td>None</td>\n",
       "    </tr>\n",
       "  </tbody>\n",
       "</table>\n",
       "</div>"
      ],
      "text/plain": [
       "         asin overall                                         reviewText  \\\n",
       "0  B002IYJQ9C     1.0  This software is a disgrace.  It was published...   \n",
       "1  B004X0DDOI     5.0  I have used the Riddle Me Program for several ...   \n",
       "\n",
       "       reviewerID  reviewerName                         style  \\\n",
       "0  A2BJJGFS2NJ3H3  Jack Merritt                          None   \n",
       "1  A3Q4PK0YRKAEZ8     S.C. Nana  {\"Platform:\":\" PC Download\"}   \n",
       "\n",
       "                                             summary unixReviewTime verified  \\\n",
       "0                                       Pass this by     1280966400     true   \n",
       "1  Riddle Me Scavenger and Treasure Hunt Program ...     1303344000    false   \n",
       "\n",
       "  image  vote  \n",
       "0  None     4  \n",
       "1  None  None  "
      ]
     },
     "execution_count": 7,
     "metadata": {},
     "output_type": "execute_result"
    }
   ],
   "source": [
    "ds.reset_index(inplace = True, drop = True)\n",
    "ds.head(2)"
   ]
  },
  {
   "cell_type": "code",
   "execution_count": 8,
   "id": "69b7ccda",
   "metadata": {},
   "outputs": [
    {
     "data": {
      "text/html": [
       "<div>\n",
       "<style scoped>\n",
       "    .dataframe tbody tr th:only-of-type {\n",
       "        vertical-align: middle;\n",
       "    }\n",
       "\n",
       "    .dataframe tbody tr th {\n",
       "        vertical-align: top;\n",
       "    }\n",
       "\n",
       "    .dataframe thead th {\n",
       "        text-align: right;\n",
       "    }\n",
       "</style>\n",
       "<table border=\"1\" class=\"dataframe\">\n",
       "  <thead>\n",
       "    <tr style=\"text-align: right;\">\n",
       "      <th></th>\n",
       "      <th>asin</th>\n",
       "      <th>overall</th>\n",
       "      <th>reviewText</th>\n",
       "      <th>reviewerID</th>\n",
       "      <th>reviewerName</th>\n",
       "      <th>style</th>\n",
       "      <th>summary</th>\n",
       "      <th>unixReviewTime</th>\n",
       "      <th>verified</th>\n",
       "      <th>image</th>\n",
       "      <th>vote</th>\n",
       "    </tr>\n",
       "  </thead>\n",
       "  <tbody>\n",
       "    <tr>\n",
       "      <th>292053</th>\n",
       "      <td>B00004T72W</td>\n",
       "      <td>4.0</td>\n",
       "      <td>My daughter rushed to complete all of the task...</td>\n",
       "      <td>A39KJ5WY3YRV8N</td>\n",
       "      <td>J. Mowat</td>\n",
       "      <td>None</td>\n",
       "      <td>An enjoyable game (the first time)</td>\n",
       "      <td>977097600</td>\n",
       "      <td>false</td>\n",
       "      <td>None</td>\n",
       "      <td>10</td>\n",
       "    </tr>\n",
       "    <tr>\n",
       "      <th>292054</th>\n",
       "      <td>B002WDFB48</td>\n",
       "      <td>5.0</td>\n",
       "      <td>Yes</td>\n",
       "      <td>A37CPI43XNNKP5</td>\n",
       "      <td>Amazon Customer</td>\n",
       "      <td>None</td>\n",
       "      <td>Five Stars</td>\n",
       "      <td>1470960000</td>\n",
       "      <td>true</td>\n",
       "      <td>None</td>\n",
       "      <td>None</td>\n",
       "    </tr>\n",
       "  </tbody>\n",
       "</table>\n",
       "</div>"
      ],
      "text/plain": [
       "              asin overall                                         reviewText  \\\n",
       "292053  B00004T72W     4.0  My daughter rushed to complete all of the task...   \n",
       "292054  B002WDFB48     5.0                                               Yes    \n",
       "\n",
       "            reviewerID     reviewerName style  \\\n",
       "292053  A39KJ5WY3YRV8N         J. Mowat  None   \n",
       "292054  A37CPI43XNNKP5  Amazon Customer  None   \n",
       "\n",
       "                                   summary unixReviewTime verified image  vote  \n",
       "292053  An enjoyable game (the first time)      977097600    false  None    10  \n",
       "292054                          Five Stars     1470960000     true  None  None  "
      ]
     },
     "execution_count": 8,
     "metadata": {},
     "output_type": "execute_result"
    }
   ],
   "source": [
    "ds.tail(2)"
   ]
  },
  {
   "cell_type": "code",
   "execution_count": 9,
   "id": "30ce915b",
   "metadata": {},
   "outputs": [
    {
     "data": {
      "text/html": [
       "<div>\n",
       "<style scoped>\n",
       "    .dataframe tbody tr th:only-of-type {\n",
       "        vertical-align: middle;\n",
       "    }\n",
       "\n",
       "    .dataframe tbody tr th {\n",
       "        vertical-align: top;\n",
       "    }\n",
       "\n",
       "    .dataframe thead th {\n",
       "        text-align: right;\n",
       "    }\n",
       "</style>\n",
       "<table border=\"1\" class=\"dataframe\">\n",
       "  <thead>\n",
       "    <tr style=\"text-align: right;\">\n",
       "      <th></th>\n",
       "      <th>asin</th>\n",
       "      <th>overall</th>\n",
       "      <th>reviewText</th>\n",
       "      <th>reviewerID</th>\n",
       "      <th>reviewerName</th>\n",
       "      <th>style</th>\n",
       "      <th>summary</th>\n",
       "      <th>unixReviewTime</th>\n",
       "      <th>verified</th>\n",
       "      <th>image</th>\n",
       "      <th>vote</th>\n",
       "    </tr>\n",
       "  </thead>\n",
       "  <tbody>\n",
       "    <tr>\n",
       "      <th>0</th>\n",
       "      <td>B002IYJQ9C</td>\n",
       "      <td>1.0</td>\n",
       "      <td>This software is a disgrace.  It was published...</td>\n",
       "      <td>A2BJJGFS2NJ3H3</td>\n",
       "      <td>Jack Merritt</td>\n",
       "      <td>None</td>\n",
       "      <td>Pass this by</td>\n",
       "      <td>1280966400</td>\n",
       "      <td>true</td>\n",
       "      <td>None</td>\n",
       "      <td>4</td>\n",
       "    </tr>\n",
       "    <tr>\n",
       "      <th>1</th>\n",
       "      <td>B004X0DDOI</td>\n",
       "      <td>5.0</td>\n",
       "      <td>I have used the Riddle Me Program for several ...</td>\n",
       "      <td>A3Q4PK0YRKAEZ8</td>\n",
       "      <td>S.C. Nana</td>\n",
       "      <td>{\"Platform:\":\" PC Download\"}</td>\n",
       "      <td>Riddle Me Scavenger and Treasure Hunt Program ...</td>\n",
       "      <td>1303344000</td>\n",
       "      <td>false</td>\n",
       "      <td>None</td>\n",
       "      <td>None</td>\n",
       "    </tr>\n",
       "    <tr>\n",
       "      <th>2</th>\n",
       "      <td>B004X0DDOI</td>\n",
       "      <td>5.0</td>\n",
       "      <td>I have owned Riddle Me now for over 3 years.  ...</td>\n",
       "      <td>AQR3RJGLT0THI</td>\n",
       "      <td>dougc</td>\n",
       "      <td>{\"Platform:\":\" PC Download\"}</td>\n",
       "      <td>I've used Riddle Me for all kinds of fun situa...</td>\n",
       "      <td>1303344000</td>\n",
       "      <td>false</td>\n",
       "      <td>None</td>\n",
       "      <td>None</td>\n",
       "    </tr>\n",
       "    <tr>\n",
       "      <th>3</th>\n",
       "      <td>B004X0DDOI</td>\n",
       "      <td>5.0</td>\n",
       "      <td>This is an AWESOME program. Very user friendly...</td>\n",
       "      <td>AD9RALHURQS3Z</td>\n",
       "      <td>phess</td>\n",
       "      <td>{\"Platform:\":\" PC Download\"}</td>\n",
       "      <td>AWESOME program!!</td>\n",
       "      <td>1303344000</td>\n",
       "      <td>false</td>\n",
       "      <td>None</td>\n",
       "      <td>None</td>\n",
       "    </tr>\n",
       "    <tr>\n",
       "      <th>4</th>\n",
       "      <td>B004X0DDOI</td>\n",
       "      <td>5.0</td>\n",
       "      <td>This is an incredible program with some cool f...</td>\n",
       "      <td>A3P74B68BZQ6SQ</td>\n",
       "      <td>JAnderson</td>\n",
       "      <td>{\"Platform:\":\" PC Download\"}</td>\n",
       "      <td>I love this program!</td>\n",
       "      <td>1303344000</td>\n",
       "      <td>false</td>\n",
       "      <td>None</td>\n",
       "      <td>None</td>\n",
       "    </tr>\n",
       "    <tr>\n",
       "      <th>...</th>\n",
       "      <td>...</td>\n",
       "      <td>...</td>\n",
       "      <td>...</td>\n",
       "      <td>...</td>\n",
       "      <td>...</td>\n",
       "      <td>...</td>\n",
       "      <td>...</td>\n",
       "      <td>...</td>\n",
       "      <td>...</td>\n",
       "      <td>...</td>\n",
       "      <td>...</td>\n",
       "    </tr>\n",
       "    <tr>\n",
       "      <th>292050</th>\n",
       "      <td>B0006BDIZM</td>\n",
       "      <td>2.0</td>\n",
       "      <td>The software that utilizes the headset/microph...</td>\n",
       "      <td>A326YE0MOJ2HGI</td>\n",
       "      <td>Johnny Bulky</td>\n",
       "      <td>None</td>\n",
       "      <td>Dragoon NaturallySpeaking Version 8 (Mobile)</td>\n",
       "      <td>1105920000</td>\n",
       "      <td>false</td>\n",
       "      <td>None</td>\n",
       "      <td>88</td>\n",
       "    </tr>\n",
       "    <tr>\n",
       "      <th>292051</th>\n",
       "      <td>B0006BDIZM</td>\n",
       "      <td>5.0</td>\n",
       "      <td>What amazing technology!  I tried this stuff a...</td>\n",
       "      <td>A1FISCYV1709QG</td>\n",
       "      <td>Pat R.</td>\n",
       "      <td>None</td>\n",
       "      <td>It's Magic</td>\n",
       "      <td>1102636800</td>\n",
       "      <td>false</td>\n",
       "      <td>None</td>\n",
       "      <td>19</td>\n",
       "    </tr>\n",
       "    <tr>\n",
       "      <th>292052</th>\n",
       "      <td>B0006BDIZM</td>\n",
       "      <td>5.0</td>\n",
       "      <td>I am an avid Dragon user (had versions 6 and 7...</td>\n",
       "      <td>AZSFCPNGI3UE</td>\n",
       "      <td>Lenny P</td>\n",
       "      <td>None</td>\n",
       "      <td>Dragon NaturallySpeaking Mobile</td>\n",
       "      <td>1102636800</td>\n",
       "      <td>false</td>\n",
       "      <td>None</td>\n",
       "      <td>19</td>\n",
       "    </tr>\n",
       "    <tr>\n",
       "      <th>292053</th>\n",
       "      <td>B00004T72W</td>\n",
       "      <td>4.0</td>\n",
       "      <td>My daughter rushed to complete all of the task...</td>\n",
       "      <td>A39KJ5WY3YRV8N</td>\n",
       "      <td>J. Mowat</td>\n",
       "      <td>None</td>\n",
       "      <td>An enjoyable game (the first time)</td>\n",
       "      <td>977097600</td>\n",
       "      <td>false</td>\n",
       "      <td>None</td>\n",
       "      <td>10</td>\n",
       "    </tr>\n",
       "    <tr>\n",
       "      <th>292054</th>\n",
       "      <td>B002WDFB48</td>\n",
       "      <td>5.0</td>\n",
       "      <td>Yes</td>\n",
       "      <td>A37CPI43XNNKP5</td>\n",
       "      <td>Amazon Customer</td>\n",
       "      <td>None</td>\n",
       "      <td>Five Stars</td>\n",
       "      <td>1470960000</td>\n",
       "      <td>true</td>\n",
       "      <td>None</td>\n",
       "      <td>None</td>\n",
       "    </tr>\n",
       "  </tbody>\n",
       "</table>\n",
       "<p>292055 rows × 11 columns</p>\n",
       "</div>"
      ],
      "text/plain": [
       "              asin overall                                         reviewText  \\\n",
       "0       B002IYJQ9C     1.0  This software is a disgrace.  It was published...   \n",
       "1       B004X0DDOI     5.0  I have used the Riddle Me Program for several ...   \n",
       "2       B004X0DDOI     5.0  I have owned Riddle Me now for over 3 years.  ...   \n",
       "3       B004X0DDOI     5.0  This is an AWESOME program. Very user friendly...   \n",
       "4       B004X0DDOI     5.0  This is an incredible program with some cool f...   \n",
       "...            ...     ...                                                ...   \n",
       "292050  B0006BDIZM     2.0  The software that utilizes the headset/microph...   \n",
       "292051  B0006BDIZM     5.0  What amazing technology!  I tried this stuff a...   \n",
       "292052  B0006BDIZM     5.0  I am an avid Dragon user (had versions 6 and 7...   \n",
       "292053  B00004T72W     4.0  My daughter rushed to complete all of the task...   \n",
       "292054  B002WDFB48     5.0                                               Yes    \n",
       "\n",
       "            reviewerID     reviewerName                         style  \\\n",
       "0       A2BJJGFS2NJ3H3     Jack Merritt                          None   \n",
       "1       A3Q4PK0YRKAEZ8        S.C. Nana  {\"Platform:\":\" PC Download\"}   \n",
       "2        AQR3RJGLT0THI            dougc  {\"Platform:\":\" PC Download\"}   \n",
       "3        AD9RALHURQS3Z            phess  {\"Platform:\":\" PC Download\"}   \n",
       "4       A3P74B68BZQ6SQ        JAnderson  {\"Platform:\":\" PC Download\"}   \n",
       "...                ...              ...                           ...   \n",
       "292050  A326YE0MOJ2HGI     Johnny Bulky                          None   \n",
       "292051  A1FISCYV1709QG           Pat R.                          None   \n",
       "292052    AZSFCPNGI3UE          Lenny P                          None   \n",
       "292053  A39KJ5WY3YRV8N         J. Mowat                          None   \n",
       "292054  A37CPI43XNNKP5  Amazon Customer                          None   \n",
       "\n",
       "                                                  summary unixReviewTime  \\\n",
       "0                                            Pass this by     1280966400   \n",
       "1       Riddle Me Scavenger and Treasure Hunt Program ...     1303344000   \n",
       "2       I've used Riddle Me for all kinds of fun situa...     1303344000   \n",
       "3                                       AWESOME program!!     1303344000   \n",
       "4                                    I love this program!     1303344000   \n",
       "...                                                   ...            ...   \n",
       "292050       Dragoon NaturallySpeaking Version 8 (Mobile)     1105920000   \n",
       "292051                                         It's Magic     1102636800   \n",
       "292052                    Dragon NaturallySpeaking Mobile     1102636800   \n",
       "292053                 An enjoyable game (the first time)      977097600   \n",
       "292054                                         Five Stars     1470960000   \n",
       "\n",
       "       verified image  vote  \n",
       "0          true  None     4  \n",
       "1         false  None  None  \n",
       "2         false  None  None  \n",
       "3         false  None  None  \n",
       "4         false  None  None  \n",
       "...         ...   ...   ...  \n",
       "292050    false  None    88  \n",
       "292051    false  None    19  \n",
       "292052    false  None    19  \n",
       "292053    false  None    10  \n",
       "292054     true  None  None  \n",
       "\n",
       "[292055 rows x 11 columns]"
      ]
     },
     "execution_count": 9,
     "metadata": {},
     "output_type": "execute_result"
    }
   ],
   "source": [
    "ds"
   ]
  },
  {
   "cell_type": "code",
   "execution_count": 10,
   "id": "66363781",
   "metadata": {},
   "outputs": [
    {
     "data": {
      "text/plain": [
       "Index(['asin', 'overall', 'reviewText', 'reviewerID', 'reviewerName', 'style',\n",
       "       'summary', 'unixReviewTime', 'verified', 'image', 'vote'],\n",
       "      dtype='object')"
      ]
     },
     "execution_count": 10,
     "metadata": {},
     "output_type": "execute_result"
    }
   ],
   "source": [
    "ds.columns"
   ]
  },
  {
   "cell_type": "code",
   "execution_count": 11,
   "id": "fc42ee82",
   "metadata": {},
   "outputs": [
    {
     "data": {
      "text/plain": [
       "asin              object\n",
       "overall           object\n",
       "reviewText        object\n",
       "reviewerID        object\n",
       "reviewerName      object\n",
       "style             object\n",
       "summary           object\n",
       "unixReviewTime    object\n",
       "verified          object\n",
       "image             object\n",
       "vote              object\n",
       "dtype: object"
      ]
     },
     "execution_count": 11,
     "metadata": {},
     "output_type": "execute_result"
    }
   ],
   "source": [
    "ds.dtypes"
   ]
  },
  {
   "cell_type": "code",
   "execution_count": 12,
   "id": "460493ef",
   "metadata": {},
   "outputs": [
    {
     "data": {
      "text/html": [
       "<div>\n",
       "<style scoped>\n",
       "    .dataframe tbody tr th:only-of-type {\n",
       "        vertical-align: middle;\n",
       "    }\n",
       "\n",
       "    .dataframe tbody tr th {\n",
       "        vertical-align: top;\n",
       "    }\n",
       "\n",
       "    .dataframe thead th {\n",
       "        text-align: right;\n",
       "    }\n",
       "</style>\n",
       "<table border=\"1\" class=\"dataframe\">\n",
       "  <thead>\n",
       "    <tr style=\"text-align: right;\">\n",
       "      <th></th>\n",
       "      <th>asin</th>\n",
       "      <th>overall</th>\n",
       "      <th>reviewText</th>\n",
       "      <th>reviewerID</th>\n",
       "      <th>reviewerName</th>\n",
       "      <th>style</th>\n",
       "      <th>summary</th>\n",
       "      <th>unixReviewTime</th>\n",
       "      <th>verified</th>\n",
       "      <th>image</th>\n",
       "      <th>vote</th>\n",
       "    </tr>\n",
       "  </thead>\n",
       "  <tbody>\n",
       "    <tr>\n",
       "      <th>count</th>\n",
       "      <td>292055</td>\n",
       "      <td>292055</td>\n",
       "      <td>292030</td>\n",
       "      <td>292055</td>\n",
       "      <td>292036</td>\n",
       "      <td>137680</td>\n",
       "      <td>292031</td>\n",
       "      <td>292055</td>\n",
       "      <td>292055</td>\n",
       "      <td>752</td>\n",
       "      <td>92546</td>\n",
       "    </tr>\n",
       "    <tr>\n",
       "      <th>unique</th>\n",
       "      <td>13209</td>\n",
       "      <td>5</td>\n",
       "      <td>271296</td>\n",
       "      <td>244370</td>\n",
       "      <td>189451</td>\n",
       "      <td>104</td>\n",
       "      <td>193089</td>\n",
       "      <td>6819</td>\n",
       "      <td>2</td>\n",
       "      <td>725</td>\n",
       "      <td>381</td>\n",
       "    </tr>\n",
       "    <tr>\n",
       "      <th>top</th>\n",
       "      <td>B00CTTEKJW</td>\n",
       "      <td>5.0</td>\n",
       "      <td>good</td>\n",
       "      <td>A5JLAU2ARJ0BO</td>\n",
       "      <td>Amazon Customer</td>\n",
       "      <td>{\"Format:\":\" Software\"}</td>\n",
       "      <td>Five Stars</td>\n",
       "      <td>1456790400</td>\n",
       "      <td>true</td>\n",
       "      <td>[\"https://images-na.ssl-images-amazon.com/imag...</td>\n",
       "      <td>2</td>\n",
       "    </tr>\n",
       "    <tr>\n",
       "      <th>freq</th>\n",
       "      <td>7929</td>\n",
       "      <td>129709</td>\n",
       "      <td>423</td>\n",
       "      <td>65</td>\n",
       "      <td>13072</td>\n",
       "      <td>19722</td>\n",
       "      <td>24683</td>\n",
       "      <td>556</td>\n",
       "      <td>182205</td>\n",
       "      <td>5</td>\n",
       "      <td>21707</td>\n",
       "    </tr>\n",
       "  </tbody>\n",
       "</table>\n",
       "</div>"
      ],
      "text/plain": [
       "              asin overall reviewText     reviewerID     reviewerName  \\\n",
       "count       292055  292055     292030         292055           292036   \n",
       "unique       13209       5     271296         244370           189451   \n",
       "top     B00CTTEKJW     5.0       good  A5JLAU2ARJ0BO  Amazon Customer   \n",
       "freq          7929  129709        423             65            13072   \n",
       "\n",
       "                          style     summary unixReviewTime verified  \\\n",
       "count                    137680      292031         292055   292055   \n",
       "unique                      104      193089           6819        2   \n",
       "top     {\"Format:\":\" Software\"}  Five Stars     1456790400     true   \n",
       "freq                      19722       24683            556   182205   \n",
       "\n",
       "                                                    image   vote  \n",
       "count                                                 752  92546  \n",
       "unique                                                725    381  \n",
       "top     [\"https://images-na.ssl-images-amazon.com/imag...      2  \n",
       "freq                                                    5  21707  "
      ]
     },
     "execution_count": 12,
     "metadata": {},
     "output_type": "execute_result"
    }
   ],
   "source": [
    "ds.describe()"
   ]
  },
  {
   "cell_type": "code",
   "execution_count": 13,
   "id": "b4a24454",
   "metadata": {},
   "outputs": [
    {
     "data": {
      "text/plain": [
       "asin                   0\n",
       "overall                0\n",
       "reviewText            25\n",
       "reviewerID             0\n",
       "reviewerName          19\n",
       "style             154375\n",
       "summary               24\n",
       "unixReviewTime         0\n",
       "verified               0\n",
       "image             291303\n",
       "vote              199509\n",
       "dtype: int64"
      ]
     },
     "execution_count": 13,
     "metadata": {},
     "output_type": "execute_result"
    }
   ],
   "source": [
    "ds.isna().sum()"
   ]
  },
  {
   "cell_type": "code",
   "execution_count": 14,
   "id": "23975766",
   "metadata": {},
   "outputs": [
    {
     "data": {
      "text/plain": [
       "B00CTTEKJW    7929\n",
       "B00E6LJ2SA    4038\n",
       "B00M9GTHS4    3401\n",
       "B00EZPXYP4    3294\n",
       "B015724OVG    2735\n",
       "              ... \n",
       "B00005MOZR       1\n",
       "B0000VYK1E       1\n",
       "B000W9NA88       1\n",
       "B00099QY8Y       1\n",
       "B002WDFB48       1\n",
       "Name: asin, Length: 13209, dtype: int64"
      ]
     },
     "execution_count": 14,
     "metadata": {},
     "output_type": "execute_result"
    }
   ],
   "source": [
    "ds[\"asin\"].value_counts()"
   ]
  },
  {
   "cell_type": "code",
   "execution_count": 15,
   "id": "7c0d57a4",
   "metadata": {},
   "outputs": [
    {
     "data": {
      "text/plain": [
       "5.0    129709\n",
       "1.0     65763\n",
       "4.0     49150\n",
       "3.0     26289\n",
       "2.0     21144\n",
       "Name: overall, dtype: int64"
      ]
     },
     "execution_count": 15,
     "metadata": {},
     "output_type": "execute_result"
    }
   ],
   "source": [
    "ds[\"overall\"].value_counts()"
   ]
  },
  {
   "cell_type": "markdown",
   "id": "78a2759b",
   "metadata": {},
   "source": [
    "## Initial observations\n",
    "\n",
    "***\n",
    "\n",
    "- We are going to need transformations as all items are data type Object(strings).\n",
    "- We shall drop the columns:  *image, vote, and style* per low information gain (and many NaN values).\n",
    "- Columns *reviewerID and reviewerName* are related yet reviewerID is free of missing values, thus removing the *reviewerName* column as well\n",
    "- Suggest changing name to *overall* into **score** and data type to int64 as is likely the target variable.\n",
    "- Reduce into smaller dataframes for visualizations and begin corelations\n",
    "- Likely feature engineering will be beneficial\n",
    "- Heavy string at column reviewText is target for further analysis and summary will be quite useful as well\n",
    "\n"
   ]
  },
  {
   "cell_type": "markdown",
   "id": "3b4f262a",
   "metadata": {},
   "source": [
    "***"
   ]
  },
  {
   "cell_type": "markdown",
   "id": "a56ab3c6",
   "metadata": {},
   "source": [
    "## Initial prep work prior to EDA\n",
    "\n",
    "> Act on the initial observations"
   ]
  },
  {
   "cell_type": "code",
   "execution_count": 16,
   "id": "35a9bbb3",
   "metadata": {},
   "outputs": [],
   "source": [
    "# Changing the column named mentioned at Initial Observations\n",
    "\n",
    "ds.rename(columns = {'overall':'score'}, inplace = True)"
   ]
  },
  {
   "cell_type": "code",
   "execution_count": 17,
   "id": "3fcaddb2",
   "metadata": {},
   "outputs": [
    {
     "data": {
      "text/html": [
       "<div>\n",
       "<style scoped>\n",
       "    .dataframe tbody tr th:only-of-type {\n",
       "        vertical-align: middle;\n",
       "    }\n",
       "\n",
       "    .dataframe tbody tr th {\n",
       "        vertical-align: top;\n",
       "    }\n",
       "\n",
       "    .dataframe thead th {\n",
       "        text-align: right;\n",
       "    }\n",
       "</style>\n",
       "<table border=\"1\" class=\"dataframe\">\n",
       "  <thead>\n",
       "    <tr style=\"text-align: right;\">\n",
       "      <th></th>\n",
       "      <th>asin</th>\n",
       "      <th>score</th>\n",
       "      <th>reviewText</th>\n",
       "      <th>reviewerID</th>\n",
       "      <th>reviewerName</th>\n",
       "      <th>style</th>\n",
       "      <th>summary</th>\n",
       "      <th>unixReviewTime</th>\n",
       "      <th>verified</th>\n",
       "      <th>image</th>\n",
       "      <th>vote</th>\n",
       "    </tr>\n",
       "  </thead>\n",
       "  <tbody>\n",
       "    <tr>\n",
       "      <th>0</th>\n",
       "      <td>B002IYJQ9C</td>\n",
       "      <td>1.0</td>\n",
       "      <td>This software is a disgrace.  It was published...</td>\n",
       "      <td>A2BJJGFS2NJ3H3</td>\n",
       "      <td>Jack Merritt</td>\n",
       "      <td>None</td>\n",
       "      <td>Pass this by</td>\n",
       "      <td>1280966400</td>\n",
       "      <td>true</td>\n",
       "      <td>None</td>\n",
       "      <td>4</td>\n",
       "    </tr>\n",
       "  </tbody>\n",
       "</table>\n",
       "</div>"
      ],
      "text/plain": [
       "         asin score                                         reviewText  \\\n",
       "0  B002IYJQ9C   1.0  This software is a disgrace.  It was published...   \n",
       "\n",
       "       reviewerID  reviewerName style       summary unixReviewTime verified  \\\n",
       "0  A2BJJGFS2NJ3H3  Jack Merritt  None  Pass this by     1280966400     true   \n",
       "\n",
       "  image vote  \n",
       "0  None    4  "
      ]
     },
     "execution_count": 17,
     "metadata": {},
     "output_type": "execute_result"
    }
   ],
   "source": [
    "ds.head(1)"
   ]
  },
  {
   "cell_type": "code",
   "execution_count": 18,
   "id": "4d64ee7e",
   "metadata": {},
   "outputs": [],
   "source": [
    "# Remove columns that are not needed\n",
    "\n",
    "ds.drop(['style','vote','image'], axis = 1, inplace = True)"
   ]
  },
  {
   "cell_type": "code",
   "execution_count": 19,
   "id": "ead53c9f",
   "metadata": {},
   "outputs": [
    {
     "data": {
      "text/html": [
       "<div>\n",
       "<style scoped>\n",
       "    .dataframe tbody tr th:only-of-type {\n",
       "        vertical-align: middle;\n",
       "    }\n",
       "\n",
       "    .dataframe tbody tr th {\n",
       "        vertical-align: top;\n",
       "    }\n",
       "\n",
       "    .dataframe thead th {\n",
       "        text-align: right;\n",
       "    }\n",
       "</style>\n",
       "<table border=\"1\" class=\"dataframe\">\n",
       "  <thead>\n",
       "    <tr style=\"text-align: right;\">\n",
       "      <th></th>\n",
       "      <th>asin</th>\n",
       "      <th>score</th>\n",
       "      <th>reviewText</th>\n",
       "      <th>reviewerID</th>\n",
       "      <th>reviewerName</th>\n",
       "      <th>summary</th>\n",
       "      <th>unixReviewTime</th>\n",
       "      <th>verified</th>\n",
       "    </tr>\n",
       "  </thead>\n",
       "  <tbody>\n",
       "    <tr>\n",
       "      <th>0</th>\n",
       "      <td>B002IYJQ9C</td>\n",
       "      <td>1.0</td>\n",
       "      <td>This software is a disgrace.  It was published...</td>\n",
       "      <td>A2BJJGFS2NJ3H3</td>\n",
       "      <td>Jack Merritt</td>\n",
       "      <td>Pass this by</td>\n",
       "      <td>1280966400</td>\n",
       "      <td>true</td>\n",
       "    </tr>\n",
       "  </tbody>\n",
       "</table>\n",
       "</div>"
      ],
      "text/plain": [
       "         asin score                                         reviewText  \\\n",
       "0  B002IYJQ9C   1.0  This software is a disgrace.  It was published...   \n",
       "\n",
       "       reviewerID  reviewerName       summary unixReviewTime verified  \n",
       "0  A2BJJGFS2NJ3H3  Jack Merritt  Pass this by     1280966400     true  "
      ]
     },
     "execution_count": 19,
     "metadata": {},
     "output_type": "execute_result"
    }
   ],
   "source": [
    "ds.head(1)"
   ]
  },
  {
   "cell_type": "code",
   "execution_count": 20,
   "id": "8716692a",
   "metadata": {},
   "outputs": [],
   "source": [
    "# Now remove the related column that is not needed\n",
    "\n",
    "ds.drop(['reviewerName'], axis = 1, inplace = True)"
   ]
  },
  {
   "cell_type": "code",
   "execution_count": 21,
   "id": "5f76cc09",
   "metadata": {},
   "outputs": [
    {
     "data": {
      "text/html": [
       "<div>\n",
       "<style scoped>\n",
       "    .dataframe tbody tr th:only-of-type {\n",
       "        vertical-align: middle;\n",
       "    }\n",
       "\n",
       "    .dataframe tbody tr th {\n",
       "        vertical-align: top;\n",
       "    }\n",
       "\n",
       "    .dataframe thead th {\n",
       "        text-align: right;\n",
       "    }\n",
       "</style>\n",
       "<table border=\"1\" class=\"dataframe\">\n",
       "  <thead>\n",
       "    <tr style=\"text-align: right;\">\n",
       "      <th></th>\n",
       "      <th>asin</th>\n",
       "      <th>score</th>\n",
       "      <th>reviewText</th>\n",
       "      <th>reviewerID</th>\n",
       "      <th>summary</th>\n",
       "      <th>unixReviewTime</th>\n",
       "      <th>verified</th>\n",
       "    </tr>\n",
       "  </thead>\n",
       "  <tbody>\n",
       "    <tr>\n",
       "      <th>0</th>\n",
       "      <td>B002IYJQ9C</td>\n",
       "      <td>1.0</td>\n",
       "      <td>This software is a disgrace.  It was published...</td>\n",
       "      <td>A2BJJGFS2NJ3H3</td>\n",
       "      <td>Pass this by</td>\n",
       "      <td>1280966400</td>\n",
       "      <td>true</td>\n",
       "    </tr>\n",
       "  </tbody>\n",
       "</table>\n",
       "</div>"
      ],
      "text/plain": [
       "         asin score                                         reviewText  \\\n",
       "0  B002IYJQ9C   1.0  This software is a disgrace.  It was published...   \n",
       "\n",
       "       reviewerID       summary unixReviewTime verified  \n",
       "0  A2BJJGFS2NJ3H3  Pass this by     1280966400     true  "
      ]
     },
     "execution_count": 21,
     "metadata": {},
     "output_type": "execute_result"
    }
   ],
   "source": [
    "ds.head(1)"
   ]
  },
  {
   "cell_type": "code",
   "execution_count": 22,
   "id": "bb608d4e",
   "metadata": {},
   "outputs": [],
   "source": [
    "# Change score to int64 data type\n",
    "\n",
    "ds['score'].replace(['1.0', '2.0', '3.0', '4.0', '5.0'], [1, 2, 3, 4, 5], inplace = True)"
   ]
  },
  {
   "cell_type": "code",
   "execution_count": 23,
   "id": "4087fe8e",
   "metadata": {},
   "outputs": [
    {
     "data": {
      "text/html": [
       "<div>\n",
       "<style scoped>\n",
       "    .dataframe tbody tr th:only-of-type {\n",
       "        vertical-align: middle;\n",
       "    }\n",
       "\n",
       "    .dataframe tbody tr th {\n",
       "        vertical-align: top;\n",
       "    }\n",
       "\n",
       "    .dataframe thead th {\n",
       "        text-align: right;\n",
       "    }\n",
       "</style>\n",
       "<table border=\"1\" class=\"dataframe\">\n",
       "  <thead>\n",
       "    <tr style=\"text-align: right;\">\n",
       "      <th></th>\n",
       "      <th>asin</th>\n",
       "      <th>score</th>\n",
       "      <th>reviewText</th>\n",
       "      <th>reviewerID</th>\n",
       "      <th>summary</th>\n",
       "      <th>unixReviewTime</th>\n",
       "      <th>verified</th>\n",
       "    </tr>\n",
       "  </thead>\n",
       "  <tbody>\n",
       "    <tr>\n",
       "      <th>0</th>\n",
       "      <td>B002IYJQ9C</td>\n",
       "      <td>1</td>\n",
       "      <td>This software is a disgrace.  It was published...</td>\n",
       "      <td>A2BJJGFS2NJ3H3</td>\n",
       "      <td>Pass this by</td>\n",
       "      <td>1280966400</td>\n",
       "      <td>true</td>\n",
       "    </tr>\n",
       "  </tbody>\n",
       "</table>\n",
       "</div>"
      ],
      "text/plain": [
       "         asin  score                                         reviewText  \\\n",
       "0  B002IYJQ9C      1  This software is a disgrace.  It was published...   \n",
       "\n",
       "       reviewerID       summary unixReviewTime verified  \n",
       "0  A2BJJGFS2NJ3H3  Pass this by     1280966400     true  "
      ]
     },
     "execution_count": 23,
     "metadata": {},
     "output_type": "execute_result"
    }
   ],
   "source": [
    "ds.head(1)"
   ]
  },
  {
   "cell_type": "code",
   "execution_count": 25,
   "id": "b185c4c6",
   "metadata": {},
   "outputs": [
    {
     "data": {
      "text/plain": [
       "asin              object\n",
       "score              int64\n",
       "reviewText        object\n",
       "reviewerID        object\n",
       "summary           object\n",
       "unixReviewTime    object\n",
       "verified          object\n",
       "dtype: object"
      ]
     },
     "execution_count": 25,
     "metadata": {},
     "output_type": "execute_result"
    }
   ],
   "source": [
    "ds.dtypes"
   ]
  },
  {
   "cell_type": "code",
   "execution_count": 26,
   "id": "92174eb7",
   "metadata": {},
   "outputs": [
    {
     "data": {
      "text/plain": [
       "asin               0\n",
       "score              0\n",
       "reviewText        25\n",
       "reviewerID         0\n",
       "summary           24\n",
       "unixReviewTime     0\n",
       "verified           0\n",
       "dtype: int64"
      ]
     },
     "execution_count": 26,
     "metadata": {},
     "output_type": "execute_result"
    }
   ],
   "source": [
    "# Confirmed most of the null values have been addressed\n",
    "\n",
    "ds.isna().sum()"
   ]
  },
  {
   "cell_type": "code",
   "execution_count": 27,
   "id": "1f6c39c3",
   "metadata": {},
   "outputs": [
    {
     "data": {
      "text/html": [
       "<div>\n",
       "<style scoped>\n",
       "    .dataframe tbody tr th:only-of-type {\n",
       "        vertical-align: middle;\n",
       "    }\n",
       "\n",
       "    .dataframe tbody tr th {\n",
       "        vertical-align: top;\n",
       "    }\n",
       "\n",
       "    .dataframe thead th {\n",
       "        text-align: right;\n",
       "    }\n",
       "</style>\n",
       "<table border=\"1\" class=\"dataframe\">\n",
       "  <thead>\n",
       "    <tr style=\"text-align: right;\">\n",
       "      <th></th>\n",
       "      <th>asin</th>\n",
       "      <th>score</th>\n",
       "      <th>reviewText</th>\n",
       "      <th>reviewerID</th>\n",
       "      <th>summary</th>\n",
       "      <th>unixReviewTime</th>\n",
       "      <th>verified</th>\n",
       "    </tr>\n",
       "  </thead>\n",
       "  <tbody>\n",
       "    <tr>\n",
       "      <th>0</th>\n",
       "      <td>B002IYJQ9C</td>\n",
       "      <td>1</td>\n",
       "      <td>This software is a disgrace.  It was published...</td>\n",
       "      <td>A2BJJGFS2NJ3H3</td>\n",
       "      <td>Pass this by</td>\n",
       "      <td>2010-08-05</td>\n",
       "      <td>true</td>\n",
       "    </tr>\n",
       "  </tbody>\n",
       "</table>\n",
       "</div>"
      ],
      "text/plain": [
       "         asin  score                                         reviewText  \\\n",
       "0  B002IYJQ9C      1  This software is a disgrace.  It was published...   \n",
       "\n",
       "       reviewerID       summary unixReviewTime verified  \n",
       "0  A2BJJGFS2NJ3H3  Pass this by     2010-08-05     true  "
      ]
     },
     "execution_count": 27,
     "metadata": {},
     "output_type": "execute_result"
    }
   ],
   "source": [
    "# Convert unixReviewTime to a more human friendly timestamp\n",
    "\n",
    "ds['unixReviewTime'] = pd.to_datetime(ds['unixReviewTime'], unit='s')\n",
    "ds.head(1)"
   ]
  },
  {
   "cell_type": "code",
   "execution_count": 28,
   "id": "4d484699",
   "metadata": {},
   "outputs": [
    {
     "data": {
      "text/html": [
       "<div>\n",
       "<style scoped>\n",
       "    .dataframe tbody tr th:only-of-type {\n",
       "        vertical-align: middle;\n",
       "    }\n",
       "\n",
       "    .dataframe tbody tr th {\n",
       "        vertical-align: top;\n",
       "    }\n",
       "\n",
       "    .dataframe thead th {\n",
       "        text-align: right;\n",
       "    }\n",
       "</style>\n",
       "<table border=\"1\" class=\"dataframe\">\n",
       "  <thead>\n",
       "    <tr style=\"text-align: right;\">\n",
       "      <th></th>\n",
       "      <th>asin</th>\n",
       "      <th>score</th>\n",
       "      <th>reviewText</th>\n",
       "      <th>reviewerID</th>\n",
       "      <th>summary</th>\n",
       "      <th>timestamp</th>\n",
       "      <th>verified</th>\n",
       "    </tr>\n",
       "  </thead>\n",
       "  <tbody>\n",
       "    <tr>\n",
       "      <th>0</th>\n",
       "      <td>B002IYJQ9C</td>\n",
       "      <td>1</td>\n",
       "      <td>This software is a disgrace.  It was published...</td>\n",
       "      <td>A2BJJGFS2NJ3H3</td>\n",
       "      <td>Pass this by</td>\n",
       "      <td>2010-08-05</td>\n",
       "      <td>true</td>\n",
       "    </tr>\n",
       "  </tbody>\n",
       "</table>\n",
       "</div>"
      ],
      "text/plain": [
       "         asin  score                                         reviewText  \\\n",
       "0  B002IYJQ9C      1  This software is a disgrace.  It was published...   \n",
       "\n",
       "       reviewerID       summary  timestamp verified  \n",
       "0  A2BJJGFS2NJ3H3  Pass this by 2010-08-05     true  "
      ]
     },
     "execution_count": 28,
     "metadata": {},
     "output_type": "execute_result"
    }
   ],
   "source": [
    "# Now change the name to timestamp\n",
    "\n",
    "ds.rename(columns = {'unixReviewTime':'timestamp'}, inplace = True)\n",
    "ds.head(1)"
   ]
  },
  {
   "cell_type": "code",
   "execution_count": 29,
   "id": "374a8eb7",
   "metadata": {},
   "outputs": [
    {
     "data": {
      "text/plain": [
       "<bound method NDFrame.describe of 0        2010-08-05\n",
       "1        2011-04-21\n",
       "2        2011-04-21\n",
       "3        2011-04-21\n",
       "4        2011-04-21\n",
       "            ...    \n",
       "292050   2005-01-17\n",
       "292051   2004-12-10\n",
       "292052   2004-12-10\n",
       "292053   2000-12-18\n",
       "292054   2016-08-12\n",
       "Name: timestamp, Length: 292055, dtype: datetime64[ns]>"
      ]
     },
     "execution_count": 29,
     "metadata": {},
     "output_type": "execute_result"
    }
   ],
   "source": [
    "ds['timestamp'].describe"
   ]
  },
  {
   "cell_type": "code",
   "execution_count": 30,
   "id": "7b55f191",
   "metadata": {},
   "outputs": [
    {
     "data": {
      "text/plain": [
       "array(['2010-08-05T00:00:00.000000000', '2011-04-21T00:00:00.000000000',\n",
       "       '2011-05-18T00:00:00.000000000', ...,\n",
       "       '2001-05-08T00:00:00.000000000', '2000-02-15T00:00:00.000000000',\n",
       "       '2000-01-13T00:00:00.000000000'], dtype='datetime64[ns]')"
      ]
     },
     "execution_count": 30,
     "metadata": {},
     "output_type": "execute_result"
    }
   ],
   "source": [
    "ds['timestamp'].unique()"
   ]
  },
  {
   "cell_type": "code",
   "execution_count": 31,
   "id": "25f9d42d",
   "metadata": {},
   "outputs": [],
   "source": [
    "# Sorting data set per time line\n",
    "\n",
    "ds.sort_values(by = ['timestamp'], inplace = True)"
   ]
  },
  {
   "cell_type": "code",
   "execution_count": 32,
   "id": "685eea37",
   "metadata": {},
   "outputs": [
    {
     "data": {
      "text/html": [
       "<div>\n",
       "<style scoped>\n",
       "    .dataframe tbody tr th:only-of-type {\n",
       "        vertical-align: middle;\n",
       "    }\n",
       "\n",
       "    .dataframe tbody tr th {\n",
       "        vertical-align: top;\n",
       "    }\n",
       "\n",
       "    .dataframe thead th {\n",
       "        text-align: right;\n",
       "    }\n",
       "</style>\n",
       "<table border=\"1\" class=\"dataframe\">\n",
       "  <thead>\n",
       "    <tr style=\"text-align: right;\">\n",
       "      <th></th>\n",
       "      <th>asin</th>\n",
       "      <th>score</th>\n",
       "      <th>reviewText</th>\n",
       "      <th>reviewerID</th>\n",
       "      <th>summary</th>\n",
       "      <th>timestamp</th>\n",
       "      <th>verified</th>\n",
       "    </tr>\n",
       "  </thead>\n",
       "  <tbody>\n",
       "    <tr>\n",
       "      <th>78724</th>\n",
       "      <td>0671573535</td>\n",
       "      <td>1</td>\n",
       "      <td>We have not been able to even run this game be...</td>\n",
       "      <td>A1I7E79WGWUP6Y</td>\n",
       "      <td>don't buy this game</td>\n",
       "      <td>1998-12-04</td>\n",
       "      <td>false</td>\n",
       "    </tr>\n",
       "  </tbody>\n",
       "</table>\n",
       "</div>"
      ],
      "text/plain": [
       "             asin  score                                         reviewText  \\\n",
       "78724  0671573535      1  We have not been able to even run this game be...   \n",
       "\n",
       "           reviewerID              summary  timestamp verified  \n",
       "78724  A1I7E79WGWUP6Y  don't buy this game 1998-12-04    false  "
      ]
     },
     "execution_count": 32,
     "metadata": {},
     "output_type": "execute_result"
    }
   ],
   "source": [
    "ds.head(1)"
   ]
  },
  {
   "cell_type": "code",
   "execution_count": 33,
   "id": "1c684ca2",
   "metadata": {},
   "outputs": [
    {
     "data": {
      "text/html": [
       "<div>\n",
       "<style scoped>\n",
       "    .dataframe tbody tr th:only-of-type {\n",
       "        vertical-align: middle;\n",
       "    }\n",
       "\n",
       "    .dataframe tbody tr th {\n",
       "        vertical-align: top;\n",
       "    }\n",
       "\n",
       "    .dataframe thead th {\n",
       "        text-align: right;\n",
       "    }\n",
       "</style>\n",
       "<table border=\"1\" class=\"dataframe\">\n",
       "  <thead>\n",
       "    <tr style=\"text-align: right;\">\n",
       "      <th></th>\n",
       "      <th>asin</th>\n",
       "      <th>score</th>\n",
       "      <th>reviewText</th>\n",
       "      <th>reviewerID</th>\n",
       "      <th>summary</th>\n",
       "      <th>timestamp</th>\n",
       "      <th>verified</th>\n",
       "    </tr>\n",
       "  </thead>\n",
       "  <tbody>\n",
       "    <tr>\n",
       "      <th>87196</th>\n",
       "      <td>B0153V644G</td>\n",
       "      <td>1</td>\n",
       "      <td>I need a refund</td>\n",
       "      <td>A1H5W5TTW5DS7Y</td>\n",
       "      <td>Doesn't work</td>\n",
       "      <td>2018-08-27</td>\n",
       "      <td>true</td>\n",
       "    </tr>\n",
       "  </tbody>\n",
       "</table>\n",
       "</div>"
      ],
      "text/plain": [
       "             asin  score       reviewText      reviewerID       summary  \\\n",
       "87196  B0153V644G      1  I need a refund  A1H5W5TTW5DS7Y  Doesn't work   \n",
       "\n",
       "       timestamp verified  \n",
       "87196 2018-08-27     true  "
      ]
     },
     "execution_count": 33,
     "metadata": {},
     "output_type": "execute_result"
    }
   ],
   "source": [
    "ds.tail(1)"
   ]
  },
  {
   "cell_type": "code",
   "execution_count": 34,
   "id": "916b26f8",
   "metadata": {},
   "outputs": [
    {
     "data": {
      "text/html": [
       "<div>\n",
       "<style scoped>\n",
       "    .dataframe tbody tr th:only-of-type {\n",
       "        vertical-align: middle;\n",
       "    }\n",
       "\n",
       "    .dataframe tbody tr th {\n",
       "        vertical-align: top;\n",
       "    }\n",
       "\n",
       "    .dataframe thead th {\n",
       "        text-align: right;\n",
       "    }\n",
       "</style>\n",
       "<table border=\"1\" class=\"dataframe\">\n",
       "  <thead>\n",
       "    <tr style=\"text-align: right;\">\n",
       "      <th></th>\n",
       "      <th>asin</th>\n",
       "      <th>score</th>\n",
       "      <th>reviewText</th>\n",
       "      <th>reviewerID</th>\n",
       "      <th>summary</th>\n",
       "      <th>timestamp</th>\n",
       "      <th>verified</th>\n",
       "      <th>date</th>\n",
       "      <th>year</th>\n",
       "      <th>month</th>\n",
       "      <th>day</th>\n",
       "      <th>day_of_week</th>\n",
       "    </tr>\n",
       "  </thead>\n",
       "  <tbody>\n",
       "    <tr>\n",
       "      <th>78724</th>\n",
       "      <td>0671573535</td>\n",
       "      <td>1</td>\n",
       "      <td>We have not been able to even run this game be...</td>\n",
       "      <td>A1I7E79WGWUP6Y</td>\n",
       "      <td>don't buy this game</td>\n",
       "      <td>1998-12-04</td>\n",
       "      <td>false</td>\n",
       "      <td>1998-12-04</td>\n",
       "      <td>1998</td>\n",
       "      <td>12</td>\n",
       "      <td>4</td>\n",
       "      <td>4</td>\n",
       "    </tr>\n",
       "  </tbody>\n",
       "</table>\n",
       "</div>"
      ],
      "text/plain": [
       "             asin  score                                         reviewText  \\\n",
       "78724  0671573535      1  We have not been able to even run this game be...   \n",
       "\n",
       "           reviewerID              summary  timestamp verified        date  \\\n",
       "78724  A1I7E79WGWUP6Y  don't buy this game 1998-12-04    false  1998-12-04   \n",
       "\n",
       "       year  month  day  day_of_week  \n",
       "78724  1998     12    4            4  "
      ]
     },
     "execution_count": 34,
     "metadata": {},
     "output_type": "execute_result"
    }
   ],
   "source": [
    "# Some feature engineering for time and date\n",
    "\n",
    "ds['date'] = pd.to_datetime(ds['timestamp']).dt.date\n",
    "ds['year'] = pd.to_datetime(ds['timestamp']).dt.year\n",
    "ds['month'] = pd.to_datetime(ds['timestamp']).dt.month\n",
    "ds['day'] = pd.to_datetime(ds['timestamp']).dt.day\n",
    "ds['day_of_week'] = pd.to_datetime(ds['timestamp']).dt.dayofweek\n",
    "ds.head(1)\n"
   ]
  },
  {
   "cell_type": "code",
   "execution_count": 35,
   "id": "9335eed9",
   "metadata": {},
   "outputs": [],
   "source": [
    "# Convert data column from object to numeric\n",
    "\n",
    "ds['date'] = pd.to_datetime(ds['date'])\n"
   ]
  },
  {
   "cell_type": "code",
   "execution_count": 36,
   "id": "99eabdb0",
   "metadata": {},
   "outputs": [
    {
     "name": "stdout",
     "output_type": "stream",
     "text": [
      "<class 'pandas.core.frame.DataFrame'>\n",
      "Int64Index: 292055 entries, 78724 to 87196\n",
      "Data columns (total 12 columns):\n",
      " #   Column       Non-Null Count   Dtype         \n",
      "---  ------       --------------   -----         \n",
      " 0   asin         292055 non-null  object        \n",
      " 1   score        292055 non-null  int64         \n",
      " 2   reviewText   292030 non-null  object        \n",
      " 3   reviewerID   292055 non-null  object        \n",
      " 4   summary      292031 non-null  object        \n",
      " 5   timestamp    292055 non-null  datetime64[ns]\n",
      " 6   verified     292055 non-null  object        \n",
      " 7   date         292055 non-null  datetime64[ns]\n",
      " 8   year         292055 non-null  int64         \n",
      " 9   month        292055 non-null  int64         \n",
      " 10  day          292055 non-null  int64         \n",
      " 11  day_of_week  292055 non-null  int64         \n",
      "dtypes: datetime64[ns](2), int64(5), object(5)\n",
      "memory usage: 29.0+ MB\n"
     ]
    }
   ],
   "source": [
    "ds.info()"
   ]
  },
  {
   "cell_type": "code",
   "execution_count": 38,
   "id": "3d3bab3e",
   "metadata": {},
   "outputs": [
    {
     "data": {
      "text/html": [
       "<div>\n",
       "<style scoped>\n",
       "    .dataframe tbody tr th:only-of-type {\n",
       "        vertical-align: middle;\n",
       "    }\n",
       "\n",
       "    .dataframe tbody tr th {\n",
       "        vertical-align: top;\n",
       "    }\n",
       "\n",
       "    .dataframe thead th {\n",
       "        text-align: right;\n",
       "    }\n",
       "</style>\n",
       "<table border=\"1\" class=\"dataframe\">\n",
       "  <thead>\n",
       "    <tr style=\"text-align: right;\">\n",
       "      <th></th>\n",
       "      <th>asin</th>\n",
       "      <th>score</th>\n",
       "      <th>reviewText</th>\n",
       "      <th>reviewerID</th>\n",
       "      <th>summary</th>\n",
       "      <th>timestamp</th>\n",
       "      <th>verified</th>\n",
       "      <th>date</th>\n",
       "      <th>year</th>\n",
       "      <th>month</th>\n",
       "      <th>day</th>\n",
       "      <th>day_of_week</th>\n",
       "    </tr>\n",
       "  </thead>\n",
       "  <tbody>\n",
       "    <tr>\n",
       "      <th>0</th>\n",
       "      <td>0671573535</td>\n",
       "      <td>1</td>\n",
       "      <td>We have not been able to even run this game be...</td>\n",
       "      <td>A1I7E79WGWUP6Y</td>\n",
       "      <td>don't buy this game</td>\n",
       "      <td>1998-12-04</td>\n",
       "      <td>false</td>\n",
       "      <td>1998-12-04</td>\n",
       "      <td>1998</td>\n",
       "      <td>12</td>\n",
       "      <td>4</td>\n",
       "      <td>4</td>\n",
       "    </tr>\n",
       "    <tr>\n",
       "      <th>1</th>\n",
       "      <td>1559404779</td>\n",
       "      <td>4</td>\n",
       "      <td>About 140 movies were reviewed. I love the fil...</td>\n",
       "      <td>A3KDTS7917RNBA</td>\n",
       "      <td>Good reference book for Criterion early LD's</td>\n",
       "      <td>1999-10-23</td>\n",
       "      <td>false</td>\n",
       "      <td>1999-10-23</td>\n",
       "      <td>1999</td>\n",
       "      <td>10</td>\n",
       "      <td>23</td>\n",
       "      <td>5</td>\n",
       "    </tr>\n",
       "    <tr>\n",
       "      <th>2</th>\n",
       "      <td>B00002S5B2</td>\n",
       "      <td>5</td>\n",
       "      <td>WOW! (and I mean that). This game is fantastic...</td>\n",
       "      <td>A39CQ908D0IA6P</td>\n",
       "      <td>An excellent music activity game for kids AND ...</td>\n",
       "      <td>1999-11-10</td>\n",
       "      <td>false</td>\n",
       "      <td>1999-11-10</td>\n",
       "      <td>1999</td>\n",
       "      <td>11</td>\n",
       "      <td>10</td>\n",
       "      <td>2</td>\n",
       "    </tr>\n",
       "    <tr>\n",
       "      <th>3</th>\n",
       "      <td>B00002S8D6</td>\n",
       "      <td>5</td>\n",
       "      <td>Sick of Microsoft's Blue Screen Of Death?  Get...</td>\n",
       "      <td>A1F0L19M8TK50Q</td>\n",
       "      <td>No more BSOD!</td>\n",
       "      <td>1999-11-10</td>\n",
       "      <td>false</td>\n",
       "      <td>1999-11-10</td>\n",
       "      <td>1999</td>\n",
       "      <td>11</td>\n",
       "      <td>10</td>\n",
       "      <td>2</td>\n",
       "    </tr>\n",
       "    <tr>\n",
       "      <th>4</th>\n",
       "      <td>B00002S946</td>\n",
       "      <td>2</td>\n",
       "      <td>I bought it mainly to assist in translation of...</td>\n",
       "      <td>A28CW8ZT3N3O2D</td>\n",
       "      <td>Unimpressive</td>\n",
       "      <td>1999-11-12</td>\n",
       "      <td>false</td>\n",
       "      <td>1999-11-12</td>\n",
       "      <td>1999</td>\n",
       "      <td>11</td>\n",
       "      <td>12</td>\n",
       "      <td>4</td>\n",
       "    </tr>\n",
       "  </tbody>\n",
       "</table>\n",
       "</div>"
      ],
      "text/plain": [
       "         asin  score                                         reviewText  \\\n",
       "0  0671573535      1  We have not been able to even run this game be...   \n",
       "1  1559404779      4  About 140 movies were reviewed. I love the fil...   \n",
       "2  B00002S5B2      5  WOW! (and I mean that). This game is fantastic...   \n",
       "3  B00002S8D6      5  Sick of Microsoft's Blue Screen Of Death?  Get...   \n",
       "4  B00002S946      2  I bought it mainly to assist in translation of...   \n",
       "\n",
       "       reviewerID                                            summary  \\\n",
       "0  A1I7E79WGWUP6Y                                don't buy this game   \n",
       "1  A3KDTS7917RNBA       Good reference book for Criterion early LD's   \n",
       "2  A39CQ908D0IA6P  An excellent music activity game for kids AND ...   \n",
       "3  A1F0L19M8TK50Q                                      No more BSOD!   \n",
       "4  A28CW8ZT3N3O2D                                       Unimpressive   \n",
       "\n",
       "   timestamp verified       date  year  month  day  day_of_week  \n",
       "0 1998-12-04    false 1998-12-04  1998     12    4            4  \n",
       "1 1999-10-23    false 1999-10-23  1999     10   23            5  \n",
       "2 1999-11-10    false 1999-11-10  1999     11   10            2  \n",
       "3 1999-11-10    false 1999-11-10  1999     11   10            2  \n",
       "4 1999-11-12    false 1999-11-12  1999     11   12            4  "
      ]
     },
     "execution_count": 38,
     "metadata": {},
     "output_type": "execute_result"
    }
   ],
   "source": [
    "ds.reset_index(inplace = True, drop = True)\n",
    "ds.head()"
   ]
  },
  {
   "cell_type": "code",
   "execution_count": 39,
   "id": "342538f6",
   "metadata": {},
   "outputs": [
    {
     "data": {
      "text/html": [
       "<div>\n",
       "<style scoped>\n",
       "    .dataframe tbody tr th:only-of-type {\n",
       "        vertical-align: middle;\n",
       "    }\n",
       "\n",
       "    .dataframe tbody tr th {\n",
       "        vertical-align: top;\n",
       "    }\n",
       "\n",
       "    .dataframe thead th {\n",
       "        text-align: right;\n",
       "    }\n",
       "</style>\n",
       "<table border=\"1\" class=\"dataframe\">\n",
       "  <thead>\n",
       "    <tr style=\"text-align: right;\">\n",
       "      <th></th>\n",
       "      <th>asin</th>\n",
       "      <th>score</th>\n",
       "      <th>reviewText</th>\n",
       "      <th>reviewerID</th>\n",
       "      <th>summary</th>\n",
       "      <th>timestamp</th>\n",
       "      <th>verified</th>\n",
       "      <th>date</th>\n",
       "      <th>year</th>\n",
       "      <th>month</th>\n",
       "      <th>day</th>\n",
       "      <th>day_of_week</th>\n",
       "    </tr>\n",
       "  </thead>\n",
       "  <tbody>\n",
       "    <tr>\n",
       "      <th>count</th>\n",
       "      <td>292055</td>\n",
       "      <td>292055.000000</td>\n",
       "      <td>292030</td>\n",
       "      <td>292055</td>\n",
       "      <td>292031</td>\n",
       "      <td>292055</td>\n",
       "      <td>292055</td>\n",
       "      <td>292055</td>\n",
       "      <td>292055.000000</td>\n",
       "      <td>292055.000000</td>\n",
       "      <td>292055.000000</td>\n",
       "      <td>292055.000000</td>\n",
       "    </tr>\n",
       "    <tr>\n",
       "      <th>unique</th>\n",
       "      <td>13209</td>\n",
       "      <td>NaN</td>\n",
       "      <td>271296</td>\n",
       "      <td>244370</td>\n",
       "      <td>193089</td>\n",
       "      <td>NaN</td>\n",
       "      <td>2</td>\n",
       "      <td>NaN</td>\n",
       "      <td>NaN</td>\n",
       "      <td>NaN</td>\n",
       "      <td>NaN</td>\n",
       "      <td>NaN</td>\n",
       "    </tr>\n",
       "    <tr>\n",
       "      <th>top</th>\n",
       "      <td>B00CTTEKJW</td>\n",
       "      <td>NaN</td>\n",
       "      <td>good</td>\n",
       "      <td>A5JLAU2ARJ0BO</td>\n",
       "      <td>Five Stars</td>\n",
       "      <td>NaN</td>\n",
       "      <td>true</td>\n",
       "      <td>NaN</td>\n",
       "      <td>NaN</td>\n",
       "      <td>NaN</td>\n",
       "      <td>NaN</td>\n",
       "      <td>NaN</td>\n",
       "    </tr>\n",
       "    <tr>\n",
       "      <th>freq</th>\n",
       "      <td>7929</td>\n",
       "      <td>NaN</td>\n",
       "      <td>423</td>\n",
       "      <td>65</td>\n",
       "      <td>24683</td>\n",
       "      <td>NaN</td>\n",
       "      <td>182205</td>\n",
       "      <td>NaN</td>\n",
       "      <td>NaN</td>\n",
       "      <td>NaN</td>\n",
       "      <td>NaN</td>\n",
       "      <td>NaN</td>\n",
       "    </tr>\n",
       "    <tr>\n",
       "      <th>mean</th>\n",
       "      <td>NaN</td>\n",
       "      <td>3.533797</td>\n",
       "      <td>NaN</td>\n",
       "      <td>NaN</td>\n",
       "      <td>NaN</td>\n",
       "      <td>2012-06-30 12:27:31.792984576</td>\n",
       "      <td>NaN</td>\n",
       "      <td>2012-06-30 12:27:31.792984576</td>\n",
       "      <td>2012.038808</td>\n",
       "      <td>6.027300</td>\n",
       "      <td>15.599151</td>\n",
       "      <td>2.910192</td>\n",
       "    </tr>\n",
       "    <tr>\n",
       "      <th>min</th>\n",
       "      <td>NaN</td>\n",
       "      <td>1.000000</td>\n",
       "      <td>NaN</td>\n",
       "      <td>NaN</td>\n",
       "      <td>NaN</td>\n",
       "      <td>1998-12-04 00:00:00</td>\n",
       "      <td>NaN</td>\n",
       "      <td>1998-12-04 00:00:00</td>\n",
       "      <td>1998.000000</td>\n",
       "      <td>1.000000</td>\n",
       "      <td>1.000000</td>\n",
       "      <td>0.000000</td>\n",
       "    </tr>\n",
       "    <tr>\n",
       "      <th>25%</th>\n",
       "      <td>NaN</td>\n",
       "      <td>2.000000</td>\n",
       "      <td>NaN</td>\n",
       "      <td>NaN</td>\n",
       "      <td>NaN</td>\n",
       "      <td>2009-11-12 00:00:00</td>\n",
       "      <td>NaN</td>\n",
       "      <td>2009-11-12 00:00:00</td>\n",
       "      <td>2009.000000</td>\n",
       "      <td>3.000000</td>\n",
       "      <td>8.000000</td>\n",
       "      <td>1.000000</td>\n",
       "    </tr>\n",
       "    <tr>\n",
       "      <th>50%</th>\n",
       "      <td>NaN</td>\n",
       "      <td>4.000000</td>\n",
       "      <td>NaN</td>\n",
       "      <td>NaN</td>\n",
       "      <td>NaN</td>\n",
       "      <td>2013-08-26 00:00:00</td>\n",
       "      <td>NaN</td>\n",
       "      <td>2013-08-26 00:00:00</td>\n",
       "      <td>2013.000000</td>\n",
       "      <td>6.000000</td>\n",
       "      <td>15.000000</td>\n",
       "      <td>3.000000</td>\n",
       "    </tr>\n",
       "    <tr>\n",
       "      <th>75%</th>\n",
       "      <td>NaN</td>\n",
       "      <td>5.000000</td>\n",
       "      <td>NaN</td>\n",
       "      <td>NaN</td>\n",
       "      <td>NaN</td>\n",
       "      <td>2015-04-05 00:00:00</td>\n",
       "      <td>NaN</td>\n",
       "      <td>2015-04-05 00:00:00</td>\n",
       "      <td>2015.000000</td>\n",
       "      <td>9.000000</td>\n",
       "      <td>23.000000</td>\n",
       "      <td>5.000000</td>\n",
       "    </tr>\n",
       "    <tr>\n",
       "      <th>max</th>\n",
       "      <td>NaN</td>\n",
       "      <td>5.000000</td>\n",
       "      <td>NaN</td>\n",
       "      <td>NaN</td>\n",
       "      <td>NaN</td>\n",
       "      <td>2018-08-27 00:00:00</td>\n",
       "      <td>NaN</td>\n",
       "      <td>2018-08-27 00:00:00</td>\n",
       "      <td>2018.000000</td>\n",
       "      <td>12.000000</td>\n",
       "      <td>31.000000</td>\n",
       "      <td>6.000000</td>\n",
       "    </tr>\n",
       "    <tr>\n",
       "      <th>std</th>\n",
       "      <td>NaN</td>\n",
       "      <td>1.622637</td>\n",
       "      <td>NaN</td>\n",
       "      <td>NaN</td>\n",
       "      <td>NaN</td>\n",
       "      <td>NaN</td>\n",
       "      <td>NaN</td>\n",
       "      <td>NaN</td>\n",
       "      <td>3.829637</td>\n",
       "      <td>3.610468</td>\n",
       "      <td>8.801564</td>\n",
       "      <td>1.994465</td>\n",
       "    </tr>\n",
       "  </tbody>\n",
       "</table>\n",
       "</div>"
      ],
      "text/plain": [
       "              asin          score reviewText     reviewerID     summary  \\\n",
       "count       292055  292055.000000     292030         292055      292031   \n",
       "unique       13209            NaN     271296         244370      193089   \n",
       "top     B00CTTEKJW            NaN       good  A5JLAU2ARJ0BO  Five Stars   \n",
       "freq          7929            NaN        423             65       24683   \n",
       "mean           NaN       3.533797        NaN            NaN         NaN   \n",
       "min            NaN       1.000000        NaN            NaN         NaN   \n",
       "25%            NaN       2.000000        NaN            NaN         NaN   \n",
       "50%            NaN       4.000000        NaN            NaN         NaN   \n",
       "75%            NaN       5.000000        NaN            NaN         NaN   \n",
       "max            NaN       5.000000        NaN            NaN         NaN   \n",
       "std            NaN       1.622637        NaN            NaN         NaN   \n",
       "\n",
       "                            timestamp verified                           date  \\\n",
       "count                          292055   292055                         292055   \n",
       "unique                            NaN        2                            NaN   \n",
       "top                               NaN     true                            NaN   \n",
       "freq                              NaN   182205                            NaN   \n",
       "mean    2012-06-30 12:27:31.792984576      NaN  2012-06-30 12:27:31.792984576   \n",
       "min               1998-12-04 00:00:00      NaN            1998-12-04 00:00:00   \n",
       "25%               2009-11-12 00:00:00      NaN            2009-11-12 00:00:00   \n",
       "50%               2013-08-26 00:00:00      NaN            2013-08-26 00:00:00   \n",
       "75%               2015-04-05 00:00:00      NaN            2015-04-05 00:00:00   \n",
       "max               2018-08-27 00:00:00      NaN            2018-08-27 00:00:00   \n",
       "std                               NaN      NaN                            NaN   \n",
       "\n",
       "                 year          month            day    day_of_week  \n",
       "count   292055.000000  292055.000000  292055.000000  292055.000000  \n",
       "unique            NaN            NaN            NaN            NaN  \n",
       "top               NaN            NaN            NaN            NaN  \n",
       "freq              NaN            NaN            NaN            NaN  \n",
       "mean      2012.038808       6.027300      15.599151       2.910192  \n",
       "min       1998.000000       1.000000       1.000000       0.000000  \n",
       "25%       2009.000000       3.000000       8.000000       1.000000  \n",
       "50%       2013.000000       6.000000      15.000000       3.000000  \n",
       "75%       2015.000000       9.000000      23.000000       5.000000  \n",
       "max       2018.000000      12.000000      31.000000       6.000000  \n",
       "std          3.829637       3.610468       8.801564       1.994465  "
      ]
     },
     "execution_count": 39,
     "metadata": {},
     "output_type": "execute_result"
    }
   ],
   "source": [
    "ds.describe(include='all', datetime_is_numeric=True)"
   ]
  },
  {
   "cell_type": "code",
   "execution_count": 40,
   "id": "76c76a5f",
   "metadata": {},
   "outputs": [
    {
     "name": "stdout",
     "output_type": "stream",
     "text": [
      "<class 'pandas.core.frame.DataFrame'>\n",
      "RangeIndex: 292055 entries, 0 to 292054\n",
      "Data columns (total 12 columns):\n",
      " #   Column       Non-Null Count   Dtype         \n",
      "---  ------       --------------   -----         \n",
      " 0   asin         292055 non-null  object        \n",
      " 1   score        292055 non-null  int64         \n",
      " 2   reviewText   292030 non-null  object        \n",
      " 3   reviewerID   292055 non-null  object        \n",
      " 4   summary      292031 non-null  object        \n",
      " 5   timestamp    292055 non-null  datetime64[ns]\n",
      " 6   verified     292055 non-null  object        \n",
      " 7   date         292055 non-null  datetime64[ns]\n",
      " 8   year         292055 non-null  int64         \n",
      " 9   month        292055 non-null  int64         \n",
      " 10  day          292055 non-null  int64         \n",
      " 11  day_of_week  292055 non-null  int64         \n",
      "dtypes: datetime64[ns](2), int64(5), object(5)\n",
      "memory usage: 26.7+ MB\n"
     ]
    }
   ],
   "source": [
    "ds.info()"
   ]
  },
  {
   "cell_type": "markdown",
   "id": "d79c0466",
   "metadata": {},
   "source": [
    "***"
   ]
  },
  {
   "cell_type": "code",
   "execution_count": 41,
   "id": "8a8405d3",
   "metadata": {},
   "outputs": [
    {
     "name": "stdout",
     "output_type": "stream",
     "text": [
      "Amount of asin in this data set is :\n",
      "13209\n"
     ]
    }
   ],
   "source": [
    "print(f'Amount of asin in this data set is :')\n",
    "print(len(ds['asin'].unique()))"
   ]
  },
  {
   "cell_type": "code",
   "execution_count": 42,
   "id": "8e72a1cf",
   "metadata": {},
   "outputs": [
    {
     "data": {
      "text/plain": [
       "array([1998, 1999, 2000, 2001, 2002, 2003, 2004, 2005, 2006, 2007, 2008,\n",
       "       2009, 2010, 2011, 2012, 2013, 2014, 2015, 2016, 2017, 2018],\n",
       "      dtype=int64)"
      ]
     },
     "execution_count": 42,
     "metadata": {},
     "output_type": "execute_result"
    }
   ],
   "source": [
    "ds['year'].unique()"
   ]
  },
  {
   "cell_type": "code",
   "execution_count": 43,
   "id": "b6b7893e",
   "metadata": {},
   "outputs": [
    {
     "name": "stdout",
     "output_type": "stream",
     "text": [
      "Amount of years in this data set is :\n",
      "21\n"
     ]
    }
   ],
   "source": [
    "print(f'Amount of years in this data set is :')\n",
    "print(len(ds['year'].unique()))"
   ]
  },
  {
   "cell_type": "code",
   "execution_count": 45,
   "id": "c62741b8",
   "metadata": {},
   "outputs": [
    {
     "data": {
      "text/plain": [
       "true     182205\n",
       "false    109850\n",
       "Name: verified, dtype: int64"
      ]
     },
     "execution_count": 45,
     "metadata": {},
     "output_type": "execute_result"
    }
   ],
   "source": [
    "ds['verified'].value_counts()"
   ]
  },
  {
   "cell_type": "code",
   "execution_count": 44,
   "id": "9bacc7fa",
   "metadata": {},
   "outputs": [
    {
     "data": {
      "text/html": [
       "<div>\n",
       "<style scoped>\n",
       "    .dataframe tbody tr th:only-of-type {\n",
       "        vertical-align: middle;\n",
       "    }\n",
       "\n",
       "    .dataframe tbody tr th {\n",
       "        vertical-align: top;\n",
       "    }\n",
       "\n",
       "    .dataframe thead th {\n",
       "        text-align: right;\n",
       "    }\n",
       "</style>\n",
       "<table border=\"1\" class=\"dataframe\">\n",
       "  <thead>\n",
       "    <tr style=\"text-align: right;\">\n",
       "      <th></th>\n",
       "      <th>asin</th>\n",
       "      <th>score</th>\n",
       "      <th>reviewText</th>\n",
       "      <th>reviewerID</th>\n",
       "      <th>summary</th>\n",
       "      <th>timestamp</th>\n",
       "      <th>verified</th>\n",
       "      <th>date</th>\n",
       "      <th>year</th>\n",
       "      <th>month</th>\n",
       "      <th>day</th>\n",
       "      <th>day_of_week</th>\n",
       "    </tr>\n",
       "  </thead>\n",
       "  <tbody>\n",
       "    <tr>\n",
       "      <th>0</th>\n",
       "      <td>0671573535</td>\n",
       "      <td>1</td>\n",
       "      <td>We have not been able to even run this game be...</td>\n",
       "      <td>A1I7E79WGWUP6Y</td>\n",
       "      <td>don't buy this game</td>\n",
       "      <td>1998-12-04</td>\n",
       "      <td>false</td>\n",
       "      <td>1998-12-04</td>\n",
       "      <td>1998</td>\n",
       "      <td>12</td>\n",
       "      <td>4</td>\n",
       "      <td>4</td>\n",
       "    </tr>\n",
       "    <tr>\n",
       "      <th>1</th>\n",
       "      <td>1559404779</td>\n",
       "      <td>4</td>\n",
       "      <td>About 140 movies were reviewed. I love the fil...</td>\n",
       "      <td>A3KDTS7917RNBA</td>\n",
       "      <td>Good reference book for Criterion early LD's</td>\n",
       "      <td>1999-10-23</td>\n",
       "      <td>false</td>\n",
       "      <td>1999-10-23</td>\n",
       "      <td>1999</td>\n",
       "      <td>10</td>\n",
       "      <td>23</td>\n",
       "      <td>5</td>\n",
       "    </tr>\n",
       "    <tr>\n",
       "      <th>2</th>\n",
       "      <td>B00002S5B2</td>\n",
       "      <td>5</td>\n",
       "      <td>WOW! (and I mean that). This game is fantastic...</td>\n",
       "      <td>A39CQ908D0IA6P</td>\n",
       "      <td>An excellent music activity game for kids AND ...</td>\n",
       "      <td>1999-11-10</td>\n",
       "      <td>false</td>\n",
       "      <td>1999-11-10</td>\n",
       "      <td>1999</td>\n",
       "      <td>11</td>\n",
       "      <td>10</td>\n",
       "      <td>2</td>\n",
       "    </tr>\n",
       "    <tr>\n",
       "      <th>3</th>\n",
       "      <td>B00002S8D6</td>\n",
       "      <td>5</td>\n",
       "      <td>Sick of Microsoft's Blue Screen Of Death?  Get...</td>\n",
       "      <td>A1F0L19M8TK50Q</td>\n",
       "      <td>No more BSOD!</td>\n",
       "      <td>1999-11-10</td>\n",
       "      <td>false</td>\n",
       "      <td>1999-11-10</td>\n",
       "      <td>1999</td>\n",
       "      <td>11</td>\n",
       "      <td>10</td>\n",
       "      <td>2</td>\n",
       "    </tr>\n",
       "    <tr>\n",
       "      <th>4</th>\n",
       "      <td>B00002S946</td>\n",
       "      <td>2</td>\n",
       "      <td>I bought it mainly to assist in translation of...</td>\n",
       "      <td>A28CW8ZT3N3O2D</td>\n",
       "      <td>Unimpressive</td>\n",
       "      <td>1999-11-12</td>\n",
       "      <td>false</td>\n",
       "      <td>1999-11-12</td>\n",
       "      <td>1999</td>\n",
       "      <td>11</td>\n",
       "      <td>12</td>\n",
       "      <td>4</td>\n",
       "    </tr>\n",
       "  </tbody>\n",
       "</table>\n",
       "</div>"
      ],
      "text/plain": [
       "         asin  score                                         reviewText  \\\n",
       "0  0671573535      1  We have not been able to even run this game be...   \n",
       "1  1559404779      4  About 140 movies were reviewed. I love the fil...   \n",
       "2  B00002S5B2      5  WOW! (and I mean that). This game is fantastic...   \n",
       "3  B00002S8D6      5  Sick of Microsoft's Blue Screen Of Death?  Get...   \n",
       "4  B00002S946      2  I bought it mainly to assist in translation of...   \n",
       "\n",
       "       reviewerID                                            summary  \\\n",
       "0  A1I7E79WGWUP6Y                                don't buy this game   \n",
       "1  A3KDTS7917RNBA       Good reference book for Criterion early LD's   \n",
       "2  A39CQ908D0IA6P  An excellent music activity game for kids AND ...   \n",
       "3  A1F0L19M8TK50Q                                      No more BSOD!   \n",
       "4  A28CW8ZT3N3O2D                                       Unimpressive   \n",
       "\n",
       "   timestamp verified       date  year  month  day  day_of_week  \n",
       "0 1998-12-04    false 1998-12-04  1998     12    4            4  \n",
       "1 1999-10-23    false 1999-10-23  1999     10   23            5  \n",
       "2 1999-11-10    false 1999-11-10  1999     11   10            2  \n",
       "3 1999-11-10    false 1999-11-10  1999     11   10            2  \n",
       "4 1999-11-12    false 1999-11-12  1999     11   12            4  "
      ]
     },
     "execution_count": 44,
     "metadata": {},
     "output_type": "execute_result"
    }
   ],
   "source": [
    "ds.head()"
   ]
  },
  {
   "cell_type": "markdown",
   "id": "3b542bca",
   "metadata": {},
   "source": [
    "## Checkpoint\n",
    "\n",
    "> Loading progress into a new file"
   ]
  },
  {
   "cell_type": "code",
   "execution_count": 46,
   "id": "29fb6065",
   "metadata": {},
   "outputs": [],
   "source": [
    "ds.to_parquet('datathon_73023_AM.parquet')"
   ]
  },
  {
   "cell_type": "markdown",
   "id": "e7ccbec6",
   "metadata": {},
   "source": [
    "**End of process**"
   ]
  }
 ],
 "metadata": {
  "kernelspec": {
   "display_name": "Python 3 (ipykernel)",
   "language": "python",
   "name": "python3"
  },
  "language_info": {
   "codemirror_mode": {
    "name": "ipython",
    "version": 3
   },
   "file_extension": ".py",
   "mimetype": "text/x-python",
   "name": "python",
   "nbconvert_exporter": "python",
   "pygments_lexer": "ipython3",
   "version": "3.9.7"
  }
 },
 "nbformat": 4,
 "nbformat_minor": 5
}
