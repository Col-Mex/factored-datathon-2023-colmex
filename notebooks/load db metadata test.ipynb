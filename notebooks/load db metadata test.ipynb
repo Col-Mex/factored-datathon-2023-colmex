{
 "cells": [
  {
   "cell_type": "code",
   "execution_count": 21,
   "metadata": {},
   "outputs": [],
   "source": [
    "import joblib\n",
    "import gzip\n",
    "import json\n",
    "import numpy as np\n",
    "import random\n",
    "import pandas as pd\n",
    "import os\n",
    "from sqlalchemy import create_engine\n",
    "import urllib\n",
    "from azure.identity import DefaultAzureCredential\n",
    "from azure.keyvault.secrets import SecretClient\n",
    "from transformers import pipeline"
   ]
  },
  {
   "cell_type": "code",
   "execution_count": 22,
   "metadata": {},
   "outputs": [],
   "source": [
    "## Login to Azure Key Vault\n",
    "\n",
    "# replace 'my-key-vault-url' with the URL of your Azure Key Vault\n",
    "vault_url = 'https://kv-colmex.vault.azure.net/'\n",
    "\n",
    "# DefaultAzureCredential will use the credentials of your logged-in Azure account\n",
    "credential = DefaultAzureCredential()\n",
    "\n",
    "# create a SecretClient\n",
    "client = SecretClient(vault_url=vault_url, credential=credential)"
   ]
  },
  {
   "cell_type": "code",
   "execution_count": 23,
   "metadata": {},
   "outputs": [],
   "source": [
    "# Read metadata corresponding to reviews sample\n",
    "df = pd.read_parquet(\"../data_files/metadata_industry.parquet\")\n",
    "df = df[['asin', 'brand', 'main_cat', 'title']]\n",
    "asin_reviews_sample = ['B000UXXUSG', 'B0002Q80TA', 'B0026PI8JC', 'B000RA5BMK', 'B00EZKO8J0', 'B015724OVG', 'B005CSF1JK', 'B00E6LJBUO', 'B00505VMXY', 'B000Q6ZK3K', 'B0091KOI8K', 'B000XHE0Q0', 'B0095CC1PQ', 'B00E6LJAOG', 'B00JTE1Z8E', 'B000W3RSGE', 'B001B5L5SY', 'B00DQG8SR2', 'B000SKZIXG', 'B000IVEM5K', 'B00E6LJ2SA', 'B004QK8FBG', 'B000F7VRIC', 'B00CFRF7UY', 'B015VYC606', 'B0009XB160', 'B000K757W4', 'B0026PEQES', 'B003PDMNCC', 'B002DHLUWK', 'B015724RQI', 'B005AAWLYS', 'B002MFSRIS', 'B013XFGA6G', 'B008S0IV9G', 'B00CTTEKJW', 'B00EZQYBZ0', 'B015IHWAZW', 'B004A7JMSU', 'B01326J80Q', 'B0014X5XEK', '3959828276', 'B012F7PNPM', 'B003DU34P2', 'B0002XHAX0', 'B001C31OZY', 'B000ES4PYU', 'B00ENFVLAQ', 'B009348X7Q', 'B001C3MHTQ', 'B00EZJRS8E', 'B015NN1E0S', 'B01637RMYU', 'B000AP2X0A', 'B001B5J2UW', 'B0144NYGJY', 'B00A6TPHZS', 'B003VNCRNQ', 'B0095C08YM', 'B004Q0PT3I', 'B00005AC56', 'B00111DJQ4', 'B00M9GTHS4', 'B000X86ZAS', 'B004YHXXKO', 'B00002SANG', 'B000BZJ0LY', 'B000HCZ8EO', 'B004A7Y0UK', 'B008MR38ZM', 'B000HLT5HQ', 'B015724V9Q', 'B0026PIBK8', 'B015610ZB6', 'B0017M9ZGA', 'B01617VNBK', 'B000I3C36S', '3772397301', 'B00F8LK4SO', 'B002DHGM50', 'B00B1TGHXS', 'B00B766VZE', 'B00E6OPDUS', 'B00F8K9MZQ', 'B0009OH8IO', 'B00E6ONJJU', 'B000NPEYZ4', 'B000067G1X', 'B001ECGT8A', 'B005AAWZ3K']\n",
    "df = df.loc[df['asin'].isin(asin_reviews_sample), :]"
   ]
  },
  {
   "cell_type": "code",
   "execution_count": 24,
   "metadata": {},
   "outputs": [],
   "source": [
    "# Drop duplicates\n",
    "df.drop_duplicates(subset=['asin'], inplace=True)"
   ]
  },
  {
   "cell_type": "code",
   "execution_count": 25,
   "metadata": {},
   "outputs": [
    {
     "data": {
      "text/plain": [
       "90"
      ]
     },
     "execution_count": 25,
     "metadata": {},
     "output_type": "execute_result"
    }
   ],
   "source": [
    "# Load data to db\n",
    "server = client.get_secret('db-server').value\n",
    "database = client.get_secret('database').value\n",
    "username = client.get_secret('db-username').value\n",
    "password = client.get_secret('db-password').value\n",
    "driver = '{ODBC Driver 17 for SQL Server}'\n",
    "table = 'metadata_test'\n",
    "\n",
    "# create the connection string\n",
    "params = urllib.parse.quote_plus(\n",
    "    f'DRIVER={driver};SERVER={server};DATABASE={database};UID={username};PWD={password}')\n",
    "\n",
    "engine = create_engine(f'mssql+pyodbc:///?odbc_connect={params}')\n",
    "\n",
    "df.to_sql(f'{table}', con=engine, if_exists='append', index=False)"
   ]
  }
 ],
 "metadata": {
  "kernelspec": {
   "display_name": "azure_download",
   "language": "python",
   "name": "python3"
  },
  "language_info": {
   "codemirror_mode": {
    "name": "ipython",
    "version": 3
   },
   "file_extension": ".py",
   "mimetype": "text/x-python",
   "name": "python",
   "nbconvert_exporter": "python",
   "pygments_lexer": "ipython3",
   "version": "3.11.4"
  },
  "orig_nbformat": 4
 },
 "nbformat": 4,
 "nbformat_minor": 2
}
