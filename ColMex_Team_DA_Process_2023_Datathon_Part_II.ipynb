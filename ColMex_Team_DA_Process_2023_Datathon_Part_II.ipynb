{
 "cells": [
  {
   "cell_type": "markdown",
   "id": "7ae59697",
   "metadata": {},
   "source": [
    "<p style='text-align: right;'><i>August 1st - 4th, 2023 </i> </p>"
   ]
  },
  {
   "cell_type": "markdown",
   "id": "9ad4586e",
   "metadata": {},
   "source": [
    "<h1 style=\"background-color:orange;\"></h1>"
   ]
  },
  {
   "cell_type": "markdown",
   "id": "c8ca201e",
   "metadata": {},
   "source": [
    "<h1 style='text-align: center;'> ColMex Team Datathon 2023 </h1>\n",
    "\n",
    "<h3 style='text-align: center;'> <i>PART II: Music Category Selected </i> </h3>\n",
    "\n",
    "<h5 style='text-align: center;'> <i>Our data journey</i> </h5>\n"
   ]
  },
  {
   "cell_type": "markdown",
   "id": "8f9cd407",
   "metadata": {},
   "source": [
    "<h1 style=\"background-color:orange;\"></h1>"
   ]
  },
  {
   "cell_type": "markdown",
   "id": "eaf60a7b",
   "metadata": {},
   "source": [
    "<div style=\"background-color:LightGray;\"><p style='text-align: center;'><align = center>Participants: <i>Jose Niño, Eduardo Avelar, Andres Ruiz, Rodrigo Quezada </i></p></div>  "
   ]
  },
  {
   "cell_type": "markdown",
   "id": "e9ac0037",
   "metadata": {},
   "source": [
    "***"
   ]
  },
  {
   "cell_type": "markdown",
   "id": "378fc274",
   "metadata": {},
   "source": [
    " ### Imports and initial data set pull\n",
    "\n",
    "> Getting started"
   ]
  },
  {
   "cell_type": "code",
   "execution_count": 1,
   "id": "58852022",
   "metadata": {},
   "outputs": [],
   "source": [
    "import numpy as np\n",
    "import pandas as pd\n",
    "import matplotlib.pyplot as plt\n",
    "import seaborn as sns\n",
    "import pyarrow"
   ]
  },
  {
   "cell_type": "code",
   "execution_count": 2,
   "id": "fefa6bc9",
   "metadata": {},
   "outputs": [],
   "source": [
    "# Acronym for the Streaming Data Set is smds\n",
    "\n",
    "datathon_music_8323_file = \"/Users/dslab/Downloads/stream_data_music_70223.parquet\"\n",
    "smds = pd.read_parquet(datathon_music_8323_file, engine='pyarrow')"
   ]
  },
  {
   "cell_type": "code",
   "execution_count": 3,
   "id": "0c5063f0",
   "metadata": {},
   "outputs": [],
   "source": [
    "# Acronym for the Batch Music Batch Data Set is bmds\n",
    "\n",
    "datathon_music_batch_8323_file = \"/Users/dslab/Downloads/batch_data_music_all.parquet\"\n",
    "bmds = pd.read_parquet(datathon_music_batch_8323_file, engine='pyarrow')"
   ]
  },
  {
   "cell_type": "markdown",
   "id": "0f538c9b",
   "metadata": {},
   "source": [
    "### EDA / Data Profiling\n",
    "\n",
    "<br/>\n",
    "\n",
    "> 1. Dimension shape\n",
    "\n",
    "> 2. Check head and tail \n",
    "\n",
    "> 3. Review data types, column names, and identify missing data\n",
    "\n",
    "> 4. Determine overall data quality\n"
   ]
  },
  {
   "cell_type": "code",
   "execution_count": 4,
   "id": "478fcdd9",
   "metadata": {},
   "outputs": [
    {
     "data": {
      "text/plain": [
       "(33924, 11)"
      ]
     },
     "execution_count": 4,
     "metadata": {},
     "output_type": "execute_result"
    }
   ],
   "source": [
    "# Understand scope of sample data set for reviews\n",
    "\n",
    "smds.shape"
   ]
  },
  {
   "cell_type": "code",
   "execution_count": 5,
   "id": "d78fc283",
   "metadata": {},
   "outputs": [
    {
     "data": {
      "text/plain": [
       "(291631, 11)"
      ]
     },
     "execution_count": 5,
     "metadata": {},
     "output_type": "execute_result"
    }
   ],
   "source": [
    "# Understand scope of sample data set for metadata\n",
    "\n",
    "bmds.shape"
   ]
  },
  {
   "cell_type": "code",
   "execution_count": 6,
   "id": "8f36f797",
   "metadata": {},
   "outputs": [
    {
     "data": {
      "text/html": [
       "<div>\n",
       "<style scoped>\n",
       "    .dataframe tbody tr th:only-of-type {\n",
       "        vertical-align: middle;\n",
       "    }\n",
       "\n",
       "    .dataframe tbody tr th {\n",
       "        vertical-align: top;\n",
       "    }\n",
       "\n",
       "    .dataframe thead th {\n",
       "        text-align: right;\n",
       "    }\n",
       "</style>\n",
       "<table border=\"1\" class=\"dataframe\">\n",
       "  <thead>\n",
       "    <tr style=\"text-align: right;\">\n",
       "      <th></th>\n",
       "      <th>asin</th>\n",
       "      <th>overall</th>\n",
       "      <th>reviewText</th>\n",
       "      <th>reviewerID</th>\n",
       "      <th>reviewerName</th>\n",
       "      <th>summary</th>\n",
       "      <th>verified</th>\n",
       "      <th>id</th>\n",
       "      <th>style</th>\n",
       "      <th>vote</th>\n",
       "      <th>image</th>\n",
       "    </tr>\n",
       "  </thead>\n",
       "  <tbody>\n",
       "    <tr>\n",
       "      <th>10</th>\n",
       "      <td>B0002EB5P8</td>\n",
       "      <td>5.0</td>\n",
       "      <td>What a fun way to enjoy music!  It's fun to in...</td>\n",
       "      <td>A33OSMGPGT8HDV</td>\n",
       "      <td>barkej</td>\n",
       "      <td>Great Standards</td>\n",
       "      <td>true</td>\n",
       "      <td>23624</td>\n",
       "      <td>None</td>\n",
       "      <td>2</td>\n",
       "      <td>None</td>\n",
       "    </tr>\n",
       "    <tr>\n",
       "      <th>12</th>\n",
       "      <td>B0002E59IC</td>\n",
       "      <td>4.0</td>\n",
       "      <td>Chose this speaker because it seemed like the ...</td>\n",
       "      <td>A1UDQQU0EPVH8C</td>\n",
       "      <td>wayner-Take-1</td>\n",
       "      <td>Loud and clear</td>\n",
       "      <td>true</td>\n",
       "      <td>23752</td>\n",
       "      <td>None</td>\n",
       "      <td>None</td>\n",
       "      <td>None</td>\n",
       "    </tr>\n",
       "  </tbody>\n",
       "</table>\n",
       "</div>"
      ],
      "text/plain": [
       "          asin overall                                         reviewText  \\\n",
       "10  B0002EB5P8     5.0  What a fun way to enjoy music!  It's fun to in...   \n",
       "12  B0002E59IC     4.0  Chose this speaker because it seemed like the ...   \n",
       "\n",
       "        reviewerID   reviewerName          summary verified     id style  \\\n",
       "10  A33OSMGPGT8HDV         barkej  Great Standards     true  23624  None   \n",
       "12  A1UDQQU0EPVH8C  wayner-Take-1   Loud and clear     true  23752  None   \n",
       "\n",
       "    vote image  \n",
       "10     2  None  \n",
       "12  None  None  "
      ]
     },
     "execution_count": 6,
     "metadata": {},
     "output_type": "execute_result"
    }
   ],
   "source": [
    "# Check initial display on reviews\n",
    "\n",
    "smds.head(2)"
   ]
  },
  {
   "cell_type": "code",
   "execution_count": 7,
   "id": "5a925e42",
   "metadata": {},
   "outputs": [
    {
     "data": {
      "text/html": [
       "<div>\n",
       "<style scoped>\n",
       "    .dataframe tbody tr th:only-of-type {\n",
       "        vertical-align: middle;\n",
       "    }\n",
       "\n",
       "    .dataframe tbody tr th {\n",
       "        vertical-align: top;\n",
       "    }\n",
       "\n",
       "    .dataframe thead th {\n",
       "        text-align: right;\n",
       "    }\n",
       "</style>\n",
       "<table border=\"1\" class=\"dataframe\">\n",
       "  <thead>\n",
       "    <tr style=\"text-align: right;\">\n",
       "      <th></th>\n",
       "      <th>asin</th>\n",
       "      <th>image</th>\n",
       "      <th>overall</th>\n",
       "      <th>reviewText</th>\n",
       "      <th>reviewerID</th>\n",
       "      <th>reviewerName</th>\n",
       "      <th>style</th>\n",
       "      <th>summary</th>\n",
       "      <th>unixReviewTime</th>\n",
       "      <th>verified</th>\n",
       "      <th>vote</th>\n",
       "    </tr>\n",
       "  </thead>\n",
       "  <tbody>\n",
       "    <tr>\n",
       "      <th>0</th>\n",
       "      <td>B00N9330MU</td>\n",
       "      <td>None</td>\n",
       "      <td>4.0</td>\n",
       "      <td>When my &amp; and 5 yr old daughters opened it at ...</td>\n",
       "      <td>A3V0480PVRUZGP</td>\n",
       "      <td>Cluckadoodledoo</td>\n",
       "      <td>None</td>\n",
       "      <td>... yr old daughters opened it at Christmas I ...</td>\n",
       "      <td>1421452800</td>\n",
       "      <td>false</td>\n",
       "      <td>9</td>\n",
       "    </tr>\n",
       "    <tr>\n",
       "      <th>1</th>\n",
       "      <td>B00N9330MU</td>\n",
       "      <td>None</td>\n",
       "      <td>4.0</td>\n",
       "      <td>My daughter loves this machine. The volume is ...</td>\n",
       "      <td>ANM0OAW6DMOSD</td>\n",
       "      <td>Misty Christian</td>\n",
       "      <td>None</td>\n",
       "      <td>Four Stars</td>\n",
       "      <td>1412553600</td>\n",
       "      <td>true</td>\n",
       "      <td>9</td>\n",
       "    </tr>\n",
       "  </tbody>\n",
       "</table>\n",
       "</div>"
      ],
      "text/plain": [
       "         asin image overall  \\\n",
       "0  B00N9330MU  None     4.0   \n",
       "1  B00N9330MU  None     4.0   \n",
       "\n",
       "                                          reviewText      reviewerID  \\\n",
       "0  When my & and 5 yr old daughters opened it at ...  A3V0480PVRUZGP   \n",
       "1  My daughter loves this machine. The volume is ...   ANM0OAW6DMOSD   \n",
       "\n",
       "      reviewerName style                                            summary  \\\n",
       "0  Cluckadoodledoo  None  ... yr old daughters opened it at Christmas I ...   \n",
       "1  Misty Christian  None                                         Four Stars   \n",
       "\n",
       "  unixReviewTime verified vote  \n",
       "0     1421452800    false    9  \n",
       "1     1412553600     true    9  "
      ]
     },
     "execution_count": 7,
     "metadata": {},
     "output_type": "execute_result"
    }
   ],
   "source": [
    "# Check initial display on metadata\n",
    "\n",
    "bmds.head(2)"
   ]
  },
  {
   "cell_type": "code",
   "execution_count": 8,
   "id": "cc84227e",
   "metadata": {},
   "outputs": [
    {
     "name": "stdout",
     "output_type": "stream",
     "text": [
      "<class 'pandas.core.frame.DataFrame'>\n",
      "Int64Index: 33924 entries, 10 to 70221\n",
      "Data columns (total 11 columns):\n",
      " #   Column        Non-Null Count  Dtype \n",
      "---  ------        --------------  ----- \n",
      " 0   asin          33924 non-null  object\n",
      " 1   overall       33924 non-null  object\n",
      " 2   reviewText    33897 non-null  object\n",
      " 3   reviewerID    33924 non-null  object\n",
      " 4   reviewerName  33924 non-null  object\n",
      " 5   summary       33917 non-null  object\n",
      " 6   verified      33924 non-null  object\n",
      " 7   id            33924 non-null  object\n",
      " 8   style         7243 non-null   object\n",
      " 9   vote          4912 non-null   object\n",
      " 10  image         539 non-null    object\n",
      "dtypes: object(11)\n",
      "memory usage: 3.1+ MB\n"
     ]
    }
   ],
   "source": [
    "# Check overall data set information on column names, missing data and data types for reviews\n",
    "\n",
    "smds.info()"
   ]
  },
  {
   "cell_type": "code",
   "execution_count": 9,
   "id": "a55e3f7b",
   "metadata": {},
   "outputs": [
    {
     "name": "stdout",
     "output_type": "stream",
     "text": [
      "<class 'pandas.core.frame.DataFrame'>\n",
      "RangeIndex: 291631 entries, 0 to 291630\n",
      "Data columns (total 11 columns):\n",
      " #   Column          Non-Null Count   Dtype \n",
      "---  ------          --------------   ----- \n",
      " 0   asin            291631 non-null  object\n",
      " 1   image           6842 non-null    object\n",
      " 2   overall         291631 non-null  object\n",
      " 3   reviewText      291440 non-null  object\n",
      " 4   reviewerID      291631 non-null  object\n",
      " 5   reviewerName    291599 non-null  object\n",
      " 6   style           124175 non-null  object\n",
      " 7   summary         291567 non-null  object\n",
      " 8   unixReviewTime  291631 non-null  object\n",
      " 9   verified        291631 non-null  object\n",
      " 10  vote            44582 non-null   object\n",
      "dtypes: object(11)\n",
      "memory usage: 24.5+ MB\n"
     ]
    }
   ],
   "source": [
    "# Check overall data set information on column names, missing data and data types for metadata\n",
    "\n",
    "bmds.info()"
   ]
  },
  {
   "cell_type": "markdown",
   "id": "973d7fa3",
   "metadata": {},
   "source": [
    "#### Checking relationship of asin among the 2 data frames"
   ]
  },
  {
   "cell_type": "code",
   "execution_count": 10,
   "id": "99520f01",
   "metadata": {},
   "outputs": [
    {
     "data": {
      "text/plain": [
       "False    33924\n",
       "Name: asin, dtype: int64"
      ]
     },
     "execution_count": 10,
     "metadata": {},
     "output_type": "execute_result"
    }
   ],
   "source": [
    "# Reviews data set against Metadata data set\n",
    "\n",
    "smds['asin'].isin(bmds['asin']).value_counts()"
   ]
  },
  {
   "cell_type": "code",
   "execution_count": 11,
   "id": "424f6c9e",
   "metadata": {},
   "outputs": [
    {
     "data": {
      "text/plain": [
       "False    291631\n",
       "Name: asin, dtype: int64"
      ]
     },
     "execution_count": 11,
     "metadata": {},
     "output_type": "execute_result"
    }
   ],
   "source": [
    "# Metadata data set against Reviews data set\n",
    "\n",
    "bmds['asin'].isin(smds['asin']).value_counts()"
   ]
  },
  {
   "cell_type": "code",
   "execution_count": 12,
   "id": "ed1c3d35",
   "metadata": {},
   "outputs": [
    {
     "data": {
      "text/html": [
       "<div>\n",
       "<style scoped>\n",
       "    .dataframe tbody tr th:only-of-type {\n",
       "        vertical-align: middle;\n",
       "    }\n",
       "\n",
       "    .dataframe tbody tr th {\n",
       "        vertical-align: top;\n",
       "    }\n",
       "\n",
       "    .dataframe thead th {\n",
       "        text-align: right;\n",
       "    }\n",
       "</style>\n",
       "<table border=\"1\" class=\"dataframe\">\n",
       "  <thead>\n",
       "    <tr style=\"text-align: right;\">\n",
       "      <th></th>\n",
       "      <th>asin</th>\n",
       "      <th>overall</th>\n",
       "      <th>reviewText</th>\n",
       "      <th>reviewerID</th>\n",
       "      <th>reviewerName</th>\n",
       "      <th>summary</th>\n",
       "      <th>verified</th>\n",
       "      <th>id</th>\n",
       "      <th>style</th>\n",
       "      <th>vote</th>\n",
       "      <th>image</th>\n",
       "    </tr>\n",
       "  </thead>\n",
       "  <tbody>\n",
       "    <tr>\n",
       "      <th>count</th>\n",
       "      <td>33924</td>\n",
       "      <td>33924</td>\n",
       "      <td>33897</td>\n",
       "      <td>33924</td>\n",
       "      <td>33924</td>\n",
       "      <td>33917</td>\n",
       "      <td>33924</td>\n",
       "      <td>33924</td>\n",
       "      <td>7243</td>\n",
       "      <td>4912</td>\n",
       "      <td>539</td>\n",
       "    </tr>\n",
       "    <tr>\n",
       "      <th>unique</th>\n",
       "      <td>4830</td>\n",
       "      <td>5</td>\n",
       "      <td>27235</td>\n",
       "      <td>26235</td>\n",
       "      <td>21862</td>\n",
       "      <td>19009</td>\n",
       "      <td>2</td>\n",
       "      <td>33924</td>\n",
       "      <td>986</td>\n",
       "      <td>48</td>\n",
       "      <td>459</td>\n",
       "    </tr>\n",
       "    <tr>\n",
       "      <th>top</th>\n",
       "      <td>B0002F742K</td>\n",
       "      <td>5.0</td>\n",
       "      <td>Great</td>\n",
       "      <td>A2NYK9KWFMJV4Y</td>\n",
       "      <td>Amazon Customer</td>\n",
       "      <td>Five Stars</td>\n",
       "      <td>true</td>\n",
       "      <td>23624</td>\n",
       "      <td>{\"Color:\":\" Black\"}</td>\n",
       "      <td>2</td>\n",
       "      <td>[\"https://images-na.ssl-images-amazon.com/imag...</td>\n",
       "    </tr>\n",
       "    <tr>\n",
       "      <th>freq</th>\n",
       "      <td>20</td>\n",
       "      <td>22670</td>\n",
       "      <td>76</td>\n",
       "      <td>78</td>\n",
       "      <td>2358</td>\n",
       "      <td>6885</td>\n",
       "      <td>28893</td>\n",
       "      <td>1</td>\n",
       "      <td>1082</td>\n",
       "      <td>1919</td>\n",
       "      <td>4</td>\n",
       "    </tr>\n",
       "  </tbody>\n",
       "</table>\n",
       "</div>"
      ],
      "text/plain": [
       "              asin overall reviewText      reviewerID     reviewerName  \\\n",
       "count        33924   33924      33897           33924            33924   \n",
       "unique        4830       5      27235           26235            21862   \n",
       "top     B0002F742K     5.0      Great  A2NYK9KWFMJV4Y  Amazon Customer   \n",
       "freq            20   22670         76              78             2358   \n",
       "\n",
       "           summary verified     id                style  vote  \\\n",
       "count        33917    33924  33924                 7243  4912   \n",
       "unique       19009        2  33924                  986    48   \n",
       "top     Five Stars     true  23624  {\"Color:\":\" Black\"}     2   \n",
       "freq          6885    28893      1                 1082  1919   \n",
       "\n",
       "                                                    image  \n",
       "count                                                 539  \n",
       "unique                                                459  \n",
       "top     [\"https://images-na.ssl-images-amazon.com/imag...  \n",
       "freq                                                    4  "
      ]
     },
     "execution_count": 12,
     "metadata": {},
     "output_type": "execute_result"
    }
   ],
   "source": [
    "smds.describe()"
   ]
  },
  {
   "cell_type": "code",
   "execution_count": 13,
   "id": "1d3358e2",
   "metadata": {},
   "outputs": [
    {
     "data": {
      "text/html": [
       "<div>\n",
       "<style scoped>\n",
       "    .dataframe tbody tr th:only-of-type {\n",
       "        vertical-align: middle;\n",
       "    }\n",
       "\n",
       "    .dataframe tbody tr th {\n",
       "        vertical-align: top;\n",
       "    }\n",
       "\n",
       "    .dataframe thead th {\n",
       "        text-align: right;\n",
       "    }\n",
       "</style>\n",
       "<table border=\"1\" class=\"dataframe\">\n",
       "  <thead>\n",
       "    <tr style=\"text-align: right;\">\n",
       "      <th></th>\n",
       "      <th>asin</th>\n",
       "      <th>image</th>\n",
       "      <th>overall</th>\n",
       "      <th>reviewText</th>\n",
       "      <th>reviewerID</th>\n",
       "      <th>reviewerName</th>\n",
       "      <th>style</th>\n",
       "      <th>summary</th>\n",
       "      <th>unixReviewTime</th>\n",
       "      <th>verified</th>\n",
       "      <th>vote</th>\n",
       "    </tr>\n",
       "  </thead>\n",
       "  <tbody>\n",
       "    <tr>\n",
       "      <th>count</th>\n",
       "      <td>291631</td>\n",
       "      <td>6842</td>\n",
       "      <td>291631</td>\n",
       "      <td>291440</td>\n",
       "      <td>291631</td>\n",
       "      <td>291599</td>\n",
       "      <td>124175</td>\n",
       "      <td>291567</td>\n",
       "      <td>291631</td>\n",
       "      <td>291631</td>\n",
       "      <td>44582</td>\n",
       "    </tr>\n",
       "    <tr>\n",
       "      <th>unique</th>\n",
       "      <td>30085</td>\n",
       "      <td>6718</td>\n",
       "      <td>5</td>\n",
       "      <td>266276</td>\n",
       "      <td>245074</td>\n",
       "      <td>176500</td>\n",
       "      <td>5285</td>\n",
       "      <td>168548</td>\n",
       "      <td>4659</td>\n",
       "      <td>2</td>\n",
       "      <td>218</td>\n",
       "    </tr>\n",
       "    <tr>\n",
       "      <th>top</th>\n",
       "      <td>B000ULAP4U</td>\n",
       "      <td>[\"https://images-na.ssl-images-amazon.com/imag...</td>\n",
       "      <td>5.0</td>\n",
       "      <td>good</td>\n",
       "      <td>A2NYK9KWFMJV4Y</td>\n",
       "      <td>Amazon Customer</td>\n",
       "      <td>{\"Color:\":\" Black\"}</td>\n",
       "      <td>Five Stars</td>\n",
       "      <td>1456790400</td>\n",
       "      <td>true</td>\n",
       "      <td>2</td>\n",
       "    </tr>\n",
       "    <tr>\n",
       "      <th>freq</th>\n",
       "      <td>4243</td>\n",
       "      <td>2</td>\n",
       "      <td>186646</td>\n",
       "      <td>575</td>\n",
       "      <td>82</td>\n",
       "      <td>24423</td>\n",
       "      <td>11587</td>\n",
       "      <td>53732</td>\n",
       "      <td>436</td>\n",
       "      <td>258947</td>\n",
       "      <td>16640</td>\n",
       "    </tr>\n",
       "  </tbody>\n",
       "</table>\n",
       "</div>"
      ],
      "text/plain": [
       "              asin                                              image overall  \\\n",
       "count       291631                                               6842  291631   \n",
       "unique       30085                                               6718       5   \n",
       "top     B000ULAP4U  [\"https://images-na.ssl-images-amazon.com/imag...     5.0   \n",
       "freq          4243                                                  2  186646   \n",
       "\n",
       "       reviewText      reviewerID     reviewerName                style  \\\n",
       "count      291440          291631           291599               124175   \n",
       "unique     266276          245074           176500                 5285   \n",
       "top          good  A2NYK9KWFMJV4Y  Amazon Customer  {\"Color:\":\" Black\"}   \n",
       "freq          575              82            24423                11587   \n",
       "\n",
       "           summary unixReviewTime verified   vote  \n",
       "count       291567         291631   291631  44582  \n",
       "unique      168548           4659        2    218  \n",
       "top     Five Stars     1456790400     true      2  \n",
       "freq         53732            436   258947  16640  "
      ]
     },
     "execution_count": 13,
     "metadata": {},
     "output_type": "execute_result"
    }
   ],
   "source": [
    "bmds.describe()"
   ]
  },
  {
   "cell_type": "markdown",
   "id": "41f62fe5",
   "metadata": {},
   "source": [
    "## Initial prep work prior to EDA\n",
    "\n",
    "> Rename overall column to score as if we decide on predictive ML this will be the Target Variable\n",
    "\n",
    "> Drop the columns that are not providing enough information gain\n",
    "\n",
    "> Change score column data type to int64\n",
    "\n",
    "> Change unixReviewTime column data type to datetime64[ns] to make it more human readable friendly\n",
    "\n",
    "> Change the unixReviewTime column name timestamp now that it has the friendly display\n",
    "\n",
    "> Sort by timestamp and reset index to match the new order\n",
    "\n",
    "> Add feature engineering for dates as will be helpful for the data analysis phase\n",
    "\n",
    "> Convert date column from object to date data type M8[ns]\n",
    "\n",
    "> Final check to confirm the null values left are unavoidable and thus keeping those"
   ]
  },
  {
   "cell_type": "code",
   "execution_count": 14,
   "id": "0cc680bf",
   "metadata": {},
   "outputs": [
    {
     "data": {
      "text/html": [
       "<div>\n",
       "<style scoped>\n",
       "    .dataframe tbody tr th:only-of-type {\n",
       "        vertical-align: middle;\n",
       "    }\n",
       "\n",
       "    .dataframe tbody tr th {\n",
       "        vertical-align: top;\n",
       "    }\n",
       "\n",
       "    .dataframe thead th {\n",
       "        text-align: right;\n",
       "    }\n",
       "</style>\n",
       "<table border=\"1\" class=\"dataframe\">\n",
       "  <thead>\n",
       "    <tr style=\"text-align: right;\">\n",
       "      <th></th>\n",
       "      <th>asin</th>\n",
       "      <th>score</th>\n",
       "      <th>reviewText</th>\n",
       "      <th>reviewerID</th>\n",
       "      <th>reviewerName</th>\n",
       "      <th>summary</th>\n",
       "      <th>verified</th>\n",
       "      <th>id</th>\n",
       "      <th>style</th>\n",
       "      <th>vote</th>\n",
       "      <th>image</th>\n",
       "    </tr>\n",
       "  </thead>\n",
       "  <tbody>\n",
       "    <tr>\n",
       "      <th>10</th>\n",
       "      <td>B0002EB5P8</td>\n",
       "      <td>5.0</td>\n",
       "      <td>What a fun way to enjoy music!  It's fun to in...</td>\n",
       "      <td>A33OSMGPGT8HDV</td>\n",
       "      <td>barkej</td>\n",
       "      <td>Great Standards</td>\n",
       "      <td>true</td>\n",
       "      <td>23624</td>\n",
       "      <td>None</td>\n",
       "      <td>2</td>\n",
       "      <td>None</td>\n",
       "    </tr>\n",
       "  </tbody>\n",
       "</table>\n",
       "</div>"
      ],
      "text/plain": [
       "          asin score                                         reviewText  \\\n",
       "10  B0002EB5P8   5.0  What a fun way to enjoy music!  It's fun to in...   \n",
       "\n",
       "        reviewerID reviewerName          summary verified     id style vote  \\\n",
       "10  A33OSMGPGT8HDV       barkej  Great Standards     true  23624  None    2   \n",
       "\n",
       "   image  \n",
       "10  None  "
      ]
     },
     "execution_count": 14,
     "metadata": {},
     "output_type": "execute_result"
    }
   ],
   "source": [
    "# Changing the column name at current 1% scope Review Data Set\n",
    "\n",
    "smds.rename(columns = {'overall':'score'}, inplace = True)\n",
    "smds.head(1)"
   ]
  },
  {
   "cell_type": "code",
   "execution_count": 15,
   "id": "4d1f77e0",
   "metadata": {},
   "outputs": [
    {
     "data": {
      "text/html": [
       "<div>\n",
       "<style scoped>\n",
       "    .dataframe tbody tr th:only-of-type {\n",
       "        vertical-align: middle;\n",
       "    }\n",
       "\n",
       "    .dataframe tbody tr th {\n",
       "        vertical-align: top;\n",
       "    }\n",
       "\n",
       "    .dataframe thead th {\n",
       "        text-align: right;\n",
       "    }\n",
       "</style>\n",
       "<table border=\"1\" class=\"dataframe\">\n",
       "  <thead>\n",
       "    <tr style=\"text-align: right;\">\n",
       "      <th></th>\n",
       "      <th>asin</th>\n",
       "      <th>image</th>\n",
       "      <th>score</th>\n",
       "      <th>reviewText</th>\n",
       "      <th>reviewerID</th>\n",
       "      <th>reviewerName</th>\n",
       "      <th>style</th>\n",
       "      <th>summary</th>\n",
       "      <th>unixReviewTime</th>\n",
       "      <th>verified</th>\n",
       "      <th>vote</th>\n",
       "    </tr>\n",
       "  </thead>\n",
       "  <tbody>\n",
       "    <tr>\n",
       "      <th>0</th>\n",
       "      <td>B00N9330MU</td>\n",
       "      <td>None</td>\n",
       "      <td>4.0</td>\n",
       "      <td>When my &amp; and 5 yr old daughters opened it at ...</td>\n",
       "      <td>A3V0480PVRUZGP</td>\n",
       "      <td>Cluckadoodledoo</td>\n",
       "      <td>None</td>\n",
       "      <td>... yr old daughters opened it at Christmas I ...</td>\n",
       "      <td>1421452800</td>\n",
       "      <td>false</td>\n",
       "      <td>9</td>\n",
       "    </tr>\n",
       "  </tbody>\n",
       "</table>\n",
       "</div>"
      ],
      "text/plain": [
       "         asin image score                                         reviewText  \\\n",
       "0  B00N9330MU  None   4.0  When my & and 5 yr old daughters opened it at ...   \n",
       "\n",
       "       reviewerID     reviewerName style  \\\n",
       "0  A3V0480PVRUZGP  Cluckadoodledoo  None   \n",
       "\n",
       "                                             summary unixReviewTime verified  \\\n",
       "0  ... yr old daughters opened it at Christmas I ...     1421452800    false   \n",
       "\n",
       "  vote  \n",
       "0    9  "
      ]
     },
     "execution_count": 15,
     "metadata": {},
     "output_type": "execute_result"
    }
   ],
   "source": [
    "# Changing the column name at current 1% scope Review Data Set\n",
    "\n",
    "bmds.rename(columns = {'overall':'score'}, inplace = True)\n",
    "bmds.head(1)"
   ]
  },
  {
   "cell_type": "code",
   "execution_count": 16,
   "id": "b1903815",
   "metadata": {},
   "outputs": [
    {
     "data": {
      "text/html": [
       "<div>\n",
       "<style scoped>\n",
       "    .dataframe tbody tr th:only-of-type {\n",
       "        vertical-align: middle;\n",
       "    }\n",
       "\n",
       "    .dataframe tbody tr th {\n",
       "        vertical-align: top;\n",
       "    }\n",
       "\n",
       "    .dataframe thead th {\n",
       "        text-align: right;\n",
       "    }\n",
       "</style>\n",
       "<table border=\"1\" class=\"dataframe\">\n",
       "  <thead>\n",
       "    <tr style=\"text-align: right;\">\n",
       "      <th></th>\n",
       "      <th>asin</th>\n",
       "      <th>score</th>\n",
       "      <th>reviewText</th>\n",
       "      <th>reviewerID</th>\n",
       "      <th>summary</th>\n",
       "      <th>verified</th>\n",
       "    </tr>\n",
       "  </thead>\n",
       "  <tbody>\n",
       "    <tr>\n",
       "      <th>10</th>\n",
       "      <td>B0002EB5P8</td>\n",
       "      <td>5.0</td>\n",
       "      <td>What a fun way to enjoy music!  It's fun to in...</td>\n",
       "      <td>A33OSMGPGT8HDV</td>\n",
       "      <td>Great Standards</td>\n",
       "      <td>true</td>\n",
       "    </tr>\n",
       "  </tbody>\n",
       "</table>\n",
       "</div>"
      ],
      "text/plain": [
       "          asin score                                         reviewText  \\\n",
       "10  B0002EB5P8   5.0  What a fun way to enjoy music!  It's fun to in...   \n",
       "\n",
       "        reviewerID          summary verified  \n",
       "10  A33OSMGPGT8HDV  Great Standards     true  "
      ]
     },
     "execution_count": 16,
     "metadata": {},
     "output_type": "execute_result"
    }
   ],
   "source": [
    "# Remove columns that are not needed\n",
    "\n",
    "smds.drop(['style','vote','image', 'reviewerName', 'id'], axis = 1, inplace = True)\n",
    "smds.head(1)"
   ]
  },
  {
   "cell_type": "code",
   "execution_count": 17,
   "id": "ceed46ca",
   "metadata": {},
   "outputs": [
    {
     "data": {
      "text/html": [
       "<div>\n",
       "<style scoped>\n",
       "    .dataframe tbody tr th:only-of-type {\n",
       "        vertical-align: middle;\n",
       "    }\n",
       "\n",
       "    .dataframe tbody tr th {\n",
       "        vertical-align: top;\n",
       "    }\n",
       "\n",
       "    .dataframe thead th {\n",
       "        text-align: right;\n",
       "    }\n",
       "</style>\n",
       "<table border=\"1\" class=\"dataframe\">\n",
       "  <thead>\n",
       "    <tr style=\"text-align: right;\">\n",
       "      <th></th>\n",
       "      <th>asin</th>\n",
       "      <th>score</th>\n",
       "      <th>reviewText</th>\n",
       "      <th>reviewerID</th>\n",
       "      <th>summary</th>\n",
       "      <th>unixReviewTime</th>\n",
       "      <th>verified</th>\n",
       "    </tr>\n",
       "  </thead>\n",
       "  <tbody>\n",
       "    <tr>\n",
       "      <th>0</th>\n",
       "      <td>B00N9330MU</td>\n",
       "      <td>4.0</td>\n",
       "      <td>When my &amp; and 5 yr old daughters opened it at ...</td>\n",
       "      <td>A3V0480PVRUZGP</td>\n",
       "      <td>... yr old daughters opened it at Christmas I ...</td>\n",
       "      <td>1421452800</td>\n",
       "      <td>false</td>\n",
       "    </tr>\n",
       "  </tbody>\n",
       "</table>\n",
       "</div>"
      ],
      "text/plain": [
       "         asin score                                         reviewText  \\\n",
       "0  B00N9330MU   4.0  When my & and 5 yr old daughters opened it at ...   \n",
       "\n",
       "       reviewerID                                            summary  \\\n",
       "0  A3V0480PVRUZGP  ... yr old daughters opened it at Christmas I ...   \n",
       "\n",
       "  unixReviewTime verified  \n",
       "0     1421452800    false  "
      ]
     },
     "execution_count": 17,
     "metadata": {},
     "output_type": "execute_result"
    }
   ],
   "source": [
    "# Remove columns that are not needed\n",
    "\n",
    "bmds.drop(['style','vote','image', 'reviewerName'], axis = 1, inplace = True)\n",
    "bmds.head(1)"
   ]
  },
  {
   "cell_type": "code",
   "execution_count": 18,
   "id": "a626c3fd",
   "metadata": {},
   "outputs": [
    {
     "data": {
      "text/plain": [
       "asin          object\n",
       "score          int64\n",
       "reviewText    object\n",
       "reviewerID    object\n",
       "summary       object\n",
       "verified      object\n",
       "dtype: object"
      ]
     },
     "execution_count": 18,
     "metadata": {},
     "output_type": "execute_result"
    }
   ],
   "source": [
    "# Change score to int64 data type\n",
    "\n",
    "smds['score'].replace(['1.0', '2.0', '3.0', '4.0', '5.0'], [1, 2, 3, 4, 5], inplace = True)\n",
    "smds.dtypes"
   ]
  },
  {
   "cell_type": "code",
   "execution_count": 19,
   "id": "bba90f81",
   "metadata": {},
   "outputs": [
    {
     "data": {
      "text/plain": [
       "asin              object\n",
       "score              int64\n",
       "reviewText        object\n",
       "reviewerID        object\n",
       "summary           object\n",
       "unixReviewTime    object\n",
       "verified          object\n",
       "dtype: object"
      ]
     },
     "execution_count": 19,
     "metadata": {},
     "output_type": "execute_result"
    }
   ],
   "source": [
    "# Change score to int64 data type\n",
    "\n",
    "bmds['score'].replace(['1.0', '2.0', '3.0', '4.0', '5.0'], [1, 2, 3, 4, 5], inplace = True)\n",
    "bmds.dtypes"
   ]
  },
  {
   "cell_type": "code",
   "execution_count": 20,
   "id": "04ef1a32",
   "metadata": {},
   "outputs": [
    {
     "data": {
      "text/plain": [
       "asin                      object\n",
       "score                      int64\n",
       "reviewText                object\n",
       "reviewerID                object\n",
       "summary                   object\n",
       "unixReviewTime    datetime64[ns]\n",
       "verified                  object\n",
       "dtype: object"
      ]
     },
     "execution_count": 20,
     "metadata": {},
     "output_type": "execute_result"
    }
   ],
   "source": [
    "bmds['unixReviewTime'] = pd.to_datetime(bmds['unixReviewTime'], unit='s')\n",
    "bmds.dtypes"
   ]
  },
  {
   "cell_type": "code",
   "execution_count": 21,
   "id": "caf82e02",
   "metadata": {},
   "outputs": [
    {
     "data": {
      "text/html": [
       "<div>\n",
       "<style scoped>\n",
       "    .dataframe tbody tr th:only-of-type {\n",
       "        vertical-align: middle;\n",
       "    }\n",
       "\n",
       "    .dataframe tbody tr th {\n",
       "        vertical-align: top;\n",
       "    }\n",
       "\n",
       "    .dataframe thead th {\n",
       "        text-align: right;\n",
       "    }\n",
       "</style>\n",
       "<table border=\"1\" class=\"dataframe\">\n",
       "  <thead>\n",
       "    <tr style=\"text-align: right;\">\n",
       "      <th></th>\n",
       "      <th>asin</th>\n",
       "      <th>score</th>\n",
       "      <th>reviewText</th>\n",
       "      <th>reviewerID</th>\n",
       "      <th>summary</th>\n",
       "      <th>timestamp</th>\n",
       "      <th>verified</th>\n",
       "    </tr>\n",
       "  </thead>\n",
       "  <tbody>\n",
       "    <tr>\n",
       "      <th>0</th>\n",
       "      <td>B00N9330MU</td>\n",
       "      <td>4</td>\n",
       "      <td>When my &amp; and 5 yr old daughters opened it at ...</td>\n",
       "      <td>A3V0480PVRUZGP</td>\n",
       "      <td>... yr old daughters opened it at Christmas I ...</td>\n",
       "      <td>2015-01-17</td>\n",
       "      <td>false</td>\n",
       "    </tr>\n",
       "  </tbody>\n",
       "</table>\n",
       "</div>"
      ],
      "text/plain": [
       "         asin  score                                         reviewText  \\\n",
       "0  B00N9330MU      4  When my & and 5 yr old daughters opened it at ...   \n",
       "\n",
       "       reviewerID                                            summary  \\\n",
       "0  A3V0480PVRUZGP  ... yr old daughters opened it at Christmas I ...   \n",
       "\n",
       "   timestamp verified  \n",
       "0 2015-01-17    false  "
      ]
     },
     "execution_count": 21,
     "metadata": {},
     "output_type": "execute_result"
    }
   ],
   "source": [
    "# Now change the name to timestamp\n",
    "\n",
    "bmds.rename(columns = {'unixReviewTime':'timestamp'}, inplace = True)\n",
    "bmds.head(1)"
   ]
  },
  {
   "cell_type": "code",
   "execution_count": 22,
   "id": "3605eb94",
   "metadata": {},
   "outputs": [
    {
     "data": {
      "text/html": [
       "<div>\n",
       "<style scoped>\n",
       "    .dataframe tbody tr th:only-of-type {\n",
       "        vertical-align: middle;\n",
       "    }\n",
       "\n",
       "    .dataframe tbody tr th {\n",
       "        vertical-align: top;\n",
       "    }\n",
       "\n",
       "    .dataframe thead th {\n",
       "        text-align: right;\n",
       "    }\n",
       "</style>\n",
       "<table border=\"1\" class=\"dataframe\">\n",
       "  <thead>\n",
       "    <tr style=\"text-align: right;\">\n",
       "      <th></th>\n",
       "      <th>asin</th>\n",
       "      <th>score</th>\n",
       "      <th>reviewText</th>\n",
       "      <th>reviewerID</th>\n",
       "      <th>summary</th>\n",
       "      <th>timestamp</th>\n",
       "      <th>verified</th>\n",
       "    </tr>\n",
       "  </thead>\n",
       "  <tbody>\n",
       "    <tr>\n",
       "      <th>0</th>\n",
       "      <td>0793587395</td>\n",
       "      <td>4</td>\n",
       "      <td>I bought this book about a week ago and i lear...</td>\n",
       "      <td>AU5M0ZJJOW2JW</td>\n",
       "      <td>A amazing guitar tab book</td>\n",
       "      <td>2000-04-05</td>\n",
       "      <td>false</td>\n",
       "    </tr>\n",
       "    <tr>\n",
       "      <th>1</th>\n",
       "      <td>0879306211</td>\n",
       "      <td>5</td>\n",
       "      <td>Mr. Smith was able to write a story of the evo...</td>\n",
       "      <td>A3ENXEQFPNMJ86</td>\n",
       "      <td>The only unbiased book that tells the whole story</td>\n",
       "      <td>2000-10-11</td>\n",
       "      <td>false</td>\n",
       "    </tr>\n",
       "    <tr>\n",
       "      <th>2</th>\n",
       "      <td>B00005K9DV</td>\n",
       "      <td>5</td>\n",
       "      <td>Amazing keyboard from Yamaha. I have always wa...</td>\n",
       "      <td>A2OTFCTT0QMJZV</td>\n",
       "      <td>WOW! I can play!!!</td>\n",
       "      <td>2001-08-16</td>\n",
       "      <td>false</td>\n",
       "    </tr>\n",
       "    <tr>\n",
       "      <th>3</th>\n",
       "      <td>B00005K9DV</td>\n",
       "      <td>5</td>\n",
       "      <td>The EZ30 is without a doubt the best keyboard ...</td>\n",
       "      <td>AW0NAOOVASH53</td>\n",
       "      <td>A Beginners Dream Come True!</td>\n",
       "      <td>2002-03-01</td>\n",
       "      <td>true</td>\n",
       "    </tr>\n",
       "    <tr>\n",
       "      <th>4</th>\n",
       "      <td>B000065BP9</td>\n",
       "      <td>5</td>\n",
       "      <td>These headphones are very good.  The sound is ...</td>\n",
       "      <td>A26F9R9BU88198</td>\n",
       "      <td>Great sound.  Good price.</td>\n",
       "      <td>2002-06-01</td>\n",
       "      <td>false</td>\n",
       "    </tr>\n",
       "  </tbody>\n",
       "</table>\n",
       "</div>"
      ],
      "text/plain": [
       "         asin  score                                         reviewText  \\\n",
       "0  0793587395      4  I bought this book about a week ago and i lear...   \n",
       "1  0879306211      5  Mr. Smith was able to write a story of the evo...   \n",
       "2  B00005K9DV      5  Amazing keyboard from Yamaha. I have always wa...   \n",
       "3  B00005K9DV      5  The EZ30 is without a doubt the best keyboard ...   \n",
       "4  B000065BP9      5  These headphones are very good.  The sound is ...   \n",
       "\n",
       "       reviewerID                                            summary  \\\n",
       "0   AU5M0ZJJOW2JW                          A amazing guitar tab book   \n",
       "1  A3ENXEQFPNMJ86  The only unbiased book that tells the whole story   \n",
       "2  A2OTFCTT0QMJZV                                 WOW! I can play!!!   \n",
       "3   AW0NAOOVASH53                       A Beginners Dream Come True!   \n",
       "4  A26F9R9BU88198                          Great sound.  Good price.   \n",
       "\n",
       "   timestamp verified  \n",
       "0 2000-04-05    false  \n",
       "1 2000-10-11    false  \n",
       "2 2001-08-16    false  \n",
       "3 2002-03-01     true  \n",
       "4 2002-06-01    false  "
      ]
     },
     "execution_count": 22,
     "metadata": {},
     "output_type": "execute_result"
    }
   ],
   "source": [
    "# Sorting data set per time line and reseting index\n",
    "\n",
    "bmds.sort_values(by = ['timestamp'], inplace = True)\n",
    "bmds.reset_index(inplace = True, drop = True)\n",
    "bmds.head()"
   ]
  },
  {
   "cell_type": "code",
   "execution_count": 23,
   "id": "ffe69984",
   "metadata": {},
   "outputs": [
    {
     "data": {
      "text/html": [
       "<div>\n",
       "<style scoped>\n",
       "    .dataframe tbody tr th:only-of-type {\n",
       "        vertical-align: middle;\n",
       "    }\n",
       "\n",
       "    .dataframe tbody tr th {\n",
       "        vertical-align: top;\n",
       "    }\n",
       "\n",
       "    .dataframe thead th {\n",
       "        text-align: right;\n",
       "    }\n",
       "</style>\n",
       "<table border=\"1\" class=\"dataframe\">\n",
       "  <thead>\n",
       "    <tr style=\"text-align: right;\">\n",
       "      <th></th>\n",
       "      <th>asin</th>\n",
       "      <th>score</th>\n",
       "      <th>reviewText</th>\n",
       "      <th>reviewerID</th>\n",
       "      <th>summary</th>\n",
       "      <th>timestamp</th>\n",
       "      <th>verified</th>\n",
       "    </tr>\n",
       "  </thead>\n",
       "  <tbody>\n",
       "    <tr>\n",
       "      <th>291626</th>\n",
       "      <td>B01EWOUFEA</td>\n",
       "      <td>5</td>\n",
       "      <td>Great price for a great product.</td>\n",
       "      <td>A1FQOGLD0LVXYY</td>\n",
       "      <td>Great price.</td>\n",
       "      <td>2018-09-25</td>\n",
       "      <td>true</td>\n",
       "    </tr>\n",
       "    <tr>\n",
       "      <th>291627</th>\n",
       "      <td>B01DMFP1TO</td>\n",
       "      <td>5</td>\n",
       "      <td>A necessity on charcoal smokers.</td>\n",
       "      <td>A34SYC4UTVAK3G</td>\n",
       "      <td>A necessity on charcoal smokers.</td>\n",
       "      <td>2018-09-26</td>\n",
       "      <td>true</td>\n",
       "    </tr>\n",
       "    <tr>\n",
       "      <th>291628</th>\n",
       "      <td>B01HBJ7B3Q</td>\n",
       "      <td>1</td>\n",
       "      <td>Just opened my notebook to work on a Jazz arra...</td>\n",
       "      <td>A1DMBC8UQMNB2D</td>\n",
       "      <td>4 line staff</td>\n",
       "      <td>2018-09-28</td>\n",
       "      <td>true</td>\n",
       "    </tr>\n",
       "    <tr>\n",
       "      <th>291629</th>\n",
       "      <td>B01FXIZ5G2</td>\n",
       "      <td>4</td>\n",
       "      <td>This product is what I would consider average ...</td>\n",
       "      <td>A1NHM0X4I4E23V</td>\n",
       "      <td>Decent quality</td>\n",
       "      <td>2018-09-29</td>\n",
       "      <td>true</td>\n",
       "    </tr>\n",
       "    <tr>\n",
       "      <th>291630</th>\n",
       "      <td>B01FXIZ5G2</td>\n",
       "      <td>1</td>\n",
       "      <td>Cannot change the light color, it won't connec...</td>\n",
       "      <td>A2RN0VV1IWEQ4K</td>\n",
       "      <td>Only flashes red</td>\n",
       "      <td>2018-09-29</td>\n",
       "      <td>true</td>\n",
       "    </tr>\n",
       "  </tbody>\n",
       "</table>\n",
       "</div>"
      ],
      "text/plain": [
       "              asin  score                                         reviewText  \\\n",
       "291626  B01EWOUFEA      5                   Great price for a great product.   \n",
       "291627  B01DMFP1TO      5                   A necessity on charcoal smokers.   \n",
       "291628  B01HBJ7B3Q      1  Just opened my notebook to work on a Jazz arra...   \n",
       "291629  B01FXIZ5G2      4  This product is what I would consider average ...   \n",
       "291630  B01FXIZ5G2      1  Cannot change the light color, it won't connec...   \n",
       "\n",
       "            reviewerID                           summary  timestamp verified  \n",
       "291626  A1FQOGLD0LVXYY                      Great price. 2018-09-25     true  \n",
       "291627  A34SYC4UTVAK3G  A necessity on charcoal smokers. 2018-09-26     true  \n",
       "291628  A1DMBC8UQMNB2D                      4 line staff 2018-09-28     true  \n",
       "291629  A1NHM0X4I4E23V                    Decent quality 2018-09-29     true  \n",
       "291630  A2RN0VV1IWEQ4K                  Only flashes red 2018-09-29     true  "
      ]
     },
     "execution_count": 23,
     "metadata": {},
     "output_type": "execute_result"
    }
   ],
   "source": [
    "# Checking sorting at the end of the data set as well\n",
    "\n",
    "bmds.tail()"
   ]
  },
  {
   "cell_type": "code",
   "execution_count": 24,
   "id": "91deb5e5",
   "metadata": {},
   "outputs": [
    {
     "data": {
      "text/html": [
       "<div>\n",
       "<style scoped>\n",
       "    .dataframe tbody tr th:only-of-type {\n",
       "        vertical-align: middle;\n",
       "    }\n",
       "\n",
       "    .dataframe tbody tr th {\n",
       "        vertical-align: top;\n",
       "    }\n",
       "\n",
       "    .dataframe thead th {\n",
       "        text-align: right;\n",
       "    }\n",
       "</style>\n",
       "<table border=\"1\" class=\"dataframe\">\n",
       "  <thead>\n",
       "    <tr style=\"text-align: right;\">\n",
       "      <th></th>\n",
       "      <th>asin</th>\n",
       "      <th>score</th>\n",
       "      <th>reviewText</th>\n",
       "      <th>reviewerID</th>\n",
       "      <th>summary</th>\n",
       "      <th>timestamp</th>\n",
       "      <th>verified</th>\n",
       "      <th>date</th>\n",
       "      <th>year</th>\n",
       "    </tr>\n",
       "  </thead>\n",
       "  <tbody>\n",
       "    <tr>\n",
       "      <th>0</th>\n",
       "      <td>0793587395</td>\n",
       "      <td>4</td>\n",
       "      <td>I bought this book about a week ago and i lear...</td>\n",
       "      <td>AU5M0ZJJOW2JW</td>\n",
       "      <td>A amazing guitar tab book</td>\n",
       "      <td>2000-04-05</td>\n",
       "      <td>false</td>\n",
       "      <td>2000-04-05</td>\n",
       "      <td>2000</td>\n",
       "    </tr>\n",
       "  </tbody>\n",
       "</table>\n",
       "</div>"
      ],
      "text/plain": [
       "         asin  score                                         reviewText  \\\n",
       "0  0793587395      4  I bought this book about a week ago and i lear...   \n",
       "\n",
       "      reviewerID                    summary  timestamp verified        date  \\\n",
       "0  AU5M0ZJJOW2JW  A amazing guitar tab book 2000-04-05    false  2000-04-05   \n",
       "\n",
       "   year  \n",
       "0  2000  "
      ]
     },
     "execution_count": 24,
     "metadata": {},
     "output_type": "execute_result"
    }
   ],
   "source": [
    "# Some feature engineering for time and date\n",
    "\n",
    "bmds['date'] = pd.to_datetime(bmds['timestamp']).dt.date\n",
    "bmds['year'] = pd.to_datetime(bmds['timestamp']).dt.year\n",
    "bmds.head(1)"
   ]
  },
  {
   "cell_type": "code",
   "execution_count": 25,
   "id": "b92ba646",
   "metadata": {},
   "outputs": [
    {
     "data": {
      "text/plain": [
       "asin                  object\n",
       "score                  int64\n",
       "reviewText            object\n",
       "reviewerID            object\n",
       "summary               object\n",
       "timestamp     datetime64[ns]\n",
       "verified              object\n",
       "date                  object\n",
       "year                   int64\n",
       "dtype: object"
      ]
     },
     "execution_count": 25,
     "metadata": {},
     "output_type": "execute_result"
    }
   ],
   "source": [
    "# Confirm data types\n",
    "\n",
    "bmds.dtypes"
   ]
  },
  {
   "cell_type": "code",
   "execution_count": 26,
   "id": "eb75fc72",
   "metadata": {},
   "outputs": [
    {
     "data": {
      "text/plain": [
       "dtype('<M8[ns]')"
      ]
     },
     "execution_count": 26,
     "metadata": {},
     "output_type": "execute_result"
    }
   ],
   "source": [
    "# Convert date column from object to date\n",
    "\n",
    "bmds['date'] = pd.to_datetime(bmds['date'])\n",
    "bmds['date'].dtypes"
   ]
  },
  {
   "cell_type": "markdown",
   "id": "2550e7b4",
   "metadata": {},
   "source": [
    "\n"
   ]
  },
  {
   "cell_type": "code",
   "execution_count": 27,
   "id": "73ce36e6",
   "metadata": {},
   "outputs": [
    {
     "data": {
      "text/plain": [
       "asin            0\n",
       "score           0\n",
       "reviewText    191\n",
       "reviewerID      0\n",
       "summary        64\n",
       "timestamp       0\n",
       "verified        0\n",
       "date            0\n",
       "year            0\n",
       "dtype: int64"
      ]
     },
     "execution_count": 27,
     "metadata": {},
     "output_type": "execute_result"
    }
   ],
   "source": [
    "# Final confirmation on null values and that they do not interfere with the analyisis\n",
    "\n",
    "bmds.isnull().sum()"
   ]
  },
  {
   "cell_type": "code",
   "execution_count": 28,
   "id": "99859e24",
   "metadata": {},
   "outputs": [
    {
     "data": {
      "text/html": [
       "<div>\n",
       "<style scoped>\n",
       "    .dataframe tbody tr th:only-of-type {\n",
       "        vertical-align: middle;\n",
       "    }\n",
       "\n",
       "    .dataframe tbody tr th {\n",
       "        vertical-align: top;\n",
       "    }\n",
       "\n",
       "    .dataframe thead th {\n",
       "        text-align: right;\n",
       "    }\n",
       "</style>\n",
       "<table border=\"1\" class=\"dataframe\">\n",
       "  <thead>\n",
       "    <tr style=\"text-align: right;\">\n",
       "      <th></th>\n",
       "      <th>asin</th>\n",
       "      <th>score</th>\n",
       "      <th>reviewText</th>\n",
       "      <th>reviewerID</th>\n",
       "      <th>summary</th>\n",
       "      <th>timestamp</th>\n",
       "      <th>verified</th>\n",
       "      <th>date</th>\n",
       "      <th>year</th>\n",
       "    </tr>\n",
       "  </thead>\n",
       "  <tbody>\n",
       "    <tr>\n",
       "      <th>count</th>\n",
       "      <td>291631</td>\n",
       "      <td>291631.000000</td>\n",
       "      <td>291440</td>\n",
       "      <td>291631</td>\n",
       "      <td>291567</td>\n",
       "      <td>291631</td>\n",
       "      <td>291631</td>\n",
       "      <td>291631</td>\n",
       "      <td>291631.000000</td>\n",
       "    </tr>\n",
       "    <tr>\n",
       "      <th>unique</th>\n",
       "      <td>30085</td>\n",
       "      <td>NaN</td>\n",
       "      <td>266276</td>\n",
       "      <td>245074</td>\n",
       "      <td>168548</td>\n",
       "      <td>NaN</td>\n",
       "      <td>2</td>\n",
       "      <td>NaN</td>\n",
       "      <td>NaN</td>\n",
       "    </tr>\n",
       "    <tr>\n",
       "      <th>top</th>\n",
       "      <td>B000ULAP4U</td>\n",
       "      <td>NaN</td>\n",
       "      <td>good</td>\n",
       "      <td>A2NYK9KWFMJV4Y</td>\n",
       "      <td>Five Stars</td>\n",
       "      <td>NaN</td>\n",
       "      <td>true</td>\n",
       "      <td>NaN</td>\n",
       "      <td>NaN</td>\n",
       "    </tr>\n",
       "    <tr>\n",
       "      <th>freq</th>\n",
       "      <td>4243</td>\n",
       "      <td>NaN</td>\n",
       "      <td>575</td>\n",
       "      <td>82</td>\n",
       "      <td>53732</td>\n",
       "      <td>NaN</td>\n",
       "      <td>258947</td>\n",
       "      <td>NaN</td>\n",
       "      <td>NaN</td>\n",
       "    </tr>\n",
       "    <tr>\n",
       "      <th>mean</th>\n",
       "      <td>NaN</td>\n",
       "      <td>4.215149</td>\n",
       "      <td>NaN</td>\n",
       "      <td>NaN</td>\n",
       "      <td>NaN</td>\n",
       "      <td>2015-09-16 19:13:37.826637056</td>\n",
       "      <td>NaN</td>\n",
       "      <td>2015-09-16 19:13:37.826637056</td>\n",
       "      <td>2015.235702</td>\n",
       "    </tr>\n",
       "    <tr>\n",
       "      <th>min</th>\n",
       "      <td>NaN</td>\n",
       "      <td>1.000000</td>\n",
       "      <td>NaN</td>\n",
       "      <td>NaN</td>\n",
       "      <td>NaN</td>\n",
       "      <td>2000-04-05 00:00:00</td>\n",
       "      <td>NaN</td>\n",
       "      <td>2000-04-05 00:00:00</td>\n",
       "      <td>2000.000000</td>\n",
       "    </tr>\n",
       "    <tr>\n",
       "      <th>25%</th>\n",
       "      <td>NaN</td>\n",
       "      <td>4.000000</td>\n",
       "      <td>NaN</td>\n",
       "      <td>NaN</td>\n",
       "      <td>NaN</td>\n",
       "      <td>2014-09-28 00:00:00</td>\n",
       "      <td>NaN</td>\n",
       "      <td>2014-09-28 00:00:00</td>\n",
       "      <td>2014.000000</td>\n",
       "    </tr>\n",
       "    <tr>\n",
       "      <th>50%</th>\n",
       "      <td>NaN</td>\n",
       "      <td>5.000000</td>\n",
       "      <td>NaN</td>\n",
       "      <td>NaN</td>\n",
       "      <td>NaN</td>\n",
       "      <td>2016-02-20 00:00:00</td>\n",
       "      <td>NaN</td>\n",
       "      <td>2016-02-20 00:00:00</td>\n",
       "      <td>2016.000000</td>\n",
       "    </tr>\n",
       "    <tr>\n",
       "      <th>75%</th>\n",
       "      <td>NaN</td>\n",
       "      <td>5.000000</td>\n",
       "      <td>NaN</td>\n",
       "      <td>NaN</td>\n",
       "      <td>NaN</td>\n",
       "      <td>2017-03-07 00:00:00</td>\n",
       "      <td>NaN</td>\n",
       "      <td>2017-03-07 00:00:00</td>\n",
       "      <td>2017.000000</td>\n",
       "    </tr>\n",
       "    <tr>\n",
       "      <th>max</th>\n",
       "      <td>NaN</td>\n",
       "      <td>5.000000</td>\n",
       "      <td>NaN</td>\n",
       "      <td>NaN</td>\n",
       "      <td>NaN</td>\n",
       "      <td>2018-09-29 00:00:00</td>\n",
       "      <td>NaN</td>\n",
       "      <td>2018-09-29 00:00:00</td>\n",
       "      <td>2018.000000</td>\n",
       "    </tr>\n",
       "    <tr>\n",
       "      <th>std</th>\n",
       "      <td>NaN</td>\n",
       "      <td>1.277012</td>\n",
       "      <td>NaN</td>\n",
       "      <td>NaN</td>\n",
       "      <td>NaN</td>\n",
       "      <td>NaN</td>\n",
       "      <td>NaN</td>\n",
       "      <td>NaN</td>\n",
       "      <td>2.119840</td>\n",
       "    </tr>\n",
       "  </tbody>\n",
       "</table>\n",
       "</div>"
      ],
      "text/plain": [
       "              asin          score reviewText      reviewerID     summary  \\\n",
       "count       291631  291631.000000     291440          291631      291567   \n",
       "unique       30085            NaN     266276          245074      168548   \n",
       "top     B000ULAP4U            NaN       good  A2NYK9KWFMJV4Y  Five Stars   \n",
       "freq          4243            NaN        575              82       53732   \n",
       "mean           NaN       4.215149        NaN             NaN         NaN   \n",
       "min            NaN       1.000000        NaN             NaN         NaN   \n",
       "25%            NaN       4.000000        NaN             NaN         NaN   \n",
       "50%            NaN       5.000000        NaN             NaN         NaN   \n",
       "75%            NaN       5.000000        NaN             NaN         NaN   \n",
       "max            NaN       5.000000        NaN             NaN         NaN   \n",
       "std            NaN       1.277012        NaN             NaN         NaN   \n",
       "\n",
       "                            timestamp verified                           date  \\\n",
       "count                          291631   291631                         291631   \n",
       "unique                            NaN        2                            NaN   \n",
       "top                               NaN     true                            NaN   \n",
       "freq                              NaN   258947                            NaN   \n",
       "mean    2015-09-16 19:13:37.826637056      NaN  2015-09-16 19:13:37.826637056   \n",
       "min               2000-04-05 00:00:00      NaN            2000-04-05 00:00:00   \n",
       "25%               2014-09-28 00:00:00      NaN            2014-09-28 00:00:00   \n",
       "50%               2016-02-20 00:00:00      NaN            2016-02-20 00:00:00   \n",
       "75%               2017-03-07 00:00:00      NaN            2017-03-07 00:00:00   \n",
       "max               2018-09-29 00:00:00      NaN            2018-09-29 00:00:00   \n",
       "std                               NaN      NaN                            NaN   \n",
       "\n",
       "                 year  \n",
       "count   291631.000000  \n",
       "unique            NaN  \n",
       "top               NaN  \n",
       "freq              NaN  \n",
       "mean      2015.235702  \n",
       "min       2000.000000  \n",
       "25%       2014.000000  \n",
       "50%       2016.000000  \n",
       "75%       2017.000000  \n",
       "max       2018.000000  \n",
       "std          2.119840  "
      ]
     },
     "execution_count": 28,
     "metadata": {},
     "output_type": "execute_result"
    }
   ],
   "source": [
    "# Final summary statistics of the current 1% scope Review Data Set\n",
    "\n",
    "bmds.describe(include='all', datetime_is_numeric=True)"
   ]
  },
  {
   "cell_type": "code",
   "execution_count": 29,
   "id": "115b8a32",
   "metadata": {},
   "outputs": [
    {
     "name": "stdout",
     "output_type": "stream",
     "text": [
      "Amount of years in this data set is :\n",
      "19\n"
     ]
    }
   ],
   "source": [
    "print(f'Amount of years in this data set is :')\n",
    "print(len(bmds['year'].unique()))"
   ]
  },
  {
   "cell_type": "code",
   "execution_count": 30,
   "id": "d882da51",
   "metadata": {},
   "outputs": [
    {
     "name": "stdout",
     "output_type": "stream",
     "text": [
      "List/array of years in this data set in order:\n",
      "[2000 2001 2002 2003 2004 2005 2006 2007 2008 2009 2010 2011 2012 2013\n",
      " 2014 2015 2016 2017 2018]\n"
     ]
    }
   ],
   "source": [
    "print(f'List/array of years in this data set in order:')\n",
    "print(bmds['year'].unique())"
   ]
  },
  {
   "cell_type": "code",
   "execution_count": 31,
   "id": "53a3d9ab",
   "metadata": {},
   "outputs": [
    {
     "data": {
      "text/html": [
       "<div>\n",
       "<style scoped>\n",
       "    .dataframe tbody tr th:only-of-type {\n",
       "        vertical-align: middle;\n",
       "    }\n",
       "\n",
       "    .dataframe tbody tr th {\n",
       "        vertical-align: top;\n",
       "    }\n",
       "\n",
       "    .dataframe thead th {\n",
       "        text-align: right;\n",
       "    }\n",
       "</style>\n",
       "<table border=\"1\" class=\"dataframe\">\n",
       "  <thead>\n",
       "    <tr style=\"text-align: right;\">\n",
       "      <th></th>\n",
       "      <th>asin</th>\n",
       "      <th>score</th>\n",
       "      <th>reviewText</th>\n",
       "      <th>reviewerID</th>\n",
       "      <th>summary</th>\n",
       "      <th>verified</th>\n",
       "      <th>date</th>\n",
       "      <th>year</th>\n",
       "    </tr>\n",
       "  </thead>\n",
       "  <tbody>\n",
       "    <tr>\n",
       "      <th>0</th>\n",
       "      <td>0793587395</td>\n",
       "      <td>4</td>\n",
       "      <td>I bought this book about a week ago and i lear...</td>\n",
       "      <td>AU5M0ZJJOW2JW</td>\n",
       "      <td>A amazing guitar tab book</td>\n",
       "      <td>false</td>\n",
       "      <td>2000-04-05</td>\n",
       "      <td>2000</td>\n",
       "    </tr>\n",
       "  </tbody>\n",
       "</table>\n",
       "</div>"
      ],
      "text/plain": [
       "         asin  score                                         reviewText  \\\n",
       "0  0793587395      4  I bought this book about a week ago and i lear...   \n",
       "\n",
       "      reviewerID                    summary verified       date  year  \n",
       "0  AU5M0ZJJOW2JW  A amazing guitar tab book    false 2000-04-05  2000  "
      ]
     },
     "execution_count": 31,
     "metadata": {},
     "output_type": "execute_result"
    }
   ],
   "source": [
    "# we can by now drop the timestamp column as date with time is not needed\n",
    "\n",
    "bmds.drop(['timestamp'], axis = 1, inplace = True)\n",
    "bmds.head(1)"
   ]
  },
  {
   "cell_type": "code",
   "execution_count": 32,
   "id": "eee315c1",
   "metadata": {},
   "outputs": [],
   "source": [
    "# we can finally add another feature engineering column for reference for counting called \"cnt\" with a constant\n",
    "\n",
    "#rds['cnt'] = pd.Series([1 for x in range(len(rds.index))])\n",
    "#rds.head()"
   ]
  },
  {
   "cell_type": "markdown",
   "id": "77c5c592",
   "metadata": {},
   "source": [
    "## EDA \n",
    "\n",
    "> Form smaller data sets/subsets for target processing\n",
    "\n",
    "> Work with timelines to display reviews and score behaviors over time\n"
   ]
  },
  {
   "cell_type": "code",
   "execution_count": 33,
   "id": "f8604bc1",
   "metadata": {},
   "outputs": [
    {
     "data": {
      "text/plain": [
       "False    291631\n",
       "Name: asin, dtype: int64"
      ]
     },
     "execution_count": 33,
     "metadata": {},
     "output_type": "execute_result"
    }
   ],
   "source": [
    "# Reviews data set against stream data set\n",
    "\n",
    "bmds['asin'].isin(smds['asin']).value_counts()"
   ]
  },
  {
   "cell_type": "code",
   "execution_count": 34,
   "id": "a00340fd",
   "metadata": {},
   "outputs": [
    {
     "data": {
      "text/plain": [
       "False    33924\n",
       "Name: asin, dtype: int64"
      ]
     },
     "execution_count": 34,
     "metadata": {},
     "output_type": "execute_result"
    }
   ],
   "source": [
    "# Reviews data set against batch data set\n",
    "\n",
    "smds['asin'].isin(bmds['asin']).value_counts()"
   ]
  },
  {
   "cell_type": "code",
   "execution_count": 35,
   "id": "dcf8d5e2",
   "metadata": {},
   "outputs": [
    {
     "ename": "NameError",
     "evalue": "name 'mods' is not defined",
     "output_type": "error",
     "traceback": [
      "\u001b[1;31m---------------------------------------------------------------------------\u001b[0m",
      "\u001b[1;31mNameError\u001b[0m                                 Traceback (most recent call last)",
      "\u001b[1;32m~\\AppData\\Local\\Temp/ipykernel_11380/2479467414.py\u001b[0m in \u001b[0;36m<module>\u001b[1;34m\u001b[0m\n\u001b[1;32m----> 1\u001b[1;33m \u001b[0mmods\u001b[0m\u001b[1;33m.\u001b[0m\u001b[0mhead\u001b[0m\u001b[1;33m(\u001b[0m\u001b[1;33m)\u001b[0m\u001b[1;33m\u001b[0m\u001b[1;33m\u001b[0m\u001b[0m\n\u001b[0m",
      "\u001b[1;31mNameError\u001b[0m: name 'mods' is not defined"
     ]
    }
   ],
   "source": [
    "mods.head()"
   ]
  },
  {
   "cell_type": "code",
   "execution_count": null,
   "id": "013a3e32",
   "metadata": {},
   "outputs": [],
   "source": [
    "# Using data set acronym as SoftWare Metadata Data Set as swmds\n",
    "\n",
    "datathon_metadata_pkt_731_file = \"/Users/dslab/Downloads/andres_metadata_music.parquet\"\n",
    "mds = pd.read_parquet(datathon_metadata_pkt_731_file, engine='pyarrow')"
   ]
  },
  {
   "cell_type": "code",
   "execution_count": null,
   "id": "69aeb4fd",
   "metadata": {},
   "outputs": [],
   "source": [
    "mds.shape"
   ]
  },
  {
   "cell_type": "code",
   "execution_count": null,
   "id": "af9646b2",
   "metadata": {},
   "outputs": [],
   "source": [
    "mds.head()"
   ]
  },
  {
   "cell_type": "code",
   "execution_count": null,
   "id": "c45dd415",
   "metadata": {},
   "outputs": [],
   "source": [
    "mds.tail()"
   ]
  },
  {
   "cell_type": "code",
   "execution_count": null,
   "id": "fae486be",
   "metadata": {},
   "outputs": [],
   "source": [
    "mds.columns"
   ]
  },
  {
   "cell_type": "code",
   "execution_count": null,
   "id": "37c50634",
   "metadata": {},
   "outputs": [],
   "source": [
    "# Acronym as New Metadata Data Set as nmds\n",
    "\n",
    "\n",
    "nmds = mds[['asin', 'brand', 'title']]\n",
    "nmds.head(1)"
   ]
  },
  {
   "cell_type": "code",
   "execution_count": null,
   "id": "023833d6",
   "metadata": {},
   "outputs": [],
   "source": [
    "nmds.shape"
   ]
  },
  {
   "cell_type": "code",
   "execution_count": null,
   "id": "5e1f3177",
   "metadata": {},
   "outputs": [],
   "source": [
    "bmds.shape"
   ]
  },
  {
   "cell_type": "code",
   "execution_count": null,
   "id": "7b7306e4",
   "metadata": {},
   "outputs": [],
   "source": [
    "bmds['asin'].describe()"
   ]
  },
  {
   "cell_type": "code",
   "execution_count": null,
   "id": "d99e24f8",
   "metadata": {},
   "outputs": [],
   "source": [
    "# Reviews data set against Metadata data set\n",
    "\n",
    "bmds['asin'].isin(nmds['asin']).value_counts()"
   ]
  },
  {
   "cell_type": "code",
   "execution_count": null,
   "id": "9a142493",
   "metadata": {},
   "outputs": [],
   "source": [
    "# Reviews data set against Metadata data set\n",
    "\n",
    "nmds['asin'].isin(bmds['asin']).value_counts()"
   ]
  },
  {
   "cell_type": "code",
   "execution_count": null,
   "id": "33120633",
   "metadata": {},
   "outputs": [],
   "source": [
    "bmds.sort_values(by = ['date'], inplace = True)\n",
    "bmds.reset_index(inplace = True, drop = True)\n",
    "bmds.head()"
   ]
  },
  {
   "cell_type": "code",
   "execution_count": null,
   "id": "1859dfa1",
   "metadata": {},
   "outputs": [],
   "source": [
    "bmds.tail()"
   ]
  },
  {
   "cell_type": "code",
   "execution_count": null,
   "id": "469a84aa",
   "metadata": {},
   "outputs": [],
   "source": [
    "# Using acronym One Data Set as ods\n",
    "\n",
    "mods = pd.merge(bmds, nmds, how='inner', on='asin')\n",
    "\n",
    "# Making sure all rows of Reviews are still at data set\n",
    "\n",
    "mods.shape"
   ]
  },
  {
   "cell_type": "code",
   "execution_count": null,
   "id": "1fe84ffe",
   "metadata": {},
   "outputs": [],
   "source": [
    "# Not sure why the increase during the merge, should have been 291,631\n",
    "\n",
    "311670 - 291631"
   ]
  },
  {
   "cell_type": "code",
   "execution_count": null,
   "id": "d72b73d6",
   "metadata": {},
   "outputs": [],
   "source": [
    "duplicates = mods[mods.duplicated()]\n",
    " \n",
    "print(\"Display of duplicated rows :\")\n",
    "duplicates"
   ]
  },
  {
   "cell_type": "code",
   "execution_count": null,
   "id": "035219a9",
   "metadata": {},
   "outputs": [],
   "source": [
    "# Checking the first asin of the list\n",
    "\n",
    "mods[mods['asin'] == 'B00005K9DV']"
   ]
  },
  {
   "cell_type": "code",
   "execution_count": null,
   "id": "9e1b98c8",
   "metadata": {},
   "outputs": [],
   "source": [
    "mods.drop_duplicates(keep='first', inplace=True)\n",
    "mods.shape"
   ]
  },
  {
   "cell_type": "code",
   "execution_count": null,
   "id": "a851804c",
   "metadata": {},
   "outputs": [],
   "source": [
    "duplicates = mods[mods.duplicated()]\n",
    " \n",
    "print(\"Display of duplicated rows :\")\n",
    "duplicates"
   ]
  },
  {
   "cell_type": "code",
   "execution_count": null,
   "id": "a39cf3cc",
   "metadata": {},
   "outputs": [],
   "source": [
    "mods.sort_values(by = ['date'], inplace = True)\n",
    "mods.reset_index(inplace = True, drop = True)\n",
    "mods.head()"
   ]
  },
  {
   "cell_type": "code",
   "execution_count": null,
   "id": "29150d0a",
   "metadata": {},
   "outputs": [],
   "source": [
    "mods.tail()"
   ]
  },
  {
   "cell_type": "code",
   "execution_count": null,
   "id": "d90b0c69",
   "metadata": {},
   "outputs": [],
   "source": [
    "mods.isnull().sum()"
   ]
  },
  {
   "cell_type": "code",
   "execution_count": null,
   "id": "33bdf4b9",
   "metadata": {},
   "outputs": [],
   "source": [
    "mods['brand'].value_counts()"
   ]
  },
  {
   "cell_type": "code",
   "execution_count": null,
   "id": "e94bdcc9",
   "metadata": {},
   "outputs": [],
   "source": [
    "mods['brand'].describe()"
   ]
  },
  {
   "cell_type": "code",
   "execution_count": null,
   "id": "633e1c8f",
   "metadata": {},
   "outputs": [],
   "source": [
    "grp_music_brands = mods.groupby(['brand'], as_index=False)['score'].sum()\n",
    "grp_music_brands"
   ]
  },
  {
   "cell_type": "code",
   "execution_count": null,
   "id": "b13a0487",
   "metadata": {},
   "outputs": [],
   "source": [
    "sorted_grp_music_brands = grp_music_brands.sort_values(by=[\"score\"], ascending = False)\n",
    "sorted_grp_music_brands.reset_index(inplace = True, drop = True)\n",
    "sorted_grp_music_brands.head(20)"
   ]
  },
  {
   "cell_type": "code",
   "execution_count": null,
   "id": "b7acb497",
   "metadata": {
    "scrolled": true
   },
   "outputs": [],
   "source": [
    "mods[mods['brand'] == '']"
   ]
  },
  {
   "cell_type": "code",
   "execution_count": null,
   "id": "3e3eb0f3",
   "metadata": {},
   "outputs": [],
   "source": [
    "mods[mods['asin'] == 'B0002KWXQM']"
   ]
  },
  {
   "cell_type": "code",
   "execution_count": null,
   "id": "f0260ebb",
   "metadata": {},
   "outputs": [],
   "source": [
    "mods[mods['asin'] == 'B00029X6NW']"
   ]
  },
  {
   "cell_type": "code",
   "execution_count": null,
   "id": "8a766954",
   "metadata": {},
   "outputs": [],
   "source": [
    "# Feature engineering by addign a constant that can be useful later before empty brand values clean up\n",
    "\n",
    "mods['cnt'] = pd.Series([1 for x in range(len(mods.index))])\n",
    "mods.head(1)"
   ]
  },
  {
   "cell_type": "code",
   "execution_count": null,
   "id": "ad56f43b",
   "metadata": {},
   "outputs": [],
   "source": [
    "# Clean mods without the brand that has no value then\n",
    "\n",
    "cmods = mods[mods['brand'] != '' ]\n",
    "cmods.shape"
   ]
  },
  {
   "cell_type": "code",
   "execution_count": null,
   "id": "5e435bf3",
   "metadata": {},
   "outputs": [],
   "source": [
    "cmods.head()"
   ]
  },
  {
   "cell_type": "code",
   "execution_count": null,
   "id": "6767e8ef",
   "metadata": {},
   "outputs": [],
   "source": [
    "# Now get a subset for visuals\n",
    "\n",
    "brand_n_score_timeline = mods[['date', 'brand', 'score','cnt', 'year']]\n",
    "brand_n_score_timeline.head()"
   ]
  },
  {
   "cell_type": "code",
   "execution_count": null,
   "id": "958aaaba",
   "metadata": {},
   "outputs": [],
   "source": [
    "brand_n_score_timeline.info()"
   ]
  },
  {
   "cell_type": "code",
   "execution_count": null,
   "id": "2fca7891",
   "metadata": {},
   "outputs": [],
   "source": [
    "# Create Univariate Histrogram of Music Category star distribution\n",
    "\n",
    "plt.figure(figsize=[10,5])\n",
    "\n",
    "plt.hist(brand_n_score_timeline['score'], bins=5, edgecolor='white', align='mid', color = 'green'); \n",
    "\n",
    "plt.xlabel(\"Stars\");\n",
    "plt.ylabel(\"Count\");\n",
    "plt.title(\"Star Reviews Distribution at Music Industry\");\n",
    "plt.show();"
   ]
  },
  {
   "cell_type": "code",
   "execution_count": null,
   "id": "47cc47ba",
   "metadata": {},
   "outputs": [],
   "source": [
    "# Group timeline subset using the mean on both columns\n",
    "\n",
    "mean_timeline_brand_ds = brand_n_score_timeline.groupby(['date'], as_index = False).mean()\n",
    "mean_timeline_brand_ds.head(6)"
   ]
  },
  {
   "cell_type": "code",
   "execution_count": null,
   "id": "02ddf274",
   "metadata": {},
   "outputs": [],
   "source": [
    "plt.figure(figsize=(18,8))\n",
    "y = mean_timeline_brand_ds['score']\n",
    "x = mean_timeline_brand_ds['date']\n",
    "plt.scatter(x,y).set_color(\"orange\");\n",
    "\n",
    "plt.yticks(range(1, 5))\n",
    "\n",
    "plt.title('Star Review Outcomes by Days Musical Category')\n",
    "plt.xlabel('Timeline in Days')\n",
    "plt.ylabel('Stars');"
   ]
  },
  {
   "cell_type": "code",
   "execution_count": null,
   "id": "689d2578",
   "metadata": {},
   "outputs": [],
   "source": [
    "# Group timeline subset using the year and mean on both columns\n",
    "\n",
    "year_mean_timeline_brand_ds = mean_timeline_brand_ds.groupby(['year'], as_index = False).mean()\n",
    "year_mean_timeline_brand_ds.head()"
   ]
  },
  {
   "cell_type": "code",
   "execution_count": null,
   "id": "80376ae9",
   "metadata": {},
   "outputs": [],
   "source": [
    "# Now plot by year\n",
    "\n",
    "plt.figure(figsize=(18,5))\n",
    "y = year_mean_timeline_brand_ds['score']\n",
    "x = year_mean_timeline_brand_ds['year']\n",
    "plt.scatter(x,y).set_color(\"orange\");\n",
    "\n",
    "plt.yticks(range(1, 5))\n",
    "plt.xticks([1998, 2002, 2006, 2010, 2014, 2018])\n",
    "\n",
    "plt.title('Star Review Average Outcome by Year Musical Category')\n",
    "plt.xlabel('Years')\n",
    "plt.ylabel('Stars');"
   ]
  },
  {
   "cell_type": "code",
   "execution_count": null,
   "id": "54d29894",
   "metadata": {},
   "outputs": [],
   "source": [
    "# Group timeline subset using sum on both columns\n",
    "\n",
    "sum_timeline_brand_ds = brand_n_score_timeline.groupby(['date'], as_index = False).sum()\n",
    "sum_timeline_brand_ds.head(6)"
   ]
  },
  {
   "cell_type": "code",
   "execution_count": null,
   "id": "28023f79",
   "metadata": {},
   "outputs": [],
   "source": [
    "plt.figure(figsize=(18,8))\n",
    "y = sum_timeline_brand_ds['cnt']\n",
    "x = sum_timeline_brand_ds['date']\n",
    "plt.scatter(x,y).set_color(\"purple\");\n",
    "\n",
    "plt.title('Reviews Count by Days Musical Category')\n",
    "plt.xlabel('Timeline in Days')\n",
    "plt.ylabel('Reviews');"
   ]
  },
  {
   "cell_type": "code",
   "execution_count": null,
   "id": "2268ab97",
   "metadata": {},
   "outputs": [],
   "source": [
    "# Likely will look better with a line plot\n",
    "\n",
    "plt.figure(figsize=(18,8))\n",
    "new_y_limit = sns.lineplot(x = 'date', y = 'cnt', data = sum_timeline_brand_ds, color = 'purple');\n",
    "\n",
    "#new_y_limit.set_ylim(0, 5)\n",
    "#new_y_limit.set_xlim(1998, 2018)\n",
    "\n",
    "#new_y_limit.set(xticks=[1998, 2002, 2006, 2010, 2014, 2018], yticks=[1, 2, 3, 4, 5])\n",
    "\n",
    "#Axes.set_xlim(self, left=None, right=None, emit=True, auto=False, *, xmin=None, xmax=None)\n",
    "#Axes.set_ylim(self, bottom=None, top=None, emit=True, auto=False, *, ymin=None, ymax=None)\n",
    "\n",
    "\n",
    "plt.title('Reviews Count by Days Musical Category')\n",
    "plt.xlabel('Timeline in Days')\n",
    "plt.ylabel('Reviews');"
   ]
  },
  {
   "cell_type": "code",
   "execution_count": null,
   "id": "c9a5989b",
   "metadata": {},
   "outputs": [],
   "source": [
    "# Seems we can benefit of a grouped year version of data\n",
    "\n",
    "# Group timeline subset using the year and sum on both columns\n",
    "\n",
    "year_sum_timeline_brand_ds = brand_n_score_timeline.groupby(['year'], as_index = False).sum()\n",
    "year_sum_timeline_brand_ds.head(6)"
   ]
  },
  {
   "cell_type": "code",
   "execution_count": null,
   "id": "dfadb9cd",
   "metadata": {},
   "outputs": [],
   "source": [
    "# Likely will look better with a line plot\n",
    "\n",
    "plt.figure(figsize=(20,6))\n",
    "new_yrs_limit = sns.lineplot(x = 'year', y = 'cnt', data = year_sum_timeline_brand_ds, color = 'purple');\n",
    "\n",
    "new_yrs_limit.set(xticks=[1998, 2002, 2006, 2010, 2014, 2018])\n",
    "\n",
    "plt.title('Reviews Count by Years Musical Category')\n",
    "plt.xlabel('Timeline in Years')\n",
    "plt.ylabel('Reviews');"
   ]
  },
  {
   "cell_type": "code",
   "execution_count": null,
   "id": "352093e5",
   "metadata": {},
   "outputs": [],
   "source": [
    "# A final summary statistics overview of the scores\n",
    "\n",
    "brand_n_score_timeline['score'].describe()"
   ]
  },
  {
   "cell_type": "code",
   "execution_count": null,
   "id": "bf321ccd",
   "metadata": {},
   "outputs": [],
   "source": [
    "brand_n_score_timeline['score'].value_counts()"
   ]
  },
  {
   "cell_type": "code",
   "execution_count": null,
   "id": "84c3b1e5",
   "metadata": {},
   "outputs": [],
   "source": [
    "# Counting total of 5 stars records\n",
    "\n",
    "fivestar_ds = cmods[cmods['score'] == 5]\n",
    "fivestar_ds.shape"
   ]
  },
  {
   "cell_type": "code",
   "execution_count": null,
   "id": "4244e7b2",
   "metadata": {},
   "outputs": [],
   "source": [
    "# Counting total of 4 stars records\n",
    "\n",
    "fourstar_ds = cmodsrds[rds['score'] == 4]\n",
    "fourstar_ds.shape"
   ]
  },
  {
   "cell_type": "code",
   "execution_count": null,
   "id": "a06d8cd1",
   "metadata": {},
   "outputs": [],
   "source": [
    "# Counting total of 3 stars records\n",
    "\n",
    "threestar_ds = rds[rds['score'] == 3]\n",
    "threestar_ds.shape"
   ]
  },
  {
   "cell_type": "code",
   "execution_count": null,
   "id": "87a90cd1",
   "metadata": {},
   "outputs": [],
   "source": [
    "# Counting total of 2 stars records\n",
    "\n",
    "twostar_ds = rds[rds['score'] == 2]\n",
    "twostar_ds.shape"
   ]
  },
  {
   "cell_type": "code",
   "execution_count": null,
   "id": "1fcfb5fb",
   "metadata": {},
   "outputs": [],
   "source": [
    "# Counting total of 1 star records\n",
    "\n",
    "onestar_ds = rds[rds['score'] == 1]\n",
    "onestar_ds.shape"
   ]
  },
  {
   "cell_type": "code",
   "execution_count": null,
   "id": "1bf41d62",
   "metadata": {},
   "outputs": [],
   "source": [
    "grp_by_year_and_score_brand = brand_n_score_timeline.groupby(['year','score']).count().reset_index()\n",
    "grp_by_year_and_score_brand.drop(['date'], axis = 1, inplace = True)\n",
    "display(grp_by_year_and_score_brand)"
   ]
  },
  {
   "cell_type": "code",
   "execution_count": null,
   "id": "5c52e30a",
   "metadata": {},
   "outputs": [],
   "source": [
    "grp_by_year_and_score_brand.columns"
   ]
  },
  {
   "cell_type": "code",
   "execution_count": null,
   "id": "40e680c4",
   "metadata": {},
   "outputs": [],
   "source": [
    "# Combining all of the score per group of star rating over the years with lines\n",
    "\n",
    "plt.figure(figsize=(20,6))\n",
    "score_combo_limits = sns.lineplot(x='year', y='cnt', hue='score', data=grp_by_year_and_score_brand, palette=['r', 'g', 'b', 'y', 'c'], linewidth=2.5);\n",
    "\n",
    "#score_combo_limits = sns.lineplot(x='year', y='cnt', hue='score', data=grp_by_year_and_score, linewidth=2.5);\n",
    "\n",
    "score_combo_limits.set(xticks=[1998, 2002, 2006, 2010, 2014, 2018])\n",
    "\n",
    "plt.title('Reviews Count by Years Music Category')\n",
    "plt.xlabel('Timeline in Years')\n",
    "plt.ylabel('Reviews');"
   ]
  },
  {
   "cell_type": "code",
   "execution_count": null,
   "id": "d3d8ad1c",
   "metadata": {},
   "outputs": [],
   "source": [
    "# Combining all of the score per group of star rating over the years with a scatter plot\n",
    "\n",
    "plt.figure(figsize=(20,6))\n",
    "score_combo_s_limits = sns.scatterplot(x='year', y='cnt', hue='score', data=grp_by_year_and_score_brand, palette=['r', 'g', 'b', 'y', 'c']);\n",
    "\n",
    "score_combo_s_limits.set(xticks=[1998, 2002, 2006, 2010, 2014, 2018])\n",
    "\n",
    "plt.title('Reviews Count by Years')\n",
    "plt.xlabel('Timeline in Years')\n",
    "plt.ylabel('Reviews');"
   ]
  },
  {
   "cell_type": "markdown",
   "id": "8a63c249",
   "metadata": {},
   "source": [
    "<div class=\"alert alert-block alert-warning\">\n",
    "\n",
    "<h2> Process Insights 8/4/2023</h2>\n",
    "-------------------------------------------------------------------------------------------------------------------------------\n",
    "\n",
    "    \n",
    "- There is an overall trend towards more reviews over time accentuated since 2013 which is a good thing as more data can be leveraged on, however, the trend reaches it's peak at year 2016 and then goes back in 2017 to a similar data point as the year prior to the peak (back to 2015 numbers). Then 2018 while incomplete, still seems to now might be less than 2015 yet data might be incomplete so needs to be confirmed once the 2018 data is complete. It therefore, follows the general Amazon trend.\n",
    "- Score/Review of 1 star only accounts for 13,502 of the 287,123 reviews which is 4.70%.\n",
    "- Score/Review of 4 stars accounts for 44,454 of the 287,123 reviews which is 15.48%.\n",
    "- Score/Review of 5 stars accounts for 183,690 of the 287,123 reviews which is 63.98%.\n",
    "    \n",
    "    \n",
    "\n",
    "<h3> It is an overwhelming mayority of positive reviews (79.46% with either 5 or 4 stars and mean of 4.21 stars) which allows to better extract what is that consumers like and/or enjoy the most which allows to suggest new products and/or predict customer satisfaction per market needs. \n",
    "</h3> \n",
    "    \n",
    "<h3> Now we need to move into an specific companies so we can select one to target to benefit from the insights related to brand health and improvement. \n",
    "</h3> \n",
    "       \n",
    "</div>\n"
   ]
  }
 ],
 "metadata": {
  "kernelspec": {
   "display_name": "Python 3 (ipykernel)",
   "language": "python",
   "name": "python3"
  },
  "language_info": {
   "codemirror_mode": {
    "name": "ipython",
    "version": 3
   },
   "file_extension": ".py",
   "mimetype": "text/x-python",
   "name": "python",
   "nbconvert_exporter": "python",
   "pygments_lexer": "ipython3",
   "version": "3.9.7"
  }
 },
 "nbformat": 4,
 "nbformat_minor": 5
}
